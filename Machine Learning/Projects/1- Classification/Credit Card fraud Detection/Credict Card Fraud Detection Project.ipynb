{
 "cells": [
  {
   "cell_type": "markdown",
   "id": "6e99247f",
   "metadata": {},
   "source": [
    "# Table of Contents\n",
    "<a id=\"toc\"></a>\n",
    "- [1. Project Description](#1)\n",
    "- [2. Import Necssaries Libraries](#2)\n",
    "- [3. EDA and preproecessing](#3)\n",
    "- [4. Feature Scaling](#4)\n",
    "- [5. Feature Engineering](#5)\n",
    "- [6. Assigning Feature and target variables](#6)\n",
    "- [7. Spliting the data into Training and Testing Data](#7)\n",
    "- [8. Modeling](#8)\n",
    "    - [8.1 Logistic Regression](#8.1)\n",
    "    - [8.2 Random Forest](#8.2)\n",
    "    - [8.3 KNN](#8.3)\n",
    "    - [8.4 Bagging](#8.4)\n",
    "    - [8.5 Gradient Boosting](#8.5)\n",
    "    - [8.6 Decision Tree](#8.6)\n",
    "    - [8.7 SVM](#8.7)\n",
    "- [9. TP, TN, FP, FN](#9)\n",
    "    - [9.1 Gradient Boosting](#9.1)\n",
    "    - [9.2 Logistic Regression](#9.2)\n",
    "    - [9.3 Random Forest](#9.3)\n",
    "    - [9.4 KNN](#9.4)\n",
    "    - [9.5 Bagging](#9.5)\n",
    "    - [9.6 Decision Tree](#9.6)\n",
    "    - [9.7 SVM](#9.7)\n",
    "- [10. Auto Machine Learning](#10)"
   ]
  },
  {
   "cell_type": "markdown",
   "id": "0cad39ca",
   "metadata": {},
   "source": [
    "<a id='2'></a>\n",
    "# Import Necssaries Libraries"
   ]
  },
  {
   "cell_type": "code",
   "execution_count": 158,
   "id": "13fb301c",
   "metadata": {
    "ExecuteTime": {
     "end_time": "2022-01-08T22:43:37.723244Z",
     "start_time": "2022-01-08T22:43:37.707625Z"
    }
   },
   "outputs": [],
   "source": [
    "import numpy as np\n",
    "import pandas as pd\n",
    "from matplotlib import pyplot as plt\n",
    "%matplotlib inline\n",
    "import seaborn as sns\n",
    "\n",
    "from sklearn.model_selection import train_test_split, cross_val_score\n",
    "from sklearn.preprocessing import LabelEncoder, StandardScaler\n",
    "from sklearn.metrics import  confusion_matrix, classification_report, roc_curve, auc, RocCurveDisplay\n",
    "from sklearn.linear_model import LogisticRegression\n",
    "from sklearn.ensemble import RandomForestClassifier, BaggingClassifier, GradientBoostingClassifier\n",
    "from sklearn.tree import DecisionTreeClassifier\n",
    "from sklearn.neighbors import KNeighborsClassifier\n",
    "from sklearn.svm import SVC\n",
    "from xgboost import XGBClassifier\n",
    "from tpot import TPOTClassifier\n",
    "\n",
    "import warnings\n",
    "warnings.filterwarnings(\"ignore\")"
   ]
  },
  {
   "cell_type": "markdown",
   "id": "cc14c441",
   "metadata": {},
   "source": [
    "<a id='3'></a>\n",
    "# EDA and preprocessing"
   ]
  },
  {
   "cell_type": "code",
   "execution_count": 6,
   "id": "a6851f90",
   "metadata": {
    "ExecuteTime": {
     "end_time": "2022-01-08T20:36:18.125436Z",
     "start_time": "2022-01-08T20:36:15.748582Z"
    }
   },
   "outputs": [
    {
     "data": {
      "text/html": [
       "<div>\n",
       "<style scoped>\n",
       "    .dataframe tbody tr th:only-of-type {\n",
       "        vertical-align: middle;\n",
       "    }\n",
       "\n",
       "    .dataframe tbody tr th {\n",
       "        vertical-align: top;\n",
       "    }\n",
       "\n",
       "    .dataframe thead th {\n",
       "        text-align: right;\n",
       "    }\n",
       "</style>\n",
       "<table border=\"1\" class=\"dataframe\">\n",
       "  <thead>\n",
       "    <tr style=\"text-align: right;\">\n",
       "      <th></th>\n",
       "      <th>Time</th>\n",
       "      <th>V1</th>\n",
       "      <th>V2</th>\n",
       "      <th>V3</th>\n",
       "      <th>V4</th>\n",
       "      <th>V5</th>\n",
       "      <th>V6</th>\n",
       "      <th>V7</th>\n",
       "      <th>V8</th>\n",
       "      <th>V9</th>\n",
       "      <th>...</th>\n",
       "      <th>V21</th>\n",
       "      <th>V22</th>\n",
       "      <th>V23</th>\n",
       "      <th>V24</th>\n",
       "      <th>V25</th>\n",
       "      <th>V26</th>\n",
       "      <th>V27</th>\n",
       "      <th>V28</th>\n",
       "      <th>Amount</th>\n",
       "      <th>Class</th>\n",
       "    </tr>\n",
       "  </thead>\n",
       "  <tbody>\n",
       "    <tr>\n",
       "      <th>0</th>\n",
       "      <td>0.0</td>\n",
       "      <td>-1.359807</td>\n",
       "      <td>-0.072781</td>\n",
       "      <td>2.536347</td>\n",
       "      <td>1.378155</td>\n",
       "      <td>-0.338321</td>\n",
       "      <td>0.462388</td>\n",
       "      <td>0.239599</td>\n",
       "      <td>0.098698</td>\n",
       "      <td>0.363787</td>\n",
       "      <td>...</td>\n",
       "      <td>-0.018307</td>\n",
       "      <td>0.277838</td>\n",
       "      <td>-0.110474</td>\n",
       "      <td>0.066928</td>\n",
       "      <td>0.128539</td>\n",
       "      <td>-0.189115</td>\n",
       "      <td>0.133558</td>\n",
       "      <td>-0.021053</td>\n",
       "      <td>149.62</td>\n",
       "      <td>0</td>\n",
       "    </tr>\n",
       "    <tr>\n",
       "      <th>1</th>\n",
       "      <td>0.0</td>\n",
       "      <td>1.191857</td>\n",
       "      <td>0.266151</td>\n",
       "      <td>0.166480</td>\n",
       "      <td>0.448154</td>\n",
       "      <td>0.060018</td>\n",
       "      <td>-0.082361</td>\n",
       "      <td>-0.078803</td>\n",
       "      <td>0.085102</td>\n",
       "      <td>-0.255425</td>\n",
       "      <td>...</td>\n",
       "      <td>-0.225775</td>\n",
       "      <td>-0.638672</td>\n",
       "      <td>0.101288</td>\n",
       "      <td>-0.339846</td>\n",
       "      <td>0.167170</td>\n",
       "      <td>0.125895</td>\n",
       "      <td>-0.008983</td>\n",
       "      <td>0.014724</td>\n",
       "      <td>2.69</td>\n",
       "      <td>0</td>\n",
       "    </tr>\n",
       "    <tr>\n",
       "      <th>2</th>\n",
       "      <td>1.0</td>\n",
       "      <td>-1.358354</td>\n",
       "      <td>-1.340163</td>\n",
       "      <td>1.773209</td>\n",
       "      <td>0.379780</td>\n",
       "      <td>-0.503198</td>\n",
       "      <td>1.800499</td>\n",
       "      <td>0.791461</td>\n",
       "      <td>0.247676</td>\n",
       "      <td>-1.514654</td>\n",
       "      <td>...</td>\n",
       "      <td>0.247998</td>\n",
       "      <td>0.771679</td>\n",
       "      <td>0.909412</td>\n",
       "      <td>-0.689281</td>\n",
       "      <td>-0.327642</td>\n",
       "      <td>-0.139097</td>\n",
       "      <td>-0.055353</td>\n",
       "      <td>-0.059752</td>\n",
       "      <td>378.66</td>\n",
       "      <td>0</td>\n",
       "    </tr>\n",
       "    <tr>\n",
       "      <th>3</th>\n",
       "      <td>1.0</td>\n",
       "      <td>-0.966272</td>\n",
       "      <td>-0.185226</td>\n",
       "      <td>1.792993</td>\n",
       "      <td>-0.863291</td>\n",
       "      <td>-0.010309</td>\n",
       "      <td>1.247203</td>\n",
       "      <td>0.237609</td>\n",
       "      <td>0.377436</td>\n",
       "      <td>-1.387024</td>\n",
       "      <td>...</td>\n",
       "      <td>-0.108300</td>\n",
       "      <td>0.005274</td>\n",
       "      <td>-0.190321</td>\n",
       "      <td>-1.175575</td>\n",
       "      <td>0.647376</td>\n",
       "      <td>-0.221929</td>\n",
       "      <td>0.062723</td>\n",
       "      <td>0.061458</td>\n",
       "      <td>123.50</td>\n",
       "      <td>0</td>\n",
       "    </tr>\n",
       "    <tr>\n",
       "      <th>4</th>\n",
       "      <td>2.0</td>\n",
       "      <td>-1.158233</td>\n",
       "      <td>0.877737</td>\n",
       "      <td>1.548718</td>\n",
       "      <td>0.403034</td>\n",
       "      <td>-0.407193</td>\n",
       "      <td>0.095921</td>\n",
       "      <td>0.592941</td>\n",
       "      <td>-0.270533</td>\n",
       "      <td>0.817739</td>\n",
       "      <td>...</td>\n",
       "      <td>-0.009431</td>\n",
       "      <td>0.798278</td>\n",
       "      <td>-0.137458</td>\n",
       "      <td>0.141267</td>\n",
       "      <td>-0.206010</td>\n",
       "      <td>0.502292</td>\n",
       "      <td>0.219422</td>\n",
       "      <td>0.215153</td>\n",
       "      <td>69.99</td>\n",
       "      <td>0</td>\n",
       "    </tr>\n",
       "  </tbody>\n",
       "</table>\n",
       "<p>5 rows × 31 columns</p>\n",
       "</div>"
      ],
      "text/plain": [
       "   Time        V1        V2        V3        V4        V5        V6        V7  \\\n",
       "0   0.0 -1.359807 -0.072781  2.536347  1.378155 -0.338321  0.462388  0.239599   \n",
       "1   0.0  1.191857  0.266151  0.166480  0.448154  0.060018 -0.082361 -0.078803   \n",
       "2   1.0 -1.358354 -1.340163  1.773209  0.379780 -0.503198  1.800499  0.791461   \n",
       "3   1.0 -0.966272 -0.185226  1.792993 -0.863291 -0.010309  1.247203  0.237609   \n",
       "4   2.0 -1.158233  0.877737  1.548718  0.403034 -0.407193  0.095921  0.592941   \n",
       "\n",
       "         V8        V9  ...       V21       V22       V23       V24       V25  \\\n",
       "0  0.098698  0.363787  ... -0.018307  0.277838 -0.110474  0.066928  0.128539   \n",
       "1  0.085102 -0.255425  ... -0.225775 -0.638672  0.101288 -0.339846  0.167170   \n",
       "2  0.247676 -1.514654  ...  0.247998  0.771679  0.909412 -0.689281 -0.327642   \n",
       "3  0.377436 -1.387024  ... -0.108300  0.005274 -0.190321 -1.175575  0.647376   \n",
       "4 -0.270533  0.817739  ... -0.009431  0.798278 -0.137458  0.141267 -0.206010   \n",
       "\n",
       "        V26       V27       V28  Amount  Class  \n",
       "0 -0.189115  0.133558 -0.021053  149.62      0  \n",
       "1  0.125895 -0.008983  0.014724    2.69      0  \n",
       "2 -0.139097 -0.055353 -0.059752  378.66      0  \n",
       "3 -0.221929  0.062723  0.061458  123.50      0  \n",
       "4  0.502292  0.219422  0.215153   69.99      0  \n",
       "\n",
       "[5 rows x 31 columns]"
      ]
     },
     "execution_count": 6,
     "metadata": {},
     "output_type": "execute_result"
    }
   ],
   "source": [
    "df = pd.read_csv('creditcard.zip')\n",
    "df.head()"
   ]
  },
  {
   "cell_type": "code",
   "execution_count": 7,
   "id": "26da6523",
   "metadata": {
    "ExecuteTime": {
     "end_time": "2022-01-08T20:36:55.323486Z",
     "start_time": "2022-01-08T20:36:55.318474Z"
    }
   },
   "outputs": [
    {
     "name": "stdout",
     "output_type": "stream",
     "text": [
      "data has 284807 rows and 31 columns\n"
     ]
    }
   ],
   "source": [
    "print(f\"data has {df.shape[0]} rows and {df.shape[1]} columns\")"
   ]
  },
  {
   "cell_type": "code",
   "execution_count": 8,
   "id": "42ee611b",
   "metadata": {
    "ExecuteTime": {
     "end_time": "2022-01-08T20:36:57.461167Z",
     "start_time": "2022-01-08T20:36:57.437263Z"
    }
   },
   "outputs": [
    {
     "data": {
      "text/html": [
       "<div>\n",
       "<style scoped>\n",
       "    .dataframe tbody tr th:only-of-type {\n",
       "        vertical-align: middle;\n",
       "    }\n",
       "\n",
       "    .dataframe tbody tr th {\n",
       "        vertical-align: top;\n",
       "    }\n",
       "\n",
       "    .dataframe thead th {\n",
       "        text-align: right;\n",
       "    }\n",
       "</style>\n",
       "<table border=\"1\" class=\"dataframe\">\n",
       "  <thead>\n",
       "    <tr style=\"text-align: right;\">\n",
       "      <th></th>\n",
       "      <th>Time</th>\n",
       "      <th>V1</th>\n",
       "      <th>V2</th>\n",
       "      <th>V3</th>\n",
       "      <th>V4</th>\n",
       "      <th>V5</th>\n",
       "      <th>V6</th>\n",
       "      <th>V7</th>\n",
       "      <th>V8</th>\n",
       "      <th>V9</th>\n",
       "      <th>...</th>\n",
       "      <th>V21</th>\n",
       "      <th>V22</th>\n",
       "      <th>V23</th>\n",
       "      <th>V24</th>\n",
       "      <th>V25</th>\n",
       "      <th>V26</th>\n",
       "      <th>V27</th>\n",
       "      <th>V28</th>\n",
       "      <th>Amount</th>\n",
       "      <th>Class</th>\n",
       "    </tr>\n",
       "  </thead>\n",
       "  <tbody>\n",
       "    <tr>\n",
       "      <th>284802</th>\n",
       "      <td>172786.0</td>\n",
       "      <td>-11.881118</td>\n",
       "      <td>10.071785</td>\n",
       "      <td>-9.834783</td>\n",
       "      <td>-2.066656</td>\n",
       "      <td>-5.364473</td>\n",
       "      <td>-2.606837</td>\n",
       "      <td>-4.918215</td>\n",
       "      <td>7.305334</td>\n",
       "      <td>1.914428</td>\n",
       "      <td>...</td>\n",
       "      <td>0.213454</td>\n",
       "      <td>0.111864</td>\n",
       "      <td>1.014480</td>\n",
       "      <td>-0.509348</td>\n",
       "      <td>1.436807</td>\n",
       "      <td>0.250034</td>\n",
       "      <td>0.943651</td>\n",
       "      <td>0.823731</td>\n",
       "      <td>0.77</td>\n",
       "      <td>0</td>\n",
       "    </tr>\n",
       "    <tr>\n",
       "      <th>284803</th>\n",
       "      <td>172787.0</td>\n",
       "      <td>-0.732789</td>\n",
       "      <td>-0.055080</td>\n",
       "      <td>2.035030</td>\n",
       "      <td>-0.738589</td>\n",
       "      <td>0.868229</td>\n",
       "      <td>1.058415</td>\n",
       "      <td>0.024330</td>\n",
       "      <td>0.294869</td>\n",
       "      <td>0.584800</td>\n",
       "      <td>...</td>\n",
       "      <td>0.214205</td>\n",
       "      <td>0.924384</td>\n",
       "      <td>0.012463</td>\n",
       "      <td>-1.016226</td>\n",
       "      <td>-0.606624</td>\n",
       "      <td>-0.395255</td>\n",
       "      <td>0.068472</td>\n",
       "      <td>-0.053527</td>\n",
       "      <td>24.79</td>\n",
       "      <td>0</td>\n",
       "    </tr>\n",
       "    <tr>\n",
       "      <th>284804</th>\n",
       "      <td>172788.0</td>\n",
       "      <td>1.919565</td>\n",
       "      <td>-0.301254</td>\n",
       "      <td>-3.249640</td>\n",
       "      <td>-0.557828</td>\n",
       "      <td>2.630515</td>\n",
       "      <td>3.031260</td>\n",
       "      <td>-0.296827</td>\n",
       "      <td>0.708417</td>\n",
       "      <td>0.432454</td>\n",
       "      <td>...</td>\n",
       "      <td>0.232045</td>\n",
       "      <td>0.578229</td>\n",
       "      <td>-0.037501</td>\n",
       "      <td>0.640134</td>\n",
       "      <td>0.265745</td>\n",
       "      <td>-0.087371</td>\n",
       "      <td>0.004455</td>\n",
       "      <td>-0.026561</td>\n",
       "      <td>67.88</td>\n",
       "      <td>0</td>\n",
       "    </tr>\n",
       "    <tr>\n",
       "      <th>284805</th>\n",
       "      <td>172788.0</td>\n",
       "      <td>-0.240440</td>\n",
       "      <td>0.530483</td>\n",
       "      <td>0.702510</td>\n",
       "      <td>0.689799</td>\n",
       "      <td>-0.377961</td>\n",
       "      <td>0.623708</td>\n",
       "      <td>-0.686180</td>\n",
       "      <td>0.679145</td>\n",
       "      <td>0.392087</td>\n",
       "      <td>...</td>\n",
       "      <td>0.265245</td>\n",
       "      <td>0.800049</td>\n",
       "      <td>-0.163298</td>\n",
       "      <td>0.123205</td>\n",
       "      <td>-0.569159</td>\n",
       "      <td>0.546668</td>\n",
       "      <td>0.108821</td>\n",
       "      <td>0.104533</td>\n",
       "      <td>10.00</td>\n",
       "      <td>0</td>\n",
       "    </tr>\n",
       "    <tr>\n",
       "      <th>284806</th>\n",
       "      <td>172792.0</td>\n",
       "      <td>-0.533413</td>\n",
       "      <td>-0.189733</td>\n",
       "      <td>0.703337</td>\n",
       "      <td>-0.506271</td>\n",
       "      <td>-0.012546</td>\n",
       "      <td>-0.649617</td>\n",
       "      <td>1.577006</td>\n",
       "      <td>-0.414650</td>\n",
       "      <td>0.486180</td>\n",
       "      <td>...</td>\n",
       "      <td>0.261057</td>\n",
       "      <td>0.643078</td>\n",
       "      <td>0.376777</td>\n",
       "      <td>0.008797</td>\n",
       "      <td>-0.473649</td>\n",
       "      <td>-0.818267</td>\n",
       "      <td>-0.002415</td>\n",
       "      <td>0.013649</td>\n",
       "      <td>217.00</td>\n",
       "      <td>0</td>\n",
       "    </tr>\n",
       "  </tbody>\n",
       "</table>\n",
       "<p>5 rows × 31 columns</p>\n",
       "</div>"
      ],
      "text/plain": [
       "            Time         V1         V2        V3        V4        V5  \\\n",
       "284802  172786.0 -11.881118  10.071785 -9.834783 -2.066656 -5.364473   \n",
       "284803  172787.0  -0.732789  -0.055080  2.035030 -0.738589  0.868229   \n",
       "284804  172788.0   1.919565  -0.301254 -3.249640 -0.557828  2.630515   \n",
       "284805  172788.0  -0.240440   0.530483  0.702510  0.689799 -0.377961   \n",
       "284806  172792.0  -0.533413  -0.189733  0.703337 -0.506271 -0.012546   \n",
       "\n",
       "              V6        V7        V8        V9  ...       V21       V22  \\\n",
       "284802 -2.606837 -4.918215  7.305334  1.914428  ...  0.213454  0.111864   \n",
       "284803  1.058415  0.024330  0.294869  0.584800  ...  0.214205  0.924384   \n",
       "284804  3.031260 -0.296827  0.708417  0.432454  ...  0.232045  0.578229   \n",
       "284805  0.623708 -0.686180  0.679145  0.392087  ...  0.265245  0.800049   \n",
       "284806 -0.649617  1.577006 -0.414650  0.486180  ...  0.261057  0.643078   \n",
       "\n",
       "             V23       V24       V25       V26       V27       V28  Amount  \\\n",
       "284802  1.014480 -0.509348  1.436807  0.250034  0.943651  0.823731    0.77   \n",
       "284803  0.012463 -1.016226 -0.606624 -0.395255  0.068472 -0.053527   24.79   \n",
       "284804 -0.037501  0.640134  0.265745 -0.087371  0.004455 -0.026561   67.88   \n",
       "284805 -0.163298  0.123205 -0.569159  0.546668  0.108821  0.104533   10.00   \n",
       "284806  0.376777  0.008797 -0.473649 -0.818267 -0.002415  0.013649  217.00   \n",
       "\n",
       "        Class  \n",
       "284802      0  \n",
       "284803      0  \n",
       "284804      0  \n",
       "284805      0  \n",
       "284806      0  \n",
       "\n",
       "[5 rows x 31 columns]"
      ]
     },
     "execution_count": 8,
     "metadata": {},
     "output_type": "execute_result"
    }
   ],
   "source": [
    "df.tail()"
   ]
  },
  {
   "cell_type": "code",
   "execution_count": 9,
   "id": "74dcfc46",
   "metadata": {
    "ExecuteTime": {
     "end_time": "2022-01-08T20:36:59.089119Z",
     "start_time": "2022-01-08T20:36:59.044238Z"
    }
   },
   "outputs": [
    {
     "name": "stdout",
     "output_type": "stream",
     "text": [
      "<class 'pandas.core.frame.DataFrame'>\n",
      "RangeIndex: 284807 entries, 0 to 284806\n",
      "Data columns (total 31 columns):\n",
      " #   Column  Non-Null Count   Dtype  \n",
      "---  ------  --------------   -----  \n",
      " 0   Time    284807 non-null  float64\n",
      " 1   V1      284807 non-null  float64\n",
      " 2   V2      284807 non-null  float64\n",
      " 3   V3      284807 non-null  float64\n",
      " 4   V4      284807 non-null  float64\n",
      " 5   V5      284807 non-null  float64\n",
      " 6   V6      284807 non-null  float64\n",
      " 7   V7      284807 non-null  float64\n",
      " 8   V8      284807 non-null  float64\n",
      " 9   V9      284807 non-null  float64\n",
      " 10  V10     284807 non-null  float64\n",
      " 11  V11     284807 non-null  float64\n",
      " 12  V12     284807 non-null  float64\n",
      " 13  V13     284807 non-null  float64\n",
      " 14  V14     284807 non-null  float64\n",
      " 15  V15     284807 non-null  float64\n",
      " 16  V16     284807 non-null  float64\n",
      " 17  V17     284807 non-null  float64\n",
      " 18  V18     284807 non-null  float64\n",
      " 19  V19     284807 non-null  float64\n",
      " 20  V20     284807 non-null  float64\n",
      " 21  V21     284807 non-null  float64\n",
      " 22  V22     284807 non-null  float64\n",
      " 23  V23     284807 non-null  float64\n",
      " 24  V24     284807 non-null  float64\n",
      " 25  V25     284807 non-null  float64\n",
      " 26  V26     284807 non-null  float64\n",
      " 27  V27     284807 non-null  float64\n",
      " 28  V28     284807 non-null  float64\n",
      " 29  Amount  284807 non-null  float64\n",
      " 30  Class   284807 non-null  int64  \n",
      "dtypes: float64(30), int64(1)\n",
      "memory usage: 67.4 MB\n"
     ]
    }
   ],
   "source": [
    "df.info()"
   ]
  },
  {
   "cell_type": "code",
   "execution_count": 10,
   "id": "5ad33d7c",
   "metadata": {
    "ExecuteTime": {
     "end_time": "2022-01-08T20:37:00.257800Z",
     "start_time": "2022-01-08T20:36:59.917397Z"
    }
   },
   "outputs": [
    {
     "data": {
      "text/html": [
       "<div>\n",
       "<style scoped>\n",
       "    .dataframe tbody tr th:only-of-type {\n",
       "        vertical-align: middle;\n",
       "    }\n",
       "\n",
       "    .dataframe tbody tr th {\n",
       "        vertical-align: top;\n",
       "    }\n",
       "\n",
       "    .dataframe thead th {\n",
       "        text-align: right;\n",
       "    }\n",
       "</style>\n",
       "<table border=\"1\" class=\"dataframe\">\n",
       "  <thead>\n",
       "    <tr style=\"text-align: right;\">\n",
       "      <th></th>\n",
       "      <th>Time</th>\n",
       "      <th>V1</th>\n",
       "      <th>V2</th>\n",
       "      <th>V3</th>\n",
       "      <th>V4</th>\n",
       "      <th>V5</th>\n",
       "      <th>V6</th>\n",
       "      <th>V7</th>\n",
       "      <th>V8</th>\n",
       "      <th>V9</th>\n",
       "      <th>...</th>\n",
       "      <th>V21</th>\n",
       "      <th>V22</th>\n",
       "      <th>V23</th>\n",
       "      <th>V24</th>\n",
       "      <th>V25</th>\n",
       "      <th>V26</th>\n",
       "      <th>V27</th>\n",
       "      <th>V28</th>\n",
       "      <th>Amount</th>\n",
       "      <th>Class</th>\n",
       "    </tr>\n",
       "  </thead>\n",
       "  <tbody>\n",
       "    <tr>\n",
       "      <th>count</th>\n",
       "      <td>284807.000000</td>\n",
       "      <td>2.848070e+05</td>\n",
       "      <td>2.848070e+05</td>\n",
       "      <td>2.848070e+05</td>\n",
       "      <td>2.848070e+05</td>\n",
       "      <td>2.848070e+05</td>\n",
       "      <td>2.848070e+05</td>\n",
       "      <td>2.848070e+05</td>\n",
       "      <td>2.848070e+05</td>\n",
       "      <td>2.848070e+05</td>\n",
       "      <td>...</td>\n",
       "      <td>2.848070e+05</td>\n",
       "      <td>2.848070e+05</td>\n",
       "      <td>2.848070e+05</td>\n",
       "      <td>2.848070e+05</td>\n",
       "      <td>2.848070e+05</td>\n",
       "      <td>2.848070e+05</td>\n",
       "      <td>2.848070e+05</td>\n",
       "      <td>2.848070e+05</td>\n",
       "      <td>284807.000000</td>\n",
       "      <td>284807.000000</td>\n",
       "    </tr>\n",
       "    <tr>\n",
       "      <th>mean</th>\n",
       "      <td>94813.859575</td>\n",
       "      <td>3.918649e-15</td>\n",
       "      <td>5.682686e-16</td>\n",
       "      <td>-8.761736e-15</td>\n",
       "      <td>2.811118e-15</td>\n",
       "      <td>-1.552103e-15</td>\n",
       "      <td>2.040130e-15</td>\n",
       "      <td>-1.698953e-15</td>\n",
       "      <td>-1.893285e-16</td>\n",
       "      <td>-3.147640e-15</td>\n",
       "      <td>...</td>\n",
       "      <td>1.473120e-16</td>\n",
       "      <td>8.042109e-16</td>\n",
       "      <td>5.282512e-16</td>\n",
       "      <td>4.456271e-15</td>\n",
       "      <td>1.426896e-15</td>\n",
       "      <td>1.701640e-15</td>\n",
       "      <td>-3.662252e-16</td>\n",
       "      <td>-1.217809e-16</td>\n",
       "      <td>88.349619</td>\n",
       "      <td>0.001727</td>\n",
       "    </tr>\n",
       "    <tr>\n",
       "      <th>std</th>\n",
       "      <td>47488.145955</td>\n",
       "      <td>1.958696e+00</td>\n",
       "      <td>1.651309e+00</td>\n",
       "      <td>1.516255e+00</td>\n",
       "      <td>1.415869e+00</td>\n",
       "      <td>1.380247e+00</td>\n",
       "      <td>1.332271e+00</td>\n",
       "      <td>1.237094e+00</td>\n",
       "      <td>1.194353e+00</td>\n",
       "      <td>1.098632e+00</td>\n",
       "      <td>...</td>\n",
       "      <td>7.345240e-01</td>\n",
       "      <td>7.257016e-01</td>\n",
       "      <td>6.244603e-01</td>\n",
       "      <td>6.056471e-01</td>\n",
       "      <td>5.212781e-01</td>\n",
       "      <td>4.822270e-01</td>\n",
       "      <td>4.036325e-01</td>\n",
       "      <td>3.300833e-01</td>\n",
       "      <td>250.120109</td>\n",
       "      <td>0.041527</td>\n",
       "    </tr>\n",
       "    <tr>\n",
       "      <th>min</th>\n",
       "      <td>0.000000</td>\n",
       "      <td>-5.640751e+01</td>\n",
       "      <td>-7.271573e+01</td>\n",
       "      <td>-4.832559e+01</td>\n",
       "      <td>-5.683171e+00</td>\n",
       "      <td>-1.137433e+02</td>\n",
       "      <td>-2.616051e+01</td>\n",
       "      <td>-4.355724e+01</td>\n",
       "      <td>-7.321672e+01</td>\n",
       "      <td>-1.343407e+01</td>\n",
       "      <td>...</td>\n",
       "      <td>-3.483038e+01</td>\n",
       "      <td>-1.093314e+01</td>\n",
       "      <td>-4.480774e+01</td>\n",
       "      <td>-2.836627e+00</td>\n",
       "      <td>-1.029540e+01</td>\n",
       "      <td>-2.604551e+00</td>\n",
       "      <td>-2.256568e+01</td>\n",
       "      <td>-1.543008e+01</td>\n",
       "      <td>0.000000</td>\n",
       "      <td>0.000000</td>\n",
       "    </tr>\n",
       "    <tr>\n",
       "      <th>25%</th>\n",
       "      <td>54201.500000</td>\n",
       "      <td>-9.203734e-01</td>\n",
       "      <td>-5.985499e-01</td>\n",
       "      <td>-8.903648e-01</td>\n",
       "      <td>-8.486401e-01</td>\n",
       "      <td>-6.915971e-01</td>\n",
       "      <td>-7.682956e-01</td>\n",
       "      <td>-5.540759e-01</td>\n",
       "      <td>-2.086297e-01</td>\n",
       "      <td>-6.430976e-01</td>\n",
       "      <td>...</td>\n",
       "      <td>-2.283949e-01</td>\n",
       "      <td>-5.423504e-01</td>\n",
       "      <td>-1.618463e-01</td>\n",
       "      <td>-3.545861e-01</td>\n",
       "      <td>-3.171451e-01</td>\n",
       "      <td>-3.269839e-01</td>\n",
       "      <td>-7.083953e-02</td>\n",
       "      <td>-5.295979e-02</td>\n",
       "      <td>5.600000</td>\n",
       "      <td>0.000000</td>\n",
       "    </tr>\n",
       "    <tr>\n",
       "      <th>50%</th>\n",
       "      <td>84692.000000</td>\n",
       "      <td>1.810880e-02</td>\n",
       "      <td>6.548556e-02</td>\n",
       "      <td>1.798463e-01</td>\n",
       "      <td>-1.984653e-02</td>\n",
       "      <td>-5.433583e-02</td>\n",
       "      <td>-2.741871e-01</td>\n",
       "      <td>4.010308e-02</td>\n",
       "      <td>2.235804e-02</td>\n",
       "      <td>-5.142873e-02</td>\n",
       "      <td>...</td>\n",
       "      <td>-2.945017e-02</td>\n",
       "      <td>6.781943e-03</td>\n",
       "      <td>-1.119293e-02</td>\n",
       "      <td>4.097606e-02</td>\n",
       "      <td>1.659350e-02</td>\n",
       "      <td>-5.213911e-02</td>\n",
       "      <td>1.342146e-03</td>\n",
       "      <td>1.124383e-02</td>\n",
       "      <td>22.000000</td>\n",
       "      <td>0.000000</td>\n",
       "    </tr>\n",
       "    <tr>\n",
       "      <th>75%</th>\n",
       "      <td>139320.500000</td>\n",
       "      <td>1.315642e+00</td>\n",
       "      <td>8.037239e-01</td>\n",
       "      <td>1.027196e+00</td>\n",
       "      <td>7.433413e-01</td>\n",
       "      <td>6.119264e-01</td>\n",
       "      <td>3.985649e-01</td>\n",
       "      <td>5.704361e-01</td>\n",
       "      <td>3.273459e-01</td>\n",
       "      <td>5.971390e-01</td>\n",
       "      <td>...</td>\n",
       "      <td>1.863772e-01</td>\n",
       "      <td>5.285536e-01</td>\n",
       "      <td>1.476421e-01</td>\n",
       "      <td>4.395266e-01</td>\n",
       "      <td>3.507156e-01</td>\n",
       "      <td>2.409522e-01</td>\n",
       "      <td>9.104512e-02</td>\n",
       "      <td>7.827995e-02</td>\n",
       "      <td>77.165000</td>\n",
       "      <td>0.000000</td>\n",
       "    </tr>\n",
       "    <tr>\n",
       "      <th>max</th>\n",
       "      <td>172792.000000</td>\n",
       "      <td>2.454930e+00</td>\n",
       "      <td>2.205773e+01</td>\n",
       "      <td>9.382558e+00</td>\n",
       "      <td>1.687534e+01</td>\n",
       "      <td>3.480167e+01</td>\n",
       "      <td>7.330163e+01</td>\n",
       "      <td>1.205895e+02</td>\n",
       "      <td>2.000721e+01</td>\n",
       "      <td>1.559499e+01</td>\n",
       "      <td>...</td>\n",
       "      <td>2.720284e+01</td>\n",
       "      <td>1.050309e+01</td>\n",
       "      <td>2.252841e+01</td>\n",
       "      <td>4.584549e+00</td>\n",
       "      <td>7.519589e+00</td>\n",
       "      <td>3.517346e+00</td>\n",
       "      <td>3.161220e+01</td>\n",
       "      <td>3.384781e+01</td>\n",
       "      <td>25691.160000</td>\n",
       "      <td>1.000000</td>\n",
       "    </tr>\n",
       "  </tbody>\n",
       "</table>\n",
       "<p>8 rows × 31 columns</p>\n",
       "</div>"
      ],
      "text/plain": [
       "                Time            V1            V2            V3            V4  \\\n",
       "count  284807.000000  2.848070e+05  2.848070e+05  2.848070e+05  2.848070e+05   \n",
       "mean    94813.859575  3.918649e-15  5.682686e-16 -8.761736e-15  2.811118e-15   \n",
       "std     47488.145955  1.958696e+00  1.651309e+00  1.516255e+00  1.415869e+00   \n",
       "min         0.000000 -5.640751e+01 -7.271573e+01 -4.832559e+01 -5.683171e+00   \n",
       "25%     54201.500000 -9.203734e-01 -5.985499e-01 -8.903648e-01 -8.486401e-01   \n",
       "50%     84692.000000  1.810880e-02  6.548556e-02  1.798463e-01 -1.984653e-02   \n",
       "75%    139320.500000  1.315642e+00  8.037239e-01  1.027196e+00  7.433413e-01   \n",
       "max    172792.000000  2.454930e+00  2.205773e+01  9.382558e+00  1.687534e+01   \n",
       "\n",
       "                 V5            V6            V7            V8            V9  \\\n",
       "count  2.848070e+05  2.848070e+05  2.848070e+05  2.848070e+05  2.848070e+05   \n",
       "mean  -1.552103e-15  2.040130e-15 -1.698953e-15 -1.893285e-16 -3.147640e-15   \n",
       "std    1.380247e+00  1.332271e+00  1.237094e+00  1.194353e+00  1.098632e+00   \n",
       "min   -1.137433e+02 -2.616051e+01 -4.355724e+01 -7.321672e+01 -1.343407e+01   \n",
       "25%   -6.915971e-01 -7.682956e-01 -5.540759e-01 -2.086297e-01 -6.430976e-01   \n",
       "50%   -5.433583e-02 -2.741871e-01  4.010308e-02  2.235804e-02 -5.142873e-02   \n",
       "75%    6.119264e-01  3.985649e-01  5.704361e-01  3.273459e-01  5.971390e-01   \n",
       "max    3.480167e+01  7.330163e+01  1.205895e+02  2.000721e+01  1.559499e+01   \n",
       "\n",
       "       ...           V21           V22           V23           V24  \\\n",
       "count  ...  2.848070e+05  2.848070e+05  2.848070e+05  2.848070e+05   \n",
       "mean   ...  1.473120e-16  8.042109e-16  5.282512e-16  4.456271e-15   \n",
       "std    ...  7.345240e-01  7.257016e-01  6.244603e-01  6.056471e-01   \n",
       "min    ... -3.483038e+01 -1.093314e+01 -4.480774e+01 -2.836627e+00   \n",
       "25%    ... -2.283949e-01 -5.423504e-01 -1.618463e-01 -3.545861e-01   \n",
       "50%    ... -2.945017e-02  6.781943e-03 -1.119293e-02  4.097606e-02   \n",
       "75%    ...  1.863772e-01  5.285536e-01  1.476421e-01  4.395266e-01   \n",
       "max    ...  2.720284e+01  1.050309e+01  2.252841e+01  4.584549e+00   \n",
       "\n",
       "                V25           V26           V27           V28         Amount  \\\n",
       "count  2.848070e+05  2.848070e+05  2.848070e+05  2.848070e+05  284807.000000   \n",
       "mean   1.426896e-15  1.701640e-15 -3.662252e-16 -1.217809e-16      88.349619   \n",
       "std    5.212781e-01  4.822270e-01  4.036325e-01  3.300833e-01     250.120109   \n",
       "min   -1.029540e+01 -2.604551e+00 -2.256568e+01 -1.543008e+01       0.000000   \n",
       "25%   -3.171451e-01 -3.269839e-01 -7.083953e-02 -5.295979e-02       5.600000   \n",
       "50%    1.659350e-02 -5.213911e-02  1.342146e-03  1.124383e-02      22.000000   \n",
       "75%    3.507156e-01  2.409522e-01  9.104512e-02  7.827995e-02      77.165000   \n",
       "max    7.519589e+00  3.517346e+00  3.161220e+01  3.384781e+01   25691.160000   \n",
       "\n",
       "               Class  \n",
       "count  284807.000000  \n",
       "mean        0.001727  \n",
       "std         0.041527  \n",
       "min         0.000000  \n",
       "25%         0.000000  \n",
       "50%         0.000000  \n",
       "75%         0.000000  \n",
       "max         1.000000  \n",
       "\n",
       "[8 rows x 31 columns]"
      ]
     },
     "execution_count": 10,
     "metadata": {},
     "output_type": "execute_result"
    }
   ],
   "source": [
    "df.describe()"
   ]
  },
  {
   "cell_type": "markdown",
   "id": "3ede723b",
   "metadata": {},
   "source": [
    " 75% or more of the classes column are = 0 which is something tricky"
   ]
  },
  {
   "cell_type": "code",
   "execution_count": 11,
   "id": "4f656284",
   "metadata": {
    "ExecuteTime": {
     "end_time": "2022-01-08T20:37:06.217500Z",
     "start_time": "2022-01-08T20:37:06.200813Z"
    }
   },
   "outputs": [
    {
     "data": {
      "text/plain": [
       "0    284315\n",
       "1       492\n",
       "Name: Class, dtype: int64"
      ]
     },
     "execution_count": 11,
     "metadata": {},
     "output_type": "execute_result"
    }
   ],
   "source": [
    "df.Class.value_counts()"
   ]
  },
  {
   "cell_type": "code",
   "execution_count": 12,
   "id": "01c8d01f",
   "metadata": {
    "ExecuteTime": {
     "end_time": "2022-01-08T20:37:07.084993Z",
     "start_time": "2022-01-08T20:37:06.876218Z"
    }
   },
   "outputs": [
    {
     "data": {
      "image/png": "[encoded data removed]",
      "text/plain": [
       "<Figure size 432x288 with 1 Axes>"
      ]
     },
     "metadata": {
      "needs_background": "light"
     },
     "output_type": "display_data"
    }
   ],
   "source": [
    "sns.countplot(x='Class', data=df);"
   ]
  },
  {
   "cell_type": "code",
   "execution_count": 13,
   "id": "3fffd7db",
   "metadata": {
    "ExecuteTime": {
     "end_time": "2022-01-08T20:37:07.915136Z",
     "start_time": "2022-01-08T20:37:07.888232Z"
    }
   },
   "outputs": [
    {
     "name": "stdout",
     "output_type": "stream",
     "text": [
      "No Frauds 99.83 % of the dataset\n",
      "Frauds 0.17 % of the dataset\n"
     ]
    }
   ],
   "source": [
    "print('No Frauds', round(df['Class'].value_counts()[0]/len(df) * 100,2), '% of the dataset')\n",
    "print('Frauds', round(df['Class'].value_counts()[1]/len(df) * 100,2), '% of the dataset')"
   ]
  },
  {
   "cell_type": "markdown",
   "id": "0ca71ec8",
   "metadata": {},
   "source": [
    "Data is Highly Unbalanced"
   ]
  },
  {
   "cell_type": "code",
   "execution_count": 14,
   "id": "2a165696",
   "metadata": {
    "ExecuteTime": {
     "end_time": "2022-01-08T20:37:10.423195Z",
     "start_time": "2022-01-08T20:37:10.396561Z"
    }
   },
   "outputs": [
    {
     "data": {
      "text/plain": [
       "Index([], dtype='object')"
      ]
     },
     "execution_count": 14,
     "metadata": {},
     "output_type": "execute_result"
    }
   ],
   "source": [
    "df.columns[df.isna().any()]"
   ]
  },
  {
   "cell_type": "code",
   "execution_count": 15,
   "id": "7417aeab",
   "metadata": {
    "ExecuteTime": {
     "end_time": "2022-01-08T20:37:18.508390Z",
     "start_time": "2022-01-08T20:37:14.649718Z"
    }
   },
   "outputs": [
    {
     "data": {
      "image/png": "[encoded data removed]",
      "text/plain": [
       "<Figure size 1296x288 with 2 Axes>"
      ]
     },
     "metadata": {
      "needs_background": "light"
     },
     "output_type": "display_data"
    }
   ],
   "source": [
    "fig, ax = plt.subplots(1, 2, figsize=(18,4))\n",
    "\n",
    "amount_val = df['Amount'].values\n",
    "time_val = df['Time'].values\n",
    "\n",
    "sns.distplot(amount_val, ax=ax[0], color='r')\n",
    "ax[0].set_title('Distribution of Transaction Amount', fontsize=14)\n",
    "ax[0].set_xlim([min(amount_val), max(amount_val)])\n",
    "\n",
    "sns.distplot(time_val, ax=ax[1], color='b')\n",
    "ax[1].set_title('Distribution of Transaction Time', fontsize=14)\n",
    "ax[1].set_xlim([min(time_val), max(time_val)])\n",
    "\n",
    "plt.show()"
   ]
  },
  {
   "cell_type": "markdown",
   "id": "6d7d3637",
   "metadata": {},
   "source": [
    "Note: Notice how imbalanced is our original dataset! Most of the transactions are non-fraud. If we use this dataframe as the base for our predictive models and analysis we might get a lot of errors and our algorithms will probably overfit since it will \"assume\" that most transactions are not fraud. But we don't want our model to assume, we want our model to detect patterns that give signs of fraud!"
   ]
  },
  {
   "cell_type": "markdown",
   "id": "32eb4822",
   "metadata": {},
   "source": [
    "Build a sample dataset containing similar distribution of normal transactions \n"
   ]
  },
  {
   "cell_type": "markdown",
   "id": "99ca97a0",
   "metadata": {},
   "source": [
    "getting a non_fraud sample that equals to the fraud one to make the data balanced"
   ]
  },
  {
   "cell_type": "code",
   "execution_count": 16,
   "id": "f907c4bd",
   "metadata": {
    "ExecuteTime": {
     "end_time": "2022-01-08T20:37:51.393260Z",
     "start_time": "2022-01-08T20:37:49.936168Z"
    }
   },
   "outputs": [
    {
     "data": {
      "image/png": "[encoded data removed]",
      "text/plain": [
       "<Figure size 1800x1080 with 2 Axes>"
      ]
     },
     "metadata": {
      "needs_background": "light"
     },
     "output_type": "display_data"
    }
   ],
   "source": [
    "plt.figure(figsize=(25,15))\n",
    "sns.heatmap(df.corr(), cmap='coolwarm_r', annot_kws={'size':20});"
   ]
  },
  {
   "cell_type": "code",
   "execution_count": 17,
   "id": "7f8c8f62",
   "metadata": {
    "ExecuteTime": {
     "end_time": "2022-01-08T20:37:52.072356Z",
     "start_time": "2022-01-08T20:37:52.031466Z"
    }
   },
   "outputs": [],
   "source": [
    "legit = df[df.Class == 0]\n",
    "fraud = df[df.Class == 1]"
   ]
  },
  {
   "cell_type": "code",
   "execution_count": 18,
   "id": "bc446f44",
   "metadata": {
    "ExecuteTime": {
     "end_time": "2022-01-08T20:37:53.706115Z",
     "start_time": "2022-01-08T20:37:53.631862Z"
    }
   },
   "outputs": [
    {
     "data": {
      "text/html": [
       "<div>\n",
       "<style scoped>\n",
       "    .dataframe tbody tr th:only-of-type {\n",
       "        vertical-align: middle;\n",
       "    }\n",
       "\n",
       "    .dataframe tbody tr th {\n",
       "        vertical-align: top;\n",
       "    }\n",
       "\n",
       "    .dataframe thead th {\n",
       "        text-align: right;\n",
       "    }\n",
       "</style>\n",
       "<table border=\"1\" class=\"dataframe\">\n",
       "  <thead>\n",
       "    <tr style=\"text-align: right;\">\n",
       "      <th></th>\n",
       "      <th>Time</th>\n",
       "      <th>V1</th>\n",
       "      <th>V2</th>\n",
       "      <th>V3</th>\n",
       "      <th>V4</th>\n",
       "      <th>V5</th>\n",
       "      <th>V6</th>\n",
       "      <th>V7</th>\n",
       "      <th>V8</th>\n",
       "      <th>V9</th>\n",
       "      <th>...</th>\n",
       "      <th>V20</th>\n",
       "      <th>V21</th>\n",
       "      <th>V22</th>\n",
       "      <th>V23</th>\n",
       "      <th>V24</th>\n",
       "      <th>V25</th>\n",
       "      <th>V26</th>\n",
       "      <th>V27</th>\n",
       "      <th>V28</th>\n",
       "      <th>Amount</th>\n",
       "    </tr>\n",
       "    <tr>\n",
       "      <th>Class</th>\n",
       "      <th></th>\n",
       "      <th></th>\n",
       "      <th></th>\n",
       "      <th></th>\n",
       "      <th></th>\n",
       "      <th></th>\n",
       "      <th></th>\n",
       "      <th></th>\n",
       "      <th></th>\n",
       "      <th></th>\n",
       "      <th></th>\n",
       "      <th></th>\n",
       "      <th></th>\n",
       "      <th></th>\n",
       "      <th></th>\n",
       "      <th></th>\n",
       "      <th></th>\n",
       "      <th></th>\n",
       "      <th></th>\n",
       "      <th></th>\n",
       "      <th></th>\n",
       "    </tr>\n",
       "  </thead>\n",
       "  <tbody>\n",
       "    <tr>\n",
       "      <th>0</th>\n",
       "      <td>94838.202258</td>\n",
       "      <td>0.008258</td>\n",
       "      <td>-0.006271</td>\n",
       "      <td>0.012171</td>\n",
       "      <td>-0.007860</td>\n",
       "      <td>0.005453</td>\n",
       "      <td>0.002419</td>\n",
       "      <td>0.009637</td>\n",
       "      <td>-0.000987</td>\n",
       "      <td>0.004467</td>\n",
       "      <td>...</td>\n",
       "      <td>-0.000644</td>\n",
       "      <td>-0.001235</td>\n",
       "      <td>-0.000024</td>\n",
       "      <td>0.000070</td>\n",
       "      <td>0.000182</td>\n",
       "      <td>-0.000072</td>\n",
       "      <td>-0.000089</td>\n",
       "      <td>-0.000295</td>\n",
       "      <td>-0.000131</td>\n",
       "      <td>88.291022</td>\n",
       "    </tr>\n",
       "    <tr>\n",
       "      <th>1</th>\n",
       "      <td>80746.806911</td>\n",
       "      <td>-4.771948</td>\n",
       "      <td>3.623778</td>\n",
       "      <td>-7.033281</td>\n",
       "      <td>4.542029</td>\n",
       "      <td>-3.151225</td>\n",
       "      <td>-1.397737</td>\n",
       "      <td>-5.568731</td>\n",
       "      <td>0.570636</td>\n",
       "      <td>-2.581123</td>\n",
       "      <td>...</td>\n",
       "      <td>0.372319</td>\n",
       "      <td>0.713588</td>\n",
       "      <td>0.014049</td>\n",
       "      <td>-0.040308</td>\n",
       "      <td>-0.105130</td>\n",
       "      <td>0.041449</td>\n",
       "      <td>0.051648</td>\n",
       "      <td>0.170575</td>\n",
       "      <td>0.075667</td>\n",
       "      <td>122.211321</td>\n",
       "    </tr>\n",
       "  </tbody>\n",
       "</table>\n",
       "<p>2 rows × 30 columns</p>\n",
       "</div>"
      ],
      "text/plain": [
       "               Time        V1        V2        V3        V4        V5  \\\n",
       "Class                                                                   \n",
       "0      94838.202258  0.008258 -0.006271  0.012171 -0.007860  0.005453   \n",
       "1      80746.806911 -4.771948  3.623778 -7.033281  4.542029 -3.151225   \n",
       "\n",
       "             V6        V7        V8        V9  ...       V20       V21  \\\n",
       "Class                                          ...                       \n",
       "0      0.002419  0.009637 -0.000987  0.004467  ... -0.000644 -0.001235   \n",
       "1     -1.397737 -5.568731  0.570636 -2.581123  ...  0.372319  0.713588   \n",
       "\n",
       "            V22       V23       V24       V25       V26       V27       V28  \\\n",
       "Class                                                                         \n",
       "0     -0.000024  0.000070  0.000182 -0.000072 -0.000089 -0.000295 -0.000131   \n",
       "1      0.014049 -0.040308 -0.105130  0.041449  0.051648  0.170575  0.075667   \n",
       "\n",
       "           Amount  \n",
       "Class              \n",
       "0       88.291022  \n",
       "1      122.211321  \n",
       "\n",
       "[2 rows x 30 columns]"
      ]
     },
     "execution_count": 18,
     "metadata": {},
     "output_type": "execute_result"
    }
   ],
   "source": [
    "df.groupby('Class').mean()"
   ]
  },
  {
   "cell_type": "code",
   "execution_count": 19,
   "id": "b6c20edb",
   "metadata": {
    "ExecuteTime": {
     "end_time": "2022-01-08T20:37:54.483061Z",
     "start_time": "2022-01-08T20:37:54.465100Z"
    }
   },
   "outputs": [],
   "source": [
    "legit_sample = legit.sample(492)"
   ]
  },
  {
   "cell_type": "code",
   "execution_count": 20,
   "id": "a59b5aa9",
   "metadata": {
    "ExecuteTime": {
     "end_time": "2022-01-08T20:37:55.398496Z",
     "start_time": "2022-01-08T20:37:55.380546Z"
    }
   },
   "outputs": [
    {
     "data": {
      "text/plain": [
       "492"
      ]
     },
     "execution_count": 20,
     "metadata": {},
     "output_type": "execute_result"
    }
   ],
   "source": [
    "legit_sample.count()[0]"
   ]
  },
  {
   "cell_type": "code",
   "execution_count": 21,
   "id": "9f885ce6",
   "metadata": {
    "ExecuteTime": {
     "end_time": "2022-01-08T20:37:56.187393Z",
     "start_time": "2022-01-08T20:37:56.153485Z"
    }
   },
   "outputs": [
    {
     "data": {
      "text/html": [
       "<div>\n",
       "<style scoped>\n",
       "    .dataframe tbody tr th:only-of-type {\n",
       "        vertical-align: middle;\n",
       "    }\n",
       "\n",
       "    .dataframe tbody tr th {\n",
       "        vertical-align: top;\n",
       "    }\n",
       "\n",
       "    .dataframe thead th {\n",
       "        text-align: right;\n",
       "    }\n",
       "</style>\n",
       "<table border=\"1\" class=\"dataframe\">\n",
       "  <thead>\n",
       "    <tr style=\"text-align: right;\">\n",
       "      <th></th>\n",
       "      <th>Time</th>\n",
       "      <th>V1</th>\n",
       "      <th>V2</th>\n",
       "      <th>V3</th>\n",
       "      <th>V4</th>\n",
       "      <th>V5</th>\n",
       "      <th>V6</th>\n",
       "      <th>V7</th>\n",
       "      <th>V8</th>\n",
       "      <th>V9</th>\n",
       "      <th>...</th>\n",
       "      <th>V21</th>\n",
       "      <th>V22</th>\n",
       "      <th>V23</th>\n",
       "      <th>V24</th>\n",
       "      <th>V25</th>\n",
       "      <th>V26</th>\n",
       "      <th>V27</th>\n",
       "      <th>V28</th>\n",
       "      <th>Amount</th>\n",
       "      <th>Class</th>\n",
       "    </tr>\n",
       "  </thead>\n",
       "  <tbody>\n",
       "    <tr>\n",
       "      <th>112899</th>\n",
       "      <td>72847.0</td>\n",
       "      <td>-0.356283</td>\n",
       "      <td>1.112918</td>\n",
       "      <td>1.290513</td>\n",
       "      <td>0.066415</td>\n",
       "      <td>0.043603</td>\n",
       "      <td>-0.985110</td>\n",
       "      <td>0.715656</td>\n",
       "      <td>-0.076566</td>\n",
       "      <td>-0.405335</td>\n",
       "      <td>...</td>\n",
       "      <td>-0.260360</td>\n",
       "      <td>-0.685439</td>\n",
       "      <td>-0.006791</td>\n",
       "      <td>0.330256</td>\n",
       "      <td>-0.155714</td>\n",
       "      <td>0.071875</td>\n",
       "      <td>0.244577</td>\n",
       "      <td>0.098909</td>\n",
       "      <td>5.99</td>\n",
       "      <td>0</td>\n",
       "    </tr>\n",
       "    <tr>\n",
       "      <th>159575</th>\n",
       "      <td>112666.0</td>\n",
       "      <td>1.931981</td>\n",
       "      <td>-0.316571</td>\n",
       "      <td>-2.321530</td>\n",
       "      <td>-0.066091</td>\n",
       "      <td>0.484918</td>\n",
       "      <td>-1.122348</td>\n",
       "      <td>0.652905</td>\n",
       "      <td>-0.305699</td>\n",
       "      <td>0.183852</td>\n",
       "      <td>...</td>\n",
       "      <td>0.227648</td>\n",
       "      <td>0.452516</td>\n",
       "      <td>-0.067966</td>\n",
       "      <td>0.778728</td>\n",
       "      <td>0.332352</td>\n",
       "      <td>0.181331</td>\n",
       "      <td>-0.122219</td>\n",
       "      <td>-0.070531</td>\n",
       "      <td>88.60</td>\n",
       "      <td>0</td>\n",
       "    </tr>\n",
       "    <tr>\n",
       "      <th>50359</th>\n",
       "      <td>44461.0</td>\n",
       "      <td>-0.715260</td>\n",
       "      <td>-0.153615</td>\n",
       "      <td>1.107640</td>\n",
       "      <td>-2.330782</td>\n",
       "      <td>-1.418969</td>\n",
       "      <td>-0.924032</td>\n",
       "      <td>-0.690604</td>\n",
       "      <td>0.521720</td>\n",
       "      <td>-2.102472</td>\n",
       "      <td>...</td>\n",
       "      <td>-0.067780</td>\n",
       "      <td>0.035560</td>\n",
       "      <td>0.111057</td>\n",
       "      <td>0.304273</td>\n",
       "      <td>-0.460863</td>\n",
       "      <td>-0.393038</td>\n",
       "      <td>0.269906</td>\n",
       "      <td>0.131205</td>\n",
       "      <td>15.00</td>\n",
       "      <td>0</td>\n",
       "    </tr>\n",
       "    <tr>\n",
       "      <th>149227</th>\n",
       "      <td>90840.0</td>\n",
       "      <td>2.074830</td>\n",
       "      <td>0.215050</td>\n",
       "      <td>-1.068764</td>\n",
       "      <td>0.560042</td>\n",
       "      <td>0.132989</td>\n",
       "      <td>-1.254749</td>\n",
       "      <td>0.224346</td>\n",
       "      <td>-0.562973</td>\n",
       "      <td>1.673504</td>\n",
       "      <td>...</td>\n",
       "      <td>0.128014</td>\n",
       "      <td>0.868920</td>\n",
       "      <td>-0.006344</td>\n",
       "      <td>0.068199</td>\n",
       "      <td>0.284918</td>\n",
       "      <td>-0.148426</td>\n",
       "      <td>-0.032131</td>\n",
       "      <td>-0.060406</td>\n",
       "      <td>1.00</td>\n",
       "      <td>0</td>\n",
       "    </tr>\n",
       "    <tr>\n",
       "      <th>90686</th>\n",
       "      <td>63123.0</td>\n",
       "      <td>1.595011</td>\n",
       "      <td>-0.948404</td>\n",
       "      <td>0.102171</td>\n",
       "      <td>-1.523206</td>\n",
       "      <td>-1.146566</td>\n",
       "      <td>-0.558313</td>\n",
       "      <td>-0.945378</td>\n",
       "      <td>-0.189621</td>\n",
       "      <td>-1.771054</td>\n",
       "      <td>...</td>\n",
       "      <td>-0.275847</td>\n",
       "      <td>-0.381071</td>\n",
       "      <td>-0.060168</td>\n",
       "      <td>-0.481542</td>\n",
       "      <td>0.498654</td>\n",
       "      <td>-0.152910</td>\n",
       "      <td>0.029844</td>\n",
       "      <td>0.010731</td>\n",
       "      <td>5.00</td>\n",
       "      <td>0</td>\n",
       "    </tr>\n",
       "  </tbody>\n",
       "</table>\n",
       "<p>5 rows × 31 columns</p>\n",
       "</div>"
      ],
      "text/plain": [
       "            Time        V1        V2        V3        V4        V5        V6  \\\n",
       "112899   72847.0 -0.356283  1.112918  1.290513  0.066415  0.043603 -0.985110   \n",
       "159575  112666.0  1.931981 -0.316571 -2.321530 -0.066091  0.484918 -1.122348   \n",
       "50359    44461.0 -0.715260 -0.153615  1.107640 -2.330782 -1.418969 -0.924032   \n",
       "149227   90840.0  2.074830  0.215050 -1.068764  0.560042  0.132989 -1.254749   \n",
       "90686    63123.0  1.595011 -0.948404  0.102171 -1.523206 -1.146566 -0.558313   \n",
       "\n",
       "              V7        V8        V9  ...       V21       V22       V23  \\\n",
       "112899  0.715656 -0.076566 -0.405335  ... -0.260360 -0.685439 -0.006791   \n",
       "159575  0.652905 -0.305699  0.183852  ...  0.227648  0.452516 -0.067966   \n",
       "50359  -0.690604  0.521720 -2.102472  ... -0.067780  0.035560  0.111057   \n",
       "149227  0.224346 -0.562973  1.673504  ...  0.128014  0.868920 -0.006344   \n",
       "90686  -0.945378 -0.189621 -1.771054  ... -0.275847 -0.381071 -0.060168   \n",
       "\n",
       "             V24       V25       V26       V27       V28  Amount  Class  \n",
       "112899  0.330256 -0.155714  0.071875  0.244577  0.098909    5.99      0  \n",
       "159575  0.778728  0.332352  0.181331 -0.122219 -0.070531   88.60      0  \n",
       "50359   0.304273 -0.460863 -0.393038  0.269906  0.131205   15.00      0  \n",
       "149227  0.068199  0.284918 -0.148426 -0.032131 -0.060406    1.00      0  \n",
       "90686  -0.481542  0.498654 -0.152910  0.029844  0.010731    5.00      0  \n",
       "\n",
       "[5 rows x 31 columns]"
      ]
     },
     "execution_count": 21,
     "metadata": {},
     "output_type": "execute_result"
    }
   ],
   "source": [
    "balanced_df = pd.concat([legit_sample, fraud], axis=0)\n",
    "balanced_df.head()"
   ]
  },
  {
   "cell_type": "code",
   "execution_count": 22,
   "id": "e3e0a4ae",
   "metadata": {
    "ExecuteTime": {
     "end_time": "2022-01-08T20:37:56.906235Z",
     "start_time": "2022-01-08T20:37:56.888251Z"
    }
   },
   "outputs": [
    {
     "data": {
      "text/plain": [
       "0    492\n",
       "1    492\n",
       "Name: Class, dtype: int64"
      ]
     },
     "execution_count": 22,
     "metadata": {},
     "output_type": "execute_result"
    }
   ],
   "source": [
    "balanced_df.Class.value_counts()"
   ]
  },
  {
   "cell_type": "code",
   "execution_count": 23,
   "id": "0ca57841",
   "metadata": {
    "ExecuteTime": {
     "end_time": "2022-01-08T20:37:58.114066Z",
     "start_time": "2022-01-08T20:37:58.023763Z"
    }
   },
   "outputs": [
    {
     "data": {
      "image/png": "[encoded data removed]",
      "text/plain": [
       "<Figure size 432x288 with 1 Axes>"
      ]
     },
     "metadata": {
      "needs_background": "light"
     },
     "output_type": "display_data"
    }
   ],
   "source": [
    "sns.countplot(x='Class', data=balanced_df);"
   ]
  },
  {
   "cell_type": "markdown",
   "id": "d2593cb2",
   "metadata": {},
   "source": [
    "now we have equal number of legal and fraud that's how we convert our data from un-balanced to balanced data"
   ]
  },
  {
   "cell_type": "code",
   "execution_count": 24,
   "id": "c5bc1f40",
   "metadata": {
    "ExecuteTime": {
     "end_time": "2022-01-08T20:38:02.619397Z",
     "start_time": "2022-01-08T20:38:02.593467Z"
    }
   },
   "outputs": [
    {
     "data": {
      "text/html": [
       "<div>\n",
       "<style scoped>\n",
       "    .dataframe tbody tr th:only-of-type {\n",
       "        vertical-align: middle;\n",
       "    }\n",
       "\n",
       "    .dataframe tbody tr th {\n",
       "        vertical-align: top;\n",
       "    }\n",
       "\n",
       "    .dataframe thead th {\n",
       "        text-align: right;\n",
       "    }\n",
       "</style>\n",
       "<table border=\"1\" class=\"dataframe\">\n",
       "  <thead>\n",
       "    <tr style=\"text-align: right;\">\n",
       "      <th></th>\n",
       "      <th>Time</th>\n",
       "      <th>V1</th>\n",
       "      <th>V2</th>\n",
       "      <th>V3</th>\n",
       "      <th>V4</th>\n",
       "      <th>V5</th>\n",
       "      <th>V6</th>\n",
       "      <th>V7</th>\n",
       "      <th>V8</th>\n",
       "      <th>V9</th>\n",
       "      <th>...</th>\n",
       "      <th>V20</th>\n",
       "      <th>V21</th>\n",
       "      <th>V22</th>\n",
       "      <th>V23</th>\n",
       "      <th>V24</th>\n",
       "      <th>V25</th>\n",
       "      <th>V26</th>\n",
       "      <th>V27</th>\n",
       "      <th>V28</th>\n",
       "      <th>Amount</th>\n",
       "    </tr>\n",
       "    <tr>\n",
       "      <th>Class</th>\n",
       "      <th></th>\n",
       "      <th></th>\n",
       "      <th></th>\n",
       "      <th></th>\n",
       "      <th></th>\n",
       "      <th></th>\n",
       "      <th></th>\n",
       "      <th></th>\n",
       "      <th></th>\n",
       "      <th></th>\n",
       "      <th></th>\n",
       "      <th></th>\n",
       "      <th></th>\n",
       "      <th></th>\n",
       "      <th></th>\n",
       "      <th></th>\n",
       "      <th></th>\n",
       "      <th></th>\n",
       "      <th></th>\n",
       "      <th></th>\n",
       "      <th></th>\n",
       "    </tr>\n",
       "  </thead>\n",
       "  <tbody>\n",
       "    <tr>\n",
       "      <th>0</th>\n",
       "      <td>96100.302846</td>\n",
       "      <td>0.058957</td>\n",
       "      <td>0.113465</td>\n",
       "      <td>-0.127884</td>\n",
       "      <td>-0.110904</td>\n",
       "      <td>-0.096921</td>\n",
       "      <td>-0.025743</td>\n",
       "      <td>0.064864</td>\n",
       "      <td>-0.036017</td>\n",
       "      <td>0.015779</td>\n",
       "      <td>...</td>\n",
       "      <td>0.008696</td>\n",
       "      <td>-0.004862</td>\n",
       "      <td>-0.006939</td>\n",
       "      <td>0.001497</td>\n",
       "      <td>-0.032446</td>\n",
       "      <td>-0.000130</td>\n",
       "      <td>0.028489</td>\n",
       "      <td>-0.009049</td>\n",
       "      <td>-0.017099</td>\n",
       "      <td>95.542825</td>\n",
       "    </tr>\n",
       "    <tr>\n",
       "      <th>1</th>\n",
       "      <td>80746.806911</td>\n",
       "      <td>-4.771948</td>\n",
       "      <td>3.623778</td>\n",
       "      <td>-7.033281</td>\n",
       "      <td>4.542029</td>\n",
       "      <td>-3.151225</td>\n",
       "      <td>-1.397737</td>\n",
       "      <td>-5.568731</td>\n",
       "      <td>0.570636</td>\n",
       "      <td>-2.581123</td>\n",
       "      <td>...</td>\n",
       "      <td>0.372319</td>\n",
       "      <td>0.713588</td>\n",
       "      <td>0.014049</td>\n",
       "      <td>-0.040308</td>\n",
       "      <td>-0.105130</td>\n",
       "      <td>0.041449</td>\n",
       "      <td>0.051648</td>\n",
       "      <td>0.170575</td>\n",
       "      <td>0.075667</td>\n",
       "      <td>122.211321</td>\n",
       "    </tr>\n",
       "  </tbody>\n",
       "</table>\n",
       "<p>2 rows × 30 columns</p>\n",
       "</div>"
      ],
      "text/plain": [
       "               Time        V1        V2        V3        V4        V5  \\\n",
       "Class                                                                   \n",
       "0      96100.302846  0.058957  0.113465 -0.127884 -0.110904 -0.096921   \n",
       "1      80746.806911 -4.771948  3.623778 -7.033281  4.542029 -3.151225   \n",
       "\n",
       "             V6        V7        V8        V9  ...       V20       V21  \\\n",
       "Class                                          ...                       \n",
       "0     -0.025743  0.064864 -0.036017  0.015779  ...  0.008696 -0.004862   \n",
       "1     -1.397737 -5.568731  0.570636 -2.581123  ...  0.372319  0.713588   \n",
       "\n",
       "            V22       V23       V24       V25       V26       V27       V28  \\\n",
       "Class                                                                         \n",
       "0     -0.006939  0.001497 -0.032446 -0.000130  0.028489 -0.009049 -0.017099   \n",
       "1      0.014049 -0.040308 -0.105130  0.041449  0.051648  0.170575  0.075667   \n",
       "\n",
       "           Amount  \n",
       "Class              \n",
       "0       95.542825  \n",
       "1      122.211321  \n",
       "\n",
       "[2 rows x 30 columns]"
      ]
     },
     "execution_count": 24,
     "metadata": {},
     "output_type": "execute_result"
    }
   ],
   "source": [
    "balanced_df.groupby('Class').mean()"
   ]
  },
  {
   "cell_type": "code",
   "execution_count": 25,
   "id": "c57a2f89",
   "metadata": {
    "ExecuteTime": {
     "end_time": "2022-01-08T20:38:04.435981Z",
     "start_time": "2022-01-08T20:38:03.629629Z"
    }
   },
   "outputs": [
    {
     "data": {
      "image/png": "[encoded data removed]",
      "text/plain": [
       "<Figure size 1800x1080 with 2 Axes>"
      ]
     },
     "metadata": {
      "needs_background": "light"
     },
     "output_type": "display_data"
    }
   ],
   "source": [
    "plt.figure(figsize=(25,15))\n",
    "sns.heatmap(balanced_df.corr(), cmap='coolwarm_r', annot_kws={'size':20});"
   ]
  },
  {
   "cell_type": "markdown",
   "id": "e6309fa1",
   "metadata": {},
   "source": [
    "look at the diffrence correlation between imbalanced df and balanced df<br>\n",
    "Negative Correlations with our Class (The lower our feature value the more likely it will be a fraud transaction)<br>\n",
    "Positive correlations (The higher the feature the probability increases that it will be a fraud transaction)"
   ]
  },
  {
   "cell_type": "markdown",
   "id": "810039e2",
   "metadata": {},
   "source": [
    "V17, V14, V12, V10 are negative correlated to Class let's visualize those features\n",
    "V2, V4, V19, V11 are Positive correlated to Class let's visualize those features"
   ]
  },
  {
   "cell_type": "code",
   "execution_count": 26,
   "id": "464231a9",
   "metadata": {
    "ExecuteTime": {
     "end_time": "2022-01-08T20:38:06.471644Z",
     "start_time": "2022-01-08T20:38:06.116019Z"
    }
   },
   "outputs": [
    {
     "data": {
      "image/png": "[encoded data removed]",
      "text/plain": [
       "<Figure size 1440x288 with 4 Axes>"
      ]
     },
     "metadata": {
      "needs_background": "light"
     },
     "output_type": "display_data"
    }
   ],
   "source": [
    "f, axes = plt.subplots(ncols=4, figsize=(20,4))\n",
    "\n",
    "sns.boxplot(x=\"Class\", y=\"V17\", data=balanced_df, ax=axes[0])\n",
    "axes[0].set_title('V17 vs Class Negative Correlation')\n",
    "\n",
    "sns.boxplot(x=\"Class\", y=\"V14\", data=balanced_df, ax=axes[1])\n",
    "axes[1].set_title('V14 vs Class Negative Correlation')\n",
    "\n",
    "\n",
    "sns.boxplot(x=\"Class\", y=\"V12\", data=balanced_df, ax=axes[2])\n",
    "axes[2].set_title('V12 vs Class Negative Correlation')\n",
    "\n",
    "\n",
    "sns.boxplot(x=\"Class\", y=\"V10\", data=balanced_df, ax=axes[3])\n",
    "axes[3].set_title('V10 vs Class Negative Correlation')\n",
    "\n",
    "plt.show()"
   ]
  },
  {
   "cell_type": "markdown",
   "id": "e9fe61e7",
   "metadata": {},
   "source": [
    "it seems those V's when they are netagive values it is Fraud transaction"
   ]
  },
  {
   "cell_type": "code",
   "execution_count": 27,
   "id": "ebd3defe",
   "metadata": {
    "ExecuteTime": {
     "end_time": "2022-01-08T20:38:08.019456Z",
     "start_time": "2022-01-08T20:38:07.636772Z"
    }
   },
   "outputs": [
    {
     "data": {
      "image/png": "[encoded data removed]",
      "text/plain": [
       "<Figure size 1440x288 with 4 Axes>"
      ]
     },
     "metadata": {
      "needs_background": "light"
     },
     "output_type": "display_data"
    }
   ],
   "source": [
    "f, axes = plt.subplots(ncols=4, figsize=(20,4))\n",
    "\n",
    "sns.boxplot(x=\"Class\", y=\"V11\", data=balanced_df, ax=axes[0])\n",
    "axes[0].set_title('V11 vs Class Positive Correlation')\n",
    "\n",
    "sns.boxplot(x=\"Class\", y=\"V4\", data=balanced_df, ax=axes[1])\n",
    "axes[1].set_title('V4 vs Class Positive Correlation')\n",
    "\n",
    "\n",
    "sns.boxplot(x=\"Class\", y=\"V2\", data=balanced_df, ax=axes[2])\n",
    "axes[2].set_title('V2 vs Class Positive Correlation')\n",
    "\n",
    "\n",
    "sns.boxplot(x=\"Class\", y=\"V19\", data=balanced_df, ax=axes[3])\n",
    "axes[3].set_title('V19 vs Class Positive Correlation')\n",
    "\n",
    "plt.show()"
   ]
  },
  {
   "cell_type": "markdown",
   "id": "43c59d2b",
   "metadata": {},
   "source": [
    "it seems those V's when they are highly Postive values it is Fraud transaction"
   ]
  },
  {
   "cell_type": "markdown",
   "id": "8bec4b3d",
   "metadata": {},
   "source": [
    "<a id='4'></a>\n",
    "# Feature Scaling"
   ]
  },
  {
   "cell_type": "code",
   "execution_count": 28,
   "id": "4c65cb2b",
   "metadata": {
    "ExecuteTime": {
     "end_time": "2022-01-08T20:39:22.343706Z",
     "start_time": "2022-01-08T20:39:22.333733Z"
    }
   },
   "outputs": [],
   "source": [
    "std_scaler = StandardScaler()\n",
    "balanced_df['scaled_amount'] = std_scaler.fit_transform(balanced_df['Amount'].values.reshape(-1,1))\n",
    "balanced_df['scaled_time'] = std_scaler.fit_transform(balanced_df['Time'].values.reshape(-1,1))\n",
    "balanced_df = balanced_df.drop([\"Amount\", \"Time\"],axis=1)"
   ]
  },
  {
   "cell_type": "markdown",
   "id": "66e45cab",
   "metadata": {},
   "source": [
    "<a id='5'></a>\n",
    "# Feature Engineering"
   ]
  },
  {
   "cell_type": "code",
   "execution_count": 56,
   "id": "72786b44",
   "metadata": {
    "ExecuteTime": {
     "end_time": "2022-01-08T21:04:50.067321Z",
     "start_time": "2022-01-08T21:04:50.046200Z"
    }
   },
   "outputs": [],
   "source": [
    "FEATURES = [col for col in balanced_df.columns if col not in ['Class']]\n",
    "balanced_df[\"mean\"] = balanced_df[FEATURES].mean(axis=1)\n",
    "balanced_df[\"std\"] = balanced_df[FEATURES].std(axis=1)\n",
    "balanced_df[\"min\"] = balanced_df[FEATURES].min(axis=1)\n",
    "balanced_df[\"max\"] = balanced_df[FEATURES].max(axis=1)"
   ]
  },
  {
   "cell_type": "markdown",
   "id": "08c72c37",
   "metadata": {},
   "source": [
    "<a id='6'></a>\n",
    "# Assign Feature and Target variables "
   ]
  },
  {
   "cell_type": "code",
   "execution_count": 57,
   "id": "76b0c7d4",
   "metadata": {
    "ExecuteTime": {
     "end_time": "2022-01-08T21:05:23.158715Z",
     "start_time": "2022-01-08T21:05:23.151732Z"
    }
   },
   "outputs": [],
   "source": [
    "X = balanced_df.drop('Class', axis=1)\n",
    "y = balanced_df.Class"
   ]
  },
  {
   "cell_type": "code",
   "execution_count": 58,
   "id": "c44a10f1",
   "metadata": {
    "ExecuteTime": {
     "end_time": "2022-01-08T21:05:24.249213Z",
     "start_time": "2022-01-08T21:05:24.226235Z"
    }
   },
   "outputs": [
    {
     "data": {
      "text/html": [
       "<div>\n",
       "<style scoped>\n",
       "    .dataframe tbody tr th:only-of-type {\n",
       "        vertical-align: middle;\n",
       "    }\n",
       "\n",
       "    .dataframe tbody tr th {\n",
       "        vertical-align: top;\n",
       "    }\n",
       "\n",
       "    .dataframe thead th {\n",
       "        text-align: right;\n",
       "    }\n",
       "</style>\n",
       "<table border=\"1\" class=\"dataframe\">\n",
       "  <thead>\n",
       "    <tr style=\"text-align: right;\">\n",
       "      <th></th>\n",
       "      <th>V1</th>\n",
       "      <th>V2</th>\n",
       "      <th>V3</th>\n",
       "      <th>V4</th>\n",
       "      <th>V5</th>\n",
       "      <th>V6</th>\n",
       "      <th>V7</th>\n",
       "      <th>V8</th>\n",
       "      <th>V9</th>\n",
       "      <th>V10</th>\n",
       "      <th>...</th>\n",
       "      <th>V26</th>\n",
       "      <th>V27</th>\n",
       "      <th>V28</th>\n",
       "      <th>Class</th>\n",
       "      <th>scaled_amount</th>\n",
       "      <th>scaled_time</th>\n",
       "      <th>mean</th>\n",
       "      <th>std</th>\n",
       "      <th>min</th>\n",
       "      <th>max</th>\n",
       "    </tr>\n",
       "  </thead>\n",
       "  <tbody>\n",
       "    <tr>\n",
       "      <th>112899</th>\n",
       "      <td>-0.356283</td>\n",
       "      <td>1.112918</td>\n",
       "      <td>1.290513</td>\n",
       "      <td>0.066415</td>\n",
       "      <td>0.043603</td>\n",
       "      <td>-0.985110</td>\n",
       "      <td>0.715656</td>\n",
       "      <td>-0.076566</td>\n",
       "      <td>-0.405335</td>\n",
       "      <td>-0.514687</td>\n",
       "      <td>...</td>\n",
       "      <td>0.071875</td>\n",
       "      <td>0.244577</td>\n",
       "      <td>0.098909</td>\n",
       "      <td>0</td>\n",
       "      <td>-0.364931</td>\n",
       "      <td>-0.323418</td>\n",
       "      <td>0.016879</td>\n",
       "      <td>0.497693</td>\n",
       "      <td>-0.985110</td>\n",
       "      <td>1.290513</td>\n",
       "    </tr>\n",
       "    <tr>\n",
       "      <th>159575</th>\n",
       "      <td>1.931981</td>\n",
       "      <td>-0.316571</td>\n",
       "      <td>-2.321530</td>\n",
       "      <td>-0.066091</td>\n",
       "      <td>0.484918</td>\n",
       "      <td>-1.122348</td>\n",
       "      <td>0.652905</td>\n",
       "      <td>-0.305699</td>\n",
       "      <td>0.183852</td>\n",
       "      <td>0.195278</td>\n",
       "      <td>...</td>\n",
       "      <td>0.181331</td>\n",
       "      <td>-0.122219</td>\n",
       "      <td>-0.070531</td>\n",
       "      <td>0</td>\n",
       "      <td>-0.071921</td>\n",
       "      <td>0.503349</td>\n",
       "      <td>0.043370</td>\n",
       "      <td>0.813237</td>\n",
       "      <td>-2.321530</td>\n",
       "      <td>1.931981</td>\n",
       "    </tr>\n",
       "    <tr>\n",
       "      <th>50359</th>\n",
       "      <td>-0.715260</td>\n",
       "      <td>-0.153615</td>\n",
       "      <td>1.107640</td>\n",
       "      <td>-2.330782</td>\n",
       "      <td>-1.418969</td>\n",
       "      <td>-0.924032</td>\n",
       "      <td>-0.690604</td>\n",
       "      <td>0.521720</td>\n",
       "      <td>-2.102472</td>\n",
       "      <td>0.793331</td>\n",
       "      <td>...</td>\n",
       "      <td>-0.393038</td>\n",
       "      <td>0.269906</td>\n",
       "      <td>0.131205</td>\n",
       "      <td>0</td>\n",
       "      <td>-0.332973</td>\n",
       "      <td>-0.912799</td>\n",
       "      <td>-0.415123</td>\n",
       "      <td>0.874094</td>\n",
       "      <td>-2.330782</td>\n",
       "      <td>1.107640</td>\n",
       "    </tr>\n",
       "    <tr>\n",
       "      <th>149227</th>\n",
       "      <td>2.074830</td>\n",
       "      <td>0.215050</td>\n",
       "      <td>-1.068764</td>\n",
       "      <td>0.560042</td>\n",
       "      <td>0.132989</td>\n",
       "      <td>-1.254749</td>\n",
       "      <td>0.224346</td>\n",
       "      <td>-0.562973</td>\n",
       "      <td>1.673504</td>\n",
       "      <td>-0.406649</td>\n",
       "      <td>...</td>\n",
       "      <td>-0.148426</td>\n",
       "      <td>-0.032131</td>\n",
       "      <td>-0.060406</td>\n",
       "      <td>0</td>\n",
       "      <td>-0.382630</td>\n",
       "      <td>0.050173</td>\n",
       "      <td>0.184981</td>\n",
       "      <td>0.962375</td>\n",
       "      <td>-1.339171</td>\n",
       "      <td>3.347635</td>\n",
       "    </tr>\n",
       "    <tr>\n",
       "      <th>90686</th>\n",
       "      <td>1.595011</td>\n",
       "      <td>-0.948404</td>\n",
       "      <td>0.102171</td>\n",
       "      <td>-1.523206</td>\n",
       "      <td>-1.146566</td>\n",
       "      <td>-0.558313</td>\n",
       "      <td>-0.945378</td>\n",
       "      <td>-0.189621</td>\n",
       "      <td>-1.771054</td>\n",
       "      <td>1.449329</td>\n",
       "      <td>...</td>\n",
       "      <td>-0.152910</td>\n",
       "      <td>0.029844</td>\n",
       "      <td>0.010731</td>\n",
       "      <td>0</td>\n",
       "      <td>-0.368442</td>\n",
       "      <td>-0.525318</td>\n",
       "      <td>-0.240441</td>\n",
       "      <td>0.766509</td>\n",
       "      <td>-1.771054</td>\n",
       "      <td>1.595011</td>\n",
       "    </tr>\n",
       "  </tbody>\n",
       "</table>\n",
       "<p>5 rows × 35 columns</p>\n",
       "</div>"
      ],
      "text/plain": [
       "              V1        V2        V3        V4        V5        V6        V7  \\\n",
       "112899 -0.356283  1.112918  1.290513  0.066415  0.043603 -0.985110  0.715656   \n",
       "159575  1.931981 -0.316571 -2.321530 -0.066091  0.484918 -1.122348  0.652905   \n",
       "50359  -0.715260 -0.153615  1.107640 -2.330782 -1.418969 -0.924032 -0.690604   \n",
       "149227  2.074830  0.215050 -1.068764  0.560042  0.132989 -1.254749  0.224346   \n",
       "90686   1.595011 -0.948404  0.102171 -1.523206 -1.146566 -0.558313 -0.945378   \n",
       "\n",
       "              V8        V9       V10  ...       V26       V27       V28  \\\n",
       "112899 -0.076566 -0.405335 -0.514687  ...  0.071875  0.244577  0.098909   \n",
       "159575 -0.305699  0.183852  0.195278  ...  0.181331 -0.122219 -0.070531   \n",
       "50359   0.521720 -2.102472  0.793331  ... -0.393038  0.269906  0.131205   \n",
       "149227 -0.562973  1.673504 -0.406649  ... -0.148426 -0.032131 -0.060406   \n",
       "90686  -0.189621 -1.771054  1.449329  ... -0.152910  0.029844  0.010731   \n",
       "\n",
       "        Class  scaled_amount  scaled_time      mean       std       min  \\\n",
       "112899      0      -0.364931    -0.323418  0.016879  0.497693 -0.985110   \n",
       "159575      0      -0.071921     0.503349  0.043370  0.813237 -2.321530   \n",
       "50359       0      -0.332973    -0.912799 -0.415123  0.874094 -2.330782   \n",
       "149227      0      -0.382630     0.050173  0.184981  0.962375 -1.339171   \n",
       "90686       0      -0.368442    -0.525318 -0.240441  0.766509 -1.771054   \n",
       "\n",
       "             max  \n",
       "112899  1.290513  \n",
       "159575  1.931981  \n",
       "50359   1.107640  \n",
       "149227  3.347635  \n",
       "90686   1.595011  \n",
       "\n",
       "[5 rows x 35 columns]"
      ]
     },
     "execution_count": 58,
     "metadata": {},
     "output_type": "execute_result"
    }
   ],
   "source": [
    "balanced_df.head()"
   ]
  },
  {
   "cell_type": "code",
   "execution_count": 59,
   "id": "08cbf388",
   "metadata": {
    "ExecuteTime": {
     "end_time": "2022-01-08T21:05:45.756244Z",
     "start_time": "2022-01-08T21:05:45.724668Z"
    }
   },
   "outputs": [
    {
     "data": {
      "text/html": [
       "<div>\n",
       "<style scoped>\n",
       "    .dataframe tbody tr th:only-of-type {\n",
       "        vertical-align: middle;\n",
       "    }\n",
       "\n",
       "    .dataframe tbody tr th {\n",
       "        vertical-align: top;\n",
       "    }\n",
       "\n",
       "    .dataframe thead th {\n",
       "        text-align: right;\n",
       "    }\n",
       "</style>\n",
       "<table border=\"1\" class=\"dataframe\">\n",
       "  <thead>\n",
       "    <tr style=\"text-align: right;\">\n",
       "      <th></th>\n",
       "      <th>V1</th>\n",
       "      <th>V2</th>\n",
       "      <th>V3</th>\n",
       "      <th>V4</th>\n",
       "      <th>V5</th>\n",
       "      <th>V6</th>\n",
       "      <th>V7</th>\n",
       "      <th>V8</th>\n",
       "      <th>V9</th>\n",
       "      <th>V10</th>\n",
       "      <th>...</th>\n",
       "      <th>V25</th>\n",
       "      <th>V26</th>\n",
       "      <th>V27</th>\n",
       "      <th>V28</th>\n",
       "      <th>scaled_amount</th>\n",
       "      <th>scaled_time</th>\n",
       "      <th>mean</th>\n",
       "      <th>std</th>\n",
       "      <th>min</th>\n",
       "      <th>max</th>\n",
       "    </tr>\n",
       "  </thead>\n",
       "  <tbody>\n",
       "    <tr>\n",
       "      <th>112899</th>\n",
       "      <td>-0.356283</td>\n",
       "      <td>1.112918</td>\n",
       "      <td>1.290513</td>\n",
       "      <td>0.066415</td>\n",
       "      <td>0.043603</td>\n",
       "      <td>-0.985110</td>\n",
       "      <td>0.715656</td>\n",
       "      <td>-0.076566</td>\n",
       "      <td>-0.405335</td>\n",
       "      <td>-0.514687</td>\n",
       "      <td>...</td>\n",
       "      <td>-0.155714</td>\n",
       "      <td>0.071875</td>\n",
       "      <td>0.244577</td>\n",
       "      <td>0.098909</td>\n",
       "      <td>-0.364931</td>\n",
       "      <td>-0.323418</td>\n",
       "      <td>0.016879</td>\n",
       "      <td>0.497693</td>\n",
       "      <td>-0.985110</td>\n",
       "      <td>1.290513</td>\n",
       "    </tr>\n",
       "    <tr>\n",
       "      <th>159575</th>\n",
       "      <td>1.931981</td>\n",
       "      <td>-0.316571</td>\n",
       "      <td>-2.321530</td>\n",
       "      <td>-0.066091</td>\n",
       "      <td>0.484918</td>\n",
       "      <td>-1.122348</td>\n",
       "      <td>0.652905</td>\n",
       "      <td>-0.305699</td>\n",
       "      <td>0.183852</td>\n",
       "      <td>0.195278</td>\n",
       "      <td>...</td>\n",
       "      <td>0.332352</td>\n",
       "      <td>0.181331</td>\n",
       "      <td>-0.122219</td>\n",
       "      <td>-0.070531</td>\n",
       "      <td>-0.071921</td>\n",
       "      <td>0.503349</td>\n",
       "      <td>0.043370</td>\n",
       "      <td>0.813237</td>\n",
       "      <td>-2.321530</td>\n",
       "      <td>1.931981</td>\n",
       "    </tr>\n",
       "    <tr>\n",
       "      <th>50359</th>\n",
       "      <td>-0.715260</td>\n",
       "      <td>-0.153615</td>\n",
       "      <td>1.107640</td>\n",
       "      <td>-2.330782</td>\n",
       "      <td>-1.418969</td>\n",
       "      <td>-0.924032</td>\n",
       "      <td>-0.690604</td>\n",
       "      <td>0.521720</td>\n",
       "      <td>-2.102472</td>\n",
       "      <td>0.793331</td>\n",
       "      <td>...</td>\n",
       "      <td>-0.460863</td>\n",
       "      <td>-0.393038</td>\n",
       "      <td>0.269906</td>\n",
       "      <td>0.131205</td>\n",
       "      <td>-0.332973</td>\n",
       "      <td>-0.912799</td>\n",
       "      <td>-0.415123</td>\n",
       "      <td>0.874094</td>\n",
       "      <td>-2.330782</td>\n",
       "      <td>1.107640</td>\n",
       "    </tr>\n",
       "    <tr>\n",
       "      <th>149227</th>\n",
       "      <td>2.074830</td>\n",
       "      <td>0.215050</td>\n",
       "      <td>-1.068764</td>\n",
       "      <td>0.560042</td>\n",
       "      <td>0.132989</td>\n",
       "      <td>-1.254749</td>\n",
       "      <td>0.224346</td>\n",
       "      <td>-0.562973</td>\n",
       "      <td>1.673504</td>\n",
       "      <td>-0.406649</td>\n",
       "      <td>...</td>\n",
       "      <td>0.284918</td>\n",
       "      <td>-0.148426</td>\n",
       "      <td>-0.032131</td>\n",
       "      <td>-0.060406</td>\n",
       "      <td>-0.382630</td>\n",
       "      <td>0.050173</td>\n",
       "      <td>0.184981</td>\n",
       "      <td>0.962375</td>\n",
       "      <td>-1.339171</td>\n",
       "      <td>3.347635</td>\n",
       "    </tr>\n",
       "    <tr>\n",
       "      <th>90686</th>\n",
       "      <td>1.595011</td>\n",
       "      <td>-0.948404</td>\n",
       "      <td>0.102171</td>\n",
       "      <td>-1.523206</td>\n",
       "      <td>-1.146566</td>\n",
       "      <td>-0.558313</td>\n",
       "      <td>-0.945378</td>\n",
       "      <td>-0.189621</td>\n",
       "      <td>-1.771054</td>\n",
       "      <td>1.449329</td>\n",
       "      <td>...</td>\n",
       "      <td>0.498654</td>\n",
       "      <td>-0.152910</td>\n",
       "      <td>0.029844</td>\n",
       "      <td>0.010731</td>\n",
       "      <td>-0.368442</td>\n",
       "      <td>-0.525318</td>\n",
       "      <td>-0.240441</td>\n",
       "      <td>0.766509</td>\n",
       "      <td>-1.771054</td>\n",
       "      <td>1.595011</td>\n",
       "    </tr>\n",
       "  </tbody>\n",
       "</table>\n",
       "<p>5 rows × 34 columns</p>\n",
       "</div>"
      ],
      "text/plain": [
       "              V1        V2        V3        V4        V5        V6        V7  \\\n",
       "112899 -0.356283  1.112918  1.290513  0.066415  0.043603 -0.985110  0.715656   \n",
       "159575  1.931981 -0.316571 -2.321530 -0.066091  0.484918 -1.122348  0.652905   \n",
       "50359  -0.715260 -0.153615  1.107640 -2.330782 -1.418969 -0.924032 -0.690604   \n",
       "149227  2.074830  0.215050 -1.068764  0.560042  0.132989 -1.254749  0.224346   \n",
       "90686   1.595011 -0.948404  0.102171 -1.523206 -1.146566 -0.558313 -0.945378   \n",
       "\n",
       "              V8        V9       V10  ...       V25       V26       V27  \\\n",
       "112899 -0.076566 -0.405335 -0.514687  ... -0.155714  0.071875  0.244577   \n",
       "159575 -0.305699  0.183852  0.195278  ...  0.332352  0.181331 -0.122219   \n",
       "50359   0.521720 -2.102472  0.793331  ... -0.460863 -0.393038  0.269906   \n",
       "149227 -0.562973  1.673504 -0.406649  ...  0.284918 -0.148426 -0.032131   \n",
       "90686  -0.189621 -1.771054  1.449329  ...  0.498654 -0.152910  0.029844   \n",
       "\n",
       "             V28  scaled_amount  scaled_time      mean       std       min  \\\n",
       "112899  0.098909      -0.364931    -0.323418  0.016879  0.497693 -0.985110   \n",
       "159575 -0.070531      -0.071921     0.503349  0.043370  0.813237 -2.321530   \n",
       "50359   0.131205      -0.332973    -0.912799 -0.415123  0.874094 -2.330782   \n",
       "149227 -0.060406      -0.382630     0.050173  0.184981  0.962375 -1.339171   \n",
       "90686   0.010731      -0.368442    -0.525318 -0.240441  0.766509 -1.771054   \n",
       "\n",
       "             max  \n",
       "112899  1.290513  \n",
       "159575  1.931981  \n",
       "50359   1.107640  \n",
       "149227  3.347635  \n",
       "90686   1.595011  \n",
       "\n",
       "[5 rows x 34 columns]"
      ]
     },
     "execution_count": 59,
     "metadata": {},
     "output_type": "execute_result"
    }
   ],
   "source": [
    "X.head()"
   ]
  },
  {
   "cell_type": "markdown",
   "id": "4cb73389",
   "metadata": {},
   "source": [
    "<a id='7'></a>\n",
    "# Split the data into Training and Testing Data"
   ]
  },
  {
   "cell_type": "code",
   "execution_count": 100,
   "id": "f7111ac6",
   "metadata": {
    "ExecuteTime": {
     "end_time": "2022-01-08T22:09:59.780228Z",
     "start_time": "2022-01-08T22:09:59.767265Z"
    }
   },
   "outputs": [],
   "source": [
    "X_train, X_test, y_train, y_test = train_test_split(X, y, test_size=0.25, random_state=200)"
   ]
  },
  {
   "cell_type": "code",
   "execution_count": 101,
   "id": "ba5bdcef",
   "metadata": {
    "ExecuteTime": {
     "end_time": "2022-01-08T22:10:00.063036Z",
     "start_time": "2022-01-08T22:10:00.049083Z"
    }
   },
   "outputs": [
    {
     "name": "stdout",
     "output_type": "stream",
     "text": [
      "We have 738 Training data\n",
      "We have 246 Testing data\n"
     ]
    }
   ],
   "source": [
    "print(f\"We have {len(X_train)} Training data\\nWe have {len(X_test)} Testing data\")"
   ]
  },
  {
   "cell_type": "markdown",
   "id": "a1ce5981",
   "metadata": {},
   "source": [
    "<a id='8'></a>\n",
    "# Modeling"
   ]
  },
  {
   "cell_type": "code",
   "execution_count": 102,
   "id": "72cf7ace",
   "metadata": {
    "ExecuteTime": {
     "end_time": "2022-01-08T22:10:00.584843Z",
     "start_time": "2022-01-08T22:10:00.561939Z"
    }
   },
   "outputs": [],
   "source": [
    "def kfolds(model, model_name):\n",
    "    model = cross_val_score(model, X,y, cv=10)\n",
    "    model_score = np.average(model)\n",
    "    print(f\"{model_name} score on cross validation: {model_score * 100}%\")\n",
    "\n",
    "def train(model, model_name):\n",
    "    model.fit(X_train, y_train)\n",
    "    model_train_score = model.score(X_train, y_train)\n",
    "    model_test_score = model.score(X_test, y_test)\n",
    "    print(f\"{model_name} model score on Training data: {model_train_score * 100}%\\n{model_name} model score on Testing data: {model_test_score * 100}%\")\n",
    "\n",
    "def conf_matrix(model):\n",
    "    y_pred = model.predict(X_test)\n",
    "    cm = confusion_matrix(y_test, y_pred)\n",
    "    plt.figure(figsize=(8,5))\n",
    "    sns.heatmap(cm, annot=True, fmt='d');\n",
    "    \n",
    "def class_report(model):\n",
    "    y_pred = model.predict(X_test)\n",
    "    print(classification_report(y_test, y_pred))\n",
    "    \n",
    "def roc(model, model_name):\n",
    "    y_pred = model.decision_function(X_test)\n",
    "    fpr, tpr, _ = roc_curve(y_test, y_pred)\n",
    "    auc_svm = auc(fpr, tpr)\n",
    "    plt.figure(figsize=(5, 5), dpi=100)\n",
    "    plt.plot(fpr, tpr, color=\"darkorange\", label=f'{model_name} (auc = %0.3f)' % auc_svm)\n",
    "    plt.plot([0, 1], [0, 1], color=\"navy\", lw=2, linestyle=\"--\")\n",
    "    plt.xlabel('False Positive Rate -->')\n",
    "    plt.ylabel('True Positive Rate -->')\n",
    "    plt.legend()\n",
    "    plt.show()"
   ]
  },
  {
   "cell_type": "markdown",
   "id": "fbace835",
   "metadata": {},
   "source": [
    "<a id='8.1'></a>\n",
    "## Logistic Regression"
   ]
  },
  {
   "cell_type": "code",
   "execution_count": 103,
   "id": "8076cfbb",
   "metadata": {
    "ExecuteTime": {
     "end_time": "2022-01-08T22:10:01.395557Z",
     "start_time": "2022-01-08T22:10:01.141384Z"
    }
   },
   "outputs": [
    {
     "name": "stdout",
     "output_type": "stream",
     "text": [
      "Logistic Regression score on cross validation: 92.27891156462584%\n",
      "Logistic Regression model score on Training data: 94.98644986449864%\n",
      "Logistic Regression model score on Testing data: 93.4959349593496%\n"
     ]
    }
   ],
   "source": [
    "lr_model = LogisticRegression()\n",
    "kfolds(lr_model, \"Logistic Regression\")\n",
    "train(lr_model, \"Logistic Regression\")"
   ]
  },
  {
   "cell_type": "code",
   "execution_count": 104,
   "id": "143cccb9",
   "metadata": {
    "ExecuteTime": {
     "end_time": "2022-01-08T22:10:01.601006Z",
     "start_time": "2022-01-08T22:10:01.436446Z"
    }
   },
   "outputs": [
    {
     "data": {
      "image/png": "[encoded data removed]",
      "text/plain": [
       "<Figure size 576x360 with 2 Axes>"
      ]
     },
     "metadata": {
      "needs_background": "light"
     },
     "output_type": "display_data"
    }
   ],
   "source": [
    "conf_matrix(lr_model)"
   ]
  },
  {
   "cell_type": "code",
   "execution_count": 105,
   "id": "e72b6f96",
   "metadata": {
    "ExecuteTime": {
     "end_time": "2022-01-08T22:10:01.820974Z",
     "start_time": "2022-01-08T22:10:01.802024Z"
    }
   },
   "outputs": [
    {
     "name": "stdout",
     "output_type": "stream",
     "text": [
      "              precision    recall  f1-score   support\n",
      "\n",
      "           0       0.93      0.93      0.93       115\n",
      "           1       0.94      0.94      0.94       131\n",
      "\n",
      "    accuracy                           0.93       246\n",
      "   macro avg       0.93      0.93      0.93       246\n",
      "weighted avg       0.93      0.93      0.93       246\n",
      "\n"
     ]
    }
   ],
   "source": [
    "class_report(lr_model)"
   ]
  },
  {
   "cell_type": "code",
   "execution_count": 106,
   "id": "fc28a25a",
   "metadata": {
    "ExecuteTime": {
     "end_time": "2022-01-08T22:10:02.433854Z",
     "start_time": "2022-01-08T22:10:02.284301Z"
    }
   },
   "outputs": [
    {
     "data": {
      "image/png": "[encoded data removed]",
      "text/plain": [
       "<Figure size 500x500 with 1 Axes>"
      ]
     },
     "metadata": {
      "needs_background": "light"
     },
     "output_type": "display_data"
    }
   ],
   "source": [
    "roc(lr_model, \"Logistic Regression\")"
   ]
  },
  {
   "cell_type": "markdown",
   "id": "fce54427",
   "metadata": {},
   "source": [
    "<a id='8.2'></a>\n",
    "## Random Forest"
   ]
  },
  {
   "cell_type": "code",
   "execution_count": 107,
   "id": "4c1bd069",
   "metadata": {
    "ExecuteTime": {
     "end_time": "2022-01-08T22:10:05.176978Z",
     "start_time": "2022-01-08T22:10:03.413823Z"
    }
   },
   "outputs": [
    {
     "name": "stdout",
     "output_type": "stream",
     "text": [
      "Random Forest score on cross validation: 93.18903318903318%\n",
      "Random Forest model score on Training data: 99.86449864498645%\n",
      "Random Forest model score on Testing data: 94.71544715447155%\n"
     ]
    }
   ],
   "source": [
    "rf_model = RandomForestClassifier(n_estimators=70, random_state=40)\n",
    "kfolds(rf_model, \"Random Forest\")\n",
    "train(rf_model, \"Random Forest\")"
   ]
  },
  {
   "cell_type": "code",
   "execution_count": 108,
   "id": "3b0ce9be",
   "metadata": {
    "ExecuteTime": {
     "end_time": "2022-01-08T22:10:05.333692Z",
     "start_time": "2022-01-08T22:10:05.178938Z"
    }
   },
   "outputs": [
    {
     "data": {
      "image/png": "[encoded data removed]",
      "text/plain": [
       "<Figure size 576x360 with 2 Axes>"
      ]
     },
     "metadata": {
      "needs_background": "light"
     },
     "output_type": "display_data"
    }
   ],
   "source": [
    "conf_matrix(rf_model)"
   ]
  },
  {
   "cell_type": "code",
   "execution_count": 109,
   "id": "b31299d4",
   "metadata": {
    "ExecuteTime": {
     "end_time": "2022-01-08T22:10:16.417333Z",
     "start_time": "2022-01-08T22:10:16.394395Z"
    }
   },
   "outputs": [
    {
     "name": "stdout",
     "output_type": "stream",
     "text": [
      "              precision    recall  f1-score   support\n",
      "\n",
      "           0       0.93      0.97      0.94       115\n",
      "           1       0.97      0.93      0.95       131\n",
      "\n",
      "    accuracy                           0.95       246\n",
      "   macro avg       0.95      0.95      0.95       246\n",
      "weighted avg       0.95      0.95      0.95       246\n",
      "\n"
     ]
    }
   ],
   "source": [
    "class_report(rf_model)"
   ]
  },
  {
   "cell_type": "markdown",
   "id": "0dcab824",
   "metadata": {},
   "source": [
    "<a id='8.3'></a>\n",
    "## KNN"
   ]
  },
  {
   "cell_type": "code",
   "execution_count": 120,
   "id": "70d20876",
   "metadata": {
    "ExecuteTime": {
     "end_time": "2022-01-08T22:14:46.938389Z",
     "start_time": "2022-01-08T22:14:46.807615Z"
    }
   },
   "outputs": [
    {
     "name": "stdout",
     "output_type": "stream",
     "text": [
      "KNN score on cross validation: 93.18594104308391%\n",
      "KNN model score on Training data: 95.25745257452574%\n",
      "KNN model score on Testing data: 94.71544715447155%\n"
     ]
    }
   ],
   "source": [
    "knn_model = KNeighborsClassifier(n_neighbors=3)\n",
    "kfolds(knn_model, \"KNN\")\n",
    "train(knn_model, \"KNN\")"
   ]
  },
  {
   "cell_type": "code",
   "execution_count": 121,
   "id": "e0042fd2",
   "metadata": {
    "ExecuteTime": {
     "end_time": "2022-01-08T22:15:07.669070Z",
     "start_time": "2022-01-08T22:15:07.515606Z"
    }
   },
   "outputs": [
    {
     "data": {
      "image/png": "[encoded data removed]",
      "text/plain": [
       "<Figure size 576x360 with 2 Axes>"
      ]
     },
     "metadata": {
      "needs_background": "light"
     },
     "output_type": "display_data"
    }
   ],
   "source": [
    "conf_matrix(knn_model)"
   ]
  },
  {
   "cell_type": "code",
   "execution_count": 122,
   "id": "ae8f8b11",
   "metadata": {
    "ExecuteTime": {
     "end_time": "2022-01-08T22:15:21.268761Z",
     "start_time": "2022-01-08T22:15:21.245829Z"
    }
   },
   "outputs": [
    {
     "name": "stdout",
     "output_type": "stream",
     "text": [
      "              precision    recall  f1-score   support\n",
      "\n",
      "           0       0.93      0.97      0.94       115\n",
      "           1       0.97      0.93      0.95       131\n",
      "\n",
      "    accuracy                           0.95       246\n",
      "   macro avg       0.95      0.95      0.95       246\n",
      "weighted avg       0.95      0.95      0.95       246\n",
      "\n"
     ]
    }
   ],
   "source": [
    "class_report(knn_model)"
   ]
  },
  {
   "cell_type": "markdown",
   "id": "b6c1c4d8",
   "metadata": {},
   "source": [
    "<a id='8.4'></a>\n",
    "## Bagging"
   ]
  },
  {
   "cell_type": "code",
   "execution_count": 125,
   "id": "b506191a",
   "metadata": {
    "ExecuteTime": {
     "end_time": "2022-01-08T22:15:48.046298Z",
     "start_time": "2022-01-08T22:15:47.031161Z"
    }
   },
   "outputs": [
    {
     "name": "stdout",
     "output_type": "stream",
     "text": [
      "Bagging score on cross validation: 92.67882910740055%\n",
      "Bagging model score on Training data: 99.59349593495935%\n",
      "Bagging model score on Testing data: 95.1219512195122%\n"
     ]
    }
   ],
   "source": [
    "bagg_model = BaggingClassifier()\n",
    "kfolds(bagg_model, \"Bagging\")\n",
    "train(bagg_model, \"Bagging\")"
   ]
  },
  {
   "cell_type": "code",
   "execution_count": 126,
   "id": "85276cd2",
   "metadata": {
    "ExecuteTime": {
     "end_time": "2022-01-08T22:15:58.333894Z",
     "start_time": "2022-01-08T22:15:58.188016Z"
    }
   },
   "outputs": [
    {
     "data": {
      "image/png": "[encoded data removed]",
      "text/plain": [
       "<Figure size 576x360 with 2 Axes>"
      ]
     },
     "metadata": {
      "needs_background": "light"
     },
     "output_type": "display_data"
    }
   ],
   "source": [
    "conf_matrix(bagg_model)"
   ]
  },
  {
   "cell_type": "code",
   "execution_count": 127,
   "id": "6f3cfbad",
   "metadata": {
    "ExecuteTime": {
     "end_time": "2022-01-08T22:16:09.933212Z",
     "start_time": "2022-01-08T22:16:09.914263Z"
    }
   },
   "outputs": [
    {
     "name": "stdout",
     "output_type": "stream",
     "text": [
      "              precision    recall  f1-score   support\n",
      "\n",
      "           0       0.93      0.97      0.95       115\n",
      "           1       0.97      0.94      0.95       131\n",
      "\n",
      "    accuracy                           0.95       246\n",
      "   macro avg       0.95      0.95      0.95       246\n",
      "weighted avg       0.95      0.95      0.95       246\n",
      "\n"
     ]
    }
   ],
   "source": [
    "class_report(bagg_model)"
   ]
  },
  {
   "cell_type": "markdown",
   "id": "7c07d49a",
   "metadata": {},
   "source": [
    "<a id='8.5'></a>\n",
    "## Gradient Boosting"
   ]
  },
  {
   "cell_type": "code",
   "execution_count": 132,
   "id": "26252e11",
   "metadata": {
    "ExecuteTime": {
     "end_time": "2022-01-08T22:17:18.781987Z",
     "start_time": "2022-01-08T22:17:12.405585Z"
    }
   },
   "outputs": [
    {
     "name": "stdout",
     "output_type": "stream",
     "text": [
      "Boosting score on cross validation: 93.69408369408369%\n",
      "Boosting model score on Training data: 100.0%\n",
      "Boosting model score on Testing data: 94.3089430894309%\n"
     ]
    }
   ],
   "source": [
    "gb_model = GradientBoostingClassifier()\n",
    "kfolds(gb_model, \"Boosting\")\n",
    "train(gb_model, \"Boosting\")"
   ]
  },
  {
   "cell_type": "code",
   "execution_count": 133,
   "id": "b765e8fc",
   "metadata": {
    "ExecuteTime": {
     "end_time": "2022-01-08T22:17:22.552704Z",
     "start_time": "2022-01-08T22:17:22.403202Z"
    }
   },
   "outputs": [
    {
     "data": {
      "image/png": "[encoded data removed]",
      "text/plain": [
       "<Figure size 576x360 with 2 Axes>"
      ]
     },
     "metadata": {
      "needs_background": "light"
     },
     "output_type": "display_data"
    }
   ],
   "source": [
    "conf_matrix(gb_model)"
   ]
  },
  {
   "cell_type": "code",
   "execution_count": 134,
   "id": "653f16f6",
   "metadata": {
    "ExecuteTime": {
     "end_time": "2022-01-08T22:17:39.257523Z",
     "start_time": "2022-01-08T22:17:39.244550Z"
    }
   },
   "outputs": [
    {
     "name": "stdout",
     "output_type": "stream",
     "text": [
      "              precision    recall  f1-score   support\n",
      "\n",
      "           0       0.93      0.95      0.94       115\n",
      "           1       0.95      0.94      0.95       131\n",
      "\n",
      "    accuracy                           0.94       246\n",
      "   macro avg       0.94      0.94      0.94       246\n",
      "weighted avg       0.94      0.94      0.94       246\n",
      "\n"
     ]
    }
   ],
   "source": [
    "class_report(gb_model)"
   ]
  },
  {
   "cell_type": "markdown",
   "id": "6c9fbbb7",
   "metadata": {},
   "source": [
    "<a id='8.6'></a>\n",
    "## Decision Tree "
   ]
  },
  {
   "cell_type": "code",
   "execution_count": 135,
   "id": "817595e5",
   "metadata": {
    "ExecuteTime": {
     "end_time": "2022-01-08T22:17:57.523805Z",
     "start_time": "2022-01-08T22:17:57.319206Z"
    }
   },
   "outputs": [
    {
     "name": "stdout",
     "output_type": "stream",
     "text": [
      "Decision Tree score on cross validation: 87.59327973613689%\n",
      "Decision Tree model score on Training data: 100.0%\n",
      "Decision Tree model score on Testing data: 93.08943089430895%\n"
     ]
    }
   ],
   "source": [
    "dt_model = DecisionTreeClassifier()\n",
    "kfolds(dt_model, \"Decision Tree\")\n",
    "train(dt_model, \"Decision Tree\")"
   ]
  },
  {
   "cell_type": "code",
   "execution_count": 136,
   "id": "1c82c1f3",
   "metadata": {
    "ExecuteTime": {
     "end_time": "2022-01-08T22:18:08.812450Z",
     "start_time": "2022-01-08T22:18:08.666217Z"
    }
   },
   "outputs": [
    {
     "data": {
      "image/png": "[encoded data removed]",
      "text/plain": [
       "<Figure size 576x360 with 2 Axes>"
      ]
     },
     "metadata": {
      "needs_background": "light"
     },
     "output_type": "display_data"
    }
   ],
   "source": [
    "conf_matrix(dt_model)"
   ]
  },
  {
   "cell_type": "code",
   "execution_count": 137,
   "id": "70b0c768",
   "metadata": {
    "ExecuteTime": {
     "end_time": "2022-01-08T22:18:19.160101Z",
     "start_time": "2022-01-08T22:18:19.138160Z"
    }
   },
   "outputs": [
    {
     "name": "stdout",
     "output_type": "stream",
     "text": [
      "              precision    recall  f1-score   support\n",
      "\n",
      "           0       0.94      0.91      0.93       115\n",
      "           1       0.93      0.95      0.94       131\n",
      "\n",
      "    accuracy                           0.93       246\n",
      "   macro avg       0.93      0.93      0.93       246\n",
      "weighted avg       0.93      0.93      0.93       246\n",
      "\n"
     ]
    }
   ],
   "source": [
    "class_report(dt_model)"
   ]
  },
  {
   "cell_type": "markdown",
   "id": "d39def0d",
   "metadata": {},
   "source": [
    "<a id='8.7'></a>\n",
    "## SVM"
   ]
  },
  {
   "cell_type": "code",
   "execution_count": 152,
   "id": "2c0af058",
   "metadata": {
    "ExecuteTime": {
     "end_time": "2022-01-08T22:20:30.516007Z",
     "start_time": "2022-01-08T22:20:30.287409Z"
    }
   },
   "outputs": [
    {
     "name": "stdout",
     "output_type": "stream",
     "text": [
      "SVM score on cross validation: 92.78705421562563%\n",
      "SVM model score on Training data: 95.39295392953929%\n",
      "SVM model score on Testing data: 95.1219512195122%\n"
     ]
    }
   ],
   "source": [
    "svm_model = SVC(kernel='linear', gamma='auto')\n",
    "kfolds(svm_model, \"SVM\")\n",
    "train(svm_model, \"SVM\")"
   ]
  },
  {
   "cell_type": "code",
   "execution_count": 153,
   "id": "081de610",
   "metadata": {
    "ExecuteTime": {
     "end_time": "2022-01-08T22:20:37.038899Z",
     "start_time": "2022-01-08T22:20:36.888816Z"
    }
   },
   "outputs": [
    {
     "data": {
      "image/png": "[encoded data removed]",
      "text/plain": [
       "<Figure size 576x360 with 2 Axes>"
      ]
     },
     "metadata": {
      "needs_background": "light"
     },
     "output_type": "display_data"
    }
   ],
   "source": [
    "conf_matrix(svm_model)"
   ]
  },
  {
   "cell_type": "code",
   "execution_count": 154,
   "id": "7e05c4af",
   "metadata": {
    "ExecuteTime": {
     "end_time": "2022-01-08T22:20:49.028557Z",
     "start_time": "2022-01-08T22:20:49.019606Z"
    }
   },
   "outputs": [
    {
     "name": "stdout",
     "output_type": "stream",
     "text": [
      "              precision    recall  f1-score   support\n",
      "\n",
      "           0       0.94      0.96      0.95       115\n",
      "           1       0.96      0.95      0.95       131\n",
      "\n",
      "    accuracy                           0.95       246\n",
      "   macro avg       0.95      0.95      0.95       246\n",
      "weighted avg       0.95      0.95      0.95       246\n",
      "\n"
     ]
    }
   ],
   "source": [
    "class_report(svm_model)"
   ]
  },
  {
   "cell_type": "code",
   "execution_count": 155,
   "id": "3f08143d",
   "metadata": {
    "ExecuteTime": {
     "end_time": "2022-01-08T22:30:01.700092Z",
     "start_time": "2022-01-08T22:30:01.688092Z"
    }
   },
   "outputs": [
    {
     "name": "stdout",
     "output_type": "stream",
     "text": [
      "              precision    recall  f1-score   support\n",
      "\n",
      "           0       0.94      0.96      0.95       115\n",
      "           1       0.96      0.95      0.95       131\n",
      "\n",
      "    accuracy                           0.95       246\n",
      "   macro avg       0.95      0.95      0.95       246\n",
      "weighted avg       0.95      0.95      0.95       246\n",
      "\n"
     ]
    }
   ],
   "source": [
    "class_report(svm_model)"
   ]
  },
  {
   "cell_type": "code",
   "execution_count": 156,
   "id": "dfc6e4f5",
   "metadata": {
    "ExecuteTime": {
     "end_time": "2022-01-08T22:30:15.159170Z",
     "start_time": "2022-01-08T22:30:15.001398Z"
    }
   },
   "outputs": [
    {
     "data": {
      "image/png": "[encoded data removed]",
      "text/plain": [
       "<Figure size 500x500 with 1 Axes>"
      ]
     },
     "metadata": {
      "needs_background": "light"
     },
     "output_type": "display_data"
    }
   ],
   "source": [
    "roc(svm_model, \"SVM\")"
   ]
  },
  {
   "cell_type": "markdown",
   "id": "14c6829a",
   "metadata": {},
   "source": [
    "<a id='9'></a>\n",
    "# TP, TN, FP, FN"
   ]
  },
  {
   "cell_type": "code",
   "execution_count": 157,
   "id": "5bb9c6b6",
   "metadata": {
    "ExecuteTime": {
     "end_time": "2022-01-08T22:41:41.123115Z",
     "start_time": "2022-01-08T22:41:41.117164Z"
    }
   },
   "outputs": [],
   "source": [
    "def tp(model, model_name):\n",
    "    y_pred = model.predict(X_test)\n",
    "    cm = confusion_matrix(y_test, y_pred)\n",
    "    TN = cm[0][0]\n",
    "    FN = cm[1][0]\n",
    "    TP = cm[1][1]\n",
    "    FP = cm[0][1]\n",
    "    ACC = (TP+TN)/(TP+FP+FN+TN)\n",
    "    TPR = TP/(TP+FN)\n",
    "    TNR = TN/(TN+FP) \n",
    "    PPV = TP/(TP+FP)\n",
    "    NPV = TN/(TN+FN)\n",
    "    FPR = FP/(FP+TN)\n",
    "    FNR = FN/(TP+FN)\n",
    "    FDR = FP/(TP+FP)\n",
    "\n",
    "    print(f\"TP, FN, TP, FP Overall Accuarcy of {model_name}: {ACC*100}%\")\n",
    "    print(f\"Sensitivity Accuarcy of {model_name}: {TPR * 100}%\")\n",
    "    print(f\"Specificity Negative Rate Accuarcy of {model_name}: {TNR * 100}%\")\n",
    "    print(f\"Negative predictive value Accuarcy of {model_name}: {NPV * 100}%\")\n",
    "    print(f\"Fall out Accuarcy of {model_name}: {FPR * 100}%\")\n",
    "    print(f\"False negative rate Accuarcy of {model_name}: {FNR * 100}%\")\n",
    "    print(f\"False discovery rate Accuarcy of {model_name}: {FDR * 100}%\")"
   ]
  },
  {
   "cell_type": "markdown",
   "id": "8f2504dc",
   "metadata": {},
   "source": [
    "<a id='9.1'></a>\n",
    "## Logistic Regression"
   ]
  },
  {
   "cell_type": "code",
   "execution_count": 160,
   "id": "afb9308e",
   "metadata": {
    "ExecuteTime": {
     "end_time": "2022-01-08T22:47:29.611013Z",
     "start_time": "2022-01-08T22:47:29.590046Z"
    }
   },
   "outputs": [
    {
     "name": "stdout",
     "output_type": "stream",
     "text": [
      "TP, FN, TP, FP Overall Accuarcy of Logistic Regression: 93.4959349593496%\n",
      "Sensitivity Accuarcy of Logistic Regression: 93.89312977099237%\n",
      "Specificity Negative Rate Accuarcy of Logistic Regression: 93.04347826086956%\n",
      "Negative predictive value Accuarcy of Logistic Regression: 93.04347826086956%\n",
      "Fall out Accuarcy of Logistic Regression: 6.956521739130435%\n",
      "False negative rate Accuarcy of Logistic Regression: 6.106870229007633%\n",
      "False discovery rate Accuarcy of Logistic Regression: 6.106870229007633%\n"
     ]
    }
   ],
   "source": [
    "tp(lr_model, \"Logistic Regression\")"
   ]
  },
  {
   "cell_type": "markdown",
   "id": "ce4818cf",
   "metadata": {},
   "source": [
    "<a id='9.1'></a>\n",
    "## Random Forest"
   ]
  },
  {
   "cell_type": "code",
   "execution_count": 162,
   "id": "00e902ce",
   "metadata": {
    "ExecuteTime": {
     "end_time": "2022-01-08T22:47:49.749650Z",
     "start_time": "2022-01-08T22:47:49.734685Z"
    }
   },
   "outputs": [
    {
     "name": "stdout",
     "output_type": "stream",
     "text": [
      "TP, FN, TP, FP Overall Accuarcy of Random Forest: 94.71544715447155%\n",
      "Sensitivity Accuarcy of Random Forest: 93.12977099236642%\n",
      "Specificity Negative Rate Accuarcy of Random Forest: 96.52173913043478%\n",
      "Negative predictive value Accuarcy of Random Forest: 92.5%\n",
      "Fall out Accuarcy of Random Forest: 3.4782608695652173%\n",
      "False negative rate Accuarcy of Random Forest: 6.870229007633588%\n",
      "False discovery rate Accuarcy of Random Forest: 3.1746031746031744%\n"
     ]
    }
   ],
   "source": [
    "tp(rf_model, \"Random Forest\")"
   ]
  },
  {
   "cell_type": "markdown",
   "id": "8af57d9c",
   "metadata": {},
   "source": [
    "<a id='9.3'></a>\n",
    "## KNN"
   ]
  },
  {
   "cell_type": "code",
   "execution_count": 163,
   "id": "1e53eb73",
   "metadata": {
    "ExecuteTime": {
     "end_time": "2022-01-08T22:47:59.463276Z",
     "start_time": "2022-01-08T22:47:59.432390Z"
    }
   },
   "outputs": [
    {
     "name": "stdout",
     "output_type": "stream",
     "text": [
      "TP, FN, TP, FP Overall Accuarcy of KNN: 94.71544715447155%\n",
      "Sensitivity Accuarcy of KNN: 93.12977099236642%\n",
      "Specificity Negative Rate Accuarcy of KNN: 96.52173913043478%\n",
      "Negative predictive value Accuarcy of KNN: 92.5%\n",
      "Fall out Accuarcy of KNN: 3.4782608695652173%\n",
      "False negative rate Accuarcy of KNN: 6.870229007633588%\n",
      "False discovery rate Accuarcy of KNN: 3.1746031746031744%\n"
     ]
    }
   ],
   "source": [
    "tp(knn_model, \"KNN\")"
   ]
  },
  {
   "cell_type": "markdown",
   "id": "b043afb4",
   "metadata": {},
   "source": [
    "<a id='9.4'></a>\n",
    "## Bagging"
   ]
  },
  {
   "cell_type": "code",
   "execution_count": 164,
   "id": "3cb6b06d",
   "metadata": {
    "ExecuteTime": {
     "end_time": "2022-01-08T22:48:13.104341Z",
     "start_time": "2022-01-08T22:48:13.082364Z"
    }
   },
   "outputs": [
    {
     "name": "stdout",
     "output_type": "stream",
     "text": [
      "TP, FN, TP, FP Overall Accuarcy of Bagging: 95.1219512195122%\n",
      "Sensitivity Accuarcy of Bagging: 93.89312977099237%\n",
      "Specificity Negative Rate Accuarcy of Bagging: 96.52173913043478%\n",
      "Negative predictive value Accuarcy of Bagging: 93.27731092436974%\n",
      "Fall out Accuarcy of Bagging: 3.4782608695652173%\n",
      "False negative rate Accuarcy of Bagging: 6.106870229007633%\n",
      "False discovery rate Accuarcy of Bagging: 3.149606299212598%\n"
     ]
    }
   ],
   "source": [
    "tp(bagg_model, \"Bagging\")"
   ]
  },
  {
   "cell_type": "markdown",
   "id": "f108f248",
   "metadata": {},
   "source": [
    "<a id='9.5'></a>\n",
    "## Gradient Boosting"
   ]
  },
  {
   "cell_type": "code",
   "execution_count": 165,
   "id": "569abc0a",
   "metadata": {
    "ExecuteTime": {
     "end_time": "2022-01-08T22:48:29.537031Z",
     "start_time": "2022-01-08T22:48:29.527025Z"
    }
   },
   "outputs": [
    {
     "name": "stdout",
     "output_type": "stream",
     "text": [
      "TP, FN, TP, FP Overall Accuarcy of Gradient Boosting: 94.3089430894309%\n",
      "Sensitivity Accuarcy of Gradient Boosting: 93.89312977099237%\n",
      "Specificity Negative Rate Accuarcy of Gradient Boosting: 94.78260869565217%\n",
      "Negative predictive value Accuarcy of Gradient Boosting: 93.16239316239316%\n",
      "Fall out Accuarcy of Gradient Boosting: 5.217391304347826%\n",
      "False negative rate Accuarcy of Gradient Boosting: 6.106870229007633%\n",
      "False discovery rate Accuarcy of Gradient Boosting: 4.651162790697675%\n"
     ]
    }
   ],
   "source": [
    "tp(gb_model, \"Gradient Boosting\")"
   ]
  },
  {
   "cell_type": "markdown",
   "id": "9b763100",
   "metadata": {},
   "source": [
    "<a id='9.6'></a>\n",
    "## Decision Tree"
   ]
  },
  {
   "cell_type": "code",
   "execution_count": 166,
   "id": "8a533794",
   "metadata": {
    "ExecuteTime": {
     "end_time": "2022-01-08T22:48:46.593514Z",
     "start_time": "2022-01-08T22:48:46.585537Z"
    }
   },
   "outputs": [
    {
     "name": "stdout",
     "output_type": "stream",
     "text": [
      "TP, FN, TP, FP Overall Accuarcy of Decision Tree: 93.08943089430895%\n",
      "Sensitivity Accuarcy of Decision Tree: 94.65648854961832%\n",
      "Specificity Negative Rate Accuarcy of Decision Tree: 91.30434782608695%\n",
      "Negative predictive value Accuarcy of Decision Tree: 93.75%\n",
      "Fall out Accuarcy of Decision Tree: 8.695652173913043%\n",
      "False negative rate Accuarcy of Decision Tree: 5.343511450381679%\n",
      "False discovery rate Accuarcy of Decision Tree: 7.462686567164178%\n"
     ]
    }
   ],
   "source": [
    "tp(dt_model, \"Decision Tree\")"
   ]
  },
  {
   "cell_type": "markdown",
   "id": "a290d54a",
   "metadata": {},
   "source": [
    "<a id='9.7'></a>\n",
    "## SVM"
   ]
  },
  {
   "cell_type": "code",
   "execution_count": 167,
   "id": "5d2261ea",
   "metadata": {
    "ExecuteTime": {
     "end_time": "2022-01-08T22:48:58.224881Z",
     "start_time": "2022-01-08T22:48:58.203939Z"
    },
    "scrolled": true
   },
   "outputs": [
    {
     "name": "stdout",
     "output_type": "stream",
     "text": [
      "TP, FN, TP, FP Overall Accuarcy of SVM: 95.1219512195122%\n",
      "Sensitivity Accuarcy of SVM: 94.65648854961832%\n",
      "Specificity Negative Rate Accuarcy of SVM: 95.65217391304348%\n",
      "Negative predictive value Accuarcy of SVM: 94.01709401709401%\n",
      "Fall out Accuarcy of SVM: 4.3478260869565215%\n",
      "False negative rate Accuarcy of SVM: 5.343511450381679%\n",
      "False discovery rate Accuarcy of SVM: 3.875968992248062%\n"
     ]
    }
   ],
   "source": [
    "tp(svm_model, \"SVM\")"
   ]
  },
  {
   "cell_type": "markdown",
   "id": "eebb5c7b",
   "metadata": {},
   "source": [
    "<a id='10'></a>\n",
    "# Auto Machine Learning"
   ]
  },
  {
   "cell_type": "code",
   "execution_count": 168,
   "id": "9dce2f62",
   "metadata": {
    "ExecuteTime": {
     "end_time": "2022-01-09T01:12:37.227127Z",
     "start_time": "2022-01-08T22:50:52.773399Z"
    }
   },
   "outputs": [
    {
     "data": {
      "application/vnd.jupyter.widget-view+json": {
       "model_id": "",
       "version_major": 2,
       "version_minor": 0
      },
      "text/plain": [
       "Optimization Progress:   0%|          | 0/2200 [00:00<?, ?pipeline/s]"
      ]
     },
     "metadata": {},
     "output_type": "display_data"
    },
    {
     "name": "stdout",
     "output_type": "stream",
     "text": [
      "\n",
      "Generation 1 - Current best internal CV score: 0.9471677156608663\n",
      "\n",
      "Generation 2 - Current best internal CV score: 0.9471677156608663\n",
      "\n",
      "Generation 3 - Current best internal CV score: 0.9485190670122176\n",
      "\n",
      "Generation 4 - Current best internal CV score: 0.9485375786745651\n",
      "\n",
      "Generation 5 - Current best internal CV score: 0.9498519067012218\n",
      "\n",
      "Generation 6 - Current best internal CV score: 0.949870418363569\n",
      "\n",
      "Generation 7 - Current best internal CV score: 0.9512402813772678\n",
      "\n",
      "Generation 8 - Current best internal CV score: 0.9512402813772678\n",
      "\n",
      "Generation 9 - Current best internal CV score: 0.9512402813772678\n",
      "\n",
      "Generation 10 - Current best internal CV score: 0.9512402813772678\n",
      "\n",
      "Best pipeline: GradientBoostingClassifier(CombineDFs(input_matrix, input_matrix), learning_rate=0.1, max_depth=6, max_features=0.9500000000000001, min_samples_leaf=14, min_samples_split=20, n_estimators=100, subsample=0.6500000000000001)\n",
      "Automated Machine Learning model score on Training data: 100.0%\n",
      "Automated Machine Learning model score on Testing data: 92.6829268292683%\n"
     ]
    }
   ],
   "source": [
    "tpot_model = TPOTClassifier(generations=10, population_size=200, cv=10,\n",
    "                                    random_state=42, verbosity=2, scoring='accuracy')\n",
    "train(tpot_model, \"Automated Machine Learning\")"
   ]
  },
  {
   "cell_type": "code",
   "execution_count": 169,
   "id": "176ab46e",
   "metadata": {
    "ExecuteTime": {
     "end_time": "2022-01-09T01:13:22.334394Z",
     "start_time": "2022-01-09T01:13:22.174435Z"
    }
   },
   "outputs": [
    {
     "data": {
      "image/png": "[encoded data removed]",
      "text/plain": [
       "<Figure size 576x360 with 2 Axes>"
      ]
     },
     "metadata": {
      "needs_background": "light"
     },
     "output_type": "display_data"
    }
   ],
   "source": [
    "conf_matrix(tpot_model)"
   ]
  },
  {
   "cell_type": "code",
   "execution_count": 170,
   "id": "046f5049",
   "metadata": {
    "ExecuteTime": {
     "end_time": "2022-01-09T01:13:33.785821Z",
     "start_time": "2022-01-09T01:13:33.758895Z"
    }
   },
   "outputs": [
    {
     "name": "stdout",
     "output_type": "stream",
     "text": [
      "              precision    recall  f1-score   support\n",
      "\n",
      "           0       0.91      0.94      0.92       115\n",
      "           1       0.94      0.92      0.93       131\n",
      "\n",
      "    accuracy                           0.93       246\n",
      "   macro avg       0.93      0.93      0.93       246\n",
      "weighted avg       0.93      0.93      0.93       246\n",
      "\n"
     ]
    }
   ],
   "source": [
    "class_report(tpot_model)"
   ]
  },
  {
   "cell_type": "code",
   "execution_count": 172,
   "id": "d323f011",
   "metadata": {
    "ExecuteTime": {
     "end_time": "2022-01-09T01:14:19.782470Z",
     "start_time": "2022-01-09T01:14:19.771499Z"
    }
   },
   "outputs": [
    {
     "name": "stdout",
     "output_type": "stream",
     "text": [
      "TP, FN, TP, FP Overall Accuarcy of Automated ML: 92.6829268292683%\n",
      "Sensitivity Accuarcy of Automated ML: 91.6030534351145%\n",
      "Specificity Negative Rate Accuarcy of Automated ML: 93.91304347826087%\n",
      "Negative predictive value Accuarcy of Automated ML: 90.75630252100841%\n",
      "Fall out Accuarcy of Automated ML: 6.086956521739131%\n",
      "False negative rate Accuarcy of Automated ML: 8.396946564885496%\n",
      "False discovery rate Accuarcy of Automated ML: 5.511811023622047%\n"
     ]
    }
   ],
   "source": [
    "tp(tpot_model, \"Automated ML\")"
   ]
  }
 ],
 "metadata": {
  "kernelspec": {
   "display_name": "Python 3",
   "language": "python",
   "name": "python3"
  },
  "language_info": {
   "codemirror_mode": {
    "name": "ipython",
    "version": 3
   },
   "file_extension": ".py",
   "mimetype": "text/x-python",
   "name": "python",
   "nbconvert_exporter": "python",
   "pygments_lexer": "ipython3",
   "version": "3.8.8"
  },
  "toc": {
   "base_numbering": 1,
   "nav_menu": {},
   "number_sections": true,
   "sideBar": true,
   "skip_h1_title": false,
   "title_cell": "Table of Contents",
   "title_sidebar": "Contents",
   "toc_cell": false,
   "toc_position": {},
   "toc_section_display": true,
   "toc_window_display": false
  }
 },
 "nbformat": 4,
 "nbformat_minor": 5
}
