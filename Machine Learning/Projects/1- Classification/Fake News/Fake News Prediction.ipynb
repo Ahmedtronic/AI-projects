{
 "cells": [
  {
   "cell_type": "markdown",
   "id": "bdfdedde",
   "metadata": {},
   "source": [
    "# Table of Contents\n",
    "<a id=\"toc\"></a>\n",
    "- [1. Project Description](#1)\n",
    "- [2. Import Necssaries Libraries](#2)\n",
    "- [3. Exploaring the Data](#3)\n",
    "- [4. Data Preprocessing](#4)\n",
    "    - [4.1 Handling Null Values](#4.1)\n",
    "    - [4.2 Stemming](#4.2)\n",
    "    - [4.3 Converting the Textual Data to Numerical Data](#4.3)\n",
    "- [5.  Spliting the data into Training and Testing Data](#5)\n",
    "- [6. Modeling](#6)\n",
    "    - [6.1 Logistic Regression](#6.1)\n",
    "    - [6.2 Random Forest](#6.2)\n",
    "    - [6.3 KNN](#6.3)\n",
    "    - [6.4 Bagging](#6.4)\n",
    "    - [6.5 Gradient Boosting](#6.5)\n",
    "    - [6.6 Decision Tree](#6.6)\n",
    "    - [6.7 SVM](#6.7)\n",
    "    - [6.8 Naive Bayes](#6.8)\n",
    "- [7. TP, TN, FP, FN](#7)\n",
    "    - [7.1 Logistic Regression](#7.1)\n",
    "    - [7.2 Random Forest](#7.2)\n",
    "    - [7.3 KNN](#7.3)\n",
    "    - [7.4 Bagging](#7.4)\n",
    "    - [7.5 Gradient Boosting](#7.5)\n",
    "    - [7.6 Decision Tree](#7.6)\n",
    "    - [7.7 SVM](#7.7)\n",
    "    - [7.8 Naive Bayes](#7.8)\n"
   ]
  },
  {
   "cell_type": "markdown",
   "id": "d18d5d5b",
   "metadata": {},
   "source": [
    "<a id='1'></a>\n",
    "# Project Description\n",
    "Build a system to identify unreliable news articles (InClass Prediction Competition)"
   ]
  },
  {
   "cell_type": "markdown",
   "id": "8b2c7d8f",
   "metadata": {},
   "source": [
    "train.csv: A full training dataset with the following attributes:<br>\n",
    "\n",
    "id: unique id for a news article<br>\n",
    "title: the title of a news article<br>\n",
    "author: author of the news article<br>\n",
    "text: the text of the article; could be incomplete<br>\n",
    "label: a label that marks the article as potentially unreliable<br>\n",
    "1: unreliable<br>\n",
    "0: reliable<br>\n",
    "test.csv: A testing training dataset with all the same attributes at train.csv without the label.<br>\n",
    "submit.csv: A sample submission that you can"
   ]
  },
  {
   "cell_type": "markdown",
   "id": "7af22312",
   "metadata": {},
   "source": [
    "Develop a machine learning program to identify when an article might be fake news. Run by the UTK Machine Learning Club."
   ]
  },
  {
   "cell_type": "markdown",
   "id": "c3fb370b",
   "metadata": {},
   "source": [
    "Submission Format:\n",
    "For every article in the test dataset, submission files should contain two columns: `id` and `label`. The `id` column should refer to a row in the `test.csv` file, and the `label` column should refer it's class of reliable (`0`), or potentially fake (`1`)."
   ]
  },
  {
   "cell_type": "markdown",
   "id": "c177a12c",
   "metadata": {},
   "source": [
    "<a id='2'></a>\n",
    "# Import Necssaries Libraries"
   ]
  },
  {
   "cell_type": "code",
   "execution_count": 47,
   "id": "66d35f51",
   "metadata": {
    "ExecuteTime": {
     "end_time": "2022-01-11T03:47:03.490934Z",
     "start_time": "2022-01-11T03:47:03.477828Z"
    }
   },
   "outputs": [],
   "source": [
    "import pandas as pd\n",
    "import numpy as np\n",
    "import re\n",
    "from matplotlib import pyplot as plt\n",
    "%matplotlib inline\n",
    "import seaborn as sns\n",
    "\n",
    "from nltk.corpus import stopwords\n",
    "from nltk.stem.porter import PorterStemmer\n",
    "\n",
    "from sklearn.feature_extraction.text import CountVectorizer\n",
    "from sklearn.feature_extraction.text import TfidfTransformer\n",
    "from sklearn.model_selection import train_test_split, cross_val_score\n",
    "from sklearn.metrics import confusion_matrix, classification_report, roc_curve, auc\n",
    "from sklearn.linear_model import LogisticRegression\n",
    "from sklearn.ensemble import RandomForestClassifier, BaggingClassifier, GradientBoostingClassifier\n",
    "from sklearn.tree import DecisionTreeClassifier\n",
    "from sklearn.neighbors import KNeighborsClassifier\n",
    "from sklearn.svm import SVC\n",
    "from sklearn.naive_bayes import MultinomialNB\n",
    "\n",
    "import warnings\n",
    "warnings.filterwarnings(\"ignore\")"
   ]
  },
  {
   "cell_type": "markdown",
   "id": "7dde4f5b",
   "metadata": {},
   "source": [
    "<a id='3'></a>\n",
    "# Exploaring the data"
   ]
  },
  {
   "cell_type": "code",
   "execution_count": 2,
   "id": "7932f926",
   "metadata": {
    "ExecuteTime": {
     "end_time": "2022-01-11T03:25:07.798793Z",
     "start_time": "2022-01-11T03:25:06.242885Z"
    }
   },
   "outputs": [
    {
     "data": {
      "text/html": [
       "<div>\n",
       "<style scoped>\n",
       "    .dataframe tbody tr th:only-of-type {\n",
       "        vertical-align: middle;\n",
       "    }\n",
       "\n",
       "    .dataframe tbody tr th {\n",
       "        vertical-align: top;\n",
       "    }\n",
       "\n",
       "    .dataframe thead th {\n",
       "        text-align: right;\n",
       "    }\n",
       "</style>\n",
       "<table border=\"1\" class=\"dataframe\">\n",
       "  <thead>\n",
       "    <tr style=\"text-align: right;\">\n",
       "      <th></th>\n",
       "      <th>id</th>\n",
       "      <th>title</th>\n",
       "      <th>author</th>\n",
       "      <th>text</th>\n",
       "      <th>label</th>\n",
       "    </tr>\n",
       "  </thead>\n",
       "  <tbody>\n",
       "    <tr>\n",
       "      <th>0</th>\n",
       "      <td>0</td>\n",
       "      <td>House Dem Aide: We Didn’t Even See Comey’s Let...</td>\n",
       "      <td>Darrell Lucus</td>\n",
       "      <td>House Dem Aide: We Didn’t Even See Comey’s Let...</td>\n",
       "      <td>1</td>\n",
       "    </tr>\n",
       "    <tr>\n",
       "      <th>1</th>\n",
       "      <td>1</td>\n",
       "      <td>FLYNN: Hillary Clinton, Big Woman on Campus - ...</td>\n",
       "      <td>Daniel J. Flynn</td>\n",
       "      <td>Ever get the feeling your life circles the rou...</td>\n",
       "      <td>0</td>\n",
       "    </tr>\n",
       "    <tr>\n",
       "      <th>2</th>\n",
       "      <td>2</td>\n",
       "      <td>Why the Truth Might Get You Fired</td>\n",
       "      <td>Consortiumnews.com</td>\n",
       "      <td>Why the Truth Might Get You Fired October 29, ...</td>\n",
       "      <td>1</td>\n",
       "    </tr>\n",
       "    <tr>\n",
       "      <th>3</th>\n",
       "      <td>3</td>\n",
       "      <td>15 Civilians Killed In Single US Airstrike Hav...</td>\n",
       "      <td>Jessica Purkiss</td>\n",
       "      <td>Videos 15 Civilians Killed In Single US Airstr...</td>\n",
       "      <td>1</td>\n",
       "    </tr>\n",
       "    <tr>\n",
       "      <th>4</th>\n",
       "      <td>4</td>\n",
       "      <td>Iranian woman jailed for fictional unpublished...</td>\n",
       "      <td>Howard Portnoy</td>\n",
       "      <td>Print \\r\\nAn Iranian woman has been sentenced ...</td>\n",
       "      <td>1</td>\n",
       "    </tr>\n",
       "  </tbody>\n",
       "</table>\n",
       "</div>"
      ],
      "text/plain": [
       "   id                                              title              author  \\\n",
       "0   0  House Dem Aide: We Didn’t Even See Comey’s Let...       Darrell Lucus   \n",
       "1   1  FLYNN: Hillary Clinton, Big Woman on Campus - ...     Daniel J. Flynn   \n",
       "2   2                  Why the Truth Might Get You Fired  Consortiumnews.com   \n",
       "3   3  15 Civilians Killed In Single US Airstrike Hav...     Jessica Purkiss   \n",
       "4   4  Iranian woman jailed for fictional unpublished...      Howard Portnoy   \n",
       "\n",
       "                                                text  label  \n",
       "0  House Dem Aide: We Didn’t Even See Comey’s Let...      1  \n",
       "1  Ever get the feeling your life circles the rou...      0  \n",
       "2  Why the Truth Might Get You Fired October 29, ...      1  \n",
       "3  Videos 15 Civilians Killed In Single US Airstr...      1  \n",
       "4  Print \\r\\nAn Iranian woman has been sentenced ...      1  "
      ]
     },
     "execution_count": 2,
     "metadata": {},
     "output_type": "execute_result"
    }
   ],
   "source": [
    "train_data= pd.read_csv('train.csv')\n",
    "train_data.head()"
   ]
  },
  {
   "cell_type": "code",
   "execution_count": 3,
   "id": "d27a9a80",
   "metadata": {
    "ExecuteTime": {
     "end_time": "2022-01-11T03:25:08.327524Z",
     "start_time": "2022-01-11T03:25:07.800829Z"
    }
   },
   "outputs": [
    {
     "data": {
      "text/html": [
       "<div>\n",
       "<style scoped>\n",
       "    .dataframe tbody tr th:only-of-type {\n",
       "        vertical-align: middle;\n",
       "    }\n",
       "\n",
       "    .dataframe tbody tr th {\n",
       "        vertical-align: top;\n",
       "    }\n",
       "\n",
       "    .dataframe thead th {\n",
       "        text-align: right;\n",
       "    }\n",
       "</style>\n",
       "<table border=\"1\" class=\"dataframe\">\n",
       "  <thead>\n",
       "    <tr style=\"text-align: right;\">\n",
       "      <th></th>\n",
       "      <th>id</th>\n",
       "      <th>title</th>\n",
       "      <th>author</th>\n",
       "      <th>text</th>\n",
       "    </tr>\n",
       "  </thead>\n",
       "  <tbody>\n",
       "    <tr>\n",
       "      <th>0</th>\n",
       "      <td>20800</td>\n",
       "      <td>Specter of Trump Loosens Tongues, if Not Purse...</td>\n",
       "      <td>David Streitfeld</td>\n",
       "      <td>PALO ALTO, Calif.  —   After years of scorning...</td>\n",
       "    </tr>\n",
       "    <tr>\n",
       "      <th>1</th>\n",
       "      <td>20801</td>\n",
       "      <td>Russian warships ready to strike terrorists ne...</td>\n",
       "      <td>NaN</td>\n",
       "      <td>Russian warships ready to strike terrorists ne...</td>\n",
       "    </tr>\n",
       "    <tr>\n",
       "      <th>2</th>\n",
       "      <td>20802</td>\n",
       "      <td>#NoDAPL: Native American Leaders Vow to Stay A...</td>\n",
       "      <td>Common Dreams</td>\n",
       "      <td>Videos #NoDAPL: Native American Leaders Vow to...</td>\n",
       "    </tr>\n",
       "    <tr>\n",
       "      <th>3</th>\n",
       "      <td>20803</td>\n",
       "      <td>Tim Tebow Will Attempt Another Comeback, This ...</td>\n",
       "      <td>Daniel Victor</td>\n",
       "      <td>If at first you don’t succeed, try a different...</td>\n",
       "    </tr>\n",
       "    <tr>\n",
       "      <th>4</th>\n",
       "      <td>20804</td>\n",
       "      <td>Keiser Report: Meme Wars (E995)</td>\n",
       "      <td>Truth Broadcast Network</td>\n",
       "      <td>42 mins ago 1 Views 0 Comments 0 Likes 'For th...</td>\n",
       "    </tr>\n",
       "  </tbody>\n",
       "</table>\n",
       "</div>"
      ],
      "text/plain": [
       "      id                                              title  \\\n",
       "0  20800  Specter of Trump Loosens Tongues, if Not Purse...   \n",
       "1  20801  Russian warships ready to strike terrorists ne...   \n",
       "2  20802  #NoDAPL: Native American Leaders Vow to Stay A...   \n",
       "3  20803  Tim Tebow Will Attempt Another Comeback, This ...   \n",
       "4  20804                    Keiser Report: Meme Wars (E995)   \n",
       "\n",
       "                    author                                               text  \n",
       "0         David Streitfeld  PALO ALTO, Calif.  —   After years of scorning...  \n",
       "1                      NaN  Russian warships ready to strike terrorists ne...  \n",
       "2            Common Dreams  Videos #NoDAPL: Native American Leaders Vow to...  \n",
       "3            Daniel Victor  If at first you don’t succeed, try a different...  \n",
       "4  Truth Broadcast Network  42 mins ago 1 Views 0 Comments 0 Likes 'For th...  "
      ]
     },
     "execution_count": 3,
     "metadata": {},
     "output_type": "execute_result"
    }
   ],
   "source": [
    "test_data = pd.read_csv('test.csv')\n",
    "test_data.head()"
   ]
  },
  {
   "cell_type": "code",
   "execution_count": 4,
   "id": "bac404f5",
   "metadata": {
    "ExecuteTime": {
     "end_time": "2022-01-11T03:25:08.347504Z",
     "start_time": "2022-01-11T03:25:08.328520Z"
    }
   },
   "outputs": [
    {
     "data": {
      "text/plain": [
       "(20800, 5)"
      ]
     },
     "execution_count": 4,
     "metadata": {},
     "output_type": "execute_result"
    }
   ],
   "source": [
    "train_data.shape"
   ]
  },
  {
   "cell_type": "code",
   "execution_count": 5,
   "id": "ef96cfd4",
   "metadata": {
    "ExecuteTime": {
     "end_time": "2022-01-11T03:25:08.362753Z",
     "start_time": "2022-01-11T03:25:08.348745Z"
    }
   },
   "outputs": [
    {
     "data": {
      "text/plain": [
       "(5200, 4)"
      ]
     },
     "execution_count": 5,
     "metadata": {},
     "output_type": "execute_result"
    }
   ],
   "source": [
    "test_data.shape"
   ]
  },
  {
   "cell_type": "markdown",
   "id": "b31b66b3",
   "metadata": {},
   "source": [
    "stropwords are those words which dosen't add much value to a paragraph or text can be the words such as (the, a , you , where, what ,when, etc...)"
   ]
  },
  {
   "cell_type": "code",
   "execution_count": 6,
   "id": "4864db07",
   "metadata": {
    "ExecuteTime": {
     "end_time": "2022-01-11T03:25:08.378697Z",
     "start_time": "2022-01-11T03:25:08.363705Z"
    }
   },
   "outputs": [
    {
     "name": "stdout",
     "output_type": "stream",
     "text": [
      "['i', 'me', 'my', 'myself', 'we', 'our', 'ours', 'ourselves', 'you', \"you're\", \"you've\", \"you'll\", \"you'd\", 'your', 'yours', 'yourself', 'yourselves', 'he', 'him', 'his', 'himself', 'she', \"she's\", 'her', 'hers', 'herself', 'it', \"it's\", 'its', 'itself', 'they', 'them', 'their', 'theirs', 'themselves', 'what', 'which', 'who', 'whom', 'this', 'that', \"that'll\", 'these', 'those', 'am', 'is', 'are', 'was', 'were', 'be', 'been', 'being', 'have', 'has', 'had', 'having', 'do', 'does', 'did', 'doing', 'a', 'an', 'the', 'and', 'but', 'if', 'or', 'because', 'as', 'until', 'while', 'of', 'at', 'by', 'for', 'with', 'about', 'against', 'between', 'into', 'through', 'during', 'before', 'after', 'above', 'below', 'to', 'from', 'up', 'down', 'in', 'out', 'on', 'off', 'over', 'under', 'again', 'further', 'then', 'once', 'here', 'there', 'when', 'where', 'why', 'how', 'all', 'any', 'both', 'each', 'few', 'more', 'most', 'other', 'some', 'such', 'no', 'nor', 'not', 'only', 'own', 'same', 'so', 'than', 'too', 'very', 's', 't', 'can', 'will', 'just', 'don', \"don't\", 'should', \"should've\", 'now', 'd', 'll', 'm', 'o', 're', 've', 'y', 'ain', 'aren', \"aren't\", 'couldn', \"couldn't\", 'didn', \"didn't\", 'doesn', \"doesn't\", 'hadn', \"hadn't\", 'hasn', \"hasn't\", 'haven', \"haven't\", 'isn', \"isn't\", 'ma', 'mightn', \"mightn't\", 'mustn', \"mustn't\", 'needn', \"needn't\", 'shan', \"shan't\", 'shouldn', \"shouldn't\", 'wasn', \"wasn't\", 'weren', \"weren't\", 'won', \"won't\", 'wouldn', \"wouldn't\"]\n"
     ]
    }
   ],
   "source": [
    "print(stopwords.words('english'))"
   ]
  },
  {
   "cell_type": "code",
   "execution_count": 7,
   "id": "0ea8b442",
   "metadata": {
    "ExecuteTime": {
     "end_time": "2022-01-11T03:25:08.394654Z",
     "start_time": "2022-01-11T03:25:08.379662Z"
    }
   },
   "outputs": [
    {
     "data": {
      "text/plain": [
       "id           0\n",
       "title      558\n",
       "author    1957\n",
       "text        39\n",
       "label        0\n",
       "dtype: int64"
      ]
     },
     "execution_count": 7,
     "metadata": {},
     "output_type": "execute_result"
    }
   ],
   "source": [
    "train_data.isnull().sum()"
   ]
  },
  {
   "cell_type": "code",
   "execution_count": 8,
   "id": "e7eb8522",
   "metadata": {
    "ExecuteTime": {
     "end_time": "2022-01-11T03:25:08.410579Z",
     "start_time": "2022-01-11T03:25:08.396620Z"
    }
   },
   "outputs": [
    {
     "data": {
      "text/plain": [
       "id          0\n",
       "title     122\n",
       "author    503\n",
       "text        7\n",
       "dtype: int64"
      ]
     },
     "execution_count": 8,
     "metadata": {},
     "output_type": "execute_result"
    }
   ],
   "source": [
    "test_data.isnull().sum()"
   ]
  },
  {
   "cell_type": "markdown",
   "id": "d4df1940",
   "metadata": {},
   "source": [
    "<a id='4'></a>\n",
    "# Data Preprocessing"
   ]
  },
  {
   "cell_type": "markdown",
   "id": "56e28bfa",
   "metadata": {},
   "source": [
    "<a id='5.1'></a>\n",
    "## Handling Null Values"
   ]
  },
  {
   "cell_type": "code",
   "execution_count": 9,
   "id": "fc1f74e7",
   "metadata": {
    "ExecuteTime": {
     "end_time": "2022-01-11T03:25:08.458077Z",
     "start_time": "2022-01-11T03:25:08.411576Z"
    }
   },
   "outputs": [],
   "source": [
    "train_data.fillna(' ', inplace=True)\n",
    "test_data.fillna(' ', inplace=True)\n",
    "\n",
    "test_data['content']=test_data['author']+' '+test_data['title']\n",
    "train_data['content']=train_data['author']+' '+train_data['title']"
   ]
  },
  {
   "cell_type": "code",
   "execution_count": 10,
   "id": "fd80dd04",
   "metadata": {
    "ExecuteTime": {
     "end_time": "2022-01-11T03:25:08.473870Z",
     "start_time": "2022-01-11T03:25:08.458887Z"
    }
   },
   "outputs": [
    {
     "data": {
      "text/html": [
       "<div>\n",
       "<style scoped>\n",
       "    .dataframe tbody tr th:only-of-type {\n",
       "        vertical-align: middle;\n",
       "    }\n",
       "\n",
       "    .dataframe tbody tr th {\n",
       "        vertical-align: top;\n",
       "    }\n",
       "\n",
       "    .dataframe thead th {\n",
       "        text-align: right;\n",
       "    }\n",
       "</style>\n",
       "<table border=\"1\" class=\"dataframe\">\n",
       "  <thead>\n",
       "    <tr style=\"text-align: right;\">\n",
       "      <th></th>\n",
       "      <th>id</th>\n",
       "      <th>title</th>\n",
       "      <th>author</th>\n",
       "      <th>text</th>\n",
       "      <th>label</th>\n",
       "      <th>content</th>\n",
       "    </tr>\n",
       "  </thead>\n",
       "  <tbody>\n",
       "    <tr>\n",
       "      <th>0</th>\n",
       "      <td>0</td>\n",
       "      <td>House Dem Aide: We Didn’t Even See Comey’s Let...</td>\n",
       "      <td>Darrell Lucus</td>\n",
       "      <td>House Dem Aide: We Didn’t Even See Comey’s Let...</td>\n",
       "      <td>1</td>\n",
       "      <td>Darrell Lucus House Dem Aide: We Didn’t Even S...</td>\n",
       "    </tr>\n",
       "    <tr>\n",
       "      <th>1</th>\n",
       "      <td>1</td>\n",
       "      <td>FLYNN: Hillary Clinton, Big Woman on Campus - ...</td>\n",
       "      <td>Daniel J. Flynn</td>\n",
       "      <td>Ever get the feeling your life circles the rou...</td>\n",
       "      <td>0</td>\n",
       "      <td>Daniel J. Flynn FLYNN: Hillary Clinton, Big Wo...</td>\n",
       "    </tr>\n",
       "    <tr>\n",
       "      <th>2</th>\n",
       "      <td>2</td>\n",
       "      <td>Why the Truth Might Get You Fired</td>\n",
       "      <td>Consortiumnews.com</td>\n",
       "      <td>Why the Truth Might Get You Fired October 29, ...</td>\n",
       "      <td>1</td>\n",
       "      <td>Consortiumnews.com Why the Truth Might Get You...</td>\n",
       "    </tr>\n",
       "    <tr>\n",
       "      <th>3</th>\n",
       "      <td>3</td>\n",
       "      <td>15 Civilians Killed In Single US Airstrike Hav...</td>\n",
       "      <td>Jessica Purkiss</td>\n",
       "      <td>Videos 15 Civilians Killed In Single US Airstr...</td>\n",
       "      <td>1</td>\n",
       "      <td>Jessica Purkiss 15 Civilians Killed In Single ...</td>\n",
       "    </tr>\n",
       "    <tr>\n",
       "      <th>4</th>\n",
       "      <td>4</td>\n",
       "      <td>Iranian woman jailed for fictional unpublished...</td>\n",
       "      <td>Howard Portnoy</td>\n",
       "      <td>Print \\r\\nAn Iranian woman has been sentenced ...</td>\n",
       "      <td>1</td>\n",
       "      <td>Howard Portnoy Iranian woman jailed for fictio...</td>\n",
       "    </tr>\n",
       "  </tbody>\n",
       "</table>\n",
       "</div>"
      ],
      "text/plain": [
       "   id                                              title              author  \\\n",
       "0   0  House Dem Aide: We Didn’t Even See Comey’s Let...       Darrell Lucus   \n",
       "1   1  FLYNN: Hillary Clinton, Big Woman on Campus - ...     Daniel J. Flynn   \n",
       "2   2                  Why the Truth Might Get You Fired  Consortiumnews.com   \n",
       "3   3  15 Civilians Killed In Single US Airstrike Hav...     Jessica Purkiss   \n",
       "4   4  Iranian woman jailed for fictional unpublished...      Howard Portnoy   \n",
       "\n",
       "                                                text  label  \\\n",
       "0  House Dem Aide: We Didn’t Even See Comey’s Let...      1   \n",
       "1  Ever get the feeling your life circles the rou...      0   \n",
       "2  Why the Truth Might Get You Fired October 29, ...      1   \n",
       "3  Videos 15 Civilians Killed In Single US Airstr...      1   \n",
       "4  Print \\r\\nAn Iranian woman has been sentenced ...      1   \n",
       "\n",
       "                                             content  \n",
       "0  Darrell Lucus House Dem Aide: We Didn’t Even S...  \n",
       "1  Daniel J. Flynn FLYNN: Hillary Clinton, Big Wo...  \n",
       "2  Consortiumnews.com Why the Truth Might Get You...  \n",
       "3  Jessica Purkiss 15 Civilians Killed In Single ...  \n",
       "4  Howard Portnoy Iranian woman jailed for fictio...  "
      ]
     },
     "execution_count": 10,
     "metadata": {},
     "output_type": "execute_result"
    }
   ],
   "source": [
    "train_data.head()"
   ]
  },
  {
   "cell_type": "code",
   "execution_count": 11,
   "id": "529e3618",
   "metadata": {
    "ExecuteTime": {
     "end_time": "2022-01-11T03:25:08.488810Z",
     "start_time": "2022-01-11T03:25:08.474847Z"
    }
   },
   "outputs": [
    {
     "data": {
      "text/html": [
       "<div>\n",
       "<style scoped>\n",
       "    .dataframe tbody tr th:only-of-type {\n",
       "        vertical-align: middle;\n",
       "    }\n",
       "\n",
       "    .dataframe tbody tr th {\n",
       "        vertical-align: top;\n",
       "    }\n",
       "\n",
       "    .dataframe thead th {\n",
       "        text-align: right;\n",
       "    }\n",
       "</style>\n",
       "<table border=\"1\" class=\"dataframe\">\n",
       "  <thead>\n",
       "    <tr style=\"text-align: right;\">\n",
       "      <th></th>\n",
       "      <th>id</th>\n",
       "      <th>title</th>\n",
       "      <th>author</th>\n",
       "      <th>text</th>\n",
       "      <th>content</th>\n",
       "    </tr>\n",
       "  </thead>\n",
       "  <tbody>\n",
       "    <tr>\n",
       "      <th>0</th>\n",
       "      <td>20800</td>\n",
       "      <td>Specter of Trump Loosens Tongues, if Not Purse...</td>\n",
       "      <td>David Streitfeld</td>\n",
       "      <td>PALO ALTO, Calif.  —   After years of scorning...</td>\n",
       "      <td>David Streitfeld Specter of Trump Loosens Tong...</td>\n",
       "    </tr>\n",
       "    <tr>\n",
       "      <th>1</th>\n",
       "      <td>20801</td>\n",
       "      <td>Russian warships ready to strike terrorists ne...</td>\n",
       "      <td></td>\n",
       "      <td>Russian warships ready to strike terrorists ne...</td>\n",
       "      <td>Russian warships ready to strike terrorists ...</td>\n",
       "    </tr>\n",
       "    <tr>\n",
       "      <th>2</th>\n",
       "      <td>20802</td>\n",
       "      <td>#NoDAPL: Native American Leaders Vow to Stay A...</td>\n",
       "      <td>Common Dreams</td>\n",
       "      <td>Videos #NoDAPL: Native American Leaders Vow to...</td>\n",
       "      <td>Common Dreams #NoDAPL: Native American Leaders...</td>\n",
       "    </tr>\n",
       "    <tr>\n",
       "      <th>3</th>\n",
       "      <td>20803</td>\n",
       "      <td>Tim Tebow Will Attempt Another Comeback, This ...</td>\n",
       "      <td>Daniel Victor</td>\n",
       "      <td>If at first you don’t succeed, try a different...</td>\n",
       "      <td>Daniel Victor Tim Tebow Will Attempt Another C...</td>\n",
       "    </tr>\n",
       "    <tr>\n",
       "      <th>4</th>\n",
       "      <td>20804</td>\n",
       "      <td>Keiser Report: Meme Wars (E995)</td>\n",
       "      <td>Truth Broadcast Network</td>\n",
       "      <td>42 mins ago 1 Views 0 Comments 0 Likes 'For th...</td>\n",
       "      <td>Truth Broadcast Network Keiser Report: Meme Wa...</td>\n",
       "    </tr>\n",
       "  </tbody>\n",
       "</table>\n",
       "</div>"
      ],
      "text/plain": [
       "      id                                              title  \\\n",
       "0  20800  Specter of Trump Loosens Tongues, if Not Purse...   \n",
       "1  20801  Russian warships ready to strike terrorists ne...   \n",
       "2  20802  #NoDAPL: Native American Leaders Vow to Stay A...   \n",
       "3  20803  Tim Tebow Will Attempt Another Comeback, This ...   \n",
       "4  20804                    Keiser Report: Meme Wars (E995)   \n",
       "\n",
       "                    author                                               text  \\\n",
       "0         David Streitfeld  PALO ALTO, Calif.  —   After years of scorning...   \n",
       "1                           Russian warships ready to strike terrorists ne...   \n",
       "2            Common Dreams  Videos #NoDAPL: Native American Leaders Vow to...   \n",
       "3            Daniel Victor  If at first you don’t succeed, try a different...   \n",
       "4  Truth Broadcast Network  42 mins ago 1 Views 0 Comments 0 Likes 'For th...   \n",
       "\n",
       "                                             content  \n",
       "0  David Streitfeld Specter of Trump Loosens Tong...  \n",
       "1    Russian warships ready to strike terrorists ...  \n",
       "2  Common Dreams #NoDAPL: Native American Leaders...  \n",
       "3  Daniel Victor Tim Tebow Will Attempt Another C...  \n",
       "4  Truth Broadcast Network Keiser Report: Meme Wa...  "
      ]
     },
     "execution_count": 11,
     "metadata": {},
     "output_type": "execute_result"
    }
   ],
   "source": [
    "test_data.head()"
   ]
  },
  {
   "cell_type": "markdown",
   "id": "cc144828",
   "metadata": {},
   "source": [
    "<a id='4.2'></a>\n",
    "## Stemming"
   ]
  },
  {
   "cell_type": "code",
   "execution_count": 12,
   "id": "0b190308",
   "metadata": {
    "ExecuteTime": {
     "end_time": "2022-01-11T03:25:08.504767Z",
     "start_time": "2022-01-11T03:25:08.490804Z"
    }
   },
   "outputs": [],
   "source": [
    "port_stem = PorterStemmer()"
   ]
  },
  {
   "cell_type": "code",
   "execution_count": 13,
   "id": "df0515d1",
   "metadata": {
    "ExecuteTime": {
     "end_time": "2022-01-11T03:25:08.519782Z",
     "start_time": "2022-01-11T03:25:08.505764Z"
    }
   },
   "outputs": [],
   "source": [
    "def stemming(content):\n",
    "    stemmed_content = re.sub('[^A-z]',' ',content) # this removes everything except Alphabets so it will removes numbers and sympoles and replace them by a space\n",
    "    stemmed_content = stemmed_content.lower() # convert all words into lower case letters\n",
    "    stemmed_content = stemmed_content.split() #Split the words into list\n",
    "    stemmed_content = [port_stem.stem(word) for word in stemmed_content if not word in stopwords.words('english')] # we are steamming this words which taking each word and reducing it to its root word and this case we are removing the stropwords\n",
    "    stemmed_content = ' '.join(stemmed_content) # after finish joining all the words \n",
    "    return stemmed_content"
   ]
  },
  {
   "cell_type": "code",
   "execution_count": 14,
   "id": "e4166f13",
   "metadata": {
    "ExecuteTime": {
     "end_time": "2022-01-11T03:26:53.973692Z",
     "start_time": "2022-01-11T03:25:08.521742Z"
    }
   },
   "outputs": [],
   "source": [
    "train_data['content'] = train_data['content'].apply(stemming)\n",
    "test_data['content'] = test_data['content'].apply(stemming)"
   ]
  },
  {
   "cell_type": "code",
   "execution_count": 15,
   "id": "b82a9558",
   "metadata": {
    "ExecuteTime": {
     "end_time": "2022-01-11T03:26:53.988682Z",
     "start_time": "2022-01-11T03:26:53.974697Z"
    }
   },
   "outputs": [
    {
     "data": {
      "text/plain": [
       "0        darrel lucu hous dem aid even see comey letter...\n",
       "1        daniel j flynn flynn hillari clinton big woman...\n",
       "2                   consortiumnew com truth might get fire\n",
       "3        jessica purkiss civilian kill singl us airstri...\n",
       "4        howard portnoy iranian woman jail fiction unpu...\n",
       "                               ...                        \n",
       "20795    jerom hudson rapper trump poster child white s...\n",
       "20796    benjamin hoffman n f l playoff schedul matchup...\n",
       "20797    michael j de la merc rachel abram maci said re...\n",
       "20798    alex ansari nato russia hold parallel exercis ...\n",
       "20799                            david swanson keep f aliv\n",
       "Name: content, Length: 20800, dtype: object"
      ]
     },
     "execution_count": 15,
     "metadata": {},
     "output_type": "execute_result"
    }
   ],
   "source": [
    "train_data['content']"
   ]
  },
  {
   "cell_type": "code",
   "execution_count": 16,
   "id": "62a7ffbc",
   "metadata": {
    "ExecuteTime": {
     "end_time": "2022-01-11T03:26:54.003967Z",
     "start_time": "2022-01-11T03:26:53.990675Z"
    }
   },
   "outputs": [
    {
     "data": {
      "text/plain": [
       "0       david streitfeld specter trump loosen tongu pu...\n",
       "1       russian warship readi strike terrorist near al...\n",
       "2       common dream nodapl nativ american leader vow ...\n",
       "3       daniel victor tim tebow attempt anoth comeback...\n",
       "4        truth broadcast network keiser report meme war e\n",
       "                              ...                        \n",
       "5195    jodi rosen bangladeshi traffic jam never end n...\n",
       "5196    sheryl gay stolberg john kasich sign one abort...\n",
       "5197    mike mcphate california today exactli sushi ne...\n",
       "5198                us marin deploy russian border norway\n",
       "5199        teddi wayn awkward sex onscreen new york time\n",
       "Name: content, Length: 5200, dtype: object"
      ]
     },
     "execution_count": 16,
     "metadata": {},
     "output_type": "execute_result"
    }
   ],
   "source": [
    "test_data['content']"
   ]
  },
  {
   "cell_type": "code",
   "execution_count": 17,
   "id": "4a2ea09f",
   "metadata": {
    "ExecuteTime": {
     "end_time": "2022-01-11T03:26:54.131053Z",
     "start_time": "2022-01-11T03:26:54.005814Z"
    }
   },
   "outputs": [
    {
     "data": {
      "text/plain": [
       "0        darrel lucu hous dem aid even see comey letter...\n",
       "1        daniel j flynn flynn hillari clinton big woman...\n",
       "2        consortiumnew com truth might get fireWhy the ...\n",
       "3        jessica purkiss civilian kill singl us airstri...\n",
       "4        howard portnoy iranian woman jail fiction unpu...\n",
       "                               ...                        \n",
       "20795    jerom hudson rapper trump poster child white s...\n",
       "20796    benjamin hoffman n f l playoff schedul matchup...\n",
       "20797    michael j de la merc rachel abram maci said re...\n",
       "20798    alex ansari nato russia hold parallel exercis ...\n",
       "20799    david swanson keep f aliv  David Swanson is an...\n",
       "Name: total, Length: 20800, dtype: object"
      ]
     },
     "execution_count": 17,
     "metadata": {},
     "output_type": "execute_result"
    }
   ],
   "source": [
    "train_data['total'] = train_data['content'] + train_data['text']\n",
    "train_data['total']"
   ]
  },
  {
   "cell_type": "code",
   "execution_count": 18,
   "id": "72893f70",
   "metadata": {
    "ExecuteTime": {
     "end_time": "2022-01-11T03:26:54.178875Z",
     "start_time": "2022-01-11T03:26:54.132056Z"
    }
   },
   "outputs": [
    {
     "data": {
      "text/plain": [
       "0       david streitfeld specter trump loosen tongu pu...\n",
       "1       russian warship readi strike terrorist near al...\n",
       "2       common dream nodapl nativ american leader vow ...\n",
       "3       daniel victor tim tebow attempt anoth comeback...\n",
       "4       truth broadcast network keiser report meme war...\n",
       "                              ...                        \n",
       "5195    jodi rosen bangladeshi traffic jam never end n...\n",
       "5196    sheryl gay stolberg john kasich sign one abort...\n",
       "5197    mike mcphate california today exactli sushi ne...\n",
       "5198    us marin deploy russian border norway« Previou...\n",
       "5199    teddi wayn awkward sex onscreen new york timeP...\n",
       "Name: total, Length: 5200, dtype: object"
      ]
     },
     "execution_count": 18,
     "metadata": {},
     "output_type": "execute_result"
    }
   ],
   "source": [
    "test_data['total'] = test_data['content'] + test_data['text']\n",
    "test_data['total']"
   ]
  },
  {
   "cell_type": "markdown",
   "id": "44cf0319",
   "metadata": {},
   "source": [
    "<a id='4.3'></a>\n",
    "## Converting the Textual Data to Numerical Data"
   ]
  },
  {
   "cell_type": "code",
   "execution_count": 19,
   "id": "c741a674",
   "metadata": {
    "ExecuteTime": {
     "end_time": "2022-01-11T03:27:42.726347Z",
     "start_time": "2022-01-11T03:26:54.179875Z"
    }
   },
   "outputs": [],
   "source": [
    "transformer = TfidfTransformer(smooth_idf=False)\n",
    "count_vectorizer = CountVectorizer(ngram_range=(1, 2))\n",
    "counts = count_vectorizer.fit_transform(train_data['total'].values)\n",
    "tfidf = transformer.fit_transform(counts)"
   ]
  },
  {
   "cell_type": "code",
   "execution_count": 20,
   "id": "268e436d",
   "metadata": {
    "ExecuteTime": {
     "end_time": "2022-01-11T03:27:51.416473Z",
     "start_time": "2022-01-11T03:27:42.727208Z"
    }
   },
   "outputs": [],
   "source": [
    "targets = train_data['label'].values\n",
    "test_counts = count_vectorizer.transform(test_data['total'].values)\n",
    "test_tfidf = transformer.fit_transform(test_counts)"
   ]
  },
  {
   "cell_type": "markdown",
   "id": "75c98ecd",
   "metadata": {},
   "source": [
    "<a id='5'></a>\n",
    "# Spliting the data into training and testing data"
   ]
  },
  {
   "cell_type": "code",
   "execution_count": 36,
   "id": "f7a89228",
   "metadata": {
    "ExecuteTime": {
     "end_time": "2022-01-11T03:40:27.542559Z",
     "start_time": "2022-01-11T03:40:27.526481Z"
    }
   },
   "outputs": [
    {
     "data": {
      "text/plain": [
       "(20800, 3667745)"
      ]
     },
     "execution_count": 36,
     "metadata": {},
     "output_type": "execute_result"
    }
   ],
   "source": [
    "tfidf.shape"
   ]
  },
  {
   "cell_type": "code",
   "execution_count": 41,
   "id": "31ac6696",
   "metadata": {
    "ExecuteTime": {
     "end_time": "2022-01-11T03:40:53.924598Z",
     "start_time": "2022-01-11T03:40:53.725180Z"
    }
   },
   "outputs": [],
   "source": [
    "X_train, X_test, y_train, y_test = train_test_split(tfidf, targets, test_size=0.25, random_state=50)"
   ]
  },
  {
   "cell_type": "code",
   "execution_count": 42,
   "id": "9158ad00",
   "metadata": {
    "ExecuteTime": {
     "end_time": "2022-01-11T03:40:54.376804Z",
     "start_time": "2022-01-11T03:40:54.363949Z"
    }
   },
   "outputs": [
    {
     "name": "stdout",
     "output_type": "stream",
     "text": [
      "Number of Training dataset: 15600\n",
      "Number of Testing dataset: 5200\n"
     ]
    }
   ],
   "source": [
    "print(f\"Number of Training dataset: {X_train.shape[0]}\\nNumber of Testing dataset: {X_test.shape[0]}\")"
   ]
  },
  {
   "cell_type": "markdown",
   "id": "500e8a88",
   "metadata": {},
   "source": [
    "<a id='6'></a>\n",
    "# Modeling"
   ]
  },
  {
   "cell_type": "code",
   "execution_count": 43,
   "id": "25292f7e",
   "metadata": {
    "ExecuteTime": {
     "end_time": "2022-01-11T03:41:00.661330Z",
     "start_time": "2022-01-11T03:41:00.644836Z"
    }
   },
   "outputs": [],
   "source": [
    "def kfolds(model, model_name):\n",
    "    model = cross_val_score(model, tfidf,targets, cv=10)\n",
    "    model_score = np.average(model)\n",
    "    print(f\"{model_name} score on cross validation: {model_score * 100}%\")\n",
    "\n",
    "def train(model, model_name):\n",
    "    model.fit(X_train, y_train)\n",
    "    model_train_score = model.score(X_train, y_train)\n",
    "    model_test_score = model.score(X_test, y_test)\n",
    "    print(f\"{model_name} model score on Training data: {model_train_score * 100}%\\n{model_name} model score on Testing data: {model_test_score * 100}%\")\n",
    "\n",
    "def conf_matrix(model):\n",
    "    y_pred = model.predict(X_test)\n",
    "    cm = confusion_matrix(y_test, y_pred)\n",
    "    plt.figure(figsize=(8,5))\n",
    "    sns.heatmap(cm, annot=True, fmt='d');\n",
    "    \n",
    "def class_report(model):\n",
    "    y_pred = model.predict(X_test)\n",
    "    print(classification_report(y_test, y_pred))\n",
    "    \n",
    "def roc(model, model_name):\n",
    "    y_pred_svm = model.decision_function(X_test)\n",
    "    svm_fpr, svm_tpr, _ = roc_curve(y_test, y_pred_svm)\n",
    "    auc_svm = auc(svm_fpr, svm_tpr)\n",
    "    plt.figure(figsize=(5, 5), dpi=100)\n",
    "    plt.plot(svm_fpr, svm_tpr, color=\"darkorange\", label=f'{model_name} (auc = %0.3f)' % auc_svm)\n",
    "    plt.plot([0, 1], [0, 1], color=\"navy\", lw=2, linestyle=\"--\")\n",
    "    plt.xlabel('False Positive Rate -->')\n",
    "    plt.ylabel('True Positive Rate -->')\n",
    "    plt.legend()\n",
    "    plt.show()"
   ]
  },
  {
   "cell_type": "markdown",
   "id": "d592a8eb",
   "metadata": {},
   "source": [
    "<a id='6.1'></a>\n",
    "## Logistic Regression"
   ]
  },
  {
   "cell_type": "code",
   "execution_count": 44,
   "id": "469f8d02",
   "metadata": {
    "ExecuteTime": {
     "end_time": "2022-01-11T03:42:26.781933Z",
     "start_time": "2022-01-11T03:41:02.920074Z"
    }
   },
   "outputs": [
    {
     "name": "stdout",
     "output_type": "stream",
     "text": [
      "Logistic Regression model score on Training data: 97.92948717948718%\n",
      "Logistic Regression model score on Testing data: 95.0%\n"
     ]
    }
   ],
   "source": [
    "lr_model = LogisticRegression()\n",
    "train(lr_model, \"Logistic Regression\")"
   ]
  },
  {
   "cell_type": "code",
   "execution_count": 24,
   "id": "2349a5e8",
   "metadata": {
    "ExecuteTime": {
     "end_time": "2022-01-11T03:35:53.405565Z",
     "start_time": "2022-01-11T03:35:52.752518Z"
    }
   },
   "outputs": [
    {
     "data": {
      "image/png": "[encoded data removed]",
      "text/plain": [
       "<Figure size 576x360 with 2 Axes>"
      ]
     },
     "metadata": {
      "needs_background": "light"
     },
     "output_type": "display_data"
    }
   ],
   "source": [
    "conf_matrix(lr_model)"
   ]
  },
  {
   "cell_type": "code",
   "execution_count": 25,
   "id": "d411967c",
   "metadata": {
    "ExecuteTime": {
     "end_time": "2022-01-11T03:35:53.529544Z",
     "start_time": "2022-01-11T03:35:53.408343Z"
    }
   },
   "outputs": [
    {
     "name": "stdout",
     "output_type": "stream",
     "text": [
      "              precision    recall  f1-score   support\n",
      "\n",
      "           0       0.95      0.94      0.95      3140\n",
      "           1       0.94      0.95      0.95      3100\n",
      "\n",
      "    accuracy                           0.95      6240\n",
      "   macro avg       0.95      0.95      0.95      6240\n",
      "weighted avg       0.95      0.95      0.95      6240\n",
      "\n"
     ]
    }
   ],
   "source": [
    "class_report(lr_model)"
   ]
  },
  {
   "cell_type": "code",
   "execution_count": 26,
   "id": "02584358",
   "metadata": {
    "ExecuteTime": {
     "end_time": "2022-01-11T03:35:54.023637Z",
     "start_time": "2022-01-11T03:35:53.533644Z"
    }
   },
   "outputs": [
    {
     "data": {
      "image/png": "[encoded data removed]",
      "text/plain": [
       "<Figure size 500x500 with 1 Axes>"
      ]
     },
     "metadata": {
      "needs_background": "light"
     },
     "output_type": "display_data"
    }
   ],
   "source": [
    "roc(lr_model, \"Logistic Regression\")"
   ]
  },
  {
   "cell_type": "markdown",
   "id": "12943c64",
   "metadata": {},
   "source": [
    "<a id='6.2'></a>\n",
    "## Random Forest"
   ]
  },
  {
   "cell_type": "code",
   "execution_count": 42,
   "id": "22873099",
   "metadata": {
    "ExecuteTime": {
     "end_time": "2022-01-09T14:43:02.653462Z",
     "start_time": "2022-01-09T14:37:13.842782Z"
    }
   },
   "outputs": [
    {
     "name": "stdout",
     "output_type": "stream",
     "text": [
      "Random Forest model score on Training data: 100.0%\n",
      "Random Forest model score on Testing data: 91.6923076923077%\n"
     ]
    }
   ],
   "source": [
    "rf_model = RandomForestClassifier()\n",
    "train(rf_model, \"Random Forest\")"
   ]
  },
  {
   "cell_type": "code",
   "execution_count": 43,
   "id": "b88b264b",
   "metadata": {
    "ExecuteTime": {
     "end_time": "2022-01-09T14:43:09.366839Z",
     "start_time": "2022-01-09T14:43:02.654418Z"
    }
   },
   "outputs": [
    {
     "data": {
      "image/png": "[encoded data removed]",
      "text/plain": [
       "<Figure size 576x360 with 2 Axes>"
      ]
     },
     "metadata": {
      "needs_background": "light"
     },
     "output_type": "display_data"
    }
   ],
   "source": [
    "conf_matrix(rf_model)"
   ]
  },
  {
   "cell_type": "code",
   "execution_count": 45,
   "id": "7319ba36",
   "metadata": {
    "ExecuteTime": {
     "end_time": "2022-01-09T14:46:28.715687Z",
     "start_time": "2022-01-09T14:46:22.239828Z"
    }
   },
   "outputs": [
    {
     "name": "stdout",
     "output_type": "stream",
     "text": [
      "              precision    recall  f1-score   support\n",
      "\n",
      "           0       0.89      0.95      0.92      2613\n",
      "           1       0.94      0.89      0.91      2587\n",
      "\n",
      "    accuracy                           0.92      5200\n",
      "   macro avg       0.92      0.92      0.92      5200\n",
      "weighted avg       0.92      0.92      0.92      5200\n",
      "\n"
     ]
    }
   ],
   "source": [
    "class_report(rf_model)"
   ]
  },
  {
   "cell_type": "markdown",
   "id": "ef447d40",
   "metadata": {},
   "source": [
    "<a id='6.3'></a>\n",
    "## KNN"
   ]
  },
  {
   "cell_type": "code",
   "execution_count": 46,
   "id": "ef8deea2",
   "metadata": {
    "ExecuteTime": {
     "end_time": "2022-01-09T14:47:41.046967Z",
     "start_time": "2022-01-09T14:46:35.897846Z"
    }
   },
   "outputs": [
    {
     "name": "stdout",
     "output_type": "stream",
     "text": [
      "KNN model score on Training data: 83.28846153846153%\n",
      "KNN model score on Testing data: 75.76923076923077%\n"
     ]
    }
   ],
   "source": [
    "knn = KNeighborsClassifier()\n",
    "train(knn, \"KNN\")"
   ]
  },
  {
   "cell_type": "code",
   "execution_count": 47,
   "id": "99a251c6",
   "metadata": {
    "ExecuteTime": {
     "end_time": "2022-01-09T14:47:57.678431Z",
     "start_time": "2022-01-09T14:47:41.047966Z"
    }
   },
   "outputs": [
    {
     "data": {
      "image/png": "[encoded data removed]",
      "text/plain": [
       "<Figure size 576x360 with 2 Axes>"
      ]
     },
     "metadata": {
      "needs_background": "light"
     },
     "output_type": "display_data"
    }
   ],
   "source": [
    "conf_matrix(knn)"
   ]
  },
  {
   "cell_type": "code",
   "execution_count": 48,
   "id": "3505e8dd",
   "metadata": {
    "ExecuteTime": {
     "end_time": "2022-01-09T14:48:14.243455Z",
     "start_time": "2022-01-09T14:47:57.680232Z"
    }
   },
   "outputs": [
    {
     "name": "stdout",
     "output_type": "stream",
     "text": [
      "              precision    recall  f1-score   support\n",
      "\n",
      "           0       0.86      0.62      0.72      2613\n",
      "           1       0.70      0.89      0.79      2587\n",
      "\n",
      "    accuracy                           0.76      5200\n",
      "   macro avg       0.78      0.76      0.75      5200\n",
      "weighted avg       0.78      0.76      0.75      5200\n",
      "\n"
     ]
    }
   ],
   "source": [
    "class_report(knn)"
   ]
  },
  {
   "cell_type": "markdown",
   "id": "1b7c7e51",
   "metadata": {},
   "source": [
    "<a id='6.4'></a>\n",
    "## Bagging"
   ]
  },
  {
   "cell_type": "code",
   "execution_count": 49,
   "id": "64c73bd5",
   "metadata": {
    "ExecuteTime": {
     "end_time": "2022-01-09T15:10:34.908927Z",
     "start_time": "2022-01-09T14:48:58.340238Z"
    }
   },
   "outputs": [
    {
     "name": "stdout",
     "output_type": "stream",
     "text": [
      "Bagging model score on Training data: 99.75%\n",
      "Bagging model score on Testing data: 96.46153846153847%\n"
     ]
    }
   ],
   "source": [
    "bagg_model = BaggingClassifier()\n",
    "train(bagg_model, \"Bagging\")"
   ]
  },
  {
   "cell_type": "code",
   "execution_count": 50,
   "id": "2387f1e5",
   "metadata": {
    "ExecuteTime": {
     "end_time": "2022-01-09T15:10:37.643811Z",
     "start_time": "2022-01-09T15:10:34.909923Z"
    }
   },
   "outputs": [
    {
     "data": {
      "image/png": "[encoded data removed]",
      "text/plain": [
       "<Figure size 576x360 with 2 Axes>"
      ]
     },
     "metadata": {
      "needs_background": "light"
     },
     "output_type": "display_data"
    }
   ],
   "source": [
    "conf_matrix(bagg_model)"
   ]
  },
  {
   "cell_type": "code",
   "execution_count": 51,
   "id": "0f80dac7",
   "metadata": {
    "ExecuteTime": {
     "end_time": "2022-01-09T15:10:40.254611Z",
     "start_time": "2022-01-09T15:10:37.645634Z"
    }
   },
   "outputs": [
    {
     "name": "stdout",
     "output_type": "stream",
     "text": [
      "              precision    recall  f1-score   support\n",
      "\n",
      "           0       0.96      0.97      0.96      2613\n",
      "           1       0.97      0.96      0.96      2587\n",
      "\n",
      "    accuracy                           0.96      5200\n",
      "   macro avg       0.96      0.96      0.96      5200\n",
      "weighted avg       0.96      0.96      0.96      5200\n",
      "\n"
     ]
    }
   ],
   "source": [
    "class_report(bagg_model)"
   ]
  },
  {
   "cell_type": "markdown",
   "id": "7c4e8f42",
   "metadata": {},
   "source": [
    "<a id='6.5'></a>\n",
    "## Gradient Boosting"
   ]
  },
  {
   "cell_type": "code",
   "execution_count": 52,
   "id": "018d2892",
   "metadata": {
    "ExecuteTime": {
     "end_time": "2022-01-09T16:46:05.570884Z",
     "start_time": "2022-01-09T15:10:40.256575Z"
    }
   },
   "outputs": [
    {
     "name": "stdout",
     "output_type": "stream",
     "text": [
      "Boosting model score on Training data: 96.77564102564102%\n",
      "Boosting model score on Testing data: 96.11538461538461%\n"
     ]
    }
   ],
   "source": [
    "gb_model = GradientBoostingClassifier()\n",
    "train(gb_model, \"Boosting\")"
   ]
  },
  {
   "cell_type": "code",
   "execution_count": 53,
   "id": "05151a91",
   "metadata": {
    "ExecuteTime": {
     "end_time": "2022-01-09T16:46:06.439353Z",
     "start_time": "2022-01-09T16:46:06.204509Z"
    }
   },
   "outputs": [
    {
     "data": {
      "image/png": "[encoded data removed]",
      "text/plain": [
       "<Figure size 576x360 with 2 Axes>"
      ]
     },
     "metadata": {
      "needs_background": "light"
     },
     "output_type": "display_data"
    }
   ],
   "source": [
    "conf_matrix(gb_model)"
   ]
  },
  {
   "cell_type": "code",
   "execution_count": 54,
   "id": "5e6f7925",
   "metadata": {
    "ExecuteTime": {
     "end_time": "2022-01-09T16:46:07.199541Z",
     "start_time": "2022-01-09T16:46:07.094873Z"
    }
   },
   "outputs": [
    {
     "name": "stdout",
     "output_type": "stream",
     "text": [
      "              precision    recall  f1-score   support\n",
      "\n",
      "           0       0.96      0.96      0.96      2613\n",
      "           1       0.96      0.96      0.96      2587\n",
      "\n",
      "    accuracy                           0.96      5200\n",
      "   macro avg       0.96      0.96      0.96      5200\n",
      "weighted avg       0.96      0.96      0.96      5200\n",
      "\n"
     ]
    }
   ],
   "source": [
    "class_report(gb_model)"
   ]
  },
  {
   "cell_type": "markdown",
   "id": "2f08c7d8",
   "metadata": {},
   "source": [
    "<a id='6.6'></a>\n",
    "## Decision Tree"
   ]
  },
  {
   "cell_type": "code",
   "execution_count": 55,
   "id": "4e1d1a86",
   "metadata": {
    "ExecuteTime": {
     "end_time": "2022-01-09T17:28:13.529049Z",
     "start_time": "2022-01-09T16:46:07.199541Z"
    }
   },
   "outputs": [
    {
     "name": "stdout",
     "output_type": "stream",
     "text": [
      "Decision Tree score on cross validation: 95.73076923076923%\n",
      "Decision Tree model score on Training data: 100.0%\n",
      "Decision Tree model score on Testing data: 95.59615384615384%\n"
     ]
    }
   ],
   "source": [
    "dt_model = DecisionTreeClassifier()\n",
    "kfolds(dt_model, \"Decision Tree\")\n",
    "train(dt_model, \"Decision Tree\")"
   ]
  },
  {
   "cell_type": "code",
   "execution_count": 56,
   "id": "f768b918",
   "metadata": {
    "ExecuteTime": {
     "end_time": "2022-01-09T17:28:14.402167Z",
     "start_time": "2022-01-09T17:28:14.192765Z"
    }
   },
   "outputs": [
    {
     "data": {
      "image/png": "[encoded data removed]",
      "text/plain": [
       "<Figure size 576x360 with 2 Axes>"
      ]
     },
     "metadata": {
      "needs_background": "light"
     },
     "output_type": "display_data"
    }
   ],
   "source": [
    "conf_matrix(dt_model)"
   ]
  },
  {
   "cell_type": "code",
   "execution_count": 57,
   "id": "c595bd42",
   "metadata": {
    "ExecuteTime": {
     "end_time": "2022-01-09T17:28:15.243335Z",
     "start_time": "2022-01-09T17:28:15.128607Z"
    }
   },
   "outputs": [
    {
     "name": "stdout",
     "output_type": "stream",
     "text": [
      "              precision    recall  f1-score   support\n",
      "\n",
      "           0       0.95      0.96      0.96      2613\n",
      "           1       0.96      0.95      0.96      2587\n",
      "\n",
      "    accuracy                           0.96      5200\n",
      "   macro avg       0.96      0.96      0.96      5200\n",
      "weighted avg       0.96      0.96      0.96      5200\n",
      "\n"
     ]
    }
   ],
   "source": [
    "class_report(dt_model)"
   ]
  },
  {
   "cell_type": "markdown",
   "id": "1f93fb9f",
   "metadata": {},
   "source": [
    "<a id='6.7'></a>\n",
    "## SVM"
   ]
  },
  {
   "cell_type": "code",
   "execution_count": 63,
   "id": "5926044e",
   "metadata": {
    "ExecuteTime": {
     "end_time": "2022-01-09T22:53:19.099025Z",
     "start_time": "2022-01-09T20:53:32.985743Z"
    }
   },
   "outputs": [
    {
     "name": "stdout",
     "output_type": "stream",
     "text": [
      "SVM model score on Training data: 99.97435897435898%\n",
      "SVM model score on Testing data: 96.73076923076923%\n"
     ]
    }
   ],
   "source": [
    "svm_model = SVC()\n",
    "train(svm_model, \"SVM\")"
   ]
  },
  {
   "cell_type": "code",
   "execution_count": 64,
   "id": "42768e82",
   "metadata": {
    "ExecuteTime": {
     "end_time": "2022-01-09T22:58:17.231364Z",
     "start_time": "2022-01-09T22:53:19.099025Z"
    }
   },
   "outputs": [
    {
     "data": {
      "image/png": "[encoded data removed]",
      "text/plain": [
       "<Figure size 576x360 with 2 Axes>"
      ]
     },
     "metadata": {
      "needs_background": "light"
     },
     "output_type": "display_data"
    }
   ],
   "source": [
    "conf_matrix(svm_model)"
   ]
  },
  {
   "cell_type": "code",
   "execution_count": 65,
   "id": "61a9c9cb",
   "metadata": {
    "ExecuteTime": {
     "end_time": "2022-01-09T23:03:14.965347Z",
     "start_time": "2022-01-09T22:58:17.231364Z"
    }
   },
   "outputs": [
    {
     "name": "stdout",
     "output_type": "stream",
     "text": [
      "              precision    recall  f1-score   support\n",
      "\n",
      "           0       0.97      0.97      0.97      2613\n",
      "           1       0.96      0.97      0.97      2587\n",
      "\n",
      "    accuracy                           0.97      5200\n",
      "   macro avg       0.97      0.97      0.97      5200\n",
      "weighted avg       0.97      0.97      0.97      5200\n",
      "\n"
     ]
    }
   ],
   "source": [
    "class_report(svm_model)"
   ]
  },
  {
   "cell_type": "code",
   "execution_count": 68,
   "id": "cc283854",
   "metadata": {
    "ExecuteTime": {
     "end_time": "2022-01-10T00:00:21.673919Z",
     "start_time": "2022-01-09T23:55:18.294802Z"
    }
   },
   "outputs": [
    {
     "data": {
      "image/png": "[encoded data removed]",
      "text/plain": [
       "<Figure size 500x500 with 1 Axes>"
      ]
     },
     "metadata": {
      "needs_background": "light"
     },
     "output_type": "display_data"
    }
   ],
   "source": [
    "roc(svm_model, \"SVM\")"
   ]
  },
  {
   "cell_type": "markdown",
   "id": "deee28d9",
   "metadata": {},
   "source": [
    "<a id='6.8'></a>\n",
    "## Naive Bayes"
   ]
  },
  {
   "cell_type": "code",
   "execution_count": 57,
   "id": "2e8fa266",
   "metadata": {
    "ExecuteTime": {
     "end_time": "2022-01-11T03:50:56.053528Z",
     "start_time": "2022-01-11T03:50:42.712301Z"
    }
   },
   "outputs": [
    {
     "name": "stdout",
     "output_type": "stream",
     "text": [
      "Naive Bayes score on cross validation: 80.35096153846155%\n",
      "Naive Bayes model score on Training data: 89.07051282051283%\n",
      "Naive Bayes model score on Testing data: 80.76923076923077%\n"
     ]
    }
   ],
   "source": [
    "naive_bayes = MultinomialNB()\n",
    "kfolds(naive_bayes, \"Naive Bayes\")\n",
    "train(naive_bayes, \"Naive Bayes\")"
   ]
  },
  {
   "cell_type": "code",
   "execution_count": 58,
   "id": "29569516",
   "metadata": {
    "ExecuteTime": {
     "end_time": "2022-01-11T03:50:56.746485Z",
     "start_time": "2022-01-11T03:50:56.068466Z"
    }
   },
   "outputs": [
    {
     "data": {
      "image/png": "[encoded data removed]",
      "text/plain": [
       "<Figure size 576x360 with 2 Axes>"
      ]
     },
     "metadata": {
      "needs_background": "light"
     },
     "output_type": "display_data"
    }
   ],
   "source": [
    "conf_matrix(naive_bayes)"
   ]
  },
  {
   "cell_type": "code",
   "execution_count": 59,
   "id": "f943dd6e",
   "metadata": {
    "ExecuteTime": {
     "end_time": "2022-01-11T03:51:11.668751Z",
     "start_time": "2022-01-11T03:51:11.375426Z"
    }
   },
   "outputs": [
    {
     "name": "stdout",
     "output_type": "stream",
     "text": [
      "              precision    recall  f1-score   support\n",
      "\n",
      "           0       0.72      1.00      0.84      2613\n",
      "           1       1.00      0.61      0.76      2587\n",
      "\n",
      "    accuracy                           0.81      5200\n",
      "   macro avg       0.86      0.81      0.80      5200\n",
      "weighted avg       0.86      0.81      0.80      5200\n",
      "\n"
     ]
    }
   ],
   "source": [
    "class_report(naive_bayes)"
   ]
  },
  {
   "cell_type": "markdown",
   "id": "07f6bde2",
   "metadata": {},
   "source": [
    "<a id='7'></a>\n",
    "# TP, TN, FP, FN"
   ]
  },
  {
   "cell_type": "code",
   "execution_count": 62,
   "id": "e3b0edd9",
   "metadata": {
    "ExecuteTime": {
     "end_time": "2022-01-11T03:53:45.467320Z",
     "start_time": "2022-01-11T03:53:45.451644Z"
    }
   },
   "outputs": [],
   "source": [
    "def tp(model, model_name):\n",
    "    y_pred = model.predict(X_test)\n",
    "    cm = confusion_matrix(y_test, y_pred)\n",
    "    TN = cm[0][0]\n",
    "    FN = cm[1][0]\n",
    "    TP = cm[1][1]\n",
    "    FP = cm[0][1]\n",
    "    ACC = (TP+TN)/(TP+FP+FN+TN)\n",
    "    TPR = TP/(TP+FN)\n",
    "    TNR = TN/(TN+FP) \n",
    "    PPV = TP/(TP+FP)\n",
    "    NPV = TN/(TN+FN)\n",
    "    FPR = FP/(FP+TN)\n",
    "    FNR = FN/(TP+FN)\n",
    "    FDR = FP/(TP+FP)\n",
    "\n",
    "    print(f\"TP, FN, TP, FP Overall Accuarcy of {model_name}: {ACC*100}%\")\n",
    "    print(f\"Sensitivity Accuarcy of {model_name}: {TPR * 100}%\")\n",
    "    print(f\"Specificity Negative Rate Accuarcy of {model_name}: {TNR * 100}%\")\n",
    "    print(f\"Negative predictive value Accuarcy of {model_name}: {NPV * 100}%\")\n",
    "    print(f\"Fall out Accuarcy of {model_name}: {FPR * 100}%\")\n",
    "    print(f\"False negative rate Accuarcy of {model_name}: {FNR * 100}%\")\n",
    "    print(f\"False discovery rate Accuarcy of {model_name}: {FDR * 100}%\")"
   ]
  },
  {
   "cell_type": "markdown",
   "id": "12e3edcf",
   "metadata": {},
   "source": [
    "<a id='7.1'></a>\n",
    "## Logistic Regression"
   ]
  },
  {
   "cell_type": "code",
   "execution_count": 69,
   "id": "735dfe06",
   "metadata": {
    "ExecuteTime": {
     "end_time": "2022-01-10T00:06:35.194321Z",
     "start_time": "2022-01-10T00:06:35.135464Z"
    }
   },
   "outputs": [
    {
     "name": "stdout",
     "output_type": "stream",
     "text": [
      "TP, FN, TP, FP Overall Accuarcy of Logistic Regression: 95.0%\n",
      "Sensitivity Accuarcy of Logistic Regression: 95.74797062234248%\n",
      "Specificity Negative Rate Accuarcy of Logistic Regression: 94.25947187141217%\n",
      "Negative predictive value Accuarcy of Logistic Regression: 95.72483482316362%\n",
      "Fall out Accuarcy of Logistic Regression: 5.7405281285878305%\n",
      "False negative rate Accuarcy of Logistic Regression: 4.252029377657519%\n",
      "False discovery rate Accuarcy of Logistic Regression: 5.709935287400076%\n"
     ]
    }
   ],
   "source": [
    "tp(lr_model, \"Logistic Regression\")"
   ]
  },
  {
   "cell_type": "markdown",
   "id": "66756414",
   "metadata": {},
   "source": [
    "<a id='7.2'></a>\n",
    "## Random Forest"
   ]
  },
  {
   "cell_type": "code",
   "execution_count": 70,
   "id": "beb35872",
   "metadata": {
    "ExecuteTime": {
     "end_time": "2022-01-10T00:06:54.307130Z",
     "start_time": "2022-01-10T00:06:47.808022Z"
    }
   },
   "outputs": [
    {
     "name": "stdout",
     "output_type": "stream",
     "text": [
      "TP, FN, TP, FP Overall Accuarcy of Random Forest: 91.6923076923077%\n",
      "Sensitivity Accuarcy of Random Forest: 88.79010436799382%\n",
      "Specificity Negative Rate Accuarcy of Random Forest: 94.56563337160352%\n",
      "Negative predictive value Accuarcy of Random Forest: 89.49655921767476%\n",
      "Fall out Accuarcy of Random Forest: 5.434366628396479%\n",
      "False negative rate Accuarcy of Random Forest: 11.209895632006186%\n",
      "False discovery rate Accuarcy of Random Forest: 5.822058220582206%\n"
     ]
    }
   ],
   "source": [
    "tp(rf_model, \"Random Forest\")"
   ]
  },
  {
   "cell_type": "markdown",
   "id": "9dd0d3a4",
   "metadata": {},
   "source": [
    "<a id='7.3'></a>\n",
    "## KNN"
   ]
  },
  {
   "cell_type": "code",
   "execution_count": 71,
   "id": "67abf9f5",
   "metadata": {
    "ExecuteTime": {
     "end_time": "2022-01-10T00:07:17.328164Z",
     "start_time": "2022-01-10T00:07:00.353840Z"
    }
   },
   "outputs": [
    {
     "name": "stdout",
     "output_type": "stream",
     "text": [
      "TP, FN, TP, FP Overall Accuarcy of KNN: 75.76923076923077%\n",
      "Sensitivity Accuarcy of KNN: 89.44723618090453%\n",
      "Specificity Negative Rate Accuarcy of KNN: 62.227324913892076%\n",
      "Negative predictive value Accuarcy of KNN: 85.62401263823065%\n",
      "Fall out Accuarcy of KNN: 37.772675086107924%\n",
      "False negative rate Accuarcy of KNN: 10.552763819095476%\n",
      "False discovery rate Accuarcy of KNN: 29.90003029385035%\n"
     ]
    }
   ],
   "source": [
    "tp(knn, \"KNN\")"
   ]
  },
  {
   "cell_type": "markdown",
   "id": "36f23aa5",
   "metadata": {},
   "source": [
    "<a id='7.4'></a>\n",
    "## Bagging"
   ]
  },
  {
   "cell_type": "code",
   "execution_count": 72,
   "id": "e65a93c0",
   "metadata": {
    "ExecuteTime": {
     "end_time": "2022-01-10T00:07:23.756928Z",
     "start_time": "2022-01-10T00:07:21.130029Z"
    }
   },
   "outputs": [
    {
     "name": "stdout",
     "output_type": "stream",
     "text": [
      "TP, FN, TP, FP Overall Accuarcy of Bagging: 96.46153846153847%\n",
      "Sensitivity Accuarcy of Bagging: 95.86393505991497%\n",
      "Specificity Negative Rate Accuarcy of Bagging: 97.05319556065824%\n",
      "Negative predictive value Accuarcy of Bagging: 95.95157018539538%\n",
      "Fall out Accuarcy of Bagging: 2.9468044393417525%\n",
      "False negative rate Accuarcy of Bagging: 4.136064940085041%\n",
      "False discovery rate Accuarcy of Bagging: 3.0113414157215486%\n"
     ]
    }
   ],
   "source": [
    "tp(bagg_model, \"Bagging\")"
   ]
  },
  {
   "cell_type": "markdown",
   "id": "5f5491d8",
   "metadata": {},
   "source": [
    "<a id='7.5'></a>\n",
    "## Gradient Boosting"
   ]
  },
  {
   "cell_type": "code",
   "execution_count": 73,
   "id": "90766645",
   "metadata": {
    "ExecuteTime": {
     "end_time": "2022-01-10T00:07:31.376653Z",
     "start_time": "2022-01-10T00:07:31.269888Z"
    }
   },
   "outputs": [
    {
     "name": "stdout",
     "output_type": "stream",
     "text": [
      "TP, FN, TP, FP Overall Accuarcy of Boosting: 96.11538461538461%\n",
      "Sensitivity Accuarcy of Boosting: 96.44375724777736%\n",
      "Specificity Negative Rate Accuarcy of Boosting: 95.79027937236893%\n",
      "Negative predictive value Accuarcy of Boosting: 96.45472061657033%\n",
      "Fall out Accuarcy of Boosting: 4.209720627631076%\n",
      "False negative rate Accuarcy of Boosting: 3.556242752222652%\n",
      "False discovery rate Accuarcy of Boosting: 4.222648752399232%\n"
     ]
    }
   ],
   "source": [
    "tp(gb_model, \"Boosting\")"
   ]
  },
  {
   "cell_type": "markdown",
   "id": "a2c44262",
   "metadata": {},
   "source": [
    "<a id='7.6'></a>\n",
    "## Decision Tree"
   ]
  },
  {
   "cell_type": "code",
   "execution_count": 74,
   "id": "08dc2a50",
   "metadata": {
    "ExecuteTime": {
     "end_time": "2022-01-10T00:07:40.931649Z",
     "start_time": "2022-01-10T00:07:40.831300Z"
    }
   },
   "outputs": [
    {
     "name": "stdout",
     "output_type": "stream",
     "text": [
      "TP, FN, TP, FP Overall Accuarcy of Decision Tree: 95.59615384615384%\n",
      "Sensitivity Accuarcy of Decision Tree: 95.20680324700426%\n",
      "Specificity Negative Rate Accuarcy of Decision Tree: 95.98163030998852%\n",
      "Negative predictive value Accuarcy of Decision Tree: 95.2887537993921%\n",
      "Fall out Accuarcy of Decision Tree: 4.018369690011482%\n",
      "False negative rate Accuarcy of Decision Tree: 4.7931967529957475%\n",
      "False discovery rate Accuarcy of Decision Tree: 4.0887850467289715%\n"
     ]
    }
   ],
   "source": [
    "tp(dt_model, \"Decision Tree\")"
   ]
  },
  {
   "cell_type": "markdown",
   "id": "d9fd0461",
   "metadata": {},
   "source": [
    "<a id='7.7'></a>\n",
    "## SVM Model"
   ]
  },
  {
   "cell_type": "code",
   "execution_count": 75,
   "id": "fbf3cccf",
   "metadata": {
    "ExecuteTime": {
     "end_time": "2022-01-10T00:13:02.392246Z",
     "start_time": "2022-01-10T00:07:53.311143Z"
    }
   },
   "outputs": [
    {
     "name": "stdout",
     "output_type": "stream",
     "text": [
      "TP, FN, TP, FP Overall Accuarcy of SVM: 96.73076923076923%\n",
      "Sensitivity Accuarcy of SVM: 96.94626981059142%\n",
      "Specificity Negative Rate Accuarcy of SVM: 96.51741293532339%\n",
      "Negative predictive value Accuarcy of SVM: 96.96270665128796%\n",
      "Fall out Accuarcy of SVM: 3.482587064676617%\n",
      "False negative rate Accuarcy of SVM: 3.0537301894085815%\n",
      "False discovery rate Accuarcy of SVM: 3.5013466717968447%\n"
     ]
    }
   ],
   "source": [
    "tp(svm_model, \"SVM\")"
   ]
  },
  {
   "cell_type": "markdown",
   "id": "de008f4a",
   "metadata": {},
   "source": [
    "<a id='7.8'></a>\n",
    "## Naive Bayes"
   ]
  },
  {
   "cell_type": "code",
   "execution_count": 63,
   "id": "82497d7b",
   "metadata": {
    "ExecuteTime": {
     "end_time": "2022-01-11T03:53:49.849587Z",
     "start_time": "2022-01-11T03:53:49.554455Z"
    },
    "scrolled": true
   },
   "outputs": [
    {
     "name": "stdout",
     "output_type": "stream",
     "text": [
      "TP, FN, TP, FP Overall Accuarcy of Naive Bayes: 80.76923076923077%\n",
      "Sensitivity Accuarcy of Naive Bayes: 61.345187475840746%\n",
      "Specificity Negative Rate Accuarcy of Naive Bayes: 100.0%\n",
      "Negative predictive value Accuarcy of Naive Bayes: 72.32216994187655%\n",
      "Fall out Accuarcy of Naive Bayes: 0.0%\n",
      "False negative rate Accuarcy of Naive Bayes: 38.65481252415926%\n",
      "False discovery rate Accuarcy of Naive Bayes: 0.0%\n"
     ]
    }
   ],
   "source": [
    "tp(naive_bayes, \"Naive Bayes\")"
   ]
  }
 ],
 "metadata": {
  "kernelspec": {
   "display_name": "Python 3",
   "language": "python",
   "name": "python3"
  },
  "language_info": {
   "codemirror_mode": {
    "name": "ipython",
    "version": 3
   },
   "file_extension": ".py",
   "mimetype": "text/x-python",
   "name": "python",
   "nbconvert_exporter": "python",
   "pygments_lexer": "ipython3",
   "version": "3.8.8"
  },
  "toc": {
   "base_numbering": 1,
   "nav_menu": {},
   "number_sections": true,
   "sideBar": true,
   "skip_h1_title": false,
   "title_cell": "Table of Contents",
   "title_sidebar": "Contents",
   "toc_cell": false,
   "toc_position": {},
   "toc_section_display": true,
   "toc_window_display": false
  }
 },
 "nbformat": 4,
 "nbformat_minor": 5
}
