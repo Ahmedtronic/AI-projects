{
 "cells": [
  {
   "cell_type": "markdown",
   "id": "268b82e7",
   "metadata": {},
   "source": [
    "**I Can't upload the data in this repo, github accepts files with 100MB Maximum and the size of the training and testing data is 700MB so here is link of the data: https://www.kaggle.com/c/tabular-playground-series-dec-2021**"
   ]
  },
  {
   "cell_type": "markdown",
   "id": "d64d5824",
   "metadata": {},
   "source": [
    "# Table of Contents\n",
    "<a id=\"toc\"></a>\n",
    "- [1. Data Description](#1)\n",
    "- [2. Import Necssaries Libraries](#2)\n",
    "- [3. Exploaring the Data](#3)\n",
    "    - [3.1 Exploring Train Data](#3.1)\n",
    "    - [3.2 Exploring Test Data](#3.2)\n",
    "- [4. Data Preparation and Analysis](#4)\n",
    "    - [4.1 Drop Unwanted rows and columns](#4.1)\n",
    "- [5. Feature Engineering](#5)\n",
    "- [6. Assign Feature and target variables](#6)\n",
    "- [7. Modeling usig ANN](#7)\n",
    "    - [7.1 Build and train ANN](#7.1)\n",
    "    - [7.2 Loss Curve](#7.2) \n",
    "    - [7.3 Confusion Matrix](#7.3)\n",
    "    - [7.4 Classification Report](#7.4)\n",
    "- [8. Submission](#8)"
   ]
  },
  {
   "cell_type": "markdown",
   "id": "24e7df42",
   "metadata": {},
   "source": [
    "<a id=\"1\"></a>\n",
    "<h1>Data Description</h1><br><br>\n",
    "\n",
    "The study area includes four wilderness areas located in the Roosevelt National Forest of northern Colorado. Each observation is a 30m x 30m patch. You are asked to predict an integer classification for the forest cover type. The seven types are:<br>\n",
    "\n",
    "1 - Spruce/Fir<br>\n",
    "2 - Lodgepole Pine<br>\n",
    "3 - Ponderosa Pine<br>\n",
    "4 - Cottonwood/Willow<br>\n",
    "5 - Aspen<br>\n",
    "6 - Douglas-fir<br>\n",
    "7 - Krummholz<br>\n",
    "\n",
    "The training set (15120 observations) contains both features and the Cover_Type. The test set contains only the features. You must predict the Cover_Type for every row in the test set (565892 observations).<br>\n",
    "\n",
    "**Data Fields**:<br>\n",
    "Elevation - Elevation in meters<br>\n",
    "Aspect - Aspect in degrees azimuth<br>\n",
    "Slope - Slope in degrees<br>\n",
    "Horizontal_Distance_To_Hydrology - Horz Dist to nearest surface water features<br>\n",
    "Vertical_Distance_To_Hydrology - Vert Dist to nearest surface water features<br>\n",
    "Horizontal_Distance_To_Roadways - Horz Dist to nearest roadway<br>\n",
    "Hillshade_9am (0 to 255 index) - Hillshade index at 9am, summer solstice<br>\n",
    "Hillshade_Noon (0 to 255 index) - Hillshade index at noon, summer solstice<br>\n",
    "Hillshade_3pm (0 to 255 index) - Hillshade index at 3pm, summer solstice<br>\n",
    "Horizontal_Distance_To_Fire_Points - Horz Dist to nearest wildfire ignition points<br>\n",
    "Wilderness_Area (4 binary columns, 0 = absence or 1 = presence) - Wilderness area designation<br>\n",
    "Soil_Type (40 binary columns, 0 = absence or 1 = presence) - Soil Type designation<br>\n",
    "Cover_Type (7 types, integers 1 to 7) - Forest Cover Type designation<br>\n",
    "\n",
    "**The wilderness areas are:**<br>\n",
    "\n",
    "1 - Rawah Wilderness Area<br>\n",
    "2 - Neota Wilderness Area<br>\n",
    "3 - Comanche Peak Wilderness Area<br>\n",
    "4 - Cache la Poudre Wilderness Area<br>\n",
    "\n",
    "**The soil types are:**<br>\n",
    "\n",
    "1 Cathedral family - Rock outcrop complex, extremely stony.<br>\n",
    "2 Vanet - Ratake families complex, very stony.<br>\n",
    "3 Haploborolis - Rock outcrop complex, rubbly.<br>\n",
    "4 Ratake family - Rock outcrop complex, rubbly.<br>\n",
    "5 Vanet family - Rock outcrop complex complex, rubbly.<br>\n",
    "6 Vanet - Wetmore families - Rock outcrop complex, stony.<br>\n",
    "7 Gothic family.<br>\n",
    "8 Supervisor - Limber families complex.<br>\n",
    "9 Troutville family, very stony.<br>\n",
    "10 Bullwark - Catamount families - Rock outcrop complex, rubbly.<br>\n",
    "11 Bullwark - Catamount families - Rock land complex, rubbly.<br>\n",
    "12 Legault family - Rock land complex, stony.<br>\n",
    "13 Catamount family - Rock land - Bullwark family complex, rubbly.<br>\n",
    "14 Pachic Argiborolis - Aquolis complex.<br>\n",
    "15 unspecified in the USFS Soil and ELU Survey.<br>\n",
    "16 Cryaquolis - Cryoborolis complex.<br>\n",
    "17 Gateview family - Cryaquolis complex.<br>\n",
    "18 Rogert family, very stony.<br>\n",
    "19 Typic Cryaquolis - Borohemists complex.<br>\n",
    "20 Typic Cryaquepts - Typic Cryaquolls complex.<br>\n",
    "21 Typic Cryaquolls - Leighcan family, till substratum complex.<br>\n",
    "22 Leighcan family, till substratum, extremely bouldery.<br>\n",
    "23 Leighcan family, till substratum - Typic Cryaquolls complex.<br>\n",
    "24 Leighcan family, extremely stony.<br>\n",
    "25 Leighcan family, warm, extremely stony.<br>\n",
    "26 Granile - Catamount families complex, very stony.<br>\n",
    "27 Leighcan family, warm - Rock outcrop complex, extremely stony.<br>\n",
    "28 Leighcan family - Rock outcrop complex, extremely stony.<br>\n",
    "29 Como - Legault families complex, extremely stony.<br>\n",
    "30 Como family - Rock land - Legault family complex, extremely stony.<br>\n",
    "31 Leighcan - Catamount families complex, extremely stony.<br>\n",
    "32 Catamount family - Rock outcrop - Leighcan family complex, extremely stony.<br>\n",
    "33 Leighcan - Catamount families - Rock outcrop complex, extremely stony.<br>\n",
    "34 Cryorthents - Rock land complex, extremely stony.<br>\n",
    "35 Cryumbrepts - Rock outcrop - Cryaquepts complex.<br>\n",
    "36 Bross family - Rock land - Cryumbrepts complex, extremely stony.<br>\n",
    "37 Rock outcrop - Cryumbrepts - Cryorthents complex, extremely stony.<br>\n",
    "38 Leighcan - Moran families - Cryaquolls complex, extremely stony.<br>\n",
    "39 Moran family - Cryorthents - Leighcan family complex, extremely stony.<br>\n",
    "40 Moran family - Cryorthents - Rock land complex, extremely stony.<br>"
   ]
  },
  {
   "cell_type": "markdown",
   "id": "312fc1fc",
   "metadata": {},
   "source": [
    "<a id=\"2\"></a>\n",
    "# Import Necessaries Libaries"
   ]
  },
  {
   "cell_type": "code",
   "execution_count": 119,
   "id": "3e4f6bcf",
   "metadata": {
    "ExecuteTime": {
     "end_time": "2022-01-07T20:46:05.018567Z",
     "start_time": "2022-01-07T20:46:05.002906Z"
    }
   },
   "outputs": [],
   "source": [
    "import numpy as np\n",
    "import pandas as pd\n",
    "from matplotlib import pyplot as plt\n",
    "%matplotlib inline\n",
    "import seaborn as sns\n",
    "\n",
    "from sklearn.model_selection import train_test_split\n",
    "from sklearn.metrics import classification_report\n",
    "from sklearn.preprocessing import StandardScaler\n",
    "from sklearn.preprocessing import LabelEncoder\n",
    "\n",
    "import tensorflow as tf\n",
    "from tensorflow import keras\n",
    "from tensorflow.keras.layers import Dense\n",
    "from tensorflow.keras import callbacks\n",
    "from tensorflow.keras.utils import to_categorical\n",
    "from tensorflow.keras import Sequential\n",
    "\n",
    "import warnings \n",
    "warnings.filterwarnings('ignore')"
   ]
  },
  {
   "cell_type": "markdown",
   "id": "e4c0918a",
   "metadata": {},
   "source": [
    "<a id=\"3\"></a>\n",
    "# Exploaring the data"
   ]
  },
  {
   "cell_type": "markdown",
   "id": "fd653aa4",
   "metadata": {},
   "source": [
    "<a id=\"3.1\"></a>\n",
    "**Explore Training data**"
   ]
  },
  {
   "cell_type": "code",
   "execution_count": 82,
   "id": "6669b232",
   "metadata": {
    "ExecuteTime": {
     "end_time": "2022-01-07T20:43:04.459262Z",
     "start_time": "2022-01-07T20:42:55.264323Z"
    }
   },
   "outputs": [],
   "source": [
    "train = pd.read_csv('train.csv') # read training data"
   ]
  },
  {
   "cell_type": "code",
   "execution_count": 83,
   "id": "95b718ea",
   "metadata": {
    "ExecuteTime": {
     "end_time": "2022-01-07T20:43:04.567777Z",
     "start_time": "2022-01-07T20:43:04.459262Z"
    }
   },
   "outputs": [
    {
     "data": {
      "text/html": [
       "<div>\n",
       "<style scoped>\n",
       "    .dataframe tbody tr th:only-of-type {\n",
       "        vertical-align: middle;\n",
       "    }\n",
       "\n",
       "    .dataframe tbody tr th {\n",
       "        vertical-align: top;\n",
       "    }\n",
       "\n",
       "    .dataframe thead th {\n",
       "        text-align: right;\n",
       "    }\n",
       "</style>\n",
       "<table border=\"1\" class=\"dataframe\">\n",
       "  <thead>\n",
       "    <tr style=\"text-align: right;\">\n",
       "      <th></th>\n",
       "      <th>Id</th>\n",
       "      <th>Elevation</th>\n",
       "      <th>Aspect</th>\n",
       "      <th>Slope</th>\n",
       "      <th>Horizontal_Distance_To_Hydrology</th>\n",
       "      <th>Vertical_Distance_To_Hydrology</th>\n",
       "      <th>Horizontal_Distance_To_Roadways</th>\n",
       "      <th>Hillshade_9am</th>\n",
       "      <th>Hillshade_Noon</th>\n",
       "      <th>Hillshade_3pm</th>\n",
       "      <th>...</th>\n",
       "      <th>Soil_Type32</th>\n",
       "      <th>Soil_Type33</th>\n",
       "      <th>Soil_Type34</th>\n",
       "      <th>Soil_Type35</th>\n",
       "      <th>Soil_Type36</th>\n",
       "      <th>Soil_Type37</th>\n",
       "      <th>Soil_Type38</th>\n",
       "      <th>Soil_Type39</th>\n",
       "      <th>Soil_Type40</th>\n",
       "      <th>Cover_Type</th>\n",
       "    </tr>\n",
       "  </thead>\n",
       "  <tbody>\n",
       "    <tr>\n",
       "      <th>0</th>\n",
       "      <td>0</td>\n",
       "      <td>3189</td>\n",
       "      <td>40</td>\n",
       "      <td>8</td>\n",
       "      <td>30</td>\n",
       "      <td>13</td>\n",
       "      <td>3270</td>\n",
       "      <td>206</td>\n",
       "      <td>234</td>\n",
       "      <td>193</td>\n",
       "      <td>...</td>\n",
       "      <td>0</td>\n",
       "      <td>0</td>\n",
       "      <td>0</td>\n",
       "      <td>0</td>\n",
       "      <td>0</td>\n",
       "      <td>0</td>\n",
       "      <td>0</td>\n",
       "      <td>0</td>\n",
       "      <td>0</td>\n",
       "      <td>1</td>\n",
       "    </tr>\n",
       "    <tr>\n",
       "      <th>1</th>\n",
       "      <td>1</td>\n",
       "      <td>3026</td>\n",
       "      <td>182</td>\n",
       "      <td>5</td>\n",
       "      <td>280</td>\n",
       "      <td>29</td>\n",
       "      <td>3270</td>\n",
       "      <td>233</td>\n",
       "      <td>240</td>\n",
       "      <td>106</td>\n",
       "      <td>...</td>\n",
       "      <td>0</td>\n",
       "      <td>0</td>\n",
       "      <td>0</td>\n",
       "      <td>0</td>\n",
       "      <td>0</td>\n",
       "      <td>0</td>\n",
       "      <td>0</td>\n",
       "      <td>0</td>\n",
       "      <td>0</td>\n",
       "      <td>2</td>\n",
       "    </tr>\n",
       "    <tr>\n",
       "      <th>2</th>\n",
       "      <td>2</td>\n",
       "      <td>3106</td>\n",
       "      <td>13</td>\n",
       "      <td>7</td>\n",
       "      <td>351</td>\n",
       "      <td>37</td>\n",
       "      <td>2914</td>\n",
       "      <td>208</td>\n",
       "      <td>234</td>\n",
       "      <td>137</td>\n",
       "      <td>...</td>\n",
       "      <td>0</td>\n",
       "      <td>0</td>\n",
       "      <td>0</td>\n",
       "      <td>0</td>\n",
       "      <td>0</td>\n",
       "      <td>0</td>\n",
       "      <td>0</td>\n",
       "      <td>0</td>\n",
       "      <td>0</td>\n",
       "      <td>1</td>\n",
       "    </tr>\n",
       "    <tr>\n",
       "      <th>3</th>\n",
       "      <td>3</td>\n",
       "      <td>3022</td>\n",
       "      <td>276</td>\n",
       "      <td>13</td>\n",
       "      <td>192</td>\n",
       "      <td>16</td>\n",
       "      <td>3034</td>\n",
       "      <td>207</td>\n",
       "      <td>238</td>\n",
       "      <td>156</td>\n",
       "      <td>...</td>\n",
       "      <td>0</td>\n",
       "      <td>0</td>\n",
       "      <td>0</td>\n",
       "      <td>0</td>\n",
       "      <td>0</td>\n",
       "      <td>0</td>\n",
       "      <td>0</td>\n",
       "      <td>0</td>\n",
       "      <td>0</td>\n",
       "      <td>2</td>\n",
       "    </tr>\n",
       "    <tr>\n",
       "      <th>4</th>\n",
       "      <td>4</td>\n",
       "      <td>2906</td>\n",
       "      <td>186</td>\n",
       "      <td>13</td>\n",
       "      <td>266</td>\n",
       "      <td>22</td>\n",
       "      <td>2916</td>\n",
       "      <td>231</td>\n",
       "      <td>231</td>\n",
       "      <td>154</td>\n",
       "      <td>...</td>\n",
       "      <td>0</td>\n",
       "      <td>0</td>\n",
       "      <td>0</td>\n",
       "      <td>0</td>\n",
       "      <td>0</td>\n",
       "      <td>0</td>\n",
       "      <td>0</td>\n",
       "      <td>0</td>\n",
       "      <td>0</td>\n",
       "      <td>2</td>\n",
       "    </tr>\n",
       "  </tbody>\n",
       "</table>\n",
       "<p>5 rows × 56 columns</p>\n",
       "</div>"
      ],
      "text/plain": [
       "   Id  Elevation  Aspect  Slope  Horizontal_Distance_To_Hydrology  \\\n",
       "0   0       3189      40      8                                30   \n",
       "1   1       3026     182      5                               280   \n",
       "2   2       3106      13      7                               351   \n",
       "3   3       3022     276     13                               192   \n",
       "4   4       2906     186     13                               266   \n",
       "\n",
       "   Vertical_Distance_To_Hydrology  Horizontal_Distance_To_Roadways  \\\n",
       "0                              13                             3270   \n",
       "1                              29                             3270   \n",
       "2                              37                             2914   \n",
       "3                              16                             3034   \n",
       "4                              22                             2916   \n",
       "\n",
       "   Hillshade_9am  Hillshade_Noon  Hillshade_3pm  ...  Soil_Type32  \\\n",
       "0            206             234            193  ...            0   \n",
       "1            233             240            106  ...            0   \n",
       "2            208             234            137  ...            0   \n",
       "3            207             238            156  ...            0   \n",
       "4            231             231            154  ...            0   \n",
       "\n",
       "   Soil_Type33  Soil_Type34  Soil_Type35  Soil_Type36  Soil_Type37  \\\n",
       "0            0            0            0            0            0   \n",
       "1            0            0            0            0            0   \n",
       "2            0            0            0            0            0   \n",
       "3            0            0            0            0            0   \n",
       "4            0            0            0            0            0   \n",
       "\n",
       "   Soil_Type38  Soil_Type39  Soil_Type40  Cover_Type  \n",
       "0            0            0            0           1  \n",
       "1            0            0            0           2  \n",
       "2            0            0            0           1  \n",
       "3            0            0            0           2  \n",
       "4            0            0            0           2  \n",
       "\n",
       "[5 rows x 56 columns]"
      ]
     },
     "execution_count": 83,
     "metadata": {},
     "output_type": "execute_result"
    }
   ],
   "source": [
    "train.head()"
   ]
  },
  {
   "cell_type": "code",
   "execution_count": 84,
   "id": "26a0a1fd",
   "metadata": {
    "ExecuteTime": {
     "end_time": "2022-01-07T20:43:04.582737Z",
     "start_time": "2022-01-07T20:43:04.568740Z"
    }
   },
   "outputs": [
    {
     "data": {
      "text/plain": [
       "(4000000, 56)"
      ]
     },
     "execution_count": 84,
     "metadata": {},
     "output_type": "execute_result"
    }
   ],
   "source": [
    "train.shape # 4M rows and 56 Features in the training data"
   ]
  },
  {
   "cell_type": "code",
   "execution_count": 85,
   "id": "3d1ac635",
   "metadata": {
    "ExecuteTime": {
     "end_time": "2022-01-07T20:43:04.704517Z",
     "start_time": "2022-01-07T20:43:04.583732Z"
    }
   },
   "outputs": [
    {
     "name": "stdout",
     "output_type": "stream",
     "text": [
      "<class 'pandas.core.frame.DataFrame'>\n",
      "RangeIndex: 4000000 entries, 0 to 3999999\n",
      "Data columns (total 56 columns):\n",
      " #   Column                              Dtype\n",
      "---  ------                              -----\n",
      " 0   Id                                  int64\n",
      " 1   Elevation                           int64\n",
      " 2   Aspect                              int64\n",
      " 3   Slope                               int64\n",
      " 4   Horizontal_Distance_To_Hydrology    int64\n",
      " 5   Vertical_Distance_To_Hydrology      int64\n",
      " 6   Horizontal_Distance_To_Roadways     int64\n",
      " 7   Hillshade_9am                       int64\n",
      " 8   Hillshade_Noon                      int64\n",
      " 9   Hillshade_3pm                       int64\n",
      " 10  Horizontal_Distance_To_Fire_Points  int64\n",
      " 11  Wilderness_Area1                    int64\n",
      " 12  Wilderness_Area2                    int64\n",
      " 13  Wilderness_Area3                    int64\n",
      " 14  Wilderness_Area4                    int64\n",
      " 15  Soil_Type1                          int64\n",
      " 16  Soil_Type2                          int64\n",
      " 17  Soil_Type3                          int64\n",
      " 18  Soil_Type4                          int64\n",
      " 19  Soil_Type5                          int64\n",
      " 20  Soil_Type6                          int64\n",
      " 21  Soil_Type7                          int64\n",
      " 22  Soil_Type8                          int64\n",
      " 23  Soil_Type9                          int64\n",
      " 24  Soil_Type10                         int64\n",
      " 25  Soil_Type11                         int64\n",
      " 26  Soil_Type12                         int64\n",
      " 27  Soil_Type13                         int64\n",
      " 28  Soil_Type14                         int64\n",
      " 29  Soil_Type15                         int64\n",
      " 30  Soil_Type16                         int64\n",
      " 31  Soil_Type17                         int64\n",
      " 32  Soil_Type18                         int64\n",
      " 33  Soil_Type19                         int64\n",
      " 34  Soil_Type20                         int64\n",
      " 35  Soil_Type21                         int64\n",
      " 36  Soil_Type22                         int64\n",
      " 37  Soil_Type23                         int64\n",
      " 38  Soil_Type24                         int64\n",
      " 39  Soil_Type25                         int64\n",
      " 40  Soil_Type26                         int64\n",
      " 41  Soil_Type27                         int64\n",
      " 42  Soil_Type28                         int64\n",
      " 43  Soil_Type29                         int64\n",
      " 44  Soil_Type30                         int64\n",
      " 45  Soil_Type31                         int64\n",
      " 46  Soil_Type32                         int64\n",
      " 47  Soil_Type33                         int64\n",
      " 48  Soil_Type34                         int64\n",
      " 49  Soil_Type35                         int64\n",
      " 50  Soil_Type36                         int64\n",
      " 51  Soil_Type37                         int64\n",
      " 52  Soil_Type38                         int64\n",
      " 53  Soil_Type39                         int64\n",
      " 54  Soil_Type40                         int64\n",
      " 55  Cover_Type                          int64\n",
      "dtypes: int64(56)\n",
      "memory usage: 1.7 GB\n"
     ]
    }
   ],
   "source": [
    "train.info()"
   ]
  },
  {
   "cell_type": "code",
   "execution_count": 86,
   "id": "7d87a740",
   "metadata": {
    "ExecuteTime": {
     "end_time": "2022-01-07T20:43:09.092117Z",
     "start_time": "2022-01-07T20:43:04.705514Z"
    }
   },
   "outputs": [
    {
     "data": {
      "text/html": [
       "<div>\n",
       "<style scoped>\n",
       "    .dataframe tbody tr th:only-of-type {\n",
       "        vertical-align: middle;\n",
       "    }\n",
       "\n",
       "    .dataframe tbody tr th {\n",
       "        vertical-align: top;\n",
       "    }\n",
       "\n",
       "    .dataframe thead th {\n",
       "        text-align: right;\n",
       "    }\n",
       "</style>\n",
       "<table border=\"1\" class=\"dataframe\">\n",
       "  <thead>\n",
       "    <tr style=\"text-align: right;\">\n",
       "      <th></th>\n",
       "      <th>Id</th>\n",
       "      <th>Elevation</th>\n",
       "      <th>Aspect</th>\n",
       "      <th>Slope</th>\n",
       "      <th>Horizontal_Distance_To_Hydrology</th>\n",
       "      <th>Vertical_Distance_To_Hydrology</th>\n",
       "      <th>Horizontal_Distance_To_Roadways</th>\n",
       "      <th>Hillshade_9am</th>\n",
       "      <th>Hillshade_Noon</th>\n",
       "      <th>Hillshade_3pm</th>\n",
       "      <th>...</th>\n",
       "      <th>Soil_Type32</th>\n",
       "      <th>Soil_Type33</th>\n",
       "      <th>Soil_Type34</th>\n",
       "      <th>Soil_Type35</th>\n",
       "      <th>Soil_Type36</th>\n",
       "      <th>Soil_Type37</th>\n",
       "      <th>Soil_Type38</th>\n",
       "      <th>Soil_Type39</th>\n",
       "      <th>Soil_Type40</th>\n",
       "      <th>Cover_Type</th>\n",
       "    </tr>\n",
       "  </thead>\n",
       "  <tbody>\n",
       "    <tr>\n",
       "      <th>count</th>\n",
       "      <td>4.000000e+06</td>\n",
       "      <td>4.000000e+06</td>\n",
       "      <td>4.000000e+06</td>\n",
       "      <td>4.000000e+06</td>\n",
       "      <td>4.000000e+06</td>\n",
       "      <td>4.000000e+06</td>\n",
       "      <td>4.000000e+06</td>\n",
       "      <td>4.000000e+06</td>\n",
       "      <td>4.000000e+06</td>\n",
       "      <td>4.000000e+06</td>\n",
       "      <td>...</td>\n",
       "      <td>4.000000e+06</td>\n",
       "      <td>4.000000e+06</td>\n",
       "      <td>4.000000e+06</td>\n",
       "      <td>4.000000e+06</td>\n",
       "      <td>4.000000e+06</td>\n",
       "      <td>4.000000e+06</td>\n",
       "      <td>4.000000e+06</td>\n",
       "      <td>4.000000e+06</td>\n",
       "      <td>4.000000e+06</td>\n",
       "      <td>4.000000e+06</td>\n",
       "    </tr>\n",
       "    <tr>\n",
       "      <th>mean</th>\n",
       "      <td>2.000000e+06</td>\n",
       "      <td>2.980192e+03</td>\n",
       "      <td>1.515857e+02</td>\n",
       "      <td>1.509754e+01</td>\n",
       "      <td>2.713154e+02</td>\n",
       "      <td>5.166262e+01</td>\n",
       "      <td>1.766642e+03</td>\n",
       "      <td>2.118375e+02</td>\n",
       "      <td>2.210614e+02</td>\n",
       "      <td>1.408109e+02</td>\n",
       "      <td>...</td>\n",
       "      <td>3.746200e-02</td>\n",
       "      <td>3.782075e-02</td>\n",
       "      <td>1.199500e-02</td>\n",
       "      <td>1.605350e-02</td>\n",
       "      <td>1.071275e-02</td>\n",
       "      <td>1.220750e-02</td>\n",
       "      <td>4.075150e-02</td>\n",
       "      <td>3.923925e-02</td>\n",
       "      <td>3.161850e-02</td>\n",
       "      <td>1.771335e+00</td>\n",
       "    </tr>\n",
       "    <tr>\n",
       "      <th>std</th>\n",
       "      <td>1.154701e+06</td>\n",
       "      <td>2.890482e+02</td>\n",
       "      <td>1.099611e+02</td>\n",
       "      <td>8.546731e+00</td>\n",
       "      <td>2.265497e+02</td>\n",
       "      <td>6.821597e+01</td>\n",
       "      <td>1.315610e+03</td>\n",
       "      <td>3.075996e+01</td>\n",
       "      <td>2.223134e+01</td>\n",
       "      <td>4.369864e+01</td>\n",
       "      <td>...</td>\n",
       "      <td>1.898910e-01</td>\n",
       "      <td>1.907625e-01</td>\n",
       "      <td>1.088629e-01</td>\n",
       "      <td>1.256813e-01</td>\n",
       "      <td>1.029465e-01</td>\n",
       "      <td>1.098111e-01</td>\n",
       "      <td>1.977140e-01</td>\n",
       "      <td>1.941637e-01</td>\n",
       "      <td>1.749822e-01</td>\n",
       "      <td>8.938060e-01</td>\n",
       "    </tr>\n",
       "    <tr>\n",
       "      <th>min</th>\n",
       "      <td>0.000000e+00</td>\n",
       "      <td>1.773000e+03</td>\n",
       "      <td>-3.300000e+01</td>\n",
       "      <td>-3.000000e+00</td>\n",
       "      <td>-9.200000e+01</td>\n",
       "      <td>-3.170000e+02</td>\n",
       "      <td>-2.870000e+02</td>\n",
       "      <td>-4.000000e+00</td>\n",
       "      <td>4.900000e+01</td>\n",
       "      <td>-5.300000e+01</td>\n",
       "      <td>...</td>\n",
       "      <td>0.000000e+00</td>\n",
       "      <td>0.000000e+00</td>\n",
       "      <td>0.000000e+00</td>\n",
       "      <td>0.000000e+00</td>\n",
       "      <td>0.000000e+00</td>\n",
       "      <td>0.000000e+00</td>\n",
       "      <td>0.000000e+00</td>\n",
       "      <td>0.000000e+00</td>\n",
       "      <td>0.000000e+00</td>\n",
       "      <td>1.000000e+00</td>\n",
       "    </tr>\n",
       "    <tr>\n",
       "      <th>25%</th>\n",
       "      <td>9.999998e+05</td>\n",
       "      <td>2.760000e+03</td>\n",
       "      <td>6.000000e+01</td>\n",
       "      <td>9.000000e+00</td>\n",
       "      <td>1.100000e+02</td>\n",
       "      <td>4.000000e+00</td>\n",
       "      <td>8.220000e+02</td>\n",
       "      <td>1.980000e+02</td>\n",
       "      <td>2.100000e+02</td>\n",
       "      <td>1.150000e+02</td>\n",
       "      <td>...</td>\n",
       "      <td>0.000000e+00</td>\n",
       "      <td>0.000000e+00</td>\n",
       "      <td>0.000000e+00</td>\n",
       "      <td>0.000000e+00</td>\n",
       "      <td>0.000000e+00</td>\n",
       "      <td>0.000000e+00</td>\n",
       "      <td>0.000000e+00</td>\n",
       "      <td>0.000000e+00</td>\n",
       "      <td>0.000000e+00</td>\n",
       "      <td>1.000000e+00</td>\n",
       "    </tr>\n",
       "    <tr>\n",
       "      <th>50%</th>\n",
       "      <td>2.000000e+06</td>\n",
       "      <td>2.966000e+03</td>\n",
       "      <td>1.230000e+02</td>\n",
       "      <td>1.400000e+01</td>\n",
       "      <td>2.130000e+02</td>\n",
       "      <td>3.100000e+01</td>\n",
       "      <td>1.436000e+03</td>\n",
       "      <td>2.180000e+02</td>\n",
       "      <td>2.240000e+02</td>\n",
       "      <td>1.420000e+02</td>\n",
       "      <td>...</td>\n",
       "      <td>0.000000e+00</td>\n",
       "      <td>0.000000e+00</td>\n",
       "      <td>0.000000e+00</td>\n",
       "      <td>0.000000e+00</td>\n",
       "      <td>0.000000e+00</td>\n",
       "      <td>0.000000e+00</td>\n",
       "      <td>0.000000e+00</td>\n",
       "      <td>0.000000e+00</td>\n",
       "      <td>0.000000e+00</td>\n",
       "      <td>2.000000e+00</td>\n",
       "    </tr>\n",
       "    <tr>\n",
       "      <th>75%</th>\n",
       "      <td>2.999999e+06</td>\n",
       "      <td>3.217000e+03</td>\n",
       "      <td>2.470000e+02</td>\n",
       "      <td>2.000000e+01</td>\n",
       "      <td>3.610000e+02</td>\n",
       "      <td>7.800000e+01</td>\n",
       "      <td>2.365000e+03</td>\n",
       "      <td>2.330000e+02</td>\n",
       "      <td>2.370000e+02</td>\n",
       "      <td>1.690000e+02</td>\n",
       "      <td>...</td>\n",
       "      <td>0.000000e+00</td>\n",
       "      <td>0.000000e+00</td>\n",
       "      <td>0.000000e+00</td>\n",
       "      <td>0.000000e+00</td>\n",
       "      <td>0.000000e+00</td>\n",
       "      <td>0.000000e+00</td>\n",
       "      <td>0.000000e+00</td>\n",
       "      <td>0.000000e+00</td>\n",
       "      <td>0.000000e+00</td>\n",
       "      <td>2.000000e+00</td>\n",
       "    </tr>\n",
       "    <tr>\n",
       "      <th>max</th>\n",
       "      <td>3.999999e+06</td>\n",
       "      <td>4.383000e+03</td>\n",
       "      <td>4.070000e+02</td>\n",
       "      <td>6.400000e+01</td>\n",
       "      <td>1.602000e+03</td>\n",
       "      <td>6.470000e+02</td>\n",
       "      <td>7.666000e+03</td>\n",
       "      <td>3.010000e+02</td>\n",
       "      <td>2.790000e+02</td>\n",
       "      <td>2.720000e+02</td>\n",
       "      <td>...</td>\n",
       "      <td>1.000000e+00</td>\n",
       "      <td>1.000000e+00</td>\n",
       "      <td>1.000000e+00</td>\n",
       "      <td>1.000000e+00</td>\n",
       "      <td>1.000000e+00</td>\n",
       "      <td>1.000000e+00</td>\n",
       "      <td>1.000000e+00</td>\n",
       "      <td>1.000000e+00</td>\n",
       "      <td>1.000000e+00</td>\n",
       "      <td>7.000000e+00</td>\n",
       "    </tr>\n",
       "  </tbody>\n",
       "</table>\n",
       "<p>8 rows × 56 columns</p>\n",
       "</div>"
      ],
      "text/plain": [
       "                 Id     Elevation        Aspect         Slope  \\\n",
       "count  4.000000e+06  4.000000e+06  4.000000e+06  4.000000e+06   \n",
       "mean   2.000000e+06  2.980192e+03  1.515857e+02  1.509754e+01   \n",
       "std    1.154701e+06  2.890482e+02  1.099611e+02  8.546731e+00   \n",
       "min    0.000000e+00  1.773000e+03 -3.300000e+01 -3.000000e+00   \n",
       "25%    9.999998e+05  2.760000e+03  6.000000e+01  9.000000e+00   \n",
       "50%    2.000000e+06  2.966000e+03  1.230000e+02  1.400000e+01   \n",
       "75%    2.999999e+06  3.217000e+03  2.470000e+02  2.000000e+01   \n",
       "max    3.999999e+06  4.383000e+03  4.070000e+02  6.400000e+01   \n",
       "\n",
       "       Horizontal_Distance_To_Hydrology  Vertical_Distance_To_Hydrology  \\\n",
       "count                      4.000000e+06                    4.000000e+06   \n",
       "mean                       2.713154e+02                    5.166262e+01   \n",
       "std                        2.265497e+02                    6.821597e+01   \n",
       "min                       -9.200000e+01                   -3.170000e+02   \n",
       "25%                        1.100000e+02                    4.000000e+00   \n",
       "50%                        2.130000e+02                    3.100000e+01   \n",
       "75%                        3.610000e+02                    7.800000e+01   \n",
       "max                        1.602000e+03                    6.470000e+02   \n",
       "\n",
       "       Horizontal_Distance_To_Roadways  Hillshade_9am  Hillshade_Noon  \\\n",
       "count                     4.000000e+06   4.000000e+06    4.000000e+06   \n",
       "mean                      1.766642e+03   2.118375e+02    2.210614e+02   \n",
       "std                       1.315610e+03   3.075996e+01    2.223134e+01   \n",
       "min                      -2.870000e+02  -4.000000e+00    4.900000e+01   \n",
       "25%                       8.220000e+02   1.980000e+02    2.100000e+02   \n",
       "50%                       1.436000e+03   2.180000e+02    2.240000e+02   \n",
       "75%                       2.365000e+03   2.330000e+02    2.370000e+02   \n",
       "max                       7.666000e+03   3.010000e+02    2.790000e+02   \n",
       "\n",
       "       Hillshade_3pm  ...   Soil_Type32   Soil_Type33   Soil_Type34  \\\n",
       "count   4.000000e+06  ...  4.000000e+06  4.000000e+06  4.000000e+06   \n",
       "mean    1.408109e+02  ...  3.746200e-02  3.782075e-02  1.199500e-02   \n",
       "std     4.369864e+01  ...  1.898910e-01  1.907625e-01  1.088629e-01   \n",
       "min    -5.300000e+01  ...  0.000000e+00  0.000000e+00  0.000000e+00   \n",
       "25%     1.150000e+02  ...  0.000000e+00  0.000000e+00  0.000000e+00   \n",
       "50%     1.420000e+02  ...  0.000000e+00  0.000000e+00  0.000000e+00   \n",
       "75%     1.690000e+02  ...  0.000000e+00  0.000000e+00  0.000000e+00   \n",
       "max     2.720000e+02  ...  1.000000e+00  1.000000e+00  1.000000e+00   \n",
       "\n",
       "        Soil_Type35   Soil_Type36   Soil_Type37   Soil_Type38   Soil_Type39  \\\n",
       "count  4.000000e+06  4.000000e+06  4.000000e+06  4.000000e+06  4.000000e+06   \n",
       "mean   1.605350e-02  1.071275e-02  1.220750e-02  4.075150e-02  3.923925e-02   \n",
       "std    1.256813e-01  1.029465e-01  1.098111e-01  1.977140e-01  1.941637e-01   \n",
       "min    0.000000e+00  0.000000e+00  0.000000e+00  0.000000e+00  0.000000e+00   \n",
       "25%    0.000000e+00  0.000000e+00  0.000000e+00  0.000000e+00  0.000000e+00   \n",
       "50%    0.000000e+00  0.000000e+00  0.000000e+00  0.000000e+00  0.000000e+00   \n",
       "75%    0.000000e+00  0.000000e+00  0.000000e+00  0.000000e+00  0.000000e+00   \n",
       "max    1.000000e+00  1.000000e+00  1.000000e+00  1.000000e+00  1.000000e+00   \n",
       "\n",
       "        Soil_Type40    Cover_Type  \n",
       "count  4.000000e+06  4.000000e+06  \n",
       "mean   3.161850e-02  1.771335e+00  \n",
       "std    1.749822e-01  8.938060e-01  \n",
       "min    0.000000e+00  1.000000e+00  \n",
       "25%    0.000000e+00  1.000000e+00  \n",
       "50%    0.000000e+00  2.000000e+00  \n",
       "75%    0.000000e+00  2.000000e+00  \n",
       "max    1.000000e+00  7.000000e+00  \n",
       "\n",
       "[8 rows x 56 columns]"
      ]
     },
     "execution_count": 86,
     "metadata": {},
     "output_type": "execute_result"
    }
   ],
   "source": [
    "train.describe()"
   ]
  },
  {
   "cell_type": "code",
   "execution_count": 87,
   "id": "6f869388",
   "metadata": {
    "ExecuteTime": {
     "end_time": "2022-01-07T20:43:09.171216Z",
     "start_time": "2022-01-07T20:43:09.094109Z"
    }
   },
   "outputs": [
    {
     "data": {
      "text/plain": [
       "Index([], dtype='object')"
      ]
     },
     "execution_count": 87,
     "metadata": {},
     "output_type": "execute_result"
    }
   ],
   "source": [
    "train.columns[train.isna().any()]"
   ]
  },
  {
   "cell_type": "code",
   "execution_count": 88,
   "id": "f5e4fde7",
   "metadata": {
    "ExecuteTime": {
     "end_time": "2022-01-07T20:43:12.275340Z",
     "start_time": "2022-01-07T20:43:09.172229Z"
    }
   },
   "outputs": [
    {
     "data": {
      "text/plain": [
       "Id                                    4000000\n",
       "Elevation                                2525\n",
       "Aspect                                    440\n",
       "Slope                                      68\n",
       "Horizontal_Distance_To_Hydrology         1636\n",
       "Vertical_Distance_To_Hydrology            916\n",
       "Horizontal_Distance_To_Roadways          7760\n",
       "Hillshade_9am                             301\n",
       "Hillshade_Noon                            221\n",
       "Hillshade_3pm                             326\n",
       "Horizontal_Distance_To_Fire_Points       8112\n",
       "Wilderness_Area1                            2\n",
       "Wilderness_Area2                            2\n",
       "Wilderness_Area3                            2\n",
       "Wilderness_Area4                            2\n",
       "Soil_Type1                                  2\n",
       "Soil_Type2                                  2\n",
       "Soil_Type3                                  2\n",
       "Soil_Type4                                  2\n",
       "Soil_Type5                                  2\n",
       "Soil_Type6                                  2\n",
       "Soil_Type7                                  1\n",
       "Soil_Type8                                  2\n",
       "Soil_Type9                                  2\n",
       "Soil_Type10                                 2\n",
       "Soil_Type11                                 2\n",
       "Soil_Type12                                 2\n",
       "Soil_Type13                                 2\n",
       "Soil_Type14                                 2\n",
       "Soil_Type15                                 1\n",
       "Soil_Type16                                 2\n",
       "Soil_Type17                                 2\n",
       "Soil_Type18                                 2\n",
       "Soil_Type19                                 2\n",
       "Soil_Type20                                 2\n",
       "Soil_Type21                                 2\n",
       "Soil_Type22                                 2\n",
       "Soil_Type23                                 2\n",
       "Soil_Type24                                 2\n",
       "Soil_Type25                                 2\n",
       "Soil_Type26                                 2\n",
       "Soil_Type27                                 2\n",
       "Soil_Type28                                 2\n",
       "Soil_Type29                                 2\n",
       "Soil_Type30                                 2\n",
       "Soil_Type31                                 2\n",
       "Soil_Type32                                 2\n",
       "Soil_Type33                                 2\n",
       "Soil_Type34                                 2\n",
       "Soil_Type35                                 2\n",
       "Soil_Type36                                 2\n",
       "Soil_Type37                                 2\n",
       "Soil_Type38                                 2\n",
       "Soil_Type39                                 2\n",
       "Soil_Type40                                 2\n",
       "Cover_Type                                  7\n",
       "dtype: int64"
      ]
     },
     "execution_count": 88,
     "metadata": {},
     "output_type": "execute_result"
    }
   ],
   "source": [
    "train.nunique()"
   ]
  },
  {
   "cell_type": "code",
   "execution_count": 89,
   "id": "fe046ad8",
   "metadata": {
    "ExecuteTime": {
     "end_time": "2022-01-07T20:43:12.291196Z",
     "start_time": "2022-01-07T20:43:12.277234Z"
    }
   },
   "outputs": [
    {
     "data": {
      "text/plain": [
       "Index(['Id', 'Elevation', 'Aspect', 'Slope',\n",
       "       'Horizontal_Distance_To_Hydrology', 'Vertical_Distance_To_Hydrology',\n",
       "       'Horizontal_Distance_To_Roadways', 'Hillshade_9am', 'Hillshade_Noon',\n",
       "       'Hillshade_3pm', 'Horizontal_Distance_To_Fire_Points',\n",
       "       'Wilderness_Area1', 'Wilderness_Area2', 'Wilderness_Area3',\n",
       "       'Wilderness_Area4', 'Soil_Type1', 'Soil_Type2', 'Soil_Type3',\n",
       "       'Soil_Type4', 'Soil_Type5', 'Soil_Type6', 'Soil_Type7', 'Soil_Type8',\n",
       "       'Soil_Type9', 'Soil_Type10', 'Soil_Type11', 'Soil_Type12',\n",
       "       'Soil_Type13', 'Soil_Type14', 'Soil_Type15', 'Soil_Type16',\n",
       "       'Soil_Type17', 'Soil_Type18', 'Soil_Type19', 'Soil_Type20',\n",
       "       'Soil_Type21', 'Soil_Type22', 'Soil_Type23', 'Soil_Type24',\n",
       "       'Soil_Type25', 'Soil_Type26', 'Soil_Type27', 'Soil_Type28',\n",
       "       'Soil_Type29', 'Soil_Type30', 'Soil_Type31', 'Soil_Type32',\n",
       "       'Soil_Type33', 'Soil_Type34', 'Soil_Type35', 'Soil_Type36',\n",
       "       'Soil_Type37', 'Soil_Type38', 'Soil_Type39', 'Soil_Type40',\n",
       "       'Cover_Type'],\n",
       "      dtype='object')"
      ]
     },
     "execution_count": 89,
     "metadata": {},
     "output_type": "execute_result"
    }
   ],
   "source": [
    "train.columns"
   ]
  },
  {
   "cell_type": "markdown",
   "id": "d4d1ba4c",
   "metadata": {},
   "source": [
    "<a id='3.2'></a>\n",
    "**Exploring Testing Data**"
   ]
  },
  {
   "cell_type": "code",
   "execution_count": 90,
   "id": "c746ff1d",
   "metadata": {
    "ExecuteTime": {
     "end_time": "2022-01-07T20:43:14.888531Z",
     "start_time": "2022-01-07T20:43:12.293217Z"
    }
   },
   "outputs": [],
   "source": [
    "test = pd.read_csv('test.csv')  # read testing data"
   ]
  },
  {
   "cell_type": "code",
   "execution_count": 91,
   "id": "766363cf",
   "metadata": {
    "ExecuteTime": {
     "end_time": "2022-01-07T20:43:14.903983Z",
     "start_time": "2022-01-07T20:43:14.888531Z"
    }
   },
   "outputs": [
    {
     "data": {
      "text/html": [
       "<div>\n",
       "<style scoped>\n",
       "    .dataframe tbody tr th:only-of-type {\n",
       "        vertical-align: middle;\n",
       "    }\n",
       "\n",
       "    .dataframe tbody tr th {\n",
       "        vertical-align: top;\n",
       "    }\n",
       "\n",
       "    .dataframe thead th {\n",
       "        text-align: right;\n",
       "    }\n",
       "</style>\n",
       "<table border=\"1\" class=\"dataframe\">\n",
       "  <thead>\n",
       "    <tr style=\"text-align: right;\">\n",
       "      <th></th>\n",
       "      <th>Id</th>\n",
       "      <th>Elevation</th>\n",
       "      <th>Aspect</th>\n",
       "      <th>Slope</th>\n",
       "      <th>Horizontal_Distance_To_Hydrology</th>\n",
       "      <th>Vertical_Distance_To_Hydrology</th>\n",
       "      <th>Horizontal_Distance_To_Roadways</th>\n",
       "      <th>Hillshade_9am</th>\n",
       "      <th>Hillshade_Noon</th>\n",
       "      <th>Hillshade_3pm</th>\n",
       "      <th>...</th>\n",
       "      <th>Soil_Type31</th>\n",
       "      <th>Soil_Type32</th>\n",
       "      <th>Soil_Type33</th>\n",
       "      <th>Soil_Type34</th>\n",
       "      <th>Soil_Type35</th>\n",
       "      <th>Soil_Type36</th>\n",
       "      <th>Soil_Type37</th>\n",
       "      <th>Soil_Type38</th>\n",
       "      <th>Soil_Type39</th>\n",
       "      <th>Soil_Type40</th>\n",
       "    </tr>\n",
       "  </thead>\n",
       "  <tbody>\n",
       "    <tr>\n",
       "      <th>0</th>\n",
       "      <td>4000000</td>\n",
       "      <td>2763</td>\n",
       "      <td>78</td>\n",
       "      <td>20</td>\n",
       "      <td>377</td>\n",
       "      <td>88</td>\n",
       "      <td>3104</td>\n",
       "      <td>218</td>\n",
       "      <td>213</td>\n",
       "      <td>195</td>\n",
       "      <td>...</td>\n",
       "      <td>0</td>\n",
       "      <td>0</td>\n",
       "      <td>0</td>\n",
       "      <td>0</td>\n",
       "      <td>0</td>\n",
       "      <td>0</td>\n",
       "      <td>0</td>\n",
       "      <td>0</td>\n",
       "      <td>0</td>\n",
       "      <td>0</td>\n",
       "    </tr>\n",
       "    <tr>\n",
       "      <th>1</th>\n",
       "      <td>4000001</td>\n",
       "      <td>2826</td>\n",
       "      <td>153</td>\n",
       "      <td>11</td>\n",
       "      <td>264</td>\n",
       "      <td>39</td>\n",
       "      <td>295</td>\n",
       "      <td>219</td>\n",
       "      <td>238</td>\n",
       "      <td>148</td>\n",
       "      <td>...</td>\n",
       "      <td>0</td>\n",
       "      <td>0</td>\n",
       "      <td>0</td>\n",
       "      <td>0</td>\n",
       "      <td>0</td>\n",
       "      <td>0</td>\n",
       "      <td>0</td>\n",
       "      <td>0</td>\n",
       "      <td>0</td>\n",
       "      <td>0</td>\n",
       "    </tr>\n",
       "    <tr>\n",
       "      <th>2</th>\n",
       "      <td>4000002</td>\n",
       "      <td>2948</td>\n",
       "      <td>57</td>\n",
       "      <td>19</td>\n",
       "      <td>56</td>\n",
       "      <td>44</td>\n",
       "      <td>852</td>\n",
       "      <td>202</td>\n",
       "      <td>217</td>\n",
       "      <td>163</td>\n",
       "      <td>...</td>\n",
       "      <td>0</td>\n",
       "      <td>0</td>\n",
       "      <td>1</td>\n",
       "      <td>0</td>\n",
       "      <td>0</td>\n",
       "      <td>0</td>\n",
       "      <td>0</td>\n",
       "      <td>0</td>\n",
       "      <td>0</td>\n",
       "      <td>0</td>\n",
       "    </tr>\n",
       "    <tr>\n",
       "      <th>3</th>\n",
       "      <td>4000003</td>\n",
       "      <td>2926</td>\n",
       "      <td>119</td>\n",
       "      <td>6</td>\n",
       "      <td>158</td>\n",
       "      <td>134</td>\n",
       "      <td>2136</td>\n",
       "      <td>234</td>\n",
       "      <td>240</td>\n",
       "      <td>142</td>\n",
       "      <td>...</td>\n",
       "      <td>0</td>\n",
       "      <td>0</td>\n",
       "      <td>0</td>\n",
       "      <td>0</td>\n",
       "      <td>0</td>\n",
       "      <td>0</td>\n",
       "      <td>0</td>\n",
       "      <td>0</td>\n",
       "      <td>0</td>\n",
       "      <td>0</td>\n",
       "    </tr>\n",
       "    <tr>\n",
       "      <th>4</th>\n",
       "      <td>4000004</td>\n",
       "      <td>2690</td>\n",
       "      <td>10</td>\n",
       "      <td>4</td>\n",
       "      <td>38</td>\n",
       "      <td>108</td>\n",
       "      <td>3589</td>\n",
       "      <td>213</td>\n",
       "      <td>221</td>\n",
       "      <td>229</td>\n",
       "      <td>...</td>\n",
       "      <td>0</td>\n",
       "      <td>0</td>\n",
       "      <td>0</td>\n",
       "      <td>0</td>\n",
       "      <td>0</td>\n",
       "      <td>0</td>\n",
       "      <td>0</td>\n",
       "      <td>0</td>\n",
       "      <td>0</td>\n",
       "      <td>0</td>\n",
       "    </tr>\n",
       "  </tbody>\n",
       "</table>\n",
       "<p>5 rows × 55 columns</p>\n",
       "</div>"
      ],
      "text/plain": [
       "        Id  Elevation  Aspect  Slope  Horizontal_Distance_To_Hydrology  \\\n",
       "0  4000000       2763      78     20                               377   \n",
       "1  4000001       2826     153     11                               264   \n",
       "2  4000002       2948      57     19                                56   \n",
       "3  4000003       2926     119      6                               158   \n",
       "4  4000004       2690      10      4                                38   \n",
       "\n",
       "   Vertical_Distance_To_Hydrology  Horizontal_Distance_To_Roadways  \\\n",
       "0                              88                             3104   \n",
       "1                              39                              295   \n",
       "2                              44                              852   \n",
       "3                             134                             2136   \n",
       "4                             108                             3589   \n",
       "\n",
       "   Hillshade_9am  Hillshade_Noon  Hillshade_3pm  ...  Soil_Type31  \\\n",
       "0            218             213            195  ...            0   \n",
       "1            219             238            148  ...            0   \n",
       "2            202             217            163  ...            0   \n",
       "3            234             240            142  ...            0   \n",
       "4            213             221            229  ...            0   \n",
       "\n",
       "   Soil_Type32  Soil_Type33  Soil_Type34  Soil_Type35  Soil_Type36  \\\n",
       "0            0            0            0            0            0   \n",
       "1            0            0            0            0            0   \n",
       "2            0            1            0            0            0   \n",
       "3            0            0            0            0            0   \n",
       "4            0            0            0            0            0   \n",
       "\n",
       "   Soil_Type37  Soil_Type38  Soil_Type39  Soil_Type40  \n",
       "0            0            0            0            0  \n",
       "1            0            0            0            0  \n",
       "2            0            0            0            0  \n",
       "3            0            0            0            0  \n",
       "4            0            0            0            0  \n",
       "\n",
       "[5 rows x 55 columns]"
      ]
     },
     "execution_count": 91,
     "metadata": {},
     "output_type": "execute_result"
    }
   ],
   "source": [
    "test.head()"
   ]
  },
  {
   "cell_type": "code",
   "execution_count": 92,
   "id": "4e252273",
   "metadata": {
    "ExecuteTime": {
     "end_time": "2022-01-07T20:43:14.918979Z",
     "start_time": "2022-01-07T20:43:14.904982Z"
    }
   },
   "outputs": [
    {
     "data": {
      "text/plain": [
       "(1000000, 55)"
      ]
     },
     "execution_count": 92,
     "metadata": {},
     "output_type": "execute_result"
    }
   ],
   "source": [
    "test.shape # 1M rows and 55 Features in the testing data"
   ]
  },
  {
   "cell_type": "code",
   "execution_count": 93,
   "id": "9b6c0599",
   "metadata": {
    "ExecuteTime": {
     "end_time": "2022-01-07T20:43:15.045789Z",
     "start_time": "2022-01-07T20:43:14.920937Z"
    }
   },
   "outputs": [
    {
     "name": "stdout",
     "output_type": "stream",
     "text": [
      "<class 'pandas.core.frame.DataFrame'>\n",
      "RangeIndex: 1000000 entries, 0 to 999999\n",
      "Data columns (total 55 columns):\n",
      " #   Column                              Non-Null Count    Dtype\n",
      "---  ------                              --------------    -----\n",
      " 0   Id                                  1000000 non-null  int64\n",
      " 1   Elevation                           1000000 non-null  int64\n",
      " 2   Aspect                              1000000 non-null  int64\n",
      " 3   Slope                               1000000 non-null  int64\n",
      " 4   Horizontal_Distance_To_Hydrology    1000000 non-null  int64\n",
      " 5   Vertical_Distance_To_Hydrology      1000000 non-null  int64\n",
      " 6   Horizontal_Distance_To_Roadways     1000000 non-null  int64\n",
      " 7   Hillshade_9am                       1000000 non-null  int64\n",
      " 8   Hillshade_Noon                      1000000 non-null  int64\n",
      " 9   Hillshade_3pm                       1000000 non-null  int64\n",
      " 10  Horizontal_Distance_To_Fire_Points  1000000 non-null  int64\n",
      " 11  Wilderness_Area1                    1000000 non-null  int64\n",
      " 12  Wilderness_Area2                    1000000 non-null  int64\n",
      " 13  Wilderness_Area3                    1000000 non-null  int64\n",
      " 14  Wilderness_Area4                    1000000 non-null  int64\n",
      " 15  Soil_Type1                          1000000 non-null  int64\n",
      " 16  Soil_Type2                          1000000 non-null  int64\n",
      " 17  Soil_Type3                          1000000 non-null  int64\n",
      " 18  Soil_Type4                          1000000 non-null  int64\n",
      " 19  Soil_Type5                          1000000 non-null  int64\n",
      " 20  Soil_Type6                          1000000 non-null  int64\n",
      " 21  Soil_Type7                          1000000 non-null  int64\n",
      " 22  Soil_Type8                          1000000 non-null  int64\n",
      " 23  Soil_Type9                          1000000 non-null  int64\n",
      " 24  Soil_Type10                         1000000 non-null  int64\n",
      " 25  Soil_Type11                         1000000 non-null  int64\n",
      " 26  Soil_Type12                         1000000 non-null  int64\n",
      " 27  Soil_Type13                         1000000 non-null  int64\n",
      " 28  Soil_Type14                         1000000 non-null  int64\n",
      " 29  Soil_Type15                         1000000 non-null  int64\n",
      " 30  Soil_Type16                         1000000 non-null  int64\n",
      " 31  Soil_Type17                         1000000 non-null  int64\n",
      " 32  Soil_Type18                         1000000 non-null  int64\n",
      " 33  Soil_Type19                         1000000 non-null  int64\n",
      " 34  Soil_Type20                         1000000 non-null  int64\n",
      " 35  Soil_Type21                         1000000 non-null  int64\n",
      " 36  Soil_Type22                         1000000 non-null  int64\n",
      " 37  Soil_Type23                         1000000 non-null  int64\n",
      " 38  Soil_Type24                         1000000 non-null  int64\n",
      " 39  Soil_Type25                         1000000 non-null  int64\n",
      " 40  Soil_Type26                         1000000 non-null  int64\n",
      " 41  Soil_Type27                         1000000 non-null  int64\n",
      " 42  Soil_Type28                         1000000 non-null  int64\n",
      " 43  Soil_Type29                         1000000 non-null  int64\n",
      " 44  Soil_Type30                         1000000 non-null  int64\n",
      " 45  Soil_Type31                         1000000 non-null  int64\n",
      " 46  Soil_Type32                         1000000 non-null  int64\n",
      " 47  Soil_Type33                         1000000 non-null  int64\n",
      " 48  Soil_Type34                         1000000 non-null  int64\n",
      " 49  Soil_Type35                         1000000 non-null  int64\n",
      " 50  Soil_Type36                         1000000 non-null  int64\n",
      " 51  Soil_Type37                         1000000 non-null  int64\n",
      " 52  Soil_Type38                         1000000 non-null  int64\n",
      " 53  Soil_Type39                         1000000 non-null  int64\n",
      " 54  Soil_Type40                         1000000 non-null  int64\n",
      "dtypes: int64(55)\n",
      "memory usage: 419.6 MB\n"
     ]
    }
   ],
   "source": [
    "test.info()"
   ]
  },
  {
   "cell_type": "code",
   "execution_count": 94,
   "id": "76092983",
   "metadata": {
    "ExecuteTime": {
     "end_time": "2022-01-07T20:43:19.481149Z",
     "start_time": "2022-01-07T20:43:15.048780Z"
    },
    "scrolled": true
   },
   "outputs": [
    {
     "data": {
      "text/html": [
       "<div>\n",
       "<style scoped>\n",
       "    .dataframe tbody tr th:only-of-type {\n",
       "        vertical-align: middle;\n",
       "    }\n",
       "\n",
       "    .dataframe tbody tr th {\n",
       "        vertical-align: top;\n",
       "    }\n",
       "\n",
       "    .dataframe thead th {\n",
       "        text-align: right;\n",
       "    }\n",
       "</style>\n",
       "<table border=\"1\" class=\"dataframe\">\n",
       "  <thead>\n",
       "    <tr style=\"text-align: right;\">\n",
       "      <th></th>\n",
       "      <th>Id</th>\n",
       "      <th>Elevation</th>\n",
       "      <th>Aspect</th>\n",
       "      <th>Slope</th>\n",
       "      <th>Horizontal_Distance_To_Hydrology</th>\n",
       "      <th>Vertical_Distance_To_Hydrology</th>\n",
       "      <th>Horizontal_Distance_To_Roadways</th>\n",
       "      <th>Hillshade_9am</th>\n",
       "      <th>Hillshade_Noon</th>\n",
       "      <th>Hillshade_3pm</th>\n",
       "      <th>...</th>\n",
       "      <th>Soil_Type32</th>\n",
       "      <th>Soil_Type33</th>\n",
       "      <th>Soil_Type34</th>\n",
       "      <th>Soil_Type35</th>\n",
       "      <th>Soil_Type36</th>\n",
       "      <th>Soil_Type37</th>\n",
       "      <th>Soil_Type38</th>\n",
       "      <th>Soil_Type39</th>\n",
       "      <th>Soil_Type40</th>\n",
       "      <th>Cover_Type</th>\n",
       "    </tr>\n",
       "  </thead>\n",
       "  <tbody>\n",
       "    <tr>\n",
       "      <th>count</th>\n",
       "      <td>4.000000e+06</td>\n",
       "      <td>4.000000e+06</td>\n",
       "      <td>4.000000e+06</td>\n",
       "      <td>4.000000e+06</td>\n",
       "      <td>4.000000e+06</td>\n",
       "      <td>4.000000e+06</td>\n",
       "      <td>4.000000e+06</td>\n",
       "      <td>4.000000e+06</td>\n",
       "      <td>4.000000e+06</td>\n",
       "      <td>4.000000e+06</td>\n",
       "      <td>...</td>\n",
       "      <td>4.000000e+06</td>\n",
       "      <td>4.000000e+06</td>\n",
       "      <td>4.000000e+06</td>\n",
       "      <td>4.000000e+06</td>\n",
       "      <td>4.000000e+06</td>\n",
       "      <td>4.000000e+06</td>\n",
       "      <td>4.000000e+06</td>\n",
       "      <td>4.000000e+06</td>\n",
       "      <td>4.000000e+06</td>\n",
       "      <td>4.000000e+06</td>\n",
       "    </tr>\n",
       "    <tr>\n",
       "      <th>mean</th>\n",
       "      <td>2.000000e+06</td>\n",
       "      <td>2.980192e+03</td>\n",
       "      <td>1.515857e+02</td>\n",
       "      <td>1.509754e+01</td>\n",
       "      <td>2.713154e+02</td>\n",
       "      <td>5.166262e+01</td>\n",
       "      <td>1.766642e+03</td>\n",
       "      <td>2.118375e+02</td>\n",
       "      <td>2.210614e+02</td>\n",
       "      <td>1.408109e+02</td>\n",
       "      <td>...</td>\n",
       "      <td>3.746200e-02</td>\n",
       "      <td>3.782075e-02</td>\n",
       "      <td>1.199500e-02</td>\n",
       "      <td>1.605350e-02</td>\n",
       "      <td>1.071275e-02</td>\n",
       "      <td>1.220750e-02</td>\n",
       "      <td>4.075150e-02</td>\n",
       "      <td>3.923925e-02</td>\n",
       "      <td>3.161850e-02</td>\n",
       "      <td>1.771335e+00</td>\n",
       "    </tr>\n",
       "    <tr>\n",
       "      <th>std</th>\n",
       "      <td>1.154701e+06</td>\n",
       "      <td>2.890482e+02</td>\n",
       "      <td>1.099611e+02</td>\n",
       "      <td>8.546731e+00</td>\n",
       "      <td>2.265497e+02</td>\n",
       "      <td>6.821597e+01</td>\n",
       "      <td>1.315610e+03</td>\n",
       "      <td>3.075996e+01</td>\n",
       "      <td>2.223134e+01</td>\n",
       "      <td>4.369864e+01</td>\n",
       "      <td>...</td>\n",
       "      <td>1.898910e-01</td>\n",
       "      <td>1.907625e-01</td>\n",
       "      <td>1.088629e-01</td>\n",
       "      <td>1.256813e-01</td>\n",
       "      <td>1.029465e-01</td>\n",
       "      <td>1.098111e-01</td>\n",
       "      <td>1.977140e-01</td>\n",
       "      <td>1.941637e-01</td>\n",
       "      <td>1.749822e-01</td>\n",
       "      <td>8.938060e-01</td>\n",
       "    </tr>\n",
       "    <tr>\n",
       "      <th>min</th>\n",
       "      <td>0.000000e+00</td>\n",
       "      <td>1.773000e+03</td>\n",
       "      <td>-3.300000e+01</td>\n",
       "      <td>-3.000000e+00</td>\n",
       "      <td>-9.200000e+01</td>\n",
       "      <td>-3.170000e+02</td>\n",
       "      <td>-2.870000e+02</td>\n",
       "      <td>-4.000000e+00</td>\n",
       "      <td>4.900000e+01</td>\n",
       "      <td>-5.300000e+01</td>\n",
       "      <td>...</td>\n",
       "      <td>0.000000e+00</td>\n",
       "      <td>0.000000e+00</td>\n",
       "      <td>0.000000e+00</td>\n",
       "      <td>0.000000e+00</td>\n",
       "      <td>0.000000e+00</td>\n",
       "      <td>0.000000e+00</td>\n",
       "      <td>0.000000e+00</td>\n",
       "      <td>0.000000e+00</td>\n",
       "      <td>0.000000e+00</td>\n",
       "      <td>1.000000e+00</td>\n",
       "    </tr>\n",
       "    <tr>\n",
       "      <th>25%</th>\n",
       "      <td>9.999998e+05</td>\n",
       "      <td>2.760000e+03</td>\n",
       "      <td>6.000000e+01</td>\n",
       "      <td>9.000000e+00</td>\n",
       "      <td>1.100000e+02</td>\n",
       "      <td>4.000000e+00</td>\n",
       "      <td>8.220000e+02</td>\n",
       "      <td>1.980000e+02</td>\n",
       "      <td>2.100000e+02</td>\n",
       "      <td>1.150000e+02</td>\n",
       "      <td>...</td>\n",
       "      <td>0.000000e+00</td>\n",
       "      <td>0.000000e+00</td>\n",
       "      <td>0.000000e+00</td>\n",
       "      <td>0.000000e+00</td>\n",
       "      <td>0.000000e+00</td>\n",
       "      <td>0.000000e+00</td>\n",
       "      <td>0.000000e+00</td>\n",
       "      <td>0.000000e+00</td>\n",
       "      <td>0.000000e+00</td>\n",
       "      <td>1.000000e+00</td>\n",
       "    </tr>\n",
       "    <tr>\n",
       "      <th>50%</th>\n",
       "      <td>2.000000e+06</td>\n",
       "      <td>2.966000e+03</td>\n",
       "      <td>1.230000e+02</td>\n",
       "      <td>1.400000e+01</td>\n",
       "      <td>2.130000e+02</td>\n",
       "      <td>3.100000e+01</td>\n",
       "      <td>1.436000e+03</td>\n",
       "      <td>2.180000e+02</td>\n",
       "      <td>2.240000e+02</td>\n",
       "      <td>1.420000e+02</td>\n",
       "      <td>...</td>\n",
       "      <td>0.000000e+00</td>\n",
       "      <td>0.000000e+00</td>\n",
       "      <td>0.000000e+00</td>\n",
       "      <td>0.000000e+00</td>\n",
       "      <td>0.000000e+00</td>\n",
       "      <td>0.000000e+00</td>\n",
       "      <td>0.000000e+00</td>\n",
       "      <td>0.000000e+00</td>\n",
       "      <td>0.000000e+00</td>\n",
       "      <td>2.000000e+00</td>\n",
       "    </tr>\n",
       "    <tr>\n",
       "      <th>75%</th>\n",
       "      <td>2.999999e+06</td>\n",
       "      <td>3.217000e+03</td>\n",
       "      <td>2.470000e+02</td>\n",
       "      <td>2.000000e+01</td>\n",
       "      <td>3.610000e+02</td>\n",
       "      <td>7.800000e+01</td>\n",
       "      <td>2.365000e+03</td>\n",
       "      <td>2.330000e+02</td>\n",
       "      <td>2.370000e+02</td>\n",
       "      <td>1.690000e+02</td>\n",
       "      <td>...</td>\n",
       "      <td>0.000000e+00</td>\n",
       "      <td>0.000000e+00</td>\n",
       "      <td>0.000000e+00</td>\n",
       "      <td>0.000000e+00</td>\n",
       "      <td>0.000000e+00</td>\n",
       "      <td>0.000000e+00</td>\n",
       "      <td>0.000000e+00</td>\n",
       "      <td>0.000000e+00</td>\n",
       "      <td>0.000000e+00</td>\n",
       "      <td>2.000000e+00</td>\n",
       "    </tr>\n",
       "    <tr>\n",
       "      <th>max</th>\n",
       "      <td>3.999999e+06</td>\n",
       "      <td>4.383000e+03</td>\n",
       "      <td>4.070000e+02</td>\n",
       "      <td>6.400000e+01</td>\n",
       "      <td>1.602000e+03</td>\n",
       "      <td>6.470000e+02</td>\n",
       "      <td>7.666000e+03</td>\n",
       "      <td>3.010000e+02</td>\n",
       "      <td>2.790000e+02</td>\n",
       "      <td>2.720000e+02</td>\n",
       "      <td>...</td>\n",
       "      <td>1.000000e+00</td>\n",
       "      <td>1.000000e+00</td>\n",
       "      <td>1.000000e+00</td>\n",
       "      <td>1.000000e+00</td>\n",
       "      <td>1.000000e+00</td>\n",
       "      <td>1.000000e+00</td>\n",
       "      <td>1.000000e+00</td>\n",
       "      <td>1.000000e+00</td>\n",
       "      <td>1.000000e+00</td>\n",
       "      <td>7.000000e+00</td>\n",
       "    </tr>\n",
       "  </tbody>\n",
       "</table>\n",
       "<p>8 rows × 56 columns</p>\n",
       "</div>"
      ],
      "text/plain": [
       "                 Id     Elevation        Aspect         Slope  \\\n",
       "count  4.000000e+06  4.000000e+06  4.000000e+06  4.000000e+06   \n",
       "mean   2.000000e+06  2.980192e+03  1.515857e+02  1.509754e+01   \n",
       "std    1.154701e+06  2.890482e+02  1.099611e+02  8.546731e+00   \n",
       "min    0.000000e+00  1.773000e+03 -3.300000e+01 -3.000000e+00   \n",
       "25%    9.999998e+05  2.760000e+03  6.000000e+01  9.000000e+00   \n",
       "50%    2.000000e+06  2.966000e+03  1.230000e+02  1.400000e+01   \n",
       "75%    2.999999e+06  3.217000e+03  2.470000e+02  2.000000e+01   \n",
       "max    3.999999e+06  4.383000e+03  4.070000e+02  6.400000e+01   \n",
       "\n",
       "       Horizontal_Distance_To_Hydrology  Vertical_Distance_To_Hydrology  \\\n",
       "count                      4.000000e+06                    4.000000e+06   \n",
       "mean                       2.713154e+02                    5.166262e+01   \n",
       "std                        2.265497e+02                    6.821597e+01   \n",
       "min                       -9.200000e+01                   -3.170000e+02   \n",
       "25%                        1.100000e+02                    4.000000e+00   \n",
       "50%                        2.130000e+02                    3.100000e+01   \n",
       "75%                        3.610000e+02                    7.800000e+01   \n",
       "max                        1.602000e+03                    6.470000e+02   \n",
       "\n",
       "       Horizontal_Distance_To_Roadways  Hillshade_9am  Hillshade_Noon  \\\n",
       "count                     4.000000e+06   4.000000e+06    4.000000e+06   \n",
       "mean                      1.766642e+03   2.118375e+02    2.210614e+02   \n",
       "std                       1.315610e+03   3.075996e+01    2.223134e+01   \n",
       "min                      -2.870000e+02  -4.000000e+00    4.900000e+01   \n",
       "25%                       8.220000e+02   1.980000e+02    2.100000e+02   \n",
       "50%                       1.436000e+03   2.180000e+02    2.240000e+02   \n",
       "75%                       2.365000e+03   2.330000e+02    2.370000e+02   \n",
       "max                       7.666000e+03   3.010000e+02    2.790000e+02   \n",
       "\n",
       "       Hillshade_3pm  ...   Soil_Type32   Soil_Type33   Soil_Type34  \\\n",
       "count   4.000000e+06  ...  4.000000e+06  4.000000e+06  4.000000e+06   \n",
       "mean    1.408109e+02  ...  3.746200e-02  3.782075e-02  1.199500e-02   \n",
       "std     4.369864e+01  ...  1.898910e-01  1.907625e-01  1.088629e-01   \n",
       "min    -5.300000e+01  ...  0.000000e+00  0.000000e+00  0.000000e+00   \n",
       "25%     1.150000e+02  ...  0.000000e+00  0.000000e+00  0.000000e+00   \n",
       "50%     1.420000e+02  ...  0.000000e+00  0.000000e+00  0.000000e+00   \n",
       "75%     1.690000e+02  ...  0.000000e+00  0.000000e+00  0.000000e+00   \n",
       "max     2.720000e+02  ...  1.000000e+00  1.000000e+00  1.000000e+00   \n",
       "\n",
       "        Soil_Type35   Soil_Type36   Soil_Type37   Soil_Type38   Soil_Type39  \\\n",
       "count  4.000000e+06  4.000000e+06  4.000000e+06  4.000000e+06  4.000000e+06   \n",
       "mean   1.605350e-02  1.071275e-02  1.220750e-02  4.075150e-02  3.923925e-02   \n",
       "std    1.256813e-01  1.029465e-01  1.098111e-01  1.977140e-01  1.941637e-01   \n",
       "min    0.000000e+00  0.000000e+00  0.000000e+00  0.000000e+00  0.000000e+00   \n",
       "25%    0.000000e+00  0.000000e+00  0.000000e+00  0.000000e+00  0.000000e+00   \n",
       "50%    0.000000e+00  0.000000e+00  0.000000e+00  0.000000e+00  0.000000e+00   \n",
       "75%    0.000000e+00  0.000000e+00  0.000000e+00  0.000000e+00  0.000000e+00   \n",
       "max    1.000000e+00  1.000000e+00  1.000000e+00  1.000000e+00  1.000000e+00   \n",
       "\n",
       "        Soil_Type40    Cover_Type  \n",
       "count  4.000000e+06  4.000000e+06  \n",
       "mean   3.161850e-02  1.771335e+00  \n",
       "std    1.749822e-01  8.938060e-01  \n",
       "min    0.000000e+00  1.000000e+00  \n",
       "25%    0.000000e+00  1.000000e+00  \n",
       "50%    0.000000e+00  2.000000e+00  \n",
       "75%    0.000000e+00  2.000000e+00  \n",
       "max    1.000000e+00  7.000000e+00  \n",
       "\n",
       "[8 rows x 56 columns]"
      ]
     },
     "execution_count": 94,
     "metadata": {},
     "output_type": "execute_result"
    }
   ],
   "source": [
    "train.describe()"
   ]
  },
  {
   "cell_type": "code",
   "execution_count": 95,
   "id": "2bdaf31a",
   "metadata": {
    "ExecuteTime": {
     "end_time": "2022-01-07T20:43:19.523858Z",
     "start_time": "2022-01-07T20:43:19.483144Z"
    }
   },
   "outputs": [
    {
     "data": {
      "text/plain": [
       "Index([], dtype='object')"
      ]
     },
     "execution_count": 95,
     "metadata": {},
     "output_type": "execute_result"
    }
   ],
   "source": [
    "test.columns[test.isna().any()]"
   ]
  },
  {
   "cell_type": "code",
   "execution_count": 96,
   "id": "c2fe64c4",
   "metadata": {
    "ExecuteTime": {
     "end_time": "2022-01-07T20:43:20.358598Z",
     "start_time": "2022-01-07T20:43:19.523858Z"
    }
   },
   "outputs": [
    {
     "data": {
      "text/plain": [
       "Id                                    1000000\n",
       "Elevation                                2488\n",
       "Aspect                                    433\n",
       "Slope                                      67\n",
       "Horizontal_Distance_To_Hydrology         1612\n",
       "Vertical_Distance_To_Hydrology            858\n",
       "Horizontal_Distance_To_Roadways          7576\n",
       "Hillshade_9am                             280\n",
       "Hillshade_Noon                            218\n",
       "Hillshade_3pm                             320\n",
       "Horizontal_Distance_To_Fire_Points       7929\n",
       "Wilderness_Area1                            2\n",
       "Wilderness_Area2                            2\n",
       "Wilderness_Area3                            2\n",
       "Wilderness_Area4                            2\n",
       "Soil_Type1                                  2\n",
       "Soil_Type2                                  2\n",
       "Soil_Type3                                  2\n",
       "Soil_Type4                                  2\n",
       "Soil_Type5                                  2\n",
       "Soil_Type6                                  2\n",
       "Soil_Type7                                  1\n",
       "Soil_Type8                                  2\n",
       "Soil_Type9                                  2\n",
       "Soil_Type10                                 2\n",
       "Soil_Type11                                 2\n",
       "Soil_Type12                                 2\n",
       "Soil_Type13                                 2\n",
       "Soil_Type14                                 2\n",
       "Soil_Type15                                 1\n",
       "Soil_Type16                                 2\n",
       "Soil_Type17                                 2\n",
       "Soil_Type18                                 2\n",
       "Soil_Type19                                 2\n",
       "Soil_Type20                                 2\n",
       "Soil_Type21                                 2\n",
       "Soil_Type22                                 2\n",
       "Soil_Type23                                 2\n",
       "Soil_Type24                                 2\n",
       "Soil_Type25                                 2\n",
       "Soil_Type26                                 2\n",
       "Soil_Type27                                 2\n",
       "Soil_Type28                                 2\n",
       "Soil_Type29                                 2\n",
       "Soil_Type30                                 2\n",
       "Soil_Type31                                 2\n",
       "Soil_Type32                                 2\n",
       "Soil_Type33                                 2\n",
       "Soil_Type34                                 2\n",
       "Soil_Type35                                 2\n",
       "Soil_Type36                                 2\n",
       "Soil_Type37                                 2\n",
       "Soil_Type38                                 2\n",
       "Soil_Type39                                 2\n",
       "Soil_Type40                                 2\n",
       "dtype: int64"
      ]
     },
     "execution_count": 96,
     "metadata": {},
     "output_type": "execute_result"
    }
   ],
   "source": [
    "test.nunique()"
   ]
  },
  {
   "cell_type": "code",
   "execution_count": 97,
   "id": "3293d31c",
   "metadata": {
    "ExecuteTime": {
     "end_time": "2022-01-07T20:43:20.373539Z",
     "start_time": "2022-01-07T20:43:20.359581Z"
    }
   },
   "outputs": [
    {
     "data": {
      "text/plain": [
       "Index(['Id', 'Elevation', 'Aspect', 'Slope',\n",
       "       'Horizontal_Distance_To_Hydrology', 'Vertical_Distance_To_Hydrology',\n",
       "       'Horizontal_Distance_To_Roadways', 'Hillshade_9am', 'Hillshade_Noon',\n",
       "       'Hillshade_3pm', 'Horizontal_Distance_To_Fire_Points',\n",
       "       'Wilderness_Area1', 'Wilderness_Area2', 'Wilderness_Area3',\n",
       "       'Wilderness_Area4', 'Soil_Type1', 'Soil_Type2', 'Soil_Type3',\n",
       "       'Soil_Type4', 'Soil_Type5', 'Soil_Type6', 'Soil_Type7', 'Soil_Type8',\n",
       "       'Soil_Type9', 'Soil_Type10', 'Soil_Type11', 'Soil_Type12',\n",
       "       'Soil_Type13', 'Soil_Type14', 'Soil_Type15', 'Soil_Type16',\n",
       "       'Soil_Type17', 'Soil_Type18', 'Soil_Type19', 'Soil_Type20',\n",
       "       'Soil_Type21', 'Soil_Type22', 'Soil_Type23', 'Soil_Type24',\n",
       "       'Soil_Type25', 'Soil_Type26', 'Soil_Type27', 'Soil_Type28',\n",
       "       'Soil_Type29', 'Soil_Type30', 'Soil_Type31', 'Soil_Type32',\n",
       "       'Soil_Type33', 'Soil_Type34', 'Soil_Type35', 'Soil_Type36',\n",
       "       'Soil_Type37', 'Soil_Type38', 'Soil_Type39', 'Soil_Type40'],\n",
       "      dtype='object')"
      ]
     },
     "execution_count": 97,
     "metadata": {},
     "output_type": "execute_result"
    }
   ],
   "source": [
    "test.columns"
   ]
  },
  {
   "cell_type": "markdown",
   "id": "5f1f63fa",
   "metadata": {},
   "source": [
    "<a id = '4'></a>\n",
    "# Data Preparation and Analysis"
   ]
  },
  {
   "cell_type": "code",
   "execution_count": 98,
   "id": "277d53a9",
   "metadata": {
    "ExecuteTime": {
     "end_time": "2022-01-07T20:43:20.984148Z",
     "start_time": "2022-01-07T20:43:20.374580Z"
    }
   },
   "outputs": [],
   "source": [
    "train.drop([\"Id\"] , axis = 1 , inplace = True)\n",
    "test.drop([\"Id\"] , axis = 1 , inplace = True)"
   ]
  },
  {
   "cell_type": "code",
   "execution_count": 99,
   "id": "82ed0cb8",
   "metadata": {
    "ExecuteTime": {
     "end_time": "2022-01-07T20:43:21.000097Z",
     "start_time": "2022-01-07T20:43:20.985130Z"
    }
   },
   "outputs": [],
   "source": [
    "FEATURES = [col for col in train.columns if col not in ['id', 'Cover_Type']]"
   ]
  },
  {
   "cell_type": "code",
   "execution_count": 100,
   "id": "379d3c80",
   "metadata": {
    "ExecuteTime": {
     "end_time": "2022-01-07T20:43:21.015015Z",
     "start_time": "2022-01-07T20:43:21.001053Z"
    }
   },
   "outputs": [
    {
     "data": {
      "text/plain": [
       "['Elevation',\n",
       " 'Aspect',\n",
       " 'Slope',\n",
       " 'Horizontal_Distance_To_Hydrology',\n",
       " 'Vertical_Distance_To_Hydrology',\n",
       " 'Horizontal_Distance_To_Roadways',\n",
       " 'Hillshade_9am',\n",
       " 'Hillshade_Noon',\n",
       " 'Hillshade_3pm',\n",
       " 'Horizontal_Distance_To_Fire_Points',\n",
       " 'Wilderness_Area1',\n",
       " 'Wilderness_Area2',\n",
       " 'Wilderness_Area3',\n",
       " 'Wilderness_Area4',\n",
       " 'Soil_Type1',\n",
       " 'Soil_Type2',\n",
       " 'Soil_Type3',\n",
       " 'Soil_Type4',\n",
       " 'Soil_Type5',\n",
       " 'Soil_Type6',\n",
       " 'Soil_Type7',\n",
       " 'Soil_Type8',\n",
       " 'Soil_Type9',\n",
       " 'Soil_Type10',\n",
       " 'Soil_Type11',\n",
       " 'Soil_Type12',\n",
       " 'Soil_Type13',\n",
       " 'Soil_Type14',\n",
       " 'Soil_Type15',\n",
       " 'Soil_Type16',\n",
       " 'Soil_Type17',\n",
       " 'Soil_Type18',\n",
       " 'Soil_Type19',\n",
       " 'Soil_Type20',\n",
       " 'Soil_Type21',\n",
       " 'Soil_Type22',\n",
       " 'Soil_Type23',\n",
       " 'Soil_Type24',\n",
       " 'Soil_Type25',\n",
       " 'Soil_Type26',\n",
       " 'Soil_Type27',\n",
       " 'Soil_Type28',\n",
       " 'Soil_Type29',\n",
       " 'Soil_Type30',\n",
       " 'Soil_Type31',\n",
       " 'Soil_Type32',\n",
       " 'Soil_Type33',\n",
       " 'Soil_Type34',\n",
       " 'Soil_Type35',\n",
       " 'Soil_Type36',\n",
       " 'Soil_Type37',\n",
       " 'Soil_Type38',\n",
       " 'Soil_Type39',\n",
       " 'Soil_Type40']"
      ]
     },
     "execution_count": 100,
     "metadata": {},
     "output_type": "execute_result"
    }
   ],
   "source": [
    "FEATURES"
   ]
  },
  {
   "cell_type": "code",
   "execution_count": 101,
   "id": "2f8b911b",
   "metadata": {
    "ExecuteTime": {
     "end_time": "2022-01-07T20:43:34.163968Z",
     "start_time": "2022-01-07T20:43:21.016013Z"
    }
   },
   "outputs": [],
   "source": [
    "df = pd.concat([train[FEATURES], test[FEATURES]], axis=0)\n",
    "cat_features = [col for col in FEATURES if df[col].nunique() < 25]\n",
    "cont_features = [col for col in FEATURES if df[col].nunique() >= 25]"
   ]
  },
  {
   "cell_type": "code",
   "execution_count": 102,
   "id": "f4996eab",
   "metadata": {
    "ExecuteTime": {
     "end_time": "2022-01-07T20:43:34.287027Z",
     "start_time": "2022-01-07T20:43:34.239383Z"
    }
   },
   "outputs": [
    {
     "data": {
      "text/html": [
       "<div>\n",
       "<style scoped>\n",
       "    .dataframe tbody tr th:only-of-type {\n",
       "        vertical-align: middle;\n",
       "    }\n",
       "\n",
       "    .dataframe tbody tr th {\n",
       "        vertical-align: top;\n",
       "    }\n",
       "\n",
       "    .dataframe thead th {\n",
       "        text-align: right;\n",
       "    }\n",
       "</style>\n",
       "<table border=\"1\" class=\"dataframe\">\n",
       "  <thead>\n",
       "    <tr style=\"text-align: right;\">\n",
       "      <th></th>\n",
       "      <th>Elevation</th>\n",
       "      <th>Aspect</th>\n",
       "      <th>Slope</th>\n",
       "      <th>Horizontal_Distance_To_Hydrology</th>\n",
       "      <th>Vertical_Distance_To_Hydrology</th>\n",
       "      <th>Horizontal_Distance_To_Roadways</th>\n",
       "      <th>Hillshade_9am</th>\n",
       "      <th>Hillshade_Noon</th>\n",
       "      <th>Hillshade_3pm</th>\n",
       "      <th>Horizontal_Distance_To_Fire_Points</th>\n",
       "      <th>...</th>\n",
       "      <th>Soil_Type31</th>\n",
       "      <th>Soil_Type32</th>\n",
       "      <th>Soil_Type33</th>\n",
       "      <th>Soil_Type34</th>\n",
       "      <th>Soil_Type35</th>\n",
       "      <th>Soil_Type36</th>\n",
       "      <th>Soil_Type37</th>\n",
       "      <th>Soil_Type38</th>\n",
       "      <th>Soil_Type39</th>\n",
       "      <th>Soil_Type40</th>\n",
       "    </tr>\n",
       "  </thead>\n",
       "  <tbody>\n",
       "    <tr>\n",
       "      <th>0</th>\n",
       "      <td>3189</td>\n",
       "      <td>40</td>\n",
       "      <td>8</td>\n",
       "      <td>30</td>\n",
       "      <td>13</td>\n",
       "      <td>3270</td>\n",
       "      <td>206</td>\n",
       "      <td>234</td>\n",
       "      <td>193</td>\n",
       "      <td>4873</td>\n",
       "      <td>...</td>\n",
       "      <td>0</td>\n",
       "      <td>0</td>\n",
       "      <td>0</td>\n",
       "      <td>0</td>\n",
       "      <td>0</td>\n",
       "      <td>0</td>\n",
       "      <td>0</td>\n",
       "      <td>0</td>\n",
       "      <td>0</td>\n",
       "      <td>0</td>\n",
       "    </tr>\n",
       "    <tr>\n",
       "      <th>1</th>\n",
       "      <td>3026</td>\n",
       "      <td>182</td>\n",
       "      <td>5</td>\n",
       "      <td>280</td>\n",
       "      <td>29</td>\n",
       "      <td>3270</td>\n",
       "      <td>233</td>\n",
       "      <td>240</td>\n",
       "      <td>106</td>\n",
       "      <td>5423</td>\n",
       "      <td>...</td>\n",
       "      <td>0</td>\n",
       "      <td>0</td>\n",
       "      <td>0</td>\n",
       "      <td>0</td>\n",
       "      <td>0</td>\n",
       "      <td>0</td>\n",
       "      <td>0</td>\n",
       "      <td>0</td>\n",
       "      <td>0</td>\n",
       "      <td>0</td>\n",
       "    </tr>\n",
       "    <tr>\n",
       "      <th>2</th>\n",
       "      <td>3106</td>\n",
       "      <td>13</td>\n",
       "      <td>7</td>\n",
       "      <td>351</td>\n",
       "      <td>37</td>\n",
       "      <td>2914</td>\n",
       "      <td>208</td>\n",
       "      <td>234</td>\n",
       "      <td>137</td>\n",
       "      <td>5269</td>\n",
       "      <td>...</td>\n",
       "      <td>0</td>\n",
       "      <td>0</td>\n",
       "      <td>0</td>\n",
       "      <td>0</td>\n",
       "      <td>0</td>\n",
       "      <td>0</td>\n",
       "      <td>0</td>\n",
       "      <td>0</td>\n",
       "      <td>0</td>\n",
       "      <td>0</td>\n",
       "    </tr>\n",
       "    <tr>\n",
       "      <th>3</th>\n",
       "      <td>3022</td>\n",
       "      <td>276</td>\n",
       "      <td>13</td>\n",
       "      <td>192</td>\n",
       "      <td>16</td>\n",
       "      <td>3034</td>\n",
       "      <td>207</td>\n",
       "      <td>238</td>\n",
       "      <td>156</td>\n",
       "      <td>2866</td>\n",
       "      <td>...</td>\n",
       "      <td>0</td>\n",
       "      <td>0</td>\n",
       "      <td>0</td>\n",
       "      <td>0</td>\n",
       "      <td>0</td>\n",
       "      <td>0</td>\n",
       "      <td>0</td>\n",
       "      <td>0</td>\n",
       "      <td>0</td>\n",
       "      <td>0</td>\n",
       "    </tr>\n",
       "    <tr>\n",
       "      <th>4</th>\n",
       "      <td>2906</td>\n",
       "      <td>186</td>\n",
       "      <td>13</td>\n",
       "      <td>266</td>\n",
       "      <td>22</td>\n",
       "      <td>2916</td>\n",
       "      <td>231</td>\n",
       "      <td>231</td>\n",
       "      <td>154</td>\n",
       "      <td>2642</td>\n",
       "      <td>...</td>\n",
       "      <td>0</td>\n",
       "      <td>0</td>\n",
       "      <td>0</td>\n",
       "      <td>0</td>\n",
       "      <td>0</td>\n",
       "      <td>0</td>\n",
       "      <td>0</td>\n",
       "      <td>0</td>\n",
       "      <td>0</td>\n",
       "      <td>0</td>\n",
       "    </tr>\n",
       "  </tbody>\n",
       "</table>\n",
       "<p>5 rows × 54 columns</p>\n",
       "</div>"
      ],
      "text/plain": [
       "   Elevation  Aspect  Slope  Horizontal_Distance_To_Hydrology  \\\n",
       "0       3189      40      8                                30   \n",
       "1       3026     182      5                               280   \n",
       "2       3106      13      7                               351   \n",
       "3       3022     276     13                               192   \n",
       "4       2906     186     13                               266   \n",
       "\n",
       "   Vertical_Distance_To_Hydrology  Horizontal_Distance_To_Roadways  \\\n",
       "0                              13                             3270   \n",
       "1                              29                             3270   \n",
       "2                              37                             2914   \n",
       "3                              16                             3034   \n",
       "4                              22                             2916   \n",
       "\n",
       "   Hillshade_9am  Hillshade_Noon  Hillshade_3pm  \\\n",
       "0            206             234            193   \n",
       "1            233             240            106   \n",
       "2            208             234            137   \n",
       "3            207             238            156   \n",
       "4            231             231            154   \n",
       "\n",
       "   Horizontal_Distance_To_Fire_Points  ...  Soil_Type31  Soil_Type32  \\\n",
       "0                                4873  ...            0            0   \n",
       "1                                5423  ...            0            0   \n",
       "2                                5269  ...            0            0   \n",
       "3                                2866  ...            0            0   \n",
       "4                                2642  ...            0            0   \n",
       "\n",
       "   Soil_Type33  Soil_Type34  Soil_Type35  Soil_Type36  Soil_Type37  \\\n",
       "0            0            0            0            0            0   \n",
       "1            0            0            0            0            0   \n",
       "2            0            0            0            0            0   \n",
       "3            0            0            0            0            0   \n",
       "4            0            0            0            0            0   \n",
       "\n",
       "   Soil_Type38  Soil_Type39  Soil_Type40  \n",
       "0            0            0            0  \n",
       "1            0            0            0  \n",
       "2            0            0            0  \n",
       "3            0            0            0  \n",
       "4            0            0            0  \n",
       "\n",
       "[5 rows x 54 columns]"
      ]
     },
     "execution_count": 102,
     "metadata": {},
     "output_type": "execute_result"
    }
   ],
   "source": [
    "df.head()"
   ]
  },
  {
   "cell_type": "code",
   "execution_count": 103,
   "id": "bb6829fa",
   "metadata": {
    "ExecuteTime": {
     "end_time": "2022-01-07T20:43:34.302355Z",
     "start_time": "2022-01-07T20:43:34.288024Z"
    }
   },
   "outputs": [
    {
     "data": {
      "text/plain": [
       "(5000000, 54)"
      ]
     },
     "execution_count": 103,
     "metadata": {},
     "output_type": "execute_result"
    }
   ],
   "source": [
    "df.shape"
   ]
  },
  {
   "cell_type": "code",
   "execution_count": 104,
   "id": "a0bc4fa0",
   "metadata": {
    "ExecuteTime": {
     "end_time": "2022-01-07T20:43:34.317939Z",
     "start_time": "2022-01-07T20:43:34.307345Z"
    }
   },
   "outputs": [],
   "source": [
    "del df"
   ]
  },
  {
   "cell_type": "code",
   "execution_count": 105,
   "id": "63c2d724",
   "metadata": {
    "ExecuteTime": {
     "end_time": "2022-01-07T20:43:34.333204Z",
     "start_time": "2022-01-07T20:43:34.319934Z"
    }
   },
   "outputs": [
    {
     "data": {
      "text/plain": [
       "['Wilderness_Area1',\n",
       " 'Wilderness_Area2',\n",
       " 'Wilderness_Area3',\n",
       " 'Wilderness_Area4',\n",
       " 'Soil_Type1',\n",
       " 'Soil_Type2',\n",
       " 'Soil_Type3',\n",
       " 'Soil_Type4',\n",
       " 'Soil_Type5',\n",
       " 'Soil_Type6',\n",
       " 'Soil_Type7',\n",
       " 'Soil_Type8',\n",
       " 'Soil_Type9',\n",
       " 'Soil_Type10',\n",
       " 'Soil_Type11',\n",
       " 'Soil_Type12',\n",
       " 'Soil_Type13',\n",
       " 'Soil_Type14',\n",
       " 'Soil_Type15',\n",
       " 'Soil_Type16',\n",
       " 'Soil_Type17',\n",
       " 'Soil_Type18',\n",
       " 'Soil_Type19',\n",
       " 'Soil_Type20',\n",
       " 'Soil_Type21',\n",
       " 'Soil_Type22',\n",
       " 'Soil_Type23',\n",
       " 'Soil_Type24',\n",
       " 'Soil_Type25',\n",
       " 'Soil_Type26',\n",
       " 'Soil_Type27',\n",
       " 'Soil_Type28',\n",
       " 'Soil_Type29',\n",
       " 'Soil_Type30',\n",
       " 'Soil_Type31',\n",
       " 'Soil_Type32',\n",
       " 'Soil_Type33',\n",
       " 'Soil_Type34',\n",
       " 'Soil_Type35',\n",
       " 'Soil_Type36',\n",
       " 'Soil_Type37',\n",
       " 'Soil_Type38',\n",
       " 'Soil_Type39',\n",
       " 'Soil_Type40']"
      ]
     },
     "execution_count": 105,
     "metadata": {},
     "output_type": "execute_result"
    }
   ],
   "source": [
    "cat_features"
   ]
  },
  {
   "cell_type": "code",
   "execution_count": 106,
   "id": "e64d15e0",
   "metadata": {
    "ExecuteTime": {
     "end_time": "2022-01-07T20:43:34.349162Z",
     "start_time": "2022-01-07T20:43:34.334234Z"
    }
   },
   "outputs": [
    {
     "data": {
      "text/plain": [
       "['Elevation',\n",
       " 'Aspect',\n",
       " 'Slope',\n",
       " 'Horizontal_Distance_To_Hydrology',\n",
       " 'Vertical_Distance_To_Hydrology',\n",
       " 'Horizontal_Distance_To_Roadways',\n",
       " 'Hillshade_9am',\n",
       " 'Hillshade_Noon',\n",
       " 'Hillshade_3pm',\n",
       " 'Horizontal_Distance_To_Fire_Points']"
      ]
     },
     "execution_count": 106,
     "metadata": {},
     "output_type": "execute_result"
    }
   ],
   "source": [
    "cont_features"
   ]
  },
  {
   "cell_type": "code",
   "execution_count": 28,
   "id": "0558e32c",
   "metadata": {
    "ExecuteTime": {
     "end_time": "2022-01-06T19:11:36.650794Z",
     "start_time": "2022-01-06T19:11:36.605802Z"
    }
   },
   "outputs": [
    {
     "data": {
      "text/plain": [
       "2    2262087\n",
       "1    1468136\n",
       "3     195712\n",
       "7      62261\n",
       "6      11426\n",
       "4        377\n",
       "5          1\n",
       "Name: Cover_Type, dtype: int64"
      ]
     },
     "execution_count": 28,
     "metadata": {},
     "output_type": "execute_result"
    }
   ],
   "source": [
    "train.Cover_Type.value_counts()"
   ]
  },
  {
   "cell_type": "code",
   "execution_count": 29,
   "id": "9f029a9f",
   "metadata": {
    "ExecuteTime": {
     "end_time": "2022-01-06T19:11:37.167008Z",
     "start_time": "2022-01-06T19:11:36.651792Z"
    }
   },
   "outputs": [
    {
     "data": {
      "image/png": "[encoded data removed]",
      "text/plain": [
       "<Figure size 720x360 with 1 Axes>"
      ]
     },
     "metadata": {
      "needs_background": "light"
     },
     "output_type": "display_data"
    }
   ],
   "source": [
    "# count plot for the target variable\n",
    "plt.figure(figsize=(10,5))\n",
    "sns.countplot(x='Cover_Type', data=train);"
   ]
  },
  {
   "cell_type": "markdown",
   "id": "873ff1a3",
   "metadata": {},
   "source": [
    "**There is only 1 row of class 5**"
   ]
  },
  {
   "cell_type": "code",
   "execution_count": 21,
   "id": "954c1d12",
   "metadata": {
    "ExecuteTime": {
     "end_time": "2021-12-09T16:24:02.482680Z",
     "start_time": "2021-12-09T16:09:34.591664Z"
    }
   },
   "outputs": [
    {
     "data": {
      "image/png": "[encoded data removed]",
      "text/plain": [
       "<Figure size 1296x576 with 10 Axes>"
      ]
     },
     "metadata": {},
     "output_type": "display_data"
    }
   ],
   "source": [
    "# distrbution of the continous features\n",
    "ncols = 5\n",
    "nrows = int(len(cont_features) / ncols + (len(FEATURES) % ncols > 0))-1\n",
    "\n",
    "fig, axes = plt.subplots(nrows, ncols, figsize=(18, 8), facecolor='#EAEAF2')\n",
    "\n",
    "for r in range(nrows):\n",
    "    for c in range(ncols):\n",
    "        col = cont_features[r*ncols+c]\n",
    "        sns.kdeplot(x=train[col], ax=axes[r, c], color='#58D68D', label='Train data')\n",
    "        sns.kdeplot(x=test[col], ax=axes[r, c], color='#DE3163', label='Test data')\n",
    "        axes[r, c].set_ylabel('')\n",
    "        axes[r, c].set_xlabel(col, fontsize=8, fontweight='bold')\n",
    "        axes[r, c].tick_params(labelsize=5, width=0.5)\n",
    "        axes[r, c].xaxis.offsetText.set_fontsize(4)\n",
    "        axes[r, c].yaxis.offsetText.set_fontsize(4)\n",
    "plt.show()"
   ]
  },
  {
   "cell_type": "code",
   "execution_count": 22,
   "id": "9d172547",
   "metadata": {
    "ExecuteTime": {
     "end_time": "2021-12-09T16:46:57.718574Z",
     "start_time": "2021-12-09T16:24:02.485673Z"
    }
   },
   "outputs": [
    {
     "data": {
      "image/png": "[encoded data removed]",
      "text/plain": [
       "<Figure size 1584x720 with 10 Axes>"
      ]
     },
     "metadata": {},
     "output_type": "display_data"
    }
   ],
   "source": [
    "# barplot of the categorical features (y-axis) and target variable (x-axis)\n",
    "ncols = 5\n",
    "nrows = int(len(cont_features) / ncols + (len(FEATURES) % ncols > 0))-1\n",
    "\n",
    "fig, axes = plt.subplots(nrows, ncols, figsize=(22, 10), facecolor='#EAEAF2')\n",
    "\n",
    "for r in range(nrows):\n",
    "    for c in range(ncols):\n",
    "        col = cont_features[r*ncols+c]\n",
    "        sns.barplot(y=train[col], x=train['Cover_Type'], ax=axes[r, c], palette='autumn', label='Train data')\n",
    "        axes[r, c].set_ylabel('')\n",
    "        axes[r, c].set_xlabel(col, fontsize=8, fontweight='bold')\n",
    "        axes[r, c].tick_params(labelsize=5, width=0.5)\n",
    "        axes[r, c].xaxis.offsetText.set_fontsize(4)\n",
    "        axes[r, c].yaxis.offsetText.set_fontsize(4)\n",
    "plt.show()"
   ]
  },
  {
   "cell_type": "code",
   "execution_count": 23,
   "id": "8093bf2e",
   "metadata": {
    "ExecuteTime": {
     "end_time": "2021-12-09T16:47:01.295088Z",
     "start_time": "2021-12-09T16:46:57.721577Z"
    }
   },
   "outputs": [
    {
     "data": {
      "image/png": "[encoded data removed]",
      "text/plain": [
       "<Figure size 1584x720 with 10 Axes>"
      ]
     },
     "metadata": {},
     "output_type": "display_data"
    }
   ],
   "source": [
    "# boxplot for all continous features\n",
    "ncols = 5\n",
    "nrows = int(len(cont_features) / ncols + (len(FEATURES) % ncols > 0))-1\n",
    "\n",
    "fig, axes = plt.subplots(nrows, ncols, figsize=(22, 10), facecolor='#EAEAF2')\n",
    "\n",
    "for r in range(nrows):\n",
    "    for c in range(ncols):\n",
    "        col = cont_features[r*ncols+c]\n",
    "        sns.boxplot(x=train[col], ax=axes[r, c], palette='winter')\n",
    "        axes[r, c].set_ylabel('')\n",
    "        axes[r, c].set_xlabel(col, fontsize=8, fontweight='bold')\n",
    "        axes[r, c].tick_params(labelsize=5, width=0.5)\n",
    "        axes[r, c].xaxis.offsetText.set_fontsize(4)\n",
    "        axes[r, c].yaxis.offsetText.set_fontsize(4)\n",
    "plt.show()"
   ]
  },
  {
   "cell_type": "code",
   "execution_count": 24,
   "id": "f84062ca",
   "metadata": {
    "ExecuteTime": {
     "end_time": "2021-12-09T16:47:22.965589Z",
     "start_time": "2021-12-09T16:47:01.297100Z"
    }
   },
   "outputs": [
    {
     "data": {
      "image/png": "[encoded data removed]",
      "text/plain": [
       "<Figure size 1296x3240 with 45 Axes>"
      ]
     },
     "metadata": {},
     "output_type": "display_data"
    }
   ],
   "source": [
    "# countplot for all catecorigal columns\n",
    "if len(cat_features) == 0 :\n",
    "    print(\"No Categorical features\")\n",
    "else:\n",
    "    ncols = 5\n",
    "    nrows = int(len(cat_features) / ncols + (len(FEATURES) % ncols > 0)) \n",
    "\n",
    "    fig, axes = plt.subplots(nrows, ncols, figsize=(18, 45), facecolor='#EAEAF2')\n",
    "\n",
    "    for r in range(nrows):\n",
    "        for c in range(ncols):\n",
    "            if r*ncols+c >= len(cat_features):\n",
    "                break\n",
    "            col = cat_features[r*ncols+c]\n",
    "            sns.countplot(x=train[col], ax=axes[r, c], color='#58D68D', label='Train data')\n",
    "            sns.countplot(x=test[col], ax=axes[r, c], color='#DE3163', label='Test data')\n",
    "            axes[r, c].set_ylabel('')\n",
    "            axes[r, c].set_xlabel(col, fontsize=8, fontweight='bold')\n",
    "            axes[r, c].tick_params(labelsize=5, width=0.5)\n",
    "            axes[r, c].xaxis.offsetText.set_fontsize(4)\n",
    "            axes[r, c].yaxis.offsetText.set_fontsize(4)\n",
    "    plt.show()"
   ]
  },
  {
   "cell_type": "markdown",
   "id": "53e5b55d",
   "metadata": {},
   "source": [
    "**Soil_type7 and Soil_Type15 are all zero values**"
   ]
  },
  {
   "cell_type": "markdown",
   "id": "3e90ca83",
   "metadata": {},
   "source": [
    "<a id = '4.1'></a>\n",
    "### Drop Unwanted columns"
   ]
  },
  {
   "cell_type": "code",
   "execution_count": 107,
   "id": "edcfeac1",
   "metadata": {
    "ExecuteTime": {
     "end_time": "2022-01-07T20:43:36.477758Z",
     "start_time": "2022-01-07T20:43:34.350184Z"
    }
   },
   "outputs": [],
   "source": [
    "train = train.drop(index = int(np.where(train[\"Cover_Type\"] == 5 )[0]))\n",
    "train = train.drop(labels = [\"Soil_Type7\" , \"Soil_Type15\"] ,axis = 1)\n",
    "FEATURES.remove('Soil_Type7')\n",
    "FEATURES.remove('Soil_Type15')"
   ]
  },
  {
   "cell_type": "code",
   "execution_count": 115,
   "id": "804f1c57",
   "metadata": {
    "ExecuteTime": {
     "end_time": "2022-01-07T20:45:18.153427Z",
     "start_time": "2022-01-07T20:45:17.773061Z"
    }
   },
   "outputs": [],
   "source": [
    "test = test.drop(labels = [\"Soil_Type7\" , \"Soil_Type15\"] ,axis = 1)"
   ]
  },
  {
   "cell_type": "code",
   "execution_count": 108,
   "id": "58b1df10",
   "metadata": {
    "ExecuteTime": {
     "end_time": "2022-01-07T20:43:36.493186Z",
     "start_time": "2022-01-07T20:43:36.477758Z"
    }
   },
   "outputs": [
    {
     "data": {
      "text/plain": [
       "(3999999, 53)"
      ]
     },
     "execution_count": 108,
     "metadata": {},
     "output_type": "execute_result"
    }
   ],
   "source": [
    "train.shape"
   ]
  },
  {
   "cell_type": "code",
   "execution_count": 109,
   "id": "ca5a8667",
   "metadata": {
    "ExecuteTime": {
     "end_time": "2022-01-07T20:43:36.509144Z",
     "start_time": "2022-01-07T20:43:36.495182Z"
    }
   },
   "outputs": [
    {
     "data": {
      "text/plain": [
       "['Elevation',\n",
       " 'Aspect',\n",
       " 'Slope',\n",
       " 'Horizontal_Distance_To_Hydrology',\n",
       " 'Vertical_Distance_To_Hydrology',\n",
       " 'Horizontal_Distance_To_Roadways',\n",
       " 'Hillshade_9am',\n",
       " 'Hillshade_Noon',\n",
       " 'Hillshade_3pm',\n",
       " 'Horizontal_Distance_To_Fire_Points',\n",
       " 'Wilderness_Area1',\n",
       " 'Wilderness_Area2',\n",
       " 'Wilderness_Area3',\n",
       " 'Wilderness_Area4',\n",
       " 'Soil_Type1',\n",
       " 'Soil_Type2',\n",
       " 'Soil_Type3',\n",
       " 'Soil_Type4',\n",
       " 'Soil_Type5',\n",
       " 'Soil_Type6',\n",
       " 'Soil_Type8',\n",
       " 'Soil_Type9',\n",
       " 'Soil_Type10',\n",
       " 'Soil_Type11',\n",
       " 'Soil_Type12',\n",
       " 'Soil_Type13',\n",
       " 'Soil_Type14',\n",
       " 'Soil_Type16',\n",
       " 'Soil_Type17',\n",
       " 'Soil_Type18',\n",
       " 'Soil_Type19',\n",
       " 'Soil_Type20',\n",
       " 'Soil_Type21',\n",
       " 'Soil_Type22',\n",
       " 'Soil_Type23',\n",
       " 'Soil_Type24',\n",
       " 'Soil_Type25',\n",
       " 'Soil_Type26',\n",
       " 'Soil_Type27',\n",
       " 'Soil_Type28',\n",
       " 'Soil_Type29',\n",
       " 'Soil_Type30',\n",
       " 'Soil_Type31',\n",
       " 'Soil_Type32',\n",
       " 'Soil_Type33',\n",
       " 'Soil_Type34',\n",
       " 'Soil_Type35',\n",
       " 'Soil_Type36',\n",
       " 'Soil_Type37',\n",
       " 'Soil_Type38',\n",
       " 'Soil_Type39',\n",
       " 'Soil_Type40']"
      ]
     },
     "execution_count": 109,
     "metadata": {},
     "output_type": "execute_result"
    }
   ],
   "source": [
    "FEATURES"
   ]
  },
  {
   "cell_type": "markdown",
   "id": "ce9e4771",
   "metadata": {},
   "source": [
    "<a id = '5'></a>\n",
    "# Features Engineering"
   ]
  },
  {
   "cell_type": "code",
   "execution_count": 110,
   "id": "ae65f1ee",
   "metadata": {
    "ExecuteTime": {
     "end_time": "2022-01-07T20:43:37.414748Z",
     "start_time": "2022-01-07T20:43:36.511139Z"
    }
   },
   "outputs": [
    {
     "data": {
      "text/plain": [
       "Elevation                             2980.191667\n",
       "Aspect                                 151.585680\n",
       "Slope                                   15.097531\n",
       "Horizontal_Distance_To_Hydrology       271.315479\n",
       "Vertical_Distance_To_Hydrology          51.662606\n",
       "Horizontal_Distance_To_Roadways       1766.641826\n",
       "Hillshade_9am                          211.837550\n",
       "Hillshade_Noon                         221.061444\n",
       "Hillshade_3pm                          140.810863\n",
       "Horizontal_Distance_To_Fire_Points    1581.405297\n",
       "Wilderness_Area1                         0.261193\n",
       "Wilderness_Area2                         0.041661\n",
       "Wilderness_Area3                         0.653573\n",
       "Wilderness_Area4                         0.021819\n",
       "Soil_Type1                               0.016842\n",
       "Soil_Type2                               0.030896\n",
       "Soil_Type3                               0.004276\n",
       "Soil_Type4                               0.037913\n",
       "Soil_Type5                               0.015715\n",
       "Soil_Type6                               0.007973\n",
       "Soil_Type8                               0.002900\n",
       "Soil_Type9                               0.010893\n",
       "Soil_Type10                              0.054541\n",
       "Soil_Type11                              0.027985\n",
       "Soil_Type12                              0.018290\n",
       "Soil_Type13                              0.031295\n",
       "Soil_Type14                              0.014977\n",
       "Soil_Type16                              0.015889\n",
       "Soil_Type17                              0.020672\n",
       "Soil_Type18                              0.013436\n",
       "Soil_Type19                              0.013811\n",
       "Soil_Type20                              0.017368\n",
       "Soil_Type21                              0.011539\n",
       "Soil_Type22                              0.031346\n",
       "Soil_Type23                              0.049171\n",
       "Soil_Type24                              0.025022\n",
       "Soil_Type25                              0.003258\n",
       "Soil_Type26                              0.013527\n",
       "Soil_Type27                              0.011766\n",
       "Soil_Type28                              0.010708\n",
       "Soil_Type29                              0.022274\n",
       "Soil_Type30                              0.028867\n",
       "Soil_Type31                              0.027493\n",
       "Soil_Type32                              0.037462\n",
       "Soil_Type33                              0.037821\n",
       "Soil_Type34                              0.011995\n",
       "Soil_Type35                              0.016054\n",
       "Soil_Type36                              0.010713\n",
       "Soil_Type37                              0.012208\n",
       "Soil_Type38                              0.040752\n",
       "Soil_Type39                              0.039239\n",
       "Soil_Type40                              0.031619\n",
       "dtype: float64"
      ]
     },
     "execution_count": 110,
     "metadata": {},
     "output_type": "execute_result"
    }
   ],
   "source": [
    "train[FEATURES].mean()"
   ]
  },
  {
   "cell_type": "code",
   "execution_count": 111,
   "id": "a5e0c23d",
   "metadata": {
    "ExecuteTime": {
     "end_time": "2022-01-07T20:44:05.877120Z",
     "start_time": "2022-01-07T20:43:37.416743Z"
    }
   },
   "outputs": [],
   "source": [
    "train[\"mean\"] = train[FEATURES].mean(axis=1)\n",
    "train[\"std\"] = train[FEATURES].std(axis=1)\n",
    "train[\"min\"] = train[FEATURES].min(axis=1)\n",
    "train[\"max\"] = train[FEATURES].max(axis=1)\n",
    "\n",
    "test[\"mean\"] = test[FEATURES].mean(axis=1)\n",
    "test[\"std\"] = test[FEATURES].std(axis=1)\n",
    "test[\"min\"] = test[FEATURES].min(axis=1)\n",
    "test[\"max\"] = test[FEATURES].max(axis=1)\n",
    "\n",
    "FEATURES.extend(['mean', 'std', 'min', 'max'])"
   ]
  },
  {
   "cell_type": "code",
   "execution_count": 112,
   "id": "c40b2c43",
   "metadata": {
    "ExecuteTime": {
     "end_time": "2022-01-07T20:44:05.907708Z",
     "start_time": "2022-01-07T20:44:05.877120Z"
    }
   },
   "outputs": [
    {
     "data": {
      "text/plain": [
       "(3999999, 57)"
      ]
     },
     "execution_count": 112,
     "metadata": {},
     "output_type": "execute_result"
    }
   ],
   "source": [
    "train.shape"
   ]
  },
  {
   "cell_type": "code",
   "execution_count": 113,
   "id": "5a48fae9",
   "metadata": {
    "ExecuteTime": {
     "end_time": "2022-01-07T20:44:06.338860Z",
     "start_time": "2022-01-07T20:44:05.908677Z"
    }
   },
   "outputs": [
    {
     "data": {
      "text/html": [
       "<div>\n",
       "<style scoped>\n",
       "    .dataframe tbody tr th:only-of-type {\n",
       "        vertical-align: middle;\n",
       "    }\n",
       "\n",
       "    .dataframe tbody tr th {\n",
       "        vertical-align: top;\n",
       "    }\n",
       "\n",
       "    .dataframe thead th {\n",
       "        text-align: right;\n",
       "    }\n",
       "</style>\n",
       "<table border=\"1\" class=\"dataframe\">\n",
       "  <thead>\n",
       "    <tr style=\"text-align: right;\">\n",
       "      <th></th>\n",
       "      <th>Elevation</th>\n",
       "      <th>Aspect</th>\n",
       "      <th>Slope</th>\n",
       "      <th>Horizontal_Distance_To_Hydrology</th>\n",
       "      <th>Vertical_Distance_To_Hydrology</th>\n",
       "      <th>Horizontal_Distance_To_Roadways</th>\n",
       "      <th>Hillshade_9am</th>\n",
       "      <th>Hillshade_Noon</th>\n",
       "      <th>Hillshade_3pm</th>\n",
       "      <th>Horizontal_Distance_To_Fire_Points</th>\n",
       "      <th>...</th>\n",
       "      <th>Soil_Type36</th>\n",
       "      <th>Soil_Type37</th>\n",
       "      <th>Soil_Type38</th>\n",
       "      <th>Soil_Type39</th>\n",
       "      <th>Soil_Type40</th>\n",
       "      <th>Cover_Type</th>\n",
       "      <th>mean</th>\n",
       "      <th>std</th>\n",
       "      <th>min</th>\n",
       "      <th>max</th>\n",
       "    </tr>\n",
       "  </thead>\n",
       "  <tbody>\n",
       "    <tr>\n",
       "      <th>0</th>\n",
       "      <td>3189</td>\n",
       "      <td>40</td>\n",
       "      <td>8</td>\n",
       "      <td>30</td>\n",
       "      <td>13</td>\n",
       "      <td>3270</td>\n",
       "      <td>206</td>\n",
       "      <td>234</td>\n",
       "      <td>193</td>\n",
       "      <td>4873</td>\n",
       "      <td>...</td>\n",
       "      <td>0</td>\n",
       "      <td>0</td>\n",
       "      <td>0</td>\n",
       "      <td>0</td>\n",
       "      <td>0</td>\n",
       "      <td>1</td>\n",
       "      <td>231.884615</td>\n",
       "      <td>906.943383</td>\n",
       "      <td>0</td>\n",
       "      <td>4873</td>\n",
       "    </tr>\n",
       "    <tr>\n",
       "      <th>1</th>\n",
       "      <td>3026</td>\n",
       "      <td>182</td>\n",
       "      <td>5</td>\n",
       "      <td>280</td>\n",
       "      <td>29</td>\n",
       "      <td>3270</td>\n",
       "      <td>233</td>\n",
       "      <td>240</td>\n",
       "      <td>106</td>\n",
       "      <td>5423</td>\n",
       "      <td>...</td>\n",
       "      <td>0</td>\n",
       "      <td>0</td>\n",
       "      <td>0</td>\n",
       "      <td>0</td>\n",
       "      <td>0</td>\n",
       "      <td>2</td>\n",
       "      <td>246.076923</td>\n",
       "      <td>953.273223</td>\n",
       "      <td>0</td>\n",
       "      <td>5423</td>\n",
       "    </tr>\n",
       "    <tr>\n",
       "      <th>2</th>\n",
       "      <td>3106</td>\n",
       "      <td>13</td>\n",
       "      <td>7</td>\n",
       "      <td>351</td>\n",
       "      <td>37</td>\n",
       "      <td>2914</td>\n",
       "      <td>208</td>\n",
       "      <td>234</td>\n",
       "      <td>137</td>\n",
       "      <td>5269</td>\n",
       "      <td>...</td>\n",
       "      <td>0</td>\n",
       "      <td>0</td>\n",
       "      <td>0</td>\n",
       "      <td>0</td>\n",
       "      <td>0</td>\n",
       "      <td>1</td>\n",
       "      <td>236.115385</td>\n",
       "      <td>920.821748</td>\n",
       "      <td>0</td>\n",
       "      <td>5269</td>\n",
       "    </tr>\n",
       "    <tr>\n",
       "      <th>3</th>\n",
       "      <td>3022</td>\n",
       "      <td>276</td>\n",
       "      <td>13</td>\n",
       "      <td>192</td>\n",
       "      <td>16</td>\n",
       "      <td>3034</td>\n",
       "      <td>207</td>\n",
       "      <td>238</td>\n",
       "      <td>156</td>\n",
       "      <td>2866</td>\n",
       "      <td>...</td>\n",
       "      <td>0</td>\n",
       "      <td>0</td>\n",
       "      <td>0</td>\n",
       "      <td>0</td>\n",
       "      <td>0</td>\n",
       "      <td>2</td>\n",
       "      <td>192.730769</td>\n",
       "      <td>698.139604</td>\n",
       "      <td>0</td>\n",
       "      <td>3034</td>\n",
       "    </tr>\n",
       "    <tr>\n",
       "      <th>4</th>\n",
       "      <td>2906</td>\n",
       "      <td>186</td>\n",
       "      <td>13</td>\n",
       "      <td>266</td>\n",
       "      <td>22</td>\n",
       "      <td>2916</td>\n",
       "      <td>231</td>\n",
       "      <td>231</td>\n",
       "      <td>154</td>\n",
       "      <td>2642</td>\n",
       "      <td>...</td>\n",
       "      <td>0</td>\n",
       "      <td>0</td>\n",
       "      <td>0</td>\n",
       "      <td>0</td>\n",
       "      <td>0</td>\n",
       "      <td>2</td>\n",
       "      <td>184.019231</td>\n",
       "      <td>662.787059</td>\n",
       "      <td>0</td>\n",
       "      <td>2916</td>\n",
       "    </tr>\n",
       "  </tbody>\n",
       "</table>\n",
       "<p>5 rows × 57 columns</p>\n",
       "</div>"
      ],
      "text/plain": [
       "   Elevation  Aspect  Slope  Horizontal_Distance_To_Hydrology  \\\n",
       "0       3189      40      8                                30   \n",
       "1       3026     182      5                               280   \n",
       "2       3106      13      7                               351   \n",
       "3       3022     276     13                               192   \n",
       "4       2906     186     13                               266   \n",
       "\n",
       "   Vertical_Distance_To_Hydrology  Horizontal_Distance_To_Roadways  \\\n",
       "0                              13                             3270   \n",
       "1                              29                             3270   \n",
       "2                              37                             2914   \n",
       "3                              16                             3034   \n",
       "4                              22                             2916   \n",
       "\n",
       "   Hillshade_9am  Hillshade_Noon  Hillshade_3pm  \\\n",
       "0            206             234            193   \n",
       "1            233             240            106   \n",
       "2            208             234            137   \n",
       "3            207             238            156   \n",
       "4            231             231            154   \n",
       "\n",
       "   Horizontal_Distance_To_Fire_Points  ...  Soil_Type36  Soil_Type37  \\\n",
       "0                                4873  ...            0            0   \n",
       "1                                5423  ...            0            0   \n",
       "2                                5269  ...            0            0   \n",
       "3                                2866  ...            0            0   \n",
       "4                                2642  ...            0            0   \n",
       "\n",
       "   Soil_Type38  Soil_Type39  Soil_Type40  Cover_Type        mean         std  \\\n",
       "0            0            0            0           1  231.884615  906.943383   \n",
       "1            0            0            0           2  246.076923  953.273223   \n",
       "2            0            0            0           1  236.115385  920.821748   \n",
       "3            0            0            0           2  192.730769  698.139604   \n",
       "4            0            0            0           2  184.019231  662.787059   \n",
       "\n",
       "   min   max  \n",
       "0    0  4873  \n",
       "1    0  5423  \n",
       "2    0  5269  \n",
       "3    0  3034  \n",
       "4    0  2916  \n",
       "\n",
       "[5 rows x 57 columns]"
      ]
     },
     "execution_count": 113,
     "metadata": {},
     "output_type": "execute_result"
    }
   ],
   "source": [
    "train.head()"
   ]
  },
  {
   "cell_type": "code",
   "execution_count": 116,
   "id": "7020a1cc",
   "metadata": {
    "ExecuteTime": {
     "end_time": "2022-01-07T20:45:26.314945Z",
     "start_time": "2022-01-07T20:45:26.296981Z"
    }
   },
   "outputs": [
    {
     "data": {
      "text/plain": [
       "(1000000, 56)"
      ]
     },
     "execution_count": 116,
     "metadata": {},
     "output_type": "execute_result"
    }
   ],
   "source": [
    "test.shape"
   ]
  },
  {
   "cell_type": "code",
   "execution_count": 117,
   "id": "3ae69198",
   "metadata": {
    "ExecuteTime": {
     "end_time": "2022-01-07T20:45:26.953774Z",
     "start_time": "2022-01-07T20:45:26.938121Z"
    }
   },
   "outputs": [
    {
     "data": {
      "text/html": [
       "<div>\n",
       "<style scoped>\n",
       "    .dataframe tbody tr th:only-of-type {\n",
       "        vertical-align: middle;\n",
       "    }\n",
       "\n",
       "    .dataframe tbody tr th {\n",
       "        vertical-align: top;\n",
       "    }\n",
       "\n",
       "    .dataframe thead th {\n",
       "        text-align: right;\n",
       "    }\n",
       "</style>\n",
       "<table border=\"1\" class=\"dataframe\">\n",
       "  <thead>\n",
       "    <tr style=\"text-align: right;\">\n",
       "      <th></th>\n",
       "      <th>Elevation</th>\n",
       "      <th>Aspect</th>\n",
       "      <th>Slope</th>\n",
       "      <th>Horizontal_Distance_To_Hydrology</th>\n",
       "      <th>Vertical_Distance_To_Hydrology</th>\n",
       "      <th>Horizontal_Distance_To_Roadways</th>\n",
       "      <th>Hillshade_9am</th>\n",
       "      <th>Hillshade_Noon</th>\n",
       "      <th>Hillshade_3pm</th>\n",
       "      <th>Horizontal_Distance_To_Fire_Points</th>\n",
       "      <th>...</th>\n",
       "      <th>Soil_Type35</th>\n",
       "      <th>Soil_Type36</th>\n",
       "      <th>Soil_Type37</th>\n",
       "      <th>Soil_Type38</th>\n",
       "      <th>Soil_Type39</th>\n",
       "      <th>Soil_Type40</th>\n",
       "      <th>mean</th>\n",
       "      <th>std</th>\n",
       "      <th>min</th>\n",
       "      <th>max</th>\n",
       "    </tr>\n",
       "  </thead>\n",
       "  <tbody>\n",
       "    <tr>\n",
       "      <th>0</th>\n",
       "      <td>2763</td>\n",
       "      <td>78</td>\n",
       "      <td>20</td>\n",
       "      <td>377</td>\n",
       "      <td>88</td>\n",
       "      <td>3104</td>\n",
       "      <td>218</td>\n",
       "      <td>213</td>\n",
       "      <td>195</td>\n",
       "      <td>1931</td>\n",
       "      <td>...</td>\n",
       "      <td>0</td>\n",
       "      <td>0</td>\n",
       "      <td>0</td>\n",
       "      <td>0</td>\n",
       "      <td>0</td>\n",
       "      <td>0</td>\n",
       "      <td>172.826923</td>\n",
       "      <td>622.011686</td>\n",
       "      <td>0</td>\n",
       "      <td>3104</td>\n",
       "    </tr>\n",
       "    <tr>\n",
       "      <th>1</th>\n",
       "      <td>2826</td>\n",
       "      <td>153</td>\n",
       "      <td>11</td>\n",
       "      <td>264</td>\n",
       "      <td>39</td>\n",
       "      <td>295</td>\n",
       "      <td>219</td>\n",
       "      <td>238</td>\n",
       "      <td>148</td>\n",
       "      <td>2557</td>\n",
       "      <td>...</td>\n",
       "      <td>0</td>\n",
       "      <td>0</td>\n",
       "      <td>0</td>\n",
       "      <td>0</td>\n",
       "      <td>0</td>\n",
       "      <td>0</td>\n",
       "      <td>129.826923</td>\n",
       "      <td>523.119329</td>\n",
       "      <td>0</td>\n",
       "      <td>2826</td>\n",
       "    </tr>\n",
       "    <tr>\n",
       "      <th>2</th>\n",
       "      <td>2948</td>\n",
       "      <td>57</td>\n",
       "      <td>19</td>\n",
       "      <td>56</td>\n",
       "      <td>44</td>\n",
       "      <td>852</td>\n",
       "      <td>202</td>\n",
       "      <td>217</td>\n",
       "      <td>163</td>\n",
       "      <td>1803</td>\n",
       "      <td>...</td>\n",
       "      <td>0</td>\n",
       "      <td>0</td>\n",
       "      <td>0</td>\n",
       "      <td>0</td>\n",
       "      <td>0</td>\n",
       "      <td>0</td>\n",
       "      <td>122.346154</td>\n",
       "      <td>485.317680</td>\n",
       "      <td>0</td>\n",
       "      <td>2948</td>\n",
       "    </tr>\n",
       "    <tr>\n",
       "      <th>3</th>\n",
       "      <td>2926</td>\n",
       "      <td>119</td>\n",
       "      <td>6</td>\n",
       "      <td>158</td>\n",
       "      <td>134</td>\n",
       "      <td>2136</td>\n",
       "      <td>234</td>\n",
       "      <td>240</td>\n",
       "      <td>142</td>\n",
       "      <td>857</td>\n",
       "      <td>...</td>\n",
       "      <td>0</td>\n",
       "      <td>0</td>\n",
       "      <td>0</td>\n",
       "      <td>0</td>\n",
       "      <td>0</td>\n",
       "      <td>0</td>\n",
       "      <td>133.730769</td>\n",
       "      <td>507.166218</td>\n",
       "      <td>0</td>\n",
       "      <td>2926</td>\n",
       "    </tr>\n",
       "    <tr>\n",
       "      <th>4</th>\n",
       "      <td>2690</td>\n",
       "      <td>10</td>\n",
       "      <td>4</td>\n",
       "      <td>38</td>\n",
       "      <td>108</td>\n",
       "      <td>3589</td>\n",
       "      <td>213</td>\n",
       "      <td>221</td>\n",
       "      <td>229</td>\n",
       "      <td>431</td>\n",
       "      <td>...</td>\n",
       "      <td>0</td>\n",
       "      <td>0</td>\n",
       "      <td>0</td>\n",
       "      <td>0</td>\n",
       "      <td>0</td>\n",
       "      <td>0</td>\n",
       "      <td>144.903846</td>\n",
       "      <td>616.295201</td>\n",
       "      <td>0</td>\n",
       "      <td>3589</td>\n",
       "    </tr>\n",
       "  </tbody>\n",
       "</table>\n",
       "<p>5 rows × 56 columns</p>\n",
       "</div>"
      ],
      "text/plain": [
       "   Elevation  Aspect  Slope  Horizontal_Distance_To_Hydrology  \\\n",
       "0       2763      78     20                               377   \n",
       "1       2826     153     11                               264   \n",
       "2       2948      57     19                                56   \n",
       "3       2926     119      6                               158   \n",
       "4       2690      10      4                                38   \n",
       "\n",
       "   Vertical_Distance_To_Hydrology  Horizontal_Distance_To_Roadways  \\\n",
       "0                              88                             3104   \n",
       "1                              39                              295   \n",
       "2                              44                              852   \n",
       "3                             134                             2136   \n",
       "4                             108                             3589   \n",
       "\n",
       "   Hillshade_9am  Hillshade_Noon  Hillshade_3pm  \\\n",
       "0            218             213            195   \n",
       "1            219             238            148   \n",
       "2            202             217            163   \n",
       "3            234             240            142   \n",
       "4            213             221            229   \n",
       "\n",
       "   Horizontal_Distance_To_Fire_Points  ...  Soil_Type35  Soil_Type36  \\\n",
       "0                                1931  ...            0            0   \n",
       "1                                2557  ...            0            0   \n",
       "2                                1803  ...            0            0   \n",
       "3                                 857  ...            0            0   \n",
       "4                                 431  ...            0            0   \n",
       "\n",
       "   Soil_Type37  Soil_Type38  Soil_Type39  Soil_Type40        mean         std  \\\n",
       "0            0            0            0            0  172.826923  622.011686   \n",
       "1            0            0            0            0  129.826923  523.119329   \n",
       "2            0            0            0            0  122.346154  485.317680   \n",
       "3            0            0            0            0  133.730769  507.166218   \n",
       "4            0            0            0            0  144.903846  616.295201   \n",
       "\n",
       "   min   max  \n",
       "0    0  3104  \n",
       "1    0  2826  \n",
       "2    0  2948  \n",
       "3    0  2926  \n",
       "4    0  3589  \n",
       "\n",
       "[5 rows x 56 columns]"
      ]
     },
     "execution_count": 117,
     "metadata": {},
     "output_type": "execute_result"
    }
   ],
   "source": [
    "test.head()"
   ]
  },
  {
   "cell_type": "markdown",
   "id": "bc50984b",
   "metadata": {},
   "source": [
    "<a id='6'></a>\n",
    "# Assign Feature and Target variables"
   ]
  },
  {
   "cell_type": "code",
   "execution_count": 118,
   "id": "2741bab8",
   "metadata": {
    "ExecuteTime": {
     "end_time": "2022-01-07T20:45:57.428808Z",
     "start_time": "2022-01-07T20:45:33.458883Z"
    }
   },
   "outputs": [],
   "source": [
    "# Scalling the features\n",
    "scaler = StandardScaler()\n",
    "for col in FEATURES:\n",
    "    train[col] = scaler.fit_transform(train[col].to_numpy().reshape(-1,1))\n",
    "    test[col] = scaler.transform(test[col].to_numpy().reshape(-1,1))\n",
    "    \n",
    "X = train[FEATURES].to_numpy().astype(np.float32)\n",
    "y = train['Cover_Type'].to_numpy().astype(np.float32)\n",
    "X_test = test[FEATURES].to_numpy().astype(np.float32)"
   ]
  },
  {
   "cell_type": "code",
   "execution_count": 40,
   "id": "c4846e84",
   "metadata": {
    "ExecuteTime": {
     "end_time": "2022-01-06T19:12:11.320376Z",
     "start_time": "2022-01-06T19:12:11.209744Z"
    }
   },
   "outputs": [
    {
     "data": {
      "text/plain": [
       "array([[ 0.7223998 , -1.014774  , -0.83043885, ...,  2.515001  ,\n",
       "         0.21673077,  2.1103044 ],\n",
       "       [ 0.15847993,  0.27659157, -1.1814506 , ...,  2.8469377 ,\n",
       "         0.21673077,  2.8321002 ],\n",
       "       [ 0.4352504 , -1.2603153 , -0.94744277, ...,  2.6144345 ,\n",
       "         0.21673077,  2.6299973 ],\n",
       "       ...,\n",
       "       [-0.23937763, -0.06898511, -1.6494662 , ...,  1.5593354 ,\n",
       "         0.21673077,  2.0407495 ],\n",
       "       [-1.3845155 ,  0.24021508,  0.2225963 , ..., -0.17540489,\n",
       "         0.21673077, -0.88318014],\n",
       "       [ 0.3556789 , -0.1417381 , -1.2984545 , ..., -0.22040439,\n",
       "         0.21673077, -0.23881324]], dtype=float32)"
      ]
     },
     "execution_count": 40,
     "metadata": {},
     "output_type": "execute_result"
    }
   ],
   "source": [
    "X"
   ]
  },
  {
   "cell_type": "code",
   "execution_count": 41,
   "id": "ef20ea41",
   "metadata": {
    "ExecuteTime": {
     "end_time": "2022-01-06T19:12:11.336335Z",
     "start_time": "2022-01-06T19:12:11.325362Z"
    }
   },
   "outputs": [
    {
     "data": {
      "text/plain": [
       "array([1., 2., 1., ..., 2., 3., 1.], dtype=float32)"
      ]
     },
     "execution_count": 41,
     "metadata": {},
     "output_type": "execute_result"
    }
   ],
   "source": [
    "y"
   ]
  },
  {
   "cell_type": "markdown",
   "id": "66909624",
   "metadata": {},
   "source": [
    "<a id='7'></a>\n",
    "# ANN"
   ]
  },
  {
   "cell_type": "code",
   "execution_count": 42,
   "id": "ed04fa55",
   "metadata": {
    "ExecuteTime": {
     "end_time": "2022-01-06T19:12:11.759734Z",
     "start_time": "2022-01-06T19:12:11.358029Z"
    }
   },
   "outputs": [],
   "source": [
    "LE = LabelEncoder()\n",
    "y = to_categorical(LE.fit_transform(y))"
   ]
  },
  {
   "cell_type": "markdown",
   "id": "ca373305",
   "metadata": {},
   "source": [
    "<a id='7.1'></a>\n",
    "## Build and train ANN"
   ]
  },
  {
   "cell_type": "code",
   "execution_count": 44,
   "id": "83eda6db",
   "metadata": {
    "ExecuteTime": {
     "end_time": "2022-01-07T19:54:29.840101Z",
     "start_time": "2022-01-06T19:12:34.157190Z"
    }
   },
   "outputs": [
    {
     "name": "stdout",
     "output_type": "stream",
     "text": [
      "Epoch 1/1000\n",
      "1954/1954 [==============================] - 324s 166ms/step - loss: 0.1225 - acc: 0.9487 - val_loss: 0.1002 - val_acc: 0.9558 - lr: 0.0010\n",
      "Epoch 2/1000\n",
      "1954/1954 [==============================] - 351s 180ms/step - loss: 0.0949 - acc: 0.9570 - val_loss: 0.0900 - val_acc: 0.9589 - lr: 0.0010\n",
      "Epoch 3/1000\n",
      "1954/1954 [==============================] - 360s 184ms/step - loss: 0.0898 - acc: 0.9587 - val_loss: 0.0869 - val_acc: 0.9596 - lr: 0.0010\n",
      "Epoch 4/1000\n",
      "1954/1954 [==============================] - 370s 189ms/step - loss: 0.0868 - acc: 0.9594 - val_loss: 0.0849 - val_acc: 0.9604 - lr: 0.0010\n",
      "Epoch 5/1000\n",
      "1954/1954 [==============================] - 377s 193ms/step - loss: 0.0847 - acc: 0.9599 - val_loss: 0.0845 - val_acc: 0.9604 - lr: 0.0010\n",
      "Epoch 6/1000\n",
      "1954/1954 [==============================] - 629s 322ms/step - loss: 0.0829 - acc: 0.9606 - val_loss: 0.0808 - val_acc: 0.9615 - lr: 0.0010\n",
      "Epoch 7/1000\n",
      "1954/1954 [==============================] - 639s 327ms/step - loss: 0.0815 - acc: 0.9610 - val_loss: 0.0788 - val_acc: 0.9620 - lr: 0.0010\n",
      "Epoch 8/1000\n",
      "1954/1954 [==============================] - 648s 332ms/step - loss: 0.0803 - acc: 0.9613 - val_loss: 0.0790 - val_acc: 0.9620 - lr: 0.0010\n",
      "Epoch 9/1000\n",
      "1954/1954 [==============================] - 620s 317ms/step - loss: 0.0791 - acc: 0.9616 - val_loss: 0.0777 - val_acc: 0.9624 - lr: 0.0010\n",
      "Epoch 10/1000\n",
      "1954/1954 [==============================] - 341s 174ms/step - loss: 0.0781 - acc: 0.9620 - val_loss: 0.0768 - val_acc: 0.9627 - lr: 0.0010\n",
      "Epoch 11/1000\n",
      "1954/1954 [==============================] - 368s 188ms/step - loss: 0.0771 - acc: 0.9624 - val_loss: 0.0751 - val_acc: 0.9634 - lr: 0.0010\n",
      "Epoch 12/1000\n",
      "1954/1954 [==============================] - 380s 195ms/step - loss: 0.0761 - acc: 0.9628 - val_loss: 0.0729 - val_acc: 0.9642 - lr: 0.0010\n",
      "Epoch 13/1000\n",
      "1954/1954 [==============================] - 392s 201ms/step - loss: 0.0751 - acc: 0.9631 - val_loss: 0.0718 - val_acc: 0.9647 - lr: 0.0010\n",
      "Epoch 14/1000\n",
      "1954/1954 [==============================] - 404s 207ms/step - loss: 0.0741 - acc: 0.9637 - val_loss: 0.0707 - val_acc: 0.9652 - lr: 0.0010\n",
      "Epoch 15/1000\n",
      "1954/1954 [==============================] - 427s 219ms/step - loss: 0.0731 - acc: 0.9641 - val_loss: 0.0696 - val_acc: 0.9660 - lr: 0.0010\n",
      "Epoch 16/1000\n",
      "1954/1954 [==============================] - 414s 212ms/step - loss: 0.0720 - acc: 0.9646 - val_loss: 0.0694 - val_acc: 0.9657 - lr: 0.0010\n",
      "Epoch 17/1000\n",
      "1954/1954 [==============================] - 415s 212ms/step - loss: 0.0711 - acc: 0.9651 - val_loss: 0.0675 - val_acc: 0.9669 - lr: 0.0010\n",
      "Epoch 18/1000\n",
      "1954/1954 [==============================] - 409s 209ms/step - loss: 0.0698 - acc: 0.9656 - val_loss: 0.0661 - val_acc: 0.9677 - lr: 0.0010\n",
      "Epoch 19/1000\n",
      "1954/1954 [==============================] - 419s 214ms/step - loss: 0.0687 - acc: 0.9663 - val_loss: 0.0658 - val_acc: 0.9678 - lr: 0.0010\n",
      "Epoch 20/1000\n",
      "1954/1954 [==============================] - 432s 221ms/step - loss: 0.0676 - acc: 0.9667 - val_loss: 0.0633 - val_acc: 0.9691 - lr: 0.0010\n",
      "Epoch 21/1000\n",
      "1954/1954 [==============================] - 442s 226ms/step - loss: 0.0664 - acc: 0.9674 - val_loss: 0.0626 - val_acc: 0.9695 - lr: 0.0010\n",
      "Epoch 22/1000\n",
      "1954/1954 [==============================] - 439s 224ms/step - loss: 0.0653 - acc: 0.9679 - val_loss: 0.0637 - val_acc: 0.9692 - lr: 0.0010\n",
      "Epoch 23/1000\n",
      "1954/1954 [==============================] - 434s 222ms/step - loss: 0.0641 - acc: 0.9687 - val_loss: 0.0616 - val_acc: 0.9699 - lr: 0.0010\n",
      "Epoch 24/1000\n",
      "1954/1954 [==============================] - 449s 230ms/step - loss: 0.0629 - acc: 0.9691 - val_loss: 0.0594 - val_acc: 0.9712 - lr: 0.0010\n",
      "Epoch 25/1000\n",
      "1954/1954 [==============================] - 416s 213ms/step - loss: 0.0618 - acc: 0.9697 - val_loss: 0.0584 - val_acc: 0.9716 - lr: 0.0010\n",
      "Epoch 26/1000\n",
      "1954/1954 [==============================] - 420s 215ms/step - loss: 0.0607 - acc: 0.9703 - val_loss: 0.0586 - val_acc: 0.9717 - lr: 0.0010\n",
      "Epoch 27/1000\n",
      "1954/1954 [==============================] - 420s 215ms/step - loss: 0.0595 - acc: 0.9710 - val_loss: 0.0554 - val_acc: 0.9731 - lr: 0.0010\n",
      "Epoch 28/1000\n",
      "1954/1954 [==============================] - 422s 216ms/step - loss: 0.0585 - acc: 0.9715 - val_loss: 0.0553 - val_acc: 0.9732 - lr: 0.0010\n",
      "Epoch 29/1000\n",
      "1954/1954 [==============================] - 432s 221ms/step - loss: 0.0575 - acc: 0.9720 - val_loss: 0.0532 - val_acc: 0.9740 - lr: 0.0010\n",
      "Epoch 30/1000\n",
      "1954/1954 [==============================] - 456s 234ms/step - loss: 0.0566 - acc: 0.9724 - val_loss: 0.0542 - val_acc: 0.9738 - lr: 0.0010\n",
      "Epoch 31/1000\n",
      "1954/1954 [==============================] - 408s 209ms/step - loss: 0.0556 - acc: 0.9730 - val_loss: 0.0526 - val_acc: 0.9748 - lr: 0.0010\n",
      "Epoch 32/1000\n",
      "1954/1954 [==============================] - 399s 204ms/step - loss: 0.0547 - acc: 0.9734 - val_loss: 0.0510 - val_acc: 0.9753 - lr: 0.0010\n",
      "Epoch 33/1000\n",
      "1954/1954 [==============================] - 430s 220ms/step - loss: 0.0538 - acc: 0.9739 - val_loss: 0.0508 - val_acc: 0.9754 - lr: 0.0010\n",
      "Epoch 34/1000\n",
      "1954/1954 [==============================] - 430s 220ms/step - loss: 0.0529 - acc: 0.9744 - val_loss: 0.0497 - val_acc: 0.9760 - lr: 0.0010\n",
      "Epoch 35/1000\n",
      "1954/1954 [==============================] - 420s 215ms/step - loss: 0.0521 - acc: 0.9748 - val_loss: 0.0492 - val_acc: 0.9764 - lr: 0.0010\n",
      "Epoch 36/1000\n",
      "1954/1954 [==============================] - 402s 206ms/step - loss: 0.0512 - acc: 0.9753 - val_loss: 0.0475 - val_acc: 0.9771 - lr: 0.0010\n",
      "Epoch 37/1000\n",
      "1954/1954 [==============================] - 409s 209ms/step - loss: 0.0505 - acc: 0.9757 - val_loss: 0.0470 - val_acc: 0.9773 - lr: 0.0010\n",
      "Epoch 38/1000\n",
      "1954/1954 [==============================] - 411s 210ms/step - loss: 0.0497 - acc: 0.9761 - val_loss: 0.0462 - val_acc: 0.9778 - lr: 0.0010\n",
      "Epoch 39/1000\n",
      "1954/1954 [==============================] - 406s 208ms/step - loss: 0.0489 - acc: 0.9765 - val_loss: 0.0451 - val_acc: 0.9783 - lr: 0.0010\n",
      "Epoch 40/1000\n",
      "1954/1954 [==============================] - 392s 200ms/step - loss: 0.0481 - acc: 0.9768 - val_loss: 0.0453 - val_acc: 0.9782 - lr: 0.0010\n",
      "Epoch 41/1000\n",
      "1954/1954 [==============================] - 399s 204ms/step - loss: 0.0477 - acc: 0.9770 - val_loss: 0.0456 - val_acc: 0.9782 - lr: 0.0010\n",
      "Epoch 42/1000\n",
      "1954/1954 [==============================] - 428s 219ms/step - loss: 0.0468 - acc: 0.9775 - val_loss: 0.0444 - val_acc: 0.9787 - lr: 0.0010\n",
      "Epoch 43/1000\n",
      "1954/1954 [==============================] - 425s 218ms/step - loss: 0.0464 - acc: 0.9778 - val_loss: 0.0433 - val_acc: 0.9792 - lr: 0.0010\n",
      "Epoch 44/1000\n",
      "1954/1954 [==============================] - 425s 217ms/step - loss: 0.0454 - acc: 0.9781 - val_loss: 0.0427 - val_acc: 0.9797 - lr: 0.0010\n",
      "Epoch 45/1000\n",
      "1954/1954 [==============================] - 424s 217ms/step - loss: 0.0450 - acc: 0.9784 - val_loss: 0.0424 - val_acc: 0.9798 - lr: 0.0010\n",
      "Epoch 46/1000\n",
      "1954/1954 [==============================] - 429s 220ms/step - loss: 0.0445 - acc: 0.9786 - val_loss: 0.0412 - val_acc: 0.9803 - lr: 0.0010\n",
      "Epoch 47/1000\n",
      "1954/1954 [==============================] - 423s 217ms/step - loss: 0.0438 - acc: 0.9790 - val_loss: 0.0421 - val_acc: 0.9801 - lr: 0.0010\n",
      "Epoch 48/1000\n",
      "1954/1954 [==============================] - 426s 218ms/step - loss: 0.0434 - acc: 0.9792 - val_loss: 0.0399 - val_acc: 0.9809 - lr: 0.0010\n",
      "Epoch 49/1000\n",
      "1954/1954 [==============================] - 426s 218ms/step - loss: 0.0427 - acc: 0.9795 - val_loss: 0.0393 - val_acc: 0.9810 - lr: 0.0010\n",
      "Epoch 50/1000\n",
      "1954/1954 [==============================] - 431s 221ms/step - loss: 0.0424 - acc: 0.9797 - val_loss: 0.0396 - val_acc: 0.9812 - lr: 0.0010\n",
      "Epoch 51/1000\n",
      "1954/1954 [==============================] - 409s 209ms/step - loss: 0.0417 - acc: 0.9801 - val_loss: 0.0386 - val_acc: 0.9816 - lr: 0.0010\n",
      "Epoch 52/1000\n",
      "1954/1954 [==============================] - 409s 209ms/step - loss: 0.0414 - acc: 0.9802 - val_loss: 0.0386 - val_acc: 0.9816 - lr: 0.0010\n",
      "Epoch 53/1000\n",
      "1954/1954 [==============================] - 409s 209ms/step - loss: 0.0410 - acc: 0.9805 - val_loss: 0.0378 - val_acc: 0.9820 - lr: 0.0010\n",
      "Epoch 54/1000\n",
      "1954/1954 [==============================] - 400s 205ms/step - loss: 0.0404 - acc: 0.9807 - val_loss: 0.0376 - val_acc: 0.9820 - lr: 0.0010\n",
      "Epoch 55/1000\n",
      "1954/1954 [==============================] - 399s 204ms/step - loss: 0.0400 - acc: 0.9809 - val_loss: 0.0371 - val_acc: 0.9824 - lr: 0.0010\n",
      "Epoch 56/1000\n",
      "1954/1954 [==============================] - 399s 204ms/step - loss: 0.0396 - acc: 0.9811 - val_loss: 0.0361 - val_acc: 0.9827 - lr: 0.0010\n",
      "Epoch 57/1000\n",
      "1954/1954 [==============================] - 401s 205ms/step - loss: 0.0393 - acc: 0.9813 - val_loss: 0.0356 - val_acc: 0.9830 - lr: 0.0010\n",
      "Epoch 58/1000\n",
      "1954/1954 [==============================] - 401s 205ms/step - loss: 0.0386 - acc: 0.9816 - val_loss: 0.0362 - val_acc: 0.9828 - lr: 0.0010\n",
      "Epoch 59/1000\n",
      "1954/1954 [==============================] - 409s 209ms/step - loss: 0.0382 - acc: 0.9818 - val_loss: 0.0354 - val_acc: 0.9831 - lr: 0.0010\n",
      "Epoch 60/1000\n",
      "1954/1954 [==============================] - 402s 206ms/step - loss: 0.0381 - acc: 0.9819 - val_loss: 0.0359 - val_acc: 0.9830 - lr: 0.0010\n",
      "Epoch 61/1000\n",
      "1954/1954 [==============================] - 399s 204ms/step - loss: 0.0375 - acc: 0.9821 - val_loss: 0.0344 - val_acc: 0.9837 - lr: 0.0010\n",
      "Epoch 62/1000\n",
      "1954/1954 [==============================] - 399s 204ms/step - loss: 0.0373 - acc: 0.9823 - val_loss: 0.0344 - val_acc: 0.9837 - lr: 0.0010\n",
      "Epoch 63/1000\n",
      "1954/1954 [==============================] - 394s 201ms/step - loss: 0.0369 - acc: 0.9825 - val_loss: 0.0342 - val_acc: 0.9837 - lr: 0.0010\n",
      "Epoch 64/1000\n",
      "1954/1954 [==============================] - 400s 205ms/step - loss: 0.0367 - acc: 0.9826 - val_loss: 0.0336 - val_acc: 0.9840 - lr: 0.0010\n",
      "Epoch 65/1000\n",
      "1954/1954 [==============================] - 395s 202ms/step - loss: 0.0364 - acc: 0.9828 - val_loss: 0.0339 - val_acc: 0.9840 - lr: 0.0010\n",
      "Epoch 66/1000\n",
      "1954/1954 [==============================] - 398s 204ms/step - loss: 0.0362 - acc: 0.9828 - val_loss: 0.0349 - val_acc: 0.9838 - lr: 0.0010\n",
      "Epoch 67/1000\n",
      "1954/1954 [==============================] - 396s 203ms/step - loss: 0.0354 - acc: 0.9832 - val_loss: 0.0330 - val_acc: 0.9844 - lr: 0.0010\n",
      "Epoch 68/1000\n",
      "1954/1954 [==============================] - 395s 202ms/step - loss: 0.0353 - acc: 0.9834 - val_loss: 0.0328 - val_acc: 0.9848 - lr: 0.0010\n",
      "Epoch 69/1000\n",
      "1954/1954 [==============================] - 398s 204ms/step - loss: 0.0352 - acc: 0.9834 - val_loss: 0.0322 - val_acc: 0.9848 - lr: 0.0010\n",
      "Epoch 70/1000\n",
      "1954/1954 [==============================] - 395s 202ms/step - loss: 0.0350 - acc: 0.9835 - val_loss: 0.0328 - val_acc: 0.9845 - lr: 0.0010\n",
      "Epoch 71/1000\n",
      "1954/1954 [==============================] - 395s 202ms/step - loss: 0.0346 - acc: 0.9836 - val_loss: 0.0323 - val_acc: 0.9847 - lr: 0.0010\n",
      "Epoch 72/1000\n",
      "1954/1954 [==============================] - 397s 203ms/step - loss: 0.0344 - acc: 0.9838 - val_loss: 0.0307 - val_acc: 0.9855 - lr: 0.0010\n",
      "Epoch 73/1000\n",
      "1954/1954 [==============================] - 395s 202ms/step - loss: 0.0341 - acc: 0.9840 - val_loss: 0.0314 - val_acc: 0.9853 - lr: 0.0010\n",
      "Epoch 74/1000\n",
      "1954/1954 [==============================] - 395s 202ms/step - loss: 0.0336 - acc: 0.9842 - val_loss: 0.0321 - val_acc: 0.9850 - lr: 0.0010\n",
      "Epoch 75/1000\n",
      "1954/1954 [==============================] - 395s 202ms/step - loss: 0.0336 - acc: 0.9841 - val_loss: 0.0308 - val_acc: 0.9855 - lr: 0.0010\n",
      "Epoch 76/1000\n",
      "1954/1954 [==============================] - 396s 203ms/step - loss: 0.0333 - acc: 0.9844 - val_loss: 0.0316 - val_acc: 0.9851 - lr: 0.0010\n",
      "Epoch 77/1000\n",
      "1954/1954 [==============================] - 397s 203ms/step - loss: 0.0246 - acc: 0.9882 - val_loss: 0.0216 - val_acc: 0.9896 - lr: 2.0000e-04\n",
      "Epoch 78/1000\n",
      "1954/1954 [==============================] - 399s 204ms/step - loss: 0.0219 - acc: 0.9893 - val_loss: 0.0205 - val_acc: 0.9900 - lr: 2.0000e-04\n",
      "Epoch 79/1000\n",
      "1954/1954 [==============================] - 393s 201ms/step - loss: 0.0211 - acc: 0.9897 - val_loss: 0.0196 - val_acc: 0.9905 - lr: 2.0000e-04\n",
      "Epoch 80/1000\n",
      "1954/1954 [==============================] - 398s 203ms/step - loss: 0.0204 - acc: 0.9899 - val_loss: 0.0190 - val_acc: 0.9907 - lr: 2.0000e-04\n",
      "Epoch 81/1000\n",
      "1954/1954 [==============================] - 393s 201ms/step - loss: 0.0198 - acc: 0.9902 - val_loss: 0.0186 - val_acc: 0.9909 - lr: 2.0000e-04\n",
      "Epoch 82/1000\n",
      "1954/1954 [==============================] - 398s 204ms/step - loss: 0.0193 - acc: 0.9905 - val_loss: 0.0182 - val_acc: 0.9911 - lr: 2.0000e-04\n",
      "Epoch 83/1000\n",
      "1954/1954 [==============================] - 395s 202ms/step - loss: 0.0189 - acc: 0.9907 - val_loss: 0.0176 - val_acc: 0.9913 - lr: 2.0000e-04\n",
      "Epoch 84/1000\n",
      "1954/1954 [==============================] - 396s 203ms/step - loss: 0.0185 - acc: 0.9908 - val_loss: 0.0173 - val_acc: 0.9915 - lr: 2.0000e-04\n",
      "Epoch 85/1000\n",
      "1954/1954 [==============================] - 396s 203ms/step - loss: 0.0182 - acc: 0.9910 - val_loss: 0.0171 - val_acc: 0.9916 - lr: 2.0000e-04\n",
      "Epoch 86/1000\n",
      "1954/1954 [==============================] - 396s 203ms/step - loss: 0.0178 - acc: 0.9912 - val_loss: 0.0167 - val_acc: 0.9918 - lr: 2.0000e-04\n",
      "Epoch 87/1000\n",
      "1954/1954 [==============================] - 395s 202ms/step - loss: 0.0175 - acc: 0.9913 - val_loss: 0.0164 - val_acc: 0.9919 - lr: 2.0000e-04\n",
      "Epoch 88/1000\n",
      "1954/1954 [==============================] - 393s 201ms/step - loss: 0.0172 - acc: 0.9915 - val_loss: 0.0162 - val_acc: 0.9919 - lr: 2.0000e-04\n",
      "Epoch 89/1000\n",
      "1954/1954 [==============================] - 399s 204ms/step - loss: 0.0169 - acc: 0.9916 - val_loss: 0.0160 - val_acc: 0.9921 - lr: 2.0000e-04\n",
      "Epoch 90/1000\n",
      "1954/1954 [==============================] - 395s 202ms/step - loss: 0.0167 - acc: 0.9917 - val_loss: 0.0158 - val_acc: 0.9923 - lr: 2.0000e-04\n",
      "Epoch 91/1000\n",
      "1954/1954 [==============================] - 395s 202ms/step - loss: 0.0165 - acc: 0.9918 - val_loss: 0.0154 - val_acc: 0.9924 - lr: 2.0000e-04\n",
      "Epoch 92/1000\n",
      "1954/1954 [==============================] - 392s 201ms/step - loss: 0.0162 - acc: 0.9920 - val_loss: 0.0152 - val_acc: 0.9925 - lr: 2.0000e-04\n",
      "Epoch 93/1000\n",
      "1954/1954 [==============================] - 393s 201ms/step - loss: 0.0160 - acc: 0.9921 - val_loss: 0.0151 - val_acc: 0.9926 - lr: 2.0000e-04\n",
      "Epoch 94/1000\n",
      "1954/1954 [==============================] - 396s 203ms/step - loss: 0.0158 - acc: 0.9922 - val_loss: 0.0150 - val_acc: 0.9926 - lr: 2.0000e-04\n",
      "Epoch 95/1000\n",
      "1954/1954 [==============================] - 395s 202ms/step - loss: 0.0156 - acc: 0.9923 - val_loss: 0.0148 - val_acc: 0.9927 - lr: 2.0000e-04\n",
      "Epoch 96/1000\n",
      "1954/1954 [==============================] - 397s 203ms/step - loss: 0.0154 - acc: 0.9924 - val_loss: 0.0147 - val_acc: 0.9929 - lr: 2.0000e-04\n",
      "Epoch 97/1000\n",
      "1954/1954 [==============================] - 396s 202ms/step - loss: 0.0152 - acc: 0.9924 - val_loss: 0.0144 - val_acc: 0.9929 - lr: 2.0000e-04\n",
      "Epoch 98/1000\n",
      "1954/1954 [==============================] - 394s 202ms/step - loss: 0.0151 - acc: 0.9926 - val_loss: 0.0144 - val_acc: 0.9929 - lr: 2.0000e-04\n",
      "Epoch 99/1000\n",
      "1954/1954 [==============================] - 395s 202ms/step - loss: 0.0148 - acc: 0.9927 - val_loss: 0.0140 - val_acc: 0.9931 - lr: 2.0000e-04\n",
      "Epoch 100/1000\n",
      "1954/1954 [==============================] - 396s 203ms/step - loss: 0.0148 - acc: 0.9927 - val_loss: 0.0139 - val_acc: 0.9932 - lr: 2.0000e-04\n",
      "Epoch 101/1000\n",
      "1954/1954 [==============================] - 400s 205ms/step - loss: 0.0147 - acc: 0.9928 - val_loss: 0.0139 - val_acc: 0.9932 - lr: 2.0000e-04\n",
      "Epoch 102/1000\n",
      "1954/1954 [==============================] - 397s 203ms/step - loss: 0.0144 - acc: 0.9929 - val_loss: 0.0135 - val_acc: 0.9934 - lr: 2.0000e-04\n",
      "Epoch 103/1000\n",
      "1954/1954 [==============================] - 400s 205ms/step - loss: 0.0142 - acc: 0.9930 - val_loss: 0.0135 - val_acc: 0.9934 - lr: 2.0000e-04\n",
      "Epoch 104/1000\n",
      "1954/1954 [==============================] - 397s 203ms/step - loss: 0.0142 - acc: 0.9930 - val_loss: 0.0136 - val_acc: 0.9934 - lr: 2.0000e-04\n",
      "Epoch 105/1000\n",
      "1954/1954 [==============================] - 400s 205ms/step - loss: 0.0141 - acc: 0.9931 - val_loss: 0.0134 - val_acc: 0.9935 - lr: 2.0000e-04\n",
      "Epoch 106/1000\n"
     ]
    },
    {
     "name": "stdout",
     "output_type": "stream",
     "text": [
      "1954/1954 [==============================] - 392s 201ms/step - loss: 0.0138 - acc: 0.9932 - val_loss: 0.0132 - val_acc: 0.9935 - lr: 2.0000e-04\n",
      "Epoch 107/1000\n",
      "1954/1954 [==============================] - 392s 201ms/step - loss: 0.0138 - acc: 0.9932 - val_loss: 0.0132 - val_acc: 0.9935 - lr: 2.0000e-04\n",
      "Epoch 108/1000\n",
      "1954/1954 [==============================] - 391s 200ms/step - loss: 0.0137 - acc: 0.9932 - val_loss: 0.0129 - val_acc: 0.9937 - lr: 2.0000e-04\n",
      "Epoch 109/1000\n",
      "1954/1954 [==============================] - 394s 202ms/step - loss: 0.0136 - acc: 0.9933 - val_loss: 0.0129 - val_acc: 0.9937 - lr: 2.0000e-04\n",
      "Epoch 110/1000\n",
      "1954/1954 [==============================] - 395s 202ms/step - loss: 0.0134 - acc: 0.9934 - val_loss: 0.0129 - val_acc: 0.9937 - lr: 2.0000e-04\n",
      "Epoch 111/1000\n",
      "1954/1954 [==============================] - 391s 200ms/step - loss: 0.0133 - acc: 0.9934 - val_loss: 0.0127 - val_acc: 0.9938 - lr: 2.0000e-04\n",
      "Epoch 112/1000\n",
      "1954/1954 [==============================] - 393s 201ms/step - loss: 0.0133 - acc: 0.9935 - val_loss: 0.0126 - val_acc: 0.9938 - lr: 2.0000e-04\n",
      "Epoch 113/1000\n",
      "1954/1954 [==============================] - 395s 202ms/step - loss: 0.0131 - acc: 0.9936 - val_loss: 0.0126 - val_acc: 0.9939 - lr: 2.0000e-04\n",
      "Epoch 114/1000\n",
      "1954/1954 [==============================] - 395s 202ms/step - loss: 0.0130 - acc: 0.9936 - val_loss: 0.0124 - val_acc: 0.9939 - lr: 2.0000e-04\n",
      "Epoch 115/1000\n",
      "1954/1954 [==============================] - 396s 203ms/step - loss: 0.0130 - acc: 0.9936 - val_loss: 0.0124 - val_acc: 0.9940 - lr: 2.0000e-04\n",
      "Epoch 116/1000\n",
      "1954/1954 [==============================] - 395s 202ms/step - loss: 0.0128 - acc: 0.9937 - val_loss: 0.0121 - val_acc: 0.9940 - lr: 2.0000e-04\n",
      "Epoch 117/1000\n",
      "1954/1954 [==============================] - 394s 202ms/step - loss: 0.0127 - acc: 0.9938 - val_loss: 0.0121 - val_acc: 0.9941 - lr: 2.0000e-04\n",
      "Epoch 118/1000\n",
      "1954/1954 [==============================] - 393s 201ms/step - loss: 0.0127 - acc: 0.9938 - val_loss: 0.0121 - val_acc: 0.9940 - lr: 2.0000e-04\n",
      "Epoch 119/1000\n",
      "1954/1954 [==============================] - 397s 203ms/step - loss: 0.0127 - acc: 0.9937 - val_loss: 0.0120 - val_acc: 0.9941 - lr: 2.0000e-04\n",
      "Epoch 120/1000\n",
      "1954/1954 [==============================] - 399s 204ms/step - loss: 0.0125 - acc: 0.9939 - val_loss: 0.0119 - val_acc: 0.9941 - lr: 2.0000e-04\n",
      "Epoch 121/1000\n",
      "1954/1954 [==============================] - 398s 203ms/step - loss: 0.0125 - acc: 0.9939 - val_loss: 0.0116 - val_acc: 0.9944 - lr: 2.0000e-04\n",
      "Epoch 122/1000\n",
      "1954/1954 [==============================] - 399s 204ms/step - loss: 0.0122 - acc: 0.9940 - val_loss: 0.0117 - val_acc: 0.9943 - lr: 2.0000e-04\n",
      "Epoch 123/1000\n",
      "1954/1954 [==============================] - 403s 206ms/step - loss: 0.0124 - acc: 0.9939 - val_loss: 0.0116 - val_acc: 0.9944 - lr: 2.0000e-04\n",
      "Epoch 124/1000\n",
      "1954/1954 [==============================] - 398s 204ms/step - loss: 0.0121 - acc: 0.9940 - val_loss: 0.0116 - val_acc: 0.9943 - lr: 2.0000e-04\n",
      "Epoch 125/1000\n",
      "1954/1954 [==============================] - 402s 206ms/step - loss: 0.0121 - acc: 0.9940 - val_loss: 0.0114 - val_acc: 0.9945 - lr: 2.0000e-04\n",
      "Epoch 126/1000\n",
      "1954/1954 [==============================] - 400s 205ms/step - loss: 0.0120 - acc: 0.9940 - val_loss: 0.0116 - val_acc: 0.9943 - lr: 2.0000e-04\n",
      "Epoch 127/1000\n",
      "1954/1954 [==============================] - 398s 204ms/step - loss: 0.0121 - acc: 0.9941 - val_loss: 0.0113 - val_acc: 0.9944 - lr: 2.0000e-04\n",
      "Epoch 128/1000\n",
      "1954/1954 [==============================] - 399s 204ms/step - loss: 0.0120 - acc: 0.9942 - val_loss: 0.0115 - val_acc: 0.9943 - lr: 2.0000e-04\n",
      "Epoch 129/1000\n",
      "1954/1954 [==============================] - 399s 204ms/step - loss: 0.0118 - acc: 0.9942 - val_loss: 0.0112 - val_acc: 0.9945 - lr: 2.0000e-04\n",
      "Epoch 130/1000\n",
      "1954/1954 [==============================] - 403s 206ms/step - loss: 0.0118 - acc: 0.9942 - val_loss: 0.0114 - val_acc: 0.9944 - lr: 2.0000e-04\n",
      "Epoch 131/1000\n",
      "1954/1954 [==============================] - 399s 204ms/step - loss: 0.0117 - acc: 0.9942 - val_loss: 0.0111 - val_acc: 0.9946 - lr: 2.0000e-04\n",
      "Epoch 132/1000\n",
      "1954/1954 [==============================] - 405s 207ms/step - loss: 0.0116 - acc: 0.9943 - val_loss: 0.0111 - val_acc: 0.9946 - lr: 2.0000e-04\n",
      "Epoch 133/1000\n",
      "1954/1954 [==============================] - 403s 206ms/step - loss: 0.0116 - acc: 0.9943 - val_loss: 0.0111 - val_acc: 0.9945 - lr: 2.0000e-04\n",
      "Epoch 134/1000\n",
      "1954/1954 [==============================] - 404s 207ms/step - loss: 0.0116 - acc: 0.9943 - val_loss: 0.0109 - val_acc: 0.9947 - lr: 2.0000e-04\n",
      "Epoch 135/1000\n",
      "1954/1954 [==============================] - 405s 208ms/step - loss: 0.0115 - acc: 0.9943 - val_loss: 0.0112 - val_acc: 0.9946 - lr: 2.0000e-04\n",
      "Epoch 136/1000\n",
      "1954/1954 [==============================] - 406s 208ms/step - loss: 0.0114 - acc: 0.9944 - val_loss: 0.0109 - val_acc: 0.9947 - lr: 2.0000e-04\n",
      "Epoch 137/1000\n",
      "1954/1954 [==============================] - 409s 209ms/step - loss: 0.0114 - acc: 0.9944 - val_loss: 0.0108 - val_acc: 0.9947 - lr: 2.0000e-04\n",
      "Epoch 138/1000\n",
      "1954/1954 [==============================] - 409s 209ms/step - loss: 0.0113 - acc: 0.9944 - val_loss: 0.0108 - val_acc: 0.9947 - lr: 2.0000e-04\n",
      "Epoch 139/1000\n",
      "1954/1954 [==============================] - 406s 208ms/step - loss: 0.0113 - acc: 0.9944 - val_loss: 0.0108 - val_acc: 0.9948 - lr: 2.0000e-04\n",
      "Epoch 140/1000\n",
      "1954/1954 [==============================] - 408s 209ms/step - loss: 0.0113 - acc: 0.9945 - val_loss: 0.0107 - val_acc: 0.9948 - lr: 2.0000e-04\n",
      "Epoch 141/1000\n",
      "1954/1954 [==============================] - 428s 219ms/step - loss: 0.0111 - acc: 0.9945 - val_loss: 0.0106 - val_acc: 0.9949 - lr: 2.0000e-04\n",
      "Epoch 142/1000\n",
      "1954/1954 [==============================] - 415s 212ms/step - loss: 0.0109 - acc: 0.9946 - val_loss: 0.0109 - val_acc: 0.9947 - lr: 2.0000e-04\n",
      "Epoch 143/1000\n",
      "1954/1954 [==============================] - 415s 212ms/step - loss: 0.0110 - acc: 0.9946 - val_loss: 0.0105 - val_acc: 0.9949 - lr: 2.0000e-04\n",
      "Epoch 144/1000\n",
      "1954/1954 [==============================] - 400s 205ms/step - loss: 0.0111 - acc: 0.9946 - val_loss: 0.0106 - val_acc: 0.9949 - lr: 2.0000e-04\n",
      "Epoch 145/1000\n",
      "1954/1954 [==============================] - 400s 204ms/step - loss: 0.0110 - acc: 0.9946 - val_loss: 0.0103 - val_acc: 0.9950 - lr: 2.0000e-04\n",
      "Epoch 146/1000\n",
      "1954/1954 [==============================] - 394s 202ms/step - loss: 0.0109 - acc: 0.9947 - val_loss: 0.0105 - val_acc: 0.9949 - lr: 2.0000e-04\n",
      "Epoch 147/1000\n",
      "1954/1954 [==============================] - 397s 203ms/step - loss: 0.0109 - acc: 0.9946 - val_loss: 0.0101 - val_acc: 0.9951 - lr: 2.0000e-04\n",
      "Epoch 148/1000\n",
      "1954/1954 [==============================] - 395s 202ms/step - loss: 0.0108 - acc: 0.9947 - val_loss: 0.0104 - val_acc: 0.9950 - lr: 2.0000e-04\n",
      "Epoch 149/1000\n",
      "1954/1954 [==============================] - 401s 205ms/step - loss: 0.0108 - acc: 0.9947 - val_loss: 0.0103 - val_acc: 0.9950 - lr: 2.0000e-04\n",
      "Epoch 150/1000\n",
      "1954/1954 [==============================] - 395s 202ms/step - loss: 0.0108 - acc: 0.9947 - val_loss: 0.0104 - val_acc: 0.9949 - lr: 2.0000e-04\n",
      "Epoch 151/1000\n",
      "1954/1954 [==============================] - 395s 202ms/step - loss: 0.0106 - acc: 0.9948 - val_loss: 0.0100 - val_acc: 0.9951 - lr: 2.0000e-04\n",
      "Epoch 152/1000\n",
      "1954/1954 [==============================] - 406s 208ms/step - loss: 0.0106 - acc: 0.9948 - val_loss: 0.0103 - val_acc: 0.9949 - lr: 2.0000e-04\n",
      "Epoch 153/1000\n",
      "1954/1954 [==============================] - 414s 212ms/step - loss: 0.0106 - acc: 0.9948 - val_loss: 0.0102 - val_acc: 0.9951 - lr: 2.0000e-04\n",
      "Epoch 154/1000\n",
      "1954/1954 [==============================] - 511s 262ms/step - loss: 0.0106 - acc: 0.9948 - val_loss: 0.0100 - val_acc: 0.9952 - lr: 2.0000e-04\n",
      "Epoch 155/1000\n",
      "1954/1954 [==============================] - 576s 295ms/step - loss: 0.0105 - acc: 0.9949 - val_loss: 0.0100 - val_acc: 0.9951 - lr: 2.0000e-04\n",
      "Epoch 156/1000\n",
      "1954/1954 [==============================] - 573s 293ms/step - loss: 0.0093 - acc: 0.9954 - val_loss: 0.0088 - val_acc: 0.9957 - lr: 4.0000e-05\n",
      "Epoch 157/1000\n",
      "1954/1954 [==============================] - 577s 295ms/step - loss: 0.0090 - acc: 0.9956 - val_loss: 0.0088 - val_acc: 0.9957 - lr: 4.0000e-05\n"
     ]
    },
    {
     "name": "stdout",
     "output_type": "stream",
     "text": [
      "Epoch 158/1000\n",
      "1954/1954 [==============================] - 574s 294ms/step - loss: 0.0089 - acc: 0.9956 - val_loss: 0.0087 - val_acc: 0.9958 - lr: 4.0000e-05\n",
      "Epoch 159/1000\n",
      "1954/1954 [==============================] - 583s 298ms/step - loss: 0.0089 - acc: 0.9956 - val_loss: 0.0086 - val_acc: 0.9958 - lr: 4.0000e-05\n",
      "Epoch 160/1000\n",
      "1954/1954 [==============================] - 333s 170ms/step - loss: 0.0088 - acc: 0.9956 - val_loss: 0.0086 - val_acc: 0.9958 - lr: 4.0000e-05\n",
      "Epoch 161/1000\n",
      "1954/1954 [==============================] - 356s 182ms/step - loss: 0.0088 - acc: 0.9957 - val_loss: 0.0085 - val_acc: 0.9958 - lr: 4.0000e-05\n",
      "Epoch 162/1000\n",
      "1954/1954 [==============================] - 379s 194ms/step - loss: 0.0087 - acc: 0.9957 - val_loss: 0.0085 - val_acc: 0.9959 - lr: 4.0000e-05\n",
      "Epoch 163/1000\n",
      "1954/1954 [==============================] - 391s 200ms/step - loss: 0.0087 - acc: 0.9957 - val_loss: 0.0084 - val_acc: 0.9959 - lr: 4.0000e-05\n",
      "Epoch 164/1000\n",
      "1954/1954 [==============================] - 420s 215ms/step - loss: 0.0086 - acc: 0.9958 - val_loss: 0.0084 - val_acc: 0.9959 - lr: 4.0000e-05\n",
      "Epoch 165/1000\n",
      "1954/1954 [==============================] - 440s 225ms/step - loss: 0.0086 - acc: 0.9958 - val_loss: 0.0083 - val_acc: 0.9960 - lr: 4.0000e-05\n",
      "Epoch 166/1000\n",
      "1954/1954 [==============================] - 392s 200ms/step - loss: 0.0085 - acc: 0.9958 - val_loss: 0.0083 - val_acc: 0.9959 - lr: 4.0000e-05\n",
      "Epoch 167/1000\n",
      "1954/1954 [==============================] - 383s 196ms/step - loss: 0.0085 - acc: 0.9958 - val_loss: 0.0083 - val_acc: 0.9960 - lr: 4.0000e-05\n",
      "Epoch 168/1000\n",
      "1954/1954 [==============================] - 396s 203ms/step - loss: 0.0085 - acc: 0.9958 - val_loss: 0.0083 - val_acc: 0.9960 - lr: 4.0000e-05\n",
      "Epoch 169/1000\n",
      "1954/1954 [==============================] - 388s 198ms/step - loss: 0.0084 - acc: 0.9959 - val_loss: 0.0082 - val_acc: 0.9960 - lr: 4.0000e-05\n",
      "Epoch 170/1000\n",
      "1954/1954 [==============================] - 397s 203ms/step - loss: 0.0084 - acc: 0.9959 - val_loss: 0.0082 - val_acc: 0.9960 - lr: 4.0000e-05\n",
      "Epoch 171/1000\n",
      "1954/1954 [==============================] - 400s 205ms/step - loss: 0.0083 - acc: 0.9959 - val_loss: 0.0081 - val_acc: 0.9960 - lr: 4.0000e-05\n",
      "Epoch 172/1000\n",
      "1954/1954 [==============================] - 391s 200ms/step - loss: 0.0083 - acc: 0.9959 - val_loss: 0.0081 - val_acc: 0.9960 - lr: 4.0000e-05\n",
      "Epoch 173/1000\n",
      "1954/1954 [==============================] - 403s 206ms/step - loss: 0.0083 - acc: 0.9959 - val_loss: 0.0081 - val_acc: 0.9961 - lr: 4.0000e-05\n",
      "Epoch 174/1000\n",
      "1954/1954 [==============================] - 390s 200ms/step - loss: 0.0082 - acc: 0.9960 - val_loss: 0.0081 - val_acc: 0.9961 - lr: 4.0000e-05\n",
      "Epoch 175/1000\n",
      "1954/1954 [==============================] - 392s 200ms/step - loss: 0.0082 - acc: 0.9959 - val_loss: 0.0080 - val_acc: 0.9961 - lr: 4.0000e-05\n",
      "Epoch 176/1000\n",
      "1954/1954 [==============================] - 397s 203ms/step - loss: 0.0082 - acc: 0.9960 - val_loss: 0.0080 - val_acc: 0.9961 - lr: 4.0000e-05\n",
      "Epoch 177/1000\n",
      "1954/1954 [==============================] - 391s 200ms/step - loss: 0.0081 - acc: 0.9960 - val_loss: 0.0079 - val_acc: 0.9962 - lr: 4.0000e-05\n",
      "Epoch 178/1000\n",
      "1954/1954 [==============================] - 429s 219ms/step - loss: 0.0081 - acc: 0.9960 - val_loss: 0.0079 - val_acc: 0.9962 - lr: 4.0000e-05\n",
      "Epoch 179/1000\n",
      "1954/1954 [==============================] - 408s 209ms/step - loss: 0.0081 - acc: 0.9960 - val_loss: 0.0079 - val_acc: 0.9962 - lr: 4.0000e-05\n",
      "Epoch 180/1000\n",
      "1954/1954 [==============================] - 481s 246ms/step - loss: 0.0080 - acc: 0.9961 - val_loss: 0.0078 - val_acc: 0.9962 - lr: 4.0000e-05\n",
      "Epoch 181/1000\n",
      "1954/1954 [==============================] - 573s 293ms/step - loss: 0.0080 - acc: 0.9961 - val_loss: 0.0079 - val_acc: 0.9962 - lr: 4.0000e-05\n",
      "Epoch 182/1000\n",
      "1954/1954 [==============================] - 346s 177ms/step - loss: 0.0078 - acc: 0.9962 - val_loss: 0.0077 - val_acc: 0.9963 - lr: 8.0000e-06\n",
      "Epoch 183/1000\n",
      "1954/1954 [==============================] - 385s 197ms/step - loss: 0.0078 - acc: 0.9962 - val_loss: 0.0077 - val_acc: 0.9963 - lr: 8.0000e-06\n",
      "Epoch 184/1000\n",
      "1954/1954 [==============================] - 395s 202ms/step - loss: 0.0078 - acc: 0.9962 - val_loss: 0.0077 - val_acc: 0.9963 - lr: 8.0000e-06\n",
      "Epoch 185/1000\n",
      "1954/1954 [==============================] - 393s 201ms/step - loss: 0.0078 - acc: 0.9962 - val_loss: 0.0077 - val_acc: 0.9963 - lr: 8.0000e-06\n",
      "Epoch 186/1000\n",
      "1954/1954 [==============================] - 386s 197ms/step - loss: 0.0077 - acc: 0.9962 - val_loss: 0.0077 - val_acc: 0.9963 - lr: 8.0000e-06\n",
      "Epoch 187/1000\n",
      "1954/1954 [==============================] - 391s 200ms/step - loss: 0.0077 - acc: 0.9962 - val_loss: 0.0077 - val_acc: 0.9963 - lr: 1.6000e-06\n",
      "Epoch 188/1000\n",
      "1954/1954 [==============================] - 399s 204ms/step - loss: 0.0077 - acc: 0.9962 - val_loss: 0.0077 - val_acc: 0.9963 - lr: 1.6000e-06\n",
      "Epoch 189/1000\n",
      "1954/1954 [==============================] - 403s 206ms/step - loss: 0.0077 - acc: 0.9963 - val_loss: 0.0077 - val_acc: 0.9963 - lr: 1.6000e-06\n",
      "Epoch 190/1000\n",
      "1954/1954 [==============================] - 399s 204ms/step - loss: 0.0077 - acc: 0.9962 - val_loss: 0.0077 - val_acc: 0.9963 - lr: 1.6000e-06\n",
      "Epoch 191/1000\n",
      "1954/1954 [==============================] - 398s 204ms/step - loss: 0.0077 - acc: 0.9963 - val_loss: 0.0077 - val_acc: 0.9963 - lr: 3.2000e-07\n",
      "Epoch 192/1000\n",
      "1954/1954 [==============================] - 397s 203ms/step - loss: 0.0077 - acc: 0.9963 - val_loss: 0.0077 - val_acc: 0.9963 - lr: 3.2000e-07\n",
      "Epoch 193/1000\n",
      "1954/1954 [==============================] - 398s 203ms/step - loss: 0.0077 - acc: 0.9963 - val_loss: 0.0077 - val_acc: 0.9963 - lr: 3.2000e-07\n",
      "Epoch 194/1000\n",
      "1954/1954 [==============================] - 399s 204ms/step - loss: 0.0077 - acc: 0.9963 - val_loss: 0.0077 - val_acc: 0.9963 - lr: 3.2000e-07\n",
      "Epoch 195/1000\n",
      "1954/1954 [==============================] - 395s 202ms/step - loss: 0.0077 - acc: 0.9963 - val_loss: 0.0077 - val_acc: 0.9963 - lr: 6.4000e-08\n",
      "Epoch 196/1000\n",
      "1954/1954 [==============================] - 391s 200ms/step - loss: 0.0077 - acc: 0.9963 - val_loss: 0.0077 - val_acc: 0.9963 - lr: 6.4000e-08\n",
      "Epoch 197/1000\n",
      "1954/1954 [==============================] - 393s 201ms/step - loss: 0.0077 - acc: 0.9963 - val_loss: 0.0077 - val_acc: 0.9963 - lr: 6.4000e-08\n",
      "Epoch 198/1000\n",
      "1954/1954 [==============================] - 393s 201ms/step - loss: 0.0077 - acc: 0.9963 - val_loss: 0.0077 - val_acc: 0.9963 - lr: 6.4000e-08\n",
      "Epoch 199/1000\n",
      "1954/1954 [==============================] - 393s 201ms/step - loss: 0.0077 - acc: 0.9963 - val_loss: 0.0077 - val_acc: 0.9963 - lr: 1.2800e-08\n",
      "Epoch 200/1000\n",
      "1954/1954 [==============================] - 395s 202ms/step - loss: 0.0077 - acc: 0.9963 - val_loss: 0.0077 - val_acc: 0.9963 - lr: 1.2800e-08\n",
      "Epoch 201/1000\n",
      "1954/1954 [==============================] - 396s 203ms/step - loss: 0.0077 - acc: 0.9963 - val_loss: 0.0077 - val_acc: 0.9963 - lr: 1.2800e-08\n",
      "Epoch 202/1000\n",
      "1954/1954 [==============================] - 397s 203ms/step - loss: 0.0077 - acc: 0.9963 - val_loss: 0.0077 - val_acc: 0.9963 - lr: 1.2800e-08\n",
      "Epoch 203/1000\n",
      "1954/1954 [==============================] - 396s 203ms/step - loss: 0.0077 - acc: 0.9963 - val_loss: 0.0077 - val_acc: 0.9963 - lr: 2.5600e-09\n",
      "Epoch 204/1000\n",
      "1954/1954 [==============================] - 394s 201ms/step - loss: 0.0077 - acc: 0.9963 - val_loss: 0.0077 - val_acc: 0.9963 - lr: 2.5600e-09\n",
      "Epoch 205/1000\n",
      "1954/1954 [==============================] - 397s 203ms/step - loss: 0.0077 - acc: 0.9963 - val_loss: 0.0077 - val_acc: 0.9963 - lr: 2.5600e-09\n",
      "Epoch 206/1000\n",
      "1954/1954 [==============================] - 395s 202ms/step - loss: 0.0077 - acc: 0.9963 - val_loss: 0.0077 - val_acc: 0.9963 - lr: 2.5600e-09\n",
      "Epoch 207/1000\n",
      "1954/1954 [==============================] - 396s 203ms/step - loss: 0.0077 - acc: 0.9963 - val_loss: 0.0077 - val_acc: 0.9963 - lr: 5.1200e-10\n",
      "Epoch 208/1000\n",
      "1954/1954 [==============================] - 395s 202ms/step - loss: 0.0077 - acc: 0.9963 - val_loss: 0.0077 - val_acc: 0.9963 - lr: 5.1200e-10\n",
      "Epoch 209/1000\n",
      "1954/1954 [==============================] - 388s 199ms/step - loss: 0.0077 - acc: 0.9963 - val_loss: 0.0077 - val_acc: 0.9963 - lr: 5.1200e-10\n",
      "Epoch 210/1000\n",
      "1954/1954 [==============================] - 387s 198ms/step - loss: 0.0077 - acc: 0.9963 - val_loss: 0.0077 - val_acc: 0.9963 - lr: 5.1200e-10\n",
      "Epoch 211/1000\n",
      "1954/1954 [==============================] - 388s 198ms/step - loss: 0.0077 - acc: 0.9963 - val_loss: 0.0077 - val_acc: 0.9963 - lr: 1.0240e-10\n",
      "Epoch 212/1000\n",
      "1954/1954 [==============================] - 387s 198ms/step - loss: 0.0077 - acc: 0.9963 - val_loss: 0.0077 - val_acc: 0.9963 - lr: 1.0240e-10\n",
      "Epoch 213/1000\n",
      "1954/1954 [==============================] - 389s 199ms/step - loss: 0.0077 - acc: 0.9963 - val_loss: 0.0077 - val_acc: 0.9963 - lr: 1.0240e-10\n",
      "Epoch 214/1000\n",
      "1954/1954 [==============================] - 386s 198ms/step - loss: 0.0077 - acc: 0.9963 - val_loss: 0.0077 - val_acc: 0.9963 - lr: 1.0240e-10\n",
      "Epoch 215/1000\n",
      "1954/1954 [==============================] - 390s 200ms/step - loss: 0.0077 - acc: 0.9963 - val_loss: 0.0077 - val_acc: 0.9963 - lr: 2.0480e-11\n",
      "Epoch 216/1000\n",
      "1954/1954 [==============================] - 387s 198ms/step - loss: 0.0077 - acc: 0.9963 - val_loss: 0.0077 - val_acc: 0.9963 - lr: 2.0480e-11\n",
      "Epoch 217/1000\n",
      "1954/1954 [==============================] - 390s 199ms/step - loss: 0.0077 - acc: 0.9963 - val_loss: 0.0077 - val_acc: 0.9963 - lr: 2.0480e-11\n"
     ]
    }
   ],
   "source": [
    "X_train , X_valid ,y_train ,y_valid  = train_test_split(X,y , test_size = 0.3 , random_state=0)\n",
    "\n",
    "def load_model(): \n",
    "    model = Sequential([\n",
    "        Dense(2048, activation = 'swish', input_shape = [X.shape[1]]),\n",
    "        Dense(1024, activation ='swish'),\n",
    "        Dense(512, activation ='swish'),\n",
    "        Dense(6, activation='softmax'),\n",
    "    ])\n",
    "    model.compile(\n",
    "        optimizer= 'adam',\n",
    "        loss='categorical_crossentropy',\n",
    "        metrics=['acc'],\n",
    "    )\n",
    "    return model\n",
    "    \n",
    "    \n",
    "early_stopping = callbacks.EarlyStopping(\n",
    "        patience=10,\n",
    "        min_delta=0,\n",
    "        monitor='val_loss',\n",
    "        restore_best_weights=True,\n",
    "        verbose=0,\n",
    "        mode='min', \n",
    "        baseline=None,\n",
    "    )\n",
    "plateau = callbacks.ReduceLROnPlateau(\n",
    "            monitor='val_loss', \n",
    "            factor=0.2, \n",
    "            patience=4, \n",
    "            verbose=0,\n",
    "            mode='min')\n",
    "\n",
    "nn_model = load_model()\n",
    "history = nn_model.fit(  X , y,\n",
    "                validation_data = (X_valid , y_valid),\n",
    "                batch_size = 2048, \n",
    "                epochs = 1000,\n",
    "                callbacks = [early_stopping , plateau],\n",
    "              )"
   ]
  },
  {
   "cell_type": "markdown",
   "id": "42282d1c",
   "metadata": {},
   "source": [
    "<a id='7.2'></a>\n",
    "## Loss Curve"
   ]
  },
  {
   "cell_type": "code",
   "execution_count": 49,
   "id": "8f4968f7",
   "metadata": {
    "ExecuteTime": {
     "end_time": "2022-01-07T20:23:21.714803Z",
     "start_time": "2022-01-07T20:23:21.547239Z"
    }
   },
   "outputs": [
    {
     "data": {
      "image/png": "[encoded data removed]",
      "text/plain": [
       "<Figure size 432x288 with 1 Axes>"
      ]
     },
     "metadata": {
      "needs_background": "light"
     },
     "output_type": "display_data"
    }
   ],
   "source": [
    "loss_train = history.history['loss']\n",
    "loss_val = history.history['val_loss']\n",
    "epochs = range(1,218)\n",
    "plt.plot(epochs, loss_train, 'g', label='Training loss', lw=5)\n",
    "plt.plot(epochs, loss_val, 'b', label='validation loss', lw=5)\n",
    "plt.title('Training and Validation loss')\n",
    "plt.xlabel('Epochs')\n",
    "plt.ylabel('Loss')\n",
    "plt.xticks(np.arange(0,220, 20))\n",
    "plt.legend()\n",
    "plt.show()"
   ]
  },
  {
   "cell_type": "code",
   "execution_count": 51,
   "id": "aa57984f",
   "metadata": {
    "ExecuteTime": {
     "end_time": "2022-01-07T20:24:10.445471Z",
     "start_time": "2022-01-07T20:24:10.276017Z"
    }
   },
   "outputs": [
    {
     "data": {
      "image/png": "[encoded data removed]",
      "text/plain": [
       "<Figure size 432x288 with 1 Axes>"
      ]
     },
     "metadata": {
      "needs_background": "light"
     },
     "output_type": "display_data"
    }
   ],
   "source": [
    "loss_train = history.history['acc']\n",
    "loss_val = history.history['val_acc']\n",
    "epochs = range(1,218)\n",
    "plt.plot(epochs, loss_train, 'g', label='Training acc', lw=5)\n",
    "plt.plot(epochs, loss_val, 'b', label='validation acc', lw=5)\n",
    "plt.title('Training and Validation Acc')\n",
    "plt.xlabel('Epochs')\n",
    "plt.ylabel('acc')\n",
    "plt.xticks(np.arange(0,220, 20))\n",
    "plt.legend()\n",
    "plt.show()"
   ]
  },
  {
   "cell_type": "code",
   "execution_count": 61,
   "id": "c7d85701",
   "metadata": {
    "ExecuteTime": {
     "end_time": "2022-01-07T20:35:11.067536Z",
     "start_time": "2022-01-07T20:33:18.878374Z"
    }
   },
   "outputs": [
    {
     "data": {
      "text/plain": [
       "array([[1.0000000e+00, 3.5499089e-15, 0.0000000e+00, 0.0000000e+00,\n",
       "        0.0000000e+00, 3.5192444e-32],\n",
       "       [0.0000000e+00, 1.0000000e+00, 0.0000000e+00, 0.0000000e+00,\n",
       "        0.0000000e+00, 0.0000000e+00],\n",
       "       [1.0000000e+00, 0.0000000e+00, 0.0000000e+00, 0.0000000e+00,\n",
       "        0.0000000e+00, 0.0000000e+00],\n",
       "       ...,\n",
       "       [0.0000000e+00, 1.0000000e+00, 0.0000000e+00, 0.0000000e+00,\n",
       "        0.0000000e+00, 0.0000000e+00],\n",
       "       [0.0000000e+00, 1.0000000e+00, 0.0000000e+00, 0.0000000e+00,\n",
       "        0.0000000e+00, 0.0000000e+00],\n",
       "       [0.0000000e+00, 1.0000000e+00, 0.0000000e+00, 0.0000000e+00,\n",
       "        0.0000000e+00, 0.0000000e+00]], dtype=float32)"
      ]
     },
     "execution_count": 61,
     "metadata": {},
     "output_type": "execute_result"
    }
   ],
   "source": [
    "y_predicted = nn_model.predict(X_valid)\n",
    "y_predicted"
   ]
  },
  {
   "cell_type": "code",
   "execution_count": 62,
   "id": "e764597b",
   "metadata": {
    "ExecuteTime": {
     "end_time": "2022-01-07T20:35:12.868222Z",
     "start_time": "2022-01-07T20:35:11.069482Z"
    }
   },
   "outputs": [],
   "source": [
    "y_predicted_labels = [np.argmax(i) for i in y_predicted]"
   ]
  },
  {
   "cell_type": "code",
   "execution_count": 63,
   "id": "8ad2a558",
   "metadata": {
    "ExecuteTime": {
     "end_time": "2022-01-07T20:35:12.946283Z",
     "start_time": "2022-01-07T20:35:12.868222Z"
    }
   },
   "outputs": [
    {
     "data": {
      "text/plain": [
       "(1200000,)"
      ]
     },
     "execution_count": 63,
     "metadata": {},
     "output_type": "execute_result"
    }
   ],
   "source": [
    "y_predicted_labels = np.array(y_predicted_labels)\n",
    "y_predicted_labels.shape"
   ]
  },
  {
   "cell_type": "code",
   "execution_count": 64,
   "id": "b8ab0a44",
   "metadata": {
    "ExecuteTime": {
     "end_time": "2022-01-07T20:35:12.961330Z",
     "start_time": "2022-01-07T20:35:12.947108Z"
    }
   },
   "outputs": [
    {
     "data": {
      "text/plain": [
       "(1200000, 6)"
      ]
     },
     "execution_count": 64,
     "metadata": {},
     "output_type": "execute_result"
    }
   ],
   "source": [
    "y_valid.shape"
   ]
  },
  {
   "cell_type": "code",
   "execution_count": null,
   "id": "3ba03b1b",
   "metadata": {},
   "outputs": [],
   "source": [
    "y = np.argmax(y, axis=-1)"
   ]
  },
  {
   "cell_type": "code",
   "execution_count": 74,
   "id": "f6f7ba23",
   "metadata": {
    "ExecuteTime": {
     "end_time": "2022-01-07T20:40:31.632631Z",
     "start_time": "2022-01-07T20:40:31.623692Z"
    }
   },
   "outputs": [
    {
     "data": {
      "text/plain": [
       "(3999999,)"
      ]
     },
     "execution_count": 74,
     "metadata": {},
     "output_type": "execute_result"
    }
   ],
   "source": [
    "y.shape"
   ]
  },
  {
   "cell_type": "code",
   "execution_count": 72,
   "id": "61277c22",
   "metadata": {
    "ExecuteTime": {
     "end_time": "2022-01-07T20:39:53.717313Z",
     "start_time": "2022-01-07T20:39:48.129837Z"
    }
   },
   "outputs": [],
   "source": [
    "X_train , X_valid ,y_train ,y_valid  = train_test_split(X,y , test_size = 0.3 , random_state=0)"
   ]
  },
  {
   "cell_type": "code",
   "execution_count": 73,
   "id": "40e4a662",
   "metadata": {
    "ExecuteTime": {
     "end_time": "2022-01-07T20:39:54.799403Z",
     "start_time": "2022-01-07T20:39:54.785442Z"
    }
   },
   "outputs": [
    {
     "data": {
      "text/plain": [
       "(1200000,)"
      ]
     },
     "execution_count": 73,
     "metadata": {},
     "output_type": "execute_result"
    }
   ],
   "source": [
    "y_valid.shape"
   ]
  },
  {
   "cell_type": "code",
   "execution_count": 76,
   "id": "8b70f128",
   "metadata": {
    "ExecuteTime": {
     "end_time": "2022-01-07T20:41:03.528916Z",
     "start_time": "2022-01-07T20:41:03.439165Z"
    }
   },
   "outputs": [
    {
     "data": {
      "text/plain": [
       "<tf.Tensor: shape=(6, 6), dtype=int32, numpy=\n",
       "array([[440570,    105,      0,      0,      0,     38],\n",
       "       [   109, 676114,   2283,      0,     48,      1],\n",
       "       [     0,   1760,  56717,      0,     16,      0],\n",
       "       [     0,      0,      0,    113,      0,      0],\n",
       "       [     0,     31,     15,      0,   3408,      0],\n",
       "       [    38,      1,      0,      0,      0,  18633]])>"
      ]
     },
     "execution_count": 76,
     "metadata": {},
     "output_type": "execute_result"
    }
   ],
   "source": [
    "cm = tf.math.confusion_matrix(labels=y_valid, predictions=y_predicted_labels)\n",
    "cm"
   ]
  },
  {
   "cell_type": "markdown",
   "id": "c79be693",
   "metadata": {},
   "source": [
    "<a id='7.3'></a>\n",
    "## Confusion Matrix"
   ]
  },
  {
   "cell_type": "code",
   "execution_count": 79,
   "id": "a3a97a3c",
   "metadata": {
    "ExecuteTime": {
     "end_time": "2022-01-07T20:41:31.246439Z",
     "start_time": "2022-01-07T20:41:30.864587Z"
    }
   },
   "outputs": [
    {
     "data": {
      "image/png": "[encoded data removed]",
      "text/plain": [
       "<Figure size 864x720 with 2 Axes>"
      ]
     },
     "metadata": {
      "needs_background": "light"
     },
     "output_type": "display_data"
    }
   ],
   "source": [
    "plt.figure(figsize=(12,10))\n",
    "sns.heatmap(cm, annot=True, fmt='d');"
   ]
  },
  {
   "cell_type": "markdown",
   "id": "5c6d42b5",
   "metadata": {},
   "source": [
    "<a id='7.4'></a>\n",
    "## Classification Report"
   ]
  },
  {
   "cell_type": "code",
   "execution_count": 120,
   "id": "ca82e074",
   "metadata": {
    "ExecuteTime": {
     "end_time": "2022-01-07T20:46:33.362674Z",
     "start_time": "2022-01-07T20:46:31.927338Z"
    }
   },
   "outputs": [
    {
     "name": "stdout",
     "output_type": "stream",
     "text": [
      "              precision    recall  f1-score   support\n",
      "\n",
      "           0       1.00      1.00      1.00    440713\n",
      "           1       1.00      1.00      1.00    678555\n",
      "           2       0.96      0.97      0.97     58493\n",
      "           3       1.00      1.00      1.00       113\n",
      "           4       0.98      0.99      0.98      3454\n",
      "           5       1.00      1.00      1.00     18672\n",
      "\n",
      "    accuracy                           1.00   1200000\n",
      "   macro avg       0.99      0.99      0.99   1200000\n",
      "weighted avg       1.00      1.00      1.00   1200000\n",
      "\n"
     ]
    }
   ],
   "source": [
    "print(classification_report(y_valid, y_predicted_labels))"
   ]
  },
  {
   "cell_type": "markdown",
   "id": "799612e5",
   "metadata": {},
   "source": [
    "<a id='8'></a>\n",
    "# Sumbission"
   ]
  },
  {
   "cell_type": "code",
   "execution_count": 121,
   "id": "0585a2b5",
   "metadata": {
    "ExecuteTime": {
     "end_time": "2022-01-07T20:47:02.333202Z",
     "start_time": "2022-01-07T20:47:02.320254Z"
    }
   },
   "outputs": [
    {
     "data": {
      "text/plain": [
       "(1000000, 56)"
      ]
     },
     "execution_count": 121,
     "metadata": {},
     "output_type": "execute_result"
    }
   ],
   "source": [
    "test.shape"
   ]
  },
  {
   "cell_type": "code",
   "execution_count": 122,
   "id": "83f0f54f",
   "metadata": {
    "ExecuteTime": {
     "end_time": "2022-01-07T20:50:57.933894Z",
     "start_time": "2022-01-07T20:47:14.488840Z"
    }
   },
   "outputs": [],
   "source": [
    "nn_preds = nn_model.predict(test)"
   ]
  },
  {
   "cell_type": "code",
   "execution_count": 123,
   "id": "4f559a54",
   "metadata": {
    "ExecuteTime": {
     "end_time": "2022-01-07T21:08:05.205256Z",
     "start_time": "2022-01-07T21:08:02.472257Z"
    }
   },
   "outputs": [
    {
     "data": {
      "text/html": [
       "<div>\n",
       "<style scoped>\n",
       "    .dataframe tbody tr th:only-of-type {\n",
       "        vertical-align: middle;\n",
       "    }\n",
       "\n",
       "    .dataframe tbody tr th {\n",
       "        vertical-align: top;\n",
       "    }\n",
       "\n",
       "    .dataframe thead th {\n",
       "        text-align: right;\n",
       "    }\n",
       "</style>\n",
       "<table border=\"1\" class=\"dataframe\">\n",
       "  <thead>\n",
       "    <tr style=\"text-align: right;\">\n",
       "      <th></th>\n",
       "      <th>Id</th>\n",
       "      <th>Cover_Type</th>\n",
       "    </tr>\n",
       "  </thead>\n",
       "  <tbody>\n",
       "    <tr>\n",
       "      <th>0</th>\n",
       "      <td>4000000</td>\n",
       "      <td>2</td>\n",
       "    </tr>\n",
       "    <tr>\n",
       "      <th>1</th>\n",
       "      <td>4000001</td>\n",
       "      <td>2</td>\n",
       "    </tr>\n",
       "    <tr>\n",
       "      <th>2</th>\n",
       "      <td>4000002</td>\n",
       "      <td>2</td>\n",
       "    </tr>\n",
       "    <tr>\n",
       "      <th>3</th>\n",
       "      <td>4000003</td>\n",
       "      <td>2</td>\n",
       "    </tr>\n",
       "    <tr>\n",
       "      <th>4</th>\n",
       "      <td>4000004</td>\n",
       "      <td>2</td>\n",
       "    </tr>\n",
       "  </tbody>\n",
       "</table>\n",
       "</div>"
      ],
      "text/plain": [
       "        Id  Cover_Type\n",
       "0  4000000           2\n",
       "1  4000001           2\n",
       "2  4000002           2\n",
       "3  4000003           2\n",
       "4  4000004           2"
      ]
     },
     "execution_count": 123,
     "metadata": {},
     "output_type": "execute_result"
    }
   ],
   "source": [
    "submission = pd.read_csv(\"sample_submission.csv\")\n",
    "nn_submission = submission.copy()\n",
    "nn_submission[\"Cover_Type\"] = LE.inverse_transform(np.argmax((nn_preds), axis=1)).astype(int)\n",
    "nn_submission.to_csv(\"nn-sub.csv\" , index= False)\n",
    "nn_submission.head()"
   ]
  }
 ],
 "metadata": {
  "kernelspec": {
   "display_name": "Python 3",
   "language": "python",
   "name": "python3"
  },
  "language_info": {
   "codemirror_mode": {
    "name": "ipython",
    "version": 3
   },
   "file_extension": ".py",
   "mimetype": "text/x-python",
   "name": "python",
   "nbconvert_exporter": "python",
   "pygments_lexer": "ipython3",
   "version": "3.8.8"
  },
  "toc": {
   "base_numbering": 1,
   "nav_menu": {},
   "number_sections": true,
   "sideBar": true,
   "skip_h1_title": false,
   "title_cell": "Table of Contents",
   "title_sidebar": "Contents",
   "toc_cell": false,
   "toc_position": {},
   "toc_section_display": true,
   "toc_window_display": false
  }
 },
 "nbformat": 4,
 "nbformat_minor": 5
}
