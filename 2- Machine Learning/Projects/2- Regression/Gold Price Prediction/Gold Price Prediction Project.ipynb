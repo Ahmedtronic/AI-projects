{
 "cells": [
  {
   "cell_type": "markdown",
   "id": "33f3ef52",
   "metadata": {},
   "source": [
    "# Table of Contents\n",
    "<a id=\"toc\"></a>\n",
    "- [1. Project Description](#1)\n",
    "- [2. Import Necssaries Libraries](#2)\n",
    "- [3. EDA](#3)\n",
    "- [4. Assign Features and Target Variables](#4)\n",
    "- [5. Feature Scaling](#5)\n",
    "- [6. Spliting the data into Training and Testing Data](#6)\n",
    "- [7. Modeling](#7)\n",
    "    - [7.1 Random Forest Regressor Model](#7.1)\n",
    "    - [7.2 Gradient Boosting Regressor Model](#7.2)\n",
    "    - [7.3 Bagging Regressor model](#7.3)\n",
    "    - [7.4 Linear Regression Model](#7.4)\n",
    "    - [7.5 SVR model](#7.5)\n",
    "    - [7.6 Decision Tree Regressor](#7.6)\n",
    "    - [7.7 XGBoost Regressor](#7.7)"
   ]
  },
  {
   "cell_type": "markdown",
   "id": "5af72719",
   "metadata": {},
   "source": [
    "<a id='2'></a>\n",
    "# Import Necssaries Libraries"
   ]
  },
  {
   "cell_type": "code",
   "execution_count": 104,
   "id": "aa3e6634",
   "metadata": {
    "ExecuteTime": {
     "end_time": "2022-01-11T12:46:06.161374Z",
     "start_time": "2022-01-11T12:46:06.136967Z"
    }
   },
   "outputs": [],
   "source": [
    "import pandas as pd\n",
    "import numpy as np\n",
    "from matplotlib import pyplot as plt\n",
    "%matplotlib inline\n",
    "import seaborn as sns\n",
    "\n",
    "from sklearn.preprocessing import LabelEncoder\n",
    "from sklearn.model_selection import train_test_split\n",
    "from sklearn.preprocessing import StandardScaler\n",
    "from sklearn.linear_model import LinearRegression\n",
    "from sklearn.model_selection import cross_val_score\n",
    "from sklearn.ensemble import RandomForestRegressor, GradientBoostingRegressor, BaggingRegressor\n",
    "from sklearn.svm import SVR\n",
    "from sklearn.tree import DecisionTreeRegressor\n",
    "from sklearn.metrics import r2_score\n",
    "from xgboost import XGBRegressor\n",
    "from tpot import TPOTRegressor\n",
    "\n",
    "import warnings\n",
    "warnings.filterwarnings('ignore')"
   ]
  },
  {
   "cell_type": "markdown",
   "id": "9661671d",
   "metadata": {},
   "source": [
    "<a id='3'></a>\n",
    "# EDA"
   ]
  },
  {
   "cell_type": "code",
   "execution_count": 37,
   "id": "cf997c69",
   "metadata": {
    "ExecuteTime": {
     "end_time": "2022-01-11T12:28:18.220715Z",
     "start_time": "2022-01-11T12:28:18.186940Z"
    }
   },
   "outputs": [
    {
     "data": {
      "text/html": [
       "<div>\n",
       "<style scoped>\n",
       "    .dataframe tbody tr th:only-of-type {\n",
       "        vertical-align: middle;\n",
       "    }\n",
       "\n",
       "    .dataframe tbody tr th {\n",
       "        vertical-align: top;\n",
       "    }\n",
       "\n",
       "    .dataframe thead th {\n",
       "        text-align: right;\n",
       "    }\n",
       "</style>\n",
       "<table border=\"1\" class=\"dataframe\">\n",
       "  <thead>\n",
       "    <tr style=\"text-align: right;\">\n",
       "      <th></th>\n",
       "      <th>Date</th>\n",
       "      <th>SPX</th>\n",
       "      <th>GLD</th>\n",
       "      <th>USO</th>\n",
       "      <th>SLV</th>\n",
       "      <th>EUR/USD</th>\n",
       "    </tr>\n",
       "  </thead>\n",
       "  <tbody>\n",
       "    <tr>\n",
       "      <th>0</th>\n",
       "      <td>1/2/2008</td>\n",
       "      <td>1447.160034</td>\n",
       "      <td>84.860001</td>\n",
       "      <td>78.470001</td>\n",
       "      <td>15.180</td>\n",
       "      <td>1.471692</td>\n",
       "    </tr>\n",
       "    <tr>\n",
       "      <th>1</th>\n",
       "      <td>1/3/2008</td>\n",
       "      <td>1447.160034</td>\n",
       "      <td>85.570000</td>\n",
       "      <td>78.370003</td>\n",
       "      <td>15.285</td>\n",
       "      <td>1.474491</td>\n",
       "    </tr>\n",
       "    <tr>\n",
       "      <th>2</th>\n",
       "      <td>1/4/2008</td>\n",
       "      <td>1411.630005</td>\n",
       "      <td>85.129997</td>\n",
       "      <td>77.309998</td>\n",
       "      <td>15.167</td>\n",
       "      <td>1.475492</td>\n",
       "    </tr>\n",
       "    <tr>\n",
       "      <th>3</th>\n",
       "      <td>1/7/2008</td>\n",
       "      <td>1416.180054</td>\n",
       "      <td>84.769997</td>\n",
       "      <td>75.500000</td>\n",
       "      <td>15.053</td>\n",
       "      <td>1.468299</td>\n",
       "    </tr>\n",
       "    <tr>\n",
       "      <th>4</th>\n",
       "      <td>1/8/2008</td>\n",
       "      <td>1390.189941</td>\n",
       "      <td>86.779999</td>\n",
       "      <td>76.059998</td>\n",
       "      <td>15.590</td>\n",
       "      <td>1.557099</td>\n",
       "    </tr>\n",
       "  </tbody>\n",
       "</table>\n",
       "</div>"
      ],
      "text/plain": [
       "       Date          SPX        GLD        USO     SLV   EUR/USD\n",
       "0  1/2/2008  1447.160034  84.860001  78.470001  15.180  1.471692\n",
       "1  1/3/2008  1447.160034  85.570000  78.370003  15.285  1.474491\n",
       "2  1/4/2008  1411.630005  85.129997  77.309998  15.167  1.475492\n",
       "3  1/7/2008  1416.180054  84.769997  75.500000  15.053  1.468299\n",
       "4  1/8/2008  1390.189941  86.779999  76.059998  15.590  1.557099"
      ]
     },
     "execution_count": 37,
     "metadata": {},
     "output_type": "execute_result"
    }
   ],
   "source": [
    "df = pd.read_csv('gld_price_data.csv')\n",
    "df.head()"
   ]
  },
  {
   "cell_type": "code",
   "execution_count": 38,
   "id": "556547b2",
   "metadata": {
    "ExecuteTime": {
     "end_time": "2022-01-11T12:28:18.459805Z",
     "start_time": "2022-01-11T12:28:18.448864Z"
    }
   },
   "outputs": [
    {
     "data": {
      "text/plain": [
       "(2290, 6)"
      ]
     },
     "execution_count": 38,
     "metadata": {},
     "output_type": "execute_result"
    }
   ],
   "source": [
    "df.shape"
   ]
  },
  {
   "cell_type": "code",
   "execution_count": 39,
   "id": "2798d1fe",
   "metadata": {
    "ExecuteTime": {
     "end_time": "2022-01-11T12:28:18.686776Z",
     "start_time": "2022-01-11T12:28:18.660679Z"
    }
   },
   "outputs": [
    {
     "data": {
      "text/html": [
       "<div>\n",
       "<style scoped>\n",
       "    .dataframe tbody tr th:only-of-type {\n",
       "        vertical-align: middle;\n",
       "    }\n",
       "\n",
       "    .dataframe tbody tr th {\n",
       "        vertical-align: top;\n",
       "    }\n",
       "\n",
       "    .dataframe thead th {\n",
       "        text-align: right;\n",
       "    }\n",
       "</style>\n",
       "<table border=\"1\" class=\"dataframe\">\n",
       "  <thead>\n",
       "    <tr style=\"text-align: right;\">\n",
       "      <th></th>\n",
       "      <th>Date</th>\n",
       "      <th>SPX</th>\n",
       "      <th>GLD</th>\n",
       "      <th>USO</th>\n",
       "      <th>SLV</th>\n",
       "      <th>EUR/USD</th>\n",
       "    </tr>\n",
       "  </thead>\n",
       "  <tbody>\n",
       "    <tr>\n",
       "      <th>2285</th>\n",
       "      <td>5/8/2018</td>\n",
       "      <td>2671.919922</td>\n",
       "      <td>124.589996</td>\n",
       "      <td>14.0600</td>\n",
       "      <td>15.5100</td>\n",
       "      <td>1.186789</td>\n",
       "    </tr>\n",
       "    <tr>\n",
       "      <th>2286</th>\n",
       "      <td>5/9/2018</td>\n",
       "      <td>2697.790039</td>\n",
       "      <td>124.330002</td>\n",
       "      <td>14.3700</td>\n",
       "      <td>15.5300</td>\n",
       "      <td>1.184722</td>\n",
       "    </tr>\n",
       "    <tr>\n",
       "      <th>2287</th>\n",
       "      <td>5/10/2018</td>\n",
       "      <td>2723.070068</td>\n",
       "      <td>125.180000</td>\n",
       "      <td>14.4100</td>\n",
       "      <td>15.7400</td>\n",
       "      <td>1.191753</td>\n",
       "    </tr>\n",
       "    <tr>\n",
       "      <th>2288</th>\n",
       "      <td>5/14/2018</td>\n",
       "      <td>2730.129883</td>\n",
       "      <td>124.489998</td>\n",
       "      <td>14.3800</td>\n",
       "      <td>15.5600</td>\n",
       "      <td>1.193118</td>\n",
       "    </tr>\n",
       "    <tr>\n",
       "      <th>2289</th>\n",
       "      <td>5/16/2018</td>\n",
       "      <td>2725.780029</td>\n",
       "      <td>122.543800</td>\n",
       "      <td>14.4058</td>\n",
       "      <td>15.4542</td>\n",
       "      <td>1.182033</td>\n",
       "    </tr>\n",
       "  </tbody>\n",
       "</table>\n",
       "</div>"
      ],
      "text/plain": [
       "           Date          SPX         GLD      USO      SLV   EUR/USD\n",
       "2285   5/8/2018  2671.919922  124.589996  14.0600  15.5100  1.186789\n",
       "2286   5/9/2018  2697.790039  124.330002  14.3700  15.5300  1.184722\n",
       "2287  5/10/2018  2723.070068  125.180000  14.4100  15.7400  1.191753\n",
       "2288  5/14/2018  2730.129883  124.489998  14.3800  15.5600  1.193118\n",
       "2289  5/16/2018  2725.780029  122.543800  14.4058  15.4542  1.182033"
      ]
     },
     "execution_count": 39,
     "metadata": {},
     "output_type": "execute_result"
    }
   ],
   "source": [
    "df.tail()"
   ]
  },
  {
   "cell_type": "code",
   "execution_count": 40,
   "id": "84c170f0",
   "metadata": {
    "ExecuteTime": {
     "end_time": "2022-01-11T12:28:18.998053Z",
     "start_time": "2022-01-11T12:28:18.975360Z"
    }
   },
   "outputs": [
    {
     "name": "stdout",
     "output_type": "stream",
     "text": [
      "<class 'pandas.core.frame.DataFrame'>\n",
      "RangeIndex: 2290 entries, 0 to 2289\n",
      "Data columns (total 6 columns):\n",
      " #   Column   Non-Null Count  Dtype  \n",
      "---  ------   --------------  -----  \n",
      " 0   Date     2290 non-null   object \n",
      " 1   SPX      2290 non-null   float64\n",
      " 2   GLD      2290 non-null   float64\n",
      " 3   USO      2290 non-null   float64\n",
      " 4   SLV      2290 non-null   float64\n",
      " 5   EUR/USD  2290 non-null   float64\n",
      "dtypes: float64(5), object(1)\n",
      "memory usage: 107.5+ KB\n"
     ]
    }
   ],
   "source": [
    "df.info()"
   ]
  },
  {
   "cell_type": "code",
   "execution_count": 41,
   "id": "83903e1a",
   "metadata": {
    "ExecuteTime": {
     "end_time": "2022-01-11T12:28:20.218681Z",
     "start_time": "2022-01-11T12:28:19.238842Z"
    }
   },
   "outputs": [],
   "source": [
    "df.Date = df.Date.apply(pd.to_datetime)"
   ]
  },
  {
   "cell_type": "code",
   "execution_count": 42,
   "id": "c231ad08",
   "metadata": {
    "ExecuteTime": {
     "end_time": "2022-01-11T12:28:20.247446Z",
     "start_time": "2022-01-11T12:28:20.218681Z"
    }
   },
   "outputs": [
    {
     "data": {
      "text/html": [
       "<div>\n",
       "<style scoped>\n",
       "    .dataframe tbody tr th:only-of-type {\n",
       "        vertical-align: middle;\n",
       "    }\n",
       "\n",
       "    .dataframe tbody tr th {\n",
       "        vertical-align: top;\n",
       "    }\n",
       "\n",
       "    .dataframe thead th {\n",
       "        text-align: right;\n",
       "    }\n",
       "</style>\n",
       "<table border=\"1\" class=\"dataframe\">\n",
       "  <thead>\n",
       "    <tr style=\"text-align: right;\">\n",
       "      <th></th>\n",
       "      <th>Date</th>\n",
       "      <th>SPX</th>\n",
       "      <th>GLD</th>\n",
       "      <th>USO</th>\n",
       "      <th>SLV</th>\n",
       "      <th>EUR/USD</th>\n",
       "    </tr>\n",
       "  </thead>\n",
       "  <tbody>\n",
       "    <tr>\n",
       "      <th>0</th>\n",
       "      <td>2008-01-02</td>\n",
       "      <td>1447.160034</td>\n",
       "      <td>84.860001</td>\n",
       "      <td>78.470001</td>\n",
       "      <td>15.180</td>\n",
       "      <td>1.471692</td>\n",
       "    </tr>\n",
       "    <tr>\n",
       "      <th>1</th>\n",
       "      <td>2008-01-03</td>\n",
       "      <td>1447.160034</td>\n",
       "      <td>85.570000</td>\n",
       "      <td>78.370003</td>\n",
       "      <td>15.285</td>\n",
       "      <td>1.474491</td>\n",
       "    </tr>\n",
       "    <tr>\n",
       "      <th>2</th>\n",
       "      <td>2008-01-04</td>\n",
       "      <td>1411.630005</td>\n",
       "      <td>85.129997</td>\n",
       "      <td>77.309998</td>\n",
       "      <td>15.167</td>\n",
       "      <td>1.475492</td>\n",
       "    </tr>\n",
       "    <tr>\n",
       "      <th>3</th>\n",
       "      <td>2008-01-07</td>\n",
       "      <td>1416.180054</td>\n",
       "      <td>84.769997</td>\n",
       "      <td>75.500000</td>\n",
       "      <td>15.053</td>\n",
       "      <td>1.468299</td>\n",
       "    </tr>\n",
       "    <tr>\n",
       "      <th>4</th>\n",
       "      <td>2008-01-08</td>\n",
       "      <td>1390.189941</td>\n",
       "      <td>86.779999</td>\n",
       "      <td>76.059998</td>\n",
       "      <td>15.590</td>\n",
       "      <td>1.557099</td>\n",
       "    </tr>\n",
       "  </tbody>\n",
       "</table>\n",
       "</div>"
      ],
      "text/plain": [
       "        Date          SPX        GLD        USO     SLV   EUR/USD\n",
       "0 2008-01-02  1447.160034  84.860001  78.470001  15.180  1.471692\n",
       "1 2008-01-03  1447.160034  85.570000  78.370003  15.285  1.474491\n",
       "2 2008-01-04  1411.630005  85.129997  77.309998  15.167  1.475492\n",
       "3 2008-01-07  1416.180054  84.769997  75.500000  15.053  1.468299\n",
       "4 2008-01-08  1390.189941  86.779999  76.059998  15.590  1.557099"
      ]
     },
     "execution_count": 42,
     "metadata": {},
     "output_type": "execute_result"
    }
   ],
   "source": [
    "df.head()"
   ]
  },
  {
   "cell_type": "code",
   "execution_count": 43,
   "id": "919148bc",
   "metadata": {
    "ExecuteTime": {
     "end_time": "2022-01-11T12:28:20.277082Z",
     "start_time": "2022-01-11T12:28:20.251726Z"
    }
   },
   "outputs": [
    {
     "data": {
      "text/html": [
       "<div>\n",
       "<style scoped>\n",
       "    .dataframe tbody tr th:only-of-type {\n",
       "        vertical-align: middle;\n",
       "    }\n",
       "\n",
       "    .dataframe tbody tr th {\n",
       "        vertical-align: top;\n",
       "    }\n",
       "\n",
       "    .dataframe thead th {\n",
       "        text-align: right;\n",
       "    }\n",
       "</style>\n",
       "<table border=\"1\" class=\"dataframe\">\n",
       "  <thead>\n",
       "    <tr style=\"text-align: right;\">\n",
       "      <th></th>\n",
       "      <th>Date</th>\n",
       "      <th>SPX</th>\n",
       "      <th>GLD</th>\n",
       "      <th>USO</th>\n",
       "      <th>SLV</th>\n",
       "      <th>EUR/USD</th>\n",
       "      <th>Year</th>\n",
       "    </tr>\n",
       "  </thead>\n",
       "  <tbody>\n",
       "    <tr>\n",
       "      <th>0</th>\n",
       "      <td>2008-01-02</td>\n",
       "      <td>1447.160034</td>\n",
       "      <td>84.860001</td>\n",
       "      <td>78.470001</td>\n",
       "      <td>15.180</td>\n",
       "      <td>1.471692</td>\n",
       "      <td>2008</td>\n",
       "    </tr>\n",
       "    <tr>\n",
       "      <th>1</th>\n",
       "      <td>2008-01-03</td>\n",
       "      <td>1447.160034</td>\n",
       "      <td>85.570000</td>\n",
       "      <td>78.370003</td>\n",
       "      <td>15.285</td>\n",
       "      <td>1.474491</td>\n",
       "      <td>2008</td>\n",
       "    </tr>\n",
       "    <tr>\n",
       "      <th>2</th>\n",
       "      <td>2008-01-04</td>\n",
       "      <td>1411.630005</td>\n",
       "      <td>85.129997</td>\n",
       "      <td>77.309998</td>\n",
       "      <td>15.167</td>\n",
       "      <td>1.475492</td>\n",
       "      <td>2008</td>\n",
       "    </tr>\n",
       "    <tr>\n",
       "      <th>3</th>\n",
       "      <td>2008-01-07</td>\n",
       "      <td>1416.180054</td>\n",
       "      <td>84.769997</td>\n",
       "      <td>75.500000</td>\n",
       "      <td>15.053</td>\n",
       "      <td>1.468299</td>\n",
       "      <td>2008</td>\n",
       "    </tr>\n",
       "    <tr>\n",
       "      <th>4</th>\n",
       "      <td>2008-01-08</td>\n",
       "      <td>1390.189941</td>\n",
       "      <td>86.779999</td>\n",
       "      <td>76.059998</td>\n",
       "      <td>15.590</td>\n",
       "      <td>1.557099</td>\n",
       "      <td>2008</td>\n",
       "    </tr>\n",
       "  </tbody>\n",
       "</table>\n",
       "</div>"
      ],
      "text/plain": [
       "        Date          SPX        GLD        USO     SLV   EUR/USD  Year\n",
       "0 2008-01-02  1447.160034  84.860001  78.470001  15.180  1.471692  2008\n",
       "1 2008-01-03  1447.160034  85.570000  78.370003  15.285  1.474491  2008\n",
       "2 2008-01-04  1411.630005  85.129997  77.309998  15.167  1.475492  2008\n",
       "3 2008-01-07  1416.180054  84.769997  75.500000  15.053  1.468299  2008\n",
       "4 2008-01-08  1390.189941  86.779999  76.059998  15.590  1.557099  2008"
      ]
     },
     "execution_count": 43,
     "metadata": {},
     "output_type": "execute_result"
    }
   ],
   "source": [
    "df['Year'] = pd.DatetimeIndex(df['Date']).year # year column for extract some insights\n",
    "df.head() "
   ]
  },
  {
   "cell_type": "code",
   "execution_count": 44,
   "id": "61bf3aab",
   "metadata": {
    "ExecuteTime": {
     "end_time": "2022-01-11T12:28:20.597970Z",
     "start_time": "2022-01-11T12:28:20.570419Z"
    }
   },
   "outputs": [
    {
     "data": {
      "text/html": [
       "<div>\n",
       "<style scoped>\n",
       "    .dataframe tbody tr th:only-of-type {\n",
       "        vertical-align: middle;\n",
       "    }\n",
       "\n",
       "    .dataframe tbody tr th {\n",
       "        vertical-align: top;\n",
       "    }\n",
       "\n",
       "    .dataframe thead th {\n",
       "        text-align: right;\n",
       "    }\n",
       "</style>\n",
       "<table border=\"1\" class=\"dataframe\">\n",
       "  <thead>\n",
       "    <tr style=\"text-align: right;\">\n",
       "      <th></th>\n",
       "      <th>SPX</th>\n",
       "      <th>GLD</th>\n",
       "      <th>USO</th>\n",
       "      <th>SLV</th>\n",
       "      <th>EUR/USD</th>\n",
       "    </tr>\n",
       "    <tr>\n",
       "      <th>Year</th>\n",
       "      <th></th>\n",
       "      <th></th>\n",
       "      <th></th>\n",
       "      <th></th>\n",
       "      <th></th>\n",
       "    </tr>\n",
       "  </thead>\n",
       "  <tbody>\n",
       "    <tr>\n",
       "      <th>2008</th>\n",
       "      <td>1208.337274</td>\n",
       "      <td>86.111148</td>\n",
       "      <td>77.528756</td>\n",
       "      <td>14.760708</td>\n",
       "      <td>1.464481</td>\n",
       "    </tr>\n",
       "    <tr>\n",
       "      <th>2009</th>\n",
       "      <td>945.604864</td>\n",
       "      <td>95.834464</td>\n",
       "      <td>34.145446</td>\n",
       "      <td>14.478527</td>\n",
       "      <td>1.393900</td>\n",
       "    </tr>\n",
       "    <tr>\n",
       "      <th>2010</th>\n",
       "      <td>1142.600627</td>\n",
       "      <td>119.966397</td>\n",
       "      <td>36.651847</td>\n",
       "      <td>19.922883</td>\n",
       "      <td>1.330050</td>\n",
       "    </tr>\n",
       "    <tr>\n",
       "      <th>2011</th>\n",
       "      <td>1268.544188</td>\n",
       "      <td>152.591486</td>\n",
       "      <td>37.781486</td>\n",
       "      <td>34.118063</td>\n",
       "      <td>1.389480</td>\n",
       "    </tr>\n",
       "    <tr>\n",
       "      <th>2012</th>\n",
       "      <td>1378.354519</td>\n",
       "      <td>162.151507</td>\n",
       "      <td>35.541598</td>\n",
       "      <td>30.349772</td>\n",
       "      <td>1.287449</td>\n",
       "    </tr>\n",
       "    <tr>\n",
       "      <th>2013</th>\n",
       "      <td>1642.193891</td>\n",
       "      <td>136.853213</td>\n",
       "      <td>35.014751</td>\n",
       "      <td>23.179909</td>\n",
       "      <td>1.329559</td>\n",
       "    </tr>\n",
       "    <tr>\n",
       "      <th>2014</th>\n",
       "      <td>1930.589375</td>\n",
       "      <td>121.721294</td>\n",
       "      <td>33.887277</td>\n",
       "      <td>18.276295</td>\n",
       "      <td>1.327894</td>\n",
       "    </tr>\n",
       "    <tr>\n",
       "      <th>2015</th>\n",
       "      <td>2061.795563</td>\n",
       "      <td>111.165561</td>\n",
       "      <td>16.527623</td>\n",
       "      <td>14.999596</td>\n",
       "      <td>1.109867</td>\n",
       "    </tr>\n",
       "    <tr>\n",
       "      <th>2016</th>\n",
       "      <td>2091.121803</td>\n",
       "      <td>118.780634</td>\n",
       "      <td>10.474525</td>\n",
       "      <td>16.161176</td>\n",
       "      <td>1.105778</td>\n",
       "    </tr>\n",
       "    <tr>\n",
       "      <th>2017</th>\n",
       "      <td>2447.647940</td>\n",
       "      <td>119.546101</td>\n",
       "      <td>10.572798</td>\n",
       "      <td>16.150092</td>\n",
       "      <td>1.127742</td>\n",
       "    </tr>\n",
       "    <tr>\n",
       "      <th>2018</th>\n",
       "      <td>2712.746085</td>\n",
       "      <td>126.017056</td>\n",
       "      <td>12.923860</td>\n",
       "      <td>15.734186</td>\n",
       "      <td>1.224856</td>\n",
       "    </tr>\n",
       "  </tbody>\n",
       "</table>\n",
       "</div>"
      ],
      "text/plain": [
       "              SPX         GLD        USO        SLV   EUR/USD\n",
       "Year                                                         \n",
       "2008  1208.337274   86.111148  77.528756  14.760708  1.464481\n",
       "2009   945.604864   95.834464  34.145446  14.478527  1.393900\n",
       "2010  1142.600627  119.966397  36.651847  19.922883  1.330050\n",
       "2011  1268.544188  152.591486  37.781486  34.118063  1.389480\n",
       "2012  1378.354519  162.151507  35.541598  30.349772  1.287449\n",
       "2013  1642.193891  136.853213  35.014751  23.179909  1.329559\n",
       "2014  1930.589375  121.721294  33.887277  18.276295  1.327894\n",
       "2015  2061.795563  111.165561  16.527623  14.999596  1.109867\n",
       "2016  2091.121803  118.780634  10.474525  16.161176  1.105778\n",
       "2017  2447.647940  119.546101  10.572798  16.150092  1.127742\n",
       "2018  2712.746085  126.017056  12.923860  15.734186  1.224856"
      ]
     },
     "execution_count": 44,
     "metadata": {},
     "output_type": "execute_result"
    }
   ],
   "source": [
    "df.groupby('Year').mean()"
   ]
  },
  {
   "cell_type": "code",
   "execution_count": 45,
   "id": "05d2f422",
   "metadata": {
    "ExecuteTime": {
     "end_time": "2022-01-11T12:28:22.273399Z",
     "start_time": "2022-01-11T12:28:20.863865Z"
    }
   },
   "outputs": [
    {
     "data": {
      "image/png": "[encoded data removed]",
      "text/plain": [
       "<Figure size 720x432 with 1 Axes>"
      ]
     },
     "metadata": {
      "needs_background": "light"
     },
     "output_type": "display_data"
    }
   ],
   "source": [
    "plt.figure(figsize=(10,6))\n",
    "plt.title('Average Gold Prices over the years')\n",
    "sns.barplot(x='Year', y='GLD', data=df);"
   ]
  },
  {
   "cell_type": "code",
   "execution_count": 46,
   "id": "ac7159a8",
   "metadata": {
    "ExecuteTime": {
     "end_time": "2022-01-11T12:28:24.053762Z",
     "start_time": "2022-01-11T12:28:22.277551Z"
    }
   },
   "outputs": [
    {
     "data": {
      "image/png": "[encoded data removed]",
      "text/plain": [
       "<Figure size 720x432 with 1 Axes>"
      ]
     },
     "metadata": {
      "needs_background": "light"
     },
     "output_type": "display_data"
    }
   ],
   "source": [
    "plt.figure(figsize=(10,6))\n",
    "plt.title('Average Silver Prices over the years')\n",
    "sns.barplot(x='Year', y='SLV', data=df);"
   ]
  },
  {
   "cell_type": "code",
   "execution_count": 47,
   "id": "1bd9b280",
   "metadata": {
    "ExecuteTime": {
     "end_time": "2022-01-11T12:28:25.788766Z",
     "start_time": "2022-01-11T12:28:24.059034Z"
    }
   },
   "outputs": [
    {
     "data": {
      "image/png": "[encoded data removed]",
      "text/plain": [
       "<Figure size 720x432 with 1 Axes>"
      ]
     },
     "metadata": {
      "needs_background": "light"
     },
     "output_type": "display_data"
    }
   ],
   "source": [
    "plt.figure(figsize=(10,6))\n",
    "plt.title('EUR price to USD over the years')\n",
    "sns.barplot(x='Year', y='EUR/USD', data=df);"
   ]
  },
  {
   "cell_type": "code",
   "execution_count": 48,
   "id": "9bfd0c99",
   "metadata": {
    "ExecuteTime": {
     "end_time": "2022-01-11T12:28:27.255526Z",
     "start_time": "2022-01-11T12:28:25.795043Z"
    }
   },
   "outputs": [
    {
     "data": {
      "image/png": "[encoded data removed]",
      "text/plain": [
       "<Figure size 720x432 with 1 Axes>"
      ]
     },
     "metadata": {
      "needs_background": "light"
     },
     "output_type": "display_data"
    }
   ],
   "source": [
    "plt.figure(figsize=(10,6))\n",
    "plt.title('Average USO over the years')\n",
    "sns.barplot(x='Year', y='USO', data=df);"
   ]
  },
  {
   "cell_type": "code",
   "execution_count": 49,
   "id": "5839295d",
   "metadata": {
    "ExecuteTime": {
     "end_time": "2022-01-11T12:28:28.497842Z",
     "start_time": "2022-01-11T12:28:27.259574Z"
    }
   },
   "outputs": [
    {
     "data": {
      "image/png": "[encoded data removed]",
      "text/plain": [
       "<Figure size 720x432 with 1 Axes>"
      ]
     },
     "metadata": {
      "needs_background": "light"
     },
     "output_type": "display_data"
    }
   ],
   "source": [
    "plt.figure(figsize=(10,6))\n",
    "plt.title('Average SPX over the years')\n",
    "sns.barplot(x='Year', y='SPX', data=df);"
   ]
  },
  {
   "cell_type": "code",
   "execution_count": 50,
   "id": "811927d3",
   "metadata": {
    "ExecuteTime": {
     "end_time": "2022-01-11T12:28:28.537247Z",
     "start_time": "2022-01-11T12:28:28.502039Z"
    }
   },
   "outputs": [
    {
     "data": {
      "text/html": [
       "<div>\n",
       "<style scoped>\n",
       "    .dataframe tbody tr th:only-of-type {\n",
       "        vertical-align: middle;\n",
       "    }\n",
       "\n",
       "    .dataframe tbody tr th {\n",
       "        vertical-align: top;\n",
       "    }\n",
       "\n",
       "    .dataframe thead th {\n",
       "        text-align: right;\n",
       "    }\n",
       "</style>\n",
       "<table border=\"1\" class=\"dataframe\">\n",
       "  <thead>\n",
       "    <tr style=\"text-align: right;\">\n",
       "      <th></th>\n",
       "      <th>Date</th>\n",
       "      <th>SPX</th>\n",
       "      <th>GLD</th>\n",
       "      <th>USO</th>\n",
       "      <th>SLV</th>\n",
       "      <th>EUR/USD</th>\n",
       "    </tr>\n",
       "  </thead>\n",
       "  <tbody>\n",
       "    <tr>\n",
       "      <th>0</th>\n",
       "      <td>2008-01-02</td>\n",
       "      <td>1447.160034</td>\n",
       "      <td>84.860001</td>\n",
       "      <td>78.470001</td>\n",
       "      <td>15.180</td>\n",
       "      <td>1.471692</td>\n",
       "    </tr>\n",
       "    <tr>\n",
       "      <th>1</th>\n",
       "      <td>2008-01-03</td>\n",
       "      <td>1447.160034</td>\n",
       "      <td>85.570000</td>\n",
       "      <td>78.370003</td>\n",
       "      <td>15.285</td>\n",
       "      <td>1.474491</td>\n",
       "    </tr>\n",
       "    <tr>\n",
       "      <th>2</th>\n",
       "      <td>2008-01-04</td>\n",
       "      <td>1411.630005</td>\n",
       "      <td>85.129997</td>\n",
       "      <td>77.309998</td>\n",
       "      <td>15.167</td>\n",
       "      <td>1.475492</td>\n",
       "    </tr>\n",
       "    <tr>\n",
       "      <th>3</th>\n",
       "      <td>2008-01-07</td>\n",
       "      <td>1416.180054</td>\n",
       "      <td>84.769997</td>\n",
       "      <td>75.500000</td>\n",
       "      <td>15.053</td>\n",
       "      <td>1.468299</td>\n",
       "    </tr>\n",
       "    <tr>\n",
       "      <th>4</th>\n",
       "      <td>2008-01-08</td>\n",
       "      <td>1390.189941</td>\n",
       "      <td>86.779999</td>\n",
       "      <td>76.059998</td>\n",
       "      <td>15.590</td>\n",
       "      <td>1.557099</td>\n",
       "    </tr>\n",
       "  </tbody>\n",
       "</table>\n",
       "</div>"
      ],
      "text/plain": [
       "        Date          SPX        GLD        USO     SLV   EUR/USD\n",
       "0 2008-01-02  1447.160034  84.860001  78.470001  15.180  1.471692\n",
       "1 2008-01-03  1447.160034  85.570000  78.370003  15.285  1.474491\n",
       "2 2008-01-04  1411.630005  85.129997  77.309998  15.167  1.475492\n",
       "3 2008-01-07  1416.180054  84.769997  75.500000  15.053  1.468299\n",
       "4 2008-01-08  1390.189941  86.779999  76.059998  15.590  1.557099"
      ]
     },
     "execution_count": 50,
     "metadata": {},
     "output_type": "execute_result"
    }
   ],
   "source": [
    "df2 = df.copy()\n",
    "df2.drop('Year', axis=1, inplace=True) # don't need the year column \n",
    "df2.head()"
   ]
  },
  {
   "cell_type": "code",
   "execution_count": 51,
   "id": "949e9dc3",
   "metadata": {
    "ExecuteTime": {
     "end_time": "2022-01-11T12:28:29.302840Z",
     "start_time": "2022-01-11T12:28:28.541302Z"
    }
   },
   "outputs": [
    {
     "data": {
      "image/png": "[encoded data removed]",
      "text/plain": [
       "<Figure size 720x432 with 2 Axes>"
      ]
     },
     "metadata": {
      "needs_background": "light"
     },
     "output_type": "display_data"
    }
   ],
   "source": [
    "plt.figure(figsize=(10,6))\n",
    "sns.heatmap(df2.corr(), annot=True);"
   ]
  },
  {
   "cell_type": "markdown",
   "id": "0a1d4c7c",
   "metadata": {},
   "source": [
    "- GLD is highly Postivily correlated with SLV (87%)\n"
   ]
  },
  {
   "cell_type": "code",
   "execution_count": 52,
   "id": "27205ccb",
   "metadata": {
    "ExecuteTime": {
     "end_time": "2022-01-11T12:28:30.008857Z",
     "start_time": "2022-01-11T12:28:29.309185Z"
    }
   },
   "outputs": [
    {
     "name": "stdout",
     "output_type": "stream",
     "text": [
      "Skewness: 0.3341383472692508\n",
      "Kurtosis: -0.2750805233458311\n"
     ]
    },
    {
     "data": {
      "image/png": "[encoded data removed]",
      "text/plain": [
       "<Figure size 432x288 with 1 Axes>"
      ]
     },
     "metadata": {
      "needs_background": "light"
     },
     "output_type": "display_data"
    }
   ],
   "source": [
    "sns.distplot(df['GLD'], color = 'blue')\n",
    "print(f\"Skewness: {df['GLD'].skew()}\")\n",
    "print(f\"Kurtosis: {df['GLD'].kurt()}\");"
   ]
  },
  {
   "cell_type": "markdown",
   "id": "10b6c316",
   "metadata": {},
   "source": [
    "Data is normally distributed Data has low kurtosis tend to lack of outliers and data is a very little skewed to right"
   ]
  },
  {
   "cell_type": "code",
   "execution_count": 53,
   "id": "c5c3efde",
   "metadata": {
    "ExecuteTime": {
     "end_time": "2022-01-11T12:28:30.412865Z",
     "start_time": "2022-01-11T12:28:30.013387Z"
    }
   },
   "outputs": [
    {
     "data": {
      "image/png": "[encoded data removed]",
      "text/plain": [
       "<Figure size 432x288 with 1 Axes>"
      ]
     },
     "metadata": {
      "needs_background": "light"
     },
     "output_type": "display_data"
    }
   ],
   "source": [
    "plt.scatter(df.SLV, df.GLD, c='red') #highly correlated\n",
    "plt.xlabel('SLV')\n",
    "plt.ylabel('GLD')\n",
    "plt.show()"
   ]
  },
  {
   "cell_type": "markdown",
   "id": "a86a9d86",
   "metadata": {},
   "source": [
    "<a id='4'></a>\n",
    "# Assign Feature and Target variable"
   ]
  },
  {
   "cell_type": "code",
   "execution_count": 55,
   "id": "34e57f46",
   "metadata": {
    "ExecuteTime": {
     "end_time": "2022-01-11T12:28:41.666888Z",
     "start_time": "2022-01-11T12:28:41.642711Z"
    }
   },
   "outputs": [
    {
     "data": {
      "text/html": [
       "<div>\n",
       "<style scoped>\n",
       "    .dataframe tbody tr th:only-of-type {\n",
       "        vertical-align: middle;\n",
       "    }\n",
       "\n",
       "    .dataframe tbody tr th {\n",
       "        vertical-align: top;\n",
       "    }\n",
       "\n",
       "    .dataframe thead th {\n",
       "        text-align: right;\n",
       "    }\n",
       "</style>\n",
       "<table border=\"1\" class=\"dataframe\">\n",
       "  <thead>\n",
       "    <tr style=\"text-align: right;\">\n",
       "      <th></th>\n",
       "      <th>SPX</th>\n",
       "      <th>USO</th>\n",
       "      <th>SLV</th>\n",
       "      <th>EUR/USD</th>\n",
       "    </tr>\n",
       "  </thead>\n",
       "  <tbody>\n",
       "    <tr>\n",
       "      <th>0</th>\n",
       "      <td>1447.160034</td>\n",
       "      <td>78.470001</td>\n",
       "      <td>15.180</td>\n",
       "      <td>1.471692</td>\n",
       "    </tr>\n",
       "    <tr>\n",
       "      <th>1</th>\n",
       "      <td>1447.160034</td>\n",
       "      <td>78.370003</td>\n",
       "      <td>15.285</td>\n",
       "      <td>1.474491</td>\n",
       "    </tr>\n",
       "    <tr>\n",
       "      <th>2</th>\n",
       "      <td>1411.630005</td>\n",
       "      <td>77.309998</td>\n",
       "      <td>15.167</td>\n",
       "      <td>1.475492</td>\n",
       "    </tr>\n",
       "    <tr>\n",
       "      <th>3</th>\n",
       "      <td>1416.180054</td>\n",
       "      <td>75.500000</td>\n",
       "      <td>15.053</td>\n",
       "      <td>1.468299</td>\n",
       "    </tr>\n",
       "    <tr>\n",
       "      <th>4</th>\n",
       "      <td>1390.189941</td>\n",
       "      <td>76.059998</td>\n",
       "      <td>15.590</td>\n",
       "      <td>1.557099</td>\n",
       "    </tr>\n",
       "  </tbody>\n",
       "</table>\n",
       "</div>"
      ],
      "text/plain": [
       "           SPX        USO     SLV   EUR/USD\n",
       "0  1447.160034  78.470001  15.180  1.471692\n",
       "1  1447.160034  78.370003  15.285  1.474491\n",
       "2  1411.630005  77.309998  15.167  1.475492\n",
       "3  1416.180054  75.500000  15.053  1.468299\n",
       "4  1390.189941  76.059998  15.590  1.557099"
      ]
     },
     "execution_count": 55,
     "metadata": {},
     "output_type": "execute_result"
    }
   ],
   "source": [
    "X = df2.drop(['GLD', 'Date'], axis=1)\n",
    "y = df2.GLD\n",
    "X.head()"
   ]
  },
  {
   "cell_type": "markdown",
   "id": "8ea4bda1",
   "metadata": {},
   "source": [
    "<a id='5'></a>\n",
    "# Feature Scaling"
   ]
  },
  {
   "cell_type": "code",
   "execution_count": 61,
   "id": "78a89085",
   "metadata": {
    "ExecuteTime": {
     "end_time": "2022-01-11T12:34:23.440850Z",
     "start_time": "2022-01-11T12:34:23.401892Z"
    }
   },
   "outputs": [
    {
     "data": {
      "text/plain": [
       "array([-0.39914541,  2.38880956, -0.6917197 ,  1.42975293])"
      ]
     },
     "execution_count": 61,
     "metadata": {},
     "output_type": "execute_result"
    }
   ],
   "source": [
    "scaler = StandardScaler()\n",
    "X_scale = scaler.fit_transform(X)\n",
    "X_scale[0]"
   ]
  },
  {
   "cell_type": "markdown",
   "id": "ef03d809",
   "metadata": {},
   "source": [
    "<a id='6'></a>\n",
    "# Splitting the data into Training and Testing data"
   ]
  },
  {
   "cell_type": "code",
   "execution_count": 62,
   "id": "e5d20ff7",
   "metadata": {
    "ExecuteTime": {
     "end_time": "2022-01-11T12:34:29.543488Z",
     "start_time": "2022-01-11T12:34:29.529737Z"
    }
   },
   "outputs": [],
   "source": [
    "X_train, X_test, y_train, y_test = train_test_split(X_scale,y, test_size=0.25, random_state=0)"
   ]
  },
  {
   "cell_type": "code",
   "execution_count": 68,
   "id": "f85b433b",
   "metadata": {
    "ExecuteTime": {
     "end_time": "2022-01-11T12:35:58.822605Z",
     "start_time": "2022-01-11T12:35:58.807922Z"
    }
   },
   "outputs": [
    {
     "name": "stdout",
     "output_type": "stream",
     "text": [
      "Number of Training dataset: 1717\n",
      "Number of Testing dataset: 573\n"
     ]
    }
   ],
   "source": [
    "print(f\"Number of Training dataset: {len(X_train)}\\nNumber of Testing dataset: {len(X_test)}\")"
   ]
  },
  {
   "cell_type": "markdown",
   "id": "eebe7d18",
   "metadata": {},
   "source": [
    "<a id='7'></a>\n",
    "# Modeling"
   ]
  },
  {
   "cell_type": "code",
   "execution_count": 72,
   "id": "cf9fb9df",
   "metadata": {
    "ExecuteTime": {
     "end_time": "2022-01-11T12:40:23.176719Z",
     "start_time": "2022-01-11T12:40:23.168192Z"
    }
   },
   "outputs": [],
   "source": [
    "def train(model, model_name):\n",
    "    model.fit(X_train, y_train)\n",
    "    model_train_score = model.score(X_train, y_train)\n",
    "    model_test_score = model.score(X_test, y_test)\n",
    "    print(f\"{model_name} model score on Training data: {model_train_score * 100}%\\n{model_name} model score on Testing data: {model_test_score * 100}%\")\n",
    "\n",
    "def r2(model, model_name):\n",
    "    score = r2_score(y_test, model.predict(X_test))\n",
    "    print(f\"R2 Score for {model_name} is {score * 100}%\")"
   ]
  },
  {
   "cell_type": "markdown",
   "id": "b516b015",
   "metadata": {
    "ExecuteTime": {
     "end_time": "2022-01-11T12:34:33.254417Z",
     "start_time": "2022-01-11T12:34:32.013665Z"
    }
   },
   "source": [
    "<a id='7.1'></a>\n",
    "## Random Forest Regressor"
   ]
  },
  {
   "cell_type": "code",
   "execution_count": 73,
   "id": "35c8c03b",
   "metadata": {
    "ExecuteTime": {
     "end_time": "2022-01-11T12:40:32.189817Z",
     "start_time": "2022-01-11T12:40:30.917357Z"
    }
   },
   "outputs": [
    {
     "name": "stdout",
     "output_type": "stream",
     "text": [
      "Random Forest model score on Training data: 99.83871918939656%\n",
      "Random Forest model score on Testing data: 99.13186628837335%\n",
      "R2 Score for Random Forest is 99.13186628837335%\n"
     ]
    }
   ],
   "source": [
    "rf_model = RandomForestRegressor()\n",
    "train(rf_model, \"Random Forest\")\n",
    "r2(rf_model, \"Random Forest\")"
   ]
  },
  {
   "cell_type": "markdown",
   "id": "7132c070",
   "metadata": {},
   "source": [
    "<a id='7.2'></a>\n",
    "## Gradient Boosting"
   ]
  },
  {
   "cell_type": "code",
   "execution_count": 75,
   "id": "67a65bc5",
   "metadata": {
    "ExecuteTime": {
     "end_time": "2022-01-11T12:40:52.812881Z",
     "start_time": "2022-01-11T12:40:52.313677Z"
    }
   },
   "outputs": [
    {
     "name": "stdout",
     "output_type": "stream",
     "text": [
      "Gradient Boosting model score on Training data: 98.74244336209985%\n",
      "Gradient Boosting model score on Testing data: 98.41307413525743%\n",
      "R2 Score for Gradient Boosting is 98.41307413525743%\n"
     ]
    }
   ],
   "source": [
    "gbr = GradientBoostingRegressor()\n",
    "train(gbr, \"Gradient Boosting\")\n",
    "r2(gbr, \"Gradient Boosting\")"
   ]
  },
  {
   "cell_type": "markdown",
   "id": "c9a92ad6",
   "metadata": {},
   "source": [
    "<a id='7.3'></a>\n",
    "## Bagging "
   ]
  },
  {
   "cell_type": "code",
   "execution_count": 76,
   "id": "3d655340",
   "metadata": {
    "ExecuteTime": {
     "end_time": "2022-01-11T12:41:04.391809Z",
     "start_time": "2022-01-11T12:41:04.231967Z"
    }
   },
   "outputs": [
    {
     "name": "stdout",
     "output_type": "stream",
     "text": [
      "Bagging model score on Training data: 99.74961320372863%\n",
      "Bagging model score on Testing data: 99.08847988441947%\n",
      "R2 Score for Bagging is 99.08847988441947%\n"
     ]
    }
   ],
   "source": [
    "br = BaggingRegressor()\n",
    "train(br, \"Bagging\")\n",
    "r2(br, \"Bagging\")"
   ]
  },
  {
   "cell_type": "markdown",
   "id": "86e28490",
   "metadata": {},
   "source": [
    "<a id='7.4'></a>\n",
    "## Linear Regression"
   ]
  },
  {
   "cell_type": "code",
   "execution_count": 77,
   "id": "2bd20bcf",
   "metadata": {
    "ExecuteTime": {
     "end_time": "2022-01-11T12:41:28.539321Z",
     "start_time": "2022-01-11T12:41:28.482538Z"
    }
   },
   "outputs": [
    {
     "name": "stdout",
     "output_type": "stream",
     "text": [
      "Linear Regression model score on Training data: 88.51829349434134%\n",
      "Linear Regression model score on Testing data: 86.90802464545342%\n",
      "R2 Score for Linear Regression is 86.90802464545342%\n"
     ]
    }
   ],
   "source": [
    "lr = LinearRegression()\n",
    "train(lr, \"Linear Regression\")\n",
    "r2(lr, \"Linear Regression\")"
   ]
  },
  {
   "cell_type": "markdown",
   "id": "50727505",
   "metadata": {},
   "source": [
    "<a id='7.5'></a>\n",
    "## SVR "
   ]
  },
  {
   "cell_type": "code",
   "execution_count": 100,
   "id": "ee2802c7",
   "metadata": {
    "ExecuteTime": {
     "end_time": "2022-01-11T12:45:06.285466Z",
     "start_time": "2022-01-11T12:44:00.391059Z"
    }
   },
   "outputs": [
    {
     "name": "stdout",
     "output_type": "stream",
     "text": [
      "SVR model score on Training data: 98.53260106917018%\n",
      "SVR model score on Testing data: 98.4462700839728%\n",
      "R2 Score for SVR is 98.4462700839728%\n"
     ]
    }
   ],
   "source": [
    "svr = SVR(kernel='rbf', gamma='auto', C=50000)\n",
    "train(svr, \"SVR\")\n",
    "r2(svr, \"SVR\")"
   ]
  },
  {
   "cell_type": "markdown",
   "id": "29443f98",
   "metadata": {},
   "source": [
    "<a id='7.6'></a>\n",
    "## Decision Tree"
   ]
  },
  {
   "cell_type": "code",
   "execution_count": 101,
   "id": "396ad9d2",
   "metadata": {
    "ExecuteTime": {
     "end_time": "2022-01-11T12:45:06.333194Z",
     "start_time": "2022-01-11T12:45:06.300183Z"
    }
   },
   "outputs": [
    {
     "name": "stdout",
     "output_type": "stream",
     "text": [
      "Decision Tree model score on Training data: 100.0%\n",
      "Decision Tree model score on Testing data: 98.51877072727895%\n",
      "R2 Score for Decision Tree is 98.51877072727895%\n"
     ]
    }
   ],
   "source": [
    "dtr = DecisionTreeRegressor()\n",
    "train(dtr, \"Decision Tree\")\n",
    "r2(dtr, \"Decision Tree\")"
   ]
  },
  {
   "cell_type": "markdown",
   "id": "44b42ea8",
   "metadata": {},
   "source": [
    "<a id='7.7'></a>\n",
    "## Xgboost"
   ]
  },
  {
   "cell_type": "code",
   "execution_count": 103,
   "id": "cc5b214b",
   "metadata": {
    "ExecuteTime": {
     "end_time": "2022-01-11T12:45:29.106428Z",
     "start_time": "2022-01-11T12:45:28.231743Z"
    }
   },
   "outputs": [
    {
     "name": "stdout",
     "output_type": "stream",
     "text": [
      "XGBoost model score on Training data: 99.95281548793471%\n",
      "XGBoost model score on Testing data: 99.01786838510532%\n",
      "R2 Score for XGBoost is 99.01786838510532%\n"
     ]
    }
   ],
   "source": [
    "xgboost = XGBRegressor()\n",
    "train(xgboost, \"XGBoost\")\n",
    "r2(xgboost, \"XGBoost\")"
   ]
  }
 ],
 "metadata": {
  "kernelspec": {
   "display_name": "Python 3",
   "language": "python",
   "name": "python3"
  },
  "language_info": {
   "codemirror_mode": {
    "name": "ipython",
    "version": 3
   },
   "file_extension": ".py",
   "mimetype": "text/x-python",
   "name": "python",
   "nbconvert_exporter": "python",
   "pygments_lexer": "ipython3",
   "version": "3.8.8"
  },
  "toc": {
   "base_numbering": 1,
   "nav_menu": {},
   "number_sections": true,
   "sideBar": true,
   "skip_h1_title": false,
   "title_cell": "Table of Contents",
   "title_sidebar": "Contents",
   "toc_cell": false,
   "toc_position": {},
   "toc_section_display": true,
   "toc_window_display": false
  }
 },
 "nbformat": 4,
 "nbformat_minor": 5
}
