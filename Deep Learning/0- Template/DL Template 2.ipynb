{
 "cells": [
  {
   "cell_type": "markdown",
   "id": "6c225a89",
   "metadata": {},
   "source": [
    "# Steps of the Notebook\n",
    "<a id=\"toc\"></a>\n",
    "- [1. Import Libraries](#1)\n",
    "- [2. Provide the data path and class names](#2)\n",
    "- [3. Adjust Diminsions of the Images](#3)\n",
    "- [4. Initiliaze Training dataset](#4)\n",
    "- [5. Initiliaze Testing dataset](#5)\n",
    "- [6. Adjust Early Stop](#6)\n",
    "- [7. Adjust ANN and it's Parameters](#7)\n",
    "    - [7.1 Plot Loss Curve ANN](#7.1)\n",
    "    - [7.2 Plot Accuarcy Curve ANN](#7.2)\n",
    "- [8. Adjust CNN and it's Parameters](#8)\n",
    "    - [8.1 Plot Loss Curve CNN](#8.1)\n",
    "    - [8.2 Plot Accuarcy Curve CNN](#8.2)"
   ]
  },
  {
   "cell_type": "markdown",
   "id": "7faeaa62",
   "metadata": {},
   "source": [
    "<a id='1'></a>\n",
    "# Import Libraries"
   ]
  },
  {
   "cell_type": "code",
   "execution_count": 3,
   "id": "4cf5a7b5",
   "metadata": {
    "ExecuteTime": {
     "end_time": "2022-02-08T12:35:57.444565Z",
     "start_time": "2022-02-08T12:35:57.437569Z"
    }
   },
   "outputs": [],
   "source": [
    "from matplotlib import pyplot as plt\n",
    "\n",
    "import tensorflow as tf\n",
    "from tensorflow import keras\n",
    "from keras.models import Sequential\n",
    "from keras.layers import Conv2D, MaxPooling2D, Activation, Flatten, Dropout, Dense, BatchNormalization\n",
    "from tensorflow.keras.optimizers import Adam\n",
    "from tensorflow.keras import callbacks"
   ]
  },
  {
   "cell_type": "markdown",
   "id": "1fa78f3c",
   "metadata": {},
   "source": [
    "<a id='2'></a>\n",
    "# Provide the data path and class names"
   ]
  },
  {
   "cell_type": "code",
   "execution_count": null,
   "id": "e6c84d07",
   "metadata": {},
   "outputs": [],
   "source": [
    "data_path = ''\n",
    "CLASS_NAMES = []"
   ]
  },
  {
   "cell_type": "markdown",
   "id": "f5c9316a",
   "metadata": {},
   "source": [
    "<a id='3'></a>\n",
    "# Adjust the diminsions of the images"
   ]
  },
  {
   "cell_type": "code",
   "execution_count": 5,
   "id": "a46767ac",
   "metadata": {
    "ExecuteTime": {
     "end_time": "2022-02-08T12:44:47.801367Z",
     "start_time": "2022-02-08T12:44:47.787390Z"
    }
   },
   "outputs": [],
   "source": [
    "IMAGE_WIDTH=128\n",
    "IMAGE_HEIGHT=128\n",
    "IMAGE_SIZE=(IMAGE_WIDTH, IMAGE_HEIGHT)\n",
    "IMAGE_CHANNEL=3"
   ]
  },
  {
   "cell_type": "markdown",
   "id": "afbffda4",
   "metadata": {},
   "source": [
    "<a id='4'></a>\n",
    "# Initiliaze Training dataset"
   ]
  },
  {
   "cell_type": "code",
   "execution_count": null,
   "id": "dc331f23",
   "metadata": {},
   "outputs": [],
   "source": [
    "ds_train = tf.keras.preprocessing.image_dataset_from_directory(\n",
    "    data_path,\n",
    "    labels = 'inferred',\n",
    "    label_mode = 'categorical', # int, # binary\n",
    "    class_names = CLASS_NAMES,\n",
    "    color_mode = 'rgb', #grayscale\n",
    "    image_size = IMAGE_SIZE,\n",
    "    shuffle=True,\n",
    "    seed = 123,\n",
    "    validation_split = 0.3,\n",
    "    subset='training'\n",
    ")"
   ]
  },
  {
   "cell_type": "markdown",
   "id": "ebeec018",
   "metadata": {},
   "source": [
    "<a id='5'></a>\n",
    "# Initilaize Validation Data"
   ]
  },
  {
   "cell_type": "code",
   "execution_count": 71,
   "id": "5bd0caa2",
   "metadata": {
    "ExecuteTime": {
     "end_time": "2022-02-08T10:54:47.906698Z",
     "start_time": "2022-02-08T10:54:47.839130Z"
    }
   },
   "outputs": [
    {
     "name": "stdout",
     "output_type": "stream",
     "text": [
      "Found 811 files belonging to 6 classes.\n",
      "Using 243 files for validation.\n"
     ]
    }
   ],
   "source": [
    "ds_validation = tf.keras.preprocessing.image_dataset_from_directory(\n",
    "    data_path,\n",
    "    labels = 'inferred',\n",
    "    label_mode = 'categorical',\n",
    "    class_names = CLASS_NAMES,\n",
    "    color_mode = 'rgb', \n",
    "    image_size = IMAGE_SIZE,\n",
    "    shuffle=True,\n",
    "    seed = 123,\n",
    "    validation_split = 0.3,\n",
    "    subset='validation'\n",
    ")"
   ]
  },
  {
   "cell_type": "markdown",
   "id": "cb0adaa3",
   "metadata": {},
   "source": [
    "<a id='6'></a>\n",
    "# Adjust Early Stop"
   ]
  },
  {
   "cell_type": "code",
   "execution_count": 72,
   "id": "b1929de1",
   "metadata": {
    "ExecuteTime": {
     "end_time": "2022-02-08T10:54:48.877296Z",
     "start_time": "2022-02-08T10:54:48.862337Z"
    }
   },
   "outputs": [],
   "source": [
    "early_stopping = callbacks.EarlyStopping(\n",
    "        patience=10,\n",
    "        min_delta=0,\n",
    "        monitor='val_loss',\n",
    "        restore_best_weights=True,\n",
    "        verbose=0,\n",
    "        mode='min', \n",
    "        baseline=None,\n",
    "    )\n",
    "plateau = callbacks.ReduceLROnPlateau(\n",
    "            monitor='val_loss', \n",
    "            factor=0.2, \n",
    "            patience=4, \n",
    "            verbose=0,\n",
    "            mode='min')"
   ]
  },
  {
   "cell_type": "markdown",
   "id": "abfe2937",
   "metadata": {},
   "source": [
    "<a id='7'></a>\n",
    "# Adjust ANN and it's Parameters"
   ]
  },
  {
   "cell_type": "code",
   "execution_count": null,
   "id": "f36bab35",
   "metadata": {},
   "outputs": [],
   "source": [
    "hidden_layer1 = 512\n",
    "hidden_layer2 = 256\n",
    "hidden_layer3 = 128\n",
    "hidden_layers_activation = 'relu'\n",
    "output_layer_activation = 'softmax'\n",
    "\n",
    "LEARNING_RATE = 0.0005\n",
    "loss_function = 'categorical_crossentropy'\n",
    "ANN_epochs = 1000\n",
    "batch_size = 10\n",
    "\n",
    "ANN_model_checkpoint = callbacks.ModelCheckpoint('ANN_best_model.h5', monitor='val_loss', mode='min', patience = 10 ,save_best_only=True)\n"
   ]
  },
  {
   "cell_type": "code",
   "execution_count": null,
   "id": "b3b58280",
   "metadata": {},
   "outputs": [],
   "source": [
    "def load_model(): \n",
    "    ann_model = Sequential([\n",
    "        Flatten(input_shape=(IMAGE_WIDTH,IMAGE_HEIGHT,IMAGE_CHANNEL)),\n",
    "        Dense(hidden_layer1, activation =hidden_layers_activation),\n",
    "        Dense(hidden_layer2, activation =hidden_layers_activation),\n",
    "        Dense(hidden_layer3, activation =hidden_layers_activation),\n",
    "        Dense(len(CLASS_NAMES), activation=output_layer_activation),\n",
    "    ])\n",
    "    ann_model.compile(\n",
    "        optimizer= Adam(learning_rate=LEARNING_RATE),\n",
    "        loss=loss_function,\n",
    "        metrics=['acc'],\n",
    "    )\n",
    "    return ann_model\n",
    "\n",
    "ann_model = load_model()\n",
    "history_ann = ann_model.fit(  ds_train,\n",
    "                validation_data = (ds_validation),\n",
    "                epochs = ANN_epochs,\n",
    "                callbacks = [early_stopping , plateau, ANN_model_checkpoint],\n",
    "              )"
   ]
  },
  {
   "cell_type": "code",
   "execution_count": null,
   "id": "ec293558",
   "metadata": {},
   "outputs": [],
   "source": [
    "ann_model.evaluate(ds_validation)"
   ]
  },
  {
   "cell_type": "markdown",
   "id": "0132b5ac",
   "metadata": {},
   "source": [
    "<a id='7.1'></a>\n",
    "## ANN Loss Curve"
   ]
  },
  {
   "cell_type": "code",
   "execution_count": null,
   "id": "b8458515",
   "metadata": {},
   "outputs": [],
   "source": [
    "plt.figure(figsize=(11,8))\n",
    "loss_train = history_ann.history['loss']\n",
    "loss_val = history_ann.history['val_loss']\n",
    "epochs = range(1,len(loss_train) + 1)\n",
    "plt.plot(epochs, loss_train, 'g', label='Training loss')\n",
    "plt.plot(epochs, loss_val, 'b', label='validation loss')\n",
    "plt.title('Training and Validation loss')\n",
    "plt.xlabel('Epochs')\n",
    "plt.ylabel('Loss')\n",
    "plt.legend()\n",
    "plt.show()"
   ]
  },
  {
   "cell_type": "markdown",
   "id": "cb8cf6b7",
   "metadata": {},
   "source": [
    "## ANN Accuary Curve"
   ]
  },
  {
   "cell_type": "code",
   "execution_count": null,
   "id": "4b223173",
   "metadata": {},
   "outputs": [],
   "source": [
    "plt.figure(figsize=(11,8))\n",
    "val_train = history_ann.history['acc']\n",
    "val_acc = history_ann.history['val_acc']\n",
    "epochs = range(1,len(val_acc)+1)\n",
    "plt.plot(epochs, val_train, 'g', label='Training acc')\n",
    "plt.plot(epochs, val_acc, 'b', label='validation acc')\n",
    "plt.title('Training and Validation acc')\n",
    "plt.xlabel('Epochs')\n",
    "plt.ylabel('Loss')\n",
    "plt.legend()\n",
    "plt.show()"
   ]
  },
  {
   "cell_type": "markdown",
   "id": "b90feff0",
   "metadata": {},
   "source": [
    "<a id='8'></a>\n",
    "# Adjust CNN and it's Parameters"
   ]
  },
  {
   "cell_type": "code",
   "execution_count": 73,
   "id": "1d4f0b40",
   "metadata": {
    "ExecuteTime": {
     "end_time": "2022-02-08T10:54:49.451813Z",
     "start_time": "2022-02-08T10:54:49.444801Z"
    }
   },
   "outputs": [],
   "source": [
    "filters1 = 8\n",
    "filters2 = 16\n",
    "filters3 = 32\n",
    "\n",
    "kernel_size = (3,3)\n",
    "conv_activation = 'relu'\n",
    "\n",
    "pool_size1 = (5,5)\n",
    "pool_size2 = (3,3)\n",
    "pool_size3 = (2,2)\n",
    "\n",
    "hidden_layer1 = 128\n",
    "hidden_layer2 = 64\n",
    "hidden_layer3 = 32\n",
    "\n",
    "hidden_layer_activation = 'relu'\n",
    "output_layer_activation = 'softmax'\n",
    "\n",
    "LEARNING_RATE = 0.0005\n",
    "loss_function = 'categorical_crossentropy'\n",
    "CNN_epochs = 1000\n",
    "batch_size = 15\n",
    "\n",
    "CNN_model_checkpoint = callbacks.ModelCheckpoint('CNN_best_model.h5', monitor='val_loss', mode='min', patience = 10 ,save_best_only=True)"
   ]
  },
  {
   "cell_type": "code",
   "execution_count": null,
   "id": "3a7a6d37",
   "metadata": {},
   "outputs": [],
   "source": [
    "def load_model():\n",
    "    cnn_model = Sequential([\n",
    "        Conv2D(filters1, kernel_size = kernel_size,input_shape=(IMAGE_WIDTH,IMAGE_HEIGHT,IMAGE_CHANNEL), activation=conv_activation),\n",
    "        MaxPooling2D(pool_size=pool_size2),\n",
    "        Conv2D(filters2, kernel_size = kernel_size, activation=conv_activation),\n",
    "        MaxPooling2D(pool_size=pool_size3),\n",
    "        Conv2D(filters3, kernel_size = kernel_size, activation= conv_activation),\n",
    "        MaxPooling2D(pool_size=pool_size3),\n",
    "        \n",
    "        Flatten(),\n",
    "        \n",
    "        Dense(hidden_layer1, activation =hidden_layer_activation),\n",
    "        Dense(len(CLASS_NAMES), activation=output_layer_activation)    \n",
    "    ])\n",
    "    cnn_model.compile(\n",
    "        Adam(learning_rate=LEARNING_RATE),\n",
    "        loss = loss_function,\n",
    "        metrics = ['acc']\n",
    "    )\n",
    "    return cnn_model\n",
    "\n",
    "\n",
    "\n",
    "cnn_model = load_model()\n",
    "history_cnn = cnn_model.fit(  ds_train,\n",
    "                validation_data = (ds_validation),\n",
    "                epochs = CNN_epochs,\n",
    "                callbacks = [early_stopping , plateau, CNN_model_checkpoint],\n",
    "              )\n"
   ]
  },
  {
   "cell_type": "code",
   "execution_count": null,
   "id": "b9c1d021",
   "metadata": {},
   "outputs": [],
   "source": [
    "ann_model.evaluate(ds_validation)"
   ]
  },
  {
   "cell_type": "markdown",
   "id": "5f31e0fc",
   "metadata": {},
   "source": [
    "<a id='8.1'></a>\n",
    "## CNN Lose Curve"
   ]
  },
  {
   "cell_type": "code",
   "execution_count": null,
   "id": "45e954ca",
   "metadata": {},
   "outputs": [],
   "source": [
    "plt.figure(figsize=(11,8))\n",
    "loss_train = history_cnn.history['loss']\n",
    "loss_val = history_cnn.history['val_loss']\n",
    "epochs = range(1,len(loss_train) + 1)\n",
    "plt.plot(epochs, loss_train, 'g', label='Training loss')\n",
    "plt.plot(epochs, loss_val, 'b', label='validation loss')\n",
    "plt.title('Training and Validation loss')\n",
    "plt.xlabel('Epochs')\n",
    "plt.ylabel('Loss')\n",
    "plt.legend()\n",
    "plt.show()"
   ]
  },
  {
   "cell_type": "markdown",
   "id": "18099d36",
   "metadata": {},
   "source": [
    "<a id='8.2'></a>\n",
    "## CNN Accuarcy Curve"
   ]
  },
  {
   "cell_type": "code",
   "execution_count": null,
   "id": "d9cee97b",
   "metadata": {},
   "outputs": [],
   "source": [
    "plt.figure(figsize=(11,8))\n",
    "acc_train = history_cnn.history['acc']\n",
    "acc_val = history_cnn.history['val_acc']\n",
    "epochs = range(1,len(acc_train) + 1)\n",
    "plt.plot(epochs, acc_train, 'g', label='Training Accuarcy')\n",
    "plt.plot(epochs, acc_val, 'b', label='validation Accuarcy')\n",
    "plt.title('Training and Validation Accuarcy')\n",
    "plt.xlabel('Epochs')\n",
    "plt.ylabel('Loss')\n",
    "plt.legend()\n",
    "plt.show()"
   ]
  }
 ],
 "metadata": {
  "kernelspec": {
   "display_name": "Python 3",
   "language": "python",
   "name": "python3"
  },
  "language_info": {
   "codemirror_mode": {
    "name": "ipython",
    "version": 3
   },
   "file_extension": ".py",
   "mimetype": "text/x-python",
   "name": "python",
   "nbconvert_exporter": "python",
   "pygments_lexer": "ipython3",
   "version": "3.8.8"
  },
  "toc": {
   "base_numbering": 1,
   "nav_menu": {},
   "number_sections": true,
   "sideBar": true,
   "skip_h1_title": false,
   "title_cell": "Table of Contents",
   "title_sidebar": "Contents",
   "toc_cell": false,
   "toc_position": {},
   "toc_section_display": true,
   "toc_window_display": false
  }
 },
 "nbformat": 4,
 "nbformat_minor": 5
}
