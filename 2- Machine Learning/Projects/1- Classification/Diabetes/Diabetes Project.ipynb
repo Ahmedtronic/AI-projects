{
 "cells": [
  {
   "cell_type": "markdown",
   "id": "90f46f7e",
   "metadata": {},
   "source": [
    "# Table of Contents\n",
    "<a id=\"toc\"></a>\n",
    "- [1. Project Description](#1)\n",
    "- [2. Import Necssaries Libraries](#2)\n",
    "- [3. Data Preprocessing](#3)\n",
    "    - [3.1 Shape of the data](#3.1)\n",
    "    - [3.2 Detect Outliers with IQR score rule](#3.2)\n",
    "- [4. EDA and Feature Engineering](#4)\n",
    "    - [4.1 One hot encoder](#4.1)\n",
    "- [5. Assigning Feature and target variables](#5)\n",
    "- [6. Feature Scaling](#6)\n",
    "- [7. Spliting the data into Training and Testing Data](#7)\n",
    "- [8. Modeling](#8)\n",
    "    - [8.1 Logistic Regression](#8.1)\n",
    "    - [8.2 Random Forest](#8.2)\n",
    "    - [8.3 KNN](#8.3)\n",
    "    - [8.4 Bagging](#8.4)\n",
    "    - [8.5 Gradient Boosting](#8.5)\n",
    "    - [8.6 Decision Tree](#8.6)\n",
    "    - [8.7 SVM](#8.7)\n",
    "- [9. TP, TN, FP, FN](#9)\n",
    "    - [9.1 Logistic Regression](#9.1)\n",
    "    - [9.2 Random Forest](#9.2)\n",
    "    - [9.3 KNN](#9.3)\n",
    "    - [9.4 Bagging](#9.4)\n",
    "    - [9.5 Gradient Boosting](#9.5)\n",
    "    - [9.6 Decision Tree](#9.6)\n",
    "    - [9.7 SVM](#9.7)\n",
    "- [10. Auto ML](#10)"
   ]
  },
  {
   "cell_type": "markdown",
   "id": "c4cbd28d",
   "metadata": {},
   "source": [
    "<a id='1'></a>\n",
    "# Project Description\n",
    "\n",
    "Diabetes mellitus is characterized as a chronic disease may cause many complications. The machine learning algorithms are used to diagnosis and predict the diabetes. The learning based algorithms plays a vital role on supporting decision making in disease diagnosis and prediction. In this paper, traditional classification algorithms based machine learning are investigated for the diabetes dataset."
   ]
  },
  {
   "cell_type": "markdown",
   "id": "d0c35283",
   "metadata": {},
   "source": [
    "<a id='2'></a>\n",
    "# Import Necssaries Librarie"
   ]
  },
  {
   "cell_type": "code",
   "execution_count": 65,
   "id": "ece83361",
   "metadata": {
    "ExecuteTime": {
     "end_time": "2022-01-09T11:18:19.080804Z",
     "start_time": "2022-01-09T11:18:19.059200Z"
    }
   },
   "outputs": [],
   "source": [
    "import numpy as np\n",
    "import pandas as pd\n",
    "from matplotlib import pyplot as plt\n",
    "%matplotlib inline\n",
    "import seaborn as sns\n",
    "\n",
    "from sklearn.model_selection import train_test_split, cross_val_score\n",
    "from sklearn.preprocessing import LabelEncoder, StandardScaler\n",
    "from sklearn.metrics import  confusion_matrix, classification_report, roc_curve, auc, RocCurveDisplay\n",
    "from sklearn.linear_model import LogisticRegression\n",
    "from sklearn.ensemble import RandomForestClassifier, BaggingClassifier, GradientBoostingClassifier\n",
    "from sklearn.tree import DecisionTreeClassifier\n",
    "from sklearn.neighbors import KNeighborsClassifier\n",
    "from sklearn.svm import SVC\n",
    "from xgboost import XGBClassifier\n",
    "from tpot import TPOTClassifier\n",
    "\n",
    "import warnings\n",
    "warnings.filterwarnings(\"ignore\")"
   ]
  },
  {
   "cell_type": "markdown",
   "id": "903b6db9",
   "metadata": {},
   "source": [
    "<a id=\"3\"></a>\n",
    "# Data Preprocessing"
   ]
  },
  {
   "cell_type": "code",
   "execution_count": 3,
   "id": "b5662f84",
   "metadata": {
    "ExecuteTime": {
     "end_time": "2022-01-09T11:08:44.252194Z",
     "start_time": "2022-01-09T11:08:43.880615Z"
    }
   },
   "outputs": [
    {
     "data": {
      "text/html": [
       "<div>\n",
       "<style scoped>\n",
       "    .dataframe tbody tr th:only-of-type {\n",
       "        vertical-align: middle;\n",
       "    }\n",
       "\n",
       "    .dataframe tbody tr th {\n",
       "        vertical-align: top;\n",
       "    }\n",
       "\n",
       "    .dataframe thead th {\n",
       "        text-align: right;\n",
       "    }\n",
       "</style>\n",
       "<table border=\"1\" class=\"dataframe\">\n",
       "  <thead>\n",
       "    <tr style=\"text-align: right;\">\n",
       "      <th></th>\n",
       "      <th>Pregnancies</th>\n",
       "      <th>Glucose</th>\n",
       "      <th>BloodPressure</th>\n",
       "      <th>SkinThickness</th>\n",
       "      <th>Insulin</th>\n",
       "      <th>BMI</th>\n",
       "      <th>DiabetesPedigreeFunction</th>\n",
       "      <th>Age</th>\n",
       "      <th>Outcome</th>\n",
       "    </tr>\n",
       "  </thead>\n",
       "  <tbody>\n",
       "    <tr>\n",
       "      <th>0</th>\n",
       "      <td>6</td>\n",
       "      <td>148</td>\n",
       "      <td>72</td>\n",
       "      <td>35</td>\n",
       "      <td>0</td>\n",
       "      <td>33.6</td>\n",
       "      <td>0.627</td>\n",
       "      <td>50</td>\n",
       "      <td>1</td>\n",
       "    </tr>\n",
       "    <tr>\n",
       "      <th>1</th>\n",
       "      <td>1</td>\n",
       "      <td>85</td>\n",
       "      <td>66</td>\n",
       "      <td>29</td>\n",
       "      <td>0</td>\n",
       "      <td>26.6</td>\n",
       "      <td>0.351</td>\n",
       "      <td>31</td>\n",
       "      <td>0</td>\n",
       "    </tr>\n",
       "    <tr>\n",
       "      <th>2</th>\n",
       "      <td>8</td>\n",
       "      <td>183</td>\n",
       "      <td>64</td>\n",
       "      <td>0</td>\n",
       "      <td>0</td>\n",
       "      <td>23.3</td>\n",
       "      <td>0.672</td>\n",
       "      <td>32</td>\n",
       "      <td>1</td>\n",
       "    </tr>\n",
       "    <tr>\n",
       "      <th>3</th>\n",
       "      <td>1</td>\n",
       "      <td>89</td>\n",
       "      <td>66</td>\n",
       "      <td>23</td>\n",
       "      <td>94</td>\n",
       "      <td>28.1</td>\n",
       "      <td>0.167</td>\n",
       "      <td>21</td>\n",
       "      <td>0</td>\n",
       "    </tr>\n",
       "    <tr>\n",
       "      <th>4</th>\n",
       "      <td>0</td>\n",
       "      <td>137</td>\n",
       "      <td>40</td>\n",
       "      <td>35</td>\n",
       "      <td>168</td>\n",
       "      <td>43.1</td>\n",
       "      <td>2.288</td>\n",
       "      <td>33</td>\n",
       "      <td>1</td>\n",
       "    </tr>\n",
       "  </tbody>\n",
       "</table>\n",
       "</div>"
      ],
      "text/plain": [
       "   Pregnancies  Glucose  BloodPressure  SkinThickness  Insulin   BMI  \\\n",
       "0            6      148             72             35        0  33.6   \n",
       "1            1       85             66             29        0  26.6   \n",
       "2            8      183             64              0        0  23.3   \n",
       "3            1       89             66             23       94  28.1   \n",
       "4            0      137             40             35      168  43.1   \n",
       "\n",
       "   DiabetesPedigreeFunction  Age  Outcome  \n",
       "0                     0.627   50        1  \n",
       "1                     0.351   31        0  \n",
       "2                     0.672   32        1  \n",
       "3                     0.167   21        0  \n",
       "4                     2.288   33        1  "
      ]
     },
     "execution_count": 3,
     "metadata": {},
     "output_type": "execute_result"
    }
   ],
   "source": [
    "#read and load the data\n",
    "df = pd.read_csv('diabetes.csv')\n",
    "df.head()"
   ]
  },
  {
   "cell_type": "markdown",
   "id": "62f5c4b0",
   "metadata": {},
   "source": [
    "<a id='3.1'></a>\n",
    "***shape of the data***"
   ]
  },
  {
   "cell_type": "code",
   "execution_count": 4,
   "id": "0bcd5349",
   "metadata": {
    "ExecuteTime": {
     "end_time": "2022-01-09T11:08:45.292398Z",
     "start_time": "2022-01-09T11:08:45.268480Z"
    }
   },
   "outputs": [
    {
     "data": {
      "text/plain": [
       "(768, 9)"
      ]
     },
     "execution_count": 4,
     "metadata": {},
     "output_type": "execute_result"
    }
   ],
   "source": [
    "#number of rows and columns of the data\n",
    "df.shape # (768 rows and 9 columns)"
   ]
  },
  {
   "cell_type": "code",
   "execution_count": 5,
   "id": "77fcfadc",
   "metadata": {
    "ExecuteTime": {
     "end_time": "2022-01-09T11:08:45.943795Z",
     "start_time": "2022-01-09T11:08:45.907760Z"
    }
   },
   "outputs": [
    {
     "data": {
      "text/html": [
       "<div>\n",
       "<style scoped>\n",
       "    .dataframe tbody tr th:only-of-type {\n",
       "        vertical-align: middle;\n",
       "    }\n",
       "\n",
       "    .dataframe tbody tr th {\n",
       "        vertical-align: top;\n",
       "    }\n",
       "\n",
       "    .dataframe thead th {\n",
       "        text-align: right;\n",
       "    }\n",
       "</style>\n",
       "<table border=\"1\" class=\"dataframe\">\n",
       "  <thead>\n",
       "    <tr style=\"text-align: right;\">\n",
       "      <th></th>\n",
       "      <th>Pregnancies</th>\n",
       "      <th>Glucose</th>\n",
       "      <th>BloodPressure</th>\n",
       "      <th>SkinThickness</th>\n",
       "      <th>Insulin</th>\n",
       "      <th>BMI</th>\n",
       "      <th>DiabetesPedigreeFunction</th>\n",
       "      <th>Age</th>\n",
       "      <th>Outcome</th>\n",
       "    </tr>\n",
       "  </thead>\n",
       "  <tbody>\n",
       "    <tr>\n",
       "      <th>763</th>\n",
       "      <td>10</td>\n",
       "      <td>101</td>\n",
       "      <td>76</td>\n",
       "      <td>48</td>\n",
       "      <td>180</td>\n",
       "      <td>32.9</td>\n",
       "      <td>0.171</td>\n",
       "      <td>63</td>\n",
       "      <td>0</td>\n",
       "    </tr>\n",
       "    <tr>\n",
       "      <th>764</th>\n",
       "      <td>2</td>\n",
       "      <td>122</td>\n",
       "      <td>70</td>\n",
       "      <td>27</td>\n",
       "      <td>0</td>\n",
       "      <td>36.8</td>\n",
       "      <td>0.340</td>\n",
       "      <td>27</td>\n",
       "      <td>0</td>\n",
       "    </tr>\n",
       "    <tr>\n",
       "      <th>765</th>\n",
       "      <td>5</td>\n",
       "      <td>121</td>\n",
       "      <td>72</td>\n",
       "      <td>23</td>\n",
       "      <td>112</td>\n",
       "      <td>26.2</td>\n",
       "      <td>0.245</td>\n",
       "      <td>30</td>\n",
       "      <td>0</td>\n",
       "    </tr>\n",
       "    <tr>\n",
       "      <th>766</th>\n",
       "      <td>1</td>\n",
       "      <td>126</td>\n",
       "      <td>60</td>\n",
       "      <td>0</td>\n",
       "      <td>0</td>\n",
       "      <td>30.1</td>\n",
       "      <td>0.349</td>\n",
       "      <td>47</td>\n",
       "      <td>1</td>\n",
       "    </tr>\n",
       "    <tr>\n",
       "      <th>767</th>\n",
       "      <td>1</td>\n",
       "      <td>93</td>\n",
       "      <td>70</td>\n",
       "      <td>31</td>\n",
       "      <td>0</td>\n",
       "      <td>30.4</td>\n",
       "      <td>0.315</td>\n",
       "      <td>23</td>\n",
       "      <td>0</td>\n",
       "    </tr>\n",
       "  </tbody>\n",
       "</table>\n",
       "</div>"
      ],
      "text/plain": [
       "     Pregnancies  Glucose  BloodPressure  SkinThickness  Insulin   BMI  \\\n",
       "763           10      101             76             48      180  32.9   \n",
       "764            2      122             70             27        0  36.8   \n",
       "765            5      121             72             23      112  26.2   \n",
       "766            1      126             60              0        0  30.1   \n",
       "767            1       93             70             31        0  30.4   \n",
       "\n",
       "     DiabetesPedigreeFunction  Age  Outcome  \n",
       "763                     0.171   63        0  \n",
       "764                     0.340   27        0  \n",
       "765                     0.245   30        0  \n",
       "766                     0.349   47        1  \n",
       "767                     0.315   23        0  "
      ]
     },
     "execution_count": 5,
     "metadata": {},
     "output_type": "execute_result"
    }
   ],
   "source": [
    "df.tail()"
   ]
  },
  {
   "cell_type": "code",
   "execution_count": 6,
   "id": "e2d2c7db",
   "metadata": {
    "ExecuteTime": {
     "end_time": "2022-01-09T11:08:46.482624Z",
     "start_time": "2022-01-09T11:08:46.446148Z"
    }
   },
   "outputs": [
    {
     "name": "stdout",
     "output_type": "stream",
     "text": [
      "<class 'pandas.core.frame.DataFrame'>\n",
      "RangeIndex: 768 entries, 0 to 767\n",
      "Data columns (total 9 columns):\n",
      " #   Column                    Non-Null Count  Dtype  \n",
      "---  ------                    --------------  -----  \n",
      " 0   Pregnancies               768 non-null    int64  \n",
      " 1   Glucose                   768 non-null    int64  \n",
      " 2   BloodPressure             768 non-null    int64  \n",
      " 3   SkinThickness             768 non-null    int64  \n",
      " 4   Insulin                   768 non-null    int64  \n",
      " 5   BMI                       768 non-null    float64\n",
      " 6   DiabetesPedigreeFunction  768 non-null    float64\n",
      " 7   Age                       768 non-null    int64  \n",
      " 8   Outcome                   768 non-null    int64  \n",
      "dtypes: float64(2), int64(7)\n",
      "memory usage: 54.1 KB\n"
     ]
    }
   ],
   "source": [
    "df.info()"
   ]
  },
  {
   "cell_type": "code",
   "execution_count": 7,
   "id": "ae52a6a8",
   "metadata": {
    "ExecuteTime": {
     "end_time": "2022-01-09T11:08:47.073954Z",
     "start_time": "2022-01-09T11:08:46.995507Z"
    }
   },
   "outputs": [
    {
     "data": {
      "text/html": [
       "<div>\n",
       "<style scoped>\n",
       "    .dataframe tbody tr th:only-of-type {\n",
       "        vertical-align: middle;\n",
       "    }\n",
       "\n",
       "    .dataframe tbody tr th {\n",
       "        vertical-align: top;\n",
       "    }\n",
       "\n",
       "    .dataframe thead th {\n",
       "        text-align: right;\n",
       "    }\n",
       "</style>\n",
       "<table border=\"1\" class=\"dataframe\">\n",
       "  <thead>\n",
       "    <tr style=\"text-align: right;\">\n",
       "      <th></th>\n",
       "      <th>Pregnancies</th>\n",
       "      <th>Glucose</th>\n",
       "      <th>BloodPressure</th>\n",
       "      <th>SkinThickness</th>\n",
       "      <th>Insulin</th>\n",
       "      <th>BMI</th>\n",
       "      <th>DiabetesPedigreeFunction</th>\n",
       "      <th>Age</th>\n",
       "      <th>Outcome</th>\n",
       "    </tr>\n",
       "  </thead>\n",
       "  <tbody>\n",
       "    <tr>\n",
       "      <th>count</th>\n",
       "      <td>768.000000</td>\n",
       "      <td>768.000000</td>\n",
       "      <td>768.000000</td>\n",
       "      <td>768.000000</td>\n",
       "      <td>768.000000</td>\n",
       "      <td>768.000000</td>\n",
       "      <td>768.000000</td>\n",
       "      <td>768.000000</td>\n",
       "      <td>768.000000</td>\n",
       "    </tr>\n",
       "    <tr>\n",
       "      <th>mean</th>\n",
       "      <td>3.845052</td>\n",
       "      <td>120.894531</td>\n",
       "      <td>69.105469</td>\n",
       "      <td>20.536458</td>\n",
       "      <td>79.799479</td>\n",
       "      <td>31.992578</td>\n",
       "      <td>0.471876</td>\n",
       "      <td>33.240885</td>\n",
       "      <td>0.348958</td>\n",
       "    </tr>\n",
       "    <tr>\n",
       "      <th>std</th>\n",
       "      <td>3.369578</td>\n",
       "      <td>31.972618</td>\n",
       "      <td>19.355807</td>\n",
       "      <td>15.952218</td>\n",
       "      <td>115.244002</td>\n",
       "      <td>7.884160</td>\n",
       "      <td>0.331329</td>\n",
       "      <td>11.760232</td>\n",
       "      <td>0.476951</td>\n",
       "    </tr>\n",
       "    <tr>\n",
       "      <th>min</th>\n",
       "      <td>0.000000</td>\n",
       "      <td>0.000000</td>\n",
       "      <td>0.000000</td>\n",
       "      <td>0.000000</td>\n",
       "      <td>0.000000</td>\n",
       "      <td>0.000000</td>\n",
       "      <td>0.078000</td>\n",
       "      <td>21.000000</td>\n",
       "      <td>0.000000</td>\n",
       "    </tr>\n",
       "    <tr>\n",
       "      <th>25%</th>\n",
       "      <td>1.000000</td>\n",
       "      <td>99.000000</td>\n",
       "      <td>62.000000</td>\n",
       "      <td>0.000000</td>\n",
       "      <td>0.000000</td>\n",
       "      <td>27.300000</td>\n",
       "      <td>0.243750</td>\n",
       "      <td>24.000000</td>\n",
       "      <td>0.000000</td>\n",
       "    </tr>\n",
       "    <tr>\n",
       "      <th>50%</th>\n",
       "      <td>3.000000</td>\n",
       "      <td>117.000000</td>\n",
       "      <td>72.000000</td>\n",
       "      <td>23.000000</td>\n",
       "      <td>30.500000</td>\n",
       "      <td>32.000000</td>\n",
       "      <td>0.372500</td>\n",
       "      <td>29.000000</td>\n",
       "      <td>0.000000</td>\n",
       "    </tr>\n",
       "    <tr>\n",
       "      <th>75%</th>\n",
       "      <td>6.000000</td>\n",
       "      <td>140.250000</td>\n",
       "      <td>80.000000</td>\n",
       "      <td>32.000000</td>\n",
       "      <td>127.250000</td>\n",
       "      <td>36.600000</td>\n",
       "      <td>0.626250</td>\n",
       "      <td>41.000000</td>\n",
       "      <td>1.000000</td>\n",
       "    </tr>\n",
       "    <tr>\n",
       "      <th>max</th>\n",
       "      <td>17.000000</td>\n",
       "      <td>199.000000</td>\n",
       "      <td>122.000000</td>\n",
       "      <td>99.000000</td>\n",
       "      <td>846.000000</td>\n",
       "      <td>67.100000</td>\n",
       "      <td>2.420000</td>\n",
       "      <td>81.000000</td>\n",
       "      <td>1.000000</td>\n",
       "    </tr>\n",
       "  </tbody>\n",
       "</table>\n",
       "</div>"
      ],
      "text/plain": [
       "       Pregnancies     Glucose  BloodPressure  SkinThickness     Insulin  \\\n",
       "count   768.000000  768.000000     768.000000     768.000000  768.000000   \n",
       "mean      3.845052  120.894531      69.105469      20.536458   79.799479   \n",
       "std       3.369578   31.972618      19.355807      15.952218  115.244002   \n",
       "min       0.000000    0.000000       0.000000       0.000000    0.000000   \n",
       "25%       1.000000   99.000000      62.000000       0.000000    0.000000   \n",
       "50%       3.000000  117.000000      72.000000      23.000000   30.500000   \n",
       "75%       6.000000  140.250000      80.000000      32.000000  127.250000   \n",
       "max      17.000000  199.000000     122.000000      99.000000  846.000000   \n",
       "\n",
       "              BMI  DiabetesPedigreeFunction         Age     Outcome  \n",
       "count  768.000000                768.000000  768.000000  768.000000  \n",
       "mean    31.992578                  0.471876   33.240885    0.348958  \n",
       "std      7.884160                  0.331329   11.760232    0.476951  \n",
       "min      0.000000                  0.078000   21.000000    0.000000  \n",
       "25%     27.300000                  0.243750   24.000000    0.000000  \n",
       "50%     32.000000                  0.372500   29.000000    0.000000  \n",
       "75%     36.600000                  0.626250   41.000000    1.000000  \n",
       "max     67.100000                  2.420000   81.000000    1.000000  "
      ]
     },
     "execution_count": 7,
     "metadata": {},
     "output_type": "execute_result"
    }
   ],
   "source": [
    "df.describe()"
   ]
  },
  {
   "cell_type": "markdown",
   "id": "dfe2221f",
   "metadata": {},
   "source": [
    "- the min value in  5 columns = 0 (Glucose, BloodPressure, Skin Thickness, Insulin, BMI)<br>\n",
    "- In skin Thickness and Insulin Column less than or equal 25% of the data are null values\n",
    "- look at the maximum Insulin Value = 846 wich is too high u will never find a person with this insulin value (outlier)<br>\n",
    "all this an errors in data collection"
   ]
  },
  {
   "cell_type": "code",
   "execution_count": 8,
   "id": "fd0b27fd",
   "metadata": {
    "ExecuteTime": {
     "end_time": "2022-01-09T11:08:48.533204Z",
     "start_time": "2022-01-09T11:08:48.507052Z"
    }
   },
   "outputs": [
    {
     "data": {
      "text/plain": [
       "Pregnancies                 0\n",
       "Glucose                     0\n",
       "BloodPressure               0\n",
       "SkinThickness               0\n",
       "Insulin                     0\n",
       "BMI                         0\n",
       "DiabetesPedigreeFunction    0\n",
       "Age                         0\n",
       "Outcome                     0\n",
       "dtype: int64"
      ]
     },
     "execution_count": 8,
     "metadata": {},
     "output_type": "execute_result"
    }
   ],
   "source": [
    "df.isnull().sum()"
   ]
  },
  {
   "cell_type": "markdown",
   "id": "31db157a",
   "metadata": {},
   "source": [
    "convert those 0's values in these 5 columns to determine how many missing valuesin each feature in our data"
   ]
  },
  {
   "cell_type": "code",
   "execution_count": 9,
   "id": "a999e69a",
   "metadata": {
    "ExecuteTime": {
     "end_time": "2022-01-09T11:08:50.376043Z",
     "start_time": "2022-01-09T11:08:50.352676Z"
    }
   },
   "outputs": [],
   "source": [
    "df[['Glucose','BloodPressure','SkinThickness','Insulin','BMI']] = df[['Glucose','BloodPressure','SkinThickness','Insulin','BMI']].replace(0, np.NaN)"
   ]
  },
  {
   "cell_type": "code",
   "execution_count": 10,
   "id": "d00a5fa3",
   "metadata": {
    "ExecuteTime": {
     "end_time": "2022-01-09T11:08:53.457883Z",
     "start_time": "2022-01-09T11:08:53.440672Z"
    }
   },
   "outputs": [
    {
     "data": {
      "text/plain": [
       "Pregnancies                   0\n",
       "Glucose                       5\n",
       "BloodPressure                35\n",
       "SkinThickness               227\n",
       "Insulin                     374\n",
       "BMI                          11\n",
       "DiabetesPedigreeFunction      0\n",
       "Age                           0\n",
       "Outcome                       0\n",
       "dtype: int64"
      ]
     },
     "execution_count": 10,
     "metadata": {},
     "output_type": "execute_result"
    }
   ],
   "source": [
    "df.isnull().sum()"
   ]
  },
  {
   "cell_type": "code",
   "execution_count": 11,
   "id": "358fa0af",
   "metadata": {
    "ExecuteTime": {
     "end_time": "2022-01-09T11:08:55.809429Z",
     "start_time": "2022-01-09T11:08:54.125973Z"
    }
   },
   "outputs": [
    {
     "data": {
      "image/png": "[encoded data removed]",
      "text/plain": [
       "<Figure size 1800x720 with 3 Axes>"
      ]
     },
     "metadata": {
      "needs_background": "light"
     },
     "output_type": "display_data"
    }
   ],
   "source": [
    "# using missingno library to visualize the data with neglecting the missing values\n",
    "msno.bar(df);"
   ]
  },
  {
   "cell_type": "code",
   "execution_count": 12,
   "id": "0f8116e5",
   "metadata": {
    "ExecuteTime": {
     "end_time": "2022-01-09T11:08:56.544340Z",
     "start_time": "2022-01-09T11:08:56.494291Z"
    }
   },
   "outputs": [
    {
     "data": {
      "text/html": [
       "<div>\n",
       "<style scoped>\n",
       "    .dataframe tbody tr th:only-of-type {\n",
       "        vertical-align: middle;\n",
       "    }\n",
       "\n",
       "    .dataframe tbody tr th {\n",
       "        vertical-align: top;\n",
       "    }\n",
       "\n",
       "    .dataframe thead th {\n",
       "        text-align: right;\n",
       "    }\n",
       "</style>\n",
       "<table border=\"1\" class=\"dataframe\">\n",
       "  <thead>\n",
       "    <tr style=\"text-align: right;\">\n",
       "      <th></th>\n",
       "      <th>Pregnancies</th>\n",
       "      <th>Glucose</th>\n",
       "      <th>BloodPressure</th>\n",
       "      <th>SkinThickness</th>\n",
       "      <th>Insulin</th>\n",
       "      <th>BMI</th>\n",
       "      <th>DiabetesPedigreeFunction</th>\n",
       "      <th>Age</th>\n",
       "      <th>Outcome</th>\n",
       "    </tr>\n",
       "  </thead>\n",
       "  <tbody>\n",
       "    <tr>\n",
       "      <th>0</th>\n",
       "      <td>6</td>\n",
       "      <td>148.0</td>\n",
       "      <td>72.0</td>\n",
       "      <td>35.0</td>\n",
       "      <td>NaN</td>\n",
       "      <td>33.6</td>\n",
       "      <td>0.627</td>\n",
       "      <td>50</td>\n",
       "      <td>1</td>\n",
       "    </tr>\n",
       "    <tr>\n",
       "      <th>1</th>\n",
       "      <td>1</td>\n",
       "      <td>85.0</td>\n",
       "      <td>66.0</td>\n",
       "      <td>29.0</td>\n",
       "      <td>NaN</td>\n",
       "      <td>26.6</td>\n",
       "      <td>0.351</td>\n",
       "      <td>31</td>\n",
       "      <td>0</td>\n",
       "    </tr>\n",
       "    <tr>\n",
       "      <th>2</th>\n",
       "      <td>8</td>\n",
       "      <td>183.0</td>\n",
       "      <td>64.0</td>\n",
       "      <td>NaN</td>\n",
       "      <td>NaN</td>\n",
       "      <td>23.3</td>\n",
       "      <td>0.672</td>\n",
       "      <td>32</td>\n",
       "      <td>1</td>\n",
       "    </tr>\n",
       "    <tr>\n",
       "      <th>3</th>\n",
       "      <td>1</td>\n",
       "      <td>89.0</td>\n",
       "      <td>66.0</td>\n",
       "      <td>23.0</td>\n",
       "      <td>94.0</td>\n",
       "      <td>28.1</td>\n",
       "      <td>0.167</td>\n",
       "      <td>21</td>\n",
       "      <td>0</td>\n",
       "    </tr>\n",
       "    <tr>\n",
       "      <th>4</th>\n",
       "      <td>0</td>\n",
       "      <td>137.0</td>\n",
       "      <td>40.0</td>\n",
       "      <td>35.0</td>\n",
       "      <td>168.0</td>\n",
       "      <td>43.1</td>\n",
       "      <td>2.288</td>\n",
       "      <td>33</td>\n",
       "      <td>1</td>\n",
       "    </tr>\n",
       "    <tr>\n",
       "      <th>...</th>\n",
       "      <td>...</td>\n",
       "      <td>...</td>\n",
       "      <td>...</td>\n",
       "      <td>...</td>\n",
       "      <td>...</td>\n",
       "      <td>...</td>\n",
       "      <td>...</td>\n",
       "      <td>...</td>\n",
       "      <td>...</td>\n",
       "    </tr>\n",
       "    <tr>\n",
       "      <th>763</th>\n",
       "      <td>10</td>\n",
       "      <td>101.0</td>\n",
       "      <td>76.0</td>\n",
       "      <td>48.0</td>\n",
       "      <td>180.0</td>\n",
       "      <td>32.9</td>\n",
       "      <td>0.171</td>\n",
       "      <td>63</td>\n",
       "      <td>0</td>\n",
       "    </tr>\n",
       "    <tr>\n",
       "      <th>764</th>\n",
       "      <td>2</td>\n",
       "      <td>122.0</td>\n",
       "      <td>70.0</td>\n",
       "      <td>27.0</td>\n",
       "      <td>NaN</td>\n",
       "      <td>36.8</td>\n",
       "      <td>0.340</td>\n",
       "      <td>27</td>\n",
       "      <td>0</td>\n",
       "    </tr>\n",
       "    <tr>\n",
       "      <th>765</th>\n",
       "      <td>5</td>\n",
       "      <td>121.0</td>\n",
       "      <td>72.0</td>\n",
       "      <td>23.0</td>\n",
       "      <td>112.0</td>\n",
       "      <td>26.2</td>\n",
       "      <td>0.245</td>\n",
       "      <td>30</td>\n",
       "      <td>0</td>\n",
       "    </tr>\n",
       "    <tr>\n",
       "      <th>766</th>\n",
       "      <td>1</td>\n",
       "      <td>126.0</td>\n",
       "      <td>60.0</td>\n",
       "      <td>NaN</td>\n",
       "      <td>NaN</td>\n",
       "      <td>30.1</td>\n",
       "      <td>0.349</td>\n",
       "      <td>47</td>\n",
       "      <td>1</td>\n",
       "    </tr>\n",
       "    <tr>\n",
       "      <th>767</th>\n",
       "      <td>1</td>\n",
       "      <td>93.0</td>\n",
       "      <td>70.0</td>\n",
       "      <td>31.0</td>\n",
       "      <td>NaN</td>\n",
       "      <td>30.4</td>\n",
       "      <td>0.315</td>\n",
       "      <td>23</td>\n",
       "      <td>0</td>\n",
       "    </tr>\n",
       "  </tbody>\n",
       "</table>\n",
       "<p>763 rows × 9 columns</p>\n",
       "</div>"
      ],
      "text/plain": [
       "     Pregnancies  Glucose  BloodPressure  SkinThickness  Insulin   BMI  \\\n",
       "0              6    148.0           72.0           35.0      NaN  33.6   \n",
       "1              1     85.0           66.0           29.0      NaN  26.6   \n",
       "2              8    183.0           64.0            NaN      NaN  23.3   \n",
       "3              1     89.0           66.0           23.0     94.0  28.1   \n",
       "4              0    137.0           40.0           35.0    168.0  43.1   \n",
       "..           ...      ...            ...            ...      ...   ...   \n",
       "763           10    101.0           76.0           48.0    180.0  32.9   \n",
       "764            2    122.0           70.0           27.0      NaN  36.8   \n",
       "765            5    121.0           72.0           23.0    112.0  26.2   \n",
       "766            1    126.0           60.0            NaN      NaN  30.1   \n",
       "767            1     93.0           70.0           31.0      NaN  30.4   \n",
       "\n",
       "     DiabetesPedigreeFunction  Age  Outcome  \n",
       "0                       0.627   50        1  \n",
       "1                       0.351   31        0  \n",
       "2                       0.672   32        1  \n",
       "3                       0.167   21        0  \n",
       "4                       2.288   33        1  \n",
       "..                        ...  ...      ...  \n",
       "763                     0.171   63        0  \n",
       "764                     0.340   27        0  \n",
       "765                     0.245   30        0  \n",
       "766                     0.349   47        1  \n",
       "767                     0.315   23        0  \n",
       "\n",
       "[763 rows x 9 columns]"
      ]
     },
     "execution_count": 12,
     "metadata": {},
     "output_type": "execute_result"
    }
   ],
   "source": [
    "df[df.Glucose.notnull()]"
   ]
  },
  {
   "cell_type": "code",
   "execution_count": 13,
   "id": "cae76739",
   "metadata": {
    "ExecuteTime": {
     "end_time": "2022-01-09T11:08:58.629028Z",
     "start_time": "2022-01-09T11:08:58.594514Z"
    }
   },
   "outputs": [
    {
     "data": {
      "text/html": [
       "<div>\n",
       "<style scoped>\n",
       "    .dataframe tbody tr th:only-of-type {\n",
       "        vertical-align: middle;\n",
       "    }\n",
       "\n",
       "    .dataframe tbody tr th {\n",
       "        vertical-align: top;\n",
       "    }\n",
       "\n",
       "    .dataframe thead th {\n",
       "        text-align: right;\n",
       "    }\n",
       "</style>\n",
       "<table border=\"1\" class=\"dataframe\">\n",
       "  <thead>\n",
       "    <tr style=\"text-align: right;\">\n",
       "      <th></th>\n",
       "      <th>Outcome</th>\n",
       "      <th>Glucose</th>\n",
       "    </tr>\n",
       "  </thead>\n",
       "  <tbody>\n",
       "    <tr>\n",
       "      <th>0</th>\n",
       "      <td>0</td>\n",
       "      <td>107.0</td>\n",
       "    </tr>\n",
       "    <tr>\n",
       "      <th>1</th>\n",
       "      <td>1</td>\n",
       "      <td>140.0</td>\n",
       "    </tr>\n",
       "  </tbody>\n",
       "</table>\n",
       "</div>"
      ],
      "text/plain": [
       "   Outcome  Glucose\n",
       "0        0    107.0\n",
       "1        1    140.0"
      ]
     },
     "execution_count": 13,
     "metadata": {},
     "output_type": "execute_result"
    }
   ],
   "source": [
    "df[['Glucose', 'Outcome']].groupby(['Outcome'])[['Glucose']].median().reset_index()"
   ]
  },
  {
   "cell_type": "code",
   "execution_count": 14,
   "id": "e8c67069",
   "metadata": {
    "ExecuteTime": {
     "end_time": "2022-01-09T11:09:17.658979Z",
     "start_time": "2022-01-09T11:09:17.651710Z"
    }
   },
   "outputs": [],
   "source": [
    "# The missing values will be filled with the median values of each variable.\n",
    "def median_target(var):   \n",
    "    temp = df[df[var].notnull()] # Assign the not NAN values of specific column to the variable temp\n",
    "    temp = temp[[var, 'Outcome']].groupby(['Outcome'])[[var]].median().reset_index() # groupby outcome and calculate the median for each outcome\n",
    "    return temp"
   ]
  },
  {
   "cell_type": "code",
   "execution_count": 15,
   "id": "83a009be",
   "metadata": {
    "ExecuteTime": {
     "end_time": "2022-01-09T11:09:19.008939Z",
     "start_time": "2022-01-09T11:09:18.971033Z"
    }
   },
   "outputs": [
    {
     "data": {
      "text/html": [
       "<div>\n",
       "<style scoped>\n",
       "    .dataframe tbody tr th:only-of-type {\n",
       "        vertical-align: middle;\n",
       "    }\n",
       "\n",
       "    .dataframe tbody tr th {\n",
       "        vertical-align: top;\n",
       "    }\n",
       "\n",
       "    .dataframe thead th {\n",
       "        text-align: right;\n",
       "    }\n",
       "</style>\n",
       "<table border=\"1\" class=\"dataframe\">\n",
       "  <thead>\n",
       "    <tr style=\"text-align: right;\">\n",
       "      <th></th>\n",
       "      <th>Outcome</th>\n",
       "      <th>Glucose</th>\n",
       "    </tr>\n",
       "  </thead>\n",
       "  <tbody>\n",
       "    <tr>\n",
       "      <th>0</th>\n",
       "      <td>0</td>\n",
       "      <td>107.0</td>\n",
       "    </tr>\n",
       "    <tr>\n",
       "      <th>1</th>\n",
       "      <td>1</td>\n",
       "      <td>140.0</td>\n",
       "    </tr>\n",
       "  </tbody>\n",
       "</table>\n",
       "</div>"
      ],
      "text/plain": [
       "   Outcome  Glucose\n",
       "0        0    107.0\n",
       "1        1    140.0"
      ]
     },
     "execution_count": 15,
     "metadata": {},
     "output_type": "execute_result"
    }
   ],
   "source": [
    "median_target('Glucose')"
   ]
  },
  {
   "cell_type": "code",
   "execution_count": 16,
   "id": "16bb25cc",
   "metadata": {
    "ExecuteTime": {
     "end_time": "2022-01-09T11:09:19.866231Z",
     "start_time": "2022-01-09T11:09:19.840320Z"
    }
   },
   "outputs": [
    {
     "data": {
      "text/html": [
       "<div>\n",
       "<style scoped>\n",
       "    .dataframe tbody tr th:only-of-type {\n",
       "        vertical-align: middle;\n",
       "    }\n",
       "\n",
       "    .dataframe tbody tr th {\n",
       "        vertical-align: top;\n",
       "    }\n",
       "\n",
       "    .dataframe thead th {\n",
       "        text-align: right;\n",
       "    }\n",
       "</style>\n",
       "<table border=\"1\" class=\"dataframe\">\n",
       "  <thead>\n",
       "    <tr style=\"text-align: right;\">\n",
       "      <th></th>\n",
       "      <th>Outcome</th>\n",
       "      <th>BMI</th>\n",
       "    </tr>\n",
       "  </thead>\n",
       "  <tbody>\n",
       "    <tr>\n",
       "      <th>0</th>\n",
       "      <td>0</td>\n",
       "      <td>30.1</td>\n",
       "    </tr>\n",
       "    <tr>\n",
       "      <th>1</th>\n",
       "      <td>1</td>\n",
       "      <td>34.3</td>\n",
       "    </tr>\n",
       "  </tbody>\n",
       "</table>\n",
       "</div>"
      ],
      "text/plain": [
       "   Outcome   BMI\n",
       "0        0  30.1\n",
       "1        1  34.3"
      ]
     },
     "execution_count": 16,
     "metadata": {},
     "output_type": "execute_result"
    }
   ],
   "source": [
    "median_target('BMI')"
   ]
  },
  {
   "cell_type": "code",
   "execution_count": 17,
   "id": "d0c32259",
   "metadata": {
    "ExecuteTime": {
     "end_time": "2022-01-09T11:09:20.840646Z",
     "start_time": "2022-01-09T11:09:20.809167Z"
    }
   },
   "outputs": [
    {
     "data": {
      "text/html": [
       "<div>\n",
       "<style scoped>\n",
       "    .dataframe tbody tr th:only-of-type {\n",
       "        vertical-align: middle;\n",
       "    }\n",
       "\n",
       "    .dataframe tbody tr th {\n",
       "        vertical-align: top;\n",
       "    }\n",
       "\n",
       "    .dataframe thead th {\n",
       "        text-align: right;\n",
       "    }\n",
       "</style>\n",
       "<table border=\"1\" class=\"dataframe\">\n",
       "  <thead>\n",
       "    <tr style=\"text-align: right;\">\n",
       "      <th></th>\n",
       "      <th>Outcome</th>\n",
       "      <th>Insulin</th>\n",
       "    </tr>\n",
       "  </thead>\n",
       "  <tbody>\n",
       "    <tr>\n",
       "      <th>0</th>\n",
       "      <td>0</td>\n",
       "      <td>102.5</td>\n",
       "    </tr>\n",
       "    <tr>\n",
       "      <th>1</th>\n",
       "      <td>1</td>\n",
       "      <td>169.5</td>\n",
       "    </tr>\n",
       "  </tbody>\n",
       "</table>\n",
       "</div>"
      ],
      "text/plain": [
       "   Outcome  Insulin\n",
       "0        0    102.5\n",
       "1        1    169.5"
      ]
     },
     "execution_count": 17,
     "metadata": {},
     "output_type": "execute_result"
    }
   ],
   "source": [
    "median_target('Insulin')"
   ]
  },
  {
   "cell_type": "code",
   "execution_count": 18,
   "id": "adfb8412",
   "metadata": {
    "ExecuteTime": {
     "end_time": "2022-01-09T11:09:21.827217Z",
     "start_time": "2022-01-09T11:09:21.589590Z"
    }
   },
   "outputs": [],
   "source": [
    "# The values to be given for incomplete observations are given the median value of people who are not sick and the median values of people who are sick.\n",
    "columns = df.columns\n",
    "columns = columns.drop(\"Outcome\")\n",
    "for col in columns:\n",
    "    \n",
    "    df.loc[(df['Outcome'] == 0 ) & (df[col].isnull()), col] = median_target(col)[col][0]\n",
    "    df.loc[(df['Outcome'] == 1 ) & (df[col].isnull()), col] = median_target(col)[col][1]"
   ]
  },
  {
   "cell_type": "code",
   "execution_count": 19,
   "id": "24aef2b3",
   "metadata": {
    "ExecuteTime": {
     "end_time": "2022-01-09T11:09:24.370555Z",
     "start_time": "2022-01-09T11:09:24.349141Z"
    }
   },
   "outputs": [
    {
     "data": {
      "text/plain": [
       "Pregnancies                 0\n",
       "Glucose                     0\n",
       "BloodPressure               0\n",
       "SkinThickness               0\n",
       "Insulin                     0\n",
       "BMI                         0\n",
       "DiabetesPedigreeFunction    0\n",
       "Age                         0\n",
       "Outcome                     0\n",
       "dtype: int64"
      ]
     },
     "execution_count": 19,
     "metadata": {},
     "output_type": "execute_result"
    }
   ],
   "source": [
    "df.isnull().sum()"
   ]
  },
  {
   "cell_type": "markdown",
   "id": "ab72bb06",
   "metadata": {},
   "source": [
    "<a id='3.2'></a>\n",
    "***detect outliers with IQR score rule***"
   ]
  },
  {
   "cell_type": "markdown",
   "id": "4e96e422",
   "metadata": {},
   "source": [
    "a brief description: <br>\n",
    "IQR score The rule of thumb is that anything not in the range of (Q1 - 1.5 IQR) and (Q3 + 1.5 IQR) is an outlier, and can be removed.\n"
   ]
  },
  {
   "cell_type": "markdown",
   "id": "d81513fe",
   "metadata": {},
   "source": [
    "Q1 is = 25% percintile value of the data<br>\n",
    "Q3 is = 75% Percintile value of the data<br>\n",
    "IQR = Q3 - Q1"
   ]
  },
  {
   "cell_type": "code",
   "execution_count": 20,
   "id": "3685e835",
   "metadata": {
    "ExecuteTime": {
     "end_time": "2022-01-09T11:09:29.614775Z",
     "start_time": "2022-01-09T11:09:29.590488Z"
    }
   },
   "outputs": [
    {
     "name": "stdout",
     "output_type": "stream",
     "text": [
      "Q1 = 99.75\n",
      "Q3 = 140.25\n",
      "IQR = 40.5\n",
      "lower = 39.0\n",
      "upper = 201.0\n",
      "\n",
      "\n",
      "Conclusion: Any value not in this range (lower and upper) = (39.0, 201.0) can be removed as an outlier\n"
     ]
    }
   ],
   "source": [
    "# example for more understanding the rule\n",
    "Q1 = df[\"Glucose\"].quantile(0.25)\n",
    "Q3 = df[\"Glucose\"].quantile(0.75)\n",
    "IQR = Q3-Q1\n",
    "lower = Q1 - 1.5*IQR\n",
    "upper = Q3 + 1.5*IQR\n",
    "\n",
    "print(f\"Q1 = {Q1}\\nQ3 = {Q3}\\nIQR = {IQR}\\nlower = {lower}\\nupper = {upper}\")\n",
    "print(f\"\\n\\nConclusion: Any value not in this range (lower and upper) = {lower, upper} can be removed as an outlier\")"
   ]
  },
  {
   "cell_type": "code",
   "execution_count": 21,
   "id": "a666e8a8",
   "metadata": {
    "ExecuteTime": {
     "end_time": "2022-01-09T11:09:30.732366Z",
     "start_time": "2022-01-09T11:09:30.635519Z"
    }
   },
   "outputs": [
    {
     "name": "stdout",
     "output_type": "stream",
     "text": [
      "Pregnancies no\n",
      "Glucose no\n",
      "BloodPressure no\n",
      "SkinThickness no\n",
      "Insulin no\n",
      "BMI no\n",
      "DiabetesPedigreeFunction no\n",
      "Age no\n",
      "Outcome no\n"
     ]
    }
   ],
   "source": [
    "#looping on all the features to see which feature has an outliers\n",
    "#but with this rule we will take Q1 = 5% and Q3 = 95%\n",
    "for feature in df:\n",
    "    Q1 = df[feature].quantile(0.05)\n",
    "    Q3 = df[feature].quantile(0.95)\n",
    "    IQR = Q3 - Q1\n",
    "    lower = Q1 - 1.5*IQR\n",
    "    upper = Q3 + 1.5*IQR\n",
    "    \n",
    "    if df[(df[feature] > upper)].any(axis=None) and df[(df[feature] < lower)].any(axis=None):\n",
    "        print(feature,\"yes\")\n",
    "    else:\n",
    "        print(feature, \"no\")"
   ]
  },
  {
   "cell_type": "markdown",
   "id": "1b3db4f1",
   "metadata": {},
   "source": [
    "So we have no outliers to remove"
   ]
  },
  {
   "cell_type": "markdown",
   "id": "f6a01425",
   "metadata": {},
   "source": [
    "<a id='4'></a>\n",
    "# EDA and Feature Engineering"
   ]
  },
  {
   "cell_type": "code",
   "execution_count": 22,
   "id": "fbc66864",
   "metadata": {
    "ExecuteTime": {
     "end_time": "2022-01-09T11:09:38.772942Z",
     "start_time": "2022-01-09T11:09:38.735852Z"
    }
   },
   "outputs": [
    {
     "data": {
      "text/html": [
       "<div>\n",
       "<style scoped>\n",
       "    .dataframe tbody tr th:only-of-type {\n",
       "        vertical-align: middle;\n",
       "    }\n",
       "\n",
       "    .dataframe tbody tr th {\n",
       "        vertical-align: top;\n",
       "    }\n",
       "\n",
       "    .dataframe thead th {\n",
       "        text-align: right;\n",
       "    }\n",
       "</style>\n",
       "<table border=\"1\" class=\"dataframe\">\n",
       "  <thead>\n",
       "    <tr style=\"text-align: right;\">\n",
       "      <th></th>\n",
       "      <th>Pregnancies</th>\n",
       "      <th>Glucose</th>\n",
       "      <th>BloodPressure</th>\n",
       "      <th>SkinThickness</th>\n",
       "      <th>Insulin</th>\n",
       "      <th>BMI</th>\n",
       "      <th>DiabetesPedigreeFunction</th>\n",
       "      <th>Age</th>\n",
       "      <th>Outcome</th>\n",
       "    </tr>\n",
       "  </thead>\n",
       "  <tbody>\n",
       "    <tr>\n",
       "      <th>0</th>\n",
       "      <td>6</td>\n",
       "      <td>148.0</td>\n",
       "      <td>72.0</td>\n",
       "      <td>35.0</td>\n",
       "      <td>169.5</td>\n",
       "      <td>33.6</td>\n",
       "      <td>0.627</td>\n",
       "      <td>50</td>\n",
       "      <td>Sick</td>\n",
       "    </tr>\n",
       "    <tr>\n",
       "      <th>1</th>\n",
       "      <td>1</td>\n",
       "      <td>85.0</td>\n",
       "      <td>66.0</td>\n",
       "      <td>29.0</td>\n",
       "      <td>102.5</td>\n",
       "      <td>26.6</td>\n",
       "      <td>0.351</td>\n",
       "      <td>31</td>\n",
       "      <td>Healthy</td>\n",
       "    </tr>\n",
       "    <tr>\n",
       "      <th>2</th>\n",
       "      <td>8</td>\n",
       "      <td>183.0</td>\n",
       "      <td>64.0</td>\n",
       "      <td>32.0</td>\n",
       "      <td>169.5</td>\n",
       "      <td>23.3</td>\n",
       "      <td>0.672</td>\n",
       "      <td>32</td>\n",
       "      <td>Sick</td>\n",
       "    </tr>\n",
       "    <tr>\n",
       "      <th>3</th>\n",
       "      <td>1</td>\n",
       "      <td>89.0</td>\n",
       "      <td>66.0</td>\n",
       "      <td>23.0</td>\n",
       "      <td>94.0</td>\n",
       "      <td>28.1</td>\n",
       "      <td>0.167</td>\n",
       "      <td>21</td>\n",
       "      <td>Healthy</td>\n",
       "    </tr>\n",
       "    <tr>\n",
       "      <th>4</th>\n",
       "      <td>0</td>\n",
       "      <td>137.0</td>\n",
       "      <td>40.0</td>\n",
       "      <td>35.0</td>\n",
       "      <td>168.0</td>\n",
       "      <td>43.1</td>\n",
       "      <td>2.288</td>\n",
       "      <td>33</td>\n",
       "      <td>Sick</td>\n",
       "    </tr>\n",
       "  </tbody>\n",
       "</table>\n",
       "</div>"
      ],
      "text/plain": [
       "   Pregnancies  Glucose  BloodPressure  SkinThickness  Insulin   BMI  \\\n",
       "0            6    148.0           72.0           35.0    169.5  33.6   \n",
       "1            1     85.0           66.0           29.0    102.5  26.6   \n",
       "2            8    183.0           64.0           32.0    169.5  23.3   \n",
       "3            1     89.0           66.0           23.0     94.0  28.1   \n",
       "4            0    137.0           40.0           35.0    168.0  43.1   \n",
       "\n",
       "   DiabetesPedigreeFunction  Age  Outcome  \n",
       "0                     0.627   50     Sick  \n",
       "1                     0.351   31  Healthy  \n",
       "2                     0.672   32     Sick  \n",
       "3                     0.167   21  Healthy  \n",
       "4                     2.288   33     Sick  "
      ]
     },
     "execution_count": 22,
     "metadata": {},
     "output_type": "execute_result"
    }
   ],
   "source": [
    "df2 = df.copy()\n",
    "df2.Outcome = df2.Outcome.apply(lambda x:'Healthy' if x == 0 else 'Sick')\n",
    "df2.head()"
   ]
  },
  {
   "cell_type": "code",
   "execution_count": 23,
   "id": "525677f9",
   "metadata": {
    "ExecuteTime": {
     "end_time": "2022-01-09T11:09:39.443099Z",
     "start_time": "2022-01-09T11:09:39.419378Z"
    }
   },
   "outputs": [
    {
     "data": {
      "text/plain": [
       "Pregnancies                  17\n",
       "Glucose                     135\n",
       "BloodPressure                47\n",
       "SkinThickness                50\n",
       "Insulin                     187\n",
       "BMI                         247\n",
       "DiabetesPedigreeFunction    517\n",
       "Age                          52\n",
       "Outcome                       2\n",
       "dtype: int64"
      ]
     },
     "execution_count": 23,
     "metadata": {},
     "output_type": "execute_result"
    }
   ],
   "source": [
    "df2.nunique()"
   ]
  },
  {
   "cell_type": "code",
   "execution_count": 24,
   "id": "2a2da01b",
   "metadata": {
    "ExecuteTime": {
     "end_time": "2022-01-09T11:09:41.006845Z",
     "start_time": "2022-01-09T11:09:40.991062Z"
    },
    "scrolled": true
   },
   "outputs": [
    {
     "data": {
      "text/plain": [
       "Healthy    500\n",
       "Sick       268\n",
       "Name: Outcome, dtype: int64"
      ]
     },
     "execution_count": 24,
     "metadata": {},
     "output_type": "execute_result"
    }
   ],
   "source": [
    "df2.Outcome.value_counts()"
   ]
  },
  {
   "cell_type": "code",
   "execution_count": 25,
   "id": "687b2377",
   "metadata": {
    "ExecuteTime": {
     "end_time": "2022-01-09T11:09:42.380891Z",
     "start_time": "2022-01-09T11:09:41.749752Z"
    }
   },
   "outputs": [
    {
     "data": {
      "image/png": "[encoded data removed]",
      "text/plain": [
       "<Figure size 1296x864 with 2 Axes>"
      ]
     },
     "metadata": {
      "needs_background": "light"
     },
     "output_type": "display_data"
    }
   ],
   "source": [
    "plt.figure(figsize=(18,12))\n",
    "\n",
    "plt.subplot(2,2,1)\n",
    "sns.countplot(x='Outcome', data=df2)\n",
    "\n",
    "plt.subplot(2,2,2)\n",
    "no_dib = df2[df.Outcome == 0].count()[0]\n",
    "dib = df2[df.Outcome == 1].count()[0]\n",
    "plt.title('Distrbution of the Diabetes in the data', {'fontsize' : 20})\n",
    "plt.pie([no_dib, dib], labels=['Healthy', 'Sick'], autopct=\"%.2f%%\", explode=[0.01,0.01], colors=['cyan', 'orange'], shadow=True)\n",
    "plt.show()"
   ]
  },
  {
   "cell_type": "markdown",
   "id": "c5488f2b",
   "metadata": {},
   "source": [
    "We have 65% healthy pepole and 35% Sick pepole in the data"
   ]
  },
  {
   "cell_type": "code",
   "execution_count": 26,
   "id": "e6c97068",
   "metadata": {
    "ExecuteTime": {
     "end_time": "2022-01-09T11:09:43.735891Z",
     "start_time": "2022-01-09T11:09:43.715893Z"
    }
   },
   "outputs": [
    {
     "data": {
      "text/plain": [
       "1     135\n",
       "0     111\n",
       "2     103\n",
       "3      75\n",
       "4      68\n",
       "5      57\n",
       "6      50\n",
       "7      45\n",
       "8      38\n",
       "9      28\n",
       "10     24\n",
       "11     11\n",
       "13     10\n",
       "12      9\n",
       "14      2\n",
       "15      1\n",
       "17      1\n",
       "Name: Pregnancies, dtype: int64"
      ]
     },
     "execution_count": 26,
     "metadata": {},
     "output_type": "execute_result"
    }
   ],
   "source": [
    "df2.Pregnancies.value_counts()"
   ]
  },
  {
   "cell_type": "code",
   "execution_count": 27,
   "id": "c36044cd",
   "metadata": {
    "ExecuteTime": {
     "end_time": "2022-01-09T11:09:45.497301Z",
     "start_time": "2022-01-09T11:09:44.493637Z"
    }
   },
   "outputs": [
    {
     "data": {
      "image/png": "[encoded data removed]",
      "text/plain": [
       "<Figure size 1584x864 with 2 Axes>"
      ]
     },
     "metadata": {
      "needs_background": "light"
     },
     "output_type": "display_data"
    }
   ],
   "source": [
    "plt.figure(figsize=(22,12))\n",
    "\n",
    "plt.subplot(2,2,1)\n",
    "order = df2.groupby('Pregnancies').count().sort_values(by='Outcome', ascending=False).index\n",
    "sns.countplot(x='Pregnancies', data=df2, order=order);\n",
    "\n",
    "plt.subplot(2,2,3)\n",
    "df[\"Age\"].hist(edgecolor = \"black\");"
   ]
  },
  {
   "cell_type": "code",
   "execution_count": 28,
   "id": "60ad7867",
   "metadata": {
    "ExecuteTime": {
     "end_time": "2022-01-09T11:09:46.742427Z",
     "start_time": "2022-01-09T11:09:45.501206Z"
    }
   },
   "outputs": [
    {
     "data": {
      "image/png": "[encoded data removed]",
      "text/plain": [
       "<Figure size 1152x864 with 4 Axes>"
      ]
     },
     "metadata": {
      "needs_background": "light"
     },
     "output_type": "display_data"
    }
   ],
   "source": [
    "plt.figure(figsize=(16,12))\n",
    "\n",
    "plt.subplot(2,2,1)\n",
    "sns.boxenplot(x='Outcome', y='BMI', data=df2, palette='ocean')\n",
    "\n",
    "plt.subplot(2,2,2)\n",
    "sns.boxenplot(x='Outcome', y='Insulin', data=df2, palette='summer')\n",
    "\n",
    "plt.subplot(2,2,3)\n",
    "sns.boxenplot(x='Outcome', y='BloodPressure', data=df2, palette='autumn')\n",
    "\n",
    "plt.subplot(2,2,4)\n",
    "sns.boxenplot(x='Outcome', y='Glucose', data=df2, palette='spring');"
   ]
  },
  {
   "cell_type": "markdown",
   "id": "fb64f267",
   "metadata": {},
   "source": [
    "It seems that when these features are increasingly increasingly an opportunity for diabetes"
   ]
  },
  {
   "cell_type": "code",
   "execution_count": 29,
   "id": "5618a13e",
   "metadata": {
    "ExecuteTime": {
     "end_time": "2022-01-09T11:09:51.475178Z",
     "start_time": "2022-01-09T11:09:51.401663Z"
    }
   },
   "outputs": [
    {
     "data": {
      "text/html": [
       "<div>\n",
       "<style scoped>\n",
       "    .dataframe tbody tr th:only-of-type {\n",
       "        vertical-align: middle;\n",
       "    }\n",
       "\n",
       "    .dataframe tbody tr th {\n",
       "        vertical-align: top;\n",
       "    }\n",
       "\n",
       "    .dataframe thead th {\n",
       "        text-align: right;\n",
       "    }\n",
       "</style>\n",
       "<table border=\"1\" class=\"dataframe\">\n",
       "  <thead>\n",
       "    <tr style=\"text-align: right;\">\n",
       "      <th></th>\n",
       "      <th>Pregnancies</th>\n",
       "      <th>Glucose</th>\n",
       "      <th>BloodPressure</th>\n",
       "      <th>SkinThickness</th>\n",
       "      <th>Insulin</th>\n",
       "      <th>BMI</th>\n",
       "      <th>DiabetesPedigreeFunction</th>\n",
       "      <th>Age</th>\n",
       "      <th>Outcome</th>\n",
       "      <th>NewBMI</th>\n",
       "    </tr>\n",
       "  </thead>\n",
       "  <tbody>\n",
       "    <tr>\n",
       "      <th>0</th>\n",
       "      <td>6</td>\n",
       "      <td>148.0</td>\n",
       "      <td>72.0</td>\n",
       "      <td>35.0</td>\n",
       "      <td>169.5</td>\n",
       "      <td>33.6</td>\n",
       "      <td>0.627</td>\n",
       "      <td>50</td>\n",
       "      <td>Sick</td>\n",
       "      <td>Obesity 1</td>\n",
       "    </tr>\n",
       "    <tr>\n",
       "      <th>1</th>\n",
       "      <td>1</td>\n",
       "      <td>85.0</td>\n",
       "      <td>66.0</td>\n",
       "      <td>29.0</td>\n",
       "      <td>102.5</td>\n",
       "      <td>26.6</td>\n",
       "      <td>0.351</td>\n",
       "      <td>31</td>\n",
       "      <td>Healthy</td>\n",
       "      <td>Overweight</td>\n",
       "    </tr>\n",
       "    <tr>\n",
       "      <th>2</th>\n",
       "      <td>8</td>\n",
       "      <td>183.0</td>\n",
       "      <td>64.0</td>\n",
       "      <td>32.0</td>\n",
       "      <td>169.5</td>\n",
       "      <td>23.3</td>\n",
       "      <td>0.672</td>\n",
       "      <td>32</td>\n",
       "      <td>Sick</td>\n",
       "      <td>Normal</td>\n",
       "    </tr>\n",
       "    <tr>\n",
       "      <th>3</th>\n",
       "      <td>1</td>\n",
       "      <td>89.0</td>\n",
       "      <td>66.0</td>\n",
       "      <td>23.0</td>\n",
       "      <td>94.0</td>\n",
       "      <td>28.1</td>\n",
       "      <td>0.167</td>\n",
       "      <td>21</td>\n",
       "      <td>Healthy</td>\n",
       "      <td>Overweight</td>\n",
       "    </tr>\n",
       "    <tr>\n",
       "      <th>4</th>\n",
       "      <td>0</td>\n",
       "      <td>137.0</td>\n",
       "      <td>40.0</td>\n",
       "      <td>35.0</td>\n",
       "      <td>168.0</td>\n",
       "      <td>43.1</td>\n",
       "      <td>2.288</td>\n",
       "      <td>33</td>\n",
       "      <td>Sick</td>\n",
       "      <td>Obesity 3</td>\n",
       "    </tr>\n",
       "  </tbody>\n",
       "</table>\n",
       "</div>"
      ],
      "text/plain": [
       "   Pregnancies  Glucose  BloodPressure  SkinThickness  Insulin   BMI  \\\n",
       "0            6    148.0           72.0           35.0    169.5  33.6   \n",
       "1            1     85.0           66.0           29.0    102.5  26.6   \n",
       "2            8    183.0           64.0           32.0    169.5  23.3   \n",
       "3            1     89.0           66.0           23.0     94.0  28.1   \n",
       "4            0    137.0           40.0           35.0    168.0  43.1   \n",
       "\n",
       "   DiabetesPedigreeFunction  Age  Outcome      NewBMI  \n",
       "0                     0.627   50     Sick   Obesity 1  \n",
       "1                     0.351   31  Healthy  Overweight  \n",
       "2                     0.672   32     Sick      Normal  \n",
       "3                     0.167   21  Healthy  Overweight  \n",
       "4                     2.288   33     Sick   Obesity 3  "
      ]
     },
     "execution_count": 29,
     "metadata": {},
     "output_type": "execute_result"
    }
   ],
   "source": [
    "# According to BMI, some ranges were determined and categorical variables were assigned.\n",
    "\n",
    "NewBMI = pd.Series([\"Underweight\", \"Normal\", \"Overweight\", \"Obesity 1\", \"Obesity 2\", \"Obesity 3\"], dtype = \"category\")\n",
    "\n",
    "df2[\"NewBMI\"] = NewBMI\n",
    "\n",
    "df2.loc[df[\"BMI\"] < 18.5, \"NewBMI\"] = NewBMI[0]\n",
    "\n",
    "df2.loc[(df[\"BMI\"] > 18.5) & (df[\"BMI\"] <= 24.9), \"NewBMI\"] = NewBMI[1]\n",
    "df2.loc[(df[\"BMI\"] > 24.9) & (df[\"BMI\"] <= 29.9), \"NewBMI\"] = NewBMI[2]\n",
    "df2.loc[(df[\"BMI\"] > 29.9) & (df[\"BMI\"] <= 34.9), \"NewBMI\"] = NewBMI[3]\n",
    "df2.loc[(df[\"BMI\"] > 34.9) & (df[\"BMI\"] <= 39.9), \"NewBMI\"] = NewBMI[4]\n",
    "df2.loc[df[\"BMI\"] > 39.9 ,\"NewBMI\"] = NewBMI[5]\n",
    "\n",
    "df2.head()"
   ]
  },
  {
   "cell_type": "code",
   "execution_count": 30,
   "id": "fe451003",
   "metadata": {
    "ExecuteTime": {
     "end_time": "2022-01-09T11:09:52.190033Z",
     "start_time": "2022-01-09T11:09:52.172034Z"
    }
   },
   "outputs": [
    {
     "data": {
      "text/plain": [
       "Obesity 1      235\n",
       "Overweight     179\n",
       "Obesity 2      150\n",
       "Normal         102\n",
       "Obesity 3       98\n",
       "Underweight      4\n",
       "Name: NewBMI, dtype: int64"
      ]
     },
     "execution_count": 30,
     "metadata": {},
     "output_type": "execute_result"
    }
   ],
   "source": [
    "df2.NewBMI.value_counts()"
   ]
  },
  {
   "cell_type": "code",
   "execution_count": 31,
   "id": "17d224ea",
   "metadata": {
    "ExecuteTime": {
     "end_time": "2022-01-09T11:09:54.275788Z",
     "start_time": "2022-01-09T11:09:52.837930Z"
    }
   },
   "outputs": [
    {
     "data": {
      "image/png": "[encoded data removed]",
      "text/plain": [
       "<Figure size 1800x1800 with 2 Axes>"
      ]
     },
     "metadata": {
      "needs_background": "light"
     },
     "output_type": "display_data"
    }
   ],
   "source": [
    "plt.figure(figsize=(25,25))\n",
    "\n",
    "plt.subplot(2,2,1)\n",
    "order = df2.groupby('NewBMI').count().sort_values(by='Outcome', ascending=False).index\n",
    "sns.countplot(x='NewBMI', data=df2, order=order)\n",
    "\n",
    "plt.subplot(2,2,2)\n",
    "Under_wei = df2.NewBMI[df2.NewBMI == 'Underweight'].count()\n",
    "normal = df2.NewBMI[df2.NewBMI == 'Normal'].count()\n",
    "over_weight = df2.NewBMI[df2.NewBMI == 'Overweight'].count()\n",
    "obesity_1 = df2.NewBMI[df2.NewBMI == 'Obesity 1'].count()\n",
    "obesity_2 = df2.NewBMI[df2.NewBMI == 'Obesity 2'].count()\n",
    "obesity_3 = df2.NewBMI[df2.NewBMI == 'Obesity 3'].count()\n",
    "weights = [Under_wei, normal, over_weight, obesity_1, obesity_2, obesity_3]\n",
    "labels = ['Under Weight', 'Normal', 'Over Weight', 'Obesity 1', 'Obesity 2', 'Obesity 3']\n",
    "my_circle = plt.Circle( (0,0), 0.4, color='white')\n",
    "plt.gcf().gca().add_artist(my_circle)\n",
    "plt.pie(weights, labels=labels, autopct=\"%.2f%%\", shadow=True);\n",
    "plt.legend()\n",
    "plt.show()"
   ]
  },
  {
   "cell_type": "markdown",
   "id": "1a025696",
   "metadata": {},
   "source": [
    "Obesity 1 has the majority in the data which the BMI between 29.9 and 34.9"
   ]
  },
  {
   "cell_type": "code",
   "execution_count": 32,
   "id": "4aa1d26f",
   "metadata": {
    "ExecuteTime": {
     "end_time": "2022-01-09T11:09:55.945460Z",
     "start_time": "2022-01-09T11:09:55.151357Z"
    }
   },
   "outputs": [
    {
     "data": {
      "image/png": "[encoded data removed]",
      "text/plain": [
       "<Figure size 1440x720 with 1 Axes>"
      ]
     },
     "metadata": {
      "needs_background": "light"
     },
     "output_type": "display_data"
    }
   ],
   "source": [
    "plt.figure(figsize=(20,10))\n",
    "sns.countplot(x='NewBMI', hue='Outcome', data=df2);"
   ]
  },
  {
   "cell_type": "markdown",
   "id": "42c37aea",
   "metadata": {},
   "source": [
    "all the Underweights is healthy (BMI less than 18.5)<br>\n",
    "Normal Weights are healthy except limited number which are sick<br>\n",
    "it seems that when the weight increase so you are more likely to have diabetes"
   ]
  },
  {
   "cell_type": "code",
   "execution_count": 33,
   "id": "8770c16f",
   "metadata": {
    "ExecuteTime": {
     "end_time": "2022-01-09T11:09:56.646787Z",
     "start_time": "2022-01-09T11:09:56.640604Z"
    }
   },
   "outputs": [],
   "source": [
    "def set_insulin(row):\n",
    "    if row[\"Insulin\"] >= 16 and row[\"Insulin\"] <= 166:\n",
    "        return \"Normal\"\n",
    "    else:\n",
    "        return \"Abnormal\"     "
   ]
  },
  {
   "cell_type": "code",
   "execution_count": 34,
   "id": "96343e72",
   "metadata": {
    "ExecuteTime": {
     "end_time": "2022-01-09T11:09:57.208328Z",
     "start_time": "2022-01-09T11:09:57.176055Z"
    }
   },
   "outputs": [],
   "source": [
    "df2[\"NewInsulinScore\"] = df2.apply(set_insulin, axis=1)"
   ]
  },
  {
   "cell_type": "code",
   "execution_count": 35,
   "id": "780dbdd8",
   "metadata": {
    "ExecuteTime": {
     "end_time": "2022-01-09T11:09:57.771162Z",
     "start_time": "2022-01-09T11:09:57.722483Z"
    }
   },
   "outputs": [
    {
     "data": {
      "text/html": [
       "<div>\n",
       "<style scoped>\n",
       "    .dataframe tbody tr th:only-of-type {\n",
       "        vertical-align: middle;\n",
       "    }\n",
       "\n",
       "    .dataframe tbody tr th {\n",
       "        vertical-align: top;\n",
       "    }\n",
       "\n",
       "    .dataframe thead th {\n",
       "        text-align: right;\n",
       "    }\n",
       "</style>\n",
       "<table border=\"1\" class=\"dataframe\">\n",
       "  <thead>\n",
       "    <tr style=\"text-align: right;\">\n",
       "      <th></th>\n",
       "      <th>Pregnancies</th>\n",
       "      <th>Glucose</th>\n",
       "      <th>BloodPressure</th>\n",
       "      <th>SkinThickness</th>\n",
       "      <th>Insulin</th>\n",
       "      <th>BMI</th>\n",
       "      <th>DiabetesPedigreeFunction</th>\n",
       "      <th>Age</th>\n",
       "      <th>Outcome</th>\n",
       "      <th>NewBMI</th>\n",
       "      <th>NewInsulinScore</th>\n",
       "    </tr>\n",
       "  </thead>\n",
       "  <tbody>\n",
       "    <tr>\n",
       "      <th>0</th>\n",
       "      <td>6</td>\n",
       "      <td>148.0</td>\n",
       "      <td>72.0</td>\n",
       "      <td>35.0</td>\n",
       "      <td>169.5</td>\n",
       "      <td>33.6</td>\n",
       "      <td>0.627</td>\n",
       "      <td>50</td>\n",
       "      <td>Sick</td>\n",
       "      <td>Obesity 1</td>\n",
       "      <td>Abnormal</td>\n",
       "    </tr>\n",
       "    <tr>\n",
       "      <th>1</th>\n",
       "      <td>1</td>\n",
       "      <td>85.0</td>\n",
       "      <td>66.0</td>\n",
       "      <td>29.0</td>\n",
       "      <td>102.5</td>\n",
       "      <td>26.6</td>\n",
       "      <td>0.351</td>\n",
       "      <td>31</td>\n",
       "      <td>Healthy</td>\n",
       "      <td>Overweight</td>\n",
       "      <td>Normal</td>\n",
       "    </tr>\n",
       "    <tr>\n",
       "      <th>2</th>\n",
       "      <td>8</td>\n",
       "      <td>183.0</td>\n",
       "      <td>64.0</td>\n",
       "      <td>32.0</td>\n",
       "      <td>169.5</td>\n",
       "      <td>23.3</td>\n",
       "      <td>0.672</td>\n",
       "      <td>32</td>\n",
       "      <td>Sick</td>\n",
       "      <td>Normal</td>\n",
       "      <td>Abnormal</td>\n",
       "    </tr>\n",
       "    <tr>\n",
       "      <th>3</th>\n",
       "      <td>1</td>\n",
       "      <td>89.0</td>\n",
       "      <td>66.0</td>\n",
       "      <td>23.0</td>\n",
       "      <td>94.0</td>\n",
       "      <td>28.1</td>\n",
       "      <td>0.167</td>\n",
       "      <td>21</td>\n",
       "      <td>Healthy</td>\n",
       "      <td>Overweight</td>\n",
       "      <td>Normal</td>\n",
       "    </tr>\n",
       "    <tr>\n",
       "      <th>4</th>\n",
       "      <td>0</td>\n",
       "      <td>137.0</td>\n",
       "      <td>40.0</td>\n",
       "      <td>35.0</td>\n",
       "      <td>168.0</td>\n",
       "      <td>43.1</td>\n",
       "      <td>2.288</td>\n",
       "      <td>33</td>\n",
       "      <td>Sick</td>\n",
       "      <td>Obesity 3</td>\n",
       "      <td>Abnormal</td>\n",
       "    </tr>\n",
       "  </tbody>\n",
       "</table>\n",
       "</div>"
      ],
      "text/plain": [
       "   Pregnancies  Glucose  BloodPressure  SkinThickness  Insulin   BMI  \\\n",
       "0            6    148.0           72.0           35.0    169.5  33.6   \n",
       "1            1     85.0           66.0           29.0    102.5  26.6   \n",
       "2            8    183.0           64.0           32.0    169.5  23.3   \n",
       "3            1     89.0           66.0           23.0     94.0  28.1   \n",
       "4            0    137.0           40.0           35.0    168.0  43.1   \n",
       "\n",
       "   DiabetesPedigreeFunction  Age  Outcome      NewBMI NewInsulinScore  \n",
       "0                     0.627   50     Sick   Obesity 1        Abnormal  \n",
       "1                     0.351   31  Healthy  Overweight          Normal  \n",
       "2                     0.672   32     Sick      Normal        Abnormal  \n",
       "3                     0.167   21  Healthy  Overweight          Normal  \n",
       "4                     2.288   33     Sick   Obesity 3        Abnormal  "
      ]
     },
     "execution_count": 35,
     "metadata": {},
     "output_type": "execute_result"
    }
   ],
   "source": [
    "df2.head()"
   ]
  },
  {
   "cell_type": "code",
   "execution_count": 36,
   "id": "1d502f26",
   "metadata": {
    "ExecuteTime": {
     "end_time": "2022-01-09T11:09:58.313448Z",
     "start_time": "2022-01-09T11:09:58.293067Z"
    }
   },
   "outputs": [
    {
     "data": {
      "text/plain": [
       "Normal      496\n",
       "Abnormal    272\n",
       "Name: NewInsulinScore, dtype: int64"
      ]
     },
     "execution_count": 36,
     "metadata": {},
     "output_type": "execute_result"
    }
   ],
   "source": [
    "df2.NewInsulinScore.value_counts()"
   ]
  },
  {
   "cell_type": "code",
   "execution_count": 37,
   "id": "f232de38",
   "metadata": {
    "ExecuteTime": {
     "end_time": "2022-01-09T11:09:59.705682Z",
     "start_time": "2022-01-09T11:09:58.943884Z"
    }
   },
   "outputs": [
    {
     "data": {
      "image/png": "[encoded data removed]",
      "text/plain": [
       "<Figure size 1080x1080 with 2 Axes>"
      ]
     },
     "metadata": {
      "needs_background": "light"
     },
     "output_type": "display_data"
    }
   ],
   "source": [
    "plt.figure(figsize=(15,15))\n",
    "\n",
    "plt.subplot(2,2,1)\n",
    "sns.countplot(x='NewInsulinScore', data=df2);\n",
    "\n",
    "plt.subplot(2,2,2)\n",
    "normal = df2.NewInsulinScore[df2.NewInsulinScore == 'Normal'].count()\n",
    "abnormal = df2.NewInsulinScore[df2.NewInsulinScore == 'Abnormal'].count()\n",
    "plt.pie([normal, abnormal], labels=['Normal', 'Abnormal'], autopct='%.2f%%', explode = [0.01,0.01], shadow=True)\n",
    "plt.legend()\n",
    "plt.show()"
   ]
  },
  {
   "cell_type": "markdown",
   "id": "d0545d0c",
   "metadata": {},
   "source": [
    "64.58% normal Insulin<br>\n",
    "35.42% abnormal Insulin"
   ]
  },
  {
   "cell_type": "code",
   "execution_count": 38,
   "id": "8c339d65",
   "metadata": {
    "ExecuteTime": {
     "end_time": "2022-01-09T11:10:00.776252Z",
     "start_time": "2022-01-09T11:10:00.298667Z"
    }
   },
   "outputs": [
    {
     "data": {
      "image/png": "[encoded data removed]",
      "text/plain": [
       "<Figure size 576x432 with 1 Axes>"
      ]
     },
     "metadata": {
      "needs_background": "light"
     },
     "output_type": "display_data"
    }
   ],
   "source": [
    "plt.figure(figsize=(8,6))\n",
    "sns.countplot(x='NewInsulinScore', hue='Outcome', data=df2);"
   ]
  },
  {
   "cell_type": "code",
   "execution_count": 39,
   "id": "7b3e11cc",
   "metadata": {
    "ExecuteTime": {
     "end_time": "2022-01-09T11:10:01.410608Z",
     "start_time": "2022-01-09T11:10:01.367847Z"
    }
   },
   "outputs": [],
   "source": [
    "# Some intervals were determined according to the glucose variable and these were assigned categorical variables.\n",
    "NewGlucose = pd.Series([\"Low\", \"Normal\", \"Overweight\", \"Secret\", \"High\"], dtype = \"category\")\n",
    "df2[\"NewGlucose\"] = NewGlucose\n",
    "df2.loc[df2[\"Glucose\"] <= 70, \"NewGlucose\"] = NewGlucose[0]\n",
    "df2.loc[(df2[\"Glucose\"] > 70) & (df2[\"Glucose\"] <= 99), \"NewGlucose\"] = NewGlucose[1]\n",
    "df2.loc[(df2[\"Glucose\"] > 99) & (df2[\"Glucose\"] <= 126), \"NewGlucose\"] = NewGlucose[2]\n",
    "df2.loc[df2[\"Glucose\"] > 126 ,\"NewGlucose\"] = NewGlucose[3]"
   ]
  },
  {
   "cell_type": "code",
   "execution_count": 40,
   "id": "440ce706",
   "metadata": {
    "ExecuteTime": {
     "end_time": "2022-01-09T11:10:02.186342Z",
     "start_time": "2022-01-09T11:10:02.168129Z"
    }
   },
   "outputs": [
    {
     "data": {
      "text/plain": [
       "Secret        290\n",
       "Overweight    286\n",
       "Normal        181\n",
       "Low            11\n",
       "High            0\n",
       "Name: NewGlucose, dtype: int64"
      ]
     },
     "execution_count": 40,
     "metadata": {},
     "output_type": "execute_result"
    }
   ],
   "source": [
    "df2.NewGlucose.value_counts()"
   ]
  },
  {
   "cell_type": "code",
   "execution_count": 41,
   "id": "f05ab9fe",
   "metadata": {
    "ExecuteTime": {
     "end_time": "2022-01-09T11:10:04.006053Z",
     "start_time": "2022-01-09T11:10:02.913997Z"
    }
   },
   "outputs": [
    {
     "data": {
      "image/png": "[encoded data removed]",
      "text/plain": [
       "<Figure size 1440x1440 with 2 Axes>"
      ]
     },
     "metadata": {
      "needs_background": "light"
     },
     "output_type": "display_data"
    }
   ],
   "source": [
    "plt.figure(figsize=(20,20))\n",
    "\n",
    "plt.subplot(2,2,1)\n",
    "sns.countplot(x='NewGlucose', data=df2);\n",
    "\n",
    "plt.subplot(2,2,2)\n",
    "low = df2.NewGlucose[df2.NewGlucose == 'Low'].count()\n",
    "normal = df2.NewGlucose[df2.NewGlucose == 'Normal'].count()\n",
    "over_wei = df2.NewGlucose[df2.NewGlucose == 'Overweight'].count()\n",
    "secret = df2.NewGlucose[df2.NewGlucose == 'Secret'].count()\n",
    "weight = [low, normal, over_wei, secret]\n",
    "labels = ['Low', 'Normal', 'OverWeight', 'Secret']\n",
    "plt.pie(weight, labels=labels, autopct=\"%.2f%%\", shadow=True, explode=[0.01,0.01,0.01,0.01]);\n",
    "my_circle = plt.Circle( (0,0), 0.4, color='white')\n",
    "plt.gcf().gca().add_artist(my_circle)\n",
    "plt.legend()\n",
    "plt.show()"
   ]
  },
  {
   "cell_type": "code",
   "execution_count": 42,
   "id": "f41ef1cc",
   "metadata": {
    "ExecuteTime": {
     "end_time": "2022-01-09T11:10:05.338361Z",
     "start_time": "2022-01-09T11:10:04.765141Z"
    }
   },
   "outputs": [
    {
     "data": {
      "image/png": "[encoded data removed]",
      "text/plain": [
       "<Figure size 720x360 with 1 Axes>"
      ]
     },
     "metadata": {
      "needs_background": "light"
     },
     "output_type": "display_data"
    }
   ],
   "source": [
    "plt.figure(figsize=(10,5))\n",
    "sns.countplot(x='NewGlucose', hue='Outcome', data=df2);"
   ]
  },
  {
   "cell_type": "markdown",
   "id": "8f8548a6",
   "metadata": {},
   "source": [
    "When the Glucose is Secret then you are more likely to have diabetes"
   ]
  },
  {
   "cell_type": "code",
   "execution_count": 43,
   "id": "edd21d8c",
   "metadata": {
    "ExecuteTime": {
     "end_time": "2022-01-09T11:10:07.539654Z",
     "start_time": "2022-01-09T11:10:06.634778Z"
    }
   },
   "outputs": [
    {
     "data": {
      "image/png": "[encoded data removed]",
      "text/plain": [
       "<Figure size 1152x576 with 4 Axes>"
      ]
     },
     "metadata": {
      "needs_background": "light"
     },
     "output_type": "display_data"
    }
   ],
   "source": [
    "plt.figure(figsize=(16,8))\n",
    "plt.subplot(2,2,1)\n",
    "sns.boxplot(x='Insulin', data=df)\n",
    "\n",
    "plt.subplot(2,2,2)\n",
    "sns.boxplot(x='Glucose', data=df)\n",
    "\n",
    "plt.subplot(2,2,3)\n",
    "sns.boxplot(x='BloodPressure', data=df)\n",
    "\n",
    "plt.subplot(2,2,4)\n",
    "sns.boxplot(x='BMI', data=df);"
   ]
  },
  {
   "cell_type": "markdown",
   "id": "9775284e",
   "metadata": {},
   "source": [
    "<a id='4.1'></a>\n",
    "***One hot encoder***"
   ]
  },
  {
   "cell_type": "code",
   "execution_count": 44,
   "id": "b8ba20a4",
   "metadata": {
    "ExecuteTime": {
     "end_time": "2022-01-09T11:10:14.410027Z",
     "start_time": "2022-01-09T11:10:14.299544Z"
    }
   },
   "outputs": [
    {
     "data": {
      "text/html": [
       "<div>\n",
       "<style scoped>\n",
       "    .dataframe tbody tr th:only-of-type {\n",
       "        vertical-align: middle;\n",
       "    }\n",
       "\n",
       "    .dataframe tbody tr th {\n",
       "        vertical-align: top;\n",
       "    }\n",
       "\n",
       "    .dataframe thead th {\n",
       "        text-align: right;\n",
       "    }\n",
       "</style>\n",
       "<table border=\"1\" class=\"dataframe\">\n",
       "  <thead>\n",
       "    <tr style=\"text-align: right;\">\n",
       "      <th></th>\n",
       "      <th>Pregnancies</th>\n",
       "      <th>Glucose</th>\n",
       "      <th>BloodPressure</th>\n",
       "      <th>SkinThickness</th>\n",
       "      <th>Insulin</th>\n",
       "      <th>BMI</th>\n",
       "      <th>DiabetesPedigreeFunction</th>\n",
       "      <th>Age</th>\n",
       "      <th>Outcome_Sick</th>\n",
       "      <th>NewBMI_Obesity 1</th>\n",
       "      <th>NewBMI_Obesity 2</th>\n",
       "      <th>NewBMI_Obesity 3</th>\n",
       "      <th>NewBMI_Overweight</th>\n",
       "      <th>NewBMI_Underweight</th>\n",
       "      <th>NewInsulinScore_Normal</th>\n",
       "      <th>NewGlucose_Low</th>\n",
       "      <th>NewGlucose_Normal</th>\n",
       "      <th>NewGlucose_Overweight</th>\n",
       "      <th>NewGlucose_Secret</th>\n",
       "    </tr>\n",
       "  </thead>\n",
       "  <tbody>\n",
       "    <tr>\n",
       "      <th>0</th>\n",
       "      <td>6</td>\n",
       "      <td>148.0</td>\n",
       "      <td>72.0</td>\n",
       "      <td>35.0</td>\n",
       "      <td>169.5</td>\n",
       "      <td>33.6</td>\n",
       "      <td>0.627</td>\n",
       "      <td>50</td>\n",
       "      <td>1</td>\n",
       "      <td>1</td>\n",
       "      <td>0</td>\n",
       "      <td>0</td>\n",
       "      <td>0</td>\n",
       "      <td>0</td>\n",
       "      <td>0</td>\n",
       "      <td>0</td>\n",
       "      <td>0</td>\n",
       "      <td>0</td>\n",
       "      <td>1</td>\n",
       "    </tr>\n",
       "    <tr>\n",
       "      <th>1</th>\n",
       "      <td>1</td>\n",
       "      <td>85.0</td>\n",
       "      <td>66.0</td>\n",
       "      <td>29.0</td>\n",
       "      <td>102.5</td>\n",
       "      <td>26.6</td>\n",
       "      <td>0.351</td>\n",
       "      <td>31</td>\n",
       "      <td>0</td>\n",
       "      <td>0</td>\n",
       "      <td>0</td>\n",
       "      <td>0</td>\n",
       "      <td>1</td>\n",
       "      <td>0</td>\n",
       "      <td>1</td>\n",
       "      <td>0</td>\n",
       "      <td>1</td>\n",
       "      <td>0</td>\n",
       "      <td>0</td>\n",
       "    </tr>\n",
       "    <tr>\n",
       "      <th>2</th>\n",
       "      <td>8</td>\n",
       "      <td>183.0</td>\n",
       "      <td>64.0</td>\n",
       "      <td>32.0</td>\n",
       "      <td>169.5</td>\n",
       "      <td>23.3</td>\n",
       "      <td>0.672</td>\n",
       "      <td>32</td>\n",
       "      <td>1</td>\n",
       "      <td>0</td>\n",
       "      <td>0</td>\n",
       "      <td>0</td>\n",
       "      <td>0</td>\n",
       "      <td>0</td>\n",
       "      <td>0</td>\n",
       "      <td>0</td>\n",
       "      <td>0</td>\n",
       "      <td>0</td>\n",
       "      <td>1</td>\n",
       "    </tr>\n",
       "    <tr>\n",
       "      <th>3</th>\n",
       "      <td>1</td>\n",
       "      <td>89.0</td>\n",
       "      <td>66.0</td>\n",
       "      <td>23.0</td>\n",
       "      <td>94.0</td>\n",
       "      <td>28.1</td>\n",
       "      <td>0.167</td>\n",
       "      <td>21</td>\n",
       "      <td>0</td>\n",
       "      <td>0</td>\n",
       "      <td>0</td>\n",
       "      <td>0</td>\n",
       "      <td>1</td>\n",
       "      <td>0</td>\n",
       "      <td>1</td>\n",
       "      <td>0</td>\n",
       "      <td>1</td>\n",
       "      <td>0</td>\n",
       "      <td>0</td>\n",
       "    </tr>\n",
       "    <tr>\n",
       "      <th>4</th>\n",
       "      <td>0</td>\n",
       "      <td>137.0</td>\n",
       "      <td>40.0</td>\n",
       "      <td>35.0</td>\n",
       "      <td>168.0</td>\n",
       "      <td>43.1</td>\n",
       "      <td>2.288</td>\n",
       "      <td>33</td>\n",
       "      <td>1</td>\n",
       "      <td>0</td>\n",
       "      <td>0</td>\n",
       "      <td>1</td>\n",
       "      <td>0</td>\n",
       "      <td>0</td>\n",
       "      <td>0</td>\n",
       "      <td>0</td>\n",
       "      <td>0</td>\n",
       "      <td>0</td>\n",
       "      <td>1</td>\n",
       "    </tr>\n",
       "  </tbody>\n",
       "</table>\n",
       "</div>"
      ],
      "text/plain": [
       "   Pregnancies  Glucose  BloodPressure  SkinThickness  Insulin   BMI  \\\n",
       "0            6    148.0           72.0           35.0    169.5  33.6   \n",
       "1            1     85.0           66.0           29.0    102.5  26.6   \n",
       "2            8    183.0           64.0           32.0    169.5  23.3   \n",
       "3            1     89.0           66.0           23.0     94.0  28.1   \n",
       "4            0    137.0           40.0           35.0    168.0  43.1   \n",
       "\n",
       "   DiabetesPedigreeFunction  Age  Outcome_Sick  NewBMI_Obesity 1  \\\n",
       "0                     0.627   50             1                 1   \n",
       "1                     0.351   31             0                 0   \n",
       "2                     0.672   32             1                 0   \n",
       "3                     0.167   21             0                 0   \n",
       "4                     2.288   33             1                 0   \n",
       "\n",
       "   NewBMI_Obesity 2  NewBMI_Obesity 3  NewBMI_Overweight  NewBMI_Underweight  \\\n",
       "0                 0                 0                  0                   0   \n",
       "1                 0                 0                  1                   0   \n",
       "2                 0                 0                  0                   0   \n",
       "3                 0                 0                  1                   0   \n",
       "4                 0                 1                  0                   0   \n",
       "\n",
       "   NewInsulinScore_Normal  NewGlucose_Low  NewGlucose_Normal  \\\n",
       "0                       0               0                  0   \n",
       "1                       1               0                  1   \n",
       "2                       0               0                  0   \n",
       "3                       1               0                  1   \n",
       "4                       0               0                  0   \n",
       "\n",
       "   NewGlucose_Overweight  NewGlucose_Secret  \n",
       "0                      0                  1  \n",
       "1                      0                  0  \n",
       "2                      0                  1  \n",
       "3                      0                  0  \n",
       "4                      0                  1  "
      ]
     },
     "execution_count": 44,
     "metadata": {},
     "output_type": "execute_result"
    }
   ],
   "source": [
    "df2 = pd.get_dummies(df2,drop_first=True)\n",
    "df2.head()"
   ]
  },
  {
   "cell_type": "code",
   "execution_count": 45,
   "id": "516ff072",
   "metadata": {
    "ExecuteTime": {
     "end_time": "2022-01-09T11:10:16.976011Z",
     "start_time": "2022-01-09T11:10:16.951154Z"
    }
   },
   "outputs": [
    {
     "data": {
      "text/plain": [
       "(768, 19)"
      ]
     },
     "execution_count": 45,
     "metadata": {},
     "output_type": "execute_result"
    }
   ],
   "source": [
    "df2.shape"
   ]
  },
  {
   "cell_type": "code",
   "execution_count": 46,
   "id": "77363075",
   "metadata": {
    "ExecuteTime": {
     "end_time": "2022-01-09T11:10:24.362119Z",
     "start_time": "2022-01-09T11:10:24.326683Z"
    }
   },
   "outputs": [],
   "source": [
    "categorical_features = [col for col in df2.columns if df2[col].nunique() <= 5]"
   ]
  },
  {
   "cell_type": "code",
   "execution_count": 47,
   "id": "569312da",
   "metadata": {
    "ExecuteTime": {
     "end_time": "2022-01-09T11:10:24.718551Z",
     "start_time": "2022-01-09T11:10:24.702349Z"
    }
   },
   "outputs": [
    {
     "data": {
      "text/plain": [
       "['Outcome_Sick',\n",
       " 'NewBMI_Obesity 1',\n",
       " 'NewBMI_Obesity 2',\n",
       " 'NewBMI_Obesity 3',\n",
       " 'NewBMI_Overweight',\n",
       " 'NewBMI_Underweight',\n",
       " 'NewInsulinScore_Normal',\n",
       " 'NewGlucose_Low',\n",
       " 'NewGlucose_Normal',\n",
       " 'NewGlucose_Overweight',\n",
       " 'NewGlucose_Secret']"
      ]
     },
     "execution_count": 47,
     "metadata": {},
     "output_type": "execute_result"
    }
   ],
   "source": [
    "categorical_features"
   ]
  },
  {
   "cell_type": "code",
   "execution_count": 50,
   "id": "faa967b3",
   "metadata": {
    "ExecuteTime": {
     "end_time": "2022-01-09T11:12:29.097891Z",
     "start_time": "2022-01-09T11:12:29.060111Z"
    }
   },
   "outputs": [
    {
     "data": {
      "text/plain": [
       "['Glucose',\n",
       " 'BloodPressure',\n",
       " 'SkinThickness',\n",
       " 'Insulin',\n",
       " 'BMI',\n",
       " 'DiabetesPedigreeFunction',\n",
       " 'Age']"
      ]
     },
     "execution_count": 50,
     "metadata": {},
     "output_type": "execute_result"
    }
   ],
   "source": [
    "cont_features = [col for col in df2.columns if df2[col].nunique() > 20]\n",
    "cont_features"
   ]
  },
  {
   "cell_type": "markdown",
   "id": "ed5d9015",
   "metadata": {},
   "source": [
    "<a id='5'></a>\n",
    "# Assign Feature and Target Variable"
   ]
  },
  {
   "cell_type": "code",
   "execution_count": 51,
   "id": "27cea59e",
   "metadata": {
    "ExecuteTime": {
     "end_time": "2022-01-09T11:12:36.147181Z",
     "start_time": "2022-01-09T11:12:36.102353Z"
    }
   },
   "outputs": [
    {
     "data": {
      "text/html": [
       "<div>\n",
       "<style scoped>\n",
       "    .dataframe tbody tr th:only-of-type {\n",
       "        vertical-align: middle;\n",
       "    }\n",
       "\n",
       "    .dataframe tbody tr th {\n",
       "        vertical-align: top;\n",
       "    }\n",
       "\n",
       "    .dataframe thead th {\n",
       "        text-align: right;\n",
       "    }\n",
       "</style>\n",
       "<table border=\"1\" class=\"dataframe\">\n",
       "  <thead>\n",
       "    <tr style=\"text-align: right;\">\n",
       "      <th></th>\n",
       "      <th>Pregnancies</th>\n",
       "      <th>Glucose</th>\n",
       "      <th>BloodPressure</th>\n",
       "      <th>SkinThickness</th>\n",
       "      <th>Insulin</th>\n",
       "      <th>BMI</th>\n",
       "      <th>DiabetesPedigreeFunction</th>\n",
       "      <th>Age</th>\n",
       "      <th>NewBMI_Obesity 1</th>\n",
       "      <th>NewBMI_Obesity 2</th>\n",
       "      <th>NewBMI_Obesity 3</th>\n",
       "      <th>NewBMI_Overweight</th>\n",
       "      <th>NewBMI_Underweight</th>\n",
       "      <th>NewInsulinScore_Normal</th>\n",
       "      <th>NewGlucose_Low</th>\n",
       "      <th>NewGlucose_Normal</th>\n",
       "      <th>NewGlucose_Overweight</th>\n",
       "      <th>NewGlucose_Secret</th>\n",
       "    </tr>\n",
       "  </thead>\n",
       "  <tbody>\n",
       "    <tr>\n",
       "      <th>0</th>\n",
       "      <td>6</td>\n",
       "      <td>148.0</td>\n",
       "      <td>72.0</td>\n",
       "      <td>35.0</td>\n",
       "      <td>169.5</td>\n",
       "      <td>33.6</td>\n",
       "      <td>0.627</td>\n",
       "      <td>50</td>\n",
       "      <td>1</td>\n",
       "      <td>0</td>\n",
       "      <td>0</td>\n",
       "      <td>0</td>\n",
       "      <td>0</td>\n",
       "      <td>0</td>\n",
       "      <td>0</td>\n",
       "      <td>0</td>\n",
       "      <td>0</td>\n",
       "      <td>1</td>\n",
       "    </tr>\n",
       "    <tr>\n",
       "      <th>1</th>\n",
       "      <td>1</td>\n",
       "      <td>85.0</td>\n",
       "      <td>66.0</td>\n",
       "      <td>29.0</td>\n",
       "      <td>102.5</td>\n",
       "      <td>26.6</td>\n",
       "      <td>0.351</td>\n",
       "      <td>31</td>\n",
       "      <td>0</td>\n",
       "      <td>0</td>\n",
       "      <td>0</td>\n",
       "      <td>1</td>\n",
       "      <td>0</td>\n",
       "      <td>1</td>\n",
       "      <td>0</td>\n",
       "      <td>1</td>\n",
       "      <td>0</td>\n",
       "      <td>0</td>\n",
       "    </tr>\n",
       "    <tr>\n",
       "      <th>2</th>\n",
       "      <td>8</td>\n",
       "      <td>183.0</td>\n",
       "      <td>64.0</td>\n",
       "      <td>32.0</td>\n",
       "      <td>169.5</td>\n",
       "      <td>23.3</td>\n",
       "      <td>0.672</td>\n",
       "      <td>32</td>\n",
       "      <td>0</td>\n",
       "      <td>0</td>\n",
       "      <td>0</td>\n",
       "      <td>0</td>\n",
       "      <td>0</td>\n",
       "      <td>0</td>\n",
       "      <td>0</td>\n",
       "      <td>0</td>\n",
       "      <td>0</td>\n",
       "      <td>1</td>\n",
       "    </tr>\n",
       "    <tr>\n",
       "      <th>3</th>\n",
       "      <td>1</td>\n",
       "      <td>89.0</td>\n",
       "      <td>66.0</td>\n",
       "      <td>23.0</td>\n",
       "      <td>94.0</td>\n",
       "      <td>28.1</td>\n",
       "      <td>0.167</td>\n",
       "      <td>21</td>\n",
       "      <td>0</td>\n",
       "      <td>0</td>\n",
       "      <td>0</td>\n",
       "      <td>1</td>\n",
       "      <td>0</td>\n",
       "      <td>1</td>\n",
       "      <td>0</td>\n",
       "      <td>1</td>\n",
       "      <td>0</td>\n",
       "      <td>0</td>\n",
       "    </tr>\n",
       "    <tr>\n",
       "      <th>4</th>\n",
       "      <td>0</td>\n",
       "      <td>137.0</td>\n",
       "      <td>40.0</td>\n",
       "      <td>35.0</td>\n",
       "      <td>168.0</td>\n",
       "      <td>43.1</td>\n",
       "      <td>2.288</td>\n",
       "      <td>33</td>\n",
       "      <td>0</td>\n",
       "      <td>0</td>\n",
       "      <td>1</td>\n",
       "      <td>0</td>\n",
       "      <td>0</td>\n",
       "      <td>0</td>\n",
       "      <td>0</td>\n",
       "      <td>0</td>\n",
       "      <td>0</td>\n",
       "      <td>1</td>\n",
       "    </tr>\n",
       "  </tbody>\n",
       "</table>\n",
       "</div>"
      ],
      "text/plain": [
       "   Pregnancies  Glucose  BloodPressure  SkinThickness  Insulin   BMI  \\\n",
       "0            6    148.0           72.0           35.0    169.5  33.6   \n",
       "1            1     85.0           66.0           29.0    102.5  26.6   \n",
       "2            8    183.0           64.0           32.0    169.5  23.3   \n",
       "3            1     89.0           66.0           23.0     94.0  28.1   \n",
       "4            0    137.0           40.0           35.0    168.0  43.1   \n",
       "\n",
       "   DiabetesPedigreeFunction  Age  NewBMI_Obesity 1  NewBMI_Obesity 2  \\\n",
       "0                     0.627   50                 1                 0   \n",
       "1                     0.351   31                 0                 0   \n",
       "2                     0.672   32                 0                 0   \n",
       "3                     0.167   21                 0                 0   \n",
       "4                     2.288   33                 0                 0   \n",
       "\n",
       "   NewBMI_Obesity 3  NewBMI_Overweight  NewBMI_Underweight  \\\n",
       "0                 0                  0                   0   \n",
       "1                 0                  1                   0   \n",
       "2                 0                  0                   0   \n",
       "3                 0                  1                   0   \n",
       "4                 1                  0                   0   \n",
       "\n",
       "   NewInsulinScore_Normal  NewGlucose_Low  NewGlucose_Normal  \\\n",
       "0                       0               0                  0   \n",
       "1                       1               0                  1   \n",
       "2                       0               0                  0   \n",
       "3                       1               0                  1   \n",
       "4                       0               0                  0   \n",
       "\n",
       "   NewGlucose_Overweight  NewGlucose_Secret  \n",
       "0                      0                  1  \n",
       "1                      0                  0  \n",
       "2                      0                  1  \n",
       "3                      0                  0  \n",
       "4                      0                  1  "
      ]
     },
     "execution_count": 51,
     "metadata": {},
     "output_type": "execute_result"
    }
   ],
   "source": [
    "X = df2.drop('Outcome_Sick', axis=1)\n",
    "y = df2.Outcome_Sick\n",
    "X.head()"
   ]
  },
  {
   "cell_type": "markdown",
   "id": "635b0260",
   "metadata": {},
   "source": [
    "<a id='6'></a>\n",
    "# Feature Scaling"
   ]
  },
  {
   "cell_type": "code",
   "execution_count": 53,
   "id": "7fa9176d",
   "metadata": {
    "ExecuteTime": {
     "end_time": "2022-01-09T11:13:18.618241Z",
     "start_time": "2022-01-09T11:13:18.589074Z"
    }
   },
   "outputs": [],
   "source": [
    "scaler = RobustScaler().fit(X)\n",
    "X_scale = scaler.transform(X)\n",
    "X_scale = pd.DataFrame(X_scale, columns = X.columns)"
   ]
  },
  {
   "cell_type": "code",
   "execution_count": 55,
   "id": "32aeb443",
   "metadata": {
    "ExecuteTime": {
     "end_time": "2022-01-09T11:13:28.237447Z",
     "start_time": "2022-01-09T11:13:28.184434Z"
    }
   },
   "outputs": [
    {
     "data": {
      "text/html": [
       "<div>\n",
       "<style scoped>\n",
       "    .dataframe tbody tr th:only-of-type {\n",
       "        vertical-align: middle;\n",
       "    }\n",
       "\n",
       "    .dataframe tbody tr th {\n",
       "        vertical-align: top;\n",
       "    }\n",
       "\n",
       "    .dataframe thead th {\n",
       "        text-align: right;\n",
       "    }\n",
       "</style>\n",
       "<table border=\"1\" class=\"dataframe\">\n",
       "  <thead>\n",
       "    <tr style=\"text-align: right;\">\n",
       "      <th></th>\n",
       "      <th>Pregnancies</th>\n",
       "      <th>Glucose</th>\n",
       "      <th>BloodPressure</th>\n",
       "      <th>SkinThickness</th>\n",
       "      <th>Insulin</th>\n",
       "      <th>BMI</th>\n",
       "      <th>DiabetesPedigreeFunction</th>\n",
       "      <th>Age</th>\n",
       "      <th>NewBMI_Obesity 1</th>\n",
       "      <th>NewBMI_Obesity 2</th>\n",
       "      <th>NewBMI_Obesity 3</th>\n",
       "      <th>NewBMI_Overweight</th>\n",
       "      <th>NewBMI_Underweight</th>\n",
       "      <th>NewInsulinScore_Normal</th>\n",
       "      <th>NewGlucose_Low</th>\n",
       "      <th>NewGlucose_Normal</th>\n",
       "      <th>NewGlucose_Overweight</th>\n",
       "      <th>NewGlucose_Secret</th>\n",
       "    </tr>\n",
       "  </thead>\n",
       "  <tbody>\n",
       "    <tr>\n",
       "      <th>0</th>\n",
       "      <td>0.6</td>\n",
       "      <td>0.765432</td>\n",
       "      <td>0.000</td>\n",
       "      <td>1.000000</td>\n",
       "      <td>1.000000</td>\n",
       "      <td>0.170330</td>\n",
       "      <td>0.665359</td>\n",
       "      <td>1.235294</td>\n",
       "      <td>1.0</td>\n",
       "      <td>0.0</td>\n",
       "      <td>0.0</td>\n",
       "      <td>0.0</td>\n",
       "      <td>0.0</td>\n",
       "      <td>-1.0</td>\n",
       "      <td>0.0</td>\n",
       "      <td>0.0</td>\n",
       "      <td>0.0</td>\n",
       "      <td>1.0</td>\n",
       "    </tr>\n",
       "    <tr>\n",
       "      <th>1</th>\n",
       "      <td>-0.4</td>\n",
       "      <td>-0.790123</td>\n",
       "      <td>-0.375</td>\n",
       "      <td>0.142857</td>\n",
       "      <td>0.000000</td>\n",
       "      <td>-0.598901</td>\n",
       "      <td>-0.056209</td>\n",
       "      <td>0.117647</td>\n",
       "      <td>0.0</td>\n",
       "      <td>0.0</td>\n",
       "      <td>0.0</td>\n",
       "      <td>1.0</td>\n",
       "      <td>0.0</td>\n",
       "      <td>0.0</td>\n",
       "      <td>0.0</td>\n",
       "      <td>1.0</td>\n",
       "      <td>0.0</td>\n",
       "      <td>0.0</td>\n",
       "    </tr>\n",
       "    <tr>\n",
       "      <th>2</th>\n",
       "      <td>1.0</td>\n",
       "      <td>1.629630</td>\n",
       "      <td>-0.500</td>\n",
       "      <td>0.571429</td>\n",
       "      <td>1.000000</td>\n",
       "      <td>-0.961538</td>\n",
       "      <td>0.783007</td>\n",
       "      <td>0.176471</td>\n",
       "      <td>0.0</td>\n",
       "      <td>0.0</td>\n",
       "      <td>0.0</td>\n",
       "      <td>0.0</td>\n",
       "      <td>0.0</td>\n",
       "      <td>-1.0</td>\n",
       "      <td>0.0</td>\n",
       "      <td>0.0</td>\n",
       "      <td>0.0</td>\n",
       "      <td>1.0</td>\n",
       "    </tr>\n",
       "    <tr>\n",
       "      <th>3</th>\n",
       "      <td>-0.4</td>\n",
       "      <td>-0.691358</td>\n",
       "      <td>-0.375</td>\n",
       "      <td>-0.714286</td>\n",
       "      <td>-0.126866</td>\n",
       "      <td>-0.434066</td>\n",
       "      <td>-0.537255</td>\n",
       "      <td>-0.470588</td>\n",
       "      <td>0.0</td>\n",
       "      <td>0.0</td>\n",
       "      <td>0.0</td>\n",
       "      <td>1.0</td>\n",
       "      <td>0.0</td>\n",
       "      <td>0.0</td>\n",
       "      <td>0.0</td>\n",
       "      <td>1.0</td>\n",
       "      <td>0.0</td>\n",
       "      <td>0.0</td>\n",
       "    </tr>\n",
       "    <tr>\n",
       "      <th>4</th>\n",
       "      <td>-0.6</td>\n",
       "      <td>0.493827</td>\n",
       "      <td>-2.000</td>\n",
       "      <td>1.000000</td>\n",
       "      <td>0.977612</td>\n",
       "      <td>1.214286</td>\n",
       "      <td>5.007843</td>\n",
       "      <td>0.235294</td>\n",
       "      <td>0.0</td>\n",
       "      <td>0.0</td>\n",
       "      <td>1.0</td>\n",
       "      <td>0.0</td>\n",
       "      <td>0.0</td>\n",
       "      <td>-1.0</td>\n",
       "      <td>0.0</td>\n",
       "      <td>0.0</td>\n",
       "      <td>0.0</td>\n",
       "      <td>1.0</td>\n",
       "    </tr>\n",
       "  </tbody>\n",
       "</table>\n",
       "</div>"
      ],
      "text/plain": [
       "   Pregnancies   Glucose  BloodPressure  SkinThickness   Insulin       BMI  \\\n",
       "0          0.6  0.765432          0.000       1.000000  1.000000  0.170330   \n",
       "1         -0.4 -0.790123         -0.375       0.142857  0.000000 -0.598901   \n",
       "2          1.0  1.629630         -0.500       0.571429  1.000000 -0.961538   \n",
       "3         -0.4 -0.691358         -0.375      -0.714286 -0.126866 -0.434066   \n",
       "4         -0.6  0.493827         -2.000       1.000000  0.977612  1.214286   \n",
       "\n",
       "   DiabetesPedigreeFunction       Age  NewBMI_Obesity 1  NewBMI_Obesity 2  \\\n",
       "0                  0.665359  1.235294               1.0               0.0   \n",
       "1                 -0.056209  0.117647               0.0               0.0   \n",
       "2                  0.783007  0.176471               0.0               0.0   \n",
       "3                 -0.537255 -0.470588               0.0               0.0   \n",
       "4                  5.007843  0.235294               0.0               0.0   \n",
       "\n",
       "   NewBMI_Obesity 3  NewBMI_Overweight  NewBMI_Underweight  \\\n",
       "0               0.0                0.0                 0.0   \n",
       "1               0.0                1.0                 0.0   \n",
       "2               0.0                0.0                 0.0   \n",
       "3               0.0                1.0                 0.0   \n",
       "4               1.0                0.0                 0.0   \n",
       "\n",
       "   NewInsulinScore_Normal  NewGlucose_Low  NewGlucose_Normal  \\\n",
       "0                    -1.0             0.0                0.0   \n",
       "1                     0.0             0.0                1.0   \n",
       "2                    -1.0             0.0                0.0   \n",
       "3                     0.0             0.0                1.0   \n",
       "4                    -1.0             0.0                0.0   \n",
       "\n",
       "   NewGlucose_Overweight  NewGlucose_Secret  \n",
       "0                    0.0                1.0  \n",
       "1                    0.0                0.0  \n",
       "2                    0.0                1.0  \n",
       "3                    0.0                0.0  \n",
       "4                    0.0                1.0  "
      ]
     },
     "execution_count": 55,
     "metadata": {},
     "output_type": "execute_result"
    }
   ],
   "source": [
    "X_scale.head()"
   ]
  },
  {
   "cell_type": "code",
   "execution_count": 319,
   "id": "1c446d50",
   "metadata": {
    "ExecuteTime": {
     "end_time": "2021-12-15T20:45:48.184188Z",
     "start_time": "2021-12-15T20:45:48.160255Z"
    }
   },
   "outputs": [
    {
     "data": {
      "text/html": [
       "<div>\n",
       "<style scoped>\n",
       "    .dataframe tbody tr th:only-of-type {\n",
       "        vertical-align: middle;\n",
       "    }\n",
       "\n",
       "    .dataframe tbody tr th {\n",
       "        vertical-align: top;\n",
       "    }\n",
       "\n",
       "    .dataframe thead th {\n",
       "        text-align: right;\n",
       "    }\n",
       "</style>\n",
       "<table border=\"1\" class=\"dataframe\">\n",
       "  <thead>\n",
       "    <tr style=\"text-align: right;\">\n",
       "      <th></th>\n",
       "      <th>Pregnancies</th>\n",
       "      <th>Glucose</th>\n",
       "      <th>BloodPressure</th>\n",
       "      <th>SkinThickness</th>\n",
       "      <th>Insulin</th>\n",
       "      <th>BMI</th>\n",
       "      <th>DiabetesPedigreeFunction</th>\n",
       "      <th>Age</th>\n",
       "      <th>Outcome_Sick</th>\n",
       "      <th>NewBMI_Obesity 1</th>\n",
       "      <th>NewBMI_Obesity 2</th>\n",
       "      <th>NewBMI_Obesity 3</th>\n",
       "      <th>NewBMI_Overweight</th>\n",
       "      <th>NewBMI_Underweight</th>\n",
       "      <th>NewInsulinScore_Normal</th>\n",
       "      <th>NewGlucose_Low</th>\n",
       "      <th>NewGlucose_Normal</th>\n",
       "      <th>NewGlucose_Overweight</th>\n",
       "      <th>NewGlucose_Secret</th>\n",
       "    </tr>\n",
       "  </thead>\n",
       "  <tbody>\n",
       "    <tr>\n",
       "      <th>0</th>\n",
       "      <td>0.6</td>\n",
       "      <td>0.765432</td>\n",
       "      <td>0.000</td>\n",
       "      <td>1.000000</td>\n",
       "      <td>1.000000</td>\n",
       "      <td>0.170330</td>\n",
       "      <td>0.665359</td>\n",
       "      <td>1.235294</td>\n",
       "      <td>1</td>\n",
       "      <td>1</td>\n",
       "      <td>0</td>\n",
       "      <td>0</td>\n",
       "      <td>0</td>\n",
       "      <td>0</td>\n",
       "      <td>0</td>\n",
       "      <td>0</td>\n",
       "      <td>0</td>\n",
       "      <td>0</td>\n",
       "      <td>1</td>\n",
       "    </tr>\n",
       "    <tr>\n",
       "      <th>1</th>\n",
       "      <td>-0.4</td>\n",
       "      <td>-0.790123</td>\n",
       "      <td>-0.375</td>\n",
       "      <td>0.142857</td>\n",
       "      <td>0.000000</td>\n",
       "      <td>-0.598901</td>\n",
       "      <td>-0.056209</td>\n",
       "      <td>0.117647</td>\n",
       "      <td>0</td>\n",
       "      <td>0</td>\n",
       "      <td>0</td>\n",
       "      <td>0</td>\n",
       "      <td>1</td>\n",
       "      <td>0</td>\n",
       "      <td>1</td>\n",
       "      <td>0</td>\n",
       "      <td>1</td>\n",
       "      <td>0</td>\n",
       "      <td>0</td>\n",
       "    </tr>\n",
       "    <tr>\n",
       "      <th>2</th>\n",
       "      <td>1.0</td>\n",
       "      <td>1.629630</td>\n",
       "      <td>-0.500</td>\n",
       "      <td>0.571429</td>\n",
       "      <td>1.000000</td>\n",
       "      <td>-0.961538</td>\n",
       "      <td>0.783007</td>\n",
       "      <td>0.176471</td>\n",
       "      <td>1</td>\n",
       "      <td>0</td>\n",
       "      <td>0</td>\n",
       "      <td>0</td>\n",
       "      <td>0</td>\n",
       "      <td>0</td>\n",
       "      <td>0</td>\n",
       "      <td>0</td>\n",
       "      <td>0</td>\n",
       "      <td>0</td>\n",
       "      <td>1</td>\n",
       "    </tr>\n",
       "    <tr>\n",
       "      <th>3</th>\n",
       "      <td>-0.4</td>\n",
       "      <td>-0.691358</td>\n",
       "      <td>-0.375</td>\n",
       "      <td>-0.714286</td>\n",
       "      <td>-0.126866</td>\n",
       "      <td>-0.434066</td>\n",
       "      <td>-0.537255</td>\n",
       "      <td>-0.470588</td>\n",
       "      <td>0</td>\n",
       "      <td>0</td>\n",
       "      <td>0</td>\n",
       "      <td>0</td>\n",
       "      <td>1</td>\n",
       "      <td>0</td>\n",
       "      <td>1</td>\n",
       "      <td>0</td>\n",
       "      <td>1</td>\n",
       "      <td>0</td>\n",
       "      <td>0</td>\n",
       "    </tr>\n",
       "    <tr>\n",
       "      <th>4</th>\n",
       "      <td>-0.6</td>\n",
       "      <td>0.493827</td>\n",
       "      <td>-2.000</td>\n",
       "      <td>1.000000</td>\n",
       "      <td>0.977612</td>\n",
       "      <td>1.214286</td>\n",
       "      <td>5.007843</td>\n",
       "      <td>0.235294</td>\n",
       "      <td>1</td>\n",
       "      <td>0</td>\n",
       "      <td>0</td>\n",
       "      <td>1</td>\n",
       "      <td>0</td>\n",
       "      <td>0</td>\n",
       "      <td>0</td>\n",
       "      <td>0</td>\n",
       "      <td>0</td>\n",
       "      <td>0</td>\n",
       "      <td>1</td>\n",
       "    </tr>\n",
       "  </tbody>\n",
       "</table>\n",
       "</div>"
      ],
      "text/plain": [
       "   Pregnancies   Glucose  BloodPressure  SkinThickness   Insulin       BMI  \\\n",
       "0          0.6  0.765432          0.000       1.000000  1.000000  0.170330   \n",
       "1         -0.4 -0.790123         -0.375       0.142857  0.000000 -0.598901   \n",
       "2          1.0  1.629630         -0.500       0.571429  1.000000 -0.961538   \n",
       "3         -0.4 -0.691358         -0.375      -0.714286 -0.126866 -0.434066   \n",
       "4         -0.6  0.493827         -2.000       1.000000  0.977612  1.214286   \n",
       "\n",
       "   DiabetesPedigreeFunction       Age  Outcome_Sick  NewBMI_Obesity 1  \\\n",
       "0                  0.665359  1.235294             1                 1   \n",
       "1                 -0.056209  0.117647             0                 0   \n",
       "2                  0.783007  0.176471             1                 0   \n",
       "3                 -0.537255 -0.470588             0                 0   \n",
       "4                  5.007843  0.235294             1                 0   \n",
       "\n",
       "   NewBMI_Obesity 2  NewBMI_Obesity 3  NewBMI_Overweight  NewBMI_Underweight  \\\n",
       "0                 0                 0                  0                   0   \n",
       "1                 0                 0                  1                   0   \n",
       "2                 0                 0                  0                   0   \n",
       "3                 0                 0                  1                   0   \n",
       "4                 0                 1                  0                   0   \n",
       "\n",
       "   NewInsulinScore_Normal  NewGlucose_Low  NewGlucose_Normal  \\\n",
       "0                       0               0                  0   \n",
       "1                       1               0                  1   \n",
       "2                       0               0                  0   \n",
       "3                       1               0                  1   \n",
       "4                       0               0                  0   \n",
       "\n",
       "   NewGlucose_Overweight  NewGlucose_Secret  \n",
       "0                      0                  1  \n",
       "1                      0                  0  \n",
       "2                      0                  1  \n",
       "3                      0                  0  \n",
       "4                      0                  1  "
      ]
     },
     "execution_count": 319,
     "metadata": {},
     "output_type": "execute_result"
    }
   ],
   "source": [
    "X = pd.concat([X, df2[categorical_features]], axis=1)\n",
    "X.head()"
   ]
  },
  {
   "cell_type": "code",
   "execution_count": 320,
   "id": "0ae09ffe",
   "metadata": {
    "ExecuteTime": {
     "end_time": "2021-12-15T20:45:49.418032Z",
     "start_time": "2021-12-15T20:45:49.413037Z"
    }
   },
   "outputs": [
    {
     "data": {
      "text/plain": [
       "Index(['Pregnancies', 'Glucose', 'BloodPressure', 'SkinThickness', 'Insulin',\n",
       "       'BMI', 'DiabetesPedigreeFunction', 'Age', 'Outcome_Sick',\n",
       "       'NewBMI_Obesity 1', 'NewBMI_Obesity 2', 'NewBMI_Obesity 3',\n",
       "       'NewBMI_Overweight', 'NewBMI_Underweight', 'NewInsulinScore_Normal',\n",
       "       'NewGlucose_Low', 'NewGlucose_Normal', 'NewGlucose_Overweight',\n",
       "       'NewGlucose_Secret'],\n",
       "      dtype='object')"
      ]
     },
     "execution_count": 320,
     "metadata": {},
     "output_type": "execute_result"
    }
   ],
   "source": [
    "X.columns"
   ]
  },
  {
   "cell_type": "code",
   "execution_count": 321,
   "id": "38357942",
   "metadata": {
    "ExecuteTime": {
     "end_time": "2021-12-15T20:45:50.918216Z",
     "start_time": "2021-12-15T20:45:50.898273Z"
    }
   },
   "outputs": [
    {
     "data": {
      "text/plain": [
       "0    1\n",
       "1    0\n",
       "2    1\n",
       "3    0\n",
       "4    1\n",
       "Name: Outcome_Sick, dtype: uint8"
      ]
     },
     "execution_count": 321,
     "metadata": {},
     "output_type": "execute_result"
    }
   ],
   "source": [
    "y.head()"
   ]
  },
  {
   "cell_type": "code",
   "execution_count": 322,
   "id": "64af39b1",
   "metadata": {
    "ExecuteTime": {
     "end_time": "2021-12-15T20:45:57.974155Z",
     "start_time": "2021-12-15T20:45:57.954176Z"
    }
   },
   "outputs": [],
   "source": [
    "X.drop('Outcome_Sick', axis=1, inplace=True)"
   ]
  },
  {
   "cell_type": "markdown",
   "id": "41ee00c4",
   "metadata": {},
   "source": [
    "<a id='7'></a>\n",
    "# Spliting the data into Training and Testing Data"
   ]
  },
  {
   "cell_type": "code",
   "execution_count": 56,
   "id": "141c8e51",
   "metadata": {
    "ExecuteTime": {
     "end_time": "2022-01-09T11:13:57.042223Z",
     "start_time": "2022-01-09T11:13:57.026557Z"
    }
   },
   "outputs": [],
   "source": [
    "X_train, X_test, y_train, y_test = train_test_split(X_scale,y , test_size=0.25, random_state=0)"
   ]
  },
  {
   "cell_type": "markdown",
   "id": "c53fbf13",
   "metadata": {},
   "source": [
    "<a id='8'></a>\n",
    "# Modeling"
   ]
  },
  {
   "cell_type": "code",
   "execution_count": 92,
   "id": "f1b1c34f",
   "metadata": {
    "ExecuteTime": {
     "end_time": "2022-01-09T11:22:08.575227Z",
     "start_time": "2022-01-09T11:22:08.545818Z"
    }
   },
   "outputs": [],
   "source": [
    "def kfolds(model, model_name):\n",
    "    model = cross_val_score(model, X,y, cv=5)\n",
    "    model_score = np.average(model)\n",
    "    print(f\"{model_name} score on cross validation: {model_score * 100}%\")\n",
    "\n",
    "def train(model, model_name):\n",
    "    model.fit(X_train, y_train)\n",
    "    model_train_score = model.score(X_train, y_train)\n",
    "    model_test_score = model.score(X_test, y_test)\n",
    "    print(f\"{model_name} model score on Training data: {model_train_score * 100}%\\n{model_name} model score on Testing data: {model_test_score * 100}%\")\n",
    "\n",
    "def conf_matrix(model):\n",
    "    y_pred = model.predict(X_test)\n",
    "    cm = confusion_matrix(y_test, y_pred)\n",
    "    plt.figure(figsize=(10,8))\n",
    "    sns.heatmap(cm, annot=True, fmt='d');\n",
    "    \n",
    "def class_report(model):\n",
    "    y_pred = model.predict(X_test)\n",
    "    print(classification_report(y_test, y_pred))\n",
    "    \n",
    "def roc(model, model_name):\n",
    "    y_pred_svm = model.decision_function(X_test)\n",
    "    svm_fpr, svm_tpr, _ = roc_curve(y_test, y_pred_svm)\n",
    "    auc_svm = auc(svm_fpr, svm_tpr)\n",
    "    plt.figure(figsize=(5, 5), dpi=100)\n",
    "    plt.plot(svm_fpr, svm_tpr, color=\"darkorange\", label=f'{model_name} (auc = %0.3f)' % auc_svm)\n",
    "    plt.plot([0, 1], [0, 1], color=\"navy\", lw=2, linestyle=\"--\")\n",
    "    plt.xlabel('False Positive Rate -->')\n",
    "    plt.ylabel('True Positive Rate -->')\n",
    "    plt.legend()\n",
    "    plt.show()"
   ]
  },
  {
   "cell_type": "markdown",
   "id": "c4fce631",
   "metadata": {},
   "source": [
    "<a id='8.1'></a>\n",
    "## Logistic Regression"
   ]
  },
  {
   "cell_type": "code",
   "execution_count": 93,
   "id": "bc0faf70",
   "metadata": {
    "ExecuteTime": {
     "end_time": "2022-01-09T11:22:09.520425Z",
     "start_time": "2022-01-09T11:22:08.892336Z"
    }
   },
   "outputs": [
    {
     "name": "stdout",
     "output_type": "stream",
     "text": [
      "Logistic Regression score on cross validation: 83.58713182242595%\n",
      "Logistic Regression model score on Training data: 84.72222222222221%\n",
      "Logistic Regression model score on Testing data: 88.54166666666666%\n"
     ]
    }
   ],
   "source": [
    "lr = LogisticRegression()\n",
    "kfolds(lr, \"Logistic Regression\")\n",
    "train(lr, \"Logistic Regression\")"
   ]
  },
  {
   "cell_type": "code",
   "execution_count": 94,
   "id": "66436e79",
   "metadata": {
    "ExecuteTime": {
     "end_time": "2022-01-09T11:22:10.022890Z",
     "start_time": "2022-01-09T11:22:09.526816Z"
    }
   },
   "outputs": [
    {
     "data": {
      "image/png": "[encoded data removed]",
      "text/plain": [
       "<Figure size 720x576 with 2 Axes>"
      ]
     },
     "metadata": {
      "needs_background": "light"
     },
     "output_type": "display_data"
    }
   ],
   "source": [
    "conf_matrix(lr)"
   ]
  },
  {
   "cell_type": "code",
   "execution_count": 98,
   "id": "4b7cce20",
   "metadata": {
    "ExecuteTime": {
     "end_time": "2022-01-09T11:22:56.695562Z",
     "start_time": "2022-01-09T11:22:56.646390Z"
    }
   },
   "outputs": [
    {
     "name": "stdout",
     "output_type": "stream",
     "text": [
      "              precision    recall  f1-score   support\n",
      "\n",
      "           0       0.95      0.92      0.94       130\n",
      "           1       0.85      0.90      0.88        62\n",
      "\n",
      "    accuracy                           0.92       192\n",
      "   macro avg       0.90      0.91      0.91       192\n",
      "weighted avg       0.92      0.92      0.92       192\n",
      "\n"
     ]
    }
   ],
   "source": [
    "class_report(rf)"
   ]
  },
  {
   "cell_type": "code",
   "execution_count": 99,
   "id": "6d8fe6e7",
   "metadata": {
    "ExecuteTime": {
     "end_time": "2022-01-09T11:23:16.581944Z",
     "start_time": "2022-01-09T11:23:16.059098Z"
    }
   },
   "outputs": [
    {
     "data": {
      "image/png": "[encoded data removed]",
      "text/plain": [
       "<Figure size 500x500 with 1 Axes>"
      ]
     },
     "metadata": {
      "needs_background": "light"
     },
     "output_type": "display_data"
    }
   ],
   "source": [
    "roc(lr, \"Logistic Regression\")"
   ]
  },
  {
   "cell_type": "markdown",
   "id": "68a0ccac",
   "metadata": {},
   "source": [
    "<a id='8.2'></a>\n",
    "## Random Forest"
   ]
  },
  {
   "cell_type": "code",
   "execution_count": 95,
   "id": "20c8f018",
   "metadata": {
    "ExecuteTime": {
     "end_time": "2022-01-09T11:22:20.564314Z",
     "start_time": "2022-01-09T11:22:16.929409Z"
    }
   },
   "outputs": [
    {
     "name": "stdout",
     "output_type": "stream",
     "text": [
      "Random Forest score on cross validation: 88.28622358034123%\n",
      "Random Forest model score on Training data: 100.0%\n",
      "Random Forest model score on Testing data: 91.66666666666666%\n"
     ]
    }
   ],
   "source": [
    "rf = RandomForestClassifier()\n",
    "kfolds(rf, \"Random Forest\")\n",
    "train(rf, \"Random Forest\")"
   ]
  },
  {
   "cell_type": "code",
   "execution_count": 96,
   "id": "73a6f641",
   "metadata": {
    "ExecuteTime": {
     "end_time": "2022-01-09T11:22:26.360239Z",
     "start_time": "2022-01-09T11:22:25.828202Z"
    }
   },
   "outputs": [
    {
     "data": {
      "image/png": "[encoded data removed]",
      "text/plain": [
       "<Figure size 720x576 with 2 Axes>"
      ]
     },
     "metadata": {
      "needs_background": "light"
     },
     "output_type": "display_data"
    }
   ],
   "source": [
    "conf_matrix(rf)"
   ]
  },
  {
   "cell_type": "code",
   "execution_count": 97,
   "id": "6f2c739f",
   "metadata": {
    "ExecuteTime": {
     "end_time": "2022-01-09T11:22:41.366159Z",
     "start_time": "2022-01-09T11:22:41.312693Z"
    }
   },
   "outputs": [
    {
     "name": "stdout",
     "output_type": "stream",
     "text": [
      "              precision    recall  f1-score   support\n",
      "\n",
      "           0       0.95      0.92      0.94       130\n",
      "           1       0.85      0.90      0.88        62\n",
      "\n",
      "    accuracy                           0.92       192\n",
      "   macro avg       0.90      0.91      0.91       192\n",
      "weighted avg       0.92      0.92      0.92       192\n",
      "\n"
     ]
    }
   ],
   "source": [
    "class_report(rf)"
   ]
  },
  {
   "cell_type": "markdown",
   "id": "1a71aa8f",
   "metadata": {},
   "source": [
    "<a id='8.3'></a>\n",
    "## KNN"
   ]
  },
  {
   "cell_type": "code",
   "execution_count": 60,
   "id": "7b5e6aa2",
   "metadata": {
    "ExecuteTime": {
     "end_time": "2022-01-09T11:14:57.793322Z",
     "start_time": "2022-01-09T11:14:57.435179Z"
    }
   },
   "outputs": [
    {
     "name": "stdout",
     "output_type": "stream",
     "text": [
      "KNN score on cross validation: 85.54536966301673%\n",
      "KNN model score on Training data: 88.19444444444444%\n",
      "KNN model score on Testing data: 88.02083333333334%\n"
     ]
    }
   ],
   "source": [
    "knn = KNeighborsClassifier()\n",
    "kfolds(knn, \"KNN\")\n",
    "train(knn, \"KNN\")"
   ]
  },
  {
   "cell_type": "code",
   "execution_count": 100,
   "id": "7f04019e",
   "metadata": {
    "ExecuteTime": {
     "end_time": "2022-01-09T11:23:45.318565Z",
     "start_time": "2022-01-09T11:23:44.733156Z"
    }
   },
   "outputs": [
    {
     "data": {
      "image/png": "[encoded data removed]",
      "text/plain": [
       "<Figure size 720x576 with 2 Axes>"
      ]
     },
     "metadata": {
      "needs_background": "light"
     },
     "output_type": "display_data"
    }
   ],
   "source": [
    "conf_matrix(knn)"
   ]
  },
  {
   "cell_type": "code",
   "execution_count": 101,
   "id": "03e7b2a6",
   "metadata": {
    "ExecuteTime": {
     "end_time": "2022-01-09T11:23:59.707138Z",
     "start_time": "2022-01-09T11:23:59.647245Z"
    }
   },
   "outputs": [
    {
     "name": "stdout",
     "output_type": "stream",
     "text": [
      "              precision    recall  f1-score   support\n",
      "\n",
      "           0       0.90      0.92      0.91       130\n",
      "           1       0.83      0.79      0.81        62\n",
      "\n",
      "    accuracy                           0.88       192\n",
      "   macro avg       0.87      0.86      0.86       192\n",
      "weighted avg       0.88      0.88      0.88       192\n",
      "\n"
     ]
    }
   ],
   "source": [
    "class_report(knn)"
   ]
  },
  {
   "cell_type": "markdown",
   "id": "aa26cbef",
   "metadata": {},
   "source": [
    "<a id='8.4'></a>\n",
    "## Bagging"
   ]
  },
  {
   "cell_type": "code",
   "execution_count": 61,
   "id": "51a5f51b",
   "metadata": {
    "ExecuteTime": {
     "end_time": "2022-01-09T11:15:09.543614Z",
     "start_time": "2022-01-09T11:15:08.920549Z"
    }
   },
   "outputs": [
    {
     "name": "stdout",
     "output_type": "stream",
     "text": [
      "Bagging score on cross validation: 87.63347763347763%\n",
      "Bagging model score on Training data: 98.4375%\n",
      "Bagging model score on Testing data: 91.66666666666666%\n"
     ]
    }
   ],
   "source": [
    "bagg_model = BaggingClassifier()\n",
    "kfolds(bagg_model, \"Bagging\")\n",
    "train(bagg_model, \"Bagging\")"
   ]
  },
  {
   "cell_type": "code",
   "execution_count": 102,
   "id": "5401450e",
   "metadata": {
    "ExecuteTime": {
     "end_time": "2022-01-09T11:24:14.599078Z",
     "start_time": "2022-01-09T11:24:14.117622Z"
    }
   },
   "outputs": [
    {
     "data": {
      "image/png": "[encoded data removed]",
      "text/plain": [
       "<Figure size 720x576 with 2 Axes>"
      ]
     },
     "metadata": {
      "needs_background": "light"
     },
     "output_type": "display_data"
    }
   ],
   "source": [
    "conf_matrix(bagg_model)"
   ]
  },
  {
   "cell_type": "markdown",
   "id": "bc81a56c",
   "metadata": {},
   "source": [
    "<a id='8.5'></a>\n",
    "## Gradient Boosting"
   ]
  },
  {
   "cell_type": "code",
   "execution_count": 104,
   "id": "8f9c90e4",
   "metadata": {
    "ExecuteTime": {
     "end_time": "2022-01-09T11:24:40.166420Z",
     "start_time": "2022-01-09T11:24:37.162540Z"
    }
   },
   "outputs": [
    {
     "name": "stdout",
     "output_type": "stream",
     "text": [
      "Boosting score on cross validation: 89.06714200831848%\n",
      "Boosting model score on Training data: 99.82638888888889%\n",
      "Boosting model score on Testing data: 94.27083333333334%\n"
     ]
    }
   ],
   "source": [
    "gb_model = GradientBoostingClassifier(n_estimators=150, random_state=20)\n",
    "kfolds(gb_model, \"Boosting\")\n",
    "train(gb_model, \"Boosting\")"
   ]
  },
  {
   "cell_type": "code",
   "execution_count": 105,
   "id": "0b78c27b",
   "metadata": {
    "ExecuteTime": {
     "end_time": "2022-01-09T11:24:48.080962Z",
     "start_time": "2022-01-09T11:24:47.667795Z"
    }
   },
   "outputs": [
    {
     "data": {
      "image/png": "[encoded data removed]",
      "text/plain": [
       "<Figure size 720x576 with 2 Axes>"
      ]
     },
     "metadata": {
      "needs_background": "light"
     },
     "output_type": "display_data"
    }
   ],
   "source": [
    "conf_matrix(gb_model)"
   ]
  },
  {
   "cell_type": "code",
   "execution_count": 108,
   "id": "e6666b1a",
   "metadata": {
    "ExecuteTime": {
     "end_time": "2022-01-09T11:26:04.741403Z",
     "start_time": "2022-01-09T11:26:04.701175Z"
    }
   },
   "outputs": [
    {
     "name": "stdout",
     "output_type": "stream",
     "text": [
      "              precision    recall  f1-score   support\n",
      "\n",
      "           0       0.97      0.95      0.96       130\n",
      "           1       0.89      0.94      0.91        62\n",
      "\n",
      "    accuracy                           0.94       192\n",
      "   macro avg       0.93      0.94      0.94       192\n",
      "weighted avg       0.94      0.94      0.94       192\n",
      "\n"
     ]
    }
   ],
   "source": [
    "class_report(gb_model)"
   ]
  },
  {
   "cell_type": "markdown",
   "id": "3a29087b",
   "metadata": {},
   "source": [
    "<a id='8.6'></a>\n",
    "## Decision Tree"
   ]
  },
  {
   "cell_type": "code",
   "execution_count": 106,
   "id": "c750c113",
   "metadata": {
    "ExecuteTime": {
     "end_time": "2022-01-09T11:24:56.244185Z",
     "start_time": "2022-01-09T11:24:56.109434Z"
    }
   },
   "outputs": [
    {
     "name": "stdout",
     "output_type": "stream",
     "text": [
      "Decision Tree score on cross validation: 86.85171038112213%\n",
      "Decision Tree model score on Training data: 100.0%\n",
      "Decision Tree model score on Testing data: 84.89583333333334%\n"
     ]
    }
   ],
   "source": [
    "dt_model = DecisionTreeClassifier()\n",
    "kfolds(dt_model, \"Decision Tree\")\n",
    "train(dt_model, \"Decision Tree\")"
   ]
  },
  {
   "cell_type": "code",
   "execution_count": 107,
   "id": "e7666449",
   "metadata": {
    "ExecuteTime": {
     "end_time": "2022-01-09T11:25:05.748808Z",
     "start_time": "2022-01-09T11:25:05.359843Z"
    }
   },
   "outputs": [
    {
     "data": {
      "image/png": "[encoded data removed]",
      "text/plain": [
       "<Figure size 720x576 with 2 Axes>"
      ]
     },
     "metadata": {
      "needs_background": "light"
     },
     "output_type": "display_data"
    }
   ],
   "source": [
    "conf_matrix(dt_model)"
   ]
  },
  {
   "cell_type": "code",
   "execution_count": 109,
   "id": "8776c462",
   "metadata": {
    "ExecuteTime": {
     "end_time": "2022-01-09T11:27:29.044945Z",
     "start_time": "2022-01-09T11:27:29.026565Z"
    }
   },
   "outputs": [
    {
     "name": "stdout",
     "output_type": "stream",
     "text": [
      "              precision    recall  f1-score   support\n",
      "\n",
      "           0       0.90      0.87      0.89       130\n",
      "           1       0.75      0.81      0.78        62\n",
      "\n",
      "    accuracy                           0.85       192\n",
      "   macro avg       0.83      0.84      0.83       192\n",
      "weighted avg       0.85      0.85      0.85       192\n",
      "\n"
     ]
    }
   ],
   "source": [
    "class_report(dt_model)"
   ]
  },
  {
   "cell_type": "markdown",
   "id": "64279d4a",
   "metadata": {},
   "source": [
    "<a id='8.7'></a>\n",
    "## SVM"
   ]
  },
  {
   "cell_type": "code",
   "execution_count": 90,
   "id": "85688e70",
   "metadata": {
    "ExecuteTime": {
     "end_time": "2022-01-09T11:21:26.145574Z",
     "start_time": "2022-01-09T11:21:25.614158Z"
    }
   },
   "outputs": [
    {
     "name": "stdout",
     "output_type": "stream",
     "text": [
      "SVM score on cross validation: 84.762753586283%\n",
      "SVM model score on Training data: 89.58333333333334%\n",
      "SVM model score on Testing data: 89.58333333333334%\n"
     ]
    }
   ],
   "source": [
    "svm_model = SVC(kernel='rbf')\n",
    "kfolds(svm_model, \"SVM\")\n",
    "train(svm_model, \"SVM\")"
   ]
  },
  {
   "cell_type": "code",
   "execution_count": 110,
   "id": "92ff612e",
   "metadata": {
    "ExecuteTime": {
     "end_time": "2022-01-09T11:27:39.006914Z",
     "start_time": "2022-01-09T11:27:38.603851Z"
    }
   },
   "outputs": [
    {
     "data": {
      "image/png": "[encoded data removed]",
      "text/plain": [
       "<Figure size 720x576 with 2 Axes>"
      ]
     },
     "metadata": {
      "needs_background": "light"
     },
     "output_type": "display_data"
    }
   ],
   "source": [
    "conf_matrix(svm_model)"
   ]
  },
  {
   "cell_type": "code",
   "execution_count": 113,
   "id": "bac338ab",
   "metadata": {
    "ExecuteTime": {
     "end_time": "2022-01-09T11:29:32.236019Z",
     "start_time": "2022-01-09T11:29:32.201704Z"
    }
   },
   "outputs": [
    {
     "name": "stdout",
     "output_type": "stream",
     "text": [
      "              precision    recall  f1-score   support\n",
      "\n",
      "           0       0.92      0.92      0.92       130\n",
      "           1       0.84      0.84      0.84        62\n",
      "\n",
      "    accuracy                           0.90       192\n",
      "   macro avg       0.88      0.88      0.88       192\n",
      "weighted avg       0.90      0.90      0.90       192\n",
      "\n"
     ]
    }
   ],
   "source": [
    "class_report(svm_model)"
   ]
  },
  {
   "cell_type": "code",
   "execution_count": 114,
   "id": "229d994f",
   "metadata": {
    "ExecuteTime": {
     "end_time": "2022-01-09T11:29:44.739902Z",
     "start_time": "2022-01-09T11:29:44.312337Z"
    }
   },
   "outputs": [
    {
     "data": {
      "image/png": "[encoded data removed]",
      "text/plain": [
       "<Figure size 500x500 with 1 Axes>"
      ]
     },
     "metadata": {
      "needs_background": "light"
     },
     "output_type": "display_data"
    }
   ],
   "source": [
    "roc(svm_model, \"SVM\")"
   ]
  },
  {
   "cell_type": "markdown",
   "id": "b6049e35",
   "metadata": {},
   "source": [
    "<a id='8.8'></a>\n",
    "## Xgboost"
   ]
  },
  {
   "cell_type": "code",
   "execution_count": 67,
   "id": "9d586761",
   "metadata": {
    "ExecuteTime": {
     "end_time": "2022-01-09T11:19:03.309949Z",
     "start_time": "2022-01-09T11:19:02.805194Z"
    }
   },
   "outputs": [
    {
     "name": "stdout",
     "output_type": "stream",
     "text": [
      "[13:19:02] WARNING: C:/Users/Administrator/workspace/xgboost-win64_release_1.5.1/src/learner.cc:1115: Starting in XGBoost 1.3.0, the default evaluation metric used with the objective 'binary:logistic' was changed from 'error' to 'logloss'. Explicitly set eval_metric if you'd like to restore the old behavior.\n",
      "Xgboost model score on Training data: 100.0%\n",
      "Xgboost model score on Testing data: 92.1875%\n"
     ]
    }
   ],
   "source": [
    "xgboost = XGBClassifier()\n",
    "train(xgboost, \"Xgboost\")"
   ]
  },
  {
   "cell_type": "code",
   "execution_count": 111,
   "id": "da11511e",
   "metadata": {
    "ExecuteTime": {
     "end_time": "2022-01-09T11:28:45.843196Z",
     "start_time": "2022-01-09T11:28:45.376746Z"
    }
   },
   "outputs": [
    {
     "data": {
      "image/png": "[encoded data removed]",
      "text/plain": [
       "<Figure size 720x576 with 2 Axes>"
      ]
     },
     "metadata": {
      "needs_background": "light"
     },
     "output_type": "display_data"
    }
   ],
   "source": [
    "conf_matrix(xgboost)"
   ]
  },
  {
   "cell_type": "code",
   "execution_count": 112,
   "id": "7e4ed13f",
   "metadata": {
    "ExecuteTime": {
     "end_time": "2022-01-09T11:29:00.792887Z",
     "start_time": "2022-01-09T11:29:00.738050Z"
    }
   },
   "outputs": [
    {
     "name": "stdout",
     "output_type": "stream",
     "text": [
      "              precision    recall  f1-score   support\n",
      "\n",
      "           0       0.97      0.92      0.94       130\n",
      "           1       0.84      0.94      0.89        62\n",
      "\n",
      "    accuracy                           0.92       192\n",
      "   macro avg       0.90      0.93      0.91       192\n",
      "weighted avg       0.93      0.92      0.92       192\n",
      "\n"
     ]
    }
   ],
   "source": [
    "class_report(xgboost)"
   ]
  },
  {
   "cell_type": "markdown",
   "id": "0df707c1",
   "metadata": {},
   "source": [
    "<a id='9'></a>\n",
    "# TP, TN, FP, FN"
   ]
  },
  {
   "cell_type": "code",
   "execution_count": 119,
   "id": "2cbca40d",
   "metadata": {
    "ExecuteTime": {
     "end_time": "2022-01-09T13:21:20.255683Z",
     "start_time": "2022-01-09T13:21:20.236726Z"
    }
   },
   "outputs": [],
   "source": [
    "def tp(model, model_name):\n",
    "    y_pred = model.predict(X_test)\n",
    "    cm = confusion_matrix(y_test, y_pred)\n",
    "    TN = cm[0][0]\n",
    "    FN = cm[1][0]\n",
    "    TP = cm[1][1]\n",
    "    FP = cm[0][1]\n",
    "    ACC = (TP+TN)/(TP+FP+FN+TN)\n",
    "    TPR = TP/(TP+FN)\n",
    "    TNR = TN/(TN+FP) \n",
    "    PPV = TP/(TP+FP)\n",
    "    NPV = TN/(TN+FN)\n",
    "    FPR = FP/(FP+TN)\n",
    "    FNR = FN/(TP+FN)\n",
    "    FDR = FP/(TP+FP)\n",
    "\n",
    "    print(f\"TP, FN, TP, FP Overall Accuarcy of {model_name}: {ACC*100}%\")\n",
    "    print(f\"Sensitivity Accuarcy of {model_name}: {TPR * 100}%\")\n",
    "    print(f\"Specificity Negative Rate Accuarcy of {model_name}: {TNR * 100}%\")\n",
    "    print(f\"Negative predictive value Accuarcy of {model_name}: {NPV * 100}%\")\n",
    "    print(f\"Fall out Accuarcy of {model_name}: {FPR * 100}%\")\n",
    "    print(f\"False negative rate Accuarcy of {model_name}: {FNR * 100}%\")\n",
    "    print(f\"False discovery rate Accuarcy of {model_name}: {FDR * 100}%\")"
   ]
  },
  {
   "cell_type": "markdown",
   "id": "6bb16479",
   "metadata": {},
   "source": [
    "<a id='9.1'></a>\n",
    "## Logistic Regression"
   ]
  },
  {
   "cell_type": "code",
   "execution_count": 120,
   "id": "4ab963da",
   "metadata": {
    "ExecuteTime": {
     "end_time": "2022-01-09T13:25:51.623899Z",
     "start_time": "2022-01-09T13:25:51.605972Z"
    }
   },
   "outputs": [
    {
     "name": "stdout",
     "output_type": "stream",
     "text": [
      "TP, FN, TP, FP Overall Accuarcy of Logistic Regression: 88.54166666666666%\n",
      "Sensitivity Accuarcy of Logistic Regression: 85.48387096774194%\n",
      "Specificity Negative Rate Accuarcy of Logistic Regression: 90.0%\n",
      "Negative predictive value Accuarcy of Logistic Regression: 92.85714285714286%\n",
      "Fall out Accuarcy of Logistic Regression: 10.0%\n",
      "False negative rate Accuarcy of Logistic Regression: 14.516129032258066%\n",
      "False discovery rate Accuarcy of Logistic Regression: 19.696969696969695%\n"
     ]
    }
   ],
   "source": [
    "tp(lr, \"Logistic Regression\")"
   ]
  },
  {
   "cell_type": "markdown",
   "id": "310fdb82",
   "metadata": {},
   "source": [
    "<a id='9.1'></a>\n",
    "## Random Forest"
   ]
  },
  {
   "cell_type": "code",
   "execution_count": 121,
   "id": "ddf1b38c",
   "metadata": {
    "ExecuteTime": {
     "end_time": "2022-01-09T13:26:04.902320Z",
     "start_time": "2022-01-09T13:26:04.882381Z"
    }
   },
   "outputs": [
    {
     "name": "stdout",
     "output_type": "stream",
     "text": [
      "TP, FN, TP, FP Overall Accuarcy of Random Forest: 91.66666666666666%\n",
      "Sensitivity Accuarcy of Random Forest: 90.32258064516128%\n",
      "Specificity Negative Rate Accuarcy of Random Forest: 92.3076923076923%\n",
      "Negative predictive value Accuarcy of Random Forest: 95.23809523809523%\n",
      "Fall out Accuarcy of Random Forest: 7.6923076923076925%\n",
      "False negative rate Accuarcy of Random Forest: 9.67741935483871%\n",
      "False discovery rate Accuarcy of Random Forest: 15.151515151515152%\n"
     ]
    }
   ],
   "source": [
    "tp(rf, \"Random Forest\")"
   ]
  },
  {
   "cell_type": "markdown",
   "id": "360f579d",
   "metadata": {},
   "source": [
    "<a id='9.3'></a>\n",
    "## KNN"
   ]
  },
  {
   "cell_type": "code",
   "execution_count": 122,
   "id": "629b6952",
   "metadata": {
    "ExecuteTime": {
     "end_time": "2022-01-09T13:26:16.700633Z",
     "start_time": "2022-01-09T13:26:16.679690Z"
    }
   },
   "outputs": [
    {
     "name": "stdout",
     "output_type": "stream",
     "text": [
      "TP, FN, TP, FP Overall Accuarcy of KNN: 88.02083333333334%\n",
      "Sensitivity Accuarcy of KNN: 79.03225806451613%\n",
      "Specificity Negative Rate Accuarcy of KNN: 92.3076923076923%\n",
      "Negative predictive value Accuarcy of KNN: 90.22556390977444%\n",
      "Fall out Accuarcy of KNN: 7.6923076923076925%\n",
      "False negative rate Accuarcy of KNN: 20.967741935483872%\n",
      "False discovery rate Accuarcy of KNN: 16.94915254237288%\n"
     ]
    }
   ],
   "source": [
    "tp(knn, \"KNN\")"
   ]
  },
  {
   "cell_type": "markdown",
   "id": "332f9a53",
   "metadata": {},
   "source": [
    "<a id='9.4'></a>\n",
    "## Bagging"
   ]
  },
  {
   "cell_type": "code",
   "execution_count": 123,
   "id": "7601e5b6",
   "metadata": {
    "ExecuteTime": {
     "end_time": "2022-01-09T13:26:27.761974Z",
     "start_time": "2022-01-09T13:26:27.741025Z"
    }
   },
   "outputs": [
    {
     "name": "stdout",
     "output_type": "stream",
     "text": [
      "TP, FN, TP, FP Overall Accuarcy of Bagging: 91.66666666666666%\n",
      "Sensitivity Accuarcy of Bagging: 87.09677419354838%\n",
      "Specificity Negative Rate Accuarcy of Bagging: 93.84615384615384%\n",
      "Negative predictive value Accuarcy of Bagging: 93.84615384615384%\n",
      "Fall out Accuarcy of Bagging: 6.153846153846154%\n",
      "False negative rate Accuarcy of Bagging: 12.903225806451612%\n",
      "False discovery rate Accuarcy of Bagging: 12.903225806451612%\n"
     ]
    }
   ],
   "source": [
    "tp(bagg_model, \"Bagging\")"
   ]
  },
  {
   "cell_type": "markdown",
   "id": "54952ab7",
   "metadata": {},
   "source": [
    "<a id='9.1'></a>\n",
    "## Gradient Boosting"
   ]
  },
  {
   "cell_type": "code",
   "execution_count": 124,
   "id": "526bf5c1",
   "metadata": {
    "ExecuteTime": {
     "end_time": "2022-01-09T13:27:28.010533Z",
     "start_time": "2022-01-09T13:27:27.994587Z"
    }
   },
   "outputs": [
    {
     "name": "stdout",
     "output_type": "stream",
     "text": [
      "TP, FN, TP, FP Overall Accuarcy of Gradient Boosting: 94.27083333333334%\n",
      "Sensitivity Accuarcy of Gradient Boosting: 93.54838709677419%\n",
      "Specificity Negative Rate Accuarcy of Gradient Boosting: 94.61538461538461%\n",
      "Negative predictive value Accuarcy of Gradient Boosting: 96.8503937007874%\n",
      "Fall out Accuarcy of Gradient Boosting: 5.384615384615385%\n",
      "False negative rate Accuarcy of Gradient Boosting: 6.451612903225806%\n",
      "False discovery rate Accuarcy of Gradient Boosting: 10.76923076923077%\n"
     ]
    }
   ],
   "source": [
    "tp(gb_model, \"Gradient Boosting\")"
   ]
  },
  {
   "cell_type": "markdown",
   "id": "520acd7f",
   "metadata": {},
   "source": [
    "<a id='9.6'></a>\n",
    "## Decision Tree"
   ]
  },
  {
   "cell_type": "code",
   "execution_count": 125,
   "id": "09e09084",
   "metadata": {
    "ExecuteTime": {
     "end_time": "2022-01-09T13:27:28.642662Z",
     "start_time": "2022-01-09T13:27:28.621723Z"
    }
   },
   "outputs": [
    {
     "name": "stdout",
     "output_type": "stream",
     "text": [
      "TP, FN, TP, FP Overall Accuarcy of Decision Tree: 84.89583333333334%\n",
      "Sensitivity Accuarcy of Decision Tree: 80.64516129032258%\n",
      "Specificity Negative Rate Accuarcy of Decision Tree: 86.92307692307692%\n",
      "Negative predictive value Accuarcy of Decision Tree: 90.4%\n",
      "Fall out Accuarcy of Decision Tree: 13.076923076923078%\n",
      "False negative rate Accuarcy of Decision Tree: 19.35483870967742%\n",
      "False discovery rate Accuarcy of Decision Tree: 25.37313432835821%\n"
     ]
    }
   ],
   "source": [
    "tp(dt_model, \"Decision Tree\")"
   ]
  },
  {
   "cell_type": "markdown",
   "id": "b6025204",
   "metadata": {},
   "source": [
    "<a id='9.7'></a>\n",
    "## SVM"
   ]
  },
  {
   "cell_type": "code",
   "execution_count": 126,
   "id": "dea61cd6",
   "metadata": {
    "ExecuteTime": {
     "end_time": "2022-01-09T13:27:29.227011Z",
     "start_time": "2022-01-09T13:27:29.210063Z"
    }
   },
   "outputs": [
    {
     "name": "stdout",
     "output_type": "stream",
     "text": [
      "TP, FN, TP, FP Overall Accuarcy of SVM: 89.58333333333334%\n",
      "Sensitivity Accuarcy of SVM: 83.87096774193549%\n",
      "Specificity Negative Rate Accuarcy of SVM: 92.3076923076923%\n",
      "Negative predictive value Accuarcy of SVM: 92.3076923076923%\n",
      "Fall out Accuarcy of SVM: 7.6923076923076925%\n",
      "False negative rate Accuarcy of SVM: 16.129032258064516%\n",
      "False discovery rate Accuarcy of SVM: 16.129032258064516%\n"
     ]
    }
   ],
   "source": [
    "tp(svm_model, \"SVM\")"
   ]
  },
  {
   "cell_type": "markdown",
   "id": "6aebaa42",
   "metadata": {},
   "source": [
    "<a id='9.8'></a>\n",
    "## Xgboost"
   ]
  },
  {
   "cell_type": "code",
   "execution_count": 127,
   "id": "8d9a3d1b",
   "metadata": {
    "ExecuteTime": {
     "end_time": "2022-01-09T13:27:30.061509Z",
     "start_time": "2022-01-09T13:27:30.042599Z"
    }
   },
   "outputs": [
    {
     "name": "stdout",
     "output_type": "stream",
     "text": [
      "TP, FN, TP, FP Overall Accuarcy of Xgboost: 92.1875%\n",
      "Sensitivity Accuarcy of Xgboost: 93.54838709677419%\n",
      "Specificity Negative Rate Accuarcy of Xgboost: 91.53846153846153%\n",
      "Negative predictive value Accuarcy of Xgboost: 96.7479674796748%\n",
      "Fall out Accuarcy of Xgboost: 8.461538461538462%\n",
      "False negative rate Accuarcy of Xgboost: 6.451612903225806%\n",
      "False discovery rate Accuarcy of Xgboost: 15.942028985507244%\n"
     ]
    }
   ],
   "source": [
    "tp(xgboost, \"Xgboost\")"
   ]
  },
  {
   "cell_type": "markdown",
   "id": "96041f84",
   "metadata": {},
   "source": [
    "<a id='9'></a>\n",
    "# Auto ML"
   ]
  },
  {
   "cell_type": "code",
   "execution_count": 115,
   "id": "1eacdc74",
   "metadata": {
    "ExecuteTime": {
     "end_time": "2022-01-09T13:00:08.167837Z",
     "start_time": "2022-01-09T11:31:14.820585Z"
    }
   },
   "outputs": [
    {
     "data": {
      "application/vnd.jupyter.widget-view+json": {
       "model_id": "",
       "version_major": 2,
       "version_minor": 0
      },
      "text/plain": [
       "Optimization Progress:   0%|          | 0/1200 [00:00<?, ?pipeline/s]"
      ]
     },
     "metadata": {},
     "output_type": "display_data"
    },
    {
     "name": "stdout",
     "output_type": "stream",
     "text": [
      "\n",
      "Generation 1 - Current best internal CV score: 0.8852692075015124\n",
      "\n",
      "Generation 2 - Current best internal CV score: 0.8852692075015124\n",
      "\n",
      "Generation 3 - Current best internal CV score: 0.8922262552934057\n",
      "\n",
      "Generation 4 - Current best internal CV score: 0.8922262552934057\n",
      "\n",
      "Generation 5 - Current best internal CV score: 0.8922262552934057\n",
      "\n",
      "Best pipeline: RandomForestClassifier(RandomForestClassifier(input_matrix, bootstrap=False, criterion=entropy, max_features=0.45, min_samples_leaf=10, min_samples_split=18, n_estimators=100), bootstrap=True, criterion=entropy, max_features=0.3, min_samples_leaf=20, min_samples_split=2, n_estimators=100)\n",
      "Automated ML model score on Training data: 94.44444444444444%\n",
      "Automated ML model score on Testing data: 92.1875%\n"
     ]
    }
   ],
   "source": [
    "tpot_model = TPOTClassifier(generations=5, population_size=200, \n",
    "                       verbosity=2, cv = 10, random_state=100, scoring='accuracy')\n",
    "train(tpot_model, \"Automated ML\")"
   ]
  },
  {
   "cell_type": "code",
   "execution_count": 118,
   "id": "7751a062",
   "metadata": {
    "ExecuteTime": {
     "end_time": "2022-01-09T13:15:36.794664Z",
     "start_time": "2022-01-09T13:15:36.622112Z"
    }
   },
   "outputs": [
    {
     "data": {
      "image/png": "[encoded data removed]",
      "text/plain": [
       "<Figure size 720x576 with 2 Axes>"
      ]
     },
     "metadata": {
      "needs_background": "light"
     },
     "output_type": "display_data"
    }
   ],
   "source": [
    "conf_matrix(tpot_model)"
   ]
  },
  {
   "cell_type": "code",
   "execution_count": 117,
   "id": "d16106e3",
   "metadata": {
    "ExecuteTime": {
     "end_time": "2022-01-09T13:15:28.506873Z",
     "start_time": "2022-01-09T13:15:28.465984Z"
    }
   },
   "outputs": [
    {
     "name": "stdout",
     "output_type": "stream",
     "text": [
      "              precision    recall  f1-score   support\n",
      "\n",
      "           0       0.95      0.93      0.94       130\n",
      "           1       0.86      0.90      0.88        62\n",
      "\n",
      "    accuracy                           0.92       192\n",
      "   macro avg       0.91      0.92      0.91       192\n",
      "weighted avg       0.92      0.92      0.92       192\n",
      "\n"
     ]
    }
   ],
   "source": [
    "class_report(tpot_model)"
   ]
  }
 ],
 "metadata": {
  "kernelspec": {
   "display_name": "Python 3",
   "language": "python",
   "name": "python3"
  },
  "language_info": {
   "codemirror_mode": {
    "name": "ipython",
    "version": 3
   },
   "file_extension": ".py",
   "mimetype": "text/x-python",
   "name": "python",
   "nbconvert_exporter": "python",
   "pygments_lexer": "ipython3",
   "version": "3.8.8"
  },
  "toc": {
   "base_numbering": 1,
   "nav_menu": {},
   "number_sections": true,
   "sideBar": true,
   "skip_h1_title": false,
   "title_cell": "Table of Contents",
   "title_sidebar": "Contents",
   "toc_cell": false,
   "toc_position": {},
   "toc_section_display": true,
   "toc_window_display": false
  }
 },
 "nbformat": 4,
 "nbformat_minor": 5
}
