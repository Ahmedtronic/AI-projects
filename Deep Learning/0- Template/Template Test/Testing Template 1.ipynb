{
 "cells": [
  {
   "cell_type": "markdown",
   "id": "ac595392",
   "metadata": {},
   "source": [
    "# Steps of the Notebook\n",
    "<a id=\"toc\"></a>\n",
    "- [1. Template Testing](#1)\n",
    "- [2. Import Libraries](#2)\n",
    "- [3. Pass the data path](#3)\n",
    "- [4.Splitting the data into Training and Testing datasets](#4)\n",
    "- [5. Adjust Diminsions of the Images](#5)\n",
    "- [6. Normalization](#6)\n",
    "- [7. One Hot Encoding](#7)\n",
    "- [8. Adjust Early Stop](#8)\n",
    "- [9. Adjust ANN and it's Parameters](#9)\n",
    "    - [9.1 Plot Loss Curve ANN](#9.1)\n",
    "    - [9.2 Plot Accuarcy Curve ANN](#9.2)\n",
    "    - [9.3 Plot Confusion Matrix ANN](#9.3)\n",
    "    - [9.4 Generate Classification Report](#9.4)\n",
    "- [10. Adjust CNN and it's Parameters](#10)\n",
    "    - [10.1 Plot Loss Curve CNN](#10.1)\n",
    "    - [10.2 Plot Accuarcy Curve CNN](#10.2)\n",
    "    - [10.3 Plot Confusion Matrix CNN](#10.3)\n",
    "    - [10.4 Generate Classification Report](#10.4)"
   ]
  },
  {
   "cell_type": "markdown",
   "id": "a2a60896",
   "metadata": {},
   "source": [
    "# Template Testing"
   ]
  },
  {
   "cell_type": "markdown",
   "id": "51a129b8",
   "metadata": {},
   "source": [
    "**I am Testing the template on birds classification data set i just pass the data's path and adjust some parameters in the NNs and that's it**<br>\n",
    "**And I saved hours :)**"
   ]
  },
  {
   "cell_type": "markdown",
   "id": "c718b208",
   "metadata": {},
   "source": [
    "# Import Libraries"
   ]
  },
  {
   "cell_type": "code",
   "execution_count": 49,
   "id": "1810496d",
   "metadata": {
    "ExecuteTime": {
     "end_time": "2022-01-28T01:18:27.675364Z",
     "start_time": "2022-01-28T01:18:27.653375Z"
    }
   },
   "outputs": [],
   "source": [
    "import numpy as np\n",
    "import pandas as pd\n",
    "import matplotlib.pyplot as plt\n",
    "%matplotlib inline\n",
    "from matplotlib.image import imread\n",
    "from seaborn import heatmap\n",
    "import cv2\n",
    "import random\n",
    "from os import listdir\n",
    "\n",
    "from sklearn.model_selection import train_test_split\n",
    "from sklearn.metrics import classification_report\n",
    "from sklearn.preprocessing import  LabelBinarizer\n",
    "\n",
    "import tensorflow as tf\n",
    "from tensorflow import keras\n",
    "from keras.preprocessing import image\n",
    "from keras.preprocessing.image import img_to_array, array_to_img\n",
    "from keras.models import Sequential\n",
    "from keras.layers import Conv2D, MaxPooling2D, Activation, Flatten, Dropout, Dense\n",
    "from tensorflow.keras.optimizers import Adam\n",
    "from tensorflow.keras import callbacks\n",
    "from tensorflow.math import confusion_matrix"
   ]
  },
  {
   "cell_type": "markdown",
   "id": "132883e0",
   "metadata": {},
   "source": [
    "# Pass the Data path"
   ]
  },
  {
   "cell_type": "code",
   "execution_count": 2,
   "id": "eef7223f",
   "metadata": {
    "ExecuteTime": {
     "end_time": "2022-01-28T00:50:13.563772Z",
     "start_time": "2022-01-28T00:50:13.545786Z"
    }
   },
   "outputs": [],
   "source": [
    "data_path = 'Data'"
   ]
  },
  {
   "cell_type": "code",
   "execution_count": 3,
   "id": "ca37d21e",
   "metadata": {
    "ExecuteTime": {
     "end_time": "2022-01-28T00:50:15.303172Z",
     "start_time": "2022-01-28T00:50:15.299184Z"
    }
   },
   "outputs": [],
   "source": [
    "# Setting path and creating empty lists\n",
    "dir = data_path\n",
    "root_dir = listdir(dir)\n",
    "image_list, label_list = [], []"
   ]
  },
  {
   "cell_type": "code",
   "execution_count": 4,
   "id": "8bade3aa",
   "metadata": {
    "ExecuteTime": {
     "end_time": "2022-01-28T00:50:21.056297Z",
     "start_time": "2022-01-28T00:50:21.051320Z"
    }
   },
   "outputs": [
    {
     "data": {
      "text/plain": [
       "['AMERICAN GOLDFINCH',\n",
       " 'BARN OWL',\n",
       " 'CARMINE BEE-EATER',\n",
       " 'DOWNY WOODPECKER',\n",
       " 'EMPEROR PENGUIN',\n",
       " 'FLAMINGO']"
      ]
     },
     "execution_count": 4,
     "metadata": {},
     "output_type": "execute_result"
    }
   ],
   "source": [
    "root_dir"
   ]
  },
  {
   "cell_type": "code",
   "execution_count": 9,
   "id": "ed319b1e",
   "metadata": {
    "ExecuteTime": {
     "end_time": "2022-01-28T00:53:02.388267Z",
     "start_time": "2022-01-28T00:53:01.487282Z"
    }
   },
   "outputs": [],
   "source": [
    "# Reading and converting image to numpy array\n",
    "for directory in root_dir:\n",
    "    for files in listdir(f\"{dir}/{directory}\"):\n",
    "        image_path = f\"{dir}/{directory}/{files}\"\n",
    "        image = cv2.imread(image_path)\n",
    "        image = img_to_array(image)\n",
    "        image_list.append(image)\n",
    "        label_list.append(directory)"
   ]
  },
  {
   "cell_type": "code",
   "execution_count": 13,
   "id": "96d3469e",
   "metadata": {
    "ExecuteTime": {
     "end_time": "2022-01-28T00:53:49.636047Z",
     "start_time": "2022-01-28T00:53:49.617133Z"
    }
   },
   "outputs": [
    {
     "data": {
      "text/plain": [
       "array([[[ 93., 109., 116.],\n",
       "        [ 94., 110., 117.],\n",
       "        [ 95., 111., 118.],\n",
       "        ...,\n",
       "        [ 96., 111., 120.],\n",
       "        [ 96., 112., 119.],\n",
       "        [ 98., 114., 121.]],\n",
       "\n",
       "       [[ 93., 109., 116.],\n",
       "        [ 94., 110., 117.],\n",
       "        [ 94., 110., 117.],\n",
       "        ...,\n",
       "        [ 94., 109., 118.],\n",
       "        [ 95., 111., 118.],\n",
       "        [ 96., 112., 119.]],\n",
       "\n",
       "       [[ 93., 108., 117.],\n",
       "        [ 94., 109., 118.],\n",
       "        [ 93., 108., 117.],\n",
       "        ...,\n",
       "        [ 97., 112., 121.],\n",
       "        [ 98., 114., 121.],\n",
       "        [ 99., 115., 122.]],\n",
       "\n",
       "       ...,\n",
       "\n",
       "       [[ 78.,  94.,  93.],\n",
       "        [ 77.,  93.,  92.],\n",
       "        [ 76.,  91.,  93.],\n",
       "        ...,\n",
       "        [153., 156., 161.],\n",
       "        [153., 156., 161.],\n",
       "        [153., 156., 161.]],\n",
       "\n",
       "       [[ 83.,  97.,  96.],\n",
       "        [ 81.,  95.,  94.],\n",
       "        [ 77.,  92.,  94.],\n",
       "        ...,\n",
       "        [153., 156., 160.],\n",
       "        [153., 156., 160.],\n",
       "        [152., 155., 159.]],\n",
       "\n",
       "       [[ 84.,  98.,  97.],\n",
       "        [ 82.,  96.,  95.],\n",
       "        [ 77.,  92.,  94.],\n",
       "        ...,\n",
       "        [153., 156., 160.],\n",
       "        [152., 155., 159.],\n",
       "        [151., 154., 158.]]], dtype=float32)"
      ]
     },
     "execution_count": 13,
     "metadata": {},
     "output_type": "execute_result"
    }
   ],
   "source": [
    "image_list[0]"
   ]
  },
  {
   "cell_type": "code",
   "execution_count": 23,
   "id": "9d114b1c",
   "metadata": {
    "ExecuteTime": {
     "end_time": "2022-01-28T00:56:15.878933Z",
     "start_time": "2022-01-28T00:56:15.863203Z"
    }
   },
   "outputs": [],
   "source": [
    "# Visualize the number of classes count\n",
    "label_counts = pd.DataFrame(label_list).value_counts()"
   ]
  },
  {
   "cell_type": "code",
   "execution_count": 24,
   "id": "670f7ba9",
   "metadata": {
    "ExecuteTime": {
     "end_time": "2022-01-28T00:56:16.315502Z",
     "start_time": "2022-01-28T00:56:16.296511Z"
    }
   },
   "outputs": [
    {
     "data": {
      "text/plain": [
       "AMERICAN GOLDFINCH    143\n",
       "EMPEROR PENGUIN       139\n",
       "DOWNY WOODPECKER      137\n",
       "FLAMINGO              132\n",
       "CARMINE BEE-EATER     131\n",
       "BARN OWL              129\n",
       "dtype: int64"
      ]
     },
     "execution_count": 24,
     "metadata": {},
     "output_type": "execute_result"
    }
   ],
   "source": [
    "label_counts"
   ]
  },
  {
   "cell_type": "code",
   "execution_count": 25,
   "id": "9454744f",
   "metadata": {
    "ExecuteTime": {
     "end_time": "2022-01-28T00:56:16.951839Z",
     "start_time": "2022-01-28T00:56:16.941833Z"
    }
   },
   "outputs": [
    {
     "data": {
      "text/plain": [
       "6"
      ]
     },
     "execution_count": 25,
     "metadata": {},
     "output_type": "execute_result"
    }
   ],
   "source": [
    "num_classes = len(label_counts)\n",
    "num_classes"
   ]
  },
  {
   "cell_type": "markdown",
   "id": "af8b6a95",
   "metadata": {},
   "source": [
    "# Splitting the data into Training and Testing"
   ]
  },
  {
   "cell_type": "code",
   "execution_count": 26,
   "id": "6ba3c270",
   "metadata": {
    "ExecuteTime": {
     "end_time": "2022-01-28T00:56:18.893670Z",
     "start_time": "2022-01-28T00:56:18.776398Z"
    }
   },
   "outputs": [],
   "source": [
    "# Splitting dataset\n",
    "x_train, x_test, y_train, y_test = train_test_split(image_list, label_list, test_size=0.3, random_state = 0) "
   ]
  },
  {
   "cell_type": "markdown",
   "id": "47359a2c",
   "metadata": {},
   "source": [
    "# Adjust Diminsions of the images"
   ]
  },
  {
   "cell_type": "code",
   "execution_count": 27,
   "id": "d8bb8d48",
   "metadata": {
    "ExecuteTime": {
     "end_time": "2022-01-28T00:56:20.669997Z",
     "start_time": "2022-01-28T00:56:20.662019Z"
    }
   },
   "outputs": [],
   "source": [
    "image_width = image_list[0].shape[0]\n",
    "image_height = image_list[0].shape[1]\n",
    "image_channel = image_list[0].shape[2]"
   ]
  },
  {
   "cell_type": "code",
   "execution_count": 28,
   "id": "6b775db7",
   "metadata": {
    "ExecuteTime": {
     "end_time": "2022-01-28T00:56:34.899800Z",
     "start_time": "2022-01-28T00:56:34.893922Z"
    }
   },
   "outputs": [
    {
     "name": "stdout",
     "output_type": "stream",
     "text": [
      "224\n",
      "224\n",
      "3\n"
     ]
    }
   ],
   "source": [
    "print(image_width)\n",
    "print(image_height)\n",
    "print(image_channel)"
   ]
  },
  {
   "cell_type": "markdown",
   "id": "4c97746d",
   "metadata": {},
   "source": [
    "# Normlization"
   ]
  },
  {
   "cell_type": "code",
   "execution_count": 29,
   "id": "7bff98d0",
   "metadata": {
    "ExecuteTime": {
     "end_time": "2022-01-28T00:56:39.927375Z",
     "start_time": "2022-01-28T00:56:38.628369Z"
    }
   },
   "outputs": [],
   "source": [
    "# Normalize and reshape data\n",
    "x_train = np.array(x_train, dtype=np.float16) / 225.0\n",
    "x_test = np.array(x_test, dtype=np.float16) / 225.0\n",
    "x_train = x_train.reshape( -1, image_width, image_height, image_channel)\n",
    "x_test = x_test.reshape( -1, image_width, image_height, image_channel)"
   ]
  },
  {
   "cell_type": "markdown",
   "id": "0db69bda",
   "metadata": {},
   "source": [
    "# One Hot Encoding"
   ]
  },
  {
   "cell_type": "code",
   "execution_count": 30,
   "id": "4028cffa",
   "metadata": {
    "ExecuteTime": {
     "end_time": "2022-01-28T00:56:42.648251Z",
     "start_time": "2022-01-28T00:56:42.633329Z"
    }
   },
   "outputs": [
    {
     "name": "stdout",
     "output_type": "stream",
     "text": [
      "['AMERICAN GOLDFINCH' 'BARN OWL' 'CARMINE BEE-EATER' 'DOWNY WOODPECKER'\n",
      " 'EMPEROR PENGUIN' 'FLAMINGO']\n"
     ]
    }
   ],
   "source": [
    "# One hot encoding on target variable\n",
    "lb = LabelBinarizer()\n",
    "y_train = lb.fit_transform(y_train)\n",
    "y_test = lb.fit_transform(y_test)\n",
    "print(lb.classes_)"
   ]
  },
  {
   "cell_type": "markdown",
   "id": "ed117906",
   "metadata": {},
   "source": [
    "# Adjust Early Stop"
   ]
  },
  {
   "cell_type": "code",
   "execution_count": 31,
   "id": "c2b63609",
   "metadata": {
    "ExecuteTime": {
     "end_time": "2022-01-28T00:56:46.685895Z",
     "start_time": "2022-01-28T00:56:46.677918Z"
    }
   },
   "outputs": [],
   "source": [
    "early_stopping = callbacks.EarlyStopping(\n",
    "        patience=10,\n",
    "        min_delta=0,\n",
    "        monitor='val_loss',\n",
    "        restore_best_weights=True,\n",
    "        verbose=0,\n",
    "        mode='min', \n",
    "        baseline=None,\n",
    "    )\n",
    "plateau = callbacks.ReduceLROnPlateau(\n",
    "            monitor='val_loss', \n",
    "            factor=0.2, \n",
    "            patience=4, \n",
    "            verbose=0,\n",
    "            mode='min')"
   ]
  },
  {
   "cell_type": "markdown",
   "id": "1f80f415",
   "metadata": {},
   "source": [
    "# Adjust ANN and it's Parameters"
   ]
  },
  {
   "cell_type": "markdown",
   "id": "44667bc1",
   "metadata": {},
   "source": [
    "I just have adjusted the parameters in the template it contains 5 hidden layers i remove 2 of them and adjust Learning Rate and removed the batch size <br>\n",
    "You can adjust as you want to what suits your data"
   ]
  },
  {
   "cell_type": "code",
   "execution_count": 34,
   "id": "ee2f0457",
   "metadata": {
    "ExecuteTime": {
     "end_time": "2022-01-28T01:00:20.338194Z",
     "start_time": "2022-01-28T01:00:20.331212Z"
    }
   },
   "outputs": [],
   "source": [
    "hidden_layer1 = 512\n",
    "hidden_layer2 = 256\n",
    "hidden_layer3 = 128\n",
    "hidden_layers_activation = 'relu'\n",
    "output_layer_activation = 'softmax'\n",
    "\n",
    "LEARNING_RATE = 0.0005\n",
    "loss_function = 'categorical_crossentropy'\n",
    "ANN_epochs = 1000\n",
    "batch_size = 10\n",
    "\n",
    "ANN_model_checkpoint = callbacks.ModelCheckpoint('ANN_best_model.h5', monitor='val_loss', mode='min', patience = 10 ,save_best_only=True)\n"
   ]
  },
  {
   "cell_type": "code",
   "execution_count": 35,
   "id": "0d569ee6",
   "metadata": {
    "ExecuteTime": {
     "end_time": "2022-01-28T01:03:45.883687Z",
     "start_time": "2022-01-28T01:00:21.124347Z"
    }
   },
   "outputs": [
    {
     "name": "stdout",
     "output_type": "stream",
     "text": [
      "Epoch 1/1000\n",
      "18/18 [==============================] - 14s 777ms/step - loss: 29.1369 - acc: 0.1799 - val_loss: 16.7611 - val_acc: 0.1967 - lr: 5.0000e-04\n",
      "Epoch 2/1000\n",
      "18/18 [==============================] - 13s 764ms/step - loss: 8.0755 - acc: 0.3157 - val_loss: 6.1884 - val_acc: 0.3566 - lr: 5.0000e-04\n",
      "Epoch 3/1000\n",
      "18/18 [==============================] - 4s 237ms/step - loss: 4.8442 - acc: 0.4303 - val_loss: 7.3282 - val_acc: 0.4344 - lr: 5.0000e-04\n",
      "Epoch 4/1000\n",
      "18/18 [==============================] - 13s 768ms/step - loss: 3.6505 - acc: 0.4991 - val_loss: 3.7716 - val_acc: 0.5410 - lr: 5.0000e-04\n",
      "Epoch 5/1000\n",
      "18/18 [==============================] - 13s 752ms/step - loss: 2.6711 - acc: 0.5750 - val_loss: 3.4361 - val_acc: 0.5369 - lr: 5.0000e-04\n",
      "Epoch 6/1000\n",
      "18/18 [==============================] - 13s 752ms/step - loss: 2.2285 - acc: 0.5785 - val_loss: 2.1006 - val_acc: 0.5369 - lr: 5.0000e-04\n",
      "Epoch 7/1000\n",
      "18/18 [==============================] - 4s 232ms/step - loss: 1.5925 - acc: 0.6314 - val_loss: 2.1719 - val_acc: 0.5328 - lr: 5.0000e-04\n",
      "Epoch 8/1000\n",
      "18/18 [==============================] - 4s 232ms/step - loss: 2.0492 - acc: 0.6367 - val_loss: 3.7903 - val_acc: 0.4631 - lr: 5.0000e-04\n",
      "Epoch 9/1000\n",
      "18/18 [==============================] - 4s 230ms/step - loss: 1.7463 - acc: 0.6614 - val_loss: 2.6334 - val_acc: 0.5410 - lr: 5.0000e-04\n",
      "Epoch 10/1000\n",
      "18/18 [==============================] - 4s 239ms/step - loss: 0.8900 - acc: 0.7496 - val_loss: 2.6296 - val_acc: 0.5656 - lr: 5.0000e-04\n",
      "Epoch 11/1000\n",
      "18/18 [==============================] - 13s 756ms/step - loss: 0.6590 - acc: 0.8025 - val_loss: 1.4491 - val_acc: 0.6434 - lr: 1.0000e-04\n",
      "Epoch 12/1000\n",
      "18/18 [==============================] - 13s 748ms/step - loss: 0.3840 - acc: 0.8889 - val_loss: 1.2661 - val_acc: 0.6557 - lr: 1.0000e-04\n",
      "Epoch 13/1000\n",
      "18/18 [==============================] - 4s 234ms/step - loss: 0.3785 - acc: 0.8818 - val_loss: 1.2836 - val_acc: 0.6639 - lr: 1.0000e-04\n",
      "Epoch 14/1000\n",
      "18/18 [==============================] - 13s 750ms/step - loss: 0.2853 - acc: 0.9030 - val_loss: 1.1268 - val_acc: 0.6967 - lr: 1.0000e-04\n",
      "Epoch 15/1000\n",
      "18/18 [==============================] - 13s 753ms/step - loss: 0.2517 - acc: 0.9259 - val_loss: 1.0123 - val_acc: 0.7172 - lr: 1.0000e-04\n",
      "Epoch 16/1000\n",
      "18/18 [==============================] - 4s 237ms/step - loss: 0.2188 - acc: 0.9400 - val_loss: 1.0184 - val_acc: 0.7131 - lr: 1.0000e-04\n",
      "Epoch 17/1000\n",
      "18/18 [==============================] - 13s 761ms/step - loss: 0.2127 - acc: 0.9400 - val_loss: 0.9726 - val_acc: 0.7049 - lr: 1.0000e-04\n",
      "Epoch 18/1000\n",
      "18/18 [==============================] - 4s 235ms/step - loss: 0.1883 - acc: 0.9506 - val_loss: 1.0656 - val_acc: 0.7049 - lr: 1.0000e-04\n",
      "Epoch 19/1000\n",
      "18/18 [==============================] - 4s 232ms/step - loss: 0.2046 - acc: 0.9400 - val_loss: 1.2073 - val_acc: 0.6516 - lr: 1.0000e-04\n",
      "Epoch 20/1000\n",
      "18/18 [==============================] - 4s 234ms/step - loss: 0.2376 - acc: 0.9189 - val_loss: 1.3687 - val_acc: 0.6680 - lr: 1.0000e-04\n",
      "Epoch 21/1000\n",
      "18/18 [==============================] - 4s 239ms/step - loss: 0.1962 - acc: 0.9365 - val_loss: 0.9848 - val_acc: 0.7131 - lr: 1.0000e-04\n",
      "Epoch 22/1000\n",
      "18/18 [==============================] - 4s 234ms/step - loss: 0.1479 - acc: 0.9683 - val_loss: 0.9907 - val_acc: 0.7172 - lr: 2.0000e-05\n",
      "Epoch 23/1000\n",
      "18/18 [==============================] - 4s 240ms/step - loss: 0.1375 - acc: 0.9718 - val_loss: 0.9939 - val_acc: 0.7049 - lr: 2.0000e-05\n",
      "Epoch 24/1000\n",
      "18/18 [==============================] - 4s 235ms/step - loss: 0.1367 - acc: 0.9700 - val_loss: 0.9786 - val_acc: 0.7131 - lr: 2.0000e-05\n",
      "Epoch 25/1000\n",
      "18/18 [==============================] - 4s 238ms/step - loss: 0.1343 - acc: 0.9683 - val_loss: 0.9800 - val_acc: 0.7090 - lr: 2.0000e-05\n",
      "Epoch 26/1000\n",
      "18/18 [==============================] - 4s 235ms/step - loss: 0.1283 - acc: 0.9771 - val_loss: 0.9731 - val_acc: 0.7131 - lr: 4.0000e-06\n",
      "Epoch 27/1000\n",
      "18/18 [==============================] - 4s 237ms/step - loss: 0.1266 - acc: 0.9753 - val_loss: 0.9744 - val_acc: 0.7131 - lr: 4.0000e-06\n"
     ]
    }
   ],
   "source": [
    "def load_model(): \n",
    "    ann_model = Sequential([\n",
    "        Flatten(input_shape=(image_width,image_height,image_channel)),\n",
    "        Dense(hidden_layer1, activation =hidden_layers_activation),\n",
    "        Dense(hidden_layer2, activation =hidden_layers_activation),\n",
    "        Dense(hidden_layer3, activation =hidden_layers_activation),\n",
    "        Dense(num_classes, activation=output_layer_activation),\n",
    "    ])\n",
    "    model.compile(\n",
    "        optimizer= Adam(learning_rate=LEARNING_RATE),\n",
    "        loss=loss_function,\n",
    "        metrics=['acc'],\n",
    "    )\n",
    "    return ann_model\n",
    "\n",
    "ann_model = load_model()\n",
    "history_ann = ann_model.fit(  x_train , y_train,\n",
    "                validation_data = (x_test , y_test),\n",
    "                epochs = ANN_epochs,\n",
    "                callbacks = [early_stopping , plateau, ANN_model_checkpoint],\n",
    "              )"
   ]
  },
  {
   "cell_type": "code",
   "execution_count": 36,
   "id": "47dc9b64",
   "metadata": {
    "ExecuteTime": {
     "end_time": "2022-01-28T01:03:49.953379Z",
     "start_time": "2022-01-28T01:03:49.470028Z"
    }
   },
   "outputs": [
    {
     "name": "stdout",
     "output_type": "stream",
     "text": [
      "8/8 [==============================] - 0s 43ms/step - loss: 0.9726 - acc: 0.7049\n"
     ]
    },
    {
     "data": {
      "text/plain": [
       "[0.9725654721260071, 0.7049180269241333]"
      ]
     },
     "execution_count": 36,
     "metadata": {},
     "output_type": "execute_result"
    }
   ],
   "source": [
    "ann_model.evaluate(x_test, y_test)"
   ]
  },
  {
   "cell_type": "markdown",
   "id": "980551ee",
   "metadata": {},
   "source": [
    "##  Loss Curve ANN"
   ]
  },
  {
   "cell_type": "code",
   "execution_count": 41,
   "id": "5c14dac2",
   "metadata": {
    "ExecuteTime": {
     "end_time": "2022-01-28T01:05:55.506970Z",
     "start_time": "2022-01-28T01:05:55.341569Z"
    }
   },
   "outputs": [
    {
     "data": {
      "image/png": "[encoded data removed]",
      "text/plain": [
       "<Figure size 792x576 with 1 Axes>"
      ]
     },
     "metadata": {
      "needs_background": "light"
     },
     "output_type": "display_data"
    }
   ],
   "source": [
    "plt.figure(figsize=(11,8))\n",
    "loss_train = history_ann.history['loss']\n",
    "loss_val = history_ann.history['val_loss']\n",
    "epochs = range(1,len(loss_train) + 1)\n",
    "plt.plot(epochs, loss_train, 'g', label='Training loss')\n",
    "plt.plot(epochs, loss_val, 'b', label='validation loss')\n",
    "plt.title('Training and Validation loss')\n",
    "plt.xlabel('Epochs')\n",
    "plt.ylabel('Loss')\n",
    "plt.legend()\n",
    "plt.show()"
   ]
  },
  {
   "cell_type": "markdown",
   "id": "749348e1",
   "metadata": {},
   "source": [
    "## Accuarcy Curve ANN"
   ]
  },
  {
   "cell_type": "code",
   "execution_count": 61,
   "id": "cc533e8b",
   "metadata": {
    "ExecuteTime": {
     "end_time": "2022-01-28T01:26:12.251605Z",
     "start_time": "2022-01-28T01:26:12.078082Z"
    }
   },
   "outputs": [
    {
     "data": {
      "image/png": "[encoded data removed]",
      "text/plain": [
       "<Figure size 792x576 with 1 Axes>"
      ]
     },
     "metadata": {
      "needs_background": "light"
     },
     "output_type": "display_data"
    }
   ],
   "source": [
    "plt.figure(figsize=(11,8))\n",
    "val_train = history_ann.history['acc']\n",
    "val_acc = history_ann.history['val_acc']\n",
    "epochs = range(1,len(val_acc)+1)\n",
    "plt.plot(epochs, val_train, 'g', label='Training acc')\n",
    "plt.plot(epochs, val_acc, 'b', label='validation acc')\n",
    "plt.title('Training and Validation acc')\n",
    "plt.xlabel('Epochs')\n",
    "plt.ylabel('Loss')\n",
    "plt.legend()\n",
    "plt.show()"
   ]
  },
  {
   "cell_type": "markdown",
   "id": "a53b5954",
   "metadata": {},
   "source": [
    "## Confusion Matrix ANN"
   ]
  },
  {
   "cell_type": "code",
   "execution_count": 50,
   "id": "676e279c",
   "metadata": {
    "ExecuteTime": {
     "end_time": "2022-01-28T01:18:33.369447Z",
     "start_time": "2022-01-28T01:18:33.355484Z"
    }
   },
   "outputs": [],
   "source": [
    "def conf_matrix(y_test, y_pred):\n",
    "    y_predicted_labels = [np.argmax(i) for i in y_pred]\n",
    "    y_predicted_labels = np.array(y_predicted_labels)\n",
    "    y_test = np.argmax(y_test, axis=1)\n",
    "    cm = confusion_matrix(labels=y_test, predictions=y_predicted_labels)\n",
    "    plt.figure(figsize=(12,10))\n",
    "    heatmap(cm, annot=True, fmt='d');"
   ]
  },
  {
   "cell_type": "code",
   "execution_count": 51,
   "id": "66f47a04",
   "metadata": {
    "ExecuteTime": {
     "end_time": "2022-01-28T01:18:34.678719Z",
     "start_time": "2022-01-28T01:18:33.809657Z"
    }
   },
   "outputs": [
    {
     "data": {
      "image/png": "[encoded data removed]",
      "text/plain": [
       "<Figure size 864x720 with 2 Axes>"
      ]
     },
     "metadata": {
      "needs_background": "light"
     },
     "output_type": "display_data"
    }
   ],
   "source": [
    "y_pred_ann = ann_model.predict(x_test)\n",
    "conf_matrix(y_test, y_pred_ann)"
   ]
  },
  {
   "cell_type": "markdown",
   "id": "ebb5e660",
   "metadata": {},
   "source": [
    "## Classification Report ANN"
   ]
  },
  {
   "cell_type": "code",
   "execution_count": 52,
   "id": "cdf8720e",
   "metadata": {
    "ExecuteTime": {
     "end_time": "2022-01-28T01:19:20.241226Z",
     "start_time": "2022-01-28T01:19:20.229251Z"
    }
   },
   "outputs": [],
   "source": [
    "def class_report(y_test, y_pred):\n",
    "    y_predicted_labels = [np.argmax(i) for i in y_pred]\n",
    "    y_predicted_labels = np.array(y_predicted_labels)\n",
    "    y_test = np.argmax(y_test, axis=1)\n",
    "    print(classification_report(y_test, y_predicted_labels))"
   ]
  },
  {
   "cell_type": "code",
   "execution_count": 53,
   "id": "8597b2b7",
   "metadata": {
    "ExecuteTime": {
     "end_time": "2022-01-28T01:19:20.631782Z",
     "start_time": "2022-01-28T01:19:20.617822Z"
    }
   },
   "outputs": [
    {
     "name": "stdout",
     "output_type": "stream",
     "text": [
      "              precision    recall  f1-score   support\n",
      "\n",
      "           0       0.76      0.84      0.80        38\n",
      "           1       0.65      0.70      0.68        37\n",
      "           2       0.77      0.69      0.73        39\n",
      "           3       0.56      0.64      0.60        42\n",
      "           4       0.78      0.76      0.77        41\n",
      "           5       0.74      0.62      0.67        47\n",
      "\n",
      "    accuracy                           0.70       244\n",
      "   macro avg       0.71      0.71      0.71       244\n",
      "weighted avg       0.71      0.70      0.71       244\n",
      "\n"
     ]
    }
   ],
   "source": [
    "class_report(y_pred_ann, y_test)"
   ]
  },
  {
   "cell_type": "markdown",
   "id": "4266a5ec",
   "metadata": {},
   "source": [
    "# Adjust CNN and it's Parameters"
   ]
  },
  {
   "cell_type": "markdown",
   "id": "fe75f3d0",
   "metadata": {},
   "source": [
    "I have adjusted the number of filters and using pool_size2 and 3 instead of 1, i have changed the activation function also<br>\n",
    "You get the idea adjust as you want :)"
   ]
  },
  {
   "cell_type": "code",
   "execution_count": 55,
   "id": "1f9e53c3",
   "metadata": {
    "ExecuteTime": {
     "end_time": "2022-01-28T01:21:23.728158Z",
     "start_time": "2022-01-28T01:21:23.717156Z"
    }
   },
   "outputs": [],
   "source": [
    "filters1 = 8\n",
    "filters2 = 16\n",
    "filters3 = 32\n",
    "\n",
    "kernel_size = (3,3)\n",
    "conv_activation = 'relu'\n",
    "\n",
    "pool_size1 = (5,5)\n",
    "pool_size2 = (3,3)\n",
    "pool_size3 = (2,2)\n",
    "\n",
    "hidden_layer1 = 128\n",
    "\n",
    "hidden_layer_activation = 'relu'\n",
    "output_layer_activation = 'softmax'\n",
    "\n",
    "LEARNING_RATE = 0.0005\n",
    "loss_function = 'categorical_crossentropy'\n",
    "CNN_epochs = 1000\n",
    "batch_size = 15\n",
    "\n",
    "CNN_model_checkpoint = callbacks.ModelCheckpoint('CNN_best_model.h5', monitor='val_loss', mode='min', patience = 10 ,save_best_only=True)"
   ]
  },
  {
   "cell_type": "code",
   "execution_count": 57,
   "id": "60dbf00f",
   "metadata": {
    "ExecuteTime": {
     "end_time": "2022-01-28T01:22:37.345315Z",
     "start_time": "2022-01-28T01:21:38.734180Z"
    }
   },
   "outputs": [
    {
     "name": "stdout",
     "output_type": "stream",
     "text": [
      "Epoch 1/1000\n",
      "18/18 [==============================] - 4s 181ms/step - loss: 1.7894 - acc: 0.2751 - val_loss: 1.6519 - val_acc: 0.4426 - lr: 5.0000e-04\n",
      "Epoch 2/1000\n",
      "18/18 [==============================] - 3s 173ms/step - loss: 1.4736 - acc: 0.5220 - val_loss: 1.2592 - val_acc: 0.6148 - lr: 5.0000e-04\n",
      "Epoch 3/1000\n",
      "18/18 [==============================] - 3s 172ms/step - loss: 1.0294 - acc: 0.6226 - val_loss: 0.9700 - val_acc: 0.6393 - lr: 5.0000e-04\n",
      "Epoch 4/1000\n",
      "18/18 [==============================] - 3s 179ms/step - loss: 0.6990 - acc: 0.7460 - val_loss: 0.6664 - val_acc: 0.7828 - lr: 5.0000e-04\n",
      "Epoch 5/1000\n",
      "18/18 [==============================] - 3s 173ms/step - loss: 0.4858 - acc: 0.8325 - val_loss: 0.5424 - val_acc: 0.7787 - lr: 5.0000e-04\n",
      "Epoch 6/1000\n",
      "18/18 [==============================] - 3s 171ms/step - loss: 0.4204 - acc: 0.8677 - val_loss: 0.6021 - val_acc: 0.7951 - lr: 5.0000e-04\n",
      "Epoch 7/1000\n",
      "18/18 [==============================] - 3s 185ms/step - loss: 0.3010 - acc: 0.9118 - val_loss: 0.5033 - val_acc: 0.7910 - lr: 5.0000e-04\n",
      "Epoch 8/1000\n",
      "18/18 [==============================] - 3s 183ms/step - loss: 0.2348 - acc: 0.9383 - val_loss: 0.4964 - val_acc: 0.7951 - lr: 5.0000e-04\n",
      "Epoch 9/1000\n",
      "18/18 [==============================] - 3s 183ms/step - loss: 0.1851 - acc: 0.9524 - val_loss: 0.5029 - val_acc: 0.8074 - lr: 5.0000e-04\n",
      "Epoch 10/1000\n",
      "18/18 [==============================] - 3s 177ms/step - loss: 0.1313 - acc: 0.9683 - val_loss: 0.5436 - val_acc: 0.8156 - lr: 5.0000e-04\n",
      "Epoch 11/1000\n",
      "18/18 [==============================] - 3s 176ms/step - loss: 0.1063 - acc: 0.9841 - val_loss: 0.5357 - val_acc: 0.8156 - lr: 5.0000e-04\n",
      "Epoch 12/1000\n",
      "18/18 [==============================] - 3s 190ms/step - loss: 0.0804 - acc: 0.9859 - val_loss: 0.5917 - val_acc: 0.7828 - lr: 5.0000e-04\n",
      "Epoch 13/1000\n",
      "18/18 [==============================] - 3s 179ms/step - loss: 0.0613 - acc: 0.9929 - val_loss: 0.5141 - val_acc: 0.8115 - lr: 1.0000e-04\n",
      "Epoch 14/1000\n",
      "18/18 [==============================] - 3s 178ms/step - loss: 0.0551 - acc: 0.9947 - val_loss: 0.5200 - val_acc: 0.7992 - lr: 1.0000e-04\n",
      "Epoch 15/1000\n",
      "18/18 [==============================] - 3s 183ms/step - loss: 0.0531 - acc: 0.9965 - val_loss: 0.5213 - val_acc: 0.8238 - lr: 1.0000e-04\n",
      "Epoch 16/1000\n",
      "18/18 [==============================] - 3s 184ms/step - loss: 0.0474 - acc: 0.9965 - val_loss: 0.5263 - val_acc: 0.7992 - lr: 1.0000e-04\n",
      "Epoch 17/1000\n",
      "18/18 [==============================] - 3s 181ms/step - loss: 0.0441 - acc: 0.9982 - val_loss: 0.5248 - val_acc: 0.7951 - lr: 2.0000e-05\n",
      "Epoch 18/1000\n",
      "18/18 [==============================] - 3s 181ms/step - loss: 0.0432 - acc: 0.9982 - val_loss: 0.5225 - val_acc: 0.7992 - lr: 2.0000e-05\n"
     ]
    }
   ],
   "source": [
    "def load_model():\n",
    "    cnn_model = Sequential([\n",
    "        Conv2D(filters1, kernel_size = kernel_size,input_shape=(image_width,image_height,image_channel), activation=conv_activation),\n",
    "        MaxPooling2D(pool_size=pool_size2),\n",
    "        Conv2D(filters2, kernel_size = kernel_size, activation=conv_activation),\n",
    "        MaxPooling2D(pool_size=pool_size3),\n",
    "        Conv2D(filters3, kernel_size = kernel_size, activation= conv_activation),\n",
    "        MaxPooling2D(pool_size=pool_size3),\n",
    "        \n",
    "        Flatten(),\n",
    "        \n",
    "        Dense(hidden_layer1, activation =hidden_layer_activation),\n",
    "        Dense(num_classes, activation=output_layer_activation)    \n",
    "    ])\n",
    "    cnn_model.compile(\n",
    "        Adam(learning_rate=LEARNING_RATE),\n",
    "        loss = loss_function,\n",
    "        metrics = ['acc']\n",
    "    )\n",
    "    return cnn_model\n",
    "\n",
    "\n",
    "\n",
    "cnn_model = load_model()\n",
    "history_cnn = cnn_model.fit(  x_train , y_train,\n",
    "                validation_data = (x_test , y_test),\n",
    "                epochs = CNN_epochs,\n",
    "                callbacks = [early_stopping , plateau, CNN_model_checkpoint],\n",
    "              )\n"
   ]
  },
  {
   "cell_type": "markdown",
   "id": "f1d0e699",
   "metadata": {},
   "source": [
    "## Loss Curve CNN"
   ]
  },
  {
   "cell_type": "code",
   "execution_count": 58,
   "id": "6a029cf6",
   "metadata": {
    "ExecuteTime": {
     "end_time": "2022-01-28T01:24:20.323698Z",
     "start_time": "2022-01-28T01:24:20.144880Z"
    }
   },
   "outputs": [
    {
     "data": {
      "image/png": "[encoded data removed]",
      "text/plain": [
       "<Figure size 792x576 with 1 Axes>"
      ]
     },
     "metadata": {
      "needs_background": "light"
     },
     "output_type": "display_data"
    }
   ],
   "source": [
    "plt.figure(figsize=(11,8))\n",
    "loss_train = history_cnn.history['loss']\n",
    "loss_val = history_cnn.history['val_loss']\n",
    "epochs = range(1,len(loss_train) + 1)\n",
    "plt.plot(epochs, loss_train, 'g', label='Training loss')\n",
    "plt.plot(epochs, loss_val, 'b', label='validation loss')\n",
    "plt.title('Training and Validation loss')\n",
    "plt.xlabel('Epochs')\n",
    "plt.ylabel('Loss')\n",
    "plt.legend()\n",
    "plt.show()"
   ]
  },
  {
   "cell_type": "markdown",
   "id": "1aabd1a3",
   "metadata": {},
   "source": [
    "## Accuarcy Curve CNN"
   ]
  },
  {
   "cell_type": "code",
   "execution_count": 60,
   "id": "dd358bfd",
   "metadata": {
    "ExecuteTime": {
     "end_time": "2022-01-28T01:25:16.855002Z",
     "start_time": "2022-01-28T01:25:16.669537Z"
    }
   },
   "outputs": [
    {
     "data": {
      "image/png": "[encoded data removed]",
      "text/plain": [
       "<Figure size 792x576 with 1 Axes>"
      ]
     },
     "metadata": {
      "needs_background": "light"
     },
     "output_type": "display_data"
    }
   ],
   "source": [
    "plt.figure(figsize=(11,8))\n",
    "acc_train = history_cnn.history['acc']\n",
    "acc_val = history_cnn.history['val_acc']\n",
    "epochs = range(1,len(acc_train) + 1)\n",
    "plt.plot(epochs, acc_train, 'g', label='Training Accuarcy')\n",
    "plt.plot(epochs, acc_val, 'b', label='validation Accuarcy')\n",
    "plt.title('Training and Validation Accuarcy')\n",
    "plt.xlabel('Epochs')\n",
    "plt.ylabel('Loss')\n",
    "plt.legend()\n",
    "plt.show()"
   ]
  },
  {
   "cell_type": "markdown",
   "id": "27bf9bbd",
   "metadata": {},
   "source": [
    "## Confusion Matrix CNN"
   ]
  },
  {
   "cell_type": "code",
   "execution_count": 62,
   "id": "eb140a1a",
   "metadata": {
    "ExecuteTime": {
     "end_time": "2022-01-28T01:27:15.996470Z",
     "start_time": "2022-01-28T01:27:15.123763Z"
    }
   },
   "outputs": [
    {
     "data": {
      "image/png": "[encoded data removed]",
      "text/plain": [
       "<Figure size 864x720 with 2 Axes>"
      ]
     },
     "metadata": {
      "needs_background": "light"
     },
     "output_type": "display_data"
    }
   ],
   "source": [
    "y_pred_cnn = cnn_model.predict(x_test)\n",
    "conf_matrix(y_test, y_pred_cnn)"
   ]
  },
  {
   "cell_type": "markdown",
   "id": "95c32979",
   "metadata": {},
   "source": [
    "## Class Report CNN"
   ]
  },
  {
   "cell_type": "code",
   "execution_count": 63,
   "id": "86469151",
   "metadata": {
    "ExecuteTime": {
     "end_time": "2022-01-28T01:27:16.136202Z",
     "start_time": "2022-01-28T01:27:16.113298Z"
    }
   },
   "outputs": [
    {
     "name": "stdout",
     "output_type": "stream",
     "text": [
      "              precision    recall  f1-score   support\n",
      "\n",
      "           0       0.85      0.83      0.84        42\n",
      "           1       0.71      0.75      0.73        40\n",
      "           2       0.80      0.80      0.80        35\n",
      "           3       0.87      0.83      0.85        48\n",
      "           4       0.92      0.88      0.90        40\n",
      "           5       0.62      0.67      0.64        39\n",
      "\n",
      "    accuracy                           0.80       244\n",
      "   macro avg       0.80      0.79      0.79       244\n",
      "weighted avg       0.80      0.80      0.80       244\n",
      "\n"
     ]
    }
   ],
   "source": [
    "class_report(y_test, y_pred_cnn)"
   ]
  },
  {
   "cell_type": "code",
   "execution_count": null,
   "id": "ba27b37c",
   "metadata": {},
   "outputs": [],
   "source": []
  }
 ],
 "metadata": {
  "kernelspec": {
   "display_name": "Python 3",
   "language": "python",
   "name": "python3"
  },
  "language_info": {
   "codemirror_mode": {
    "name": "ipython",
    "version": 3
   },
   "file_extension": ".py",
   "mimetype": "text/x-python",
   "name": "python",
   "nbconvert_exporter": "python",
   "pygments_lexer": "ipython3",
   "version": "3.8.8"
  },
  "toc": {
   "base_numbering": 1,
   "nav_menu": {},
   "number_sections": true,
   "sideBar": true,
   "skip_h1_title": false,
   "title_cell": "Table of Contents",
   "title_sidebar": "Contents",
   "toc_cell": false,
   "toc_position": {},
   "toc_section_display": true,
   "toc_window_display": false
  }
 },
 "nbformat": 4,
 "nbformat_minor": 5
}
