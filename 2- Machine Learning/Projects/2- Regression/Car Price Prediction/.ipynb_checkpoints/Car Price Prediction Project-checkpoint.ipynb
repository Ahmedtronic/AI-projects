{
 "cells": [
  {
   "cell_type": "markdown",
   "id": "e7704bbf",
   "metadata": {},
   "source": [
    "# Table of Contents\n",
    "<a id=\"toc\"></a>\n",
    "- [1. Project Description](#1)\n",
    "- [2. Import Necssaries Libraries](#2)\n",
    "- [3. Exploaring the Data](#3)\n",
    "    - [3.1 Dmininsions of the Data](#3.1)\n",
    "- [4. EDA and preprocessing](#4)\n",
    "    - [4.1 Handling null values](#4.1)\n",
    "    - [4.2 Label Encoder](#4.2)\n",
    "- [5. Assign Training and Testing Variables](#5)\n",
    "- [6. Spliting Data into Training and Testing Data](#6)\n",
    "- [7. Modeling](#7)\n",
    "    - [7.1 Linear Regression Model](#7.1)\n",
    "    - [7.2 Random Forest Model](#7.2)\n",
    "    - [7.3 Bagging Model](#7.3)\n",
    "    - [7.4 Gradient Boosting Model](#7.4)"
   ]
  },
  {
   "cell_type": "markdown",
   "id": "5fe5e186",
   "metadata": {},
   "source": [
    "# Project Description\n",
    "\n",
    "**Problem Statement:**<br>\n",
    "A Chinese automobile company Geely Auto aspires to enter the US market by setting up their manufacturing unit there and producing cars locally to give competition to their US and European counterparts.<br>\n",
    "\n",
    "They have contracted an automobile consulting company to understand the factors on which the pricing of cars depends. <br>Specifically, they want to understand the factors affecting the pricing of cars in the American market, since those may be very different from the Chinese market. The company wants to know:<br>\n",
    "\n",
    "Which variables are significant in predicting the price of a car<br>\n",
    "How well those variables describe the price of a car<br>\n",
    "Based on various market surveys, the consulting firm has gathered a large data set of different types of cars across the America market.<br>\n",
    "\n",
    "**Business Goal:**<br>\n",
    "We are required to model the price of cars with the available independent variables. It will be used by the management to understand how exactly the prices vary with the independent variables. They can accordingly manipulate the design of the cars, the business strategy etc. to meet certain price levels. Further, the model will be a good way for management to understand the pricing dynamics of a new market.\n",
    "\n"
   ]
  },
  {
   "cell_type": "markdown",
   "id": "87d13bb6",
   "metadata": {},
   "source": [
    "<a id='2'></a>\n",
    "# Import Necssaries Libraries"
   ]
  },
  {
   "cell_type": "code",
   "execution_count": 72,
   "id": "6f5cb896",
   "metadata": {
    "ExecuteTime": {
     "end_time": "2021-12-17T13:32:28.319107Z",
     "start_time": "2021-12-17T13:32:28.296844Z"
    }
   },
   "outputs": [],
   "source": [
    "import numpy as np\n",
    "import pandas as pd\n",
    "from matplotlib import pyplot as plt\n",
    "%matplotlib inline\n",
    "import seaborn as sns\n",
    "\n",
    "from sklearn.preprocessing import StandardScaler\n",
    "from sklearn.preprocessing import LabelEncoder\n",
    "from sklearn.model_selection import train_test_split\n",
    "from sklearn.model_selection import cross_val_score\n",
    "from sklearn.ensemble import RandomForestRegressor, BaggingRegressor, GradientBoostingRegressor\n",
    "from sklearn.linear_model import LinearRegression, Lasso, Ridge"
   ]
  },
  {
   "cell_type": "markdown",
   "id": "f2dc0e7a",
   "metadata": {},
   "source": [
    "<a id='3'></a>\n",
    "# Exploaring the data"
   ]
  },
  {
   "cell_type": "code",
   "execution_count": 2,
   "id": "d2ddca51",
   "metadata": {
    "ExecuteTime": {
     "end_time": "2021-12-17T13:12:35.678651Z",
     "start_time": "2021-12-17T13:12:35.285816Z"
    }
   },
   "outputs": [],
   "source": [
    "df = pd.read_csv('Car details v3.csv')"
   ]
  },
  {
   "cell_type": "code",
   "execution_count": 3,
   "id": "72c6bd72",
   "metadata": {
    "ExecuteTime": {
     "end_time": "2021-12-17T13:12:35.731154Z",
     "start_time": "2021-12-17T13:12:35.683683Z"
    }
   },
   "outputs": [
    {
     "data": {
      "text/html": [
       "<div>\n",
       "<style scoped>\n",
       "    .dataframe tbody tr th:only-of-type {\n",
       "        vertical-align: middle;\n",
       "    }\n",
       "\n",
       "    .dataframe tbody tr th {\n",
       "        vertical-align: top;\n",
       "    }\n",
       "\n",
       "    .dataframe thead th {\n",
       "        text-align: right;\n",
       "    }\n",
       "</style>\n",
       "<table border=\"1\" class=\"dataframe\">\n",
       "  <thead>\n",
       "    <tr style=\"text-align: right;\">\n",
       "      <th></th>\n",
       "      <th>name</th>\n",
       "      <th>year</th>\n",
       "      <th>selling_price</th>\n",
       "      <th>km_driven</th>\n",
       "      <th>fuel</th>\n",
       "      <th>seller_type</th>\n",
       "      <th>transmission</th>\n",
       "      <th>owner</th>\n",
       "      <th>mileage</th>\n",
       "      <th>engine</th>\n",
       "      <th>max_power</th>\n",
       "      <th>torque</th>\n",
       "      <th>seats</th>\n",
       "    </tr>\n",
       "  </thead>\n",
       "  <tbody>\n",
       "    <tr>\n",
       "      <th>0</th>\n",
       "      <td>Maruti Swift Dzire VDI</td>\n",
       "      <td>2014</td>\n",
       "      <td>450000</td>\n",
       "      <td>145500</td>\n",
       "      <td>Diesel</td>\n",
       "      <td>Individual</td>\n",
       "      <td>Manual</td>\n",
       "      <td>First Owner</td>\n",
       "      <td>23.4 kmpl</td>\n",
       "      <td>1248 CC</td>\n",
       "      <td>74 bhp</td>\n",
       "      <td>190Nm@ 2000rpm</td>\n",
       "      <td>5.0</td>\n",
       "    </tr>\n",
       "    <tr>\n",
       "      <th>1</th>\n",
       "      <td>Skoda Rapid 1.5 TDI Ambition</td>\n",
       "      <td>2014</td>\n",
       "      <td>370000</td>\n",
       "      <td>120000</td>\n",
       "      <td>Diesel</td>\n",
       "      <td>Individual</td>\n",
       "      <td>Manual</td>\n",
       "      <td>Second Owner</td>\n",
       "      <td>21.14 kmpl</td>\n",
       "      <td>1498 CC</td>\n",
       "      <td>103.52 bhp</td>\n",
       "      <td>250Nm@ 1500-2500rpm</td>\n",
       "      <td>5.0</td>\n",
       "    </tr>\n",
       "    <tr>\n",
       "      <th>2</th>\n",
       "      <td>Honda City 2017-2020 EXi</td>\n",
       "      <td>2006</td>\n",
       "      <td>158000</td>\n",
       "      <td>140000</td>\n",
       "      <td>Petrol</td>\n",
       "      <td>Individual</td>\n",
       "      <td>Manual</td>\n",
       "      <td>Third Owner</td>\n",
       "      <td>17.7 kmpl</td>\n",
       "      <td>1497 CC</td>\n",
       "      <td>78 bhp</td>\n",
       "      <td>12.7@ 2,700(kgm@ rpm)</td>\n",
       "      <td>5.0</td>\n",
       "    </tr>\n",
       "    <tr>\n",
       "      <th>3</th>\n",
       "      <td>Hyundai i20 Sportz Diesel</td>\n",
       "      <td>2010</td>\n",
       "      <td>225000</td>\n",
       "      <td>127000</td>\n",
       "      <td>Diesel</td>\n",
       "      <td>Individual</td>\n",
       "      <td>Manual</td>\n",
       "      <td>First Owner</td>\n",
       "      <td>23.0 kmpl</td>\n",
       "      <td>1396 CC</td>\n",
       "      <td>90 bhp</td>\n",
       "      <td>22.4 kgm at 1750-2750rpm</td>\n",
       "      <td>5.0</td>\n",
       "    </tr>\n",
       "    <tr>\n",
       "      <th>4</th>\n",
       "      <td>Maruti Swift VXI BSIII</td>\n",
       "      <td>2007</td>\n",
       "      <td>130000</td>\n",
       "      <td>120000</td>\n",
       "      <td>Petrol</td>\n",
       "      <td>Individual</td>\n",
       "      <td>Manual</td>\n",
       "      <td>First Owner</td>\n",
       "      <td>16.1 kmpl</td>\n",
       "      <td>1298 CC</td>\n",
       "      <td>88.2 bhp</td>\n",
       "      <td>11.5@ 4,500(kgm@ rpm)</td>\n",
       "      <td>5.0</td>\n",
       "    </tr>\n",
       "  </tbody>\n",
       "</table>\n",
       "</div>"
      ],
      "text/plain": [
       "                           name  year  selling_price  km_driven    fuel  \\\n",
       "0        Maruti Swift Dzire VDI  2014         450000     145500  Diesel   \n",
       "1  Skoda Rapid 1.5 TDI Ambition  2014         370000     120000  Diesel   \n",
       "2      Honda City 2017-2020 EXi  2006         158000     140000  Petrol   \n",
       "3     Hyundai i20 Sportz Diesel  2010         225000     127000  Diesel   \n",
       "4        Maruti Swift VXI BSIII  2007         130000     120000  Petrol   \n",
       "\n",
       "  seller_type transmission         owner     mileage   engine   max_power  \\\n",
       "0  Individual       Manual   First Owner   23.4 kmpl  1248 CC      74 bhp   \n",
       "1  Individual       Manual  Second Owner  21.14 kmpl  1498 CC  103.52 bhp   \n",
       "2  Individual       Manual   Third Owner   17.7 kmpl  1497 CC      78 bhp   \n",
       "3  Individual       Manual   First Owner   23.0 kmpl  1396 CC      90 bhp   \n",
       "4  Individual       Manual   First Owner   16.1 kmpl  1298 CC    88.2 bhp   \n",
       "\n",
       "                     torque  seats  \n",
       "0            190Nm@ 2000rpm    5.0  \n",
       "1       250Nm@ 1500-2500rpm    5.0  \n",
       "2     12.7@ 2,700(kgm@ rpm)    5.0  \n",
       "3  22.4 kgm at 1750-2750rpm    5.0  \n",
       "4     11.5@ 4,500(kgm@ rpm)    5.0  "
      ]
     },
     "execution_count": 3,
     "metadata": {},
     "output_type": "execute_result"
    }
   ],
   "source": [
    "df.head()"
   ]
  },
  {
   "cell_type": "markdown",
   "id": "eddf576b",
   "metadata": {},
   "source": [
    "<a id='3.1'></a>\n",
    "***Dmininsions of the Data***"
   ]
  },
  {
   "cell_type": "code",
   "execution_count": 4,
   "id": "b345dba3",
   "metadata": {
    "ExecuteTime": {
     "end_time": "2021-12-17T13:12:35.753512Z",
     "start_time": "2021-12-17T13:12:35.735916Z"
    }
   },
   "outputs": [
    {
     "data": {
      "text/plain": [
       "(8128, 13)"
      ]
     },
     "execution_count": 4,
     "metadata": {},
     "output_type": "execute_result"
    }
   ],
   "source": [
    "df.shape"
   ]
  },
  {
   "cell_type": "code",
   "execution_count": 5,
   "id": "696559c5",
   "metadata": {
    "ExecuteTime": {
     "end_time": "2021-12-17T13:12:35.804155Z",
     "start_time": "2021-12-17T13:12:35.757501Z"
    }
   },
   "outputs": [
    {
     "data": {
      "text/plain": [
       "name             2058\n",
       "year               29\n",
       "selling_price     677\n",
       "km_driven         921\n",
       "fuel                4\n",
       "seller_type         3\n",
       "transmission        2\n",
       "owner               5\n",
       "mileage           393\n",
       "engine            121\n",
       "max_power         322\n",
       "torque            441\n",
       "seats               9\n",
       "dtype: int64"
      ]
     },
     "execution_count": 5,
     "metadata": {},
     "output_type": "execute_result"
    }
   ],
   "source": [
    "df.nunique()"
   ]
  },
  {
   "cell_type": "markdown",
   "id": "7ec7d7dd",
   "metadata": {},
   "source": [
    "Categorical Variables:<br>\n",
    "    - fuel<br>\n",
    "    - seller_type<br>\n",
    "    - transmission<br>\n",
    "    - owner<br>\n",
    "    - seats"
   ]
  },
  {
   "cell_type": "code",
   "execution_count": 6,
   "id": "ea781b5a",
   "metadata": {
    "ExecuteTime": {
     "end_time": "2021-12-17T13:12:35.868522Z",
     "start_time": "2021-12-17T13:12:35.855084Z"
    }
   },
   "outputs": [
    {
     "data": {
      "text/plain": [
       "Diesel    4402\n",
       "Petrol    3631\n",
       "CNG         57\n",
       "LPG         38\n",
       "Name: fuel, dtype: int64"
      ]
     },
     "execution_count": 6,
     "metadata": {},
     "output_type": "execute_result"
    }
   ],
   "source": [
    "df.fuel.value_counts()"
   ]
  },
  {
   "cell_type": "code",
   "execution_count": 7,
   "id": "d655c3f7",
   "metadata": {
    "ExecuteTime": {
     "end_time": "2021-12-17T13:12:36.106066Z",
     "start_time": "2021-12-17T13:12:36.087446Z"
    }
   },
   "outputs": [
    {
     "data": {
      "text/plain": [
       "Individual          6766\n",
       "Dealer              1126\n",
       "Trustmark Dealer     236\n",
       "Name: seller_type, dtype: int64"
      ]
     },
     "execution_count": 7,
     "metadata": {},
     "output_type": "execute_result"
    }
   ],
   "source": [
    "df.seller_type.value_counts()"
   ]
  },
  {
   "cell_type": "code",
   "execution_count": 8,
   "id": "a0fbc8f9",
   "metadata": {
    "ExecuteTime": {
     "end_time": "2021-12-17T13:12:36.418531Z",
     "start_time": "2021-12-17T13:12:36.400984Z"
    }
   },
   "outputs": [
    {
     "data": {
      "text/plain": [
       "Manual       7078\n",
       "Automatic    1050\n",
       "Name: transmission, dtype: int64"
      ]
     },
     "execution_count": 8,
     "metadata": {},
     "output_type": "execute_result"
    }
   ],
   "source": [
    "df.transmission.value_counts()"
   ]
  },
  {
   "cell_type": "code",
   "execution_count": 9,
   "id": "38c42cf6",
   "metadata": {
    "ExecuteTime": {
     "end_time": "2021-12-17T13:12:36.670219Z",
     "start_time": "2021-12-17T13:12:36.651444Z"
    }
   },
   "outputs": [
    {
     "data": {
      "text/plain": [
       "First Owner             5289\n",
       "Second Owner            2105\n",
       "Third Owner              555\n",
       "Fourth & Above Owner     174\n",
       "Test Drive Car             5\n",
       "Name: owner, dtype: int64"
      ]
     },
     "execution_count": 9,
     "metadata": {},
     "output_type": "execute_result"
    }
   ],
   "source": [
    "df.owner.value_counts()"
   ]
  },
  {
   "cell_type": "code",
   "execution_count": 10,
   "id": "805b8fd3",
   "metadata": {
    "ExecuteTime": {
     "end_time": "2021-12-17T13:12:37.069912Z",
     "start_time": "2021-12-17T13:12:37.012333Z"
    }
   },
   "outputs": [
    {
     "data": {
      "text/html": [
       "<div>\n",
       "<style scoped>\n",
       "    .dataframe tbody tr th:only-of-type {\n",
       "        vertical-align: middle;\n",
       "    }\n",
       "\n",
       "    .dataframe tbody tr th {\n",
       "        vertical-align: top;\n",
       "    }\n",
       "\n",
       "    .dataframe thead th {\n",
       "        text-align: right;\n",
       "    }\n",
       "</style>\n",
       "<table border=\"1\" class=\"dataframe\">\n",
       "  <thead>\n",
       "    <tr style=\"text-align: right;\">\n",
       "      <th></th>\n",
       "      <th>year</th>\n",
       "      <th>selling_price</th>\n",
       "      <th>km_driven</th>\n",
       "      <th>seats</th>\n",
       "    </tr>\n",
       "  </thead>\n",
       "  <tbody>\n",
       "    <tr>\n",
       "      <th>count</th>\n",
       "      <td>8128.000000</td>\n",
       "      <td>8.128000e+03</td>\n",
       "      <td>8.128000e+03</td>\n",
       "      <td>7907.000000</td>\n",
       "    </tr>\n",
       "    <tr>\n",
       "      <th>mean</th>\n",
       "      <td>2013.804011</td>\n",
       "      <td>6.382718e+05</td>\n",
       "      <td>6.981951e+04</td>\n",
       "      <td>5.416719</td>\n",
       "    </tr>\n",
       "    <tr>\n",
       "      <th>std</th>\n",
       "      <td>4.044249</td>\n",
       "      <td>8.062534e+05</td>\n",
       "      <td>5.655055e+04</td>\n",
       "      <td>0.959588</td>\n",
       "    </tr>\n",
       "    <tr>\n",
       "      <th>min</th>\n",
       "      <td>1983.000000</td>\n",
       "      <td>2.999900e+04</td>\n",
       "      <td>1.000000e+00</td>\n",
       "      <td>2.000000</td>\n",
       "    </tr>\n",
       "    <tr>\n",
       "      <th>25%</th>\n",
       "      <td>2011.000000</td>\n",
       "      <td>2.549990e+05</td>\n",
       "      <td>3.500000e+04</td>\n",
       "      <td>5.000000</td>\n",
       "    </tr>\n",
       "    <tr>\n",
       "      <th>50%</th>\n",
       "      <td>2015.000000</td>\n",
       "      <td>4.500000e+05</td>\n",
       "      <td>6.000000e+04</td>\n",
       "      <td>5.000000</td>\n",
       "    </tr>\n",
       "    <tr>\n",
       "      <th>75%</th>\n",
       "      <td>2017.000000</td>\n",
       "      <td>6.750000e+05</td>\n",
       "      <td>9.800000e+04</td>\n",
       "      <td>5.000000</td>\n",
       "    </tr>\n",
       "    <tr>\n",
       "      <th>max</th>\n",
       "      <td>2020.000000</td>\n",
       "      <td>1.000000e+07</td>\n",
       "      <td>2.360457e+06</td>\n",
       "      <td>14.000000</td>\n",
       "    </tr>\n",
       "  </tbody>\n",
       "</table>\n",
       "</div>"
      ],
      "text/plain": [
       "              year  selling_price     km_driven        seats\n",
       "count  8128.000000   8.128000e+03  8.128000e+03  7907.000000\n",
       "mean   2013.804011   6.382718e+05  6.981951e+04     5.416719\n",
       "std       4.044249   8.062534e+05  5.655055e+04     0.959588\n",
       "min    1983.000000   2.999900e+04  1.000000e+00     2.000000\n",
       "25%    2011.000000   2.549990e+05  3.500000e+04     5.000000\n",
       "50%    2015.000000   4.500000e+05  6.000000e+04     5.000000\n",
       "75%    2017.000000   6.750000e+05  9.800000e+04     5.000000\n",
       "max    2020.000000   1.000000e+07  2.360457e+06    14.000000"
      ]
     },
     "execution_count": 10,
     "metadata": {},
     "output_type": "execute_result"
    }
   ],
   "source": [
    "df.describe()"
   ]
  },
  {
   "cell_type": "code",
   "execution_count": 11,
   "id": "9e643744",
   "metadata": {
    "ExecuteTime": {
     "end_time": "2021-12-17T13:12:37.329699Z",
     "start_time": "2021-12-17T13:12:37.288786Z"
    }
   },
   "outputs": [
    {
     "name": "stdout",
     "output_type": "stream",
     "text": [
      "<class 'pandas.core.frame.DataFrame'>\n",
      "RangeIndex: 8128 entries, 0 to 8127\n",
      "Data columns (total 13 columns):\n",
      " #   Column         Non-Null Count  Dtype  \n",
      "---  ------         --------------  -----  \n",
      " 0   name           8128 non-null   object \n",
      " 1   year           8128 non-null   int64  \n",
      " 2   selling_price  8128 non-null   int64  \n",
      " 3   km_driven      8128 non-null   int64  \n",
      " 4   fuel           8128 non-null   object \n",
      " 5   seller_type    8128 non-null   object \n",
      " 6   transmission   8128 non-null   object \n",
      " 7   owner          8128 non-null   object \n",
      " 8   mileage        7907 non-null   object \n",
      " 9   engine         7907 non-null   object \n",
      " 10  max_power      7913 non-null   object \n",
      " 11  torque         7906 non-null   object \n",
      " 12  seats          7907 non-null   float64\n",
      "dtypes: float64(1), int64(3), object(9)\n",
      "memory usage: 825.6+ KB\n"
     ]
    }
   ],
   "source": [
    "df.info()"
   ]
  },
  {
   "cell_type": "markdown",
   "id": "9135a290",
   "metadata": {},
   "source": [
    "<a id='4'></a>\n",
    "# EDA and preprocessing"
   ]
  },
  {
   "cell_type": "code",
   "execution_count": 12,
   "id": "19c1b8cf",
   "metadata": {
    "ExecuteTime": {
     "end_time": "2021-12-17T13:12:37.984063Z",
     "start_time": "2021-12-17T13:12:37.928551Z"
    }
   },
   "outputs": [
    {
     "data": {
      "text/html": [
       "<div>\n",
       "<style scoped>\n",
       "    .dataframe tbody tr th:only-of-type {\n",
       "        vertical-align: middle;\n",
       "    }\n",
       "\n",
       "    .dataframe tbody tr th {\n",
       "        vertical-align: top;\n",
       "    }\n",
       "\n",
       "    .dataframe thead th {\n",
       "        text-align: right;\n",
       "    }\n",
       "</style>\n",
       "<table border=\"1\" class=\"dataframe\">\n",
       "  <thead>\n",
       "    <tr style=\"text-align: right;\">\n",
       "      <th></th>\n",
       "      <th>name</th>\n",
       "      <th>selling_price</th>\n",
       "      <th>km_driven</th>\n",
       "      <th>fuel</th>\n",
       "      <th>seller_type</th>\n",
       "      <th>transmission</th>\n",
       "      <th>owner</th>\n",
       "      <th>mileage</th>\n",
       "      <th>engine</th>\n",
       "      <th>max_power</th>\n",
       "      <th>torque</th>\n",
       "      <th>seats</th>\n",
       "      <th>age</th>\n",
       "    </tr>\n",
       "  </thead>\n",
       "  <tbody>\n",
       "    <tr>\n",
       "      <th>0</th>\n",
       "      <td>Maruti Swift Dzire VDI</td>\n",
       "      <td>450000</td>\n",
       "      <td>145500</td>\n",
       "      <td>Diesel</td>\n",
       "      <td>Individual</td>\n",
       "      <td>Manual</td>\n",
       "      <td>First Owner</td>\n",
       "      <td>23.4 kmpl</td>\n",
       "      <td>1248 CC</td>\n",
       "      <td>74 bhp</td>\n",
       "      <td>190Nm@ 2000rpm</td>\n",
       "      <td>5.0</td>\n",
       "      <td>6</td>\n",
       "    </tr>\n",
       "    <tr>\n",
       "      <th>1</th>\n",
       "      <td>Skoda Rapid 1.5 TDI Ambition</td>\n",
       "      <td>370000</td>\n",
       "      <td>120000</td>\n",
       "      <td>Diesel</td>\n",
       "      <td>Individual</td>\n",
       "      <td>Manual</td>\n",
       "      <td>Second Owner</td>\n",
       "      <td>21.14 kmpl</td>\n",
       "      <td>1498 CC</td>\n",
       "      <td>103.52 bhp</td>\n",
       "      <td>250Nm@ 1500-2500rpm</td>\n",
       "      <td>5.0</td>\n",
       "      <td>6</td>\n",
       "    </tr>\n",
       "    <tr>\n",
       "      <th>2</th>\n",
       "      <td>Honda City 2017-2020 EXi</td>\n",
       "      <td>158000</td>\n",
       "      <td>140000</td>\n",
       "      <td>Petrol</td>\n",
       "      <td>Individual</td>\n",
       "      <td>Manual</td>\n",
       "      <td>Third Owner</td>\n",
       "      <td>17.7 kmpl</td>\n",
       "      <td>1497 CC</td>\n",
       "      <td>78 bhp</td>\n",
       "      <td>12.7@ 2,700(kgm@ rpm)</td>\n",
       "      <td>5.0</td>\n",
       "      <td>14</td>\n",
       "    </tr>\n",
       "    <tr>\n",
       "      <th>3</th>\n",
       "      <td>Hyundai i20 Sportz Diesel</td>\n",
       "      <td>225000</td>\n",
       "      <td>127000</td>\n",
       "      <td>Diesel</td>\n",
       "      <td>Individual</td>\n",
       "      <td>Manual</td>\n",
       "      <td>First Owner</td>\n",
       "      <td>23.0 kmpl</td>\n",
       "      <td>1396 CC</td>\n",
       "      <td>90 bhp</td>\n",
       "      <td>22.4 kgm at 1750-2750rpm</td>\n",
       "      <td>5.0</td>\n",
       "      <td>10</td>\n",
       "    </tr>\n",
       "    <tr>\n",
       "      <th>4</th>\n",
       "      <td>Maruti Swift VXI BSIII</td>\n",
       "      <td>130000</td>\n",
       "      <td>120000</td>\n",
       "      <td>Petrol</td>\n",
       "      <td>Individual</td>\n",
       "      <td>Manual</td>\n",
       "      <td>First Owner</td>\n",
       "      <td>16.1 kmpl</td>\n",
       "      <td>1298 CC</td>\n",
       "      <td>88.2 bhp</td>\n",
       "      <td>11.5@ 4,500(kgm@ rpm)</td>\n",
       "      <td>5.0</td>\n",
       "      <td>13</td>\n",
       "    </tr>\n",
       "  </tbody>\n",
       "</table>\n",
       "</div>"
      ],
      "text/plain": [
       "                           name  selling_price  km_driven    fuel seller_type  \\\n",
       "0        Maruti Swift Dzire VDI         450000     145500  Diesel  Individual   \n",
       "1  Skoda Rapid 1.5 TDI Ambition         370000     120000  Diesel  Individual   \n",
       "2      Honda City 2017-2020 EXi         158000     140000  Petrol  Individual   \n",
       "3     Hyundai i20 Sportz Diesel         225000     127000  Diesel  Individual   \n",
       "4        Maruti Swift VXI BSIII         130000     120000  Petrol  Individual   \n",
       "\n",
       "  transmission         owner     mileage   engine   max_power  \\\n",
       "0       Manual   First Owner   23.4 kmpl  1248 CC      74 bhp   \n",
       "1       Manual  Second Owner  21.14 kmpl  1498 CC  103.52 bhp   \n",
       "2       Manual   Third Owner   17.7 kmpl  1497 CC      78 bhp   \n",
       "3       Manual   First Owner   23.0 kmpl  1396 CC      90 bhp   \n",
       "4       Manual   First Owner   16.1 kmpl  1298 CC    88.2 bhp   \n",
       "\n",
       "                     torque  seats  age  \n",
       "0            190Nm@ 2000rpm    5.0    6  \n",
       "1       250Nm@ 1500-2500rpm    5.0    6  \n",
       "2     12.7@ 2,700(kgm@ rpm)    5.0   14  \n",
       "3  22.4 kgm at 1750-2750rpm    5.0   10  \n",
       "4     11.5@ 4,500(kgm@ rpm)    5.0   13  "
      ]
     },
     "execution_count": 12,
     "metadata": {},
     "output_type": "execute_result"
    }
   ],
   "source": [
    "df['age'] = 2020 - df['year'] #convert year to age of the car\n",
    "df.drop('year', axis=1, inplace=True)\n",
    "df.head()"
   ]
  },
  {
   "cell_type": "code",
   "execution_count": 13,
   "id": "7cec8e2a",
   "metadata": {
    "ExecuteTime": {
     "end_time": "2021-12-17T13:12:38.250885Z",
     "start_time": "2021-12-17T13:12:38.235033Z"
    }
   },
   "outputs": [],
   "source": [
    "def convert_mileage_to_num(x):\n",
    "    x = str(x)\n",
    "    tokens = x.split(' ') # split the values by ' ' putting them into list\n",
    "    if len(tokens) == 2:\n",
    "        return float(tokens[0]) # this will return only the first integer number and ignores the measuring unit\n",
    "    try:\n",
    "        return float(x)\n",
    "    except:\n",
    "        return None"
   ]
  },
  {
   "cell_type": "code",
   "execution_count": 14,
   "id": "f878bbf7",
   "metadata": {
    "ExecuteTime": {
     "end_time": "2021-12-17T13:12:38.663479Z",
     "start_time": "2021-12-17T13:12:38.621098Z"
    }
   },
   "outputs": [
    {
     "data": {
      "text/html": [
       "<div>\n",
       "<style scoped>\n",
       "    .dataframe tbody tr th:only-of-type {\n",
       "        vertical-align: middle;\n",
       "    }\n",
       "\n",
       "    .dataframe tbody tr th {\n",
       "        vertical-align: top;\n",
       "    }\n",
       "\n",
       "    .dataframe thead th {\n",
       "        text-align: right;\n",
       "    }\n",
       "</style>\n",
       "<table border=\"1\" class=\"dataframe\">\n",
       "  <thead>\n",
       "    <tr style=\"text-align: right;\">\n",
       "      <th></th>\n",
       "      <th>name</th>\n",
       "      <th>selling_price</th>\n",
       "      <th>km_driven</th>\n",
       "      <th>fuel</th>\n",
       "      <th>seller_type</th>\n",
       "      <th>transmission</th>\n",
       "      <th>owner</th>\n",
       "      <th>mileage</th>\n",
       "      <th>engine</th>\n",
       "      <th>max_power</th>\n",
       "      <th>torque</th>\n",
       "      <th>seats</th>\n",
       "      <th>age</th>\n",
       "    </tr>\n",
       "  </thead>\n",
       "  <tbody>\n",
       "    <tr>\n",
       "      <th>0</th>\n",
       "      <td>Maruti Swift Dzire VDI</td>\n",
       "      <td>450000</td>\n",
       "      <td>145500</td>\n",
       "      <td>Diesel</td>\n",
       "      <td>Individual</td>\n",
       "      <td>Manual</td>\n",
       "      <td>First Owner</td>\n",
       "      <td>23.40</td>\n",
       "      <td>1248 CC</td>\n",
       "      <td>74 bhp</td>\n",
       "      <td>190Nm@ 2000rpm</td>\n",
       "      <td>5.0</td>\n",
       "      <td>6</td>\n",
       "    </tr>\n",
       "    <tr>\n",
       "      <th>1</th>\n",
       "      <td>Skoda Rapid 1.5 TDI Ambition</td>\n",
       "      <td>370000</td>\n",
       "      <td>120000</td>\n",
       "      <td>Diesel</td>\n",
       "      <td>Individual</td>\n",
       "      <td>Manual</td>\n",
       "      <td>Second Owner</td>\n",
       "      <td>21.14</td>\n",
       "      <td>1498 CC</td>\n",
       "      <td>103.52 bhp</td>\n",
       "      <td>250Nm@ 1500-2500rpm</td>\n",
       "      <td>5.0</td>\n",
       "      <td>6</td>\n",
       "    </tr>\n",
       "    <tr>\n",
       "      <th>2</th>\n",
       "      <td>Honda City 2017-2020 EXi</td>\n",
       "      <td>158000</td>\n",
       "      <td>140000</td>\n",
       "      <td>Petrol</td>\n",
       "      <td>Individual</td>\n",
       "      <td>Manual</td>\n",
       "      <td>Third Owner</td>\n",
       "      <td>17.70</td>\n",
       "      <td>1497 CC</td>\n",
       "      <td>78 bhp</td>\n",
       "      <td>12.7@ 2,700(kgm@ rpm)</td>\n",
       "      <td>5.0</td>\n",
       "      <td>14</td>\n",
       "    </tr>\n",
       "    <tr>\n",
       "      <th>3</th>\n",
       "      <td>Hyundai i20 Sportz Diesel</td>\n",
       "      <td>225000</td>\n",
       "      <td>127000</td>\n",
       "      <td>Diesel</td>\n",
       "      <td>Individual</td>\n",
       "      <td>Manual</td>\n",
       "      <td>First Owner</td>\n",
       "      <td>23.00</td>\n",
       "      <td>1396 CC</td>\n",
       "      <td>90 bhp</td>\n",
       "      <td>22.4 kgm at 1750-2750rpm</td>\n",
       "      <td>5.0</td>\n",
       "      <td>10</td>\n",
       "    </tr>\n",
       "    <tr>\n",
       "      <th>4</th>\n",
       "      <td>Maruti Swift VXI BSIII</td>\n",
       "      <td>130000</td>\n",
       "      <td>120000</td>\n",
       "      <td>Petrol</td>\n",
       "      <td>Individual</td>\n",
       "      <td>Manual</td>\n",
       "      <td>First Owner</td>\n",
       "      <td>16.10</td>\n",
       "      <td>1298 CC</td>\n",
       "      <td>88.2 bhp</td>\n",
       "      <td>11.5@ 4,500(kgm@ rpm)</td>\n",
       "      <td>5.0</td>\n",
       "      <td>13</td>\n",
       "    </tr>\n",
       "  </tbody>\n",
       "</table>\n",
       "</div>"
      ],
      "text/plain": [
       "                           name  selling_price  km_driven    fuel seller_type  \\\n",
       "0        Maruti Swift Dzire VDI         450000     145500  Diesel  Individual   \n",
       "1  Skoda Rapid 1.5 TDI Ambition         370000     120000  Diesel  Individual   \n",
       "2      Honda City 2017-2020 EXi         158000     140000  Petrol  Individual   \n",
       "3     Hyundai i20 Sportz Diesel         225000     127000  Diesel  Individual   \n",
       "4        Maruti Swift VXI BSIII         130000     120000  Petrol  Individual   \n",
       "\n",
       "  transmission         owner  mileage   engine   max_power  \\\n",
       "0       Manual   First Owner    23.40  1248 CC      74 bhp   \n",
       "1       Manual  Second Owner    21.14  1498 CC  103.52 bhp   \n",
       "2       Manual   Third Owner    17.70  1497 CC      78 bhp   \n",
       "3       Manual   First Owner    23.00  1396 CC      90 bhp   \n",
       "4       Manual   First Owner    16.10  1298 CC    88.2 bhp   \n",
       "\n",
       "                     torque  seats  age  \n",
       "0            190Nm@ 2000rpm    5.0    6  \n",
       "1       250Nm@ 1500-2500rpm    5.0    6  \n",
       "2     12.7@ 2,700(kgm@ rpm)    5.0   14  \n",
       "3  22.4 kgm at 1750-2750rpm    5.0   10  \n",
       "4     11.5@ 4,500(kgm@ rpm)    5.0   13  "
      ]
     },
     "execution_count": 14,
     "metadata": {},
     "output_type": "execute_result"
    }
   ],
   "source": [
    "df['mileage'] = df['mileage'].apply(convert_mileage_to_num)\n",
    "df.head()"
   ]
  },
  {
   "cell_type": "code",
   "execution_count": 15,
   "id": "1c1bf06c",
   "metadata": {
    "ExecuteTime": {
     "end_time": "2021-12-17T13:12:38.945046Z",
     "start_time": "2021-12-17T13:12:38.934799Z"
    }
   },
   "outputs": [
    {
     "data": {
      "text/plain": [
       "dtype('float64')"
      ]
     },
     "execution_count": 15,
     "metadata": {},
     "output_type": "execute_result"
    }
   ],
   "source": [
    "df.mileage.dtypes"
   ]
  },
  {
   "cell_type": "code",
   "execution_count": 16,
   "id": "704cddc0",
   "metadata": {
    "ExecuteTime": {
     "end_time": "2021-12-17T13:12:39.263216Z",
     "start_time": "2021-12-17T13:12:39.219659Z"
    }
   },
   "outputs": [
    {
     "data": {
      "text/plain": [
       "name             2058\n",
       "selling_price     677\n",
       "km_driven         921\n",
       "fuel                4\n",
       "seller_type         3\n",
       "transmission        2\n",
       "owner               5\n",
       "mileage           381\n",
       "engine            121\n",
       "max_power         322\n",
       "torque            441\n",
       "seats               9\n",
       "age                29\n",
       "dtype: int64"
      ]
     },
     "execution_count": 16,
     "metadata": {},
     "output_type": "execute_result"
    }
   ],
   "source": [
    "df.nunique()"
   ]
  },
  {
   "cell_type": "code",
   "execution_count": 17,
   "id": "20258d29",
   "metadata": {
    "ExecuteTime": {
     "end_time": "2021-12-17T13:12:40.557230Z",
     "start_time": "2021-12-17T13:12:39.496704Z"
    }
   },
   "outputs": [
    {
     "data": {
      "image/png": "[encoded data removed]",
      "text/plain": [
       "<Figure size 1296x432 with 2 Axes>"
      ]
     },
     "metadata": {
      "needs_background": "light"
     },
     "output_type": "display_data"
    },
    {
     "data": {
      "image/png": "[encoded data removed]",
      "text/plain": [
       "<Figure size 1296x432 with 2 Axes>"
      ]
     },
     "metadata": {
      "needs_background": "light"
     },
     "output_type": "display_data"
    }
   ],
   "source": [
    "cat_cols = ['fuel','seller_type','transmission','owner']\n",
    "i=0\n",
    "while i < 4:\n",
    "    fig = plt.figure(figsize=[18,6])\n",
    "\n",
    "    plt.subplot(1,2,1)\n",
    "    sns.countplot(x=cat_cols[i], data=df)\n",
    "    i += 1\n",
    "    \n",
    "    plt.subplot(1,2,2)\n",
    "    sns.countplot(x=cat_cols[i], data=df)\n",
    "    i += 1\n",
    "    \n",
    "    plt.show()"
   ]
  },
  {
   "cell_type": "markdown",
   "id": "b020bd44",
   "metadata": {},
   "source": [
    "- Diesel and Petrol fuel are the most popluar in the data\n",
    "- Individual sellers are most popular than other sellers\n",
    "- Manual Cars are most popular tham automatic cars"
   ]
  },
  {
   "cell_type": "code",
   "execution_count": 18,
   "id": "0d424d4d",
   "metadata": {
    "ExecuteTime": {
     "end_time": "2021-12-17T13:12:40.926531Z",
     "start_time": "2021-12-17T13:12:40.560966Z"
    }
   },
   "outputs": [
    {
     "data": {
      "image/png": "[encoded data removed]",
      "text/plain": [
       "<Figure size 1008x576 with 1 Axes>"
      ]
     },
     "metadata": {
      "needs_background": "light"
     },
     "output_type": "display_data"
    }
   ],
   "source": [
    "plt.figure(figsize=(14,8))\n",
    "sns.countplot(x='seats', data=df);"
   ]
  },
  {
   "cell_type": "markdown",
   "id": "dfb2874e",
   "metadata": {},
   "source": [
    "5 seats in the car is most popular"
   ]
  },
  {
   "cell_type": "code",
   "execution_count": 19,
   "id": "6ad2921d",
   "metadata": {
    "ExecuteTime": {
     "end_time": "2021-12-17T13:12:41.654073Z",
     "start_time": "2021-12-17T13:12:40.931123Z"
    }
   },
   "outputs": [
    {
     "data": {
      "image/png": "[encoded data removed]",
      "text/plain": [
       "<Figure size 1008x432 with 2 Axes>"
      ]
     },
     "metadata": {
      "needs_background": "light"
     },
     "output_type": "display_data"
    },
    {
     "data": {
      "image/png": "[encoded data removed]",
      "text/plain": [
       "<Figure size 1008x432 with 2 Axes>"
      ]
     },
     "metadata": {
      "needs_background": "light"
     },
     "output_type": "display_data"
    }
   ],
   "source": [
    "num_cols = ['selling_price','mileage','km_driven','age']\n",
    "i=0\n",
    "while i < 4:\n",
    "    fig = plt.figure(figsize=[14,6])\n",
    "    \n",
    "    plt.subplot(1,2,1)\n",
    "    sns.boxplot(x=num_cols[i], data=df)\n",
    "    i += 1\n",
    "    \n",
    "    plt.subplot(1,2,2)\n",
    "    sns.boxplot(x=num_cols[i], data=df)\n",
    "    i += 1\n",
    "    \n",
    "    plt.show()"
   ]
  },
  {
   "cell_type": "code",
   "execution_count": 20,
   "id": "2d64fd2f",
   "metadata": {
    "ExecuteTime": {
     "end_time": "2021-12-17T13:12:43.993159Z",
     "start_time": "2021-12-17T13:12:41.657391Z"
    }
   },
   "outputs": [
    {
     "data": {
      "image/png": "[encoded data removed]",
      "text/plain": [
       "<Figure size 1296x864 with 4 Axes>"
      ]
     },
     "metadata": {
      "needs_background": "light"
     },
     "output_type": "display_data"
    }
   ],
   "source": [
    "plt.figure(figsize=(18,12))\n",
    "\n",
    "plt.subplot(2,2,1)\n",
    "sns.barplot(x='fuel', y='selling_price', data=df);\n",
    "\n",
    "plt.subplot(2,2,2)\n",
    "sns.barplot(x='transmission', y='selling_price', data=df)\n",
    "\n",
    "plt.subplot(2,2,3)\n",
    "sns.barplot(x='owner', y='selling_price', data=df)\n",
    "\n",
    "plt.subplot(2,2,4)\n",
    "sns.barplot(x='seller_type', y='selling_price', data=df)\n",
    "\n",
    "\n",
    "plt.show()"
   ]
  },
  {
   "cell_type": "markdown",
   "id": "3fa5d158",
   "metadata": {},
   "source": [
    "- price goes higher with Diesel fuel, automatic transmission, Dealer Seller and test Drive Car"
   ]
  },
  {
   "cell_type": "code",
   "execution_count": 21,
   "id": "6c6d1187",
   "metadata": {
    "ExecuteTime": {
     "end_time": "2021-12-17T13:12:44.011438Z",
     "start_time": "2021-12-17T13:12:43.995863Z"
    }
   },
   "outputs": [
    {
     "data": {
      "text/plain": [
       "1248 CC    1017\n",
       "1197 CC     832\n",
       "998 CC      453\n",
       "796 CC      444\n",
       "2179 CC     389\n",
       "           ... \n",
       "1590 CC       1\n",
       "1489 CC       1\n",
       "2197 CC       1\n",
       "2496 CC       1\n",
       "1339 CC       1\n",
       "Name: engine, Length: 121, dtype: int64"
      ]
     },
     "execution_count": 21,
     "metadata": {},
     "output_type": "execute_result"
    }
   ],
   "source": [
    "df.engine.value_counts()"
   ]
  },
  {
   "cell_type": "code",
   "execution_count": 22,
   "id": "d6978fc3",
   "metadata": {
    "ExecuteTime": {
     "end_time": "2021-12-17T13:12:44.029229Z",
     "start_time": "2021-12-17T13:12:44.017523Z"
    }
   },
   "outputs": [],
   "source": [
    "def convert_engine_to_num(x):\n",
    "    x = str(x)\n",
    "    tokens = x.split(' ') # split the values by ' ' putting them into list\n",
    "    if len(tokens) == 2:\n",
    "        return float(tokens[0]) # this will return only the first integer number and ignores the CC\n",
    "    try:\n",
    "        return float(x)\n",
    "    except:\n",
    "        return None"
   ]
  },
  {
   "cell_type": "code",
   "execution_count": 23,
   "id": "c8a78225",
   "metadata": {
    "ExecuteTime": {
     "end_time": "2021-12-17T13:12:44.058093Z",
     "start_time": "2021-12-17T13:12:44.033610Z"
    }
   },
   "outputs": [
    {
     "data": {
      "text/plain": [
       "dtype('float64')"
      ]
     },
     "execution_count": 23,
     "metadata": {},
     "output_type": "execute_result"
    }
   ],
   "source": [
    "df.engine = df.engine.apply(convert_engine_to_num)\n",
    "df.engine.dtypes"
   ]
  },
  {
   "cell_type": "code",
   "execution_count": 24,
   "id": "55463e0f",
   "metadata": {
    "ExecuteTime": {
     "end_time": "2021-12-17T13:12:44.120622Z",
     "start_time": "2021-12-17T13:12:44.061325Z"
    }
   },
   "outputs": [
    {
     "data": {
      "text/html": [
       "<div>\n",
       "<style scoped>\n",
       "    .dataframe tbody tr th:only-of-type {\n",
       "        vertical-align: middle;\n",
       "    }\n",
       "\n",
       "    .dataframe tbody tr th {\n",
       "        vertical-align: top;\n",
       "    }\n",
       "\n",
       "    .dataframe thead th {\n",
       "        text-align: right;\n",
       "    }\n",
       "</style>\n",
       "<table border=\"1\" class=\"dataframe\">\n",
       "  <thead>\n",
       "    <tr style=\"text-align: right;\">\n",
       "      <th></th>\n",
       "      <th>name</th>\n",
       "      <th>selling_price</th>\n",
       "      <th>km_driven</th>\n",
       "      <th>fuel</th>\n",
       "      <th>seller_type</th>\n",
       "      <th>transmission</th>\n",
       "      <th>owner</th>\n",
       "      <th>mileage</th>\n",
       "      <th>engine</th>\n",
       "      <th>max_power</th>\n",
       "      <th>torque</th>\n",
       "      <th>seats</th>\n",
       "      <th>age</th>\n",
       "    </tr>\n",
       "  </thead>\n",
       "  <tbody>\n",
       "    <tr>\n",
       "      <th>136</th>\n",
       "      <td>Mercedes-Benz S-Class S 350 CDI</td>\n",
       "      <td>6000000</td>\n",
       "      <td>37000</td>\n",
       "      <td>Diesel</td>\n",
       "      <td>Dealer</td>\n",
       "      <td>Automatic</td>\n",
       "      <td>First Owner</td>\n",
       "      <td>13.50</td>\n",
       "      <td>2987.0</td>\n",
       "      <td>254.79 bhp</td>\n",
       "      <td>620Nm@ 1600-2400rpm</td>\n",
       "      <td>5.0</td>\n",
       "      <td>3</td>\n",
       "    </tr>\n",
       "    <tr>\n",
       "      <th>139</th>\n",
       "      <td>BMW X4 M Sport X xDrive20d</td>\n",
       "      <td>5800000</td>\n",
       "      <td>7500</td>\n",
       "      <td>Diesel</td>\n",
       "      <td>Dealer</td>\n",
       "      <td>Automatic</td>\n",
       "      <td>First Owner</td>\n",
       "      <td>16.78</td>\n",
       "      <td>1995.0</td>\n",
       "      <td>190 bhp</td>\n",
       "      <td>400Nm@ 1750-2500rpm</td>\n",
       "      <td>5.0</td>\n",
       "      <td>1</td>\n",
       "    </tr>\n",
       "    <tr>\n",
       "      <th>148</th>\n",
       "      <td>Mercedes-Benz S-Class S 350 CDI</td>\n",
       "      <td>5850000</td>\n",
       "      <td>47000</td>\n",
       "      <td>Diesel</td>\n",
       "      <td>Dealer</td>\n",
       "      <td>Automatic</td>\n",
       "      <td>First Owner</td>\n",
       "      <td>13.50</td>\n",
       "      <td>2987.0</td>\n",
       "      <td>282 bhp</td>\n",
       "      <td>490Nm@ 1600rpm</td>\n",
       "      <td>5.0</td>\n",
       "      <td>3</td>\n",
       "    </tr>\n",
       "    <tr>\n",
       "      <th>170</th>\n",
       "      <td>Volvo XC90 T8 Excellence BSIV</td>\n",
       "      <td>10000000</td>\n",
       "      <td>30000</td>\n",
       "      <td>Petrol</td>\n",
       "      <td>Individual</td>\n",
       "      <td>Automatic</td>\n",
       "      <td>First Owner</td>\n",
       "      <td>42.00</td>\n",
       "      <td>1969.0</td>\n",
       "      <td>400 bhp</td>\n",
       "      <td>640Nm@ 1740rpm</td>\n",
       "      <td>4.0</td>\n",
       "      <td>3</td>\n",
       "    </tr>\n",
       "    <tr>\n",
       "      <th>384</th>\n",
       "      <td>BMW X4 M Sport X xDrive20d</td>\n",
       "      <td>5400000</td>\n",
       "      <td>7500</td>\n",
       "      <td>Diesel</td>\n",
       "      <td>Dealer</td>\n",
       "      <td>Automatic</td>\n",
       "      <td>First Owner</td>\n",
       "      <td>16.78</td>\n",
       "      <td>1995.0</td>\n",
       "      <td>190 bhp</td>\n",
       "      <td>400Nm@ 1750-2500rpm</td>\n",
       "      <td>5.0</td>\n",
       "      <td>1</td>\n",
       "    </tr>\n",
       "    <tr>\n",
       "      <th>...</th>\n",
       "      <td>...</td>\n",
       "      <td>...</td>\n",
       "      <td>...</td>\n",
       "      <td>...</td>\n",
       "      <td>...</td>\n",
       "      <td>...</td>\n",
       "      <td>...</td>\n",
       "      <td>...</td>\n",
       "      <td>...</td>\n",
       "      <td>...</td>\n",
       "      <td>...</td>\n",
       "      <td>...</td>\n",
       "      <td>...</td>\n",
       "    </tr>\n",
       "    <tr>\n",
       "      <th>7596</th>\n",
       "      <td>BMW 6 Series GT 630d Luxury Line</td>\n",
       "      <td>5830000</td>\n",
       "      <td>30000</td>\n",
       "      <td>Diesel</td>\n",
       "      <td>Individual</td>\n",
       "      <td>Automatic</td>\n",
       "      <td>First Owner</td>\n",
       "      <td>17.09</td>\n",
       "      <td>2993.0</td>\n",
       "      <td>261.4 bhp</td>\n",
       "      <td>620Nm@ 2000-2500rpm</td>\n",
       "      <td>4.0</td>\n",
       "      <td>2</td>\n",
       "    </tr>\n",
       "    <tr>\n",
       "      <th>7713</th>\n",
       "      <td>Mercedes-Benz S-Class S 350 CDI</td>\n",
       "      <td>6000000</td>\n",
       "      <td>37000</td>\n",
       "      <td>Diesel</td>\n",
       "      <td>Dealer</td>\n",
       "      <td>Automatic</td>\n",
       "      <td>First Owner</td>\n",
       "      <td>13.50</td>\n",
       "      <td>2987.0</td>\n",
       "      <td>254.79 bhp</td>\n",
       "      <td>620Nm@ 1600-2400rpm</td>\n",
       "      <td>5.0</td>\n",
       "      <td>3</td>\n",
       "    </tr>\n",
       "    <tr>\n",
       "      <th>7872</th>\n",
       "      <td>BMW X4 M Sport X xDrive20d</td>\n",
       "      <td>5400000</td>\n",
       "      <td>7500</td>\n",
       "      <td>Diesel</td>\n",
       "      <td>Dealer</td>\n",
       "      <td>Automatic</td>\n",
       "      <td>First Owner</td>\n",
       "      <td>16.78</td>\n",
       "      <td>1995.0</td>\n",
       "      <td>190 bhp</td>\n",
       "      <td>400Nm@ 1750-2500rpm</td>\n",
       "      <td>5.0</td>\n",
       "      <td>1</td>\n",
       "    </tr>\n",
       "    <tr>\n",
       "      <th>7873</th>\n",
       "      <td>BMW X4 M Sport X xDrive20d</td>\n",
       "      <td>5500000</td>\n",
       "      <td>8500</td>\n",
       "      <td>Diesel</td>\n",
       "      <td>Dealer</td>\n",
       "      <td>Automatic</td>\n",
       "      <td>First Owner</td>\n",
       "      <td>16.78</td>\n",
       "      <td>1995.0</td>\n",
       "      <td>190 bhp</td>\n",
       "      <td>400Nm@ 1750-2500rpm</td>\n",
       "      <td>5.0</td>\n",
       "      <td>1</td>\n",
       "    </tr>\n",
       "    <tr>\n",
       "      <th>7930</th>\n",
       "      <td>Volvo S90 D4 Inscription BSIV</td>\n",
       "      <td>5500000</td>\n",
       "      <td>17000</td>\n",
       "      <td>Diesel</td>\n",
       "      <td>Individual</td>\n",
       "      <td>Automatic</td>\n",
       "      <td>First Owner</td>\n",
       "      <td>18.00</td>\n",
       "      <td>1969.0</td>\n",
       "      <td>190 bhp</td>\n",
       "      <td>400Nm</td>\n",
       "      <td>5.0</td>\n",
       "      <td>1</td>\n",
       "    </tr>\n",
       "  </tbody>\n",
       "</table>\n",
       "<p>79 rows × 13 columns</p>\n",
       "</div>"
      ],
      "text/plain": [
       "                                  name  selling_price  km_driven    fuel  \\\n",
       "136    Mercedes-Benz S-Class S 350 CDI        6000000      37000  Diesel   \n",
       "139         BMW X4 M Sport X xDrive20d        5800000       7500  Diesel   \n",
       "148    Mercedes-Benz S-Class S 350 CDI        5850000      47000  Diesel   \n",
       "170      Volvo XC90 T8 Excellence BSIV       10000000      30000  Petrol   \n",
       "384         BMW X4 M Sport X xDrive20d        5400000       7500  Diesel   \n",
       "...                                ...            ...        ...     ...   \n",
       "7596  BMW 6 Series GT 630d Luxury Line        5830000      30000  Diesel   \n",
       "7713   Mercedes-Benz S-Class S 350 CDI        6000000      37000  Diesel   \n",
       "7872        BMW X4 M Sport X xDrive20d        5400000       7500  Diesel   \n",
       "7873        BMW X4 M Sport X xDrive20d        5500000       8500  Diesel   \n",
       "7930     Volvo S90 D4 Inscription BSIV        5500000      17000  Diesel   \n",
       "\n",
       "     seller_type transmission        owner  mileage  engine   max_power  \\\n",
       "136       Dealer    Automatic  First Owner    13.50  2987.0  254.79 bhp   \n",
       "139       Dealer    Automatic  First Owner    16.78  1995.0     190 bhp   \n",
       "148       Dealer    Automatic  First Owner    13.50  2987.0     282 bhp   \n",
       "170   Individual    Automatic  First Owner    42.00  1969.0     400 bhp   \n",
       "384       Dealer    Automatic  First Owner    16.78  1995.0     190 bhp   \n",
       "...          ...          ...          ...      ...     ...         ...   \n",
       "7596  Individual    Automatic  First Owner    17.09  2993.0   261.4 bhp   \n",
       "7713      Dealer    Automatic  First Owner    13.50  2987.0  254.79 bhp   \n",
       "7872      Dealer    Automatic  First Owner    16.78  1995.0     190 bhp   \n",
       "7873      Dealer    Automatic  First Owner    16.78  1995.0     190 bhp   \n",
       "7930  Individual    Automatic  First Owner    18.00  1969.0     190 bhp   \n",
       "\n",
       "                   torque  seats  age  \n",
       "136   620Nm@ 1600-2400rpm    5.0    3  \n",
       "139   400Nm@ 1750-2500rpm    5.0    1  \n",
       "148        490Nm@ 1600rpm    5.0    3  \n",
       "170        640Nm@ 1740rpm    4.0    3  \n",
       "384   400Nm@ 1750-2500rpm    5.0    1  \n",
       "...                   ...    ...  ...  \n",
       "7596  620Nm@ 2000-2500rpm    4.0    2  \n",
       "7713  620Nm@ 1600-2400rpm    5.0    3  \n",
       "7872  400Nm@ 1750-2500rpm    5.0    1  \n",
       "7873  400Nm@ 1750-2500rpm    5.0    1  \n",
       "7930                400Nm    5.0    1  \n",
       "\n",
       "[79 rows x 13 columns]"
      ]
     },
     "execution_count": 24,
     "metadata": {},
     "output_type": "execute_result"
    }
   ],
   "source": [
    "df[df.selling_price > df.selling_price.quantile(0.99)]"
   ]
  },
  {
   "cell_type": "code",
   "execution_count": 25,
   "id": "c9438a40",
   "metadata": {
    "ExecuteTime": {
     "end_time": "2021-12-17T13:12:44.143228Z",
     "start_time": "2021-12-17T13:12:44.123787Z"
    }
   },
   "outputs": [
    {
     "data": {
      "text/plain": [
       "Index(['mileage', 'engine', 'max_power', 'torque', 'seats'], dtype='object')"
      ]
     },
     "execution_count": 25,
     "metadata": {},
     "output_type": "execute_result"
    }
   ],
   "source": [
    "df.columns[df.isna().any()]"
   ]
  },
  {
   "cell_type": "markdown",
   "id": "74428f4d",
   "metadata": {},
   "source": [
    "<a id='4.1'></a>\n",
    "***handling null values***"
   ]
  },
  {
   "cell_type": "code",
   "execution_count": 26,
   "id": "e922ab83",
   "metadata": {
    "ExecuteTime": {
     "end_time": "2021-12-17T13:12:44.182965Z",
     "start_time": "2021-12-17T13:12:44.147969Z"
    }
   },
   "outputs": [
    {
     "data": {
      "text/plain": [
       "name               0\n",
       "selling_price      0\n",
       "km_driven          0\n",
       "fuel               0\n",
       "seller_type        0\n",
       "transmission       0\n",
       "owner              0\n",
       "mileage          221\n",
       "engine           221\n",
       "max_power        215\n",
       "torque           222\n",
       "seats            221\n",
       "age                0\n",
       "dtype: int64"
      ]
     },
     "execution_count": 26,
     "metadata": {},
     "output_type": "execute_result"
    }
   ],
   "source": [
    "df.isnull().sum()"
   ]
  },
  {
   "cell_type": "code",
   "execution_count": 27,
   "id": "b34ce9cd",
   "metadata": {
    "ExecuteTime": {
     "end_time": "2021-12-17T13:12:44.201457Z",
     "start_time": "2021-12-17T13:12:44.187941Z"
    }
   },
   "outputs": [],
   "source": [
    "df2 = df.copy()\n",
    "df2.engine = df2.engine.fillna(0)"
   ]
  },
  {
   "cell_type": "code",
   "execution_count": 28,
   "id": "771ed08a",
   "metadata": {
    "ExecuteTime": {
     "end_time": "2021-12-17T13:12:44.303881Z",
     "start_time": "2021-12-17T13:12:44.207659Z"
    }
   },
   "outputs": [
    {
     "data": {
      "text/html": [
       "<div>\n",
       "<style scoped>\n",
       "    .dataframe tbody tr th:only-of-type {\n",
       "        vertical-align: middle;\n",
       "    }\n",
       "\n",
       "    .dataframe tbody tr th {\n",
       "        vertical-align: top;\n",
       "    }\n",
       "\n",
       "    .dataframe thead th {\n",
       "        text-align: right;\n",
       "    }\n",
       "</style>\n",
       "<table border=\"1\" class=\"dataframe\">\n",
       "  <thead>\n",
       "    <tr style=\"text-align: right;\">\n",
       "      <th></th>\n",
       "      <th>name</th>\n",
       "      <th>selling_price</th>\n",
       "      <th>km_driven</th>\n",
       "      <th>fuel</th>\n",
       "      <th>seller_type</th>\n",
       "      <th>transmission</th>\n",
       "      <th>owner</th>\n",
       "      <th>mileage</th>\n",
       "      <th>engine</th>\n",
       "      <th>max_power</th>\n",
       "      <th>torque</th>\n",
       "      <th>seats</th>\n",
       "      <th>age</th>\n",
       "    </tr>\n",
       "  </thead>\n",
       "  <tbody>\n",
       "    <tr>\n",
       "      <th>13</th>\n",
       "      <td>Maruti Swift 1.3 VXi</td>\n",
       "      <td>200000</td>\n",
       "      <td>80000</td>\n",
       "      <td>Petrol</td>\n",
       "      <td>Individual</td>\n",
       "      <td>Manual</td>\n",
       "      <td>Second Owner</td>\n",
       "      <td>NaN</td>\n",
       "      <td>0.0</td>\n",
       "      <td>NaN</td>\n",
       "      <td>NaN</td>\n",
       "      <td>NaN</td>\n",
       "      <td>13</td>\n",
       "    </tr>\n",
       "    <tr>\n",
       "      <th>31</th>\n",
       "      <td>Fiat Palio 1.2 ELX</td>\n",
       "      <td>70000</td>\n",
       "      <td>50000</td>\n",
       "      <td>Petrol</td>\n",
       "      <td>Individual</td>\n",
       "      <td>Manual</td>\n",
       "      <td>Second Owner</td>\n",
       "      <td>NaN</td>\n",
       "      <td>0.0</td>\n",
       "      <td>NaN</td>\n",
       "      <td>NaN</td>\n",
       "      <td>NaN</td>\n",
       "      <td>17</td>\n",
       "    </tr>\n",
       "    <tr>\n",
       "      <th>78</th>\n",
       "      <td>Tata Indica DLS</td>\n",
       "      <td>50000</td>\n",
       "      <td>70000</td>\n",
       "      <td>Diesel</td>\n",
       "      <td>Individual</td>\n",
       "      <td>Manual</td>\n",
       "      <td>First Owner</td>\n",
       "      <td>NaN</td>\n",
       "      <td>0.0</td>\n",
       "      <td>NaN</td>\n",
       "      <td>NaN</td>\n",
       "      <td>NaN</td>\n",
       "      <td>17</td>\n",
       "    </tr>\n",
       "    <tr>\n",
       "      <th>87</th>\n",
       "      <td>Maruti Swift VDI BSIV W ABS</td>\n",
       "      <td>475000</td>\n",
       "      <td>78000</td>\n",
       "      <td>Diesel</td>\n",
       "      <td>Dealer</td>\n",
       "      <td>Manual</td>\n",
       "      <td>First Owner</td>\n",
       "      <td>NaN</td>\n",
       "      <td>0.0</td>\n",
       "      <td>NaN</td>\n",
       "      <td>NaN</td>\n",
       "      <td>NaN</td>\n",
       "      <td>5</td>\n",
       "    </tr>\n",
       "    <tr>\n",
       "      <th>119</th>\n",
       "      <td>Maruti Swift VDI BSIV</td>\n",
       "      <td>300000</td>\n",
       "      <td>120000</td>\n",
       "      <td>Diesel</td>\n",
       "      <td>Individual</td>\n",
       "      <td>Manual</td>\n",
       "      <td>Second Owner</td>\n",
       "      <td>NaN</td>\n",
       "      <td>0.0</td>\n",
       "      <td>NaN</td>\n",
       "      <td>NaN</td>\n",
       "      <td>NaN</td>\n",
       "      <td>10</td>\n",
       "    </tr>\n",
       "    <tr>\n",
       "      <th>138</th>\n",
       "      <td>BMW X1 sDrive 20D xLine</td>\n",
       "      <td>2150000</td>\n",
       "      <td>27000</td>\n",
       "      <td>Diesel</td>\n",
       "      <td>Dealer</td>\n",
       "      <td>Automatic</td>\n",
       "      <td>First Owner</td>\n",
       "      <td>NaN</td>\n",
       "      <td>0.0</td>\n",
       "      <td>NaN</td>\n",
       "      <td>NaN</td>\n",
       "      <td>NaN</td>\n",
       "      <td>3</td>\n",
       "    </tr>\n",
       "    <tr>\n",
       "      <th>200</th>\n",
       "      <td>Toyota Etios GD</td>\n",
       "      <td>235000</td>\n",
       "      <td>120000</td>\n",
       "      <td>Diesel</td>\n",
       "      <td>Individual</td>\n",
       "      <td>Manual</td>\n",
       "      <td>First Owner</td>\n",
       "      <td>NaN</td>\n",
       "      <td>0.0</td>\n",
       "      <td>NaN</td>\n",
       "      <td>NaN</td>\n",
       "      <td>NaN</td>\n",
       "      <td>8</td>\n",
       "    </tr>\n",
       "    <tr>\n",
       "      <th>206</th>\n",
       "      <td>Maruti Omni E 8 Str STD</td>\n",
       "      <td>40000</td>\n",
       "      <td>90000</td>\n",
       "      <td>Petrol</td>\n",
       "      <td>Individual</td>\n",
       "      <td>Manual</td>\n",
       "      <td>Second Owner</td>\n",
       "      <td>NaN</td>\n",
       "      <td>0.0</td>\n",
       "      <td>NaN</td>\n",
       "      <td>NaN</td>\n",
       "      <td>NaN</td>\n",
       "      <td>17</td>\n",
       "    </tr>\n",
       "    <tr>\n",
       "      <th>228</th>\n",
       "      <td>Maruti Swift 1.3 VXi</td>\n",
       "      <td>130000</td>\n",
       "      <td>120000</td>\n",
       "      <td>Petrol</td>\n",
       "      <td>Individual</td>\n",
       "      <td>Manual</td>\n",
       "      <td>Second Owner</td>\n",
       "      <td>NaN</td>\n",
       "      <td>0.0</td>\n",
       "      <td>NaN</td>\n",
       "      <td>NaN</td>\n",
       "      <td>NaN</td>\n",
       "      <td>12</td>\n",
       "    </tr>\n",
       "    <tr>\n",
       "      <th>252</th>\n",
       "      <td>Tata Indica DLS</td>\n",
       "      <td>75000</td>\n",
       "      <td>110000</td>\n",
       "      <td>Diesel</td>\n",
       "      <td>Individual</td>\n",
       "      <td>Manual</td>\n",
       "      <td>Second Owner</td>\n",
       "      <td>NaN</td>\n",
       "      <td>0.0</td>\n",
       "      <td>NaN</td>\n",
       "      <td>NaN</td>\n",
       "      <td>NaN</td>\n",
       "      <td>15</td>\n",
       "    </tr>\n",
       "    <tr>\n",
       "      <th>306</th>\n",
       "      <td>Maruti Swift 1.3 VXi</td>\n",
       "      <td>215000</td>\n",
       "      <td>70000</td>\n",
       "      <td>Petrol</td>\n",
       "      <td>Individual</td>\n",
       "      <td>Manual</td>\n",
       "      <td>Second Owner</td>\n",
       "      <td>NaN</td>\n",
       "      <td>0.0</td>\n",
       "      <td>NaN</td>\n",
       "      <td>NaN</td>\n",
       "      <td>NaN</td>\n",
       "      <td>10</td>\n",
       "    </tr>\n",
       "    <tr>\n",
       "      <th>316</th>\n",
       "      <td>Mahindra Willys CJ 3B 4X4</td>\n",
       "      <td>300000</td>\n",
       "      <td>10000</td>\n",
       "      <td>Diesel</td>\n",
       "      <td>Individual</td>\n",
       "      <td>Manual</td>\n",
       "      <td>Third Owner</td>\n",
       "      <td>NaN</td>\n",
       "      <td>0.0</td>\n",
       "      <td>NaN</td>\n",
       "      <td>NaN</td>\n",
       "      <td>NaN</td>\n",
       "      <td>37</td>\n",
       "    </tr>\n",
       "    <tr>\n",
       "      <th>336</th>\n",
       "      <td>Hyundai Santro Xing XL</td>\n",
       "      <td>85000</td>\n",
       "      <td>60000</td>\n",
       "      <td>Petrol</td>\n",
       "      <td>Individual</td>\n",
       "      <td>Manual</td>\n",
       "      <td>Second Owner</td>\n",
       "      <td>NaN</td>\n",
       "      <td>0.0</td>\n",
       "      <td>NaN</td>\n",
       "      <td>NaN</td>\n",
       "      <td>NaN</td>\n",
       "      <td>15</td>\n",
       "    </tr>\n",
       "    <tr>\n",
       "      <th>390</th>\n",
       "      <td>Toyota Etios Liva Diesel TRD Sportivo</td>\n",
       "      <td>265000</td>\n",
       "      <td>162000</td>\n",
       "      <td>Diesel</td>\n",
       "      <td>Individual</td>\n",
       "      <td>Manual</td>\n",
       "      <td>Third Owner</td>\n",
       "      <td>NaN</td>\n",
       "      <td>0.0</td>\n",
       "      <td>NaN</td>\n",
       "      <td>NaN</td>\n",
       "      <td>NaN</td>\n",
       "      <td>8</td>\n",
       "    </tr>\n",
       "    <tr>\n",
       "      <th>516</th>\n",
       "      <td>Maruti Swift VDI BSIV</td>\n",
       "      <td>330000</td>\n",
       "      <td>110000</td>\n",
       "      <td>Diesel</td>\n",
       "      <td>Individual</td>\n",
       "      <td>Manual</td>\n",
       "      <td>Second Owner</td>\n",
       "      <td>NaN</td>\n",
       "      <td>0.0</td>\n",
       "      <td>NaN</td>\n",
       "      <td>NaN</td>\n",
       "      <td>NaN</td>\n",
       "      <td>10</td>\n",
       "    </tr>\n",
       "    <tr>\n",
       "      <th>535</th>\n",
       "      <td>Maruti Estilo LXI</td>\n",
       "      <td>160000</td>\n",
       "      <td>50000</td>\n",
       "      <td>Petrol</td>\n",
       "      <td>Individual</td>\n",
       "      <td>Manual</td>\n",
       "      <td>First Owner</td>\n",
       "      <td>NaN</td>\n",
       "      <td>0.0</td>\n",
       "      <td>NaN</td>\n",
       "      <td>NaN</td>\n",
       "      <td>NaN</td>\n",
       "      <td>10</td>\n",
       "    </tr>\n",
       "    <tr>\n",
       "      <th>539</th>\n",
       "      <td>Maruti Swift VDI BSIV</td>\n",
       "      <td>229999</td>\n",
       "      <td>50000</td>\n",
       "      <td>Diesel</td>\n",
       "      <td>Individual</td>\n",
       "      <td>Manual</td>\n",
       "      <td>Third Owner</td>\n",
       "      <td>NaN</td>\n",
       "      <td>0.0</td>\n",
       "      <td>NaN</td>\n",
       "      <td>NaN</td>\n",
       "      <td>NaN</td>\n",
       "      <td>12</td>\n",
       "    </tr>\n",
       "    <tr>\n",
       "      <th>575</th>\n",
       "      <td>Maruti Alto K10 LXI</td>\n",
       "      <td>204999</td>\n",
       "      <td>97500</td>\n",
       "      <td>Petrol</td>\n",
       "      <td>Individual</td>\n",
       "      <td>Manual</td>\n",
       "      <td>First Owner</td>\n",
       "      <td>NaN</td>\n",
       "      <td>0.0</td>\n",
       "      <td>0</td>\n",
       "      <td>NaN</td>\n",
       "      <td>NaN</td>\n",
       "      <td>9</td>\n",
       "    </tr>\n",
       "    <tr>\n",
       "      <th>576</th>\n",
       "      <td>Maruti Alto K10 LXI</td>\n",
       "      <td>204999</td>\n",
       "      <td>97500</td>\n",
       "      <td>Petrol</td>\n",
       "      <td>Individual</td>\n",
       "      <td>Manual</td>\n",
       "      <td>First Owner</td>\n",
       "      <td>NaN</td>\n",
       "      <td>0.0</td>\n",
       "      <td>0</td>\n",
       "      <td>NaN</td>\n",
       "      <td>NaN</td>\n",
       "      <td>9</td>\n",
       "    </tr>\n",
       "    <tr>\n",
       "      <th>688</th>\n",
       "      <td>Hyundai Santro Xing XG</td>\n",
       "      <td>72000</td>\n",
       "      <td>110000</td>\n",
       "      <td>Petrol</td>\n",
       "      <td>Individual</td>\n",
       "      <td>Manual</td>\n",
       "      <td>Second Owner</td>\n",
       "      <td>NaN</td>\n",
       "      <td>0.0</td>\n",
       "      <td>NaN</td>\n",
       "      <td>NaN</td>\n",
       "      <td>NaN</td>\n",
       "      <td>14</td>\n",
       "    </tr>\n",
       "    <tr>\n",
       "      <th>725</th>\n",
       "      <td>Toyota Etios GD</td>\n",
       "      <td>300000</td>\n",
       "      <td>120000</td>\n",
       "      <td>Diesel</td>\n",
       "      <td>Individual</td>\n",
       "      <td>Manual</td>\n",
       "      <td>Second Owner</td>\n",
       "      <td>NaN</td>\n",
       "      <td>0.0</td>\n",
       "      <td>NaN</td>\n",
       "      <td>NaN</td>\n",
       "      <td>NaN</td>\n",
       "      <td>8</td>\n",
       "    </tr>\n",
       "    <tr>\n",
       "      <th>743</th>\n",
       "      <td>Maruti Swift 1.3 VXi</td>\n",
       "      <td>140000</td>\n",
       "      <td>65000</td>\n",
       "      <td>Petrol</td>\n",
       "      <td>Individual</td>\n",
       "      <td>Manual</td>\n",
       "      <td>Third Owner</td>\n",
       "      <td>NaN</td>\n",
       "      <td>0.0</td>\n",
       "      <td>NaN</td>\n",
       "      <td>NaN</td>\n",
       "      <td>NaN</td>\n",
       "      <td>14</td>\n",
       "    </tr>\n",
       "    <tr>\n",
       "      <th>744</th>\n",
       "      <td>Mahindra Bolero GLX</td>\n",
       "      <td>250000</td>\n",
       "      <td>80000</td>\n",
       "      <td>Diesel</td>\n",
       "      <td>Individual</td>\n",
       "      <td>Manual</td>\n",
       "      <td>Third Owner</td>\n",
       "      <td>NaN</td>\n",
       "      <td>0.0</td>\n",
       "      <td>NaN</td>\n",
       "      <td>NaN</td>\n",
       "      <td>NaN</td>\n",
       "      <td>16</td>\n",
       "    </tr>\n",
       "    <tr>\n",
       "      <th>747</th>\n",
       "      <td>Maruti Zen Estilo VXI BSIV W ABS</td>\n",
       "      <td>170000</td>\n",
       "      <td>55113</td>\n",
       "      <td>Petrol</td>\n",
       "      <td>Individual</td>\n",
       "      <td>Manual</td>\n",
       "      <td>First Owner</td>\n",
       "      <td>NaN</td>\n",
       "      <td>0.0</td>\n",
       "      <td>NaN</td>\n",
       "      <td>NaN</td>\n",
       "      <td>NaN</td>\n",
       "      <td>9</td>\n",
       "    </tr>\n",
       "    <tr>\n",
       "      <th>756</th>\n",
       "      <td>Hyundai Santro Xing XP</td>\n",
       "      <td>50000</td>\n",
       "      <td>80000</td>\n",
       "      <td>Petrol</td>\n",
       "      <td>Individual</td>\n",
       "      <td>Manual</td>\n",
       "      <td>Second Owner</td>\n",
       "      <td>NaN</td>\n",
       "      <td>0.0</td>\n",
       "      <td>NaN</td>\n",
       "      <td>NaN</td>\n",
       "      <td>NaN</td>\n",
       "      <td>17</td>\n",
       "    </tr>\n",
       "    <tr>\n",
       "      <th>774</th>\n",
       "      <td>Hyundai Santro GLS I - Euro I</td>\n",
       "      <td>80000</td>\n",
       "      <td>110000</td>\n",
       "      <td>Petrol</td>\n",
       "      <td>Individual</td>\n",
       "      <td>Manual</td>\n",
       "      <td>Second Owner</td>\n",
       "      <td>NaN</td>\n",
       "      <td>0.0</td>\n",
       "      <td>NaN</td>\n",
       "      <td>NaN</td>\n",
       "      <td>NaN</td>\n",
       "      <td>21</td>\n",
       "    </tr>\n",
       "    <tr>\n",
       "      <th>776</th>\n",
       "      <td>Skoda Superb 1.8 TSI</td>\n",
       "      <td>400000</td>\n",
       "      <td>60000</td>\n",
       "      <td>Petrol</td>\n",
       "      <td>Individual</td>\n",
       "      <td>Automatic</td>\n",
       "      <td>Second Owner</td>\n",
       "      <td>NaN</td>\n",
       "      <td>0.0</td>\n",
       "      <td>NaN</td>\n",
       "      <td>NaN</td>\n",
       "      <td>NaN</td>\n",
       "      <td>10</td>\n",
       "    </tr>\n",
       "    <tr>\n",
       "      <th>862</th>\n",
       "      <td>Maruti Esteem Vxi - BSII</td>\n",
       "      <td>50000</td>\n",
       "      <td>60000</td>\n",
       "      <td>Petrol</td>\n",
       "      <td>Individual</td>\n",
       "      <td>Manual</td>\n",
       "      <td>Third Owner</td>\n",
       "      <td>NaN</td>\n",
       "      <td>0.0</td>\n",
       "      <td>NaN</td>\n",
       "      <td>NaN</td>\n",
       "      <td>NaN</td>\n",
       "      <td>15</td>\n",
       "    </tr>\n",
       "    <tr>\n",
       "      <th>992</th>\n",
       "      <td>Mahindra Xylo E8 BS4</td>\n",
       "      <td>300000</td>\n",
       "      <td>40000</td>\n",
       "      <td>Diesel</td>\n",
       "      <td>Individual</td>\n",
       "      <td>Manual</td>\n",
       "      <td>First Owner</td>\n",
       "      <td>NaN</td>\n",
       "      <td>0.0</td>\n",
       "      <td>NaN</td>\n",
       "      <td>NaN</td>\n",
       "      <td>NaN</td>\n",
       "      <td>10</td>\n",
       "    </tr>\n",
       "    <tr>\n",
       "      <th>1015</th>\n",
       "      <td>Fiat Punto 1.3 Emotion</td>\n",
       "      <td>350000</td>\n",
       "      <td>160254</td>\n",
       "      <td>Diesel</td>\n",
       "      <td>Dealer</td>\n",
       "      <td>Manual</td>\n",
       "      <td>Second Owner</td>\n",
       "      <td>NaN</td>\n",
       "      <td>0.0</td>\n",
       "      <td>NaN</td>\n",
       "      <td>NaN</td>\n",
       "      <td>NaN</td>\n",
       "      <td>7</td>\n",
       "    </tr>\n",
       "    <tr>\n",
       "      <th>1045</th>\n",
       "      <td>Toyota Qualis Fleet A3</td>\n",
       "      <td>200000</td>\n",
       "      <td>100000</td>\n",
       "      <td>Diesel</td>\n",
       "      <td>Individual</td>\n",
       "      <td>Manual</td>\n",
       "      <td>First Owner</td>\n",
       "      <td>NaN</td>\n",
       "      <td>0.0</td>\n",
       "      <td>NaN</td>\n",
       "      <td>NaN</td>\n",
       "      <td>NaN</td>\n",
       "      <td>20</td>\n",
       "    </tr>\n",
       "    <tr>\n",
       "      <th>1183</th>\n",
       "      <td>Hyundai Santro GLS I - Euro II</td>\n",
       "      <td>90000</td>\n",
       "      <td>90000</td>\n",
       "      <td>Petrol</td>\n",
       "      <td>Individual</td>\n",
       "      <td>Manual</td>\n",
       "      <td>Third Owner</td>\n",
       "      <td>NaN</td>\n",
       "      <td>0.0</td>\n",
       "      <td>NaN</td>\n",
       "      <td>NaN</td>\n",
       "      <td>NaN</td>\n",
       "      <td>16</td>\n",
       "    </tr>\n",
       "    <tr>\n",
       "      <th>1184</th>\n",
       "      <td>Hyundai Santro Xing XG AT eRLX Euro III</td>\n",
       "      <td>80000</td>\n",
       "      <td>80000</td>\n",
       "      <td>Petrol</td>\n",
       "      <td>Individual</td>\n",
       "      <td>Automatic</td>\n",
       "      <td>Third Owner</td>\n",
       "      <td>NaN</td>\n",
       "      <td>0.0</td>\n",
       "      <td>NaN</td>\n",
       "      <td>NaN</td>\n",
       "      <td>NaN</td>\n",
       "      <td>16</td>\n",
       "    </tr>\n",
       "    <tr>\n",
       "      <th>1185</th>\n",
       "      <td>Toyota Etios Liva GD</td>\n",
       "      <td>300000</td>\n",
       "      <td>80000</td>\n",
       "      <td>Diesel</td>\n",
       "      <td>Individual</td>\n",
       "      <td>Manual</td>\n",
       "      <td>First Owner</td>\n",
       "      <td>NaN</td>\n",
       "      <td>0.0</td>\n",
       "      <td>NaN</td>\n",
       "      <td>NaN</td>\n",
       "      <td>NaN</td>\n",
       "      <td>8</td>\n",
       "    </tr>\n",
       "    <tr>\n",
       "      <th>1200</th>\n",
       "      <td>Maruti Zen Estilo VXI BSIV W ABS</td>\n",
       "      <td>200000</td>\n",
       "      <td>40000</td>\n",
       "      <td>Petrol</td>\n",
       "      <td>Individual</td>\n",
       "      <td>Manual</td>\n",
       "      <td>First Owner</td>\n",
       "      <td>NaN</td>\n",
       "      <td>0.0</td>\n",
       "      <td>NaN</td>\n",
       "      <td>NaN</td>\n",
       "      <td>NaN</td>\n",
       "      <td>9</td>\n",
       "    </tr>\n",
       "    <tr>\n",
       "      <th>1210</th>\n",
       "      <td>Maruti Omni BSIII 8-STR W/ IMMOBILISER</td>\n",
       "      <td>140000</td>\n",
       "      <td>90000</td>\n",
       "      <td>Petrol</td>\n",
       "      <td>Individual</td>\n",
       "      <td>Manual</td>\n",
       "      <td>Third Owner</td>\n",
       "      <td>NaN</td>\n",
       "      <td>0.0</td>\n",
       "      <td>NaN</td>\n",
       "      <td>NaN</td>\n",
       "      <td>NaN</td>\n",
       "      <td>11</td>\n",
       "    </tr>\n",
       "    <tr>\n",
       "      <th>1213</th>\n",
       "      <td>Maruti Swift VDI BSIV</td>\n",
       "      <td>250000</td>\n",
       "      <td>90000</td>\n",
       "      <td>Diesel</td>\n",
       "      <td>Individual</td>\n",
       "      <td>Manual</td>\n",
       "      <td>Second Owner</td>\n",
       "      <td>NaN</td>\n",
       "      <td>0.0</td>\n",
       "      <td>NaN</td>\n",
       "      <td>NaN</td>\n",
       "      <td>NaN</td>\n",
       "      <td>12</td>\n",
       "    </tr>\n",
       "    <tr>\n",
       "      <th>1216</th>\n",
       "      <td>Mahindra Jeep Classic</td>\n",
       "      <td>163000</td>\n",
       "      <td>5000</td>\n",
       "      <td>Diesel</td>\n",
       "      <td>Individual</td>\n",
       "      <td>Manual</td>\n",
       "      <td>Second Owner</td>\n",
       "      <td>NaN</td>\n",
       "      <td>0.0</td>\n",
       "      <td>NaN</td>\n",
       "      <td>NaN</td>\n",
       "      <td>NaN</td>\n",
       "      <td>24</td>\n",
       "    </tr>\n",
       "    <tr>\n",
       "      <th>1322</th>\n",
       "      <td>Hyundai Santro GS zipDrive - Euro II</td>\n",
       "      <td>60000</td>\n",
       "      <td>120000</td>\n",
       "      <td>Petrol</td>\n",
       "      <td>Individual</td>\n",
       "      <td>Manual</td>\n",
       "      <td>Second Owner</td>\n",
       "      <td>NaN</td>\n",
       "      <td>0.0</td>\n",
       "      <td>NaN</td>\n",
       "      <td>NaN</td>\n",
       "      <td>NaN</td>\n",
       "      <td>16</td>\n",
       "    </tr>\n",
       "    <tr>\n",
       "      <th>1331</th>\n",
       "      <td>Maruti Swift 1.3 VXi</td>\n",
       "      <td>240000</td>\n",
       "      <td>60000</td>\n",
       "      <td>Petrol</td>\n",
       "      <td>Individual</td>\n",
       "      <td>Manual</td>\n",
       "      <td>First Owner</td>\n",
       "      <td>NaN</td>\n",
       "      <td>0.0</td>\n",
       "      <td>NaN</td>\n",
       "      <td>NaN</td>\n",
       "      <td>NaN</td>\n",
       "      <td>12</td>\n",
       "    </tr>\n",
       "    <tr>\n",
       "      <th>1340</th>\n",
       "      <td>Maruti Swift VDI BSIV</td>\n",
       "      <td>315000</td>\n",
       "      <td>120000</td>\n",
       "      <td>Diesel</td>\n",
       "      <td>Individual</td>\n",
       "      <td>Manual</td>\n",
       "      <td>Second Owner</td>\n",
       "      <td>NaN</td>\n",
       "      <td>0.0</td>\n",
       "      <td>NaN</td>\n",
       "      <td>NaN</td>\n",
       "      <td>NaN</td>\n",
       "      <td>10</td>\n",
       "    </tr>\n",
       "    <tr>\n",
       "      <th>1347</th>\n",
       "      <td>Mahindra Ingenio CRDe</td>\n",
       "      <td>600000</td>\n",
       "      <td>60000</td>\n",
       "      <td>Diesel</td>\n",
       "      <td>Individual</td>\n",
       "      <td>Manual</td>\n",
       "      <td>First Owner</td>\n",
       "      <td>NaN</td>\n",
       "      <td>0.0</td>\n",
       "      <td>NaN</td>\n",
       "      <td>NaN</td>\n",
       "      <td>NaN</td>\n",
       "      <td>3</td>\n",
       "    </tr>\n",
       "    <tr>\n",
       "      <th>1391</th>\n",
       "      <td>Maruti Swift VDI BSIV W ABS</td>\n",
       "      <td>565000</td>\n",
       "      <td>72000</td>\n",
       "      <td>Diesel</td>\n",
       "      <td>Dealer</td>\n",
       "      <td>Manual</td>\n",
       "      <td>First Owner</td>\n",
       "      <td>NaN</td>\n",
       "      <td>0.0</td>\n",
       "      <td>NaN</td>\n",
       "      <td>NaN</td>\n",
       "      <td>NaN</td>\n",
       "      <td>4</td>\n",
       "    </tr>\n",
       "    <tr>\n",
       "      <th>1432</th>\n",
       "      <td>Mahindra Jeep CL 500 MDI</td>\n",
       "      <td>120000</td>\n",
       "      <td>100000</td>\n",
       "      <td>Diesel</td>\n",
       "      <td>Individual</td>\n",
       "      <td>Manual</td>\n",
       "      <td>Second Owner</td>\n",
       "      <td>NaN</td>\n",
       "      <td>0.0</td>\n",
       "      <td>NaN</td>\n",
       "      <td>NaN</td>\n",
       "      <td>NaN</td>\n",
       "      <td>26</td>\n",
       "    </tr>\n",
       "    <tr>\n",
       "      <th>1442</th>\n",
       "      <td>Maruti Swift Dzire VDI Optional</td>\n",
       "      <td>589000</td>\n",
       "      <td>41232</td>\n",
       "      <td>Diesel</td>\n",
       "      <td>Dealer</td>\n",
       "      <td>Manual</td>\n",
       "      <td>First Owner</td>\n",
       "      <td>NaN</td>\n",
       "      <td>0.0</td>\n",
       "      <td>0</td>\n",
       "      <td>NaN</td>\n",
       "      <td>NaN</td>\n",
       "      <td>3</td>\n",
       "    </tr>\n",
       "    <tr>\n",
       "      <th>1443</th>\n",
       "      <td>Maruti Swift Dzire VDI Optional</td>\n",
       "      <td>589000</td>\n",
       "      <td>41232</td>\n",
       "      <td>Diesel</td>\n",
       "      <td>Dealer</td>\n",
       "      <td>Manual</td>\n",
       "      <td>First Owner</td>\n",
       "      <td>NaN</td>\n",
       "      <td>0.0</td>\n",
       "      <td>0</td>\n",
       "      <td>NaN</td>\n",
       "      <td>NaN</td>\n",
       "      <td>3</td>\n",
       "    </tr>\n",
       "    <tr>\n",
       "      <th>1499</th>\n",
       "      <td>Hyundai Santro Xing XS eRLX Euro III</td>\n",
       "      <td>80000</td>\n",
       "      <td>118000</td>\n",
       "      <td>Petrol</td>\n",
       "      <td>Individual</td>\n",
       "      <td>Manual</td>\n",
       "      <td>First Owner</td>\n",
       "      <td>NaN</td>\n",
       "      <td>0.0</td>\n",
       "      <td>NaN</td>\n",
       "      <td>NaN</td>\n",
       "      <td>NaN</td>\n",
       "      <td>14</td>\n",
       "    </tr>\n",
       "    <tr>\n",
       "      <th>1512</th>\n",
       "      <td>Maruti Omni E 8 Str STD</td>\n",
       "      <td>175000</td>\n",
       "      <td>60000</td>\n",
       "      <td>Petrol</td>\n",
       "      <td>Individual</td>\n",
       "      <td>Manual</td>\n",
       "      <td>Third Owner</td>\n",
       "      <td>NaN</td>\n",
       "      <td>0.0</td>\n",
       "      <td>NaN</td>\n",
       "      <td>NaN</td>\n",
       "      <td>NaN</td>\n",
       "      <td>8</td>\n",
       "    </tr>\n",
       "    <tr>\n",
       "      <th>1637</th>\n",
       "      <td>Toyota Etios Liva GD</td>\n",
       "      <td>285000</td>\n",
       "      <td>80000</td>\n",
       "      <td>Diesel</td>\n",
       "      <td>Individual</td>\n",
       "      <td>Manual</td>\n",
       "      <td>Second Owner</td>\n",
       "      <td>NaN</td>\n",
       "      <td>0.0</td>\n",
       "      <td>NaN</td>\n",
       "      <td>NaN</td>\n",
       "      <td>NaN</td>\n",
       "      <td>8</td>\n",
       "    </tr>\n",
       "    <tr>\n",
       "      <th>1651</th>\n",
       "      <td>Toyota Etios Liva GD</td>\n",
       "      <td>280000</td>\n",
       "      <td>80000</td>\n",
       "      <td>Diesel</td>\n",
       "      <td>Individual</td>\n",
       "      <td>Manual</td>\n",
       "      <td>Second Owner</td>\n",
       "      <td>NaN</td>\n",
       "      <td>0.0</td>\n",
       "      <td>NaN</td>\n",
       "      <td>NaN</td>\n",
       "      <td>NaN</td>\n",
       "      <td>8</td>\n",
       "    </tr>\n",
       "  </tbody>\n",
       "</table>\n",
       "</div>"
      ],
      "text/plain": [
       "                                         name  selling_price  km_driven  \\\n",
       "13                       Maruti Swift 1.3 VXi         200000      80000   \n",
       "31                         Fiat Palio 1.2 ELX          70000      50000   \n",
       "78                            Tata Indica DLS          50000      70000   \n",
       "87                Maruti Swift VDI BSIV W ABS         475000      78000   \n",
       "119                     Maruti Swift VDI BSIV         300000     120000   \n",
       "138                   BMW X1 sDrive 20D xLine        2150000      27000   \n",
       "200                           Toyota Etios GD         235000     120000   \n",
       "206                   Maruti Omni E 8 Str STD          40000      90000   \n",
       "228                      Maruti Swift 1.3 VXi         130000     120000   \n",
       "252                           Tata Indica DLS          75000     110000   \n",
       "306                      Maruti Swift 1.3 VXi         215000      70000   \n",
       "316                 Mahindra Willys CJ 3B 4X4         300000      10000   \n",
       "336                    Hyundai Santro Xing XL          85000      60000   \n",
       "390     Toyota Etios Liva Diesel TRD Sportivo         265000     162000   \n",
       "516                     Maruti Swift VDI BSIV         330000     110000   \n",
       "535                         Maruti Estilo LXI         160000      50000   \n",
       "539                     Maruti Swift VDI BSIV         229999      50000   \n",
       "575                       Maruti Alto K10 LXI         204999      97500   \n",
       "576                       Maruti Alto K10 LXI         204999      97500   \n",
       "688                    Hyundai Santro Xing XG          72000     110000   \n",
       "725                           Toyota Etios GD         300000     120000   \n",
       "743                      Maruti Swift 1.3 VXi         140000      65000   \n",
       "744                       Mahindra Bolero GLX         250000      80000   \n",
       "747          Maruti Zen Estilo VXI BSIV W ABS         170000      55113   \n",
       "756                    Hyundai Santro Xing XP          50000      80000   \n",
       "774             Hyundai Santro GLS I - Euro I          80000     110000   \n",
       "776                      Skoda Superb 1.8 TSI         400000      60000   \n",
       "862                  Maruti Esteem Vxi - BSII          50000      60000   \n",
       "992                      Mahindra Xylo E8 BS4         300000      40000   \n",
       "1015                   Fiat Punto 1.3 Emotion         350000     160254   \n",
       "1045                   Toyota Qualis Fleet A3         200000     100000   \n",
       "1183           Hyundai Santro GLS I - Euro II          90000      90000   \n",
       "1184  Hyundai Santro Xing XG AT eRLX Euro III          80000      80000   \n",
       "1185                     Toyota Etios Liva GD         300000      80000   \n",
       "1200         Maruti Zen Estilo VXI BSIV W ABS         200000      40000   \n",
       "1210   Maruti Omni BSIII 8-STR W/ IMMOBILISER         140000      90000   \n",
       "1213                    Maruti Swift VDI BSIV         250000      90000   \n",
       "1216                    Mahindra Jeep Classic         163000       5000   \n",
       "1322     Hyundai Santro GS zipDrive - Euro II          60000     120000   \n",
       "1331                     Maruti Swift 1.3 VXi         240000      60000   \n",
       "1340                    Maruti Swift VDI BSIV         315000     120000   \n",
       "1347                    Mahindra Ingenio CRDe         600000      60000   \n",
       "1391              Maruti Swift VDI BSIV W ABS         565000      72000   \n",
       "1432                 Mahindra Jeep CL 500 MDI         120000     100000   \n",
       "1442          Maruti Swift Dzire VDI Optional         589000      41232   \n",
       "1443          Maruti Swift Dzire VDI Optional         589000      41232   \n",
       "1499     Hyundai Santro Xing XS eRLX Euro III          80000     118000   \n",
       "1512                  Maruti Omni E 8 Str STD         175000      60000   \n",
       "1637                     Toyota Etios Liva GD         285000      80000   \n",
       "1651                     Toyota Etios Liva GD         280000      80000   \n",
       "\n",
       "        fuel seller_type transmission         owner  mileage  engine  \\\n",
       "13    Petrol  Individual       Manual  Second Owner      NaN     0.0   \n",
       "31    Petrol  Individual       Manual  Second Owner      NaN     0.0   \n",
       "78    Diesel  Individual       Manual   First Owner      NaN     0.0   \n",
       "87    Diesel      Dealer       Manual   First Owner      NaN     0.0   \n",
       "119   Diesel  Individual       Manual  Second Owner      NaN     0.0   \n",
       "138   Diesel      Dealer    Automatic   First Owner      NaN     0.0   \n",
       "200   Diesel  Individual       Manual   First Owner      NaN     0.0   \n",
       "206   Petrol  Individual       Manual  Second Owner      NaN     0.0   \n",
       "228   Petrol  Individual       Manual  Second Owner      NaN     0.0   \n",
       "252   Diesel  Individual       Manual  Second Owner      NaN     0.0   \n",
       "306   Petrol  Individual       Manual  Second Owner      NaN     0.0   \n",
       "316   Diesel  Individual       Manual   Third Owner      NaN     0.0   \n",
       "336   Petrol  Individual       Manual  Second Owner      NaN     0.0   \n",
       "390   Diesel  Individual       Manual   Third Owner      NaN     0.0   \n",
       "516   Diesel  Individual       Manual  Second Owner      NaN     0.0   \n",
       "535   Petrol  Individual       Manual   First Owner      NaN     0.0   \n",
       "539   Diesel  Individual       Manual   Third Owner      NaN     0.0   \n",
       "575   Petrol  Individual       Manual   First Owner      NaN     0.0   \n",
       "576   Petrol  Individual       Manual   First Owner      NaN     0.0   \n",
       "688   Petrol  Individual       Manual  Second Owner      NaN     0.0   \n",
       "725   Diesel  Individual       Manual  Second Owner      NaN     0.0   \n",
       "743   Petrol  Individual       Manual   Third Owner      NaN     0.0   \n",
       "744   Diesel  Individual       Manual   Third Owner      NaN     0.0   \n",
       "747   Petrol  Individual       Manual   First Owner      NaN     0.0   \n",
       "756   Petrol  Individual       Manual  Second Owner      NaN     0.0   \n",
       "774   Petrol  Individual       Manual  Second Owner      NaN     0.0   \n",
       "776   Petrol  Individual    Automatic  Second Owner      NaN     0.0   \n",
       "862   Petrol  Individual       Manual   Third Owner      NaN     0.0   \n",
       "992   Diesel  Individual       Manual   First Owner      NaN     0.0   \n",
       "1015  Diesel      Dealer       Manual  Second Owner      NaN     0.0   \n",
       "1045  Diesel  Individual       Manual   First Owner      NaN     0.0   \n",
       "1183  Petrol  Individual       Manual   Third Owner      NaN     0.0   \n",
       "1184  Petrol  Individual    Automatic   Third Owner      NaN     0.0   \n",
       "1185  Diesel  Individual       Manual   First Owner      NaN     0.0   \n",
       "1200  Petrol  Individual       Manual   First Owner      NaN     0.0   \n",
       "1210  Petrol  Individual       Manual   Third Owner      NaN     0.0   \n",
       "1213  Diesel  Individual       Manual  Second Owner      NaN     0.0   \n",
       "1216  Diesel  Individual       Manual  Second Owner      NaN     0.0   \n",
       "1322  Petrol  Individual       Manual  Second Owner      NaN     0.0   \n",
       "1331  Petrol  Individual       Manual   First Owner      NaN     0.0   \n",
       "1340  Diesel  Individual       Manual  Second Owner      NaN     0.0   \n",
       "1347  Diesel  Individual       Manual   First Owner      NaN     0.0   \n",
       "1391  Diesel      Dealer       Manual   First Owner      NaN     0.0   \n",
       "1432  Diesel  Individual       Manual  Second Owner      NaN     0.0   \n",
       "1442  Diesel      Dealer       Manual   First Owner      NaN     0.0   \n",
       "1443  Diesel      Dealer       Manual   First Owner      NaN     0.0   \n",
       "1499  Petrol  Individual       Manual   First Owner      NaN     0.0   \n",
       "1512  Petrol  Individual       Manual   Third Owner      NaN     0.0   \n",
       "1637  Diesel  Individual       Manual  Second Owner      NaN     0.0   \n",
       "1651  Diesel  Individual       Manual  Second Owner      NaN     0.0   \n",
       "\n",
       "     max_power torque  seats  age  \n",
       "13         NaN    NaN    NaN   13  \n",
       "31         NaN    NaN    NaN   17  \n",
       "78         NaN    NaN    NaN   17  \n",
       "87         NaN    NaN    NaN    5  \n",
       "119        NaN    NaN    NaN   10  \n",
       "138        NaN    NaN    NaN    3  \n",
       "200        NaN    NaN    NaN    8  \n",
       "206        NaN    NaN    NaN   17  \n",
       "228        NaN    NaN    NaN   12  \n",
       "252        NaN    NaN    NaN   15  \n",
       "306        NaN    NaN    NaN   10  \n",
       "316        NaN    NaN    NaN   37  \n",
       "336        NaN    NaN    NaN   15  \n",
       "390        NaN    NaN    NaN    8  \n",
       "516        NaN    NaN    NaN   10  \n",
       "535        NaN    NaN    NaN   10  \n",
       "539        NaN    NaN    NaN   12  \n",
       "575          0    NaN    NaN    9  \n",
       "576          0    NaN    NaN    9  \n",
       "688        NaN    NaN    NaN   14  \n",
       "725        NaN    NaN    NaN    8  \n",
       "743        NaN    NaN    NaN   14  \n",
       "744        NaN    NaN    NaN   16  \n",
       "747        NaN    NaN    NaN    9  \n",
       "756        NaN    NaN    NaN   17  \n",
       "774        NaN    NaN    NaN   21  \n",
       "776        NaN    NaN    NaN   10  \n",
       "862        NaN    NaN    NaN   15  \n",
       "992        NaN    NaN    NaN   10  \n",
       "1015       NaN    NaN    NaN    7  \n",
       "1045       NaN    NaN    NaN   20  \n",
       "1183       NaN    NaN    NaN   16  \n",
       "1184       NaN    NaN    NaN   16  \n",
       "1185       NaN    NaN    NaN    8  \n",
       "1200       NaN    NaN    NaN    9  \n",
       "1210       NaN    NaN    NaN   11  \n",
       "1213       NaN    NaN    NaN   12  \n",
       "1216       NaN    NaN    NaN   24  \n",
       "1322       NaN    NaN    NaN   16  \n",
       "1331       NaN    NaN    NaN   12  \n",
       "1340       NaN    NaN    NaN   10  \n",
       "1347       NaN    NaN    NaN    3  \n",
       "1391       NaN    NaN    NaN    4  \n",
       "1432       NaN    NaN    NaN   26  \n",
       "1442         0    NaN    NaN    3  \n",
       "1443         0    NaN    NaN    3  \n",
       "1499       NaN    NaN    NaN   14  \n",
       "1512       NaN    NaN    NaN    8  \n",
       "1637       NaN    NaN    NaN    8  \n",
       "1651       NaN    NaN    NaN    8  "
      ]
     },
     "execution_count": 28,
     "metadata": {},
     "output_type": "execute_result"
    }
   ],
   "source": [
    "df2[df2['engine'] == 0].head(50)"
   ]
  },
  {
   "cell_type": "markdown",
   "id": "003a073d",
   "metadata": {},
   "source": [
    "- it seems null values are all same rows we can drop them safely"
   ]
  },
  {
   "cell_type": "code",
   "execution_count": 29,
   "id": "36faec43",
   "metadata": {
    "ExecuteTime": {
     "end_time": "2021-12-17T13:12:44.641560Z",
     "start_time": "2021-12-17T13:12:44.631731Z"
    }
   },
   "outputs": [
    {
     "data": {
      "text/plain": [
       "(8128, 13)"
      ]
     },
     "execution_count": 29,
     "metadata": {},
     "output_type": "execute_result"
    }
   ],
   "source": [
    "df.shape"
   ]
  },
  {
   "cell_type": "code",
   "execution_count": 30,
   "id": "efc3531b",
   "metadata": {
    "ExecuteTime": {
     "end_time": "2021-12-17T13:12:44.962499Z",
     "start_time": "2021-12-17T13:12:44.930985Z"
    }
   },
   "outputs": [
    {
     "data": {
      "text/plain": [
       "(7906, 13)"
      ]
     },
     "execution_count": 30,
     "metadata": {},
     "output_type": "execute_result"
    }
   ],
   "source": [
    "df.dropna(inplace=True)\n",
    "df.shape"
   ]
  },
  {
   "cell_type": "code",
   "execution_count": 31,
   "id": "6b0b1a64",
   "metadata": {
    "ExecuteTime": {
     "end_time": "2021-12-17T13:12:45.237719Z",
     "start_time": "2021-12-17T13:12:45.207454Z"
    }
   },
   "outputs": [
    {
     "data": {
      "text/html": [
       "<div>\n",
       "<style scoped>\n",
       "    .dataframe tbody tr th:only-of-type {\n",
       "        vertical-align: middle;\n",
       "    }\n",
       "\n",
       "    .dataframe tbody tr th {\n",
       "        vertical-align: top;\n",
       "    }\n",
       "\n",
       "    .dataframe thead th {\n",
       "        text-align: right;\n",
       "    }\n",
       "</style>\n",
       "<table border=\"1\" class=\"dataframe\">\n",
       "  <thead>\n",
       "    <tr style=\"text-align: right;\">\n",
       "      <th></th>\n",
       "      <th>name</th>\n",
       "      <th>selling_price</th>\n",
       "      <th>km_driven</th>\n",
       "      <th>fuel</th>\n",
       "      <th>seller_type</th>\n",
       "      <th>transmission</th>\n",
       "      <th>owner</th>\n",
       "      <th>mileage</th>\n",
       "      <th>engine</th>\n",
       "      <th>max_power</th>\n",
       "      <th>torque</th>\n",
       "      <th>seats</th>\n",
       "      <th>age</th>\n",
       "    </tr>\n",
       "  </thead>\n",
       "  <tbody>\n",
       "    <tr>\n",
       "      <th>0</th>\n",
       "      <td>Maruti Swift Dzire VDI</td>\n",
       "      <td>450000</td>\n",
       "      <td>145500</td>\n",
       "      <td>Diesel</td>\n",
       "      <td>Individual</td>\n",
       "      <td>Manual</td>\n",
       "      <td>First Owner</td>\n",
       "      <td>23.40</td>\n",
       "      <td>1248.0</td>\n",
       "      <td>74 bhp</td>\n",
       "      <td>190Nm@ 2000rpm</td>\n",
       "      <td>5.0</td>\n",
       "      <td>6</td>\n",
       "    </tr>\n",
       "    <tr>\n",
       "      <th>1</th>\n",
       "      <td>Skoda Rapid 1.5 TDI Ambition</td>\n",
       "      <td>370000</td>\n",
       "      <td>120000</td>\n",
       "      <td>Diesel</td>\n",
       "      <td>Individual</td>\n",
       "      <td>Manual</td>\n",
       "      <td>Second Owner</td>\n",
       "      <td>21.14</td>\n",
       "      <td>1498.0</td>\n",
       "      <td>103.52 bhp</td>\n",
       "      <td>250Nm@ 1500-2500rpm</td>\n",
       "      <td>5.0</td>\n",
       "      <td>6</td>\n",
       "    </tr>\n",
       "  </tbody>\n",
       "</table>\n",
       "</div>"
      ],
      "text/plain": [
       "                           name  selling_price  km_driven    fuel seller_type  \\\n",
       "0        Maruti Swift Dzire VDI         450000     145500  Diesel  Individual   \n",
       "1  Skoda Rapid 1.5 TDI Ambition         370000     120000  Diesel  Individual   \n",
       "\n",
       "  transmission         owner  mileage  engine   max_power  \\\n",
       "0       Manual   First Owner    23.40  1248.0      74 bhp   \n",
       "1       Manual  Second Owner    21.14  1498.0  103.52 bhp   \n",
       "\n",
       "                torque  seats  age  \n",
       "0       190Nm@ 2000rpm    5.0    6  \n",
       "1  250Nm@ 1500-2500rpm    5.0    6  "
      ]
     },
     "execution_count": 31,
     "metadata": {},
     "output_type": "execute_result"
    }
   ],
   "source": [
    "df.head(2)"
   ]
  },
  {
   "cell_type": "code",
   "execution_count": 32,
   "id": "9966ec21",
   "metadata": {
    "ExecuteTime": {
     "end_time": "2021-12-17T13:12:45.520586Z",
     "start_time": "2021-12-17T13:12:45.499206Z"
    }
   },
   "outputs": [
    {
     "data": {
      "text/plain": [
       "74 bhp        377\n",
       "81.80 bhp     220\n",
       "88.5 bhp      204\n",
       "67 bhp        165\n",
       "46.3 bhp      162\n",
       "             ... \n",
       "169 bhp         1\n",
       "194 bhp         1\n",
       "98.82 bhp       1\n",
       "144 bhp         1\n",
       "170.30 bhp      1\n",
       "Name: max_power, Length: 320, dtype: int64"
      ]
     },
     "execution_count": 32,
     "metadata": {},
     "output_type": "execute_result"
    }
   ],
   "source": [
    "df.max_power.value_counts()"
   ]
  },
  {
   "cell_type": "code",
   "execution_count": 33,
   "id": "9d47ef87",
   "metadata": {
    "ExecuteTime": {
     "end_time": "2021-12-17T13:12:45.830705Z",
     "start_time": "2021-12-17T13:12:45.823440Z"
    }
   },
   "outputs": [],
   "source": [
    "def convert_max_power_to_num(x):\n",
    "    x = str(x)\n",
    "    tokens = x.split(' ') # split the values by ' ' putting them into list\n",
    "    if len(tokens) == 2:\n",
    "        return float(tokens[0]) # this will return only the first integer number and ignores the bhp\n",
    "    try:\n",
    "        return float(x)\n",
    "    except:\n",
    "        return None"
   ]
  },
  {
   "cell_type": "code",
   "execution_count": 34,
   "id": "67dea538",
   "metadata": {
    "ExecuteTime": {
     "end_time": "2021-12-17T13:12:46.119978Z",
     "start_time": "2021-12-17T13:12:46.085185Z"
    }
   },
   "outputs": [
    {
     "data": {
      "text/plain": [
       "dtype('float64')"
      ]
     },
     "execution_count": 34,
     "metadata": {},
     "output_type": "execute_result"
    }
   ],
   "source": [
    "df.max_power = df.max_power.apply(convert_max_power_to_num)\n",
    "df.max_power.dtypes"
   ]
  },
  {
   "cell_type": "code",
   "execution_count": 35,
   "id": "3b2967ea",
   "metadata": {
    "ExecuteTime": {
     "end_time": "2021-12-17T13:12:46.438050Z",
     "start_time": "2021-12-17T13:12:46.406219Z"
    }
   },
   "outputs": [
    {
     "data": {
      "text/html": [
       "<div>\n",
       "<style scoped>\n",
       "    .dataframe tbody tr th:only-of-type {\n",
       "        vertical-align: middle;\n",
       "    }\n",
       "\n",
       "    .dataframe tbody tr th {\n",
       "        vertical-align: top;\n",
       "    }\n",
       "\n",
       "    .dataframe thead th {\n",
       "        text-align: right;\n",
       "    }\n",
       "</style>\n",
       "<table border=\"1\" class=\"dataframe\">\n",
       "  <thead>\n",
       "    <tr style=\"text-align: right;\">\n",
       "      <th></th>\n",
       "      <th>name</th>\n",
       "      <th>selling_price</th>\n",
       "      <th>km_driven</th>\n",
       "      <th>fuel</th>\n",
       "      <th>seller_type</th>\n",
       "      <th>transmission</th>\n",
       "      <th>owner</th>\n",
       "      <th>mileage</th>\n",
       "      <th>engine</th>\n",
       "      <th>max_power</th>\n",
       "      <th>torque</th>\n",
       "      <th>seats</th>\n",
       "      <th>age</th>\n",
       "    </tr>\n",
       "  </thead>\n",
       "  <tbody>\n",
       "    <tr>\n",
       "      <th>0</th>\n",
       "      <td>Maruti Swift Dzire VDI</td>\n",
       "      <td>450000</td>\n",
       "      <td>145500</td>\n",
       "      <td>Diesel</td>\n",
       "      <td>Individual</td>\n",
       "      <td>Manual</td>\n",
       "      <td>First Owner</td>\n",
       "      <td>23.40</td>\n",
       "      <td>1248.0</td>\n",
       "      <td>74.00</td>\n",
       "      <td>190Nm@ 2000rpm</td>\n",
       "      <td>5.0</td>\n",
       "      <td>6</td>\n",
       "    </tr>\n",
       "    <tr>\n",
       "      <th>1</th>\n",
       "      <td>Skoda Rapid 1.5 TDI Ambition</td>\n",
       "      <td>370000</td>\n",
       "      <td>120000</td>\n",
       "      <td>Diesel</td>\n",
       "      <td>Individual</td>\n",
       "      <td>Manual</td>\n",
       "      <td>Second Owner</td>\n",
       "      <td>21.14</td>\n",
       "      <td>1498.0</td>\n",
       "      <td>103.52</td>\n",
       "      <td>250Nm@ 1500-2500rpm</td>\n",
       "      <td>5.0</td>\n",
       "      <td>6</td>\n",
       "    </tr>\n",
       "    <tr>\n",
       "      <th>2</th>\n",
       "      <td>Honda City 2017-2020 EXi</td>\n",
       "      <td>158000</td>\n",
       "      <td>140000</td>\n",
       "      <td>Petrol</td>\n",
       "      <td>Individual</td>\n",
       "      <td>Manual</td>\n",
       "      <td>Third Owner</td>\n",
       "      <td>17.70</td>\n",
       "      <td>1497.0</td>\n",
       "      <td>78.00</td>\n",
       "      <td>12.7@ 2,700(kgm@ rpm)</td>\n",
       "      <td>5.0</td>\n",
       "      <td>14</td>\n",
       "    </tr>\n",
       "    <tr>\n",
       "      <th>3</th>\n",
       "      <td>Hyundai i20 Sportz Diesel</td>\n",
       "      <td>225000</td>\n",
       "      <td>127000</td>\n",
       "      <td>Diesel</td>\n",
       "      <td>Individual</td>\n",
       "      <td>Manual</td>\n",
       "      <td>First Owner</td>\n",
       "      <td>23.00</td>\n",
       "      <td>1396.0</td>\n",
       "      <td>90.00</td>\n",
       "      <td>22.4 kgm at 1750-2750rpm</td>\n",
       "      <td>5.0</td>\n",
       "      <td>10</td>\n",
       "    </tr>\n",
       "    <tr>\n",
       "      <th>4</th>\n",
       "      <td>Maruti Swift VXI BSIII</td>\n",
       "      <td>130000</td>\n",
       "      <td>120000</td>\n",
       "      <td>Petrol</td>\n",
       "      <td>Individual</td>\n",
       "      <td>Manual</td>\n",
       "      <td>First Owner</td>\n",
       "      <td>16.10</td>\n",
       "      <td>1298.0</td>\n",
       "      <td>88.20</td>\n",
       "      <td>11.5@ 4,500(kgm@ rpm)</td>\n",
       "      <td>5.0</td>\n",
       "      <td>13</td>\n",
       "    </tr>\n",
       "  </tbody>\n",
       "</table>\n",
       "</div>"
      ],
      "text/plain": [
       "                           name  selling_price  km_driven    fuel seller_type  \\\n",
       "0        Maruti Swift Dzire VDI         450000     145500  Diesel  Individual   \n",
       "1  Skoda Rapid 1.5 TDI Ambition         370000     120000  Diesel  Individual   \n",
       "2      Honda City 2017-2020 EXi         158000     140000  Petrol  Individual   \n",
       "3     Hyundai i20 Sportz Diesel         225000     127000  Diesel  Individual   \n",
       "4        Maruti Swift VXI BSIII         130000     120000  Petrol  Individual   \n",
       "\n",
       "  transmission         owner  mileage  engine  max_power  \\\n",
       "0       Manual   First Owner    23.40  1248.0      74.00   \n",
       "1       Manual  Second Owner    21.14  1498.0     103.52   \n",
       "2       Manual   Third Owner    17.70  1497.0      78.00   \n",
       "3       Manual   First Owner    23.00  1396.0      90.00   \n",
       "4       Manual   First Owner    16.10  1298.0      88.20   \n",
       "\n",
       "                     torque  seats  age  \n",
       "0            190Nm@ 2000rpm    5.0    6  \n",
       "1       250Nm@ 1500-2500rpm    5.0    6  \n",
       "2     12.7@ 2,700(kgm@ rpm)    5.0   14  \n",
       "3  22.4 kgm at 1750-2750rpm    5.0   10  \n",
       "4     11.5@ 4,500(kgm@ rpm)    5.0   13  "
      ]
     },
     "execution_count": 35,
     "metadata": {},
     "output_type": "execute_result"
    }
   ],
   "source": [
    "df.head()"
   ]
  },
  {
   "cell_type": "code",
   "execution_count": 36,
   "id": "af0d6486",
   "metadata": {
    "ExecuteTime": {
     "end_time": "2021-12-17T13:12:48.978259Z",
     "start_time": "2021-12-17T13:12:46.670549Z"
    }
   },
   "outputs": [
    {
     "data": {
      "image/png": "[encoded data removed]",
      "text/plain": [
       "<Figure size 1080x1800 with 5 Axes>"
      ]
     },
     "metadata": {
      "needs_background": "light"
     },
     "output_type": "display_data"
    }
   ],
   "source": [
    "plt.figure(figsize=(15,25))\n",
    "plt.subplot(9,1,1)\n",
    "plt.title(\"selling price distrbution\")\n",
    "sns.kdeplot(x='selling_price', data=df)\n",
    "\n",
    "plt.subplot(9,1,3)\n",
    "plt.title(\"KM Driven Distrbution\")\n",
    "sns.kdeplot(x='km_driven', data=df);\n",
    "\n",
    "plt.subplot(9,1,5)\n",
    "plt.title(\"Mileage Distrbution\")\n",
    "sns.kdeplot(x='mileage', data=df);\n",
    "\n",
    "plt.subplot(9,1,7)\n",
    "plt.title(\"Max Power Distrbution\")\n",
    "sns.kdeplot(x='max_power', data=df);\n",
    "\n",
    "plt.subplot(9,1,9)\n",
    "plt.title(\"Engine Distrbution\")\n",
    "sns.kdeplot(x='engine', data=df);"
   ]
  },
  {
   "cell_type": "code",
   "execution_count": 37,
   "id": "ef4fb702",
   "metadata": {
    "ExecuteTime": {
     "end_time": "2021-12-17T13:12:49.020305Z",
     "start_time": "2021-12-17T13:12:48.983547Z"
    }
   },
   "outputs": [
    {
     "data": {
      "text/plain": [
       "['name',\n",
       " 'selling_price',\n",
       " 'km_driven',\n",
       " 'mileage',\n",
       " 'engine',\n",
       " 'max_power',\n",
       " 'torque',\n",
       " 'age']"
      ]
     },
     "execution_count": 37,
     "metadata": {},
     "output_type": "execute_result"
    }
   ],
   "source": [
    "cont_features = [col for col in list(df.columns) if df[col].nunique() >= 25]\n",
    "cont_features"
   ]
  },
  {
   "cell_type": "code",
   "execution_count": 38,
   "id": "5c1c9006",
   "metadata": {
    "ExecuteTime": {
     "end_time": "2021-12-17T13:12:49.034441Z",
     "start_time": "2021-12-17T13:12:49.025568Z"
    }
   },
   "outputs": [],
   "source": [
    "cont_features.remove('name')"
   ]
  },
  {
   "cell_type": "code",
   "execution_count": 39,
   "id": "7bcaab17",
   "metadata": {
    "ExecuteTime": {
     "end_time": "2021-12-17T13:12:49.058971Z",
     "start_time": "2021-12-17T13:12:49.042453Z"
    }
   },
   "outputs": [
    {
     "data": {
      "text/plain": [
       "['selling_price', 'km_driven', 'mileage', 'engine', 'max_power', 'age']"
      ]
     },
     "execution_count": 39,
     "metadata": {},
     "output_type": "execute_result"
    }
   ],
   "source": [
    "cont_features.remove('torque')\n",
    "cont_features"
   ]
  },
  {
   "cell_type": "code",
   "execution_count": 40,
   "id": "49800613",
   "metadata": {
    "ExecuteTime": {
     "end_time": "2021-12-17T13:12:50.029254Z",
     "start_time": "2021-12-17T13:12:49.063388Z"
    }
   },
   "outputs": [
    {
     "data": {
      "image/png": "[encoded data removed]",
      "text/plain": [
       "<Figure size 1584x720 with 6 Axes>"
      ]
     },
     "metadata": {},
     "output_type": "display_data"
    }
   ],
   "source": [
    "ncols = 3\n",
    "nrows = int(len(cont_features) / ncols + (len(list(df.columns)) % ncols > 0))-1\n",
    "\n",
    "fig, axes = plt.subplots(nrows, ncols, figsize=(22, 10), facecolor='#EAEAF2')\n",
    "\n",
    "for r in range(nrows):\n",
    "    for c in range(ncols):\n",
    "        col = cont_features[r*ncols+c]\n",
    "        sns.boxplot(x=df[col], ax=axes[r, c], palette='autumn')\n",
    "        axes[r, c].set_ylabel('')\n",
    "        axes[r, c].set_xlabel(col, fontsize=12, fontweight='bold')\n",
    "        axes[r, c].tick_params(labelsize=10, width=0.5)\n",
    "        axes[r, c].xaxis.offsetText.set_fontsize(6)\n",
    "        axes[r, c].yaxis.offsetText.set_fontsize(6)\n",
    "plt.show()"
   ]
  },
  {
   "cell_type": "code",
   "execution_count": 41,
   "id": "a18cc87b",
   "metadata": {
    "ExecuteTime": {
     "end_time": "2021-12-17T13:12:50.641986Z",
     "start_time": "2021-12-17T13:12:50.033635Z"
    }
   },
   "outputs": [
    {
     "data": {
      "image/png": "[encoded data removed]",
      "text/plain": [
       "<Figure size 1440x1080 with 1 Axes>"
      ]
     },
     "metadata": {
      "needs_background": "light"
     },
     "output_type": "display_data"
    }
   ],
   "source": [
    "plt.figure(figsize=(20,15))\n",
    "sns.countplot(x='age', data=df2);"
   ]
  },
  {
   "cell_type": "code",
   "execution_count": 42,
   "id": "38538915",
   "metadata": {
    "ExecuteTime": {
     "end_time": "2021-12-17T13:12:50.659188Z",
     "start_time": "2021-12-17T13:12:50.645938Z"
    }
   },
   "outputs": [],
   "source": [
    "df2 = df.copy()"
   ]
  },
  {
   "cell_type": "code",
   "execution_count": 43,
   "id": "f1bddf77",
   "metadata": {
    "ExecuteTime": {
     "end_time": "2021-12-17T13:12:50.682993Z",
     "start_time": "2021-12-17T13:12:50.665649Z"
    }
   },
   "outputs": [
    {
     "data": {
      "text/plain": [
       "1982"
      ]
     },
     "execution_count": 43,
     "metadata": {},
     "output_type": "execute_result"
    }
   ],
   "source": [
    "len(df2.name.unique())"
   ]
  },
  {
   "cell_type": "code",
   "execution_count": 44,
   "id": "196d7497",
   "metadata": {
    "ExecuteTime": {
     "end_time": "2021-12-17T13:12:50.735914Z",
     "start_time": "2021-12-17T13:12:50.688592Z"
    }
   },
   "outputs": [
    {
     "data": {
      "text/html": [
       "<div>\n",
       "<style scoped>\n",
       "    .dataframe tbody tr th:only-of-type {\n",
       "        vertical-align: middle;\n",
       "    }\n",
       "\n",
       "    .dataframe tbody tr th {\n",
       "        vertical-align: top;\n",
       "    }\n",
       "\n",
       "    .dataframe thead th {\n",
       "        text-align: right;\n",
       "    }\n",
       "</style>\n",
       "<table border=\"1\" class=\"dataframe\">\n",
       "  <thead>\n",
       "    <tr style=\"text-align: right;\">\n",
       "      <th></th>\n",
       "      <th>name</th>\n",
       "      <th>selling_price</th>\n",
       "      <th>km_driven</th>\n",
       "      <th>fuel</th>\n",
       "      <th>seller_type</th>\n",
       "      <th>transmission</th>\n",
       "      <th>owner</th>\n",
       "      <th>mileage</th>\n",
       "      <th>engine</th>\n",
       "      <th>max_power</th>\n",
       "      <th>seats</th>\n",
       "      <th>age</th>\n",
       "    </tr>\n",
       "  </thead>\n",
       "  <tbody>\n",
       "    <tr>\n",
       "      <th>0</th>\n",
       "      <td>Maruti Swift Dzire VDI</td>\n",
       "      <td>450000</td>\n",
       "      <td>145500</td>\n",
       "      <td>Diesel</td>\n",
       "      <td>Individual</td>\n",
       "      <td>Manual</td>\n",
       "      <td>First Owner</td>\n",
       "      <td>23.40</td>\n",
       "      <td>1248.0</td>\n",
       "      <td>74.00</td>\n",
       "      <td>5.0</td>\n",
       "      <td>6</td>\n",
       "    </tr>\n",
       "    <tr>\n",
       "      <th>1</th>\n",
       "      <td>Skoda Rapid 1.5 TDI Ambition</td>\n",
       "      <td>370000</td>\n",
       "      <td>120000</td>\n",
       "      <td>Diesel</td>\n",
       "      <td>Individual</td>\n",
       "      <td>Manual</td>\n",
       "      <td>Second Owner</td>\n",
       "      <td>21.14</td>\n",
       "      <td>1498.0</td>\n",
       "      <td>103.52</td>\n",
       "      <td>5.0</td>\n",
       "      <td>6</td>\n",
       "    </tr>\n",
       "    <tr>\n",
       "      <th>2</th>\n",
       "      <td>Honda City 2017-2020 EXi</td>\n",
       "      <td>158000</td>\n",
       "      <td>140000</td>\n",
       "      <td>Petrol</td>\n",
       "      <td>Individual</td>\n",
       "      <td>Manual</td>\n",
       "      <td>Third Owner</td>\n",
       "      <td>17.70</td>\n",
       "      <td>1497.0</td>\n",
       "      <td>78.00</td>\n",
       "      <td>5.0</td>\n",
       "      <td>14</td>\n",
       "    </tr>\n",
       "    <tr>\n",
       "      <th>3</th>\n",
       "      <td>Hyundai i20 Sportz Diesel</td>\n",
       "      <td>225000</td>\n",
       "      <td>127000</td>\n",
       "      <td>Diesel</td>\n",
       "      <td>Individual</td>\n",
       "      <td>Manual</td>\n",
       "      <td>First Owner</td>\n",
       "      <td>23.00</td>\n",
       "      <td>1396.0</td>\n",
       "      <td>90.00</td>\n",
       "      <td>5.0</td>\n",
       "      <td>10</td>\n",
       "    </tr>\n",
       "    <tr>\n",
       "      <th>4</th>\n",
       "      <td>Maruti Swift VXI BSIII</td>\n",
       "      <td>130000</td>\n",
       "      <td>120000</td>\n",
       "      <td>Petrol</td>\n",
       "      <td>Individual</td>\n",
       "      <td>Manual</td>\n",
       "      <td>First Owner</td>\n",
       "      <td>16.10</td>\n",
       "      <td>1298.0</td>\n",
       "      <td>88.20</td>\n",
       "      <td>5.0</td>\n",
       "      <td>13</td>\n",
       "    </tr>\n",
       "  </tbody>\n",
       "</table>\n",
       "</div>"
      ],
      "text/plain": [
       "                           name  selling_price  km_driven    fuel seller_type  \\\n",
       "0        Maruti Swift Dzire VDI         450000     145500  Diesel  Individual   \n",
       "1  Skoda Rapid 1.5 TDI Ambition         370000     120000  Diesel  Individual   \n",
       "2      Honda City 2017-2020 EXi         158000     140000  Petrol  Individual   \n",
       "3     Hyundai i20 Sportz Diesel         225000     127000  Diesel  Individual   \n",
       "4        Maruti Swift VXI BSIII         130000     120000  Petrol  Individual   \n",
       "\n",
       "  transmission         owner  mileage  engine  max_power  seats  age  \n",
       "0       Manual   First Owner    23.40  1248.0      74.00    5.0    6  \n",
       "1       Manual  Second Owner    21.14  1498.0     103.52    5.0    6  \n",
       "2       Manual   Third Owner    17.70  1497.0      78.00    5.0   14  \n",
       "3       Manual   First Owner    23.00  1396.0      90.00    5.0   10  \n",
       "4       Manual   First Owner    16.10  1298.0      88.20    5.0   13  "
      ]
     },
     "execution_count": 44,
     "metadata": {},
     "output_type": "execute_result"
    }
   ],
   "source": [
    "df2.drop('torque', axis=1, inplace=True) # as an ambigous feature\n",
    "df2.head()"
   ]
  },
  {
   "cell_type": "markdown",
   "id": "b33e99be",
   "metadata": {},
   "source": [
    "<a id='4.2'></a>\n",
    "***Label Encoder***"
   ]
  },
  {
   "cell_type": "code",
   "execution_count": 45,
   "id": "b66080e4",
   "metadata": {
    "ExecuteTime": {
     "end_time": "2021-12-17T13:12:50.770155Z",
     "start_time": "2021-12-17T13:12:50.740249Z"
    }
   },
   "outputs": [],
   "source": [
    "encode = LabelEncoder()\n",
    "list_transform = ['fuel','seller_type','transmission','owner']\n",
    "\n",
    "for i in list_transform:\n",
    "    df2[i] = encode.fit_transform(df2[i])"
   ]
  },
  {
   "cell_type": "code",
   "execution_count": 46,
   "id": "1e6edfb1",
   "metadata": {
    "ExecuteTime": {
     "end_time": "2021-12-17T13:12:50.818964Z",
     "start_time": "2021-12-17T13:12:50.774134Z"
    }
   },
   "outputs": [
    {
     "data": {
      "text/html": [
       "<div>\n",
       "<style scoped>\n",
       "    .dataframe tbody tr th:only-of-type {\n",
       "        vertical-align: middle;\n",
       "    }\n",
       "\n",
       "    .dataframe tbody tr th {\n",
       "        vertical-align: top;\n",
       "    }\n",
       "\n",
       "    .dataframe thead th {\n",
       "        text-align: right;\n",
       "    }\n",
       "</style>\n",
       "<table border=\"1\" class=\"dataframe\">\n",
       "  <thead>\n",
       "    <tr style=\"text-align: right;\">\n",
       "      <th></th>\n",
       "      <th>name</th>\n",
       "      <th>selling_price</th>\n",
       "      <th>km_driven</th>\n",
       "      <th>fuel</th>\n",
       "      <th>seller_type</th>\n",
       "      <th>transmission</th>\n",
       "      <th>owner</th>\n",
       "      <th>mileage</th>\n",
       "      <th>engine</th>\n",
       "      <th>max_power</th>\n",
       "      <th>seats</th>\n",
       "      <th>age</th>\n",
       "    </tr>\n",
       "  </thead>\n",
       "  <tbody>\n",
       "    <tr>\n",
       "      <th>0</th>\n",
       "      <td>Maruti Swift Dzire VDI</td>\n",
       "      <td>450000</td>\n",
       "      <td>145500</td>\n",
       "      <td>1</td>\n",
       "      <td>1</td>\n",
       "      <td>1</td>\n",
       "      <td>0</td>\n",
       "      <td>23.40</td>\n",
       "      <td>1248.0</td>\n",
       "      <td>74.00</td>\n",
       "      <td>5.0</td>\n",
       "      <td>6</td>\n",
       "    </tr>\n",
       "    <tr>\n",
       "      <th>1</th>\n",
       "      <td>Skoda Rapid 1.5 TDI Ambition</td>\n",
       "      <td>370000</td>\n",
       "      <td>120000</td>\n",
       "      <td>1</td>\n",
       "      <td>1</td>\n",
       "      <td>1</td>\n",
       "      <td>2</td>\n",
       "      <td>21.14</td>\n",
       "      <td>1498.0</td>\n",
       "      <td>103.52</td>\n",
       "      <td>5.0</td>\n",
       "      <td>6</td>\n",
       "    </tr>\n",
       "    <tr>\n",
       "      <th>2</th>\n",
       "      <td>Honda City 2017-2020 EXi</td>\n",
       "      <td>158000</td>\n",
       "      <td>140000</td>\n",
       "      <td>3</td>\n",
       "      <td>1</td>\n",
       "      <td>1</td>\n",
       "      <td>4</td>\n",
       "      <td>17.70</td>\n",
       "      <td>1497.0</td>\n",
       "      <td>78.00</td>\n",
       "      <td>5.0</td>\n",
       "      <td>14</td>\n",
       "    </tr>\n",
       "    <tr>\n",
       "      <th>3</th>\n",
       "      <td>Hyundai i20 Sportz Diesel</td>\n",
       "      <td>225000</td>\n",
       "      <td>127000</td>\n",
       "      <td>1</td>\n",
       "      <td>1</td>\n",
       "      <td>1</td>\n",
       "      <td>0</td>\n",
       "      <td>23.00</td>\n",
       "      <td>1396.0</td>\n",
       "      <td>90.00</td>\n",
       "      <td>5.0</td>\n",
       "      <td>10</td>\n",
       "    </tr>\n",
       "    <tr>\n",
       "      <th>4</th>\n",
       "      <td>Maruti Swift VXI BSIII</td>\n",
       "      <td>130000</td>\n",
       "      <td>120000</td>\n",
       "      <td>3</td>\n",
       "      <td>1</td>\n",
       "      <td>1</td>\n",
       "      <td>0</td>\n",
       "      <td>16.10</td>\n",
       "      <td>1298.0</td>\n",
       "      <td>88.20</td>\n",
       "      <td>5.0</td>\n",
       "      <td>13</td>\n",
       "    </tr>\n",
       "  </tbody>\n",
       "</table>\n",
       "</div>"
      ],
      "text/plain": [
       "                           name  selling_price  km_driven  fuel  seller_type  \\\n",
       "0        Maruti Swift Dzire VDI         450000     145500     1            1   \n",
       "1  Skoda Rapid 1.5 TDI Ambition         370000     120000     1            1   \n",
       "2      Honda City 2017-2020 EXi         158000     140000     3            1   \n",
       "3     Hyundai i20 Sportz Diesel         225000     127000     1            1   \n",
       "4        Maruti Swift VXI BSIII         130000     120000     3            1   \n",
       "\n",
       "   transmission  owner  mileage  engine  max_power  seats  age  \n",
       "0             1      0    23.40  1248.0      74.00    5.0    6  \n",
       "1             1      2    21.14  1498.0     103.52    5.0    6  \n",
       "2             1      4    17.70  1497.0      78.00    5.0   14  \n",
       "3             1      0    23.00  1396.0      90.00    5.0   10  \n",
       "4             1      0    16.10  1298.0      88.20    5.0   13  "
      ]
     },
     "execution_count": 46,
     "metadata": {},
     "output_type": "execute_result"
    }
   ],
   "source": [
    "df2.head()"
   ]
  },
  {
   "cell_type": "code",
   "execution_count": 47,
   "id": "57fe4624",
   "metadata": {
    "ExecuteTime": {
     "end_time": "2021-12-17T13:12:52.892649Z",
     "start_time": "2021-12-17T13:12:50.823000Z"
    }
   },
   "outputs": [
    {
     "data": {
      "image/png": "[encoded data removed]",
      "text/plain": [
       "<Figure size 864x720 with 2 Axes>"
      ]
     },
     "metadata": {
      "needs_background": "light"
     },
     "output_type": "display_data"
    }
   ],
   "source": [
    "plt.figure(figsize=(12,10))\n",
    "sns.heatmap(df2.corr(), annot=True);"
   ]
  },
  {
   "cell_type": "markdown",
   "id": "73c4d970",
   "metadata": {},
   "source": [
    "- max power is highly Postivily correlated with price (75%)\n",
    "- transmission is Postivily correlated with price (60%)\n",
    "- car price is also depends on the car brand (name) because each car has it's own features"
   ]
  },
  {
   "cell_type": "code",
   "execution_count": 48,
   "id": "b2b8bed7",
   "metadata": {
    "ExecuteTime": {
     "end_time": "2021-12-17T13:12:52.925469Z",
     "start_time": "2021-12-17T13:12:52.897164Z"
    }
   },
   "outputs": [
    {
     "data": {
      "text/plain": [
       "Maruti Swift Dzire VDI             129\n",
       "Maruti Alto 800 LXI                 82\n",
       "Maruti Alto LXi                     71\n",
       "BMW X4 M Sport X xDrive20d          62\n",
       "Maruti Swift VDI                    61\n",
       "                                  ... \n",
       "Honda City 1.5 V MT Sunroof          1\n",
       "Maruti Ertiga LDI                    1\n",
       "Tata New Safari 4X2                  1\n",
       "Honda Amaze S CVT Petrol BSIV        1\n",
       "Mahindra KUV 100 mFALCON G80 K4      1\n",
       "Name: name, Length: 1982, dtype: int64"
      ]
     },
     "execution_count": 48,
     "metadata": {},
     "output_type": "execute_result"
    }
   ],
   "source": [
    "df2.name = df2.name.apply(lambda x: x.strip())\n",
    "name_stats = df2['name'].value_counts(ascending=False)\n",
    "name_stats"
   ]
  },
  {
   "cell_type": "markdown",
   "id": "b5d22594",
   "metadata": {},
   "source": [
    "Any name having less than 5 data points should be tagged as \"other\" name. This way number of categories can be reduced by huge amount. Later on when we do one hot encoding, it will help us with having fewer dummy columns "
   ]
  },
  {
   "cell_type": "code",
   "execution_count": 49,
   "id": "859ae16a",
   "metadata": {
    "ExecuteTime": {
     "end_time": "2021-12-17T13:12:52.946189Z",
     "start_time": "2021-12-17T13:12:52.930002Z"
    }
   },
   "outputs": [],
   "source": [
    "name_stats_less_than_5 = name_stats[name_stats<=5]"
   ]
  },
  {
   "cell_type": "code",
   "execution_count": 50,
   "id": "5e075601",
   "metadata": {
    "ExecuteTime": {
     "end_time": "2021-12-17T13:12:52.999306Z",
     "start_time": "2021-12-17T13:12:52.951301Z"
    }
   },
   "outputs": [
    {
     "data": {
      "text/plain": [
       "317"
      ]
     },
     "execution_count": 50,
     "metadata": {},
     "output_type": "execute_result"
    }
   ],
   "source": [
    "df2.name = df2.name.apply(lambda x: 'other' if x in name_stats_less_than_5 else x)\n",
    "len(df2.name.unique())"
   ]
  },
  {
   "cell_type": "markdown",
   "id": "f808aaac",
   "metadata": {},
   "source": [
    "<a id='4.3'></a>\n",
    "***apply one hot encoder***"
   ]
  },
  {
   "cell_type": "code",
   "execution_count": 51,
   "id": "02bbb0e6",
   "metadata": {
    "ExecuteTime": {
     "end_time": "2021-12-17T13:12:53.115511Z",
     "start_time": "2021-12-17T13:12:53.104935Z"
    }
   },
   "outputs": [],
   "source": [
    "df3 = df2.copy()"
   ]
  },
  {
   "cell_type": "code",
   "execution_count": 52,
   "id": "f6e71375",
   "metadata": {
    "ExecuteTime": {
     "end_time": "2021-12-17T13:12:53.833189Z",
     "start_time": "2021-12-17T13:12:53.791270Z"
    }
   },
   "outputs": [
    {
     "data": {
      "text/html": [
       "<div>\n",
       "<style scoped>\n",
       "    .dataframe tbody tr th:only-of-type {\n",
       "        vertical-align: middle;\n",
       "    }\n",
       "\n",
       "    .dataframe tbody tr th {\n",
       "        vertical-align: top;\n",
       "    }\n",
       "\n",
       "    .dataframe thead th {\n",
       "        text-align: right;\n",
       "    }\n",
       "</style>\n",
       "<table border=\"1\" class=\"dataframe\">\n",
       "  <thead>\n",
       "    <tr style=\"text-align: right;\">\n",
       "      <th></th>\n",
       "      <th>Audi Q5 35TDI Premium Plus</th>\n",
       "      <th>BMW 5 Series 520d Sport Line</th>\n",
       "      <th>BMW 6 Series GT 630d Luxury Line</th>\n",
       "      <th>BMW X1 sDrive20d M Sport</th>\n",
       "      <th>BMW X4 M Sport X xDrive20d</th>\n",
       "      <th>Chevrolet Beat Diesel</th>\n",
       "      <th>Chevrolet Beat Diesel LS</th>\n",
       "      <th>Chevrolet Beat Diesel LT</th>\n",
       "      <th>Chevrolet Beat LS</th>\n",
       "      <th>Chevrolet Beat LT</th>\n",
       "      <th>...</th>\n",
       "      <th>Volkswagen Ameo 1.5 TDI Comfortline</th>\n",
       "      <th>Volkswagen Polo 1.2 MPI Comfortline</th>\n",
       "      <th>Volkswagen Polo 1.5 TDI Comfortline</th>\n",
       "      <th>Volkswagen Polo 1.5 TDI Highline</th>\n",
       "      <th>Volkswagen Polo Diesel Highline 1.2L</th>\n",
       "      <th>Volkswagen Vento Diesel Comfortline</th>\n",
       "      <th>Volkswagen Vento Diesel Highline</th>\n",
       "      <th>Volvo V40 D3 R-Design</th>\n",
       "      <th>Volvo XC40 D4 Inscription BSIV</th>\n",
       "      <th>other</th>\n",
       "    </tr>\n",
       "  </thead>\n",
       "  <tbody>\n",
       "    <tr>\n",
       "      <th>0</th>\n",
       "      <td>0</td>\n",
       "      <td>0</td>\n",
       "      <td>0</td>\n",
       "      <td>0</td>\n",
       "      <td>0</td>\n",
       "      <td>0</td>\n",
       "      <td>0</td>\n",
       "      <td>0</td>\n",
       "      <td>0</td>\n",
       "      <td>0</td>\n",
       "      <td>...</td>\n",
       "      <td>0</td>\n",
       "      <td>0</td>\n",
       "      <td>0</td>\n",
       "      <td>0</td>\n",
       "      <td>0</td>\n",
       "      <td>0</td>\n",
       "      <td>0</td>\n",
       "      <td>0</td>\n",
       "      <td>0</td>\n",
       "      <td>0</td>\n",
       "    </tr>\n",
       "    <tr>\n",
       "      <th>1</th>\n",
       "      <td>0</td>\n",
       "      <td>0</td>\n",
       "      <td>0</td>\n",
       "      <td>0</td>\n",
       "      <td>0</td>\n",
       "      <td>0</td>\n",
       "      <td>0</td>\n",
       "      <td>0</td>\n",
       "      <td>0</td>\n",
       "      <td>0</td>\n",
       "      <td>...</td>\n",
       "      <td>0</td>\n",
       "      <td>0</td>\n",
       "      <td>0</td>\n",
       "      <td>0</td>\n",
       "      <td>0</td>\n",
       "      <td>0</td>\n",
       "      <td>0</td>\n",
       "      <td>0</td>\n",
       "      <td>0</td>\n",
       "      <td>1</td>\n",
       "    </tr>\n",
       "    <tr>\n",
       "      <th>2</th>\n",
       "      <td>0</td>\n",
       "      <td>0</td>\n",
       "      <td>0</td>\n",
       "      <td>0</td>\n",
       "      <td>0</td>\n",
       "      <td>0</td>\n",
       "      <td>0</td>\n",
       "      <td>0</td>\n",
       "      <td>0</td>\n",
       "      <td>0</td>\n",
       "      <td>...</td>\n",
       "      <td>0</td>\n",
       "      <td>0</td>\n",
       "      <td>0</td>\n",
       "      <td>0</td>\n",
       "      <td>0</td>\n",
       "      <td>0</td>\n",
       "      <td>0</td>\n",
       "      <td>0</td>\n",
       "      <td>0</td>\n",
       "      <td>0</td>\n",
       "    </tr>\n",
       "    <tr>\n",
       "      <th>3</th>\n",
       "      <td>0</td>\n",
       "      <td>0</td>\n",
       "      <td>0</td>\n",
       "      <td>0</td>\n",
       "      <td>0</td>\n",
       "      <td>0</td>\n",
       "      <td>0</td>\n",
       "      <td>0</td>\n",
       "      <td>0</td>\n",
       "      <td>0</td>\n",
       "      <td>...</td>\n",
       "      <td>0</td>\n",
       "      <td>0</td>\n",
       "      <td>0</td>\n",
       "      <td>0</td>\n",
       "      <td>0</td>\n",
       "      <td>0</td>\n",
       "      <td>0</td>\n",
       "      <td>0</td>\n",
       "      <td>0</td>\n",
       "      <td>1</td>\n",
       "    </tr>\n",
       "    <tr>\n",
       "      <th>4</th>\n",
       "      <td>0</td>\n",
       "      <td>0</td>\n",
       "      <td>0</td>\n",
       "      <td>0</td>\n",
       "      <td>0</td>\n",
       "      <td>0</td>\n",
       "      <td>0</td>\n",
       "      <td>0</td>\n",
       "      <td>0</td>\n",
       "      <td>0</td>\n",
       "      <td>...</td>\n",
       "      <td>0</td>\n",
       "      <td>0</td>\n",
       "      <td>0</td>\n",
       "      <td>0</td>\n",
       "      <td>0</td>\n",
       "      <td>0</td>\n",
       "      <td>0</td>\n",
       "      <td>0</td>\n",
       "      <td>0</td>\n",
       "      <td>1</td>\n",
       "    </tr>\n",
       "  </tbody>\n",
       "</table>\n",
       "<p>5 rows × 317 columns</p>\n",
       "</div>"
      ],
      "text/plain": [
       "   Audi Q5 35TDI Premium Plus  BMW 5 Series 520d Sport Line  \\\n",
       "0                           0                             0   \n",
       "1                           0                             0   \n",
       "2                           0                             0   \n",
       "3                           0                             0   \n",
       "4                           0                             0   \n",
       "\n",
       "   BMW 6 Series GT 630d Luxury Line  BMW X1 sDrive20d M Sport  \\\n",
       "0                                 0                         0   \n",
       "1                                 0                         0   \n",
       "2                                 0                         0   \n",
       "3                                 0                         0   \n",
       "4                                 0                         0   \n",
       "\n",
       "   BMW X4 M Sport X xDrive20d  Chevrolet Beat Diesel  \\\n",
       "0                           0                      0   \n",
       "1                           0                      0   \n",
       "2                           0                      0   \n",
       "3                           0                      0   \n",
       "4                           0                      0   \n",
       "\n",
       "   Chevrolet Beat Diesel LS  Chevrolet Beat Diesel LT  Chevrolet Beat LS  \\\n",
       "0                         0                         0                  0   \n",
       "1                         0                         0                  0   \n",
       "2                         0                         0                  0   \n",
       "3                         0                         0                  0   \n",
       "4                         0                         0                  0   \n",
       "\n",
       "   Chevrolet Beat LT  ...  Volkswagen Ameo 1.5 TDI Comfortline  \\\n",
       "0                  0  ...                                    0   \n",
       "1                  0  ...                                    0   \n",
       "2                  0  ...                                    0   \n",
       "3                  0  ...                                    0   \n",
       "4                  0  ...                                    0   \n",
       "\n",
       "   Volkswagen Polo 1.2 MPI Comfortline  Volkswagen Polo 1.5 TDI Comfortline  \\\n",
       "0                                    0                                    0   \n",
       "1                                    0                                    0   \n",
       "2                                    0                                    0   \n",
       "3                                    0                                    0   \n",
       "4                                    0                                    0   \n",
       "\n",
       "   Volkswagen Polo 1.5 TDI Highline  Volkswagen Polo Diesel Highline 1.2L  \\\n",
       "0                                 0                                     0   \n",
       "1                                 0                                     0   \n",
       "2                                 0                                     0   \n",
       "3                                 0                                     0   \n",
       "4                                 0                                     0   \n",
       "\n",
       "   Volkswagen Vento Diesel Comfortline  Volkswagen Vento Diesel Highline  \\\n",
       "0                                    0                                 0   \n",
       "1                                    0                                 0   \n",
       "2                                    0                                 0   \n",
       "3                                    0                                 0   \n",
       "4                                    0                                 0   \n",
       "\n",
       "   Volvo V40 D3 R-Design  Volvo XC40 D4 Inscription BSIV  other  \n",
       "0                      0                               0      0  \n",
       "1                      0                               0      1  \n",
       "2                      0                               0      0  \n",
       "3                      0                               0      1  \n",
       "4                      0                               0      1  \n",
       "\n",
       "[5 rows x 317 columns]"
      ]
     },
     "execution_count": 52,
     "metadata": {},
     "output_type": "execute_result"
    }
   ],
   "source": [
    "dummies = pd.get_dummies(df3.name)\n",
    "dummies.head()"
   ]
  },
  {
   "cell_type": "code",
   "execution_count": 53,
   "id": "4dbd1ed5",
   "metadata": {
    "ExecuteTime": {
     "end_time": "2021-12-17T13:12:54.436559Z",
     "start_time": "2021-12-17T13:12:54.397648Z"
    }
   },
   "outputs": [
    {
     "data": {
      "text/plain": [
       "(7906, 316)"
      ]
     },
     "execution_count": 53,
     "metadata": {},
     "output_type": "execute_result"
    }
   ],
   "source": [
    "dummies.drop('other', axis=1,inplace=True)\n",
    "dummies.shape"
   ]
  },
  {
   "cell_type": "code",
   "execution_count": 54,
   "id": "fa5d5a5a",
   "metadata": {
    "ExecuteTime": {
     "end_time": "2021-12-17T13:12:55.047987Z",
     "start_time": "2021-12-17T13:12:54.983155Z"
    }
   },
   "outputs": [
    {
     "data": {
      "text/html": [
       "<div>\n",
       "<style scoped>\n",
       "    .dataframe tbody tr th:only-of-type {\n",
       "        vertical-align: middle;\n",
       "    }\n",
       "\n",
       "    .dataframe tbody tr th {\n",
       "        vertical-align: top;\n",
       "    }\n",
       "\n",
       "    .dataframe thead th {\n",
       "        text-align: right;\n",
       "    }\n",
       "</style>\n",
       "<table border=\"1\" class=\"dataframe\">\n",
       "  <thead>\n",
       "    <tr style=\"text-align: right;\">\n",
       "      <th></th>\n",
       "      <th>name</th>\n",
       "      <th>selling_price</th>\n",
       "      <th>km_driven</th>\n",
       "      <th>fuel</th>\n",
       "      <th>seller_type</th>\n",
       "      <th>transmission</th>\n",
       "      <th>owner</th>\n",
       "      <th>mileage</th>\n",
       "      <th>engine</th>\n",
       "      <th>max_power</th>\n",
       "      <th>...</th>\n",
       "      <th>Toyota Innova Crysta 2.8 ZX AT BSIV</th>\n",
       "      <th>Volkswagen Ameo 1.5 TDI Comfortline</th>\n",
       "      <th>Volkswagen Polo 1.2 MPI Comfortline</th>\n",
       "      <th>Volkswagen Polo 1.5 TDI Comfortline</th>\n",
       "      <th>Volkswagen Polo 1.5 TDI Highline</th>\n",
       "      <th>Volkswagen Polo Diesel Highline 1.2L</th>\n",
       "      <th>Volkswagen Vento Diesel Comfortline</th>\n",
       "      <th>Volkswagen Vento Diesel Highline</th>\n",
       "      <th>Volvo V40 D3 R-Design</th>\n",
       "      <th>Volvo XC40 D4 Inscription BSIV</th>\n",
       "    </tr>\n",
       "  </thead>\n",
       "  <tbody>\n",
       "    <tr>\n",
       "      <th>0</th>\n",
       "      <td>Maruti Swift Dzire VDI</td>\n",
       "      <td>450000</td>\n",
       "      <td>145500</td>\n",
       "      <td>1</td>\n",
       "      <td>1</td>\n",
       "      <td>1</td>\n",
       "      <td>0</td>\n",
       "      <td>23.40</td>\n",
       "      <td>1248.0</td>\n",
       "      <td>74.00</td>\n",
       "      <td>...</td>\n",
       "      <td>0</td>\n",
       "      <td>0</td>\n",
       "      <td>0</td>\n",
       "      <td>0</td>\n",
       "      <td>0</td>\n",
       "      <td>0</td>\n",
       "      <td>0</td>\n",
       "      <td>0</td>\n",
       "      <td>0</td>\n",
       "      <td>0</td>\n",
       "    </tr>\n",
       "    <tr>\n",
       "      <th>1</th>\n",
       "      <td>other</td>\n",
       "      <td>370000</td>\n",
       "      <td>120000</td>\n",
       "      <td>1</td>\n",
       "      <td>1</td>\n",
       "      <td>1</td>\n",
       "      <td>2</td>\n",
       "      <td>21.14</td>\n",
       "      <td>1498.0</td>\n",
       "      <td>103.52</td>\n",
       "      <td>...</td>\n",
       "      <td>0</td>\n",
       "      <td>0</td>\n",
       "      <td>0</td>\n",
       "      <td>0</td>\n",
       "      <td>0</td>\n",
       "      <td>0</td>\n",
       "      <td>0</td>\n",
       "      <td>0</td>\n",
       "      <td>0</td>\n",
       "      <td>0</td>\n",
       "    </tr>\n",
       "    <tr>\n",
       "      <th>2</th>\n",
       "      <td>Honda City 2017-2020 EXi</td>\n",
       "      <td>158000</td>\n",
       "      <td>140000</td>\n",
       "      <td>3</td>\n",
       "      <td>1</td>\n",
       "      <td>1</td>\n",
       "      <td>4</td>\n",
       "      <td>17.70</td>\n",
       "      <td>1497.0</td>\n",
       "      <td>78.00</td>\n",
       "      <td>...</td>\n",
       "      <td>0</td>\n",
       "      <td>0</td>\n",
       "      <td>0</td>\n",
       "      <td>0</td>\n",
       "      <td>0</td>\n",
       "      <td>0</td>\n",
       "      <td>0</td>\n",
       "      <td>0</td>\n",
       "      <td>0</td>\n",
       "      <td>0</td>\n",
       "    </tr>\n",
       "    <tr>\n",
       "      <th>3</th>\n",
       "      <td>other</td>\n",
       "      <td>225000</td>\n",
       "      <td>127000</td>\n",
       "      <td>1</td>\n",
       "      <td>1</td>\n",
       "      <td>1</td>\n",
       "      <td>0</td>\n",
       "      <td>23.00</td>\n",
       "      <td>1396.0</td>\n",
       "      <td>90.00</td>\n",
       "      <td>...</td>\n",
       "      <td>0</td>\n",
       "      <td>0</td>\n",
       "      <td>0</td>\n",
       "      <td>0</td>\n",
       "      <td>0</td>\n",
       "      <td>0</td>\n",
       "      <td>0</td>\n",
       "      <td>0</td>\n",
       "      <td>0</td>\n",
       "      <td>0</td>\n",
       "    </tr>\n",
       "    <tr>\n",
       "      <th>4</th>\n",
       "      <td>other</td>\n",
       "      <td>130000</td>\n",
       "      <td>120000</td>\n",
       "      <td>3</td>\n",
       "      <td>1</td>\n",
       "      <td>1</td>\n",
       "      <td>0</td>\n",
       "      <td>16.10</td>\n",
       "      <td>1298.0</td>\n",
       "      <td>88.20</td>\n",
       "      <td>...</td>\n",
       "      <td>0</td>\n",
       "      <td>0</td>\n",
       "      <td>0</td>\n",
       "      <td>0</td>\n",
       "      <td>0</td>\n",
       "      <td>0</td>\n",
       "      <td>0</td>\n",
       "      <td>0</td>\n",
       "      <td>0</td>\n",
       "      <td>0</td>\n",
       "    </tr>\n",
       "  </tbody>\n",
       "</table>\n",
       "<p>5 rows × 328 columns</p>\n",
       "</div>"
      ],
      "text/plain": [
       "                       name  selling_price  km_driven  fuel  seller_type  \\\n",
       "0    Maruti Swift Dzire VDI         450000     145500     1            1   \n",
       "1                     other         370000     120000     1            1   \n",
       "2  Honda City 2017-2020 EXi         158000     140000     3            1   \n",
       "3                     other         225000     127000     1            1   \n",
       "4                     other         130000     120000     3            1   \n",
       "\n",
       "   transmission  owner  mileage  engine  max_power  ...  \\\n",
       "0             1      0    23.40  1248.0      74.00  ...   \n",
       "1             1      2    21.14  1498.0     103.52  ...   \n",
       "2             1      4    17.70  1497.0      78.00  ...   \n",
       "3             1      0    23.00  1396.0      90.00  ...   \n",
       "4             1      0    16.10  1298.0      88.20  ...   \n",
       "\n",
       "   Toyota Innova Crysta 2.8 ZX AT BSIV  Volkswagen Ameo 1.5 TDI Comfortline  \\\n",
       "0                                    0                                    0   \n",
       "1                                    0                                    0   \n",
       "2                                    0                                    0   \n",
       "3                                    0                                    0   \n",
       "4                                    0                                    0   \n",
       "\n",
       "   Volkswagen Polo 1.2 MPI Comfortline  Volkswagen Polo 1.5 TDI Comfortline  \\\n",
       "0                                    0                                    0   \n",
       "1                                    0                                    0   \n",
       "2                                    0                                    0   \n",
       "3                                    0                                    0   \n",
       "4                                    0                                    0   \n",
       "\n",
       "   Volkswagen Polo 1.5 TDI Highline  Volkswagen Polo Diesel Highline 1.2L  \\\n",
       "0                                 0                                     0   \n",
       "1                                 0                                     0   \n",
       "2                                 0                                     0   \n",
       "3                                 0                                     0   \n",
       "4                                 0                                     0   \n",
       "\n",
       "   Volkswagen Vento Diesel Comfortline  Volkswagen Vento Diesel Highline  \\\n",
       "0                                    0                                 0   \n",
       "1                                    0                                 0   \n",
       "2                                    0                                 0   \n",
       "3                                    0                                 0   \n",
       "4                                    0                                 0   \n",
       "\n",
       "   Volvo V40 D3 R-Design  Volvo XC40 D4 Inscription BSIV  \n",
       "0                      0                               0  \n",
       "1                      0                               0  \n",
       "2                      0                               0  \n",
       "3                      0                               0  \n",
       "4                      0                               0  \n",
       "\n",
       "[5 rows x 328 columns]"
      ]
     },
     "execution_count": 54,
     "metadata": {},
     "output_type": "execute_result"
    }
   ],
   "source": [
    "df3 = pd.concat([df3 , dummies], axis=1)\n",
    "df3.head()"
   ]
  },
  {
   "cell_type": "code",
   "execution_count": 55,
   "id": "041e4e38",
   "metadata": {
    "ExecuteTime": {
     "end_time": "2021-12-17T13:12:55.586791Z",
     "start_time": "2021-12-17T13:12:55.536583Z"
    }
   },
   "outputs": [
    {
     "data": {
      "text/html": [
       "<div>\n",
       "<style scoped>\n",
       "    .dataframe tbody tr th:only-of-type {\n",
       "        vertical-align: middle;\n",
       "    }\n",
       "\n",
       "    .dataframe tbody tr th {\n",
       "        vertical-align: top;\n",
       "    }\n",
       "\n",
       "    .dataframe thead th {\n",
       "        text-align: right;\n",
       "    }\n",
       "</style>\n",
       "<table border=\"1\" class=\"dataframe\">\n",
       "  <thead>\n",
       "    <tr style=\"text-align: right;\">\n",
       "      <th></th>\n",
       "      <th>selling_price</th>\n",
       "      <th>km_driven</th>\n",
       "      <th>fuel</th>\n",
       "      <th>seller_type</th>\n",
       "      <th>transmission</th>\n",
       "      <th>owner</th>\n",
       "      <th>mileage</th>\n",
       "      <th>engine</th>\n",
       "      <th>max_power</th>\n",
       "      <th>seats</th>\n",
       "      <th>...</th>\n",
       "      <th>Toyota Innova Crysta 2.8 ZX AT BSIV</th>\n",
       "      <th>Volkswagen Ameo 1.5 TDI Comfortline</th>\n",
       "      <th>Volkswagen Polo 1.2 MPI Comfortline</th>\n",
       "      <th>Volkswagen Polo 1.5 TDI Comfortline</th>\n",
       "      <th>Volkswagen Polo 1.5 TDI Highline</th>\n",
       "      <th>Volkswagen Polo Diesel Highline 1.2L</th>\n",
       "      <th>Volkswagen Vento Diesel Comfortline</th>\n",
       "      <th>Volkswagen Vento Diesel Highline</th>\n",
       "      <th>Volvo V40 D3 R-Design</th>\n",
       "      <th>Volvo XC40 D4 Inscription BSIV</th>\n",
       "    </tr>\n",
       "  </thead>\n",
       "  <tbody>\n",
       "    <tr>\n",
       "      <th>0</th>\n",
       "      <td>450000</td>\n",
       "      <td>145500</td>\n",
       "      <td>1</td>\n",
       "      <td>1</td>\n",
       "      <td>1</td>\n",
       "      <td>0</td>\n",
       "      <td>23.40</td>\n",
       "      <td>1248.0</td>\n",
       "      <td>74.00</td>\n",
       "      <td>5.0</td>\n",
       "      <td>...</td>\n",
       "      <td>0</td>\n",
       "      <td>0</td>\n",
       "      <td>0</td>\n",
       "      <td>0</td>\n",
       "      <td>0</td>\n",
       "      <td>0</td>\n",
       "      <td>0</td>\n",
       "      <td>0</td>\n",
       "      <td>0</td>\n",
       "      <td>0</td>\n",
       "    </tr>\n",
       "    <tr>\n",
       "      <th>1</th>\n",
       "      <td>370000</td>\n",
       "      <td>120000</td>\n",
       "      <td>1</td>\n",
       "      <td>1</td>\n",
       "      <td>1</td>\n",
       "      <td>2</td>\n",
       "      <td>21.14</td>\n",
       "      <td>1498.0</td>\n",
       "      <td>103.52</td>\n",
       "      <td>5.0</td>\n",
       "      <td>...</td>\n",
       "      <td>0</td>\n",
       "      <td>0</td>\n",
       "      <td>0</td>\n",
       "      <td>0</td>\n",
       "      <td>0</td>\n",
       "      <td>0</td>\n",
       "      <td>0</td>\n",
       "      <td>0</td>\n",
       "      <td>0</td>\n",
       "      <td>0</td>\n",
       "    </tr>\n",
       "    <tr>\n",
       "      <th>2</th>\n",
       "      <td>158000</td>\n",
       "      <td>140000</td>\n",
       "      <td>3</td>\n",
       "      <td>1</td>\n",
       "      <td>1</td>\n",
       "      <td>4</td>\n",
       "      <td>17.70</td>\n",
       "      <td>1497.0</td>\n",
       "      <td>78.00</td>\n",
       "      <td>5.0</td>\n",
       "      <td>...</td>\n",
       "      <td>0</td>\n",
       "      <td>0</td>\n",
       "      <td>0</td>\n",
       "      <td>0</td>\n",
       "      <td>0</td>\n",
       "      <td>0</td>\n",
       "      <td>0</td>\n",
       "      <td>0</td>\n",
       "      <td>0</td>\n",
       "      <td>0</td>\n",
       "    </tr>\n",
       "    <tr>\n",
       "      <th>3</th>\n",
       "      <td>225000</td>\n",
       "      <td>127000</td>\n",
       "      <td>1</td>\n",
       "      <td>1</td>\n",
       "      <td>1</td>\n",
       "      <td>0</td>\n",
       "      <td>23.00</td>\n",
       "      <td>1396.0</td>\n",
       "      <td>90.00</td>\n",
       "      <td>5.0</td>\n",
       "      <td>...</td>\n",
       "      <td>0</td>\n",
       "      <td>0</td>\n",
       "      <td>0</td>\n",
       "      <td>0</td>\n",
       "      <td>0</td>\n",
       "      <td>0</td>\n",
       "      <td>0</td>\n",
       "      <td>0</td>\n",
       "      <td>0</td>\n",
       "      <td>0</td>\n",
       "    </tr>\n",
       "    <tr>\n",
       "      <th>4</th>\n",
       "      <td>130000</td>\n",
       "      <td>120000</td>\n",
       "      <td>3</td>\n",
       "      <td>1</td>\n",
       "      <td>1</td>\n",
       "      <td>0</td>\n",
       "      <td>16.10</td>\n",
       "      <td>1298.0</td>\n",
       "      <td>88.20</td>\n",
       "      <td>5.0</td>\n",
       "      <td>...</td>\n",
       "      <td>0</td>\n",
       "      <td>0</td>\n",
       "      <td>0</td>\n",
       "      <td>0</td>\n",
       "      <td>0</td>\n",
       "      <td>0</td>\n",
       "      <td>0</td>\n",
       "      <td>0</td>\n",
       "      <td>0</td>\n",
       "      <td>0</td>\n",
       "    </tr>\n",
       "  </tbody>\n",
       "</table>\n",
       "<p>5 rows × 327 columns</p>\n",
       "</div>"
      ],
      "text/plain": [
       "   selling_price  km_driven  fuel  seller_type  transmission  owner  mileage  \\\n",
       "0         450000     145500     1            1             1      0    23.40   \n",
       "1         370000     120000     1            1             1      2    21.14   \n",
       "2         158000     140000     3            1             1      4    17.70   \n",
       "3         225000     127000     1            1             1      0    23.00   \n",
       "4         130000     120000     3            1             1      0    16.10   \n",
       "\n",
       "   engine  max_power  seats  ...  Toyota Innova Crysta 2.8 ZX AT BSIV  \\\n",
       "0  1248.0      74.00    5.0  ...                                    0   \n",
       "1  1498.0     103.52    5.0  ...                                    0   \n",
       "2  1497.0      78.00    5.0  ...                                    0   \n",
       "3  1396.0      90.00    5.0  ...                                    0   \n",
       "4  1298.0      88.20    5.0  ...                                    0   \n",
       "\n",
       "   Volkswagen Ameo 1.5 TDI Comfortline  Volkswagen Polo 1.2 MPI Comfortline  \\\n",
       "0                                    0                                    0   \n",
       "1                                    0                                    0   \n",
       "2                                    0                                    0   \n",
       "3                                    0                                    0   \n",
       "4                                    0                                    0   \n",
       "\n",
       "   Volkswagen Polo 1.5 TDI Comfortline  Volkswagen Polo 1.5 TDI Highline  \\\n",
       "0                                    0                                 0   \n",
       "1                                    0                                 0   \n",
       "2                                    0                                 0   \n",
       "3                                    0                                 0   \n",
       "4                                    0                                 0   \n",
       "\n",
       "   Volkswagen Polo Diesel Highline 1.2L  Volkswagen Vento Diesel Comfortline  \\\n",
       "0                                     0                                    0   \n",
       "1                                     0                                    0   \n",
       "2                                     0                                    0   \n",
       "3                                     0                                    0   \n",
       "4                                     0                                    0   \n",
       "\n",
       "   Volkswagen Vento Diesel Highline  Volvo V40 D3 R-Design  \\\n",
       "0                                 0                      0   \n",
       "1                                 0                      0   \n",
       "2                                 0                      0   \n",
       "3                                 0                      0   \n",
       "4                                 0                      0   \n",
       "\n",
       "   Volvo XC40 D4 Inscription BSIV  \n",
       "0                               0  \n",
       "1                               0  \n",
       "2                               0  \n",
       "3                               0  \n",
       "4                               0  \n",
       "\n",
       "[5 rows x 327 columns]"
      ]
     },
     "execution_count": 55,
     "metadata": {},
     "output_type": "execute_result"
    }
   ],
   "source": [
    "df3.drop('name', axis=1, inplace=True)\n",
    "df3.head()"
   ]
  },
  {
   "cell_type": "markdown",
   "id": "7beec84b",
   "metadata": {},
   "source": [
    "<a id='5'></a>\n",
    "# Assign feature and target variables"
   ]
  },
  {
   "cell_type": "code",
   "execution_count": 56,
   "id": "c7bf4eaf",
   "metadata": {
    "ExecuteTime": {
     "end_time": "2021-12-17T13:12:57.463208Z",
     "start_time": "2021-12-17T13:12:57.450574Z"
    }
   },
   "outputs": [],
   "source": [
    "X = df3.drop(\"selling_price\", axis=1)\n",
    "y = df3.selling_price"
   ]
  },
  {
   "cell_type": "markdown",
   "id": "1f622ae7",
   "metadata": {},
   "source": [
    "# Spliting the data into Training and Testing data"
   ]
  },
  {
   "cell_type": "code",
   "execution_count": 57,
   "id": "4c677471",
   "metadata": {
    "ExecuteTime": {
     "end_time": "2021-12-17T13:12:58.454227Z",
     "start_time": "2021-12-17T13:12:58.413743Z"
    }
   },
   "outputs": [],
   "source": [
    "X_train, X_test, y_train, y_test = train_test_split(X,y,test_size=0.25, random_state=40)"
   ]
  },
  {
   "cell_type": "code",
   "execution_count": 58,
   "id": "791b55cc",
   "metadata": {
    "ExecuteTime": {
     "end_time": "2021-12-17T13:12:58.861993Z",
     "start_time": "2021-12-17T13:12:58.840832Z"
    }
   },
   "outputs": [
    {
     "data": {
      "text/plain": [
       "5929"
      ]
     },
     "execution_count": 58,
     "metadata": {},
     "output_type": "execute_result"
    }
   ],
   "source": [
    "len(X_train)"
   ]
  },
  {
   "cell_type": "code",
   "execution_count": 59,
   "id": "54fdb476",
   "metadata": {
    "ExecuteTime": {
     "end_time": "2021-12-17T13:12:59.619464Z",
     "start_time": "2021-12-17T13:12:59.603832Z"
    }
   },
   "outputs": [
    {
     "data": {
      "text/plain": [
       "1977"
      ]
     },
     "execution_count": 59,
     "metadata": {},
     "output_type": "execute_result"
    }
   ],
   "source": [
    "len(X_test)"
   ]
  },
  {
   "cell_type": "markdown",
   "id": "ba3fa219",
   "metadata": {},
   "source": [
    "<a id='7'></a>\n",
    "# Modeling"
   ]
  },
  {
   "cell_type": "markdown",
   "id": "106fec22",
   "metadata": {},
   "source": [
    "<a id='7.1'></a>\n",
    "***Linear Regression Model***"
   ]
  },
  {
   "cell_type": "code",
   "execution_count": 61,
   "id": "1cf76239",
   "metadata": {
    "ExecuteTime": {
     "end_time": "2021-12-17T13:19:05.951881Z",
     "start_time": "2021-12-17T13:19:03.798041Z"
    }
   },
   "outputs": [
    {
     "name": "stdout",
     "output_type": "stream",
     "text": [
      "Linear Regression score on cross validation: 0.8847977006359994\n"
     ]
    }
   ],
   "source": [
    "lr = LinearRegression()\n",
    "lr = cross_val_score(lr, X,y, cv=10)\n",
    "lr_score = np.average(lr)\n",
    "print(f\"Linear Regression score on cross validation: {lr_score}\")"
   ]
  },
  {
   "cell_type": "code",
   "execution_count": 62,
   "id": "7f5c567b",
   "metadata": {
    "ExecuteTime": {
     "end_time": "2021-12-17T13:22:39.768829Z",
     "start_time": "2021-12-17T13:22:39.519444Z"
    }
   },
   "outputs": [
    {
     "name": "stdout",
     "output_type": "stream",
     "text": [
      "Linear Regression model score on Training data: 87.8659977704305%\n",
      "Linear Regression model score on Training data: 92.9492253477467%\n"
     ]
    }
   ],
   "source": [
    "lr_model = LinearRegression()\n",
    "lr_model.fit(X_train, y_train)\n",
    "lr_model_train_score = lr_model.score(X_train, y_train)\n",
    "lr_model_test_score = lr_model.score(X_test, y_test)\n",
    "print(f\"Linear Regression model score on Training data: {lr_model_train_score * 100}%\\nLinear Regression model score on Training data: {lr_model_test_score * 100}%\")"
   ]
  },
  {
   "cell_type": "markdown",
   "id": "16a41a08",
   "metadata": {},
   "source": [
    "<a id='7.2'></a>\n",
    "***Random Forest Model***"
   ]
  },
  {
   "cell_type": "code",
   "execution_count": 65,
   "id": "6d7b5f8f",
   "metadata": {
    "ExecuteTime": {
     "end_time": "2021-12-17T13:28:07.151729Z",
     "start_time": "2021-12-17T13:26:10.775609Z"
    }
   },
   "outputs": [
    {
     "name": "stdout",
     "output_type": "stream",
     "text": [
      "Random Forest score on cross validation: 0.9666762835149119\n"
     ]
    }
   ],
   "source": [
    "rf = RandomForestRegressor()\n",
    "rf = cross_val_score(rf, X,y, cv=10)\n",
    "rf_score = np.average(rf)\n",
    "print(f\"Random Forest score on cross validation: {rf_score}\")"
   ]
  },
  {
   "cell_type": "code",
   "execution_count": 64,
   "id": "0e199c9c",
   "metadata": {
    "ExecuteTime": {
     "end_time": "2021-12-17T13:25:31.558168Z",
     "start_time": "2021-12-17T13:25:24.158561Z"
    }
   },
   "outputs": [
    {
     "name": "stdout",
     "output_type": "stream",
     "text": [
      "Linear Regression model score on Training data: 99.58916201477443%\n",
      "Linear Regression model score on Training data: 97.42029046946092%\n"
     ]
    }
   ],
   "source": [
    "rf_model = RandomForestRegressor()\n",
    "rf_model.fit(X_train, y_train)\n",
    "rf_model_train_score = rf_model.score(X_train, y_train)\n",
    "rf_model_test_score = rf_model.score(X_test, y_test)\n",
    "print(f\"Linear Regression model score on Training data: {rf_model_train_score * 100}%\\nLinear Regression model score on Training data: {rf_model_test_score * 100}%\")"
   ]
  },
  {
   "cell_type": "markdown",
   "id": "b6ef466e",
   "metadata": {},
   "source": [
    "<a id='7.3'></a>\n",
    "***Bagging Model***"
   ]
  },
  {
   "cell_type": "code",
   "execution_count": 66,
   "id": "31d19d19",
   "metadata": {
    "ExecuteTime": {
     "end_time": "2021-12-17T13:28:53.316024Z",
     "start_time": "2021-12-17T13:28:40.500571Z"
    }
   },
   "outputs": [
    {
     "name": "stdout",
     "output_type": "stream",
     "text": [
      "Linear Regression score on cross validation: 0.962179365252983\n"
     ]
    }
   ],
   "source": [
    "br = BaggingRegressor()\n",
    "br = cross_val_score(br, X,y, cv=10)\n",
    "br_score = np.average(br)\n",
    "print(f\"Linear Regression score on cross validation: {br_score}\")"
   ]
  },
  {
   "cell_type": "code",
   "execution_count": 68,
   "id": "005a89e8",
   "metadata": {
    "ExecuteTime": {
     "end_time": "2021-12-17T13:29:45.518913Z",
     "start_time": "2021-12-17T13:29:44.433123Z"
    }
   },
   "outputs": [
    {
     "name": "stdout",
     "output_type": "stream",
     "text": [
      "Linear Regression model score on Training data: 99.32869223026849%\n",
      "Linear Regression model score on Training data: 97.18055765532581%\n"
     ]
    }
   ],
   "source": [
    "br_model = BaggingRegressor()\n",
    "br_model.fit(X_train, y_train)\n",
    "br_model_train_score = br_model.score(X_train, y_train)\n",
    "br_model_test_score = br_model.score(X_test, y_test)\n",
    "print(f\"Linear Regression model score on Training data: {br_model_train_score * 100}%\\nLinear Regression model score on Training data: {br_model_test_score * 100}%\")"
   ]
  },
  {
   "cell_type": "markdown",
   "id": "8bc3a7be",
   "metadata": {},
   "source": [
    "<a id='7.4'></a>\n",
    "***Gradient Boosting Model***"
   ]
  },
  {
   "cell_type": "code",
   "execution_count": 74,
   "id": "0951b0b3",
   "metadata": {
    "ExecuteTime": {
     "end_time": "2021-12-17T13:34:47.417648Z",
     "start_time": "2021-12-17T13:33:45.379649Z"
    }
   },
   "outputs": [
    {
     "name": "stdout",
     "output_type": "stream",
     "text": [
      "Gradient Boosting score on cross validation: 0.9483509028331794\n"
     ]
    }
   ],
   "source": [
    "gbr = GradientBoostingRegressor()\n",
    "gbr = cross_val_score(gbr, X,y, cv=10)\n",
    "gbr_score = np.average(gbr)\n",
    "print(f\"Gradient Boosting score on cross validation: {gbr_score}\")"
   ]
  },
  {
   "cell_type": "code",
   "execution_count": 73,
   "id": "255b449b",
   "metadata": {
    "ExecuteTime": {
     "end_time": "2021-12-17T13:33:32.680459Z",
     "start_time": "2021-12-17T13:33:29.044902Z"
    }
   },
   "outputs": [
    {
     "name": "stdout",
     "output_type": "stream",
     "text": [
      "Gradient Boosting model score on Training data: 96.76869608384479%\n",
      "Gradient Boosting model score on Training data: 95.85731216844323%\n"
     ]
    }
   ],
   "source": [
    "gbr_model = GradientBoostingRegressor()\n",
    "gbr_model.fit(X_train, y_train)\n",
    "gbr_model_train_score = gbr_model.score(X_train, y_train)\n",
    "gbr_model_test_score = gbr_model.score(X_test, y_test)\n",
    "print(f\"Gradient Boosting model score on Training data: {gbr_model_train_score * 100}%\\nGradient Boosting model score on Training data: {gbr_model_test_score * 100}%\")"
   ]
  }
 ],
 "metadata": {
  "kernelspec": {
   "display_name": "Python 3",
   "language": "python",
   "name": "python3"
  },
  "language_info": {
   "codemirror_mode": {
    "name": "ipython",
    "version": 3
   },
   "file_extension": ".py",
   "mimetype": "text/x-python",
   "name": "python",
   "nbconvert_exporter": "python",
   "pygments_lexer": "ipython3",
   "version": "3.8.8"
  },
  "toc": {
   "base_numbering": 1,
   "nav_menu": {},
   "number_sections": true,
   "sideBar": true,
   "skip_h1_title": false,
   "title_cell": "Table of Contents",
   "title_sidebar": "Contents",
   "toc_cell": false,
   "toc_position": {},
   "toc_section_display": true,
   "toc_window_display": false
  }
 },
 "nbformat": 4,
 "nbformat_minor": 5
}
