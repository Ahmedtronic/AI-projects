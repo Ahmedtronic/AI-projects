{
 "cells": [
  {
   "cell_type": "markdown",
   "id": "f30cfa46",
   "metadata": {},
   "source": [
    "# Table of Contents\n",
    "<a id=\"toc\"></a>\n",
    "- [1. Project Description](#1)\n",
    "- [2. Import Necssaries Libraries](#2)\n",
    "- [3. EDA](#3)\n",
    "    - [3.1 Handling Null Values](#3.1)\n",
    "- [4. Data Preprocessing](#4)\n",
    "- [5. Feature Engineering](#5)\n",
    "- [6. Assigning Feature and target variables](#6)\n",
    "- [7. Feature Scaling](#7)\n",
    "- [8. Spliting the data into Training and Testing Data](#8)\n",
    "- [9. Modeling](#9)\n",
    "    - [9.1 Logistic Regression](#9.1)\n",
    "    - [9.2 Random Forest](#9.2)\n",
    "    - [9.3 KNN](#9.3)\n",
    "    - [9.4 Bagging](#9.4)\n",
    "    - [9.5 Gradient Boosting](#9.5)\n",
    "    - [9.6 Decision Tree](#9.6)\n",
    "    - [9.7 SVM](#9.7)\n",
    "- [10. TP, TN, FP, FN](#10)\n",
    "    - [10.1 Logistic Regression](#10.1)\n",
    "    - [10.2 Random Forest](#10.2)\n",
    "    - [10.3 KNN](#10.3)\n",
    "    - [10.4 Bagging](#10.4)\n",
    "    - [10.5 Gradient Boosting](#10.5)\n",
    "    - [10.6 Decision Tree](#10.6)\n",
    "    - [10.7 SVM](#10.7)\n",
    "- [11. Auto Machine Learning](#11)"
   ]
  },
  {
   "cell_type": "markdown",
   "id": "a25786a9",
   "metadata": {},
   "source": [
    "<a id='2'></a>\n",
    "# Import Necssaries Libraries"
   ]
  },
  {
   "cell_type": "code",
   "execution_count": 31,
   "id": "c6ce28ad",
   "metadata": {
    "ExecuteTime": {
     "end_time": "2022-01-14T17:09:19.962680Z",
     "start_time": "2022-01-14T17:09:19.942742Z"
    }
   },
   "outputs": [],
   "source": [
    "import numpy as np\n",
    "import pandas as pd\n",
    "from matplotlib import pyplot as plt\n",
    "%matplotlib inline\n",
    "import seaborn as sns\n",
    "\n",
    "from sklearn.model_selection import train_test_split, cross_val_score\n",
    "from sklearn.preprocessing import LabelEncoder, StandardScaler\n",
    "from sklearn.metrics import  confusion_matrix, classification_report, roc_curve, auc, RocCurveDisplay\n",
    "from sklearn.linear_model import LogisticRegression\n",
    "from sklearn.ensemble import RandomForestClassifier, BaggingClassifier, GradientBoostingClassifier\n",
    "from sklearn.tree import DecisionTreeClassifier\n",
    "from sklearn.neighbors import KNeighborsClassifier\n",
    "from sklearn.svm import SVC\n",
    "from tpot import TPOTClassifier\n",
    "from sklearn.naive_bayes import MultinomialNB\n",
    "import warnings\n",
    "warnings.filterwarnings(\"ignore\")"
   ]
  },
  {
   "cell_type": "markdown",
   "id": "594acfcd",
   "metadata": {},
   "source": [
    "<a id='3'></a>\n",
    "# EDA"
   ]
  },
  {
   "cell_type": "code",
   "execution_count": 32,
   "id": "ea3a8f93",
   "metadata": {
    "ExecuteTime": {
     "end_time": "2022-01-14T17:09:20.705175Z",
     "start_time": "2022-01-14T17:09:20.672266Z"
    }
   },
   "outputs": [
    {
     "data": {
      "text/html": [
       "<div>\n",
       "<style scoped>\n",
       "    .dataframe tbody tr th:only-of-type {\n",
       "        vertical-align: middle;\n",
       "    }\n",
       "\n",
       "    .dataframe tbody tr th {\n",
       "        vertical-align: top;\n",
       "    }\n",
       "\n",
       "    .dataframe thead th {\n",
       "        text-align: right;\n",
       "    }\n",
       "</style>\n",
       "<table border=\"1\" class=\"dataframe\">\n",
       "  <thead>\n",
       "    <tr style=\"text-align: right;\">\n",
       "      <th></th>\n",
       "      <th>Loan_ID</th>\n",
       "      <th>Gender</th>\n",
       "      <th>Married</th>\n",
       "      <th>Dependents</th>\n",
       "      <th>Education</th>\n",
       "      <th>Self_Employed</th>\n",
       "      <th>ApplicantIncome</th>\n",
       "      <th>CoapplicantIncome</th>\n",
       "      <th>LoanAmount</th>\n",
       "      <th>Loan_Amount_Term</th>\n",
       "      <th>Credit_History</th>\n",
       "      <th>Property_Area</th>\n",
       "      <th>Loan_Status</th>\n",
       "    </tr>\n",
       "  </thead>\n",
       "  <tbody>\n",
       "    <tr>\n",
       "      <th>0</th>\n",
       "      <td>LP001002</td>\n",
       "      <td>Male</td>\n",
       "      <td>No</td>\n",
       "      <td>0</td>\n",
       "      <td>Graduate</td>\n",
       "      <td>No</td>\n",
       "      <td>5849</td>\n",
       "      <td>0.0</td>\n",
       "      <td>NaN</td>\n",
       "      <td>360.0</td>\n",
       "      <td>1.0</td>\n",
       "      <td>Urban</td>\n",
       "      <td>Y</td>\n",
       "    </tr>\n",
       "    <tr>\n",
       "      <th>1</th>\n",
       "      <td>LP001003</td>\n",
       "      <td>Male</td>\n",
       "      <td>Yes</td>\n",
       "      <td>1</td>\n",
       "      <td>Graduate</td>\n",
       "      <td>No</td>\n",
       "      <td>4583</td>\n",
       "      <td>1508.0</td>\n",
       "      <td>128.0</td>\n",
       "      <td>360.0</td>\n",
       "      <td>1.0</td>\n",
       "      <td>Rural</td>\n",
       "      <td>N</td>\n",
       "    </tr>\n",
       "    <tr>\n",
       "      <th>2</th>\n",
       "      <td>LP001005</td>\n",
       "      <td>Male</td>\n",
       "      <td>Yes</td>\n",
       "      <td>0</td>\n",
       "      <td>Graduate</td>\n",
       "      <td>Yes</td>\n",
       "      <td>3000</td>\n",
       "      <td>0.0</td>\n",
       "      <td>66.0</td>\n",
       "      <td>360.0</td>\n",
       "      <td>1.0</td>\n",
       "      <td>Urban</td>\n",
       "      <td>Y</td>\n",
       "    </tr>\n",
       "    <tr>\n",
       "      <th>3</th>\n",
       "      <td>LP001006</td>\n",
       "      <td>Male</td>\n",
       "      <td>Yes</td>\n",
       "      <td>0</td>\n",
       "      <td>Not Graduate</td>\n",
       "      <td>No</td>\n",
       "      <td>2583</td>\n",
       "      <td>2358.0</td>\n",
       "      <td>120.0</td>\n",
       "      <td>360.0</td>\n",
       "      <td>1.0</td>\n",
       "      <td>Urban</td>\n",
       "      <td>Y</td>\n",
       "    </tr>\n",
       "    <tr>\n",
       "      <th>4</th>\n",
       "      <td>LP001008</td>\n",
       "      <td>Male</td>\n",
       "      <td>No</td>\n",
       "      <td>0</td>\n",
       "      <td>Graduate</td>\n",
       "      <td>No</td>\n",
       "      <td>6000</td>\n",
       "      <td>0.0</td>\n",
       "      <td>141.0</td>\n",
       "      <td>360.0</td>\n",
       "      <td>1.0</td>\n",
       "      <td>Urban</td>\n",
       "      <td>Y</td>\n",
       "    </tr>\n",
       "  </tbody>\n",
       "</table>\n",
       "</div>"
      ],
      "text/plain": [
       "    Loan_ID Gender Married Dependents     Education Self_Employed  \\\n",
       "0  LP001002   Male      No          0      Graduate            No   \n",
       "1  LP001003   Male     Yes          1      Graduate            No   \n",
       "2  LP001005   Male     Yes          0      Graduate           Yes   \n",
       "3  LP001006   Male     Yes          0  Not Graduate            No   \n",
       "4  LP001008   Male      No          0      Graduate            No   \n",
       "\n",
       "   ApplicantIncome  CoapplicantIncome  LoanAmount  Loan_Amount_Term  \\\n",
       "0             5849                0.0         NaN             360.0   \n",
       "1             4583             1508.0       128.0             360.0   \n",
       "2             3000                0.0        66.0             360.0   \n",
       "3             2583             2358.0       120.0             360.0   \n",
       "4             6000                0.0       141.0             360.0   \n",
       "\n",
       "   Credit_History Property_Area Loan_Status  \n",
       "0             1.0         Urban           Y  \n",
       "1             1.0         Rural           N  \n",
       "2             1.0         Urban           Y  \n",
       "3             1.0         Urban           Y  \n",
       "4             1.0         Urban           Y  "
      ]
     },
     "execution_count": 32,
     "metadata": {},
     "output_type": "execute_result"
    }
   ],
   "source": [
    "df = pd.read_csv('loan_data.csv')\n",
    "df.head()"
   ]
  },
  {
   "cell_type": "code",
   "execution_count": 33,
   "id": "db9627b4",
   "metadata": {
    "ExecuteTime": {
     "end_time": "2022-01-14T17:09:20.830540Z",
     "start_time": "2022-01-14T17:09:20.823592Z"
    }
   },
   "outputs": [
    {
     "data": {
      "text/plain": [
       "(614, 13)"
      ]
     },
     "execution_count": 33,
     "metadata": {},
     "output_type": "execute_result"
    }
   ],
   "source": [
    "df.shape"
   ]
  },
  {
   "cell_type": "code",
   "execution_count": 34,
   "id": "056441d8",
   "metadata": {
    "ExecuteTime": {
     "end_time": "2022-01-14T17:09:20.988693Z",
     "start_time": "2022-01-14T17:09:20.969744Z"
    }
   },
   "outputs": [
    {
     "data": {
      "text/html": [
       "<div>\n",
       "<style scoped>\n",
       "    .dataframe tbody tr th:only-of-type {\n",
       "        vertical-align: middle;\n",
       "    }\n",
       "\n",
       "    .dataframe tbody tr th {\n",
       "        vertical-align: top;\n",
       "    }\n",
       "\n",
       "    .dataframe thead th {\n",
       "        text-align: right;\n",
       "    }\n",
       "</style>\n",
       "<table border=\"1\" class=\"dataframe\">\n",
       "  <thead>\n",
       "    <tr style=\"text-align: right;\">\n",
       "      <th></th>\n",
       "      <th>ApplicantIncome</th>\n",
       "      <th>CoapplicantIncome</th>\n",
       "      <th>LoanAmount</th>\n",
       "      <th>Loan_Amount_Term</th>\n",
       "      <th>Credit_History</th>\n",
       "    </tr>\n",
       "  </thead>\n",
       "  <tbody>\n",
       "    <tr>\n",
       "      <th>count</th>\n",
       "      <td>614.000000</td>\n",
       "      <td>614.000000</td>\n",
       "      <td>592.000000</td>\n",
       "      <td>600.00000</td>\n",
       "      <td>564.000000</td>\n",
       "    </tr>\n",
       "    <tr>\n",
       "      <th>mean</th>\n",
       "      <td>5403.459283</td>\n",
       "      <td>1621.245798</td>\n",
       "      <td>146.412162</td>\n",
       "      <td>342.00000</td>\n",
       "      <td>0.842199</td>\n",
       "    </tr>\n",
       "    <tr>\n",
       "      <th>std</th>\n",
       "      <td>6109.041673</td>\n",
       "      <td>2926.248369</td>\n",
       "      <td>85.587325</td>\n",
       "      <td>65.12041</td>\n",
       "      <td>0.364878</td>\n",
       "    </tr>\n",
       "    <tr>\n",
       "      <th>min</th>\n",
       "      <td>150.000000</td>\n",
       "      <td>0.000000</td>\n",
       "      <td>9.000000</td>\n",
       "      <td>12.00000</td>\n",
       "      <td>0.000000</td>\n",
       "    </tr>\n",
       "    <tr>\n",
       "      <th>25%</th>\n",
       "      <td>2877.500000</td>\n",
       "      <td>0.000000</td>\n",
       "      <td>100.000000</td>\n",
       "      <td>360.00000</td>\n",
       "      <td>1.000000</td>\n",
       "    </tr>\n",
       "    <tr>\n",
       "      <th>50%</th>\n",
       "      <td>3812.500000</td>\n",
       "      <td>1188.500000</td>\n",
       "      <td>128.000000</td>\n",
       "      <td>360.00000</td>\n",
       "      <td>1.000000</td>\n",
       "    </tr>\n",
       "    <tr>\n",
       "      <th>75%</th>\n",
       "      <td>5795.000000</td>\n",
       "      <td>2297.250000</td>\n",
       "      <td>168.000000</td>\n",
       "      <td>360.00000</td>\n",
       "      <td>1.000000</td>\n",
       "    </tr>\n",
       "    <tr>\n",
       "      <th>max</th>\n",
       "      <td>81000.000000</td>\n",
       "      <td>41667.000000</td>\n",
       "      <td>700.000000</td>\n",
       "      <td>480.00000</td>\n",
       "      <td>1.000000</td>\n",
       "    </tr>\n",
       "  </tbody>\n",
       "</table>\n",
       "</div>"
      ],
      "text/plain": [
       "       ApplicantIncome  CoapplicantIncome  LoanAmount  Loan_Amount_Term  \\\n",
       "count       614.000000         614.000000  592.000000         600.00000   \n",
       "mean       5403.459283        1621.245798  146.412162         342.00000   \n",
       "std        6109.041673        2926.248369   85.587325          65.12041   \n",
       "min         150.000000           0.000000    9.000000          12.00000   \n",
       "25%        2877.500000           0.000000  100.000000         360.00000   \n",
       "50%        3812.500000        1188.500000  128.000000         360.00000   \n",
       "75%        5795.000000        2297.250000  168.000000         360.00000   \n",
       "max       81000.000000       41667.000000  700.000000         480.00000   \n",
       "\n",
       "       Credit_History  \n",
       "count      564.000000  \n",
       "mean         0.842199  \n",
       "std          0.364878  \n",
       "min          0.000000  \n",
       "25%          1.000000  \n",
       "50%          1.000000  \n",
       "75%          1.000000  \n",
       "max          1.000000  "
      ]
     },
     "execution_count": 34,
     "metadata": {},
     "output_type": "execute_result"
    }
   ],
   "source": [
    "df.describe()"
   ]
  },
  {
   "cell_type": "code",
   "execution_count": 35,
   "id": "7141c423",
   "metadata": {
    "ExecuteTime": {
     "end_time": "2022-01-14T17:09:21.129222Z",
     "start_time": "2022-01-14T17:09:21.115227Z"
    }
   },
   "outputs": [
    {
     "name": "stdout",
     "output_type": "stream",
     "text": [
      "<class 'pandas.core.frame.DataFrame'>\n",
      "RangeIndex: 614 entries, 0 to 613\n",
      "Data columns (total 13 columns):\n",
      " #   Column             Non-Null Count  Dtype  \n",
      "---  ------             --------------  -----  \n",
      " 0   Loan_ID            614 non-null    object \n",
      " 1   Gender             601 non-null    object \n",
      " 2   Married            611 non-null    object \n",
      " 3   Dependents         599 non-null    object \n",
      " 4   Education          614 non-null    object \n",
      " 5   Self_Employed      582 non-null    object \n",
      " 6   ApplicantIncome    614 non-null    int64  \n",
      " 7   CoapplicantIncome  614 non-null    float64\n",
      " 8   LoanAmount         592 non-null    float64\n",
      " 9   Loan_Amount_Term   600 non-null    float64\n",
      " 10  Credit_History     564 non-null    float64\n",
      " 11  Property_Area      614 non-null    object \n",
      " 12  Loan_Status        614 non-null    object \n",
      "dtypes: float64(4), int64(1), object(8)\n",
      "memory usage: 62.5+ KB\n"
     ]
    }
   ],
   "source": [
    "df.info()"
   ]
  },
  {
   "cell_type": "code",
   "execution_count": 36,
   "id": "bcf46ef8",
   "metadata": {
    "ExecuteTime": {
     "end_time": "2022-01-14T17:09:21.287138Z",
     "start_time": "2022-01-14T17:09:21.264199Z"
    }
   },
   "outputs": [
    {
     "data": {
      "text/plain": [
       "Loan_ID              614\n",
       "Gender                 2\n",
       "Married                2\n",
       "Dependents             4\n",
       "Education              2\n",
       "Self_Employed          2\n",
       "ApplicantIncome      505\n",
       "CoapplicantIncome    287\n",
       "LoanAmount           203\n",
       "Loan_Amount_Term      10\n",
       "Credit_History         2\n",
       "Property_Area          3\n",
       "Loan_Status            2\n",
       "dtype: int64"
      ]
     },
     "execution_count": 36,
     "metadata": {},
     "output_type": "execute_result"
    }
   ],
   "source": [
    "df.nunique()"
   ]
  },
  {
   "cell_type": "markdown",
   "id": "711e42a4",
   "metadata": {},
   "source": [
    "<a id='3.1'></a>\n",
    "## Handling Null Values"
   ]
  },
  {
   "cell_type": "code",
   "execution_count": 37,
   "id": "48903231",
   "metadata": {
    "ExecuteTime": {
     "end_time": "2022-01-14T17:09:21.568628Z",
     "start_time": "2022-01-14T17:09:21.555663Z"
    }
   },
   "outputs": [
    {
     "data": {
      "text/plain": [
       "Index(['Gender', 'Married', 'Dependents', 'Self_Employed', 'LoanAmount',\n",
       "       'Loan_Amount_Term', 'Credit_History'],\n",
       "      dtype='object')"
      ]
     },
     "execution_count": 37,
     "metadata": {},
     "output_type": "execute_result"
    }
   ],
   "source": [
    "df.columns[df.isna().any()]"
   ]
  },
  {
   "cell_type": "code",
   "execution_count": 38,
   "id": "85de31ac",
   "metadata": {
    "ExecuteTime": {
     "end_time": "2022-01-14T17:09:21.708511Z",
     "start_time": "2022-01-14T17:09:21.696548Z"
    }
   },
   "outputs": [
    {
     "data": {
      "text/plain": [
       "Loan_ID               0\n",
       "Gender               13\n",
       "Married               3\n",
       "Dependents           15\n",
       "Education             0\n",
       "Self_Employed        32\n",
       "ApplicantIncome       0\n",
       "CoapplicantIncome     0\n",
       "LoanAmount           22\n",
       "Loan_Amount_Term     14\n",
       "Credit_History       50\n",
       "Property_Area         0\n",
       "Loan_Status           0\n",
       "dtype: int64"
      ]
     },
     "execution_count": 38,
     "metadata": {},
     "output_type": "execute_result"
    }
   ],
   "source": [
    "df.isnull().sum()"
   ]
  },
  {
   "cell_type": "markdown",
   "id": "36f5f72e",
   "metadata": {},
   "source": [
    "in non-categorical columns (continous values) replace null values by mean"
   ]
  },
  {
   "cell_type": "code",
   "execution_count": 39,
   "id": "85efb880",
   "metadata": {
    "ExecuteTime": {
     "end_time": "2022-01-14T17:09:22.006154Z",
     "start_time": "2022-01-14T17:09:21.999174Z"
    }
   },
   "outputs": [],
   "source": [
    "df ['LoanAmount'] = df ['LoanAmount'].fillna(df['LoanAmount'].mean())\n",
    "df ['Loan_Amount_Term'] = df ['Loan_Amount_Term'].fillna(df['Loan_Amount_Term'].mean())"
   ]
  },
  {
   "cell_type": "markdown",
   "id": "611342f5",
   "metadata": {},
   "source": [
    "in categorical columns replace null values with the mode"
   ]
  },
  {
   "cell_type": "code",
   "execution_count": 40,
   "id": "72096595",
   "metadata": {
    "ExecuteTime": {
     "end_time": "2022-01-14T17:09:22.317611Z",
     "start_time": "2022-01-14T17:09:22.295671Z"
    }
   },
   "outputs": [],
   "source": [
    "df ['Credit_History'] = df ['Credit_History'].fillna(df['Credit_History'].mode()[0])\n",
    "df ['Gender'] = df ['Gender'].fillna(df['Gender'].mode()[0])\n",
    "df ['Married'] = df ['Married'].fillna(df['Married'].mode()[0])\n",
    "df ['Dependents'] = df ['Dependents'].fillna(df['Dependents'].mode()[0])\n",
    "df ['Self_Employed'] = df ['Self_Employed'].fillna(df['Self_Employed'].mode()[0])"
   ]
  },
  {
   "cell_type": "markdown",
   "id": "ad32c5ad",
   "metadata": {},
   "source": [
    "why not droping those null columns?<br>\n",
    "because our dataset is too small so dropping some rows will affect negativily on the model as the model needs a lot of data to give decent accuracy"
   ]
  },
  {
   "cell_type": "code",
   "execution_count": 41,
   "id": "40a6457b",
   "metadata": {
    "ExecuteTime": {
     "end_time": "2022-01-14T17:09:22.612767Z",
     "start_time": "2022-01-14T17:09:22.598773Z"
    }
   },
   "outputs": [
    {
     "data": {
      "text/plain": [
       "Loan_ID              0\n",
       "Gender               0\n",
       "Married              0\n",
       "Dependents           0\n",
       "Education            0\n",
       "Self_Employed        0\n",
       "ApplicantIncome      0\n",
       "CoapplicantIncome    0\n",
       "LoanAmount           0\n",
       "Loan_Amount_Term     0\n",
       "Credit_History       0\n",
       "Property_Area        0\n",
       "Loan_Status          0\n",
       "dtype: int64"
      ]
     },
     "execution_count": 41,
     "metadata": {},
     "output_type": "execute_result"
    }
   ],
   "source": [
    "df.isnull().sum()"
   ]
  },
  {
   "cell_type": "code",
   "execution_count": 42,
   "id": "71e5a7c6",
   "metadata": {
    "ExecuteTime": {
     "end_time": "2022-01-14T17:09:22.755316Z",
     "start_time": "2022-01-14T17:09:22.740357Z"
    }
   },
   "outputs": [
    {
     "name": "stdout",
     "output_type": "stream",
     "text": [
      "Male      502\n",
      "Female    112\n",
      "Name: Gender, dtype: int64\n",
      "--------------------------------------------------\n",
      "0     360\n",
      "1     102\n",
      "2     101\n",
      "3+     51\n",
      "Name: Dependents, dtype: int64\n",
      "--------------------------------------------------\n",
      "No     532\n",
      "Yes     82\n",
      "Name: Self_Employed, dtype: int64\n",
      "--------------------------------------------------\n",
      "Semiurban    233\n",
      "Urban        202\n",
      "Rural        179\n",
      "Name: Property_Area, dtype: int64\n",
      "--------------------------------------------------\n",
      "Yes    401\n",
      "No     213\n",
      "Name: Married, dtype: int64\n",
      "--------------------------------------------------\n",
      "Graduate        480\n",
      "Not Graduate    134\n",
      "Name: Education, dtype: int64\n"
     ]
    }
   ],
   "source": [
    "print(df.Gender.value_counts())\n",
    "print(\"-\"*50)\n",
    "print(df.Dependents.value_counts())\n",
    "print(\"-\"*50)\n",
    "print(df.Self_Employed.value_counts())\n",
    "print(\"-\"*50)\n",
    "print(df.Property_Area.value_counts())\n",
    "print(\"-\"*50)\n",
    "print(df.Married.value_counts())\n",
    "print(\"-\"*50)\n",
    "print(df.Education.value_counts())"
   ]
  },
  {
   "cell_type": "code",
   "execution_count": 43,
   "id": "1a90d9cd",
   "metadata": {
    "ExecuteTime": {
     "end_time": "2022-01-14T17:09:22.910590Z",
     "start_time": "2022-01-14T17:09:22.896628Z"
    }
   },
   "outputs": [
    {
     "data": {
      "text/html": [
       "<div>\n",
       "<style scoped>\n",
       "    .dataframe tbody tr th:only-of-type {\n",
       "        vertical-align: middle;\n",
       "    }\n",
       "\n",
       "    .dataframe tbody tr th {\n",
       "        vertical-align: top;\n",
       "    }\n",
       "\n",
       "    .dataframe thead th {\n",
       "        text-align: right;\n",
       "    }\n",
       "</style>\n",
       "<table border=\"1\" class=\"dataframe\">\n",
       "  <thead>\n",
       "    <tr style=\"text-align: right;\">\n",
       "      <th></th>\n",
       "      <th>Loan_ID</th>\n",
       "      <th>Gender</th>\n",
       "      <th>Married</th>\n",
       "      <th>Dependents</th>\n",
       "      <th>Education</th>\n",
       "      <th>Self_Employed</th>\n",
       "      <th>ApplicantIncome</th>\n",
       "      <th>CoapplicantIncome</th>\n",
       "      <th>LoanAmount</th>\n",
       "      <th>Loan_Amount_Term</th>\n",
       "      <th>Credit_History</th>\n",
       "      <th>Property_Area</th>\n",
       "      <th>Loan_Status</th>\n",
       "    </tr>\n",
       "  </thead>\n",
       "  <tbody>\n",
       "    <tr>\n",
       "      <th>0</th>\n",
       "      <td>LP001002</td>\n",
       "      <td>Male</td>\n",
       "      <td>No</td>\n",
       "      <td>0</td>\n",
       "      <td>Graduate</td>\n",
       "      <td>No</td>\n",
       "      <td>5849</td>\n",
       "      <td>0.0</td>\n",
       "      <td>146.412162</td>\n",
       "      <td>360.0</td>\n",
       "      <td>1.0</td>\n",
       "      <td>Urban</td>\n",
       "      <td>Y</td>\n",
       "    </tr>\n",
       "  </tbody>\n",
       "</table>\n",
       "</div>"
      ],
      "text/plain": [
       "    Loan_ID Gender Married Dependents Education Self_Employed  \\\n",
       "0  LP001002   Male      No          0  Graduate            No   \n",
       "\n",
       "   ApplicantIncome  CoapplicantIncome  LoanAmount  Loan_Amount_Term  \\\n",
       "0             5849                0.0  146.412162             360.0   \n",
       "\n",
       "   Credit_History Property_Area Loan_Status  \n",
       "0             1.0         Urban           Y  "
      ]
     },
     "execution_count": 43,
     "metadata": {},
     "output_type": "execute_result"
    }
   ],
   "source": [
    "df.head(1)"
   ]
  },
  {
   "cell_type": "code",
   "execution_count": 44,
   "id": "a3fe18f3",
   "metadata": {
    "ExecuteTime": {
     "end_time": "2022-01-14T17:09:23.065735Z",
     "start_time": "2022-01-14T17:09:23.046787Z"
    }
   },
   "outputs": [
    {
     "data": {
      "text/plain": [
       "['Loan_ID',\n",
       " 'Gender',\n",
       " 'Married',\n",
       " 'Dependents',\n",
       " 'Education',\n",
       " 'Self_Employed',\n",
       " 'ApplicantIncome',\n",
       " 'CoapplicantIncome',\n",
       " 'LoanAmount',\n",
       " 'Loan_Amount_Term',\n",
       " 'Credit_History',\n",
       " 'Property_Area']"
      ]
     },
     "execution_count": 44,
     "metadata": {},
     "output_type": "execute_result"
    }
   ],
   "source": [
    "FEATURES = [col for col in df.columns if col not in ['Loan_Status']]\n",
    "FEATURES"
   ]
  },
  {
   "cell_type": "code",
   "execution_count": 45,
   "id": "14a6f606",
   "metadata": {
    "ExecuteTime": {
     "end_time": "2022-01-14T17:09:23.206706Z",
     "start_time": "2022-01-14T17:09:23.192712Z"
    }
   },
   "outputs": [
    {
     "data": {
      "text/plain": [
       "['Gender',\n",
       " 'Married',\n",
       " 'Dependents',\n",
       " 'Education',\n",
       " 'Self_Employed',\n",
       " 'Loan_Amount_Term',\n",
       " 'Credit_History',\n",
       " 'Property_Area']"
      ]
     },
     "execution_count": 45,
     "metadata": {},
     "output_type": "execute_result"
    }
   ],
   "source": [
    "cat_features = [col for col in df[FEATURES] if df[col].nunique()<=25]\n",
    "cat_features"
   ]
  },
  {
   "cell_type": "code",
   "execution_count": 46,
   "id": "0531a75e",
   "metadata": {
    "ExecuteTime": {
     "end_time": "2022-01-14T17:09:23.363476Z",
     "start_time": "2022-01-14T17:09:23.348516Z"
    }
   },
   "outputs": [
    {
     "data": {
      "text/plain": [
       "['ApplicantIncome', 'CoapplicantIncome', 'LoanAmount']"
      ]
     },
     "execution_count": 46,
     "metadata": {},
     "output_type": "execute_result"
    }
   ],
   "source": [
    "cont_features = [col for col in df[FEATURES] if df[col].nunique() > 25 and col not in ['Loan_ID']]\n",
    "cont_features"
   ]
  },
  {
   "cell_type": "code",
   "execution_count": 47,
   "id": "1cb95cc6",
   "metadata": {
    "ExecuteTime": {
     "end_time": "2022-01-14T17:09:24.141915Z",
     "start_time": "2022-01-14T17:09:23.497497Z"
    }
   },
   "outputs": [
    {
     "data": {
      "image/png": "[encoded data removed]",
      "text/plain": [
       "<Figure size 1800x720 with 8 Axes>"
      ]
     },
     "metadata": {},
     "output_type": "display_data"
    }
   ],
   "source": [
    "# countplot for all catecorigal columns\n",
    "ncols = 4\n",
    "nrows = int(len(cat_features) / ncols + (len(FEATURES) % ncols > 0)) \n",
    "fig, axes = plt.subplots(nrows, ncols, figsize=(25, 10), facecolor='#EAEAF2')\n",
    "for r in range(nrows):\n",
    "    for c in range(ncols):\n",
    "            col = cat_features[r*ncols+c]\n",
    "            sns.countplot(x=df[col], ax=axes[r, c], color='#58D68D', palette='spring')\n",
    "            axes[r, c].set_ylabel('')\n",
    "            axes[r, c].set_xlabel(col, fontsize=12, fontweight='bold')\n",
    "            axes[r, c].tick_params(labelsize=10, width=0.5)\n",
    "            axes[r, c].xaxis.offsetText.set_fontsize(6)\n",
    "            axes[r, c].yaxis.offsetText.set_fontsize(8)\n",
    "plt.show()"
   ]
  },
  {
   "cell_type": "code",
   "execution_count": 48,
   "id": "5d71965f",
   "metadata": {
    "ExecuteTime": {
     "end_time": "2022-01-14T17:09:24.157841Z",
     "start_time": "2022-01-14T17:09:24.142907Z"
    }
   },
   "outputs": [
    {
     "data": {
      "text/plain": [
       "Y    422\n",
       "N    192\n",
       "Name: Loan_Status, dtype: int64"
      ]
     },
     "execution_count": 48,
     "metadata": {},
     "output_type": "execute_result"
    }
   ],
   "source": [
    "df.Loan_Status.value_counts()"
   ]
  },
  {
   "cell_type": "code",
   "execution_count": 49,
   "id": "6bd87831",
   "metadata": {
    "ExecuteTime": {
     "end_time": "2022-01-14T17:09:24.244939Z",
     "start_time": "2022-01-14T17:09:24.159835Z"
    }
   },
   "outputs": [
    {
     "data": {
      "image/png": "[encoded data removed]",
      "text/plain": [
       "<Figure size 720x432 with 1 Axes>"
      ]
     },
     "metadata": {
      "needs_background": "light"
     },
     "output_type": "display_data"
    }
   ],
   "source": [
    "plt.figure(figsize=(10,6))\n",
    "\n",
    "plt.subplot(2,2,1)\n",
    "sns.countplot(x = 'Loan_Status', data=df);"
   ]
  },
  {
   "cell_type": "code",
   "execution_count": 50,
   "id": "faa6f589",
   "metadata": {
    "ExecuteTime": {
     "end_time": "2022-01-14T17:09:24.746281Z",
     "start_time": "2022-01-14T17:09:24.245818Z"
    }
   },
   "outputs": [
    {
     "data": {
      "image/png": "[encoded data removed]",
      "text/plain": [
       "<Figure size 1008x864 with 4 Axes>"
      ]
     },
     "metadata": {
      "needs_background": "light"
     },
     "output_type": "display_data"
    }
   ],
   "source": [
    "plt.figure(figsize=(14,12))\n",
    "\n",
    "plt.subplot(2,2,1)\n",
    "sns.countplot(x = 'Property_Area', hue='Loan_Status', data=df)\n",
    "plt.subplot(2,2,2)\n",
    "sns.countplot(x='Married', hue='Loan_Status', data=df)\n",
    "plt.subplot(2,2,3)\n",
    "sns.countplot(x='Dependents', hue='Loan_Status', data=df)\n",
    "plt.subplot(2,2,4)\n",
    "sns.countplot(x='Education', hue='Loan_Status', data=df)\n",
    "\n",
    "plt.show()"
   ]
  },
  {
   "cell_type": "code",
   "execution_count": 51,
   "id": "247d64bc",
   "metadata": {
    "ExecuteTime": {
     "end_time": "2022-01-14T17:09:25.065409Z",
     "start_time": "2022-01-14T17:09:24.747229Z"
    }
   },
   "outputs": [
    {
     "data": {
      "image/png": "[encoded data removed]",
      "text/plain": [
       "<Figure size 1008x864 with 2 Axes>"
      ]
     },
     "metadata": {
      "needs_background": "light"
     },
     "output_type": "display_data"
    }
   ],
   "source": [
    "plt.figure(figsize=(14,12))\n",
    "\n",
    "plt.subplot(2,2,1)\n",
    "sns.countplot(x = 'Self_Employed', hue='Loan_Status', data=df)\n",
    "plt.subplot(2,2,2)\n",
    "sns.countplot(x='Credit_History', hue='Loan_Status', data=df)\n",
    "\n",
    "plt.show()"
   ]
  },
  {
   "cell_type": "markdown",
   "id": "50869dbf",
   "metadata": {},
   "source": [
    "- Semiurban seems to be the most property area in which they ask for loans and accept a lot. It seems that this royal area is poor or something.<br>\n",
    "- Married people apply for loans and accept more than singles\n",
    "- Graduateed Pepole are more likely to apply for loans "
   ]
  },
  {
   "cell_type": "code",
   "execution_count": 52,
   "id": "f0ba061c",
   "metadata": {
    "ExecuteTime": {
     "end_time": "2022-01-14T17:09:25.300730Z",
     "start_time": "2022-01-14T17:09:25.066374Z"
    }
   },
   "outputs": [
    {
     "data": {
      "image/png": "[encoded data removed]",
      "text/plain": [
       "<Figure size 1008x864 with 2 Axes>"
      ]
     },
     "metadata": {
      "needs_background": "light"
     },
     "output_type": "display_data"
    }
   ],
   "source": [
    "plt.figure(figsize=(14,12))\n",
    "plt.subplot(2,2,1)\n",
    "plt.xlabel('ApplicantIncome')\n",
    "plt.ylabel('Count')\n",
    "plt.hist(df.ApplicantIncome);\n",
    "plt.subplot(2,2,2)\n",
    "plt.xlabel('CoapplicantIncome')\n",
    "plt.ylabel('Count')\n",
    "plt.hist(df.CoapplicantIncome);"
   ]
  },
  {
   "cell_type": "markdown",
   "id": "1200ce86",
   "metadata": {},
   "source": [
    "most of the ApplicantIncome values in the data between (0-15000) <br>\n",
    "most of the CoapplicantIncome values in the data between (0-9000)"
   ]
  },
  {
   "cell_type": "code",
   "execution_count": 53,
   "id": "65dd32b5",
   "metadata": {
    "ExecuteTime": {
     "end_time": "2022-01-14T17:09:25.426394Z",
     "start_time": "2022-01-14T17:09:25.301728Z"
    },
    "scrolled": true
   },
   "outputs": [
    {
     "data": {
      "image/png": "[encoded data removed]",
      "text/plain": [
       "<Figure size 432x288 with 1 Axes>"
      ]
     },
     "metadata": {
      "needs_background": "light"
     },
     "output_type": "display_data"
    }
   ],
   "source": [
    "plt.hist(df.LoanAmount);"
   ]
  },
  {
   "cell_type": "markdown",
   "id": "73c7bb53",
   "metadata": {},
   "source": [
    "Most requested amounts between (100k - 200k)"
   ]
  },
  {
   "cell_type": "code",
   "execution_count": 54,
   "id": "7b24aca5",
   "metadata": {
    "ExecuteTime": {
     "end_time": "2022-01-14T17:09:25.790095Z",
     "start_time": "2022-01-14T17:09:25.427392Z"
    }
   },
   "outputs": [
    {
     "data": {
      "image/png": "[encoded data removed]",
      "text/plain": [
       "<Figure size 1008x864 with 3 Axes>"
      ]
     },
     "metadata": {
      "needs_background": "light"
     },
     "output_type": "display_data"
    }
   ],
   "source": [
    "plt.figure(figsize=(14,12))\n",
    "\n",
    "plt.subplot(3,1,1)\n",
    "sns.kdeplot(x = cont_features[0], data=df)\n",
    "plt.subplot(3,1,2)\n",
    "sns.kdeplot(x=cont_features[1], data=df)\n",
    "plt.subplot(3,1,3)\n",
    "sns.kdeplot(x=cont_features[2], data=df)\n",
    "\n",
    "plt.show()"
   ]
  },
  {
   "cell_type": "code",
   "execution_count": 55,
   "id": "f664e929",
   "metadata": {
    "ExecuteTime": {
     "end_time": "2022-01-14T17:09:30.576758Z",
     "start_time": "2022-01-14T17:09:25.790976Z"
    }
   },
   "outputs": [
    {
     "data": {
      "image/png": "[encoded data removed]",
      "text/plain": [
       "<Figure size 720x1080 with 3 Axes>"
      ]
     },
     "metadata": {
      "needs_background": "light"
     },
     "output_type": "display_data"
    }
   ],
   "source": [
    "plt.figure(figsize=(10,15))\n",
    "\n",
    "plt.subplot(3,1,1)\n",
    "sns.violinplot(y = cont_features[0], x='Loan_Status', data=df, palette='autumn')\n",
    "sns.swarmplot(y = cont_features[0], x='Loan_Status', data=df, palette='ocean')\n",
    "plt.subplot(3,1,2)\n",
    "sns.violinplot(y = cont_features[1], x='Loan_Status', data=df, palette='autumn')\n",
    "sns.swarmplot(y = cont_features[0], x='Loan_Status', data=df, palette='ocean')\n",
    "plt.subplot(3,1,3)\n",
    "sns.violinplot(y = cont_features[2], x='Loan_Status', data=df, palette='autumn')\n",
    "sns.swarmplot(y = cont_features[0], x='Loan_Status', data=df, palette='ocean')\n",
    "\n",
    "plt.show()"
   ]
  },
  {
   "cell_type": "code",
   "execution_count": 56,
   "id": "7822edd7",
   "metadata": {
    "ExecuteTime": {
     "end_time": "2022-01-14T17:09:30.829629Z",
     "start_time": "2022-01-14T17:09:30.578723Z"
    }
   },
   "outputs": [
    {
     "data": {
      "image/png": "[encoded data removed]",
      "text/plain": [
       "<Figure size 1008x864 with 3 Axes>"
      ]
     },
     "metadata": {
      "needs_background": "light"
     },
     "output_type": "display_data"
    }
   ],
   "source": [
    "plt.figure(figsize=(14,12))\n",
    "\n",
    "plt.subplot(3,1,1)\n",
    "sns.boxplot(x = cont_features[0], data=df)\n",
    "plt.subplot(3,1,2)\n",
    "sns.boxplot(x=cont_features[1], data=df)\n",
    "plt.subplot(3,1,3)\n",
    "sns.boxplot(x=cont_features[2], data=df)\n",
    "\n",
    "plt.show()"
   ]
  },
  {
   "cell_type": "markdown",
   "id": "a57d032f",
   "metadata": {},
   "source": [
    "<a id='4'></a>\n",
    "# Data Preprocessing"
   ]
  },
  {
   "cell_type": "code",
   "execution_count": 57,
   "id": "a8c7328b",
   "metadata": {
    "ExecuteTime": {
     "end_time": "2022-01-14T17:09:30.845606Z",
     "start_time": "2022-01-14T17:09:30.830685Z"
    }
   },
   "outputs": [
    {
     "data": {
      "text/html": [
       "<div>\n",
       "<style scoped>\n",
       "    .dataframe tbody tr th:only-of-type {\n",
       "        vertical-align: middle;\n",
       "    }\n",
       "\n",
       "    .dataframe tbody tr th {\n",
       "        vertical-align: top;\n",
       "    }\n",
       "\n",
       "    .dataframe thead th {\n",
       "        text-align: right;\n",
       "    }\n",
       "</style>\n",
       "<table border=\"1\" class=\"dataframe\">\n",
       "  <thead>\n",
       "    <tr style=\"text-align: right;\">\n",
       "      <th></th>\n",
       "      <th>Loan_ID</th>\n",
       "      <th>Gender</th>\n",
       "      <th>Married</th>\n",
       "      <th>Dependents</th>\n",
       "      <th>Education</th>\n",
       "      <th>Self_Employed</th>\n",
       "      <th>ApplicantIncome</th>\n",
       "      <th>CoapplicantIncome</th>\n",
       "      <th>LoanAmount</th>\n",
       "      <th>Loan_Amount_Term</th>\n",
       "      <th>Credit_History</th>\n",
       "      <th>Property_Area</th>\n",
       "      <th>Loan_Status</th>\n",
       "    </tr>\n",
       "  </thead>\n",
       "  <tbody>\n",
       "    <tr>\n",
       "      <th>0</th>\n",
       "      <td>LP001002</td>\n",
       "      <td>Male</td>\n",
       "      <td>No</td>\n",
       "      <td>0</td>\n",
       "      <td>Graduate</td>\n",
       "      <td>No</td>\n",
       "      <td>5849</td>\n",
       "      <td>0.0</td>\n",
       "      <td>146.412162</td>\n",
       "      <td>360.0</td>\n",
       "      <td>1.0</td>\n",
       "      <td>Urban</td>\n",
       "      <td>Y</td>\n",
       "    </tr>\n",
       "    <tr>\n",
       "      <th>1</th>\n",
       "      <td>LP001003</td>\n",
       "      <td>Male</td>\n",
       "      <td>Yes</td>\n",
       "      <td>1</td>\n",
       "      <td>Graduate</td>\n",
       "      <td>No</td>\n",
       "      <td>4583</td>\n",
       "      <td>1508.0</td>\n",
       "      <td>128.000000</td>\n",
       "      <td>360.0</td>\n",
       "      <td>1.0</td>\n",
       "      <td>Rural</td>\n",
       "      <td>N</td>\n",
       "    </tr>\n",
       "    <tr>\n",
       "      <th>2</th>\n",
       "      <td>LP001005</td>\n",
       "      <td>Male</td>\n",
       "      <td>Yes</td>\n",
       "      <td>0</td>\n",
       "      <td>Graduate</td>\n",
       "      <td>Yes</td>\n",
       "      <td>3000</td>\n",
       "      <td>0.0</td>\n",
       "      <td>66.000000</td>\n",
       "      <td>360.0</td>\n",
       "      <td>1.0</td>\n",
       "      <td>Urban</td>\n",
       "      <td>Y</td>\n",
       "    </tr>\n",
       "    <tr>\n",
       "      <th>3</th>\n",
       "      <td>LP001006</td>\n",
       "      <td>Male</td>\n",
       "      <td>Yes</td>\n",
       "      <td>0</td>\n",
       "      <td>Not Graduate</td>\n",
       "      <td>No</td>\n",
       "      <td>2583</td>\n",
       "      <td>2358.0</td>\n",
       "      <td>120.000000</td>\n",
       "      <td>360.0</td>\n",
       "      <td>1.0</td>\n",
       "      <td>Urban</td>\n",
       "      <td>Y</td>\n",
       "    </tr>\n",
       "    <tr>\n",
       "      <th>4</th>\n",
       "      <td>LP001008</td>\n",
       "      <td>Male</td>\n",
       "      <td>No</td>\n",
       "      <td>0</td>\n",
       "      <td>Graduate</td>\n",
       "      <td>No</td>\n",
       "      <td>6000</td>\n",
       "      <td>0.0</td>\n",
       "      <td>141.000000</td>\n",
       "      <td>360.0</td>\n",
       "      <td>1.0</td>\n",
       "      <td>Urban</td>\n",
       "      <td>Y</td>\n",
       "    </tr>\n",
       "  </tbody>\n",
       "</table>\n",
       "</div>"
      ],
      "text/plain": [
       "    Loan_ID Gender Married Dependents     Education Self_Employed  \\\n",
       "0  LP001002   Male      No          0      Graduate            No   \n",
       "1  LP001003   Male     Yes          1      Graduate            No   \n",
       "2  LP001005   Male     Yes          0      Graduate           Yes   \n",
       "3  LP001006   Male     Yes          0  Not Graduate            No   \n",
       "4  LP001008   Male      No          0      Graduate            No   \n",
       "\n",
       "   ApplicantIncome  CoapplicantIncome  LoanAmount  Loan_Amount_Term  \\\n",
       "0             5849                0.0  146.412162             360.0   \n",
       "1             4583             1508.0  128.000000             360.0   \n",
       "2             3000                0.0   66.000000             360.0   \n",
       "3             2583             2358.0  120.000000             360.0   \n",
       "4             6000                0.0  141.000000             360.0   \n",
       "\n",
       "   Credit_History Property_Area Loan_Status  \n",
       "0             1.0         Urban           Y  \n",
       "1             1.0         Rural           N  \n",
       "2             1.0         Urban           Y  \n",
       "3             1.0         Urban           Y  \n",
       "4             1.0         Urban           Y  "
      ]
     },
     "execution_count": 57,
     "metadata": {},
     "output_type": "execute_result"
    }
   ],
   "source": [
    "df.head()"
   ]
  },
  {
   "cell_type": "code",
   "execution_count": 58,
   "id": "943c6a83",
   "metadata": {
    "ExecuteTime": {
     "end_time": "2022-01-14T17:09:30.861614Z",
     "start_time": "2022-01-14T17:09:30.846602Z"
    }
   },
   "outputs": [],
   "source": [
    "df2 = df.drop('Loan_ID', axis=1) # drop loan ID as it is not an important Feature"
   ]
  },
  {
   "cell_type": "code",
   "execution_count": 59,
   "id": "22d9debe",
   "metadata": {
    "ExecuteTime": {
     "end_time": "2022-01-14T17:09:30.877552Z",
     "start_time": "2022-01-14T17:09:30.862560Z"
    }
   },
   "outputs": [
    {
     "data": {
      "text/html": [
       "<div>\n",
       "<style scoped>\n",
       "    .dataframe tbody tr th:only-of-type {\n",
       "        vertical-align: middle;\n",
       "    }\n",
       "\n",
       "    .dataframe tbody tr th {\n",
       "        vertical-align: top;\n",
       "    }\n",
       "\n",
       "    .dataframe thead th {\n",
       "        text-align: right;\n",
       "    }\n",
       "</style>\n",
       "<table border=\"1\" class=\"dataframe\">\n",
       "  <thead>\n",
       "    <tr style=\"text-align: right;\">\n",
       "      <th></th>\n",
       "      <th>Gender</th>\n",
       "      <th>Married</th>\n",
       "      <th>Dependents</th>\n",
       "      <th>Education</th>\n",
       "      <th>Self_Employed</th>\n",
       "      <th>ApplicantIncome</th>\n",
       "      <th>CoapplicantIncome</th>\n",
       "      <th>LoanAmount</th>\n",
       "      <th>Loan_Amount_Term</th>\n",
       "      <th>Credit_History</th>\n",
       "      <th>Property_Area</th>\n",
       "      <th>Loan_Status</th>\n",
       "    </tr>\n",
       "  </thead>\n",
       "  <tbody>\n",
       "    <tr>\n",
       "      <th>0</th>\n",
       "      <td>Male</td>\n",
       "      <td>No</td>\n",
       "      <td>0</td>\n",
       "      <td>Graduate</td>\n",
       "      <td>No</td>\n",
       "      <td>5849</td>\n",
       "      <td>0.0</td>\n",
       "      <td>146.412162</td>\n",
       "      <td>360.0</td>\n",
       "      <td>1.0</td>\n",
       "      <td>Urban</td>\n",
       "      <td>Y</td>\n",
       "    </tr>\n",
       "    <tr>\n",
       "      <th>1</th>\n",
       "      <td>Male</td>\n",
       "      <td>Yes</td>\n",
       "      <td>1</td>\n",
       "      <td>Graduate</td>\n",
       "      <td>No</td>\n",
       "      <td>4583</td>\n",
       "      <td>1508.0</td>\n",
       "      <td>128.000000</td>\n",
       "      <td>360.0</td>\n",
       "      <td>1.0</td>\n",
       "      <td>Rural</td>\n",
       "      <td>N</td>\n",
       "    </tr>\n",
       "    <tr>\n",
       "      <th>2</th>\n",
       "      <td>Male</td>\n",
       "      <td>Yes</td>\n",
       "      <td>0</td>\n",
       "      <td>Graduate</td>\n",
       "      <td>Yes</td>\n",
       "      <td>3000</td>\n",
       "      <td>0.0</td>\n",
       "      <td>66.000000</td>\n",
       "      <td>360.0</td>\n",
       "      <td>1.0</td>\n",
       "      <td>Urban</td>\n",
       "      <td>Y</td>\n",
       "    </tr>\n",
       "    <tr>\n",
       "      <th>3</th>\n",
       "      <td>Male</td>\n",
       "      <td>Yes</td>\n",
       "      <td>0</td>\n",
       "      <td>Not Graduate</td>\n",
       "      <td>No</td>\n",
       "      <td>2583</td>\n",
       "      <td>2358.0</td>\n",
       "      <td>120.000000</td>\n",
       "      <td>360.0</td>\n",
       "      <td>1.0</td>\n",
       "      <td>Urban</td>\n",
       "      <td>Y</td>\n",
       "    </tr>\n",
       "    <tr>\n",
       "      <th>4</th>\n",
       "      <td>Male</td>\n",
       "      <td>No</td>\n",
       "      <td>0</td>\n",
       "      <td>Graduate</td>\n",
       "      <td>No</td>\n",
       "      <td>6000</td>\n",
       "      <td>0.0</td>\n",
       "      <td>141.000000</td>\n",
       "      <td>360.0</td>\n",
       "      <td>1.0</td>\n",
       "      <td>Urban</td>\n",
       "      <td>Y</td>\n",
       "    </tr>\n",
       "  </tbody>\n",
       "</table>\n",
       "</div>"
      ],
      "text/plain": [
       "  Gender Married Dependents     Education Self_Employed  ApplicantIncome  \\\n",
       "0   Male      No          0      Graduate            No             5849   \n",
       "1   Male     Yes          1      Graduate            No             4583   \n",
       "2   Male     Yes          0      Graduate           Yes             3000   \n",
       "3   Male     Yes          0  Not Graduate            No             2583   \n",
       "4   Male      No          0      Graduate            No             6000   \n",
       "\n",
       "   CoapplicantIncome  LoanAmount  Loan_Amount_Term  Credit_History  \\\n",
       "0                0.0  146.412162             360.0             1.0   \n",
       "1             1508.0  128.000000             360.0             1.0   \n",
       "2                0.0   66.000000             360.0             1.0   \n",
       "3             2358.0  120.000000             360.0             1.0   \n",
       "4                0.0  141.000000             360.0             1.0   \n",
       "\n",
       "  Property_Area Loan_Status  \n",
       "0         Urban           Y  \n",
       "1         Rural           N  \n",
       "2         Urban           Y  \n",
       "3         Urban           Y  \n",
       "4         Urban           Y  "
      ]
     },
     "execution_count": 59,
     "metadata": {},
     "output_type": "execute_result"
    }
   ],
   "source": [
    "df2.head()"
   ]
  },
  {
   "cell_type": "markdown",
   "id": "b2444305",
   "metadata": {},
   "source": [
    "replace the binary features with 0's and 1's"
   ]
  },
  {
   "cell_type": "code",
   "execution_count": 60,
   "id": "1ade5416",
   "metadata": {
    "ExecuteTime": {
     "end_time": "2022-01-14T17:09:30.892512Z",
     "start_time": "2022-01-14T17:09:30.878517Z"
    }
   },
   "outputs": [],
   "source": [
    "df3 = df2.copy()\n",
    "df3.Gender = df3.Gender.apply(lambda x: 1 if x=='Male' else 0)\n",
    "df3.Married = df3.Married.apply(lambda x: 1 if x=='Yes' else 0)\n",
    "df3.Education = df3.Education.apply(lambda x: 1 if x=='Graduate' else 0)\n",
    "df3.Self_Employed = df3.Self_Employed.apply(lambda x: 1 if x=='Yes' else 0)\n",
    "df3.Loan_Status = df3.Loan_Status.apply(lambda x: 1 if x=='Y' else 0)"
   ]
  },
  {
   "cell_type": "code",
   "execution_count": 61,
   "id": "fed82d4e",
   "metadata": {
    "ExecuteTime": {
     "end_time": "2022-01-14T17:09:30.908478Z",
     "start_time": "2022-01-14T17:09:30.893476Z"
    }
   },
   "outputs": [
    {
     "data": {
      "text/html": [
       "<div>\n",
       "<style scoped>\n",
       "    .dataframe tbody tr th:only-of-type {\n",
       "        vertical-align: middle;\n",
       "    }\n",
       "\n",
       "    .dataframe tbody tr th {\n",
       "        vertical-align: top;\n",
       "    }\n",
       "\n",
       "    .dataframe thead th {\n",
       "        text-align: right;\n",
       "    }\n",
       "</style>\n",
       "<table border=\"1\" class=\"dataframe\">\n",
       "  <thead>\n",
       "    <tr style=\"text-align: right;\">\n",
       "      <th></th>\n",
       "      <th>Gender</th>\n",
       "      <th>Married</th>\n",
       "      <th>Dependents</th>\n",
       "      <th>Education</th>\n",
       "      <th>Self_Employed</th>\n",
       "      <th>ApplicantIncome</th>\n",
       "      <th>CoapplicantIncome</th>\n",
       "      <th>LoanAmount</th>\n",
       "      <th>Loan_Amount_Term</th>\n",
       "      <th>Credit_History</th>\n",
       "      <th>Property_Area</th>\n",
       "      <th>Loan_Status</th>\n",
       "    </tr>\n",
       "  </thead>\n",
       "  <tbody>\n",
       "    <tr>\n",
       "      <th>0</th>\n",
       "      <td>1</td>\n",
       "      <td>0</td>\n",
       "      <td>0</td>\n",
       "      <td>1</td>\n",
       "      <td>0</td>\n",
       "      <td>5849</td>\n",
       "      <td>0.0</td>\n",
       "      <td>146.412162</td>\n",
       "      <td>360.0</td>\n",
       "      <td>1.0</td>\n",
       "      <td>Urban</td>\n",
       "      <td>1</td>\n",
       "    </tr>\n",
       "    <tr>\n",
       "      <th>1</th>\n",
       "      <td>1</td>\n",
       "      <td>1</td>\n",
       "      <td>1</td>\n",
       "      <td>1</td>\n",
       "      <td>0</td>\n",
       "      <td>4583</td>\n",
       "      <td>1508.0</td>\n",
       "      <td>128.000000</td>\n",
       "      <td>360.0</td>\n",
       "      <td>1.0</td>\n",
       "      <td>Rural</td>\n",
       "      <td>0</td>\n",
       "    </tr>\n",
       "    <tr>\n",
       "      <th>2</th>\n",
       "      <td>1</td>\n",
       "      <td>1</td>\n",
       "      <td>0</td>\n",
       "      <td>1</td>\n",
       "      <td>1</td>\n",
       "      <td>3000</td>\n",
       "      <td>0.0</td>\n",
       "      <td>66.000000</td>\n",
       "      <td>360.0</td>\n",
       "      <td>1.0</td>\n",
       "      <td>Urban</td>\n",
       "      <td>1</td>\n",
       "    </tr>\n",
       "    <tr>\n",
       "      <th>3</th>\n",
       "      <td>1</td>\n",
       "      <td>1</td>\n",
       "      <td>0</td>\n",
       "      <td>0</td>\n",
       "      <td>0</td>\n",
       "      <td>2583</td>\n",
       "      <td>2358.0</td>\n",
       "      <td>120.000000</td>\n",
       "      <td>360.0</td>\n",
       "      <td>1.0</td>\n",
       "      <td>Urban</td>\n",
       "      <td>1</td>\n",
       "    </tr>\n",
       "    <tr>\n",
       "      <th>4</th>\n",
       "      <td>1</td>\n",
       "      <td>0</td>\n",
       "      <td>0</td>\n",
       "      <td>1</td>\n",
       "      <td>0</td>\n",
       "      <td>6000</td>\n",
       "      <td>0.0</td>\n",
       "      <td>141.000000</td>\n",
       "      <td>360.0</td>\n",
       "      <td>1.0</td>\n",
       "      <td>Urban</td>\n",
       "      <td>1</td>\n",
       "    </tr>\n",
       "  </tbody>\n",
       "</table>\n",
       "</div>"
      ],
      "text/plain": [
       "   Gender  Married Dependents  Education  Self_Employed  ApplicantIncome  \\\n",
       "0       1        0          0          1              0             5849   \n",
       "1       1        1          1          1              0             4583   \n",
       "2       1        1          0          1              1             3000   \n",
       "3       1        1          0          0              0             2583   \n",
       "4       1        0          0          1              0             6000   \n",
       "\n",
       "   CoapplicantIncome  LoanAmount  Loan_Amount_Term  Credit_History  \\\n",
       "0                0.0  146.412162             360.0             1.0   \n",
       "1             1508.0  128.000000             360.0             1.0   \n",
       "2                0.0   66.000000             360.0             1.0   \n",
       "3             2358.0  120.000000             360.0             1.0   \n",
       "4                0.0  141.000000             360.0             1.0   \n",
       "\n",
       "  Property_Area  Loan_Status  \n",
       "0         Urban            1  \n",
       "1         Rural            0  \n",
       "2         Urban            1  \n",
       "3         Urban            1  \n",
       "4         Urban            1  "
      ]
     },
     "execution_count": 61,
     "metadata": {},
     "output_type": "execute_result"
    }
   ],
   "source": [
    "df3.head()"
   ]
  },
  {
   "cell_type": "markdown",
   "id": "82c727d0",
   "metadata": {},
   "source": [
    "**apply one hot encoder on Property_Area**"
   ]
  },
  {
   "cell_type": "code",
   "execution_count": 62,
   "id": "113199da",
   "metadata": {
    "ExecuteTime": {
     "end_time": "2022-01-14T17:09:30.923428Z",
     "start_time": "2022-01-14T17:09:30.909434Z"
    }
   },
   "outputs": [
    {
     "data": {
      "text/html": [
       "<div>\n",
       "<style scoped>\n",
       "    .dataframe tbody tr th:only-of-type {\n",
       "        vertical-align: middle;\n",
       "    }\n",
       "\n",
       "    .dataframe tbody tr th {\n",
       "        vertical-align: top;\n",
       "    }\n",
       "\n",
       "    .dataframe thead th {\n",
       "        text-align: right;\n",
       "    }\n",
       "</style>\n",
       "<table border=\"1\" class=\"dataframe\">\n",
       "  <thead>\n",
       "    <tr style=\"text-align: right;\">\n",
       "      <th></th>\n",
       "      <th>Rural</th>\n",
       "      <th>Semiurban</th>\n",
       "      <th>Urban</th>\n",
       "    </tr>\n",
       "  </thead>\n",
       "  <tbody>\n",
       "    <tr>\n",
       "      <th>0</th>\n",
       "      <td>0</td>\n",
       "      <td>0</td>\n",
       "      <td>1</td>\n",
       "    </tr>\n",
       "    <tr>\n",
       "      <th>1</th>\n",
       "      <td>1</td>\n",
       "      <td>0</td>\n",
       "      <td>0</td>\n",
       "    </tr>\n",
       "    <tr>\n",
       "      <th>2</th>\n",
       "      <td>0</td>\n",
       "      <td>0</td>\n",
       "      <td>1</td>\n",
       "    </tr>\n",
       "    <tr>\n",
       "      <th>3</th>\n",
       "      <td>0</td>\n",
       "      <td>0</td>\n",
       "      <td>1</td>\n",
       "    </tr>\n",
       "    <tr>\n",
       "      <th>4</th>\n",
       "      <td>0</td>\n",
       "      <td>0</td>\n",
       "      <td>1</td>\n",
       "    </tr>\n",
       "    <tr>\n",
       "      <th>...</th>\n",
       "      <td>...</td>\n",
       "      <td>...</td>\n",
       "      <td>...</td>\n",
       "    </tr>\n",
       "    <tr>\n",
       "      <th>609</th>\n",
       "      <td>1</td>\n",
       "      <td>0</td>\n",
       "      <td>0</td>\n",
       "    </tr>\n",
       "    <tr>\n",
       "      <th>610</th>\n",
       "      <td>1</td>\n",
       "      <td>0</td>\n",
       "      <td>0</td>\n",
       "    </tr>\n",
       "    <tr>\n",
       "      <th>611</th>\n",
       "      <td>0</td>\n",
       "      <td>0</td>\n",
       "      <td>1</td>\n",
       "    </tr>\n",
       "    <tr>\n",
       "      <th>612</th>\n",
       "      <td>0</td>\n",
       "      <td>0</td>\n",
       "      <td>1</td>\n",
       "    </tr>\n",
       "    <tr>\n",
       "      <th>613</th>\n",
       "      <td>0</td>\n",
       "      <td>1</td>\n",
       "      <td>0</td>\n",
       "    </tr>\n",
       "  </tbody>\n",
       "</table>\n",
       "<p>614 rows × 3 columns</p>\n",
       "</div>"
      ],
      "text/plain": [
       "     Rural  Semiurban  Urban\n",
       "0        0          0      1\n",
       "1        1          0      0\n",
       "2        0          0      1\n",
       "3        0          0      1\n",
       "4        0          0      1\n",
       "..     ...        ...    ...\n",
       "609      1          0      0\n",
       "610      1          0      0\n",
       "611      0          0      1\n",
       "612      0          0      1\n",
       "613      0          1      0\n",
       "\n",
       "[614 rows x 3 columns]"
      ]
     },
     "execution_count": 62,
     "metadata": {},
     "output_type": "execute_result"
    }
   ],
   "source": [
    "dummies = pd.get_dummies(df.Property_Area)\n",
    "dummies"
   ]
  },
  {
   "cell_type": "code",
   "execution_count": 63,
   "id": "b3b6c1fb",
   "metadata": {
    "ExecuteTime": {
     "end_time": "2022-01-14T17:09:30.939395Z",
     "start_time": "2022-01-14T17:09:30.924405Z"
    }
   },
   "outputs": [
    {
     "data": {
      "text/html": [
       "<div>\n",
       "<style scoped>\n",
       "    .dataframe tbody tr th:only-of-type {\n",
       "        vertical-align: middle;\n",
       "    }\n",
       "\n",
       "    .dataframe tbody tr th {\n",
       "        vertical-align: top;\n",
       "    }\n",
       "\n",
       "    .dataframe thead th {\n",
       "        text-align: right;\n",
       "    }\n",
       "</style>\n",
       "<table border=\"1\" class=\"dataframe\">\n",
       "  <thead>\n",
       "    <tr style=\"text-align: right;\">\n",
       "      <th></th>\n",
       "      <th>Gender</th>\n",
       "      <th>Married</th>\n",
       "      <th>Dependents</th>\n",
       "      <th>Education</th>\n",
       "      <th>Self_Employed</th>\n",
       "      <th>ApplicantIncome</th>\n",
       "      <th>CoapplicantIncome</th>\n",
       "      <th>LoanAmount</th>\n",
       "      <th>Loan_Amount_Term</th>\n",
       "      <th>Credit_History</th>\n",
       "      <th>Property_Area</th>\n",
       "      <th>Loan_Status</th>\n",
       "      <th>Rural</th>\n",
       "      <th>Semiurban</th>\n",
       "      <th>Urban</th>\n",
       "    </tr>\n",
       "  </thead>\n",
       "  <tbody>\n",
       "    <tr>\n",
       "      <th>0</th>\n",
       "      <td>1</td>\n",
       "      <td>0</td>\n",
       "      <td>0</td>\n",
       "      <td>1</td>\n",
       "      <td>0</td>\n",
       "      <td>5849</td>\n",
       "      <td>0.0</td>\n",
       "      <td>146.412162</td>\n",
       "      <td>360.0</td>\n",
       "      <td>1.0</td>\n",
       "      <td>Urban</td>\n",
       "      <td>1</td>\n",
       "      <td>0</td>\n",
       "      <td>0</td>\n",
       "      <td>1</td>\n",
       "    </tr>\n",
       "    <tr>\n",
       "      <th>1</th>\n",
       "      <td>1</td>\n",
       "      <td>1</td>\n",
       "      <td>1</td>\n",
       "      <td>1</td>\n",
       "      <td>0</td>\n",
       "      <td>4583</td>\n",
       "      <td>1508.0</td>\n",
       "      <td>128.000000</td>\n",
       "      <td>360.0</td>\n",
       "      <td>1.0</td>\n",
       "      <td>Rural</td>\n",
       "      <td>0</td>\n",
       "      <td>1</td>\n",
       "      <td>0</td>\n",
       "      <td>0</td>\n",
       "    </tr>\n",
       "    <tr>\n",
       "      <th>2</th>\n",
       "      <td>1</td>\n",
       "      <td>1</td>\n",
       "      <td>0</td>\n",
       "      <td>1</td>\n",
       "      <td>1</td>\n",
       "      <td>3000</td>\n",
       "      <td>0.0</td>\n",
       "      <td>66.000000</td>\n",
       "      <td>360.0</td>\n",
       "      <td>1.0</td>\n",
       "      <td>Urban</td>\n",
       "      <td>1</td>\n",
       "      <td>0</td>\n",
       "      <td>0</td>\n",
       "      <td>1</td>\n",
       "    </tr>\n",
       "    <tr>\n",
       "      <th>3</th>\n",
       "      <td>1</td>\n",
       "      <td>1</td>\n",
       "      <td>0</td>\n",
       "      <td>0</td>\n",
       "      <td>0</td>\n",
       "      <td>2583</td>\n",
       "      <td>2358.0</td>\n",
       "      <td>120.000000</td>\n",
       "      <td>360.0</td>\n",
       "      <td>1.0</td>\n",
       "      <td>Urban</td>\n",
       "      <td>1</td>\n",
       "      <td>0</td>\n",
       "      <td>0</td>\n",
       "      <td>1</td>\n",
       "    </tr>\n",
       "    <tr>\n",
       "      <th>4</th>\n",
       "      <td>1</td>\n",
       "      <td>0</td>\n",
       "      <td>0</td>\n",
       "      <td>1</td>\n",
       "      <td>0</td>\n",
       "      <td>6000</td>\n",
       "      <td>0.0</td>\n",
       "      <td>141.000000</td>\n",
       "      <td>360.0</td>\n",
       "      <td>1.0</td>\n",
       "      <td>Urban</td>\n",
       "      <td>1</td>\n",
       "      <td>0</td>\n",
       "      <td>0</td>\n",
       "      <td>1</td>\n",
       "    </tr>\n",
       "  </tbody>\n",
       "</table>\n",
       "</div>"
      ],
      "text/plain": [
       "   Gender  Married Dependents  Education  Self_Employed  ApplicantIncome  \\\n",
       "0       1        0          0          1              0             5849   \n",
       "1       1        1          1          1              0             4583   \n",
       "2       1        1          0          1              1             3000   \n",
       "3       1        1          0          0              0             2583   \n",
       "4       1        0          0          1              0             6000   \n",
       "\n",
       "   CoapplicantIncome  LoanAmount  Loan_Amount_Term  Credit_History  \\\n",
       "0                0.0  146.412162             360.0             1.0   \n",
       "1             1508.0  128.000000             360.0             1.0   \n",
       "2                0.0   66.000000             360.0             1.0   \n",
       "3             2358.0  120.000000             360.0             1.0   \n",
       "4                0.0  141.000000             360.0             1.0   \n",
       "\n",
       "  Property_Area  Loan_Status  Rural  Semiurban  Urban  \n",
       "0         Urban            1      0          0      1  \n",
       "1         Rural            0      1          0      0  \n",
       "2         Urban            1      0          0      1  \n",
       "3         Urban            1      0          0      1  \n",
       "4         Urban            1      0          0      1  "
      ]
     },
     "execution_count": 63,
     "metadata": {},
     "output_type": "execute_result"
    }
   ],
   "source": [
    "df4 = pd.concat([df3, dummies], axis=1)\n",
    "df4.head()"
   ]
  },
  {
   "cell_type": "code",
   "execution_count": 64,
   "id": "85be2d49",
   "metadata": {
    "ExecuteTime": {
     "end_time": "2022-01-14T17:09:30.955313Z",
     "start_time": "2022-01-14T17:09:30.940351Z"
    }
   },
   "outputs": [
    {
     "data": {
      "text/html": [
       "<div>\n",
       "<style scoped>\n",
       "    .dataframe tbody tr th:only-of-type {\n",
       "        vertical-align: middle;\n",
       "    }\n",
       "\n",
       "    .dataframe tbody tr th {\n",
       "        vertical-align: top;\n",
       "    }\n",
       "\n",
       "    .dataframe thead th {\n",
       "        text-align: right;\n",
       "    }\n",
       "</style>\n",
       "<table border=\"1\" class=\"dataframe\">\n",
       "  <thead>\n",
       "    <tr style=\"text-align: right;\">\n",
       "      <th></th>\n",
       "      <th>Gender</th>\n",
       "      <th>Married</th>\n",
       "      <th>Dependents</th>\n",
       "      <th>Education</th>\n",
       "      <th>Self_Employed</th>\n",
       "      <th>ApplicantIncome</th>\n",
       "      <th>CoapplicantIncome</th>\n",
       "      <th>LoanAmount</th>\n",
       "      <th>Loan_Amount_Term</th>\n",
       "      <th>Credit_History</th>\n",
       "      <th>Loan_Status</th>\n",
       "      <th>Rural</th>\n",
       "      <th>Semiurban</th>\n",
       "    </tr>\n",
       "  </thead>\n",
       "  <tbody>\n",
       "    <tr>\n",
       "      <th>0</th>\n",
       "      <td>1</td>\n",
       "      <td>0</td>\n",
       "      <td>0</td>\n",
       "      <td>1</td>\n",
       "      <td>0</td>\n",
       "      <td>5849</td>\n",
       "      <td>0.0</td>\n",
       "      <td>146.412162</td>\n",
       "      <td>360.0</td>\n",
       "      <td>1.0</td>\n",
       "      <td>1</td>\n",
       "      <td>0</td>\n",
       "      <td>0</td>\n",
       "    </tr>\n",
       "    <tr>\n",
       "      <th>1</th>\n",
       "      <td>1</td>\n",
       "      <td>1</td>\n",
       "      <td>1</td>\n",
       "      <td>1</td>\n",
       "      <td>0</td>\n",
       "      <td>4583</td>\n",
       "      <td>1508.0</td>\n",
       "      <td>128.000000</td>\n",
       "      <td>360.0</td>\n",
       "      <td>1.0</td>\n",
       "      <td>0</td>\n",
       "      <td>1</td>\n",
       "      <td>0</td>\n",
       "    </tr>\n",
       "    <tr>\n",
       "      <th>2</th>\n",
       "      <td>1</td>\n",
       "      <td>1</td>\n",
       "      <td>0</td>\n",
       "      <td>1</td>\n",
       "      <td>1</td>\n",
       "      <td>3000</td>\n",
       "      <td>0.0</td>\n",
       "      <td>66.000000</td>\n",
       "      <td>360.0</td>\n",
       "      <td>1.0</td>\n",
       "      <td>1</td>\n",
       "      <td>0</td>\n",
       "      <td>0</td>\n",
       "    </tr>\n",
       "    <tr>\n",
       "      <th>3</th>\n",
       "      <td>1</td>\n",
       "      <td>1</td>\n",
       "      <td>0</td>\n",
       "      <td>0</td>\n",
       "      <td>0</td>\n",
       "      <td>2583</td>\n",
       "      <td>2358.0</td>\n",
       "      <td>120.000000</td>\n",
       "      <td>360.0</td>\n",
       "      <td>1.0</td>\n",
       "      <td>1</td>\n",
       "      <td>0</td>\n",
       "      <td>0</td>\n",
       "    </tr>\n",
       "    <tr>\n",
       "      <th>4</th>\n",
       "      <td>1</td>\n",
       "      <td>0</td>\n",
       "      <td>0</td>\n",
       "      <td>1</td>\n",
       "      <td>0</td>\n",
       "      <td>6000</td>\n",
       "      <td>0.0</td>\n",
       "      <td>141.000000</td>\n",
       "      <td>360.0</td>\n",
       "      <td>1.0</td>\n",
       "      <td>1</td>\n",
       "      <td>0</td>\n",
       "      <td>0</td>\n",
       "    </tr>\n",
       "  </tbody>\n",
       "</table>\n",
       "</div>"
      ],
      "text/plain": [
       "   Gender  Married Dependents  Education  Self_Employed  ApplicantIncome  \\\n",
       "0       1        0          0          1              0             5849   \n",
       "1       1        1          1          1              0             4583   \n",
       "2       1        1          0          1              1             3000   \n",
       "3       1        1          0          0              0             2583   \n",
       "4       1        0          0          1              0             6000   \n",
       "\n",
       "   CoapplicantIncome  LoanAmount  Loan_Amount_Term  Credit_History  \\\n",
       "0                0.0  146.412162             360.0             1.0   \n",
       "1             1508.0  128.000000             360.0             1.0   \n",
       "2                0.0   66.000000             360.0             1.0   \n",
       "3             2358.0  120.000000             360.0             1.0   \n",
       "4                0.0  141.000000             360.0             1.0   \n",
       "\n",
       "   Loan_Status  Rural  Semiurban  \n",
       "0            1      0          0  \n",
       "1            0      1          0  \n",
       "2            1      0          0  \n",
       "3            1      0          0  \n",
       "4            1      0          0  "
      ]
     },
     "execution_count": 64,
     "metadata": {},
     "output_type": "execute_result"
    }
   ],
   "source": [
    "df4.drop(['Property_Area', 'Urban'], axis=1, inplace=True)\n",
    "df4.head()"
   ]
  },
  {
   "cell_type": "code",
   "execution_count": 65,
   "id": "a8c1ad98",
   "metadata": {
    "ExecuteTime": {
     "end_time": "2022-01-14T17:09:30.986261Z",
     "start_time": "2022-01-14T17:09:30.956309Z"
    }
   },
   "outputs": [
    {
     "data": {
      "text/html": [
       "<div>\n",
       "<style scoped>\n",
       "    .dataframe tbody tr th:only-of-type {\n",
       "        vertical-align: middle;\n",
       "    }\n",
       "\n",
       "    .dataframe tbody tr th {\n",
       "        vertical-align: top;\n",
       "    }\n",
       "\n",
       "    .dataframe thead th {\n",
       "        text-align: right;\n",
       "    }\n",
       "</style>\n",
       "<table border=\"1\" class=\"dataframe\">\n",
       "  <thead>\n",
       "    <tr style=\"text-align: right;\">\n",
       "      <th></th>\n",
       "      <th>Gender</th>\n",
       "      <th>Married</th>\n",
       "      <th>Education</th>\n",
       "      <th>Self_Employed</th>\n",
       "      <th>ApplicantIncome</th>\n",
       "      <th>CoapplicantIncome</th>\n",
       "      <th>LoanAmount</th>\n",
       "      <th>Loan_Amount_Term</th>\n",
       "      <th>Credit_History</th>\n",
       "      <th>Loan_Status</th>\n",
       "      <th>Rural</th>\n",
       "      <th>Semiurban</th>\n",
       "    </tr>\n",
       "  </thead>\n",
       "  <tbody>\n",
       "    <tr>\n",
       "      <th>Gender</th>\n",
       "      <td>1.000000</td>\n",
       "      <td>0.364569</td>\n",
       "      <td>-0.045364</td>\n",
       "      <td>-0.000525</td>\n",
       "      <td>0.058809</td>\n",
       "      <td>0.082912</td>\n",
       "      <td>0.107930</td>\n",
       "      <td>-0.073567</td>\n",
       "      <td>0.009170</td>\n",
       "      <td>0.017987</td>\n",
       "      <td>0.080283</td>\n",
       "      <td>-0.108623</td>\n",
       "    </tr>\n",
       "    <tr>\n",
       "      <th>Married</th>\n",
       "      <td>0.364569</td>\n",
       "      <td>1.000000</td>\n",
       "      <td>-0.012304</td>\n",
       "      <td>0.004489</td>\n",
       "      <td>0.051708</td>\n",
       "      <td>0.075948</td>\n",
       "      <td>0.147141</td>\n",
       "      <td>-0.100863</td>\n",
       "      <td>0.010938</td>\n",
       "      <td>0.091478</td>\n",
       "      <td>-0.006805</td>\n",
       "      <td>0.005845</td>\n",
       "    </tr>\n",
       "    <tr>\n",
       "      <th>Education</th>\n",
       "      <td>-0.045364</td>\n",
       "      <td>-0.012304</td>\n",
       "      <td>1.000000</td>\n",
       "      <td>0.010383</td>\n",
       "      <td>0.140760</td>\n",
       "      <td>0.062290</td>\n",
       "      <td>0.166998</td>\n",
       "      <td>0.077242</td>\n",
       "      <td>0.073658</td>\n",
       "      <td>0.085884</td>\n",
       "      <td>-0.077520</td>\n",
       "      <td>0.039410</td>\n",
       "    </tr>\n",
       "    <tr>\n",
       "      <th>Self_Employed</th>\n",
       "      <td>-0.000525</td>\n",
       "      <td>0.004489</td>\n",
       "      <td>0.010383</td>\n",
       "      <td>1.000000</td>\n",
       "      <td>0.127180</td>\n",
       "      <td>-0.016100</td>\n",
       "      <td>0.115260</td>\n",
       "      <td>-0.033943</td>\n",
       "      <td>-0.001550</td>\n",
       "      <td>-0.003700</td>\n",
       "      <td>0.022065</td>\n",
       "      <td>0.008710</td>\n",
       "    </tr>\n",
       "    <tr>\n",
       "      <th>ApplicantIncome</th>\n",
       "      <td>0.058809</td>\n",
       "      <td>0.051708</td>\n",
       "      <td>0.140760</td>\n",
       "      <td>0.127180</td>\n",
       "      <td>1.000000</td>\n",
       "      <td>-0.116605</td>\n",
       "      <td>0.565620</td>\n",
       "      <td>-0.045242</td>\n",
       "      <td>-0.018615</td>\n",
       "      <td>-0.004710</td>\n",
       "      <td>0.015829</td>\n",
       "      <td>-0.014246</td>\n",
       "    </tr>\n",
       "    <tr>\n",
       "      <th>CoapplicantIncome</th>\n",
       "      <td>0.082912</td>\n",
       "      <td>0.075948</td>\n",
       "      <td>0.062290</td>\n",
       "      <td>-0.016100</td>\n",
       "      <td>-0.116605</td>\n",
       "      <td>1.000000</td>\n",
       "      <td>0.187828</td>\n",
       "      <td>-0.059675</td>\n",
       "      <td>0.011134</td>\n",
       "      <td>-0.059187</td>\n",
       "      <td>0.005329</td>\n",
       "      <td>-0.027044</td>\n",
       "    </tr>\n",
       "    <tr>\n",
       "      <th>LoanAmount</th>\n",
       "      <td>0.107930</td>\n",
       "      <td>0.147141</td>\n",
       "      <td>0.166998</td>\n",
       "      <td>0.115260</td>\n",
       "      <td>0.565620</td>\n",
       "      <td>0.187828</td>\n",
       "      <td>1.000000</td>\n",
       "      <td>0.038801</td>\n",
       "      <td>-0.001431</td>\n",
       "      <td>-0.036416</td>\n",
       "      <td>0.043178</td>\n",
       "      <td>-0.008273</td>\n",
       "    </tr>\n",
       "    <tr>\n",
       "      <th>Loan_Amount_Term</th>\n",
       "      <td>-0.073567</td>\n",
       "      <td>-0.100863</td>\n",
       "      <td>0.077242</td>\n",
       "      <td>-0.033943</td>\n",
       "      <td>-0.045242</td>\n",
       "      <td>-0.059675</td>\n",
       "      <td>0.038801</td>\n",
       "      <td>1.000000</td>\n",
       "      <td>0.000432</td>\n",
       "      <td>-0.020974</td>\n",
       "      <td>0.034433</td>\n",
       "      <td>0.061365</td>\n",
       "    </tr>\n",
       "    <tr>\n",
       "      <th>Credit_History</th>\n",
       "      <td>0.009170</td>\n",
       "      <td>0.010938</td>\n",
       "      <td>0.073658</td>\n",
       "      <td>-0.001550</td>\n",
       "      <td>-0.018615</td>\n",
       "      <td>0.011134</td>\n",
       "      <td>-0.001431</td>\n",
       "      <td>0.000432</td>\n",
       "      <td>1.000000</td>\n",
       "      <td>0.540556</td>\n",
       "      <td>-0.020906</td>\n",
       "      <td>0.035976</td>\n",
       "    </tr>\n",
       "    <tr>\n",
       "      <th>Loan_Status</th>\n",
       "      <td>0.017987</td>\n",
       "      <td>0.091478</td>\n",
       "      <td>0.085884</td>\n",
       "      <td>-0.003700</td>\n",
       "      <td>-0.004710</td>\n",
       "      <td>-0.059187</td>\n",
       "      <td>-0.036416</td>\n",
       "      <td>-0.020974</td>\n",
       "      <td>0.540556</td>\n",
       "      <td>1.000000</td>\n",
       "      <td>-0.100694</td>\n",
       "      <td>0.136540</td>\n",
       "    </tr>\n",
       "    <tr>\n",
       "      <th>Rural</th>\n",
       "      <td>0.080283</td>\n",
       "      <td>-0.006805</td>\n",
       "      <td>-0.077520</td>\n",
       "      <td>0.022065</td>\n",
       "      <td>0.015829</td>\n",
       "      <td>0.005329</td>\n",
       "      <td>0.043178</td>\n",
       "      <td>0.034433</td>\n",
       "      <td>-0.020906</td>\n",
       "      <td>-0.100694</td>\n",
       "      <td>1.000000</td>\n",
       "      <td>-0.501646</td>\n",
       "    </tr>\n",
       "    <tr>\n",
       "      <th>Semiurban</th>\n",
       "      <td>-0.108623</td>\n",
       "      <td>0.005845</td>\n",
       "      <td>0.039410</td>\n",
       "      <td>0.008710</td>\n",
       "      <td>-0.014246</td>\n",
       "      <td>-0.027044</td>\n",
       "      <td>-0.008273</td>\n",
       "      <td>0.061365</td>\n",
       "      <td>0.035976</td>\n",
       "      <td>0.136540</td>\n",
       "      <td>-0.501646</td>\n",
       "      <td>1.000000</td>\n",
       "    </tr>\n",
       "  </tbody>\n",
       "</table>\n",
       "</div>"
      ],
      "text/plain": [
       "                     Gender   Married  Education  Self_Employed  \\\n",
       "Gender             1.000000  0.364569  -0.045364      -0.000525   \n",
       "Married            0.364569  1.000000  -0.012304       0.004489   \n",
       "Education         -0.045364 -0.012304   1.000000       0.010383   \n",
       "Self_Employed     -0.000525  0.004489   0.010383       1.000000   \n",
       "ApplicantIncome    0.058809  0.051708   0.140760       0.127180   \n",
       "CoapplicantIncome  0.082912  0.075948   0.062290      -0.016100   \n",
       "LoanAmount         0.107930  0.147141   0.166998       0.115260   \n",
       "Loan_Amount_Term  -0.073567 -0.100863   0.077242      -0.033943   \n",
       "Credit_History     0.009170  0.010938   0.073658      -0.001550   \n",
       "Loan_Status        0.017987  0.091478   0.085884      -0.003700   \n",
       "Rural              0.080283 -0.006805  -0.077520       0.022065   \n",
       "Semiurban         -0.108623  0.005845   0.039410       0.008710   \n",
       "\n",
       "                   ApplicantIncome  CoapplicantIncome  LoanAmount  \\\n",
       "Gender                    0.058809           0.082912    0.107930   \n",
       "Married                   0.051708           0.075948    0.147141   \n",
       "Education                 0.140760           0.062290    0.166998   \n",
       "Self_Employed             0.127180          -0.016100    0.115260   \n",
       "ApplicantIncome           1.000000          -0.116605    0.565620   \n",
       "CoapplicantIncome        -0.116605           1.000000    0.187828   \n",
       "LoanAmount                0.565620           0.187828    1.000000   \n",
       "Loan_Amount_Term         -0.045242          -0.059675    0.038801   \n",
       "Credit_History           -0.018615           0.011134   -0.001431   \n",
       "Loan_Status              -0.004710          -0.059187   -0.036416   \n",
       "Rural                     0.015829           0.005329    0.043178   \n",
       "Semiurban                -0.014246          -0.027044   -0.008273   \n",
       "\n",
       "                   Loan_Amount_Term  Credit_History  Loan_Status     Rural  \\\n",
       "Gender                    -0.073567        0.009170     0.017987  0.080283   \n",
       "Married                   -0.100863        0.010938     0.091478 -0.006805   \n",
       "Education                  0.077242        0.073658     0.085884 -0.077520   \n",
       "Self_Employed             -0.033943       -0.001550    -0.003700  0.022065   \n",
       "ApplicantIncome           -0.045242       -0.018615    -0.004710  0.015829   \n",
       "CoapplicantIncome         -0.059675        0.011134    -0.059187  0.005329   \n",
       "LoanAmount                 0.038801       -0.001431    -0.036416  0.043178   \n",
       "Loan_Amount_Term           1.000000        0.000432    -0.020974  0.034433   \n",
       "Credit_History             0.000432        1.000000     0.540556 -0.020906   \n",
       "Loan_Status               -0.020974        0.540556     1.000000 -0.100694   \n",
       "Rural                      0.034433       -0.020906    -0.100694  1.000000   \n",
       "Semiurban                  0.061365        0.035976     0.136540 -0.501646   \n",
       "\n",
       "                   Semiurban  \n",
       "Gender             -0.108623  \n",
       "Married             0.005845  \n",
       "Education           0.039410  \n",
       "Self_Employed       0.008710  \n",
       "ApplicantIncome    -0.014246  \n",
       "CoapplicantIncome  -0.027044  \n",
       "LoanAmount         -0.008273  \n",
       "Loan_Amount_Term    0.061365  \n",
       "Credit_History      0.035976  \n",
       "Loan_Status         0.136540  \n",
       "Rural              -0.501646  \n",
       "Semiurban           1.000000  "
      ]
     },
     "execution_count": 65,
     "metadata": {},
     "output_type": "execute_result"
    }
   ],
   "source": [
    "df4.corr()"
   ]
  },
  {
   "cell_type": "code",
   "execution_count": 66,
   "id": "aa5287ae",
   "metadata": {
    "ExecuteTime": {
     "end_time": "2022-01-14T17:09:32.359666Z",
     "start_time": "2022-01-14T17:09:30.989252Z"
    }
   },
   "outputs": [
    {
     "data": {
      "image/png": "[encoded data removed]",
      "text/plain": [
       "<Figure size 864x720 with 2 Axes>"
      ]
     },
     "metadata": {
      "needs_background": "light"
     },
     "output_type": "display_data"
    }
   ],
   "source": [
    "plt.figure(figsize=(12,10))\n",
    "sns.heatmap(df4.corr(), annot=True, fmt='.2f');"
   ]
  },
  {
   "cell_type": "markdown",
   "id": "e9a37615",
   "metadata": {},
   "source": [
    "<a id='5'></a>\n",
    "# Feature Engineering"
   ]
  },
  {
   "cell_type": "code",
   "execution_count": 67,
   "id": "410f3ddd",
   "metadata": {
    "ExecuteTime": {
     "end_time": "2022-01-14T17:09:32.375625Z",
     "start_time": "2022-01-14T17:09:32.360665Z"
    }
   },
   "outputs": [],
   "source": [
    "df5 = df4.copy()"
   ]
  },
  {
   "cell_type": "markdown",
   "id": "cdbea3b7",
   "metadata": {},
   "source": [
    "adding ApplicantIncome and CoapplicantIncome into one column"
   ]
  },
  {
   "cell_type": "code",
   "execution_count": 68,
   "id": "54b99251",
   "metadata": {
    "ExecuteTime": {
     "end_time": "2022-01-14T17:09:32.406541Z",
     "start_time": "2022-01-14T17:09:32.377619Z"
    }
   },
   "outputs": [
    {
     "data": {
      "text/html": [
       "<div>\n",
       "<style scoped>\n",
       "    .dataframe tbody tr th:only-of-type {\n",
       "        vertical-align: middle;\n",
       "    }\n",
       "\n",
       "    .dataframe tbody tr th {\n",
       "        vertical-align: top;\n",
       "    }\n",
       "\n",
       "    .dataframe thead th {\n",
       "        text-align: right;\n",
       "    }\n",
       "</style>\n",
       "<table border=\"1\" class=\"dataframe\">\n",
       "  <thead>\n",
       "    <tr style=\"text-align: right;\">\n",
       "      <th></th>\n",
       "      <th>Gender</th>\n",
       "      <th>Married</th>\n",
       "      <th>Dependents</th>\n",
       "      <th>Education</th>\n",
       "      <th>Self_Employed</th>\n",
       "      <th>ApplicantIncome</th>\n",
       "      <th>CoapplicantIncome</th>\n",
       "      <th>LoanAmount</th>\n",
       "      <th>Loan_Amount_Term</th>\n",
       "      <th>Credit_History</th>\n",
       "      <th>Loan_Status</th>\n",
       "      <th>Rural</th>\n",
       "      <th>Semiurban</th>\n",
       "      <th>Total</th>\n",
       "    </tr>\n",
       "  </thead>\n",
       "  <tbody>\n",
       "    <tr>\n",
       "      <th>0</th>\n",
       "      <td>1</td>\n",
       "      <td>0</td>\n",
       "      <td>0</td>\n",
       "      <td>1</td>\n",
       "      <td>0</td>\n",
       "      <td>5849</td>\n",
       "      <td>0.0</td>\n",
       "      <td>146.412162</td>\n",
       "      <td>360.0</td>\n",
       "      <td>1.0</td>\n",
       "      <td>1</td>\n",
       "      <td>0</td>\n",
       "      <td>0</td>\n",
       "      <td>5849.0</td>\n",
       "    </tr>\n",
       "    <tr>\n",
       "      <th>1</th>\n",
       "      <td>1</td>\n",
       "      <td>1</td>\n",
       "      <td>1</td>\n",
       "      <td>1</td>\n",
       "      <td>0</td>\n",
       "      <td>4583</td>\n",
       "      <td>1508.0</td>\n",
       "      <td>128.000000</td>\n",
       "      <td>360.0</td>\n",
       "      <td>1.0</td>\n",
       "      <td>0</td>\n",
       "      <td>1</td>\n",
       "      <td>0</td>\n",
       "      <td>6091.0</td>\n",
       "    </tr>\n",
       "    <tr>\n",
       "      <th>2</th>\n",
       "      <td>1</td>\n",
       "      <td>1</td>\n",
       "      <td>0</td>\n",
       "      <td>1</td>\n",
       "      <td>1</td>\n",
       "      <td>3000</td>\n",
       "      <td>0.0</td>\n",
       "      <td>66.000000</td>\n",
       "      <td>360.0</td>\n",
       "      <td>1.0</td>\n",
       "      <td>1</td>\n",
       "      <td>0</td>\n",
       "      <td>0</td>\n",
       "      <td>3000.0</td>\n",
       "    </tr>\n",
       "    <tr>\n",
       "      <th>3</th>\n",
       "      <td>1</td>\n",
       "      <td>1</td>\n",
       "      <td>0</td>\n",
       "      <td>0</td>\n",
       "      <td>0</td>\n",
       "      <td>2583</td>\n",
       "      <td>2358.0</td>\n",
       "      <td>120.000000</td>\n",
       "      <td>360.0</td>\n",
       "      <td>1.0</td>\n",
       "      <td>1</td>\n",
       "      <td>0</td>\n",
       "      <td>0</td>\n",
       "      <td>4941.0</td>\n",
       "    </tr>\n",
       "    <tr>\n",
       "      <th>4</th>\n",
       "      <td>1</td>\n",
       "      <td>0</td>\n",
       "      <td>0</td>\n",
       "      <td>1</td>\n",
       "      <td>0</td>\n",
       "      <td>6000</td>\n",
       "      <td>0.0</td>\n",
       "      <td>141.000000</td>\n",
       "      <td>360.0</td>\n",
       "      <td>1.0</td>\n",
       "      <td>1</td>\n",
       "      <td>0</td>\n",
       "      <td>0</td>\n",
       "      <td>6000.0</td>\n",
       "    </tr>\n",
       "  </tbody>\n",
       "</table>\n",
       "</div>"
      ],
      "text/plain": [
       "   Gender  Married Dependents  Education  Self_Employed  ApplicantIncome  \\\n",
       "0       1        0          0          1              0             5849   \n",
       "1       1        1          1          1              0             4583   \n",
       "2       1        1          0          1              1             3000   \n",
       "3       1        1          0          0              0             2583   \n",
       "4       1        0          0          1              0             6000   \n",
       "\n",
       "   CoapplicantIncome  LoanAmount  Loan_Amount_Term  Credit_History  \\\n",
       "0                0.0  146.412162             360.0             1.0   \n",
       "1             1508.0  128.000000             360.0             1.0   \n",
       "2                0.0   66.000000             360.0             1.0   \n",
       "3             2358.0  120.000000             360.0             1.0   \n",
       "4                0.0  141.000000             360.0             1.0   \n",
       "\n",
       "   Loan_Status  Rural  Semiurban   Total  \n",
       "0            1      0          0  5849.0  \n",
       "1            0      1          0  6091.0  \n",
       "2            1      0          0  3000.0  \n",
       "3            1      0          0  4941.0  \n",
       "4            1      0          0  6000.0  "
      ]
     },
     "execution_count": 68,
     "metadata": {},
     "output_type": "execute_result"
    }
   ],
   "source": [
    "df5['Total'] = df5['ApplicantIncome'] + df5['CoapplicantIncome']\n",
    "df5.head()"
   ]
  },
  {
   "cell_type": "code",
   "execution_count": 69,
   "id": "b1d0b76a",
   "metadata": {
    "ExecuteTime": {
     "end_time": "2022-01-14T17:09:32.436511Z",
     "start_time": "2022-01-14T17:09:32.407539Z"
    }
   },
   "outputs": [
    {
     "data": {
      "text/html": [
       "<div>\n",
       "<style scoped>\n",
       "    .dataframe tbody tr th:only-of-type {\n",
       "        vertical-align: middle;\n",
       "    }\n",
       "\n",
       "    .dataframe tbody tr th {\n",
       "        vertical-align: top;\n",
       "    }\n",
       "\n",
       "    .dataframe thead th {\n",
       "        text-align: right;\n",
       "    }\n",
       "</style>\n",
       "<table border=\"1\" class=\"dataframe\">\n",
       "  <thead>\n",
       "    <tr style=\"text-align: right;\">\n",
       "      <th></th>\n",
       "      <th>Gender</th>\n",
       "      <th>Married</th>\n",
       "      <th>Education</th>\n",
       "      <th>Self_Employed</th>\n",
       "      <th>ApplicantIncome</th>\n",
       "      <th>CoapplicantIncome</th>\n",
       "      <th>LoanAmount</th>\n",
       "      <th>Loan_Amount_Term</th>\n",
       "      <th>Credit_History</th>\n",
       "      <th>Rural</th>\n",
       "      <th>Semiurban</th>\n",
       "      <th>Total</th>\n",
       "    </tr>\n",
       "    <tr>\n",
       "      <th>Loan_Status</th>\n",
       "      <th></th>\n",
       "      <th></th>\n",
       "      <th></th>\n",
       "      <th></th>\n",
       "      <th></th>\n",
       "      <th></th>\n",
       "      <th></th>\n",
       "      <th></th>\n",
       "      <th></th>\n",
       "      <th></th>\n",
       "      <th></th>\n",
       "      <th></th>\n",
       "    </tr>\n",
       "  </thead>\n",
       "  <tbody>\n",
       "    <tr>\n",
       "      <th>0</th>\n",
       "      <td>0.807292</td>\n",
       "      <td>0.588542</td>\n",
       "      <td>0.729167</td>\n",
       "      <td>0.135417</td>\n",
       "      <td>5446.078125</td>\n",
       "      <td>1877.807292</td>\n",
       "      <td>150.945488</td>\n",
       "      <td>344.000000</td>\n",
       "      <td>0.572917</td>\n",
       "      <td>0.359375</td>\n",
       "      <td>0.281250</td>\n",
       "      <td>7323.885417</td>\n",
       "    </tr>\n",
       "    <tr>\n",
       "      <th>1</th>\n",
       "      <td>0.822275</td>\n",
       "      <td>0.682464</td>\n",
       "      <td>0.805687</td>\n",
       "      <td>0.132701</td>\n",
       "      <td>5384.068720</td>\n",
       "      <td>1504.516398</td>\n",
       "      <td>144.349606</td>\n",
       "      <td>341.090047</td>\n",
       "      <td>0.983412</td>\n",
       "      <td>0.260664</td>\n",
       "      <td>0.424171</td>\n",
       "      <td>6888.585118</td>\n",
       "    </tr>\n",
       "  </tbody>\n",
       "</table>\n",
       "</div>"
      ],
      "text/plain": [
       "               Gender   Married  Education  Self_Employed  ApplicantIncome  \\\n",
       "Loan_Status                                                                  \n",
       "0            0.807292  0.588542   0.729167       0.135417      5446.078125   \n",
       "1            0.822275  0.682464   0.805687       0.132701      5384.068720   \n",
       "\n",
       "             CoapplicantIncome  LoanAmount  Loan_Amount_Term  Credit_History  \\\n",
       "Loan_Status                                                                    \n",
       "0                  1877.807292  150.945488        344.000000        0.572917   \n",
       "1                  1504.516398  144.349606        341.090047        0.983412   \n",
       "\n",
       "                Rural  Semiurban        Total  \n",
       "Loan_Status                                    \n",
       "0            0.359375   0.281250  7323.885417  \n",
       "1            0.260664   0.424171  6888.585118  "
      ]
     },
     "execution_count": 69,
     "metadata": {},
     "output_type": "execute_result"
    }
   ],
   "source": [
    "df5.groupby('Loan_Status').mean()"
   ]
  },
  {
   "cell_type": "code",
   "execution_count": 70,
   "id": "cf4fcedc",
   "metadata": {
    "ExecuteTime": {
     "end_time": "2022-01-14T17:09:32.452451Z",
     "start_time": "2022-01-14T17:09:32.437458Z"
    }
   },
   "outputs": [
    {
     "data": {
      "text/plain": [
       "0     360\n",
       "1     102\n",
       "2     101\n",
       "3+     51\n",
       "Name: Dependents, dtype: int64"
      ]
     },
     "execution_count": 70,
     "metadata": {},
     "output_type": "execute_result"
    }
   ],
   "source": [
    "df5.Dependents.value_counts()"
   ]
  },
  {
   "cell_type": "code",
   "execution_count": 71,
   "id": "b515ade0",
   "metadata": {
    "ExecuteTime": {
     "end_time": "2022-01-14T17:09:32.467378Z",
     "start_time": "2022-01-14T17:09:32.453416Z"
    }
   },
   "outputs": [
    {
     "data": {
      "text/plain": [
       "dtype('O')"
      ]
     },
     "execution_count": 71,
     "metadata": {},
     "output_type": "execute_result"
    }
   ],
   "source": [
    "df5.Dependents.dtypes"
   ]
  },
  {
   "cell_type": "code",
   "execution_count": 72,
   "id": "46d5c052",
   "metadata": {
    "ExecuteTime": {
     "end_time": "2022-01-14T17:09:32.483337Z",
     "start_time": "2022-01-14T17:09:32.468375Z"
    }
   },
   "outputs": [
    {
     "data": {
      "text/html": [
       "<div>\n",
       "<style scoped>\n",
       "    .dataframe tbody tr th:only-of-type {\n",
       "        vertical-align: middle;\n",
       "    }\n",
       "\n",
       "    .dataframe tbody tr th {\n",
       "        vertical-align: top;\n",
       "    }\n",
       "\n",
       "    .dataframe thead th {\n",
       "        text-align: right;\n",
       "    }\n",
       "</style>\n",
       "<table border=\"1\" class=\"dataframe\">\n",
       "  <thead>\n",
       "    <tr style=\"text-align: right;\">\n",
       "      <th></th>\n",
       "      <th>Gender</th>\n",
       "      <th>Married</th>\n",
       "      <th>Dependents</th>\n",
       "      <th>Education</th>\n",
       "      <th>Self_Employed</th>\n",
       "      <th>ApplicantIncome</th>\n",
       "      <th>CoapplicantIncome</th>\n",
       "      <th>LoanAmount</th>\n",
       "      <th>Loan_Amount_Term</th>\n",
       "      <th>Credit_History</th>\n",
       "      <th>Loan_Status</th>\n",
       "      <th>Rural</th>\n",
       "      <th>Semiurban</th>\n",
       "      <th>Total</th>\n",
       "    </tr>\n",
       "  </thead>\n",
       "  <tbody>\n",
       "    <tr>\n",
       "      <th>0</th>\n",
       "      <td>1</td>\n",
       "      <td>0</td>\n",
       "      <td>0</td>\n",
       "      <td>1</td>\n",
       "      <td>0</td>\n",
       "      <td>5849</td>\n",
       "      <td>0.0</td>\n",
       "      <td>146.412162</td>\n",
       "      <td>360.0</td>\n",
       "      <td>1.0</td>\n",
       "      <td>1</td>\n",
       "      <td>0</td>\n",
       "      <td>0</td>\n",
       "      <td>5849.0</td>\n",
       "    </tr>\n",
       "    <tr>\n",
       "      <th>1</th>\n",
       "      <td>1</td>\n",
       "      <td>1</td>\n",
       "      <td>1</td>\n",
       "      <td>1</td>\n",
       "      <td>0</td>\n",
       "      <td>4583</td>\n",
       "      <td>1508.0</td>\n",
       "      <td>128.000000</td>\n",
       "      <td>360.0</td>\n",
       "      <td>1.0</td>\n",
       "      <td>0</td>\n",
       "      <td>1</td>\n",
       "      <td>0</td>\n",
       "      <td>6091.0</td>\n",
       "    </tr>\n",
       "    <tr>\n",
       "      <th>2</th>\n",
       "      <td>1</td>\n",
       "      <td>1</td>\n",
       "      <td>0</td>\n",
       "      <td>1</td>\n",
       "      <td>1</td>\n",
       "      <td>3000</td>\n",
       "      <td>0.0</td>\n",
       "      <td>66.000000</td>\n",
       "      <td>360.0</td>\n",
       "      <td>1.0</td>\n",
       "      <td>1</td>\n",
       "      <td>0</td>\n",
       "      <td>0</td>\n",
       "      <td>3000.0</td>\n",
       "    </tr>\n",
       "    <tr>\n",
       "      <th>3</th>\n",
       "      <td>1</td>\n",
       "      <td>1</td>\n",
       "      <td>0</td>\n",
       "      <td>0</td>\n",
       "      <td>0</td>\n",
       "      <td>2583</td>\n",
       "      <td>2358.0</td>\n",
       "      <td>120.000000</td>\n",
       "      <td>360.0</td>\n",
       "      <td>1.0</td>\n",
       "      <td>1</td>\n",
       "      <td>0</td>\n",
       "      <td>0</td>\n",
       "      <td>4941.0</td>\n",
       "    </tr>\n",
       "    <tr>\n",
       "      <th>4</th>\n",
       "      <td>1</td>\n",
       "      <td>0</td>\n",
       "      <td>0</td>\n",
       "      <td>1</td>\n",
       "      <td>0</td>\n",
       "      <td>6000</td>\n",
       "      <td>0.0</td>\n",
       "      <td>141.000000</td>\n",
       "      <td>360.0</td>\n",
       "      <td>1.0</td>\n",
       "      <td>1</td>\n",
       "      <td>0</td>\n",
       "      <td>0</td>\n",
       "      <td>6000.0</td>\n",
       "    </tr>\n",
       "  </tbody>\n",
       "</table>\n",
       "</div>"
      ],
      "text/plain": [
       "   Gender  Married Dependents  Education  Self_Employed  ApplicantIncome  \\\n",
       "0       1        0          0          1              0             5849   \n",
       "1       1        1          1          1              0             4583   \n",
       "2       1        1          0          1              1             3000   \n",
       "3       1        1          0          0              0             2583   \n",
       "4       1        0          0          1              0             6000   \n",
       "\n",
       "   CoapplicantIncome  LoanAmount  Loan_Amount_Term  Credit_History  \\\n",
       "0                0.0  146.412162             360.0             1.0   \n",
       "1             1508.0  128.000000             360.0             1.0   \n",
       "2                0.0   66.000000             360.0             1.0   \n",
       "3             2358.0  120.000000             360.0             1.0   \n",
       "4                0.0  141.000000             360.0             1.0   \n",
       "\n",
       "   Loan_Status  Rural  Semiurban   Total  \n",
       "0            1      0          0  5849.0  \n",
       "1            0      1          0  6091.0  \n",
       "2            1      0          0  3000.0  \n",
       "3            1      0          0  4941.0  \n",
       "4            1      0          0  6000.0  "
      ]
     },
     "execution_count": 72,
     "metadata": {},
     "output_type": "execute_result"
    }
   ],
   "source": [
    "df5.Dependents = df5.Dependents.replace(to_replace='3+', value=4)\n",
    "df5.head()"
   ]
  },
  {
   "cell_type": "code",
   "execution_count": 73,
   "id": "85479339",
   "metadata": {
    "ExecuteTime": {
     "end_time": "2022-01-14T17:09:32.499293Z",
     "start_time": "2022-01-14T17:09:32.485336Z"
    }
   },
   "outputs": [
    {
     "data": {
      "text/plain": [
       "0    360\n",
       "1    102\n",
       "2    101\n",
       "4     51\n",
       "Name: Dependents, dtype: int64"
      ]
     },
     "execution_count": 73,
     "metadata": {},
     "output_type": "execute_result"
    }
   ],
   "source": [
    "df5.Dependents.value_counts()"
   ]
  },
  {
   "cell_type": "code",
   "execution_count": 74,
   "id": "26592f4c",
   "metadata": {
    "ExecuteTime": {
     "end_time": "2022-01-14T17:09:32.515289Z",
     "start_time": "2022-01-14T17:09:32.500291Z"
    }
   },
   "outputs": [
    {
     "data": {
      "text/plain": [
       "dtype('O')"
      ]
     },
     "execution_count": 74,
     "metadata": {},
     "output_type": "execute_result"
    }
   ],
   "source": [
    "df5.Dependents.dtypes"
   ]
  },
  {
   "cell_type": "code",
   "execution_count": 75,
   "id": "6b78f057",
   "metadata": {
    "ExecuteTime": {
     "end_time": "2022-01-14T17:09:32.531207Z",
     "start_time": "2022-01-14T17:09:32.516247Z"
    }
   },
   "outputs": [],
   "source": [
    "df5.Dependents = pd.to_numeric(df5.Dependents)"
   ]
  },
  {
   "cell_type": "code",
   "execution_count": 76,
   "id": "83fa5f7f",
   "metadata": {
    "ExecuteTime": {
     "end_time": "2022-01-14T17:09:32.547199Z",
     "start_time": "2022-01-14T17:09:32.532204Z"
    }
   },
   "outputs": [
    {
     "data": {
      "text/plain": [
       "dtype('int64')"
      ]
     },
     "execution_count": 76,
     "metadata": {},
     "output_type": "execute_result"
    }
   ],
   "source": [
    "df5.Dependents.dtypes"
   ]
  },
  {
   "cell_type": "code",
   "execution_count": 77,
   "id": "ea695cac",
   "metadata": {
    "ExecuteTime": {
     "end_time": "2022-01-14T17:09:32.563145Z",
     "start_time": "2022-01-14T17:09:32.548161Z"
    }
   },
   "outputs": [],
   "source": [
    "FEATURES = [col for col in df5.columns if col not in ['Loan_Status']]"
   ]
  },
  {
   "cell_type": "code",
   "execution_count": 78,
   "id": "2b274218",
   "metadata": {
    "ExecuteTime": {
     "end_time": "2022-01-14T17:09:32.578132Z",
     "start_time": "2022-01-14T17:09:32.564119Z"
    }
   },
   "outputs": [
    {
     "data": {
      "text/plain": [
       "['Gender',\n",
       " 'Married',\n",
       " 'Dependents',\n",
       " 'Education',\n",
       " 'Self_Employed',\n",
       " 'ApplicantIncome',\n",
       " 'CoapplicantIncome',\n",
       " 'LoanAmount',\n",
       " 'Loan_Amount_Term',\n",
       " 'Credit_History',\n",
       " 'Rural',\n",
       " 'Semiurban',\n",
       " 'Total']"
      ]
     },
     "execution_count": 78,
     "metadata": {},
     "output_type": "execute_result"
    }
   ],
   "source": [
    "FEATURES"
   ]
  },
  {
   "cell_type": "code",
   "execution_count": 79,
   "id": "88203120",
   "metadata": {
    "ExecuteTime": {
     "end_time": "2022-01-14T17:09:32.594053Z",
     "start_time": "2022-01-14T17:09:32.579079Z"
    }
   },
   "outputs": [],
   "source": [
    "df5[\"mean\"] = df5[FEATURES].mean(axis=1)\n",
    "df5[\"std\"] = df5[FEATURES].std(axis=1)\n",
    "df5[\"min\"] = df5[FEATURES].min(axis=1)\n",
    "df5[\"max\"] = df5[FEATURES].max(axis=1)"
   ]
  },
  {
   "cell_type": "code",
   "execution_count": 80,
   "id": "4889bd73",
   "metadata": {
    "ExecuteTime": {
     "end_time": "2022-01-14T17:09:32.610029Z",
     "start_time": "2022-01-14T17:09:32.595036Z"
    }
   },
   "outputs": [
    {
     "data": {
      "text/html": [
       "<div>\n",
       "<style scoped>\n",
       "    .dataframe tbody tr th:only-of-type {\n",
       "        vertical-align: middle;\n",
       "    }\n",
       "\n",
       "    .dataframe tbody tr th {\n",
       "        vertical-align: top;\n",
       "    }\n",
       "\n",
       "    .dataframe thead th {\n",
       "        text-align: right;\n",
       "    }\n",
       "</style>\n",
       "<table border=\"1\" class=\"dataframe\">\n",
       "  <thead>\n",
       "    <tr style=\"text-align: right;\">\n",
       "      <th></th>\n",
       "      <th>Gender</th>\n",
       "      <th>Married</th>\n",
       "      <th>Dependents</th>\n",
       "      <th>Education</th>\n",
       "      <th>Self_Employed</th>\n",
       "      <th>ApplicantIncome</th>\n",
       "      <th>CoapplicantIncome</th>\n",
       "      <th>LoanAmount</th>\n",
       "      <th>Loan_Amount_Term</th>\n",
       "      <th>Credit_History</th>\n",
       "      <th>Loan_Status</th>\n",
       "      <th>Rural</th>\n",
       "      <th>Semiurban</th>\n",
       "      <th>Total</th>\n",
       "      <th>mean</th>\n",
       "      <th>std</th>\n",
       "      <th>min</th>\n",
       "      <th>max</th>\n",
       "    </tr>\n",
       "  </thead>\n",
       "  <tbody>\n",
       "    <tr>\n",
       "      <th>0</th>\n",
       "      <td>1</td>\n",
       "      <td>0</td>\n",
       "      <td>0</td>\n",
       "      <td>1</td>\n",
       "      <td>0</td>\n",
       "      <td>5849</td>\n",
       "      <td>0.0</td>\n",
       "      <td>146.412162</td>\n",
       "      <td>360.0</td>\n",
       "      <td>1.0</td>\n",
       "      <td>1</td>\n",
       "      <td>0</td>\n",
       "      <td>0</td>\n",
       "      <td>5849.0</td>\n",
       "      <td>939.031705</td>\n",
       "      <td>2181.541780</td>\n",
       "      <td>0.0</td>\n",
       "      <td>5849.0</td>\n",
       "    </tr>\n",
       "    <tr>\n",
       "      <th>1</th>\n",
       "      <td>1</td>\n",
       "      <td>1</td>\n",
       "      <td>1</td>\n",
       "      <td>1</td>\n",
       "      <td>0</td>\n",
       "      <td>4583</td>\n",
       "      <td>1508.0</td>\n",
       "      <td>128.000000</td>\n",
       "      <td>360.0</td>\n",
       "      <td>1.0</td>\n",
       "      <td>0</td>\n",
       "      <td>1</td>\n",
       "      <td>0</td>\n",
       "      <td>6091.0</td>\n",
       "      <td>975.076923</td>\n",
       "      <td>2003.416851</td>\n",
       "      <td>0.0</td>\n",
       "      <td>6091.0</td>\n",
       "    </tr>\n",
       "    <tr>\n",
       "      <th>2</th>\n",
       "      <td>1</td>\n",
       "      <td>1</td>\n",
       "      <td>0</td>\n",
       "      <td>1</td>\n",
       "      <td>1</td>\n",
       "      <td>3000</td>\n",
       "      <td>0.0</td>\n",
       "      <td>66.000000</td>\n",
       "      <td>360.0</td>\n",
       "      <td>1.0</td>\n",
       "      <td>1</td>\n",
       "      <td>0</td>\n",
       "      <td>0</td>\n",
       "      <td>3000.0</td>\n",
       "      <td>494.692308</td>\n",
       "      <td>1116.265902</td>\n",
       "      <td>0.0</td>\n",
       "      <td>3000.0</td>\n",
       "    </tr>\n",
       "    <tr>\n",
       "      <th>3</th>\n",
       "      <td>1</td>\n",
       "      <td>1</td>\n",
       "      <td>0</td>\n",
       "      <td>0</td>\n",
       "      <td>0</td>\n",
       "      <td>2583</td>\n",
       "      <td>2358.0</td>\n",
       "      <td>120.000000</td>\n",
       "      <td>360.0</td>\n",
       "      <td>1.0</td>\n",
       "      <td>1</td>\n",
       "      <td>0</td>\n",
       "      <td>0</td>\n",
       "      <td>4941.0</td>\n",
       "      <td>797.307692</td>\n",
       "      <td>1541.791241</td>\n",
       "      <td>0.0</td>\n",
       "      <td>4941.0</td>\n",
       "    </tr>\n",
       "    <tr>\n",
       "      <th>4</th>\n",
       "      <td>1</td>\n",
       "      <td>0</td>\n",
       "      <td>0</td>\n",
       "      <td>1</td>\n",
       "      <td>0</td>\n",
       "      <td>6000</td>\n",
       "      <td>0.0</td>\n",
       "      <td>141.000000</td>\n",
       "      <td>360.0</td>\n",
       "      <td>1.0</td>\n",
       "      <td>1</td>\n",
       "      <td>0</td>\n",
       "      <td>0</td>\n",
       "      <td>6000.0</td>\n",
       "      <td>961.846154</td>\n",
       "      <td>2238.350577</td>\n",
       "      <td>0.0</td>\n",
       "      <td>6000.0</td>\n",
       "    </tr>\n",
       "  </tbody>\n",
       "</table>\n",
       "</div>"
      ],
      "text/plain": [
       "   Gender  Married  Dependents  Education  Self_Employed  ApplicantIncome  \\\n",
       "0       1        0           0          1              0             5849   \n",
       "1       1        1           1          1              0             4583   \n",
       "2       1        1           0          1              1             3000   \n",
       "3       1        1           0          0              0             2583   \n",
       "4       1        0           0          1              0             6000   \n",
       "\n",
       "   CoapplicantIncome  LoanAmount  Loan_Amount_Term  Credit_History  \\\n",
       "0                0.0  146.412162             360.0             1.0   \n",
       "1             1508.0  128.000000             360.0             1.0   \n",
       "2                0.0   66.000000             360.0             1.0   \n",
       "3             2358.0  120.000000             360.0             1.0   \n",
       "4                0.0  141.000000             360.0             1.0   \n",
       "\n",
       "   Loan_Status  Rural  Semiurban   Total        mean          std  min     max  \n",
       "0            1      0          0  5849.0  939.031705  2181.541780  0.0  5849.0  \n",
       "1            0      1          0  6091.0  975.076923  2003.416851  0.0  6091.0  \n",
       "2            1      0          0  3000.0  494.692308  1116.265902  0.0  3000.0  \n",
       "3            1      0          0  4941.0  797.307692  1541.791241  0.0  4941.0  \n",
       "4            1      0          0  6000.0  961.846154  2238.350577  0.0  6000.0  "
      ]
     },
     "execution_count": 80,
     "metadata": {},
     "output_type": "execute_result"
    }
   ],
   "source": [
    "df5.head()"
   ]
  },
  {
   "cell_type": "code",
   "execution_count": 81,
   "id": "2df60c26",
   "metadata": {
    "ExecuteTime": {
     "end_time": "2022-01-14T17:09:32.641911Z",
     "start_time": "2022-01-14T17:09:32.610994Z"
    }
   },
   "outputs": [
    {
     "data": {
      "text/html": [
       "<div>\n",
       "<style scoped>\n",
       "    .dataframe tbody tr th:only-of-type {\n",
       "        vertical-align: middle;\n",
       "    }\n",
       "\n",
       "    .dataframe tbody tr th {\n",
       "        vertical-align: top;\n",
       "    }\n",
       "\n",
       "    .dataframe thead th {\n",
       "        text-align: right;\n",
       "    }\n",
       "</style>\n",
       "<table border=\"1\" class=\"dataframe\">\n",
       "  <thead>\n",
       "    <tr style=\"text-align: right;\">\n",
       "      <th></th>\n",
       "      <th>Gender</th>\n",
       "      <th>Married</th>\n",
       "      <th>Dependents</th>\n",
       "      <th>Education</th>\n",
       "      <th>Self_Employed</th>\n",
       "      <th>ApplicantIncome</th>\n",
       "      <th>CoapplicantIncome</th>\n",
       "      <th>LoanAmount</th>\n",
       "      <th>Loan_Amount_Term</th>\n",
       "      <th>Credit_History</th>\n",
       "      <th>Loan_Status</th>\n",
       "      <th>Rural</th>\n",
       "      <th>Semiurban</th>\n",
       "      <th>Total</th>\n",
       "      <th>mean</th>\n",
       "      <th>std</th>\n",
       "      <th>min</th>\n",
       "      <th>max</th>\n",
       "    </tr>\n",
       "  </thead>\n",
       "  <tbody>\n",
       "    <tr>\n",
       "      <th>Gender</th>\n",
       "      <td>1.000000</td>\n",
       "      <td>0.364569</td>\n",
       "      <td>0.165877</td>\n",
       "      <td>-0.045364</td>\n",
       "      <td>-0.000525</td>\n",
       "      <td>0.058809</td>\n",
       "      <td>0.082912</td>\n",
       "      <td>0.107930</td>\n",
       "      <td>-0.073567</td>\n",
       "      <td>0.009170</td>\n",
       "      <td>0.017987</td>\n",
       "      <td>0.080283</td>\n",
       "      <td>-0.108623</td>\n",
       "      <td>0.093191</td>\n",
       "      <td>0.093234</td>\n",
       "      <td>0.074361</td>\n",
       "      <td>NaN</td>\n",
       "      <td>0.093191</td>\n",
       "    </tr>\n",
       "    <tr>\n",
       "      <th>Married</th>\n",
       "      <td>0.364569</td>\n",
       "      <td>1.000000</td>\n",
       "      <td>0.308408</td>\n",
       "      <td>-0.012304</td>\n",
       "      <td>0.004489</td>\n",
       "      <td>0.051708</td>\n",
       "      <td>0.075948</td>\n",
       "      <td>0.147141</td>\n",
       "      <td>-0.100863</td>\n",
       "      <td>0.010938</td>\n",
       "      <td>0.091478</td>\n",
       "      <td>-0.006805</td>\n",
       "      <td>0.005845</td>\n",
       "      <td>0.083319</td>\n",
       "      <td>0.083538</td>\n",
       "      <td>0.061991</td>\n",
       "      <td>NaN</td>\n",
       "      <td>0.083319</td>\n",
       "    </tr>\n",
       "    <tr>\n",
       "      <th>Dependents</th>\n",
       "      <td>0.165877</td>\n",
       "      <td>0.308408</td>\n",
       "      <td>1.000000</td>\n",
       "      <td>-0.059001</td>\n",
       "      <td>0.048028</td>\n",
       "      <td>0.134080</td>\n",
       "      <td>0.034780</td>\n",
       "      <td>0.170666</td>\n",
       "      <td>-0.101674</td>\n",
       "      <td>-0.047203</td>\n",
       "      <td>0.002474</td>\n",
       "      <td>0.008583</td>\n",
       "      <td>0.003392</td>\n",
       "      <td>0.142580</td>\n",
       "      <td>0.142758</td>\n",
       "      <td>0.145406</td>\n",
       "      <td>NaN</td>\n",
       "      <td>0.142580</td>\n",
       "    </tr>\n",
       "    <tr>\n",
       "      <th>Education</th>\n",
       "      <td>-0.045364</td>\n",
       "      <td>-0.012304</td>\n",
       "      <td>-0.059001</td>\n",
       "      <td>1.000000</td>\n",
       "      <td>0.010383</td>\n",
       "      <td>0.140760</td>\n",
       "      <td>0.062290</td>\n",
       "      <td>0.166998</td>\n",
       "      <td>0.077242</td>\n",
       "      <td>0.073658</td>\n",
       "      <td>0.085884</td>\n",
       "      <td>-0.077520</td>\n",
       "      <td>0.039410</td>\n",
       "      <td>0.161362</td>\n",
       "      <td>0.162253</td>\n",
       "      <td>0.158717</td>\n",
       "      <td>NaN</td>\n",
       "      <td>0.161362</td>\n",
       "    </tr>\n",
       "    <tr>\n",
       "      <th>Self_Employed</th>\n",
       "      <td>-0.000525</td>\n",
       "      <td>0.004489</td>\n",
       "      <td>0.048028</td>\n",
       "      <td>0.010383</td>\n",
       "      <td>1.000000</td>\n",
       "      <td>0.127180</td>\n",
       "      <td>-0.016100</td>\n",
       "      <td>0.115260</td>\n",
       "      <td>-0.033943</td>\n",
       "      <td>-0.001550</td>\n",
       "      <td>-0.003700</td>\n",
       "      <td>0.022065</td>\n",
       "      <td>0.008710</td>\n",
       "      <td>0.113000</td>\n",
       "      <td>0.113190</td>\n",
       "      <td>0.117151</td>\n",
       "      <td>NaN</td>\n",
       "      <td>0.113000</td>\n",
       "    </tr>\n",
       "    <tr>\n",
       "      <th>ApplicantIncome</th>\n",
       "      <td>0.058809</td>\n",
       "      <td>0.051708</td>\n",
       "      <td>0.134080</td>\n",
       "      <td>0.140760</td>\n",
       "      <td>0.127180</td>\n",
       "      <td>1.000000</td>\n",
       "      <td>-0.116605</td>\n",
       "      <td>0.565620</td>\n",
       "      <td>-0.045242</td>\n",
       "      <td>-0.018615</td>\n",
       "      <td>-0.004710</td>\n",
       "      <td>0.015829</td>\n",
       "      <td>-0.014246</td>\n",
       "      <td>0.893037</td>\n",
       "      <td>0.893174</td>\n",
       "      <td>0.911648</td>\n",
       "      <td>NaN</td>\n",
       "      <td>0.893037</td>\n",
       "    </tr>\n",
       "    <tr>\n",
       "      <th>CoapplicantIncome</th>\n",
       "      <td>0.082912</td>\n",
       "      <td>0.075948</td>\n",
       "      <td>0.034780</td>\n",
       "      <td>0.062290</td>\n",
       "      <td>-0.016100</td>\n",
       "      <td>-0.116605</td>\n",
       "      <td>1.000000</td>\n",
       "      <td>0.187828</td>\n",
       "      <td>-0.059675</td>\n",
       "      <td>0.011134</td>\n",
       "      <td>-0.059187</td>\n",
       "      <td>0.005329</td>\n",
       "      <td>-0.027044</td>\n",
       "      <td>0.342781</td>\n",
       "      <td>0.342434</td>\n",
       "      <td>0.295465</td>\n",
       "      <td>NaN</td>\n",
       "      <td>0.342781</td>\n",
       "    </tr>\n",
       "    <tr>\n",
       "      <th>LoanAmount</th>\n",
       "      <td>0.107930</td>\n",
       "      <td>0.147141</td>\n",
       "      <td>0.170666</td>\n",
       "      <td>0.166998</td>\n",
       "      <td>0.115260</td>\n",
       "      <td>0.565620</td>\n",
       "      <td>0.187828</td>\n",
       "      <td>1.000000</td>\n",
       "      <td>0.038801</td>\n",
       "      <td>-0.001431</td>\n",
       "      <td>-0.036416</td>\n",
       "      <td>0.043178</td>\n",
       "      <td>-0.008273</td>\n",
       "      <td>0.620102</td>\n",
       "      <td>0.624499</td>\n",
       "      <td>0.605776</td>\n",
       "      <td>NaN</td>\n",
       "      <td>0.620102</td>\n",
       "    </tr>\n",
       "    <tr>\n",
       "      <th>Loan_Amount_Term</th>\n",
       "      <td>-0.073567</td>\n",
       "      <td>-0.100863</td>\n",
       "      <td>-0.101674</td>\n",
       "      <td>0.077242</td>\n",
       "      <td>-0.033943</td>\n",
       "      <td>-0.045242</td>\n",
       "      <td>-0.059675</td>\n",
       "      <td>0.038801</td>\n",
       "      <td>1.000000</td>\n",
       "      <td>0.000432</td>\n",
       "      <td>-0.020974</td>\n",
       "      <td>0.034433</td>\n",
       "      <td>0.061365</td>\n",
       "      <td>-0.069830</td>\n",
       "      <td>-0.064364</td>\n",
       "      <td>-0.071091</td>\n",
       "      <td>NaN</td>\n",
       "      <td>-0.069830</td>\n",
       "    </tr>\n",
       "    <tr>\n",
       "      <th>Credit_History</th>\n",
       "      <td>0.009170</td>\n",
       "      <td>0.010938</td>\n",
       "      <td>-0.047203</td>\n",
       "      <td>0.073658</td>\n",
       "      <td>-0.001550</td>\n",
       "      <td>-0.018615</td>\n",
       "      <td>0.011134</td>\n",
       "      <td>-0.001431</td>\n",
       "      <td>0.000432</td>\n",
       "      <td>1.000000</td>\n",
       "      <td>0.540556</td>\n",
       "      <td>-0.020906</td>\n",
       "      <td>0.035976</td>\n",
       "      <td>-0.012563</td>\n",
       "      <td>-0.012497</td>\n",
       "      <td>-0.012543</td>\n",
       "      <td>NaN</td>\n",
       "      <td>-0.012563</td>\n",
       "    </tr>\n",
       "    <tr>\n",
       "      <th>Loan_Status</th>\n",
       "      <td>0.017987</td>\n",
       "      <td>0.091478</td>\n",
       "      <td>0.002474</td>\n",
       "      <td>0.085884</td>\n",
       "      <td>-0.003700</td>\n",
       "      <td>-0.004710</td>\n",
       "      <td>-0.059187</td>\n",
       "      <td>-0.036416</td>\n",
       "      <td>-0.020974</td>\n",
       "      <td>0.540556</td>\n",
       "      <td>1.000000</td>\n",
       "      <td>-0.100694</td>\n",
       "      <td>0.136540</td>\n",
       "      <td>-0.031271</td>\n",
       "      <td>-0.031471</td>\n",
       "      <td>-0.033062</td>\n",
       "      <td>NaN</td>\n",
       "      <td>-0.031271</td>\n",
       "    </tr>\n",
       "    <tr>\n",
       "      <th>Rural</th>\n",
       "      <td>0.080283</td>\n",
       "      <td>-0.006805</td>\n",
       "      <td>0.008583</td>\n",
       "      <td>-0.077520</td>\n",
       "      <td>0.022065</td>\n",
       "      <td>0.015829</td>\n",
       "      <td>0.005329</td>\n",
       "      <td>0.043178</td>\n",
       "      <td>0.034433</td>\n",
       "      <td>-0.020906</td>\n",
       "      <td>-0.100694</td>\n",
       "      <td>1.000000</td>\n",
       "      <td>-0.501646</td>\n",
       "      <td>0.017387</td>\n",
       "      <td>0.017790</td>\n",
       "      <td>0.010409</td>\n",
       "      <td>NaN</td>\n",
       "      <td>0.017387</td>\n",
       "    </tr>\n",
       "    <tr>\n",
       "      <th>Semiurban</th>\n",
       "      <td>-0.108623</td>\n",
       "      <td>0.005845</td>\n",
       "      <td>0.003392</td>\n",
       "      <td>0.039410</td>\n",
       "      <td>0.008710</td>\n",
       "      <td>-0.014246</td>\n",
       "      <td>-0.027044</td>\n",
       "      <td>-0.008273</td>\n",
       "      <td>0.061365</td>\n",
       "      <td>0.035976</td>\n",
       "      <td>0.136540</td>\n",
       "      <td>-0.501646</td>\n",
       "      <td>1.000000</td>\n",
       "      <td>-0.025728</td>\n",
       "      <td>-0.025361</td>\n",
       "      <td>-0.025088</td>\n",
       "      <td>NaN</td>\n",
       "      <td>-0.025728</td>\n",
       "    </tr>\n",
       "    <tr>\n",
       "      <th>Total</th>\n",
       "      <td>0.093191</td>\n",
       "      <td>0.083319</td>\n",
       "      <td>0.142580</td>\n",
       "      <td>0.161362</td>\n",
       "      <td>0.113000</td>\n",
       "      <td>0.893037</td>\n",
       "      <td>0.342781</td>\n",
       "      <td>0.620102</td>\n",
       "      <td>-0.069830</td>\n",
       "      <td>-0.012563</td>\n",
       "      <td>-0.031271</td>\n",
       "      <td>0.017387</td>\n",
       "      <td>-0.025728</td>\n",
       "      <td>1.000000</td>\n",
       "      <td>0.999972</td>\n",
       "      <td>0.996166</td>\n",
       "      <td>NaN</td>\n",
       "      <td>1.000000</td>\n",
       "    </tr>\n",
       "    <tr>\n",
       "      <th>mean</th>\n",
       "      <td>0.093234</td>\n",
       "      <td>0.083538</td>\n",
       "      <td>0.142758</td>\n",
       "      <td>0.162253</td>\n",
       "      <td>0.113190</td>\n",
       "      <td>0.893174</td>\n",
       "      <td>0.342434</td>\n",
       "      <td>0.624499</td>\n",
       "      <td>-0.064364</td>\n",
       "      <td>-0.012497</td>\n",
       "      <td>-0.031471</td>\n",
       "      <td>0.017790</td>\n",
       "      <td>-0.025361</td>\n",
       "      <td>0.999972</td>\n",
       "      <td>1.000000</td>\n",
       "      <td>0.996052</td>\n",
       "      <td>NaN</td>\n",
       "      <td>0.999972</td>\n",
       "    </tr>\n",
       "    <tr>\n",
       "      <th>std</th>\n",
       "      <td>0.074361</td>\n",
       "      <td>0.061991</td>\n",
       "      <td>0.145406</td>\n",
       "      <td>0.158717</td>\n",
       "      <td>0.117151</td>\n",
       "      <td>0.911648</td>\n",
       "      <td>0.295465</td>\n",
       "      <td>0.605776</td>\n",
       "      <td>-0.071091</td>\n",
       "      <td>-0.012543</td>\n",
       "      <td>-0.033062</td>\n",
       "      <td>0.010409</td>\n",
       "      <td>-0.025088</td>\n",
       "      <td>0.996166</td>\n",
       "      <td>0.996052</td>\n",
       "      <td>1.000000</td>\n",
       "      <td>NaN</td>\n",
       "      <td>0.996166</td>\n",
       "    </tr>\n",
       "    <tr>\n",
       "      <th>min</th>\n",
       "      <td>NaN</td>\n",
       "      <td>NaN</td>\n",
       "      <td>NaN</td>\n",
       "      <td>NaN</td>\n",
       "      <td>NaN</td>\n",
       "      <td>NaN</td>\n",
       "      <td>NaN</td>\n",
       "      <td>NaN</td>\n",
       "      <td>NaN</td>\n",
       "      <td>NaN</td>\n",
       "      <td>NaN</td>\n",
       "      <td>NaN</td>\n",
       "      <td>NaN</td>\n",
       "      <td>NaN</td>\n",
       "      <td>NaN</td>\n",
       "      <td>NaN</td>\n",
       "      <td>NaN</td>\n",
       "      <td>NaN</td>\n",
       "    </tr>\n",
       "    <tr>\n",
       "      <th>max</th>\n",
       "      <td>0.093191</td>\n",
       "      <td>0.083319</td>\n",
       "      <td>0.142580</td>\n",
       "      <td>0.161362</td>\n",
       "      <td>0.113000</td>\n",
       "      <td>0.893037</td>\n",
       "      <td>0.342781</td>\n",
       "      <td>0.620102</td>\n",
       "      <td>-0.069830</td>\n",
       "      <td>-0.012563</td>\n",
       "      <td>-0.031271</td>\n",
       "      <td>0.017387</td>\n",
       "      <td>-0.025728</td>\n",
       "      <td>1.000000</td>\n",
       "      <td>0.999972</td>\n",
       "      <td>0.996166</td>\n",
       "      <td>NaN</td>\n",
       "      <td>1.000000</td>\n",
       "    </tr>\n",
       "  </tbody>\n",
       "</table>\n",
       "</div>"
      ],
      "text/plain": [
       "                     Gender   Married  Dependents  Education  Self_Employed  \\\n",
       "Gender             1.000000  0.364569    0.165877  -0.045364      -0.000525   \n",
       "Married            0.364569  1.000000    0.308408  -0.012304       0.004489   \n",
       "Dependents         0.165877  0.308408    1.000000  -0.059001       0.048028   \n",
       "Education         -0.045364 -0.012304   -0.059001   1.000000       0.010383   \n",
       "Self_Employed     -0.000525  0.004489    0.048028   0.010383       1.000000   \n",
       "ApplicantIncome    0.058809  0.051708    0.134080   0.140760       0.127180   \n",
       "CoapplicantIncome  0.082912  0.075948    0.034780   0.062290      -0.016100   \n",
       "LoanAmount         0.107930  0.147141    0.170666   0.166998       0.115260   \n",
       "Loan_Amount_Term  -0.073567 -0.100863   -0.101674   0.077242      -0.033943   \n",
       "Credit_History     0.009170  0.010938   -0.047203   0.073658      -0.001550   \n",
       "Loan_Status        0.017987  0.091478    0.002474   0.085884      -0.003700   \n",
       "Rural              0.080283 -0.006805    0.008583  -0.077520       0.022065   \n",
       "Semiurban         -0.108623  0.005845    0.003392   0.039410       0.008710   \n",
       "Total              0.093191  0.083319    0.142580   0.161362       0.113000   \n",
       "mean               0.093234  0.083538    0.142758   0.162253       0.113190   \n",
       "std                0.074361  0.061991    0.145406   0.158717       0.117151   \n",
       "min                     NaN       NaN         NaN        NaN            NaN   \n",
       "max                0.093191  0.083319    0.142580   0.161362       0.113000   \n",
       "\n",
       "                   ApplicantIncome  CoapplicantIncome  LoanAmount  \\\n",
       "Gender                    0.058809           0.082912    0.107930   \n",
       "Married                   0.051708           0.075948    0.147141   \n",
       "Dependents                0.134080           0.034780    0.170666   \n",
       "Education                 0.140760           0.062290    0.166998   \n",
       "Self_Employed             0.127180          -0.016100    0.115260   \n",
       "ApplicantIncome           1.000000          -0.116605    0.565620   \n",
       "CoapplicantIncome        -0.116605           1.000000    0.187828   \n",
       "LoanAmount                0.565620           0.187828    1.000000   \n",
       "Loan_Amount_Term         -0.045242          -0.059675    0.038801   \n",
       "Credit_History           -0.018615           0.011134   -0.001431   \n",
       "Loan_Status              -0.004710          -0.059187   -0.036416   \n",
       "Rural                     0.015829           0.005329    0.043178   \n",
       "Semiurban                -0.014246          -0.027044   -0.008273   \n",
       "Total                     0.893037           0.342781    0.620102   \n",
       "mean                      0.893174           0.342434    0.624499   \n",
       "std                       0.911648           0.295465    0.605776   \n",
       "min                            NaN                NaN         NaN   \n",
       "max                       0.893037           0.342781    0.620102   \n",
       "\n",
       "                   Loan_Amount_Term  Credit_History  Loan_Status     Rural  \\\n",
       "Gender                    -0.073567        0.009170     0.017987  0.080283   \n",
       "Married                   -0.100863        0.010938     0.091478 -0.006805   \n",
       "Dependents                -0.101674       -0.047203     0.002474  0.008583   \n",
       "Education                  0.077242        0.073658     0.085884 -0.077520   \n",
       "Self_Employed             -0.033943       -0.001550    -0.003700  0.022065   \n",
       "ApplicantIncome           -0.045242       -0.018615    -0.004710  0.015829   \n",
       "CoapplicantIncome         -0.059675        0.011134    -0.059187  0.005329   \n",
       "LoanAmount                 0.038801       -0.001431    -0.036416  0.043178   \n",
       "Loan_Amount_Term           1.000000        0.000432    -0.020974  0.034433   \n",
       "Credit_History             0.000432        1.000000     0.540556 -0.020906   \n",
       "Loan_Status               -0.020974        0.540556     1.000000 -0.100694   \n",
       "Rural                      0.034433       -0.020906    -0.100694  1.000000   \n",
       "Semiurban                  0.061365        0.035976     0.136540 -0.501646   \n",
       "Total                     -0.069830       -0.012563    -0.031271  0.017387   \n",
       "mean                      -0.064364       -0.012497    -0.031471  0.017790   \n",
       "std                       -0.071091       -0.012543    -0.033062  0.010409   \n",
       "min                             NaN             NaN          NaN       NaN   \n",
       "max                       -0.069830       -0.012563    -0.031271  0.017387   \n",
       "\n",
       "                   Semiurban     Total      mean       std  min       max  \n",
       "Gender             -0.108623  0.093191  0.093234  0.074361  NaN  0.093191  \n",
       "Married             0.005845  0.083319  0.083538  0.061991  NaN  0.083319  \n",
       "Dependents          0.003392  0.142580  0.142758  0.145406  NaN  0.142580  \n",
       "Education           0.039410  0.161362  0.162253  0.158717  NaN  0.161362  \n",
       "Self_Employed       0.008710  0.113000  0.113190  0.117151  NaN  0.113000  \n",
       "ApplicantIncome    -0.014246  0.893037  0.893174  0.911648  NaN  0.893037  \n",
       "CoapplicantIncome  -0.027044  0.342781  0.342434  0.295465  NaN  0.342781  \n",
       "LoanAmount         -0.008273  0.620102  0.624499  0.605776  NaN  0.620102  \n",
       "Loan_Amount_Term    0.061365 -0.069830 -0.064364 -0.071091  NaN -0.069830  \n",
       "Credit_History      0.035976 -0.012563 -0.012497 -0.012543  NaN -0.012563  \n",
       "Loan_Status         0.136540 -0.031271 -0.031471 -0.033062  NaN -0.031271  \n",
       "Rural              -0.501646  0.017387  0.017790  0.010409  NaN  0.017387  \n",
       "Semiurban           1.000000 -0.025728 -0.025361 -0.025088  NaN -0.025728  \n",
       "Total              -0.025728  1.000000  0.999972  0.996166  NaN  1.000000  \n",
       "mean               -0.025361  0.999972  1.000000  0.996052  NaN  0.999972  \n",
       "std                -0.025088  0.996166  0.996052  1.000000  NaN  0.996166  \n",
       "min                      NaN       NaN       NaN       NaN  NaN       NaN  \n",
       "max                -0.025728  1.000000  0.999972  0.996166  NaN  1.000000  "
      ]
     },
     "execution_count": 81,
     "metadata": {},
     "output_type": "execute_result"
    }
   ],
   "source": [
    "df5.corr()"
   ]
  },
  {
   "cell_type": "code",
   "execution_count": 82,
   "id": "af37f127",
   "metadata": {
    "ExecuteTime": {
     "end_time": "2022-01-14T17:09:34.971394Z",
     "start_time": "2022-01-14T17:09:32.642908Z"
    }
   },
   "outputs": [
    {
     "data": {
      "image/png": "[encoded data removed]",
      "text/plain": [
       "<Figure size 864x720 with 2 Axes>"
      ]
     },
     "metadata": {
      "needs_background": "light"
     },
     "output_type": "display_data"
    }
   ],
   "source": [
    "plt.figure(figsize=(12,10))\n",
    "sns.heatmap(df5.corr(), annot=True, fmt='.2f', cmap='YlGnBu');"
   ]
  },
  {
   "cell_type": "markdown",
   "id": "b9bb3e4d",
   "metadata": {},
   "source": [
    "<a id='6'></a>\n",
    "# Assign Feature and target variables"
   ]
  },
  {
   "cell_type": "code",
   "execution_count": 83,
   "id": "f9ae7fba",
   "metadata": {
    "ExecuteTime": {
     "end_time": "2022-01-14T17:09:34.987333Z",
     "start_time": "2022-01-14T17:09:34.972357Z"
    }
   },
   "outputs": [],
   "source": [
    "X = df5.drop(['Loan_Status'], axis=1)\n",
    "y = df5.Loan_Status"
   ]
  },
  {
   "cell_type": "markdown",
   "id": "519a6fe3",
   "metadata": {},
   "source": [
    "<a id='7'></a>\n",
    "# Feature Scaling"
   ]
  },
  {
   "cell_type": "code",
   "execution_count": 84,
   "id": "5fe68a16",
   "metadata": {
    "ExecuteTime": {
     "end_time": "2022-01-14T17:09:35.003275Z",
     "start_time": "2022-01-14T17:09:34.992304Z"
    }
   },
   "outputs": [
    {
     "data": {
      "text/plain": [
       "array([ 0.47234264, -1.37208932, -0.6827291 ,  0.52836225, -0.39260074,\n",
       "        0.07299082, -0.55448733,  0.        ,  0.27985054,  0.41173269,\n",
       "       -0.64147818, -0.7820157 , -0.18218376, -0.1802496 , -0.1062661 ,\n",
       "        0.        , -0.18218376])"
      ]
     },
     "execution_count": 84,
     "metadata": {},
     "output_type": "execute_result"
    }
   ],
   "source": [
    "scaler = StandardScaler()\n",
    "X_scale = scaler.fit_transform(X)\n",
    "X_scale[0]"
   ]
  },
  {
   "cell_type": "markdown",
   "id": "9cff3edc",
   "metadata": {},
   "source": [
    "<a id='8'></a>\n",
    "# Splitting the data into Training and Teting data"
   ]
  },
  {
   "cell_type": "code",
   "execution_count": 85,
   "id": "b3d97e64",
   "metadata": {
    "ExecuteTime": {
     "end_time": "2022-01-14T17:09:35.019233Z",
     "start_time": "2022-01-14T17:09:35.004272Z"
    }
   },
   "outputs": [],
   "source": [
    "X_train, X_test, y_train, y_test = train_test_split(X_scale, y, test_size=0.25, random_state=205)"
   ]
  },
  {
   "cell_type": "code",
   "execution_count": 86,
   "id": "0ca2d7ef",
   "metadata": {
    "ExecuteTime": {
     "end_time": "2022-01-14T17:09:35.035188Z",
     "start_time": "2022-01-14T17:09:35.021229Z"
    }
   },
   "outputs": [
    {
     "data": {
      "text/plain": [
       "460"
      ]
     },
     "execution_count": 86,
     "metadata": {},
     "output_type": "execute_result"
    }
   ],
   "source": [
    "len(X_train)"
   ]
  },
  {
   "cell_type": "code",
   "execution_count": 87,
   "id": "089e856f",
   "metadata": {
    "ExecuteTime": {
     "end_time": "2022-01-14T17:09:35.050183Z",
     "start_time": "2022-01-14T17:09:35.036221Z"
    }
   },
   "outputs": [
    {
     "data": {
      "text/plain": [
       "154"
      ]
     },
     "execution_count": 87,
     "metadata": {},
     "output_type": "execute_result"
    }
   ],
   "source": [
    "len(X_test)"
   ]
  },
  {
   "cell_type": "markdown",
   "id": "27bbbf8e",
   "metadata": {},
   "source": [
    "<a id='9'></a>\n",
    "# Modeling"
   ]
  },
  {
   "cell_type": "code",
   "execution_count": 88,
   "id": "6e76a157",
   "metadata": {
    "ExecuteTime": {
     "end_time": "2022-01-14T17:09:35.066107Z",
     "start_time": "2022-01-14T17:09:35.051146Z"
    }
   },
   "outputs": [],
   "source": [
    "def kfolds(model, model_name):\n",
    "    model = cross_val_score(model, X,y, cv=10)\n",
    "    model_score = np.average(model)\n",
    "    print(f\"{model_name} score on cross validation: {model_score * 100}%\")\n",
    "\n",
    "def train(model, model_name):\n",
    "    model.fit(X_train, y_train)\n",
    "    model_train_score = model.score(X_train, y_train)\n",
    "    model_test_score = model.score(X_test, y_test)\n",
    "    print(f\"{model_name} model score on Training data: {model_train_score * 100}%\\n{model_name} model score on Testing data: {model_test_score * 100}%\")\n",
    "\n",
    "def conf_matrix(model):\n",
    "    y_pred = model.predict(X_test)\n",
    "    cm = confusion_matrix(y_test, y_pred)\n",
    "    plt.figure(figsize=(8,5))\n",
    "    sns.heatmap(cm, annot=True, fmt='d');\n",
    "    \n",
    "def class_report(model):\n",
    "    y_pred = model.predict(X_test)\n",
    "    print(classification_report(y_test, y_pred))\n",
    "    \n",
    "def roc(model, model_name):\n",
    "    y_pred_svm = model.decision_function(X_test)\n",
    "    svm_fpr, svm_tpr, _ = roc_curve(y_test, y_pred_svm)\n",
    "    auc_svm = auc(svm_fpr, svm_tpr)\n",
    "    plt.figure(figsize=(5, 5), dpi=100)\n",
    "    plt.plot(svm_fpr, svm_tpr, color=\"darkorange\", label=f'{model_name} (auc = %0.3f)' % auc_svm)\n",
    "    plt.plot([0, 1], [0, 1], color=\"navy\", lw=2, linestyle=\"--\")\n",
    "    plt.xlabel('False Positive Rate -->')\n",
    "    plt.ylabel('True Positive Rate -->')\n",
    "    plt.legend()\n",
    "    plt.show()"
   ]
  },
  {
   "cell_type": "markdown",
   "id": "9116e49f",
   "metadata": {},
   "source": [
    "<a id='9.1'></a>\n",
    "## Logistic Regression"
   ]
  },
  {
   "cell_type": "code",
   "execution_count": 89,
   "id": "98ac6da5",
   "metadata": {
    "ExecuteTime": {
     "end_time": "2022-01-14T17:09:35.334391Z",
     "start_time": "2022-01-14T17:09:35.067104Z"
    }
   },
   "outputs": [
    {
     "name": "stdout",
     "output_type": "stream",
     "text": [
      "Logistic Regression score on cross validation: 78.83659439450025%\n",
      "Logistic Regression model score on Training data: 79.78260869565217%\n",
      "Logistic Regression model score on Testing data: 85.71428571428571%\n"
     ]
    }
   ],
   "source": [
    "lr_model = LogisticRegression()\n",
    "kfolds(lr_model, \"Logistic Regression\")\n",
    "train(lr_model, \"Logistic Regression\")"
   ]
  },
  {
   "cell_type": "code",
   "execution_count": 90,
   "id": "985902df",
   "metadata": {
    "ExecuteTime": {
     "end_time": "2022-01-14T17:09:35.493997Z",
     "start_time": "2022-01-14T17:09:35.335388Z"
    }
   },
   "outputs": [
    {
     "data": {
      "image/png": "[encoded data removed]",
      "text/plain": [
       "<Figure size 576x360 with 2 Axes>"
      ]
     },
     "metadata": {
      "needs_background": "light"
     },
     "output_type": "display_data"
    }
   ],
   "source": [
    "conf_matrix(lr_model)"
   ]
  },
  {
   "cell_type": "code",
   "execution_count": 91,
   "id": "e1c06c12",
   "metadata": {
    "ExecuteTime": {
     "end_time": "2022-01-14T17:09:35.509919Z",
     "start_time": "2022-01-14T17:09:35.494960Z"
    }
   },
   "outputs": [
    {
     "name": "stdout",
     "output_type": "stream",
     "text": [
      "              precision    recall  f1-score   support\n",
      "\n",
      "           0       0.89      0.44      0.59        36\n",
      "           1       0.85      0.98      0.91       118\n",
      "\n",
      "    accuracy                           0.86       154\n",
      "   macro avg       0.87      0.71      0.75       154\n",
      "weighted avg       0.86      0.86      0.84       154\n",
      "\n"
     ]
    }
   ],
   "source": [
    "class_report(lr_model)"
   ]
  },
  {
   "cell_type": "code",
   "execution_count": 92,
   "id": "e671e9f9",
   "metadata": {
    "ExecuteTime": {
     "end_time": "2022-01-14T17:09:35.663721Z",
     "start_time": "2022-01-14T17:09:35.510917Z"
    }
   },
   "outputs": [
    {
     "data": {
      "image/png": "[encoded data removed]",
      "text/plain": [
       "<Figure size 500x500 with 1 Axes>"
      ]
     },
     "metadata": {
      "needs_background": "light"
     },
     "output_type": "display_data"
    }
   ],
   "source": [
    "roc(lr_model, \"Logistic Regression\")"
   ]
  },
  {
   "cell_type": "markdown",
   "id": "294bc123",
   "metadata": {},
   "source": [
    "<a id='9.2'></a>\n",
    "## Random Forest"
   ]
  },
  {
   "cell_type": "code",
   "execution_count": 93,
   "id": "0b2bab6d",
   "metadata": {
    "ExecuteTime": {
     "end_time": "2022-01-14T17:09:35.868608Z",
     "start_time": "2022-01-14T17:09:35.664719Z"
    }
   },
   "outputs": [
    {
     "name": "stdout",
     "output_type": "stream",
     "text": [
      "Random Forest model score on Training data: 100.0%\n",
      "Random Forest model score on Testing data: 85.71428571428571%\n"
     ]
    }
   ],
   "source": [
    "rf_model = RandomForestClassifier(n_estimators=120, random_state=70)\n",
    "train(rf_model, \"Random Forest\")"
   ]
  },
  {
   "cell_type": "code",
   "execution_count": 94,
   "id": "5c8bbe51",
   "metadata": {
    "ExecuteTime": {
     "end_time": "2022-01-14T17:09:36.010272Z",
     "start_time": "2022-01-14T17:09:35.869606Z"
    }
   },
   "outputs": [
    {
     "data": {
      "image/png": "[encoded data removed]",
      "text/plain": [
       "<Figure size 576x360 with 2 Axes>"
      ]
     },
     "metadata": {
      "needs_background": "light"
     },
     "output_type": "display_data"
    }
   ],
   "source": [
    "conf_matrix(rf_model)"
   ]
  },
  {
   "cell_type": "code",
   "execution_count": 95,
   "id": "78e724b7",
   "metadata": {
    "ExecuteTime": {
     "end_time": "2022-01-14T17:09:36.041409Z",
     "start_time": "2022-01-14T17:09:36.011227Z"
    }
   },
   "outputs": [
    {
     "name": "stdout",
     "output_type": "stream",
     "text": [
      "              precision    recall  f1-score   support\n",
      "\n",
      "           0       0.79      0.53      0.63        36\n",
      "           1       0.87      0.96      0.91       118\n",
      "\n",
      "    accuracy                           0.86       154\n",
      "   macro avg       0.83      0.74      0.77       154\n",
      "weighted avg       0.85      0.86      0.85       154\n",
      "\n"
     ]
    }
   ],
   "source": [
    "class_report(rf_model)"
   ]
  },
  {
   "cell_type": "markdown",
   "id": "0bc78c1d",
   "metadata": {},
   "source": [
    "<a id='9.3'></a>\n",
    "## KNN"
   ]
  },
  {
   "cell_type": "code",
   "execution_count": 96,
   "id": "f292cc84",
   "metadata": {
    "ExecuteTime": {
     "end_time": "2022-01-14T17:09:36.150133Z",
     "start_time": "2022-01-14T17:09:36.046460Z"
    }
   },
   "outputs": [
    {
     "name": "stdout",
     "output_type": "stream",
     "text": [
      "KNN score on cross validation: 58.79957694341618%\n",
      "KNN model score on Training data: 83.04347826086956%\n",
      "KNN model score on Testing data: 85.71428571428571%\n"
     ]
    }
   ],
   "source": [
    "knn_model = KNeighborsClassifier(n_neighbors=3)\n",
    "kfolds(knn_model, \"KNN\")\n",
    "train(knn_model, \"KNN\")"
   ]
  },
  {
   "cell_type": "code",
   "execution_count": 97,
   "id": "d6462f2d",
   "metadata": {
    "ExecuteTime": {
     "end_time": "2022-01-14T17:09:36.307711Z",
     "start_time": "2022-01-14T17:09:36.153124Z"
    }
   },
   "outputs": [
    {
     "data": {
      "image/png": "[encoded data removed]",
      "text/plain": [
       "<Figure size 576x360 with 2 Axes>"
      ]
     },
     "metadata": {
      "needs_background": "light"
     },
     "output_type": "display_data"
    }
   ],
   "source": [
    "conf_matrix(knn_model)"
   ]
  },
  {
   "cell_type": "markdown",
   "id": "a56cbaca",
   "metadata": {},
   "source": [
    "<a id='9.4'></a>\n",
    "## Bagging"
   ]
  },
  {
   "cell_type": "code",
   "execution_count": 98,
   "id": "4fa4dcd1",
   "metadata": {
    "ExecuteTime": {
     "end_time": "2022-01-14T17:09:38.958485Z",
     "start_time": "2022-01-14T17:09:36.309706Z"
    }
   },
   "outputs": [
    {
     "name": "stdout",
     "output_type": "stream",
     "text": [
      "Bagging score on cross validation: 78.36594394500264%\n",
      "Bagging model score on Training data: 100.0%\n",
      "Bagging model score on Testing data: 84.4155844155844%\n"
     ]
    }
   ],
   "source": [
    "bagg_model = BaggingClassifier(n_estimators = 90, random_state=20)\n",
    "kfolds(bagg_model, \"Bagging\")\n",
    "train(bagg_model, \"Bagging\")"
   ]
  },
  {
   "cell_type": "code",
   "execution_count": 99,
   "id": "722d1215",
   "metadata": {
    "ExecuteTime": {
     "end_time": "2022-01-14T17:09:39.102134Z",
     "start_time": "2022-01-14T17:09:38.960506Z"
    }
   },
   "outputs": [
    {
     "data": {
      "image/png": "[encoded data removed]",
      "text/plain": [
       "<Figure size 576x360 with 2 Axes>"
      ]
     },
     "metadata": {
      "needs_background": "light"
     },
     "output_type": "display_data"
    }
   ],
   "source": [
    "conf_matrix(bagg_model)"
   ]
  },
  {
   "cell_type": "code",
   "execution_count": 100,
   "id": "4143318d",
   "metadata": {
    "ExecuteTime": {
     "end_time": "2022-01-14T17:09:39.133340Z",
     "start_time": "2022-01-14T17:09:39.103094Z"
    }
   },
   "outputs": [
    {
     "name": "stdout",
     "output_type": "stream",
     "text": [
      "              precision    recall  f1-score   support\n",
      "\n",
      "           0       0.75      0.50      0.60        36\n",
      "           1       0.86      0.95      0.90       118\n",
      "\n",
      "    accuracy                           0.84       154\n",
      "   macro avg       0.81      0.72      0.75       154\n",
      "weighted avg       0.84      0.84      0.83       154\n",
      "\n"
     ]
    }
   ],
   "source": [
    "class_report(bagg_model)"
   ]
  },
  {
   "cell_type": "markdown",
   "id": "5eceebe1",
   "metadata": {},
   "source": [
    "<a id='9.5'></a>\n",
    "## Gradient Boosting"
   ]
  },
  {
   "cell_type": "code",
   "execution_count": 101,
   "id": "1b2ed8fd",
   "metadata": {
    "ExecuteTime": {
     "end_time": "2022-01-14T17:09:39.321930Z",
     "start_time": "2022-01-14T17:09:39.134304Z"
    }
   },
   "outputs": [
    {
     "name": "stdout",
     "output_type": "stream",
     "text": [
      "Boosting score on cross validation: 80.30671602326811%\n",
      "Boosting model score on Training data: 80.8695652173913%\n",
      "Boosting model score on Testing data: 85.06493506493507%\n"
     ]
    }
   ],
   "source": [
    "gb_model = GradientBoostingClassifier(n_estimators=10)\n",
    "kfolds(gb_model, \"Boosting\")\n",
    "train(gb_model, \"Boosting\")"
   ]
  },
  {
   "cell_type": "code",
   "execution_count": 102,
   "id": "2dde92cd",
   "metadata": {
    "ExecuteTime": {
     "end_time": "2022-01-14T17:09:39.465624Z",
     "start_time": "2022-01-14T17:09:39.323923Z"
    }
   },
   "outputs": [
    {
     "data": {
      "image/png": "[encoded data removed]",
      "text/plain": [
       "<Figure size 576x360 with 2 Axes>"
      ]
     },
     "metadata": {
      "needs_background": "light"
     },
     "output_type": "display_data"
    }
   ],
   "source": [
    "conf_matrix(gb_model)"
   ]
  },
  {
   "cell_type": "code",
   "execution_count": 103,
   "id": "43484e09",
   "metadata": {
    "ExecuteTime": {
     "end_time": "2022-01-14T17:09:39.480634Z",
     "start_time": "2022-01-14T17:09:39.466622Z"
    }
   },
   "outputs": [
    {
     "name": "stdout",
     "output_type": "stream",
     "text": [
      "              precision    recall  f1-score   support\n",
      "\n",
      "           0       0.88      0.42      0.57        36\n",
      "           1       0.85      0.98      0.91       118\n",
      "\n",
      "    accuracy                           0.85       154\n",
      "   macro avg       0.86      0.70      0.74       154\n",
      "weighted avg       0.86      0.85      0.83       154\n",
      "\n"
     ]
    }
   ],
   "source": [
    "class_report(gb_model)"
   ]
  },
  {
   "cell_type": "markdown",
   "id": "36e1dca6",
   "metadata": {},
   "source": [
    "<a id='9.6'></a>\n",
    "## Decision Tree"
   ]
  },
  {
   "cell_type": "code",
   "execution_count": 104,
   "id": "d9704ca5",
   "metadata": {
    "ExecuteTime": {
     "end_time": "2022-01-14T17:09:39.574401Z",
     "start_time": "2022-01-14T17:09:39.481647Z"
    }
   },
   "outputs": [
    {
     "name": "stdout",
     "output_type": "stream",
     "text": [
      "Decision Tree score on cross validation: 73.12268640930724%\n",
      "Decision Tree model score on Training data: 100.0%\n",
      "Decision Tree model score on Testing data: 68.83116883116884%\n"
     ]
    }
   ],
   "source": [
    "dt_model = DecisionTreeClassifier()\n",
    "kfolds(dt_model, \"Decision Tree\")\n",
    "train(dt_model, \"Decision Tree\")"
   ]
  },
  {
   "cell_type": "code",
   "execution_count": 105,
   "id": "abb3cb84",
   "metadata": {
    "ExecuteTime": {
     "end_time": "2022-01-14T17:09:39.795419Z",
     "start_time": "2022-01-14T17:09:39.576394Z"
    },
    "scrolled": true
   },
   "outputs": [
    {
     "data": {
      "image/png": "[encoded data removed]",
      "text/plain": [
       "<Figure size 576x360 with 2 Axes>"
      ]
     },
     "metadata": {
      "needs_background": "light"
     },
     "output_type": "display_data"
    }
   ],
   "source": [
    "conf_matrix(dt_model)"
   ]
  },
  {
   "cell_type": "code",
   "execution_count": 106,
   "id": "3fd768dd",
   "metadata": {
    "ExecuteTime": {
     "end_time": "2022-01-14T17:09:39.811380Z",
     "start_time": "2022-01-14T17:09:39.799414Z"
    }
   },
   "outputs": [
    {
     "name": "stdout",
     "output_type": "stream",
     "text": [
      "              precision    recall  f1-score   support\n",
      "\n",
      "           0       0.38      0.50      0.43        36\n",
      "           1       0.83      0.75      0.79       118\n",
      "\n",
      "    accuracy                           0.69       154\n",
      "   macro avg       0.60      0.62      0.61       154\n",
      "weighted avg       0.72      0.69      0.70       154\n",
      "\n"
     ]
    }
   ],
   "source": [
    "class_report(dt_model)"
   ]
  },
  {
   "cell_type": "markdown",
   "id": "9e1ce6f8",
   "metadata": {},
   "source": [
    "<a id='9.7'></a>\n",
    "## SVM"
   ]
  },
  {
   "cell_type": "code",
   "execution_count": 109,
   "id": "c7d20cc9",
   "metadata": {
    "ExecuteTime": {
     "end_time": "2022-01-14T17:09:58.558319Z",
     "start_time": "2022-01-14T17:09:55.968934Z"
    }
   },
   "outputs": [
    {
     "name": "stdout",
     "output_type": "stream",
     "text": [
      "SVM score on cross validation: 68.73083024854574%\n",
      "SVM model score on Training data: 82.6086956521739%\n",
      "SVM model score on Testing data: 85.71428571428571%\n"
     ]
    }
   ],
   "source": [
    "svm_model = SVC(kernel='poly')\n",
    "kfolds(svm_model, \"SVM\")\n",
    "train(svm_model, \"SVM\")"
   ]
  },
  {
   "cell_type": "code",
   "execution_count": 110,
   "id": "1539a05d",
   "metadata": {
    "ExecuteTime": {
     "end_time": "2022-01-14T17:10:01.861999Z",
     "start_time": "2022-01-14T17:10:01.729971Z"
    }
   },
   "outputs": [
    {
     "data": {
      "image/png": "[encoded data removed]",
      "text/plain": [
       "<Figure size 576x360 with 2 Axes>"
      ]
     },
     "metadata": {
      "needs_background": "light"
     },
     "output_type": "display_data"
    }
   ],
   "source": [
    "conf_matrix(svm_model)"
   ]
  },
  {
   "cell_type": "code",
   "execution_count": 111,
   "id": "c5840981",
   "metadata": {
    "ExecuteTime": {
     "end_time": "2022-01-14T17:10:03.876224Z",
     "start_time": "2022-01-14T17:10:03.862265Z"
    }
   },
   "outputs": [
    {
     "name": "stdout",
     "output_type": "stream",
     "text": [
      "              precision    recall  f1-score   support\n",
      "\n",
      "           0       0.85      0.47      0.61        36\n",
      "           1       0.86      0.97      0.91       118\n",
      "\n",
      "    accuracy                           0.86       154\n",
      "   macro avg       0.85      0.72      0.76       154\n",
      "weighted avg       0.86      0.86      0.84       154\n",
      "\n"
     ]
    }
   ],
   "source": [
    "class_report(svm_model)"
   ]
  },
  {
   "cell_type": "code",
   "execution_count": 112,
   "id": "29c804a3",
   "metadata": {
    "ExecuteTime": {
     "end_time": "2022-01-14T17:10:05.393356Z",
     "start_time": "2022-01-14T17:10:05.243212Z"
    }
   },
   "outputs": [
    {
     "data": {
      "image/png": "[encoded data removed]",
      "text/plain": [
       "<Figure size 500x500 with 1 Axes>"
      ]
     },
     "metadata": {
      "needs_background": "light"
     },
     "output_type": "display_data"
    }
   ],
   "source": [
    "roc(svm_model, \"SVM\")"
   ]
  },
  {
   "cell_type": "markdown",
   "id": "5a21bf2f",
   "metadata": {},
   "source": [
    "<a id='10.'></a>\n",
    "# TP, TN, FP, FN"
   ]
  },
  {
   "cell_type": "code",
   "execution_count": 113,
   "id": "5c82f417",
   "metadata": {
    "ExecuteTime": {
     "end_time": "2022-01-14T17:10:13.865218Z",
     "start_time": "2022-01-14T17:10:13.844249Z"
    }
   },
   "outputs": [],
   "source": [
    "def tp(model, model_name):\n",
    "    y_pred = model.predict(X_test)\n",
    "    cm = confusion_matrix(y_test, y_pred)\n",
    "    TN = cm[0][0]\n",
    "    FN = cm[1][0]\n",
    "    TP = cm[1][1]\n",
    "    FP = cm[0][1]\n",
    "    ACC = (TP+TN)/(TP+FP+FN+TN)\n",
    "    TPR = TP/(TP+FN)\n",
    "    TNR = TN/(TN+FP) \n",
    "    PPV = TP/(TP+FP)\n",
    "    NPV = TN/(TN+FN)\n",
    "    FPR = FP/(FP+TN)\n",
    "    FNR = FN/(TP+FN)\n",
    "    FDR = FP/(TP+FP)\n",
    "\n",
    "    print(f\"TP, FN, TP, FP Overall Accuarcy of {model_name}: {ACC*100}%\")\n",
    "    print(f\"Sensitivity Accuarcy of {model_name}: {TPR * 100}%\")\n",
    "    print(f\"Specificity Negative Rate Accuarcy of {model_name}: {TNR * 100}%\")\n",
    "    print(f\"Negative predictive value Accuarcy of {model_name}: {NPV * 100}%\")\n",
    "    print(f\"Fall out Accuarcy of {model_name}: {FPR * 100}%\")\n",
    "    print(f\"False negative rate Accuarcy of {model_name}: {FNR * 100}%\")\n",
    "    print(f\"False discovery rate Accuarcy of {model_name}: {FDR * 100}%\")"
   ]
  },
  {
   "cell_type": "markdown",
   "id": "2e6a4289",
   "metadata": {},
   "source": [
    "<a id='10.1'></a>\n",
    "## Logistic Regression"
   ]
  },
  {
   "cell_type": "code",
   "execution_count": 114,
   "id": "bf483e0d",
   "metadata": {
    "ExecuteTime": {
     "end_time": "2022-01-14T17:10:14.581585Z",
     "start_time": "2022-01-14T17:10:14.565635Z"
    }
   },
   "outputs": [
    {
     "name": "stdout",
     "output_type": "stream",
     "text": [
      "TP, FN, TP, FP Overall Accuarcy of Logistic Regression: 85.71428571428571%\n",
      "Sensitivity Accuarcy of Logistic Regression: 98.30508474576271%\n",
      "Specificity Negative Rate Accuarcy of Logistic Regression: 44.44444444444444%\n",
      "Negative predictive value Accuarcy of Logistic Regression: 88.88888888888889%\n",
      "Fall out Accuarcy of Logistic Regression: 55.55555555555556%\n",
      "False negative rate Accuarcy of Logistic Regression: 1.694915254237288%\n",
      "False discovery rate Accuarcy of Logistic Regression: 14.705882352941178%\n"
     ]
    }
   ],
   "source": [
    "tp(lr_model, \"Logistic Regression\")"
   ]
  },
  {
   "cell_type": "markdown",
   "id": "49cc683d",
   "metadata": {},
   "source": [
    "<a id='10.2'></a>\n",
    "## Random Forest"
   ]
  },
  {
   "cell_type": "code",
   "execution_count": 115,
   "id": "7c0c35ec",
   "metadata": {
    "ExecuteTime": {
     "end_time": "2022-01-14T17:10:15.250843Z",
     "start_time": "2022-01-14T17:10:15.231895Z"
    }
   },
   "outputs": [
    {
     "name": "stdout",
     "output_type": "stream",
     "text": [
      "TP, FN, TP, FP Overall Accuarcy of Random Forest: 85.71428571428571%\n",
      "Sensitivity Accuarcy of Random Forest: 95.76271186440678%\n",
      "Specificity Negative Rate Accuarcy of Random Forest: 52.77777777777778%\n",
      "Negative predictive value Accuarcy of Random Forest: 79.16666666666666%\n",
      "Fall out Accuarcy of Random Forest: 47.22222222222222%\n",
      "False negative rate Accuarcy of Random Forest: 4.23728813559322%\n",
      "False discovery rate Accuarcy of Random Forest: 13.076923076923078%\n"
     ]
    }
   ],
   "source": [
    "tp(rf_model, \"Random Forest\")"
   ]
  },
  {
   "cell_type": "markdown",
   "id": "b93d8a91",
   "metadata": {},
   "source": [
    "<a id='10.3'></a>\n",
    "## KNN"
   ]
  },
  {
   "cell_type": "code",
   "execution_count": 116,
   "id": "62f5edda",
   "metadata": {
    "ExecuteTime": {
     "end_time": "2022-01-14T17:10:15.917563Z",
     "start_time": "2022-01-14T17:10:15.904597Z"
    }
   },
   "outputs": [
    {
     "name": "stdout",
     "output_type": "stream",
     "text": [
      "TP, FN, TP, FP Overall Accuarcy of KNN: 85.71428571428571%\n",
      "Sensitivity Accuarcy of KNN: 94.91525423728814%\n",
      "Specificity Negative Rate Accuarcy of KNN: 55.55555555555556%\n",
      "Negative predictive value Accuarcy of KNN: 76.92307692307693%\n",
      "Fall out Accuarcy of KNN: 44.44444444444444%\n",
      "False negative rate Accuarcy of KNN: 5.084745762711865%\n",
      "False discovery rate Accuarcy of KNN: 12.5%\n"
     ]
    }
   ],
   "source": [
    "tp(knn_model, \"KNN\")"
   ]
  },
  {
   "cell_type": "markdown",
   "id": "e8d8ef96",
   "metadata": {},
   "source": [
    "<a id='10.4'></a>\n",
    "## Bagging "
   ]
  },
  {
   "cell_type": "code",
   "execution_count": 117,
   "id": "fc30645f",
   "metadata": {
    "ExecuteTime": {
     "end_time": "2022-01-14T17:10:16.539169Z",
     "start_time": "2022-01-14T17:10:16.517229Z"
    }
   },
   "outputs": [
    {
     "name": "stdout",
     "output_type": "stream",
     "text": [
      "TP, FN, TP, FP Overall Accuarcy of Bagging: 84.4155844155844%\n",
      "Sensitivity Accuarcy of Bagging: 94.91525423728814%\n",
      "Specificity Negative Rate Accuarcy of Bagging: 50.0%\n",
      "Negative predictive value Accuarcy of Bagging: 75.0%\n",
      "Fall out Accuarcy of Bagging: 50.0%\n",
      "False negative rate Accuarcy of Bagging: 5.084745762711865%\n",
      "False discovery rate Accuarcy of Bagging: 13.846153846153847%\n"
     ]
    }
   ],
   "source": [
    "tp(bagg_model, \"Bagging\")"
   ]
  },
  {
   "cell_type": "markdown",
   "id": "229e731a",
   "metadata": {},
   "source": [
    "<a id='10.5'></a>\n",
    "## Gradient Boosting"
   ]
  },
  {
   "cell_type": "code",
   "execution_count": 118,
   "id": "52a8f2f8",
   "metadata": {
    "ExecuteTime": {
     "end_time": "2022-01-14T17:10:17.551037Z",
     "start_time": "2022-01-14T17:10:17.532756Z"
    }
   },
   "outputs": [
    {
     "name": "stdout",
     "output_type": "stream",
     "text": [
      "TP, FN, TP, FP Overall Accuarcy of Gradient Boosting: 85.06493506493507%\n",
      "Sensitivity Accuarcy of Gradient Boosting: 98.30508474576271%\n",
      "Specificity Negative Rate Accuarcy of Gradient Boosting: 41.66666666666667%\n",
      "Negative predictive value Accuarcy of Gradient Boosting: 88.23529411764706%\n",
      "Fall out Accuarcy of Gradient Boosting: 58.333333333333336%\n",
      "False negative rate Accuarcy of Gradient Boosting: 1.694915254237288%\n",
      "False discovery rate Accuarcy of Gradient Boosting: 15.328467153284672%\n"
     ]
    }
   ],
   "source": [
    "tp(gb_model, \"Gradient Boosting\")"
   ]
  },
  {
   "cell_type": "markdown",
   "id": "ce327d15",
   "metadata": {},
   "source": [
    "<a id='10.6'></a>\n",
    "## Decision Tree"
   ]
  },
  {
   "cell_type": "code",
   "execution_count": 119,
   "id": "f8b93919",
   "metadata": {
    "ExecuteTime": {
     "end_time": "2022-01-14T17:10:18.005359Z",
     "start_time": "2022-01-14T17:10:18.001370Z"
    }
   },
   "outputs": [
    {
     "name": "stdout",
     "output_type": "stream",
     "text": [
      "TP, FN, TP, FP Overall Accuarcy of Decision Tree: 68.83116883116884%\n",
      "Sensitivity Accuarcy of Decision Tree: 74.57627118644068%\n",
      "Specificity Negative Rate Accuarcy of Decision Tree: 50.0%\n",
      "Negative predictive value Accuarcy of Decision Tree: 37.5%\n",
      "Fall out Accuarcy of Decision Tree: 50.0%\n",
      "False negative rate Accuarcy of Decision Tree: 25.423728813559322%\n",
      "False discovery rate Accuarcy of Decision Tree: 16.9811320754717%\n"
     ]
    }
   ],
   "source": [
    "tp(dt_model, \"Decision Tree\")"
   ]
  },
  {
   "cell_type": "markdown",
   "id": "623ab266",
   "metadata": {},
   "source": [
    "<a id='10.7'></a>\n",
    "## SVM"
   ]
  },
  {
   "cell_type": "code",
   "execution_count": 120,
   "id": "baeb692a",
   "metadata": {
    "ExecuteTime": {
     "end_time": "2022-01-14T17:10:18.596441Z",
     "start_time": "2022-01-14T17:10:18.580787Z"
    }
   },
   "outputs": [
    {
     "name": "stdout",
     "output_type": "stream",
     "text": [
      "TP, FN, TP, FP Overall Accuarcy of SVM: 85.71428571428571%\n",
      "Sensitivity Accuarcy of SVM: 97.45762711864407%\n",
      "Specificity Negative Rate Accuarcy of SVM: 47.22222222222222%\n",
      "Negative predictive value Accuarcy of SVM: 85.0%\n",
      "Fall out Accuarcy of SVM: 52.77777777777778%\n",
      "False negative rate Accuarcy of SVM: 2.5423728813559325%\n",
      "False discovery rate Accuarcy of SVM: 14.17910447761194%\n"
     ]
    }
   ],
   "source": [
    "tp(svm_model, \"SVM\")"
   ]
  },
  {
   "cell_type": "markdown",
   "id": "378e5b8a",
   "metadata": {},
   "source": [
    "<a id='11'></a>\n",
    "# Automated Machine Learning"
   ]
  },
  {
   "cell_type": "code",
   "execution_count": 122,
   "id": "ba035a35",
   "metadata": {
    "ExecuteTime": {
     "end_time": "2022-01-14T18:23:59.476869Z",
     "start_time": "2022-01-14T17:12:15.237943Z"
    }
   },
   "outputs": [
    {
     "data": {
      "application/vnd.jupyter.widget-view+json": {
       "model_id": "",
       "version_major": 2,
       "version_minor": 0
      },
      "text/plain": [
       "Optimization Progress:   0%|          | 0/2200 [00:00<?, ?pipeline/s]"
      ]
     },
     "metadata": {},
     "output_type": "display_data"
    },
    {
     "name": "stdout",
     "output_type": "stream",
     "text": [
      "\n",
      "Generation 1 - Current best internal CV score: 0.7978260869565217\n",
      "\n",
      "Generation 2 - Current best internal CV score: 0.7978260869565217\n",
      "\n",
      "Generation 3 - Current best internal CV score: 0.7999999999999999\n",
      "\n",
      "Generation 4 - Current best internal CV score: 0.7999999999999999\n",
      "\n",
      "Generation 5 - Current best internal CV score: 0.7999999999999999\n",
      "\n",
      "Generation 6 - Current best internal CV score: 0.7999999999999999\n",
      "\n",
      "Generation 7 - Current best internal CV score: 0.8021739130434783\n",
      "\n",
      "Generation 8 - Current best internal CV score: 0.8021739130434783\n",
      "\n",
      "Generation 9 - Current best internal CV score: 0.8021739130434783\n",
      "\n",
      "Generation 10 - Current best internal CV score: 0.8021739130434783\n",
      "\n",
      "Best pipeline: KNeighborsClassifier(SelectPercentile(RandomForestClassifier(input_matrix, bootstrap=True, criterion=entropy, max_features=0.5, min_samples_leaf=18, min_samples_split=12, n_estimators=100), percentile=72), n_neighbors=76, p=1, weights=distance)\n",
      "AutoML model score on Training data: 100.0%\n",
      "AutoML model score on Testing data: 85.71428571428571%\n"
     ]
    }
   ],
   "source": [
    "tpot_model = TPOTClassifier(generations = 10, \n",
    "                            population_size=200, \n",
    "                            verbosity=2,\n",
    "                            cv = 20,\n",
    "                            random_state=0\n",
    "                           )\n",
    "train(tpot_model, \"AutoML\")"
   ]
  },
  {
   "cell_type": "code",
   "execution_count": 123,
   "id": "0b13c8c7",
   "metadata": {
    "ExecuteTime": {
     "end_time": "2022-01-14T18:24:00.441052Z",
     "start_time": "2022-01-14T18:24:00.277597Z"
    }
   },
   "outputs": [
    {
     "data": {
      "image/png": "[encoded data removed]",
      "text/plain": [
       "<Figure size 576x360 with 2 Axes>"
      ]
     },
     "metadata": {
      "needs_background": "light"
     },
     "output_type": "display_data"
    }
   ],
   "source": [
    "conf_matrix(tpot_model)"
   ]
  },
  {
   "cell_type": "code",
   "execution_count": 124,
   "id": "fbfedf91",
   "metadata": {
    "ExecuteTime": {
     "end_time": "2022-01-14T18:24:01.365391Z",
     "start_time": "2022-01-14T18:24:01.321303Z"
    }
   },
   "outputs": [
    {
     "name": "stdout",
     "output_type": "stream",
     "text": [
      "              precision    recall  f1-score   support\n",
      "\n",
      "           0       0.89      0.44      0.59        36\n",
      "           1       0.85      0.98      0.91       118\n",
      "\n",
      "    accuracy                           0.86       154\n",
      "   macro avg       0.87      0.71      0.75       154\n",
      "weighted avg       0.86      0.86      0.84       154\n",
      "\n"
     ]
    }
   ],
   "source": [
    "class_report(tpot_model)"
   ]
  },
  {
   "cell_type": "code",
   "execution_count": 125,
   "id": "e5ce959b",
   "metadata": {
    "ExecuteTime": {
     "end_time": "2022-01-14T18:24:01.942918Z",
     "start_time": "2022-01-14T18:24:01.906818Z"
    }
   },
   "outputs": [
    {
     "name": "stdout",
     "output_type": "stream",
     "text": [
      "TP, FN, TP, FP Overall Accuarcy of Automated Machine Learning: 85.71428571428571%\n",
      "Sensitivity Accuarcy of Automated Machine Learning: 98.30508474576271%\n",
      "Specificity Negative Rate Accuarcy of Automated Machine Learning: 44.44444444444444%\n",
      "Negative predictive value Accuarcy of Automated Machine Learning: 88.88888888888889%\n",
      "Fall out Accuarcy of Automated Machine Learning: 55.55555555555556%\n",
      "False negative rate Accuarcy of Automated Machine Learning: 1.694915254237288%\n",
      "False discovery rate Accuarcy of Automated Machine Learning: 14.705882352941178%\n"
     ]
    }
   ],
   "source": [
    "tp(tpot_model, \"Automated Machine Learning\")"
   ]
  }
 ],
 "metadata": {
  "kernelspec": {
   "display_name": "Python 3",
   "language": "python",
   "name": "python3"
  },
  "language_info": {
   "codemirror_mode": {
    "name": "ipython",
    "version": 3
   },
   "file_extension": ".py",
   "mimetype": "text/x-python",
   "name": "python",
   "nbconvert_exporter": "python",
   "pygments_lexer": "ipython3",
   "version": "3.8.8"
  },
  "toc": {
   "base_numbering": 1,
   "nav_menu": {},
   "number_sections": true,
   "sideBar": true,
   "skip_h1_title": false,
   "title_cell": "Table of Contents",
   "title_sidebar": "Contents",
   "toc_cell": false,
   "toc_position": {},
   "toc_section_display": true,
   "toc_window_display": false
  }
 },
 "nbformat": 4,
 "nbformat_minor": 5
}
