{
 "cells": [
  {
   "cell_type": "markdown",
   "id": "c8d46952",
   "metadata": {},
   "source": [
    "# Table of Contents\n",
    "<a id=\"toc\"></a>\n",
    "- [1. Project Description](#1)\n",
    "- [2. Import Necssaries Libraries](#2)\n",
    "- [3. Exploaring the Data](#3)\n",
    "    - [3.1 Shape of the data](#3.1)\n",
    "- [4. Data Cleaning](#4)\n",
    "    - [4.1 Handling Missing Values](#4.1)\n",
    "- [5. EDA](#5)\n",
    "- [6. Data Preprocessing](#6)\n",
    "    - [6.1 Label Encoder](#6.1)\n",
    "    - [6.2 One Hot Encoder](#6.2)\n",
    "- [7. Feature Scaling](#7)\n",
    "- [8. Assign Feature and Target Variables](#8)\n",
    "- [9. Spliting the data into Training and Testing Data](#9)\n",
    "- [10. Modeling](#10)\n",
    "    - [10.1 Random Forest Regressor Model](#10.1)\n",
    "    - [10.2 Gradient Boosting Regressor Model](#10.2)\n",
    "    - [10.3 Bagging Regressor model](#10.3)\n",
    "    - [10.4 Linear Regression Model](#10.4)\n",
    "    - [10.5 SVR model](#10.5)\n",
    "    - [10.6 Decision Tree Regressor](#10.6)\n",
    "    - [10.7 XGBoost Regressor](#10.7)\n",
    "- [11. Sumbission File](#11)"
   ]
  },
  {
   "cell_type": "markdown",
   "id": "bbb9fcdf",
   "metadata": {},
   "source": [
    "<a id='1'></a>\n",
    "# Project Descriprion"
   ]
  },
  {
   "cell_type": "markdown",
   "id": "b53e493c",
   "metadata": {},
   "source": [
    "The aim is to build a predictive model and find out the sales of each product at a particular store. Using this model, BigMart will try to understand the properties of products and stores which play a key role in increasing sales."
   ]
  },
  {
   "cell_type": "markdown",
   "id": "274642bf",
   "metadata": {},
   "source": [
    "<a href=\"#toc\" role=\"button\" aria-pressed=\"true\" >⬆️Back to Table of Contents ⬆️</a>"
   ]
  },
  {
   "cell_type": "markdown",
   "id": "82f57cf8",
   "metadata": {},
   "source": [
    "<a id='2'></a>\n",
    "# Import Necssaries Libraries"
   ]
  },
  {
   "cell_type": "code",
   "execution_count": 144,
   "id": "4204c221",
   "metadata": {
    "ExecuteTime": {
     "end_time": "2022-01-05T04:03:02.082372Z",
     "start_time": "2022-01-05T04:03:02.061441Z"
    }
   },
   "outputs": [],
   "source": [
    "import pandas as pd\n",
    "import numpy as np\n",
    "from matplotlib import pyplot as plt\n",
    "%matplotlib inline\n",
    "import seaborn as sns\n",
    "\n",
    "from sklearn.preprocessing import LabelEncoder\n",
    "from sklearn.model_selection import train_test_split\n",
    "from sklearn.preprocessing import StandardScaler\n",
    "from sklearn.linear_model import LinearRegression\n",
    "from sklearn.model_selection import cross_val_score\n",
    "from sklearn.ensemble import RandomForestRegressor, GradientBoostingRegressor, BaggingRegressor\n",
    "from sklearn.svm import SVR\n",
    "from sklearn.tree import DecisionTreeRegressor\n",
    "from sklearn.metrics import r2_score\n",
    "from xgboost import XGBRegressor"
   ]
  },
  {
   "cell_type": "markdown",
   "id": "2a49e5c3",
   "metadata": {},
   "source": [
    "<a href=\"#toc\" role=\"button\" aria-pressed=\"true\" >⬆️Back to Table of Contents ⬆️</a>"
   ]
  },
  {
   "cell_type": "markdown",
   "id": "f66a6414",
   "metadata": {},
   "source": [
    "<a id='3'></a>\n",
    "# Exploaring the data"
   ]
  },
  {
   "cell_type": "code",
   "execution_count": 2,
   "id": "1e846605",
   "metadata": {
    "ExecuteTime": {
     "end_time": "2022-01-05T02:35:25.520196Z",
     "start_time": "2022-01-05T02:35:25.474336Z"
    },
    "scrolled": true
   },
   "outputs": [
    {
     "data": {
      "text/html": [
       "<div>\n",
       "<style scoped>\n",
       "    .dataframe tbody tr th:only-of-type {\n",
       "        vertical-align: middle;\n",
       "    }\n",
       "\n",
       "    .dataframe tbody tr th {\n",
       "        vertical-align: top;\n",
       "    }\n",
       "\n",
       "    .dataframe thead th {\n",
       "        text-align: right;\n",
       "    }\n",
       "</style>\n",
       "<table border=\"1\" class=\"dataframe\">\n",
       "  <thead>\n",
       "    <tr style=\"text-align: right;\">\n",
       "      <th></th>\n",
       "      <th>Item_Identifier</th>\n",
       "      <th>Item_Weight</th>\n",
       "      <th>Item_Fat_Content</th>\n",
       "      <th>Item_Visibility</th>\n",
       "      <th>Item_Type</th>\n",
       "      <th>Item_MRP</th>\n",
       "      <th>Outlet_Identifier</th>\n",
       "      <th>Outlet_Establishment_Year</th>\n",
       "      <th>Outlet_Size</th>\n",
       "      <th>Outlet_Location_Type</th>\n",
       "      <th>Outlet_Type</th>\n",
       "      <th>Item_Outlet_Sales</th>\n",
       "    </tr>\n",
       "  </thead>\n",
       "  <tbody>\n",
       "    <tr>\n",
       "      <th>0</th>\n",
       "      <td>FDA15</td>\n",
       "      <td>9.30</td>\n",
       "      <td>Low Fat</td>\n",
       "      <td>0.016047</td>\n",
       "      <td>Dairy</td>\n",
       "      <td>249.8092</td>\n",
       "      <td>OUT049</td>\n",
       "      <td>1999</td>\n",
       "      <td>Medium</td>\n",
       "      <td>Tier 1</td>\n",
       "      <td>Supermarket Type1</td>\n",
       "      <td>3735.1380</td>\n",
       "    </tr>\n",
       "    <tr>\n",
       "      <th>1</th>\n",
       "      <td>DRC01</td>\n",
       "      <td>5.92</td>\n",
       "      <td>Regular</td>\n",
       "      <td>0.019278</td>\n",
       "      <td>Soft Drinks</td>\n",
       "      <td>48.2692</td>\n",
       "      <td>OUT018</td>\n",
       "      <td>2009</td>\n",
       "      <td>Medium</td>\n",
       "      <td>Tier 3</td>\n",
       "      <td>Supermarket Type2</td>\n",
       "      <td>443.4228</td>\n",
       "    </tr>\n",
       "    <tr>\n",
       "      <th>2</th>\n",
       "      <td>FDN15</td>\n",
       "      <td>17.50</td>\n",
       "      <td>Low Fat</td>\n",
       "      <td>0.016760</td>\n",
       "      <td>Meat</td>\n",
       "      <td>141.6180</td>\n",
       "      <td>OUT049</td>\n",
       "      <td>1999</td>\n",
       "      <td>Medium</td>\n",
       "      <td>Tier 1</td>\n",
       "      <td>Supermarket Type1</td>\n",
       "      <td>2097.2700</td>\n",
       "    </tr>\n",
       "    <tr>\n",
       "      <th>3</th>\n",
       "      <td>FDX07</td>\n",
       "      <td>19.20</td>\n",
       "      <td>Regular</td>\n",
       "      <td>0.000000</td>\n",
       "      <td>Fruits and Vegetables</td>\n",
       "      <td>182.0950</td>\n",
       "      <td>OUT010</td>\n",
       "      <td>1998</td>\n",
       "      <td>NaN</td>\n",
       "      <td>Tier 3</td>\n",
       "      <td>Grocery Store</td>\n",
       "      <td>732.3800</td>\n",
       "    </tr>\n",
       "    <tr>\n",
       "      <th>4</th>\n",
       "      <td>NCD19</td>\n",
       "      <td>8.93</td>\n",
       "      <td>Low Fat</td>\n",
       "      <td>0.000000</td>\n",
       "      <td>Household</td>\n",
       "      <td>53.8614</td>\n",
       "      <td>OUT013</td>\n",
       "      <td>1987</td>\n",
       "      <td>High</td>\n",
       "      <td>Tier 3</td>\n",
       "      <td>Supermarket Type1</td>\n",
       "      <td>994.7052</td>\n",
       "    </tr>\n",
       "  </tbody>\n",
       "</table>\n",
       "</div>"
      ],
      "text/plain": [
       "  Item_Identifier  Item_Weight Item_Fat_Content  Item_Visibility  \\\n",
       "0           FDA15         9.30          Low Fat         0.016047   \n",
       "1           DRC01         5.92          Regular         0.019278   \n",
       "2           FDN15        17.50          Low Fat         0.016760   \n",
       "3           FDX07        19.20          Regular         0.000000   \n",
       "4           NCD19         8.93          Low Fat         0.000000   \n",
       "\n",
       "               Item_Type  Item_MRP Outlet_Identifier  \\\n",
       "0                  Dairy  249.8092            OUT049   \n",
       "1            Soft Drinks   48.2692            OUT018   \n",
       "2                   Meat  141.6180            OUT049   \n",
       "3  Fruits and Vegetables  182.0950            OUT010   \n",
       "4              Household   53.8614            OUT013   \n",
       "\n",
       "   Outlet_Establishment_Year Outlet_Size Outlet_Location_Type  \\\n",
       "0                       1999      Medium               Tier 1   \n",
       "1                       2009      Medium               Tier 3   \n",
       "2                       1999      Medium               Tier 1   \n",
       "3                       1998         NaN               Tier 3   \n",
       "4                       1987        High               Tier 3   \n",
       "\n",
       "         Outlet_Type  Item_Outlet_Sales  \n",
       "0  Supermarket Type1          3735.1380  \n",
       "1  Supermarket Type2           443.4228  \n",
       "2  Supermarket Type1          2097.2700  \n",
       "3      Grocery Store           732.3800  \n",
       "4  Supermarket Type1           994.7052  "
      ]
     },
     "execution_count": 2,
     "metadata": {},
     "output_type": "execute_result"
    }
   ],
   "source": [
    "train = pd.read_csv('Train.csv') # read train data\n",
    "train.head()"
   ]
  },
  {
   "cell_type": "code",
   "execution_count": 3,
   "id": "1c523b84",
   "metadata": {
    "ExecuteTime": {
     "end_time": "2022-01-05T02:35:26.091332Z",
     "start_time": "2022-01-05T02:35:26.058415Z"
    }
   },
   "outputs": [
    {
     "data": {
      "text/html": [
       "<div>\n",
       "<style scoped>\n",
       "    .dataframe tbody tr th:only-of-type {\n",
       "        vertical-align: middle;\n",
       "    }\n",
       "\n",
       "    .dataframe tbody tr th {\n",
       "        vertical-align: top;\n",
       "    }\n",
       "\n",
       "    .dataframe thead th {\n",
       "        text-align: right;\n",
       "    }\n",
       "</style>\n",
       "<table border=\"1\" class=\"dataframe\">\n",
       "  <thead>\n",
       "    <tr style=\"text-align: right;\">\n",
       "      <th></th>\n",
       "      <th>Item_Identifier</th>\n",
       "      <th>Item_Weight</th>\n",
       "      <th>Item_Fat_Content</th>\n",
       "      <th>Item_Visibility</th>\n",
       "      <th>Item_Type</th>\n",
       "      <th>Item_MRP</th>\n",
       "      <th>Outlet_Identifier</th>\n",
       "      <th>Outlet_Establishment_Year</th>\n",
       "      <th>Outlet_Size</th>\n",
       "      <th>Outlet_Location_Type</th>\n",
       "      <th>Outlet_Type</th>\n",
       "    </tr>\n",
       "  </thead>\n",
       "  <tbody>\n",
       "    <tr>\n",
       "      <th>0</th>\n",
       "      <td>FDW58</td>\n",
       "      <td>20.750</td>\n",
       "      <td>Low Fat</td>\n",
       "      <td>0.007565</td>\n",
       "      <td>Snack Foods</td>\n",
       "      <td>107.8622</td>\n",
       "      <td>OUT049</td>\n",
       "      <td>1999</td>\n",
       "      <td>Medium</td>\n",
       "      <td>Tier 1</td>\n",
       "      <td>Supermarket Type1</td>\n",
       "    </tr>\n",
       "    <tr>\n",
       "      <th>1</th>\n",
       "      <td>FDW14</td>\n",
       "      <td>8.300</td>\n",
       "      <td>reg</td>\n",
       "      <td>0.038428</td>\n",
       "      <td>Dairy</td>\n",
       "      <td>87.3198</td>\n",
       "      <td>OUT017</td>\n",
       "      <td>2007</td>\n",
       "      <td>NaN</td>\n",
       "      <td>Tier 2</td>\n",
       "      <td>Supermarket Type1</td>\n",
       "    </tr>\n",
       "    <tr>\n",
       "      <th>2</th>\n",
       "      <td>NCN55</td>\n",
       "      <td>14.600</td>\n",
       "      <td>Low Fat</td>\n",
       "      <td>0.099575</td>\n",
       "      <td>Others</td>\n",
       "      <td>241.7538</td>\n",
       "      <td>OUT010</td>\n",
       "      <td>1998</td>\n",
       "      <td>NaN</td>\n",
       "      <td>Tier 3</td>\n",
       "      <td>Grocery Store</td>\n",
       "    </tr>\n",
       "    <tr>\n",
       "      <th>3</th>\n",
       "      <td>FDQ58</td>\n",
       "      <td>7.315</td>\n",
       "      <td>Low Fat</td>\n",
       "      <td>0.015388</td>\n",
       "      <td>Snack Foods</td>\n",
       "      <td>155.0340</td>\n",
       "      <td>OUT017</td>\n",
       "      <td>2007</td>\n",
       "      <td>NaN</td>\n",
       "      <td>Tier 2</td>\n",
       "      <td>Supermarket Type1</td>\n",
       "    </tr>\n",
       "    <tr>\n",
       "      <th>4</th>\n",
       "      <td>FDY38</td>\n",
       "      <td>NaN</td>\n",
       "      <td>Regular</td>\n",
       "      <td>0.118599</td>\n",
       "      <td>Dairy</td>\n",
       "      <td>234.2300</td>\n",
       "      <td>OUT027</td>\n",
       "      <td>1985</td>\n",
       "      <td>Medium</td>\n",
       "      <td>Tier 3</td>\n",
       "      <td>Supermarket Type3</td>\n",
       "    </tr>\n",
       "  </tbody>\n",
       "</table>\n",
       "</div>"
      ],
      "text/plain": [
       "  Item_Identifier  Item_Weight Item_Fat_Content  Item_Visibility    Item_Type  \\\n",
       "0           FDW58       20.750          Low Fat         0.007565  Snack Foods   \n",
       "1           FDW14        8.300              reg         0.038428        Dairy   \n",
       "2           NCN55       14.600          Low Fat         0.099575       Others   \n",
       "3           FDQ58        7.315          Low Fat         0.015388  Snack Foods   \n",
       "4           FDY38          NaN          Regular         0.118599        Dairy   \n",
       "\n",
       "   Item_MRP Outlet_Identifier  Outlet_Establishment_Year Outlet_Size  \\\n",
       "0  107.8622            OUT049                       1999      Medium   \n",
       "1   87.3198            OUT017                       2007         NaN   \n",
       "2  241.7538            OUT010                       1998         NaN   \n",
       "3  155.0340            OUT017                       2007         NaN   \n",
       "4  234.2300            OUT027                       1985      Medium   \n",
       "\n",
       "  Outlet_Location_Type        Outlet_Type  \n",
       "0               Tier 1  Supermarket Type1  \n",
       "1               Tier 2  Supermarket Type1  \n",
       "2               Tier 3      Grocery Store  \n",
       "3               Tier 2  Supermarket Type1  \n",
       "4               Tier 3  Supermarket Type3  "
      ]
     },
     "execution_count": 3,
     "metadata": {},
     "output_type": "execute_result"
    }
   ],
   "source": [
    "test = pd.read_csv('Test.csv') # read test data\n",
    "test.head()"
   ]
  },
  {
   "cell_type": "code",
   "execution_count": 4,
   "id": "5f7eda71",
   "metadata": {
    "ExecuteTime": {
     "end_time": "2022-01-05T02:35:28.741081Z",
     "start_time": "2022-01-05T02:35:28.728136Z"
    }
   },
   "outputs": [
    {
     "data": {
      "text/plain": [
       "(8523, 12)"
      ]
     },
     "execution_count": 4,
     "metadata": {},
     "output_type": "execute_result"
    }
   ],
   "source": [
    "train.shape # in train dataset we have 8523 rows and 12 columns"
   ]
  },
  {
   "cell_type": "code",
   "execution_count": 5,
   "id": "5a29e162",
   "metadata": {
    "ExecuteTime": {
     "end_time": "2022-01-05T02:35:29.781904Z",
     "start_time": "2022-01-05T02:35:29.770932Z"
    }
   },
   "outputs": [
    {
     "data": {
      "text/plain": [
       "(5681, 11)"
      ]
     },
     "execution_count": 5,
     "metadata": {},
     "output_type": "execute_result"
    }
   ],
   "source": [
    "test.shape # in test dataset we have 5681 rows and 11 columns"
   ]
  },
  {
   "cell_type": "code",
   "execution_count": 6,
   "id": "02420db0",
   "metadata": {
    "ExecuteTime": {
     "end_time": "2022-01-05T02:35:30.304495Z",
     "start_time": "2022-01-05T02:35:30.289546Z"
    }
   },
   "outputs": [
    {
     "name": "stdout",
     "output_type": "stream",
     "text": [
      "<class 'pandas.core.frame.DataFrame'>\n",
      "RangeIndex: 8523 entries, 0 to 8522\n",
      "Data columns (total 12 columns):\n",
      " #   Column                     Non-Null Count  Dtype  \n",
      "---  ------                     --------------  -----  \n",
      " 0   Item_Identifier            8523 non-null   object \n",
      " 1   Item_Weight                7060 non-null   float64\n",
      " 2   Item_Fat_Content           8523 non-null   object \n",
      " 3   Item_Visibility            8523 non-null   float64\n",
      " 4   Item_Type                  8523 non-null   object \n",
      " 5   Item_MRP                   8523 non-null   float64\n",
      " 6   Outlet_Identifier          8523 non-null   object \n",
      " 7   Outlet_Establishment_Year  8523 non-null   int64  \n",
      " 8   Outlet_Size                6113 non-null   object \n",
      " 9   Outlet_Location_Type       8523 non-null   object \n",
      " 10  Outlet_Type                8523 non-null   object \n",
      " 11  Item_Outlet_Sales          8523 non-null   float64\n",
      "dtypes: float64(4), int64(1), object(7)\n",
      "memory usage: 799.2+ KB\n"
     ]
    }
   ],
   "source": [
    "train.info() "
   ]
  },
  {
   "cell_type": "code",
   "execution_count": 7,
   "id": "2011c8f0",
   "metadata": {
    "ExecuteTime": {
     "end_time": "2022-01-05T02:35:30.841974Z",
     "start_time": "2022-01-05T02:35:30.823024Z"
    },
    "scrolled": true
   },
   "outputs": [
    {
     "name": "stdout",
     "output_type": "stream",
     "text": [
      "<class 'pandas.core.frame.DataFrame'>\n",
      "RangeIndex: 5681 entries, 0 to 5680\n",
      "Data columns (total 11 columns):\n",
      " #   Column                     Non-Null Count  Dtype  \n",
      "---  ------                     --------------  -----  \n",
      " 0   Item_Identifier            5681 non-null   object \n",
      " 1   Item_Weight                4705 non-null   float64\n",
      " 2   Item_Fat_Content           5681 non-null   object \n",
      " 3   Item_Visibility            5681 non-null   float64\n",
      " 4   Item_Type                  5681 non-null   object \n",
      " 5   Item_MRP                   5681 non-null   float64\n",
      " 6   Outlet_Identifier          5681 non-null   object \n",
      " 7   Outlet_Establishment_Year  5681 non-null   int64  \n",
      " 8   Outlet_Size                4075 non-null   object \n",
      " 9   Outlet_Location_Type       5681 non-null   object \n",
      " 10  Outlet_Type                5681 non-null   object \n",
      "dtypes: float64(3), int64(1), object(7)\n",
      "memory usage: 488.3+ KB\n"
     ]
    }
   ],
   "source": [
    "test.info()"
   ]
  },
  {
   "cell_type": "code",
   "execution_count": 8,
   "id": "a615e0f1",
   "metadata": {
    "ExecuteTime": {
     "end_time": "2022-01-05T02:35:31.395406Z",
     "start_time": "2022-01-05T02:35:31.377529Z"
    }
   },
   "outputs": [
    {
     "data": {
      "text/plain": [
       "Item_Identifier              1559\n",
       "Item_Weight                   415\n",
       "Item_Fat_Content                5\n",
       "Item_Visibility              7880\n",
       "Item_Type                      16\n",
       "Item_MRP                     5938\n",
       "Outlet_Identifier              10\n",
       "Outlet_Establishment_Year       9\n",
       "Outlet_Size                     3\n",
       "Outlet_Location_Type            3\n",
       "Outlet_Type                     4\n",
       "Item_Outlet_Sales            3493\n",
       "dtype: int64"
      ]
     },
     "execution_count": 8,
     "metadata": {},
     "output_type": "execute_result"
    }
   ],
   "source": [
    "train.nunique()"
   ]
  },
  {
   "cell_type": "code",
   "execution_count": 9,
   "id": "3719112e",
   "metadata": {
    "ExecuteTime": {
     "end_time": "2022-01-05T02:35:32.057113Z",
     "start_time": "2022-01-05T02:35:32.037165Z"
    }
   },
   "outputs": [
    {
     "data": {
      "text/plain": [
       "Item_Identifier              1543\n",
       "Item_Weight                   410\n",
       "Item_Fat_Content                5\n",
       "Item_Visibility              5277\n",
       "Item_Type                      16\n",
       "Item_MRP                     4402\n",
       "Outlet_Identifier              10\n",
       "Outlet_Establishment_Year       9\n",
       "Outlet_Size                     3\n",
       "Outlet_Location_Type            3\n",
       "Outlet_Type                     4\n",
       "dtype: int64"
      ]
     },
     "execution_count": 9,
     "metadata": {},
     "output_type": "execute_result"
    }
   ],
   "source": [
    "test.nunique()"
   ]
  },
  {
   "cell_type": "markdown",
   "id": "42ac3257",
   "metadata": {},
   "source": [
    "Categorical Features:\n",
    "\n",
    "Item_Fat_Content<br>\n",
    "Item_Type<br>\n",
    "Outlet_Identifier<br>\n",
    "Outlet_Size<br>\n",
    "Outlet_Location_Type<br>\n",
    "Outlet_Type"
   ]
  },
  {
   "cell_type": "code",
   "execution_count": 10,
   "id": "8d8bce1d",
   "metadata": {
    "ExecuteTime": {
     "end_time": "2022-01-05T02:35:33.334673Z",
     "start_time": "2022-01-05T02:35:33.313729Z"
    }
   },
   "outputs": [
    {
     "data": {
      "text/plain": [
       "Index(['Item_Weight', 'Outlet_Size'], dtype='object')"
      ]
     },
     "execution_count": 10,
     "metadata": {},
     "output_type": "execute_result"
    }
   ],
   "source": [
    "train.columns[train.isna().any()]"
   ]
  },
  {
   "cell_type": "code",
   "execution_count": 11,
   "id": "1b3db7e3",
   "metadata": {
    "ExecuteTime": {
     "end_time": "2022-01-05T02:35:33.857277Z",
     "start_time": "2022-01-05T02:35:33.840323Z"
    }
   },
   "outputs": [
    {
     "data": {
      "text/plain": [
       "Index(['Item_Weight', 'Outlet_Size'], dtype='object')"
      ]
     },
     "execution_count": 11,
     "metadata": {},
     "output_type": "execute_result"
    }
   ],
   "source": [
    "test.columns[test.isna().any()]"
   ]
  },
  {
   "cell_type": "code",
   "execution_count": 12,
   "id": "8d987169",
   "metadata": {
    "ExecuteTime": {
     "end_time": "2022-01-05T02:35:34.397830Z",
     "start_time": "2022-01-05T02:35:34.380877Z"
    }
   },
   "outputs": [
    {
     "data": {
      "text/plain": [
       "Item_Identifier                 0\n",
       "Item_Weight                  1463\n",
       "Item_Fat_Content                0\n",
       "Item_Visibility                 0\n",
       "Item_Type                       0\n",
       "Item_MRP                        0\n",
       "Outlet_Identifier               0\n",
       "Outlet_Establishment_Year       0\n",
       "Outlet_Size                  2410\n",
       "Outlet_Location_Type            0\n",
       "Outlet_Type                     0\n",
       "Item_Outlet_Sales               0\n",
       "dtype: int64"
      ]
     },
     "execution_count": 12,
     "metadata": {},
     "output_type": "execute_result"
    }
   ],
   "source": [
    "train.isnull().sum()"
   ]
  },
  {
   "cell_type": "code",
   "execution_count": 13,
   "id": "bece9594",
   "metadata": {
    "ExecuteTime": {
     "end_time": "2022-01-05T02:35:34.935391Z",
     "start_time": "2022-01-05T02:35:34.911456Z"
    }
   },
   "outputs": [
    {
     "data": {
      "text/plain": [
       "Item_Identifier                 0\n",
       "Item_Weight                   976\n",
       "Item_Fat_Content                0\n",
       "Item_Visibility                 0\n",
       "Item_Type                       0\n",
       "Item_MRP                        0\n",
       "Outlet_Identifier               0\n",
       "Outlet_Establishment_Year       0\n",
       "Outlet_Size                  1606\n",
       "Outlet_Location_Type            0\n",
       "Outlet_Type                     0\n",
       "dtype: int64"
      ]
     },
     "execution_count": 13,
     "metadata": {},
     "output_type": "execute_result"
    }
   ],
   "source": [
    "test.isnull().sum()"
   ]
  },
  {
   "cell_type": "code",
   "execution_count": 14,
   "id": "4618cf3b",
   "metadata": {
    "ExecuteTime": {
     "end_time": "2022-01-05T02:35:35.467982Z",
     "start_time": "2022-01-05T02:35:35.448165Z"
    }
   },
   "outputs": [
    {
     "data": {
      "text/html": [
       "<div>\n",
       "<style scoped>\n",
       "    .dataframe tbody tr th:only-of-type {\n",
       "        vertical-align: middle;\n",
       "    }\n",
       "\n",
       "    .dataframe tbody tr th {\n",
       "        vertical-align: top;\n",
       "    }\n",
       "\n",
       "    .dataframe thead th {\n",
       "        text-align: right;\n",
       "    }\n",
       "</style>\n",
       "<table border=\"1\" class=\"dataframe\">\n",
       "  <thead>\n",
       "    <tr style=\"text-align: right;\">\n",
       "      <th></th>\n",
       "      <th>Item_Weight</th>\n",
       "      <th>Item_Visibility</th>\n",
       "      <th>Item_MRP</th>\n",
       "      <th>Outlet_Establishment_Year</th>\n",
       "      <th>Item_Outlet_Sales</th>\n",
       "    </tr>\n",
       "  </thead>\n",
       "  <tbody>\n",
       "    <tr>\n",
       "      <th>count</th>\n",
       "      <td>7060.000000</td>\n",
       "      <td>8523.000000</td>\n",
       "      <td>8523.000000</td>\n",
       "      <td>8523.000000</td>\n",
       "      <td>8523.000000</td>\n",
       "    </tr>\n",
       "    <tr>\n",
       "      <th>mean</th>\n",
       "      <td>12.857645</td>\n",
       "      <td>0.066132</td>\n",
       "      <td>140.992782</td>\n",
       "      <td>1997.831867</td>\n",
       "      <td>2181.288914</td>\n",
       "    </tr>\n",
       "    <tr>\n",
       "      <th>std</th>\n",
       "      <td>4.643456</td>\n",
       "      <td>0.051598</td>\n",
       "      <td>62.275067</td>\n",
       "      <td>8.371760</td>\n",
       "      <td>1706.499616</td>\n",
       "    </tr>\n",
       "    <tr>\n",
       "      <th>min</th>\n",
       "      <td>4.555000</td>\n",
       "      <td>0.000000</td>\n",
       "      <td>31.290000</td>\n",
       "      <td>1985.000000</td>\n",
       "      <td>33.290000</td>\n",
       "    </tr>\n",
       "    <tr>\n",
       "      <th>25%</th>\n",
       "      <td>8.773750</td>\n",
       "      <td>0.026989</td>\n",
       "      <td>93.826500</td>\n",
       "      <td>1987.000000</td>\n",
       "      <td>834.247400</td>\n",
       "    </tr>\n",
       "    <tr>\n",
       "      <th>50%</th>\n",
       "      <td>12.600000</td>\n",
       "      <td>0.053931</td>\n",
       "      <td>143.012800</td>\n",
       "      <td>1999.000000</td>\n",
       "      <td>1794.331000</td>\n",
       "    </tr>\n",
       "    <tr>\n",
       "      <th>75%</th>\n",
       "      <td>16.850000</td>\n",
       "      <td>0.094585</td>\n",
       "      <td>185.643700</td>\n",
       "      <td>2004.000000</td>\n",
       "      <td>3101.296400</td>\n",
       "    </tr>\n",
       "    <tr>\n",
       "      <th>max</th>\n",
       "      <td>21.350000</td>\n",
       "      <td>0.328391</td>\n",
       "      <td>266.888400</td>\n",
       "      <td>2009.000000</td>\n",
       "      <td>13086.964800</td>\n",
       "    </tr>\n",
       "  </tbody>\n",
       "</table>\n",
       "</div>"
      ],
      "text/plain": [
       "       Item_Weight  Item_Visibility     Item_MRP  Outlet_Establishment_Year  \\\n",
       "count  7060.000000      8523.000000  8523.000000                8523.000000   \n",
       "mean     12.857645         0.066132   140.992782                1997.831867   \n",
       "std       4.643456         0.051598    62.275067                   8.371760   \n",
       "min       4.555000         0.000000    31.290000                1985.000000   \n",
       "25%       8.773750         0.026989    93.826500                1987.000000   \n",
       "50%      12.600000         0.053931   143.012800                1999.000000   \n",
       "75%      16.850000         0.094585   185.643700                2004.000000   \n",
       "max      21.350000         0.328391   266.888400                2009.000000   \n",
       "\n",
       "       Item_Outlet_Sales  \n",
       "count        8523.000000  \n",
       "mean         2181.288914  \n",
       "std          1706.499616  \n",
       "min            33.290000  \n",
       "25%           834.247400  \n",
       "50%          1794.331000  \n",
       "75%          3101.296400  \n",
       "max         13086.964800  "
      ]
     },
     "execution_count": 14,
     "metadata": {},
     "output_type": "execute_result"
    }
   ],
   "source": [
    "train.describe()"
   ]
  },
  {
   "cell_type": "code",
   "execution_count": 15,
   "id": "9d3f6709",
   "metadata": {
    "ExecuteTime": {
     "end_time": "2022-01-05T02:35:36.092946Z",
     "start_time": "2022-01-05T02:35:36.062062Z"
    }
   },
   "outputs": [
    {
     "data": {
      "text/html": [
       "<div>\n",
       "<style scoped>\n",
       "    .dataframe tbody tr th:only-of-type {\n",
       "        vertical-align: middle;\n",
       "    }\n",
       "\n",
       "    .dataframe tbody tr th {\n",
       "        vertical-align: top;\n",
       "    }\n",
       "\n",
       "    .dataframe thead th {\n",
       "        text-align: right;\n",
       "    }\n",
       "</style>\n",
       "<table border=\"1\" class=\"dataframe\">\n",
       "  <thead>\n",
       "    <tr style=\"text-align: right;\">\n",
       "      <th></th>\n",
       "      <th>Item_Weight</th>\n",
       "      <th>Item_Visibility</th>\n",
       "      <th>Item_MRP</th>\n",
       "      <th>Outlet_Establishment_Year</th>\n",
       "    </tr>\n",
       "  </thead>\n",
       "  <tbody>\n",
       "    <tr>\n",
       "      <th>count</th>\n",
       "      <td>4705.000000</td>\n",
       "      <td>5681.000000</td>\n",
       "      <td>5681.000000</td>\n",
       "      <td>5681.000000</td>\n",
       "    </tr>\n",
       "    <tr>\n",
       "      <th>mean</th>\n",
       "      <td>12.695633</td>\n",
       "      <td>0.065684</td>\n",
       "      <td>141.023273</td>\n",
       "      <td>1997.828903</td>\n",
       "    </tr>\n",
       "    <tr>\n",
       "      <th>std</th>\n",
       "      <td>4.664849</td>\n",
       "      <td>0.051252</td>\n",
       "      <td>61.809091</td>\n",
       "      <td>8.372256</td>\n",
       "    </tr>\n",
       "    <tr>\n",
       "      <th>min</th>\n",
       "      <td>4.555000</td>\n",
       "      <td>0.000000</td>\n",
       "      <td>31.990000</td>\n",
       "      <td>1985.000000</td>\n",
       "    </tr>\n",
       "    <tr>\n",
       "      <th>25%</th>\n",
       "      <td>8.645000</td>\n",
       "      <td>0.027047</td>\n",
       "      <td>94.412000</td>\n",
       "      <td>1987.000000</td>\n",
       "    </tr>\n",
       "    <tr>\n",
       "      <th>50%</th>\n",
       "      <td>12.500000</td>\n",
       "      <td>0.054154</td>\n",
       "      <td>141.415400</td>\n",
       "      <td>1999.000000</td>\n",
       "    </tr>\n",
       "    <tr>\n",
       "      <th>75%</th>\n",
       "      <td>16.700000</td>\n",
       "      <td>0.093463</td>\n",
       "      <td>186.026600</td>\n",
       "      <td>2004.000000</td>\n",
       "    </tr>\n",
       "    <tr>\n",
       "      <th>max</th>\n",
       "      <td>21.350000</td>\n",
       "      <td>0.323637</td>\n",
       "      <td>266.588400</td>\n",
       "      <td>2009.000000</td>\n",
       "    </tr>\n",
       "  </tbody>\n",
       "</table>\n",
       "</div>"
      ],
      "text/plain": [
       "       Item_Weight  Item_Visibility     Item_MRP  Outlet_Establishment_Year\n",
       "count  4705.000000      5681.000000  5681.000000                5681.000000\n",
       "mean     12.695633         0.065684   141.023273                1997.828903\n",
       "std       4.664849         0.051252    61.809091                   8.372256\n",
       "min       4.555000         0.000000    31.990000                1985.000000\n",
       "25%       8.645000         0.027047    94.412000                1987.000000\n",
       "50%      12.500000         0.054154   141.415400                1999.000000\n",
       "75%      16.700000         0.093463   186.026600                2004.000000\n",
       "max      21.350000         0.323637   266.588400                2009.000000"
      ]
     },
     "execution_count": 15,
     "metadata": {},
     "output_type": "execute_result"
    }
   ],
   "source": [
    "test.describe()"
   ]
  },
  {
   "cell_type": "markdown",
   "id": "ba2aae9f",
   "metadata": {},
   "source": [
    "<a href=\"#toc\" role=\"button\" aria-pressed=\"true\" >⬆️Back to Table of Contents ⬆️</a>"
   ]
  },
  {
   "cell_type": "markdown",
   "id": "de5fa1fc",
   "metadata": {},
   "source": [
    "<a id='4'></a>\n",
    "# Data Cleaning"
   ]
  },
  {
   "cell_type": "markdown",
   "id": "8b86c8a0",
   "metadata": {
    "ExecuteTime": {
     "end_time": "2021-12-03T23:26:22.342219Z",
     "start_time": "2021-12-03T23:26:22.326771Z"
    }
   },
   "source": [
    "<a id='4.1'></a>\n",
    "***handling Null Values***"
   ]
  },
  {
   "cell_type": "code",
   "execution_count": 16,
   "id": "d0e7487d",
   "metadata": {
    "ExecuteTime": {
     "end_time": "2022-01-05T02:35:38.349898Z",
     "start_time": "2022-01-05T02:35:38.144497Z"
    }
   },
   "outputs": [
    {
     "data": {
      "image/png": "[encoded data removed]",
      "text/plain": [
       "<Figure size 1296x720 with 2 Axes>"
      ]
     },
     "metadata": {
      "needs_background": "light"
     },
     "output_type": "display_data"
    }
   ],
   "source": [
    "plt.figure(figsize=(18,10))\n",
    "\n",
    "plt.subplot(2,2,1)\n",
    "plt.title('Item_Weight in Train dataset')\n",
    "sns.boxplot(x='Item_Weight', data=train)\n",
    "\n",
    "plt.subplot(2,2,2)\n",
    "plt.title('Item_Weight in Test dataset')\n",
    "sns.boxplot(x='Item_Weight', data=test)\n",
    "\n",
    "plt.show()"
   ]
  },
  {
   "cell_type": "markdown",
   "id": "573025e6",
   "metadata": {},
   "source": [
    "from box plot Item Weight dosen't appear to have outliers in both datasets"
   ]
  },
  {
   "cell_type": "code",
   "execution_count": 17,
   "id": "4629c9e9",
   "metadata": {
    "ExecuteTime": {
     "end_time": "2022-01-05T02:35:39.939115Z",
     "start_time": "2022-01-05T02:35:39.921164Z"
    }
   },
   "outputs": [],
   "source": [
    "# Use the mean to replace the null values in Item_Weight feature\n",
    "train.Item_Weight = train.Item_Weight.fillna(train.Item_Weight.mean())\n",
    "test.Item_Weight = test.Item_Weight.fillna(test.Item_Weight.mean())"
   ]
  },
  {
   "cell_type": "code",
   "execution_count": 18,
   "id": "5d5b9898",
   "metadata": {
    "ExecuteTime": {
     "end_time": "2022-01-05T02:35:40.699245Z",
     "start_time": "2022-01-05T02:35:40.680295Z"
    }
   },
   "outputs": [
    {
     "data": {
      "text/plain": [
       "array(['Medium', nan, 'High', 'Small'], dtype=object)"
      ]
     },
     "execution_count": 18,
     "metadata": {},
     "output_type": "execute_result"
    }
   ],
   "source": [
    "train.Outlet_Size.unique()"
   ]
  },
  {
   "cell_type": "code",
   "execution_count": 19,
   "id": "04d2bfa6",
   "metadata": {
    "ExecuteTime": {
     "end_time": "2022-01-05T02:35:41.239652Z",
     "start_time": "2022-01-05T02:35:41.219706Z"
    }
   },
   "outputs": [
    {
     "data": {
      "text/plain": [
       "Medium    2793\n",
       "Small     2388\n",
       "High       932\n",
       "Name: Outlet_Size, dtype: int64"
      ]
     },
     "execution_count": 19,
     "metadata": {},
     "output_type": "execute_result"
    }
   ],
   "source": [
    "train.Outlet_Size.value_counts()"
   ]
  },
  {
   "cell_type": "code",
   "execution_count": 20,
   "id": "465dc1da",
   "metadata": {
    "ExecuteTime": {
     "end_time": "2022-01-05T02:35:41.956556Z",
     "start_time": "2022-01-05T02:35:41.945620Z"
    }
   },
   "outputs": [
    {
     "data": {
      "text/plain": [
       "Medium    1862\n",
       "Small     1592\n",
       "High       621\n",
       "Name: Outlet_Size, dtype: int64"
      ]
     },
     "execution_count": 20,
     "metadata": {},
     "output_type": "execute_result"
    }
   ],
   "source": [
    "test.Outlet_Size.value_counts()"
   ]
  },
  {
   "cell_type": "markdown",
   "id": "1b03a75e",
   "metadata": {},
   "source": [
    "here we can replace the null values with the mode because it is a categorical column"
   ]
  },
  {
   "cell_type": "code",
   "execution_count": 21,
   "id": "bd2ff824",
   "metadata": {
    "ExecuteTime": {
     "end_time": "2022-01-05T02:35:44.689768Z",
     "start_time": "2022-01-05T02:35:44.667829Z"
    }
   },
   "outputs": [],
   "source": [
    "train.Outlet_Size = train.Outlet_Size.fillna(train.Outlet_Size.mode()[0])\n",
    "test.Outlet_Size = test.Outlet_Size.fillna(test.Outlet_Size.mode()[0])"
   ]
  },
  {
   "cell_type": "code",
   "execution_count": 22,
   "id": "ee497f99",
   "metadata": {
    "ExecuteTime": {
     "end_time": "2022-01-05T02:35:45.368518Z",
     "start_time": "2022-01-05T02:35:45.346578Z"
    }
   },
   "outputs": [
    {
     "data": {
      "text/plain": [
       "Item_Identifier              0\n",
       "Item_Weight                  0\n",
       "Item_Fat_Content             0\n",
       "Item_Visibility              0\n",
       "Item_Type                    0\n",
       "Item_MRP                     0\n",
       "Outlet_Identifier            0\n",
       "Outlet_Establishment_Year    0\n",
       "Outlet_Size                  0\n",
       "Outlet_Location_Type         0\n",
       "Outlet_Type                  0\n",
       "Item_Outlet_Sales            0\n",
       "dtype: int64"
      ]
     },
     "execution_count": 22,
     "metadata": {},
     "output_type": "execute_result"
    }
   ],
   "source": [
    "train.isnull().sum()"
   ]
  },
  {
   "cell_type": "code",
   "execution_count": 23,
   "id": "489aa5fb",
   "metadata": {
    "ExecuteTime": {
     "end_time": "2022-01-05T02:35:45.828288Z",
     "start_time": "2022-01-05T02:35:45.808342Z"
    }
   },
   "outputs": [
    {
     "data": {
      "text/plain": [
       "Item_Identifier              0\n",
       "Item_Weight                  0\n",
       "Item_Fat_Content             0\n",
       "Item_Visibility              0\n",
       "Item_Type                    0\n",
       "Item_MRP                     0\n",
       "Outlet_Identifier            0\n",
       "Outlet_Establishment_Year    0\n",
       "Outlet_Size                  0\n",
       "Outlet_Location_Type         0\n",
       "Outlet_Type                  0\n",
       "dtype: int64"
      ]
     },
     "execution_count": 23,
     "metadata": {},
     "output_type": "execute_result"
    }
   ],
   "source": [
    "test.isnull().sum()"
   ]
  },
  {
   "cell_type": "markdown",
   "id": "8804d50c",
   "metadata": {},
   "source": [
    "<a href=\"#toc\" role=\"button\" aria-pressed=\"true\" >⬆️Back to Table of Contents ⬆️</a>"
   ]
  },
  {
   "cell_type": "markdown",
   "id": "7155a349",
   "metadata": {},
   "source": [
    "<a id='5'></a>\n",
    "# EDA"
   ]
  },
  {
   "cell_type": "code",
   "execution_count": 24,
   "id": "c94c1ed6",
   "metadata": {
    "ExecuteTime": {
     "end_time": "2022-01-05T02:35:47.239900Z",
     "start_time": "2022-01-05T02:35:47.224970Z"
    }
   },
   "outputs": [
    {
     "data": {
      "text/plain": [
       "Item_Identifier              1559\n",
       "Item_Weight                   416\n",
       "Item_Fat_Content                5\n",
       "Item_Visibility              7880\n",
       "Item_Type                      16\n",
       "Item_MRP                     5938\n",
       "Outlet_Identifier              10\n",
       "Outlet_Establishment_Year       9\n",
       "Outlet_Size                     3\n",
       "Outlet_Location_Type            3\n",
       "Outlet_Type                     4\n",
       "Item_Outlet_Sales            3493\n",
       "dtype: int64"
      ]
     },
     "execution_count": 24,
     "metadata": {},
     "output_type": "execute_result"
    }
   ],
   "source": [
    "train.nunique()"
   ]
  },
  {
   "cell_type": "code",
   "execution_count": 25,
   "id": "3a9f7d08",
   "metadata": {
    "ExecuteTime": {
     "end_time": "2022-01-05T02:35:47.587965Z",
     "start_time": "2022-01-05T02:35:47.582978Z"
    }
   },
   "outputs": [
    {
     "data": {
      "text/plain": [
       "array(['Low Fat', 'Regular', 'low fat', 'LF', 'reg'], dtype=object)"
      ]
     },
     "execution_count": 25,
     "metadata": {},
     "output_type": "execute_result"
    }
   ],
   "source": [
    "train.Item_Fat_Content.unique()"
   ]
  },
  {
   "cell_type": "code",
   "execution_count": 26,
   "id": "b2810f61",
   "metadata": {
    "ExecuteTime": {
     "end_time": "2022-01-05T02:35:48.055005Z",
     "start_time": "2022-01-05T02:35:48.046028Z"
    }
   },
   "outputs": [
    {
     "data": {
      "text/plain": [
       "Low Fat    5089\n",
       "Regular    2889\n",
       "LF          316\n",
       "reg         117\n",
       "low fat     112\n",
       "Name: Item_Fat_Content, dtype: int64"
      ]
     },
     "execution_count": 26,
     "metadata": {},
     "output_type": "execute_result"
    }
   ],
   "source": [
    "train.Item_Fat_Content.value_counts()"
   ]
  },
  {
   "cell_type": "markdown",
   "id": "4a656962",
   "metadata": {},
   "source": [
    "We see there are some irregularities in the column and it is needed to fix them!<br>\n",
    "for example there is low fat one with upper case and other with lower case and another abbreviated (LF) <br>\n",
    "also Regular and reg <br>\n",
    "so we have 2 types of item fat content Low fat and regular\n"
   ]
  },
  {
   "cell_type": "code",
   "execution_count": 27,
   "id": "29acc82d",
   "metadata": {
    "ExecuteTime": {
     "end_time": "2022-01-05T02:35:48.960640Z",
     "start_time": "2022-01-05T02:35:48.949671Z"
    }
   },
   "outputs": [],
   "source": [
    "train.Item_Fat_Content = train.Item_Fat_Content.replace(to_replace=['low fat', 'LF', 'reg'], value=['Low Fat', 'Low Fat', 'Regular'])"
   ]
  },
  {
   "cell_type": "code",
   "execution_count": 28,
   "id": "104aa0b8",
   "metadata": {
    "ExecuteTime": {
     "end_time": "2022-01-05T02:35:49.453329Z",
     "start_time": "2022-01-05T02:35:49.434373Z"
    }
   },
   "outputs": [
    {
     "data": {
      "text/plain": [
       "Low Fat    5517\n",
       "Regular    3006\n",
       "Name: Item_Fat_Content, dtype: int64"
      ]
     },
     "execution_count": 28,
     "metadata": {},
     "output_type": "execute_result"
    }
   ],
   "source": [
    "train.Item_Fat_Content.value_counts()"
   ]
  },
  {
   "cell_type": "code",
   "execution_count": 29,
   "id": "7585fb78",
   "metadata": {
    "ExecuteTime": {
     "end_time": "2022-01-05T02:35:49.834331Z",
     "start_time": "2022-01-05T02:35:49.822336Z"
    }
   },
   "outputs": [
    {
     "data": {
      "text/plain": [
       "array(['Low Fat', 'reg', 'Regular', 'LF', 'low fat'], dtype=object)"
      ]
     },
     "execution_count": 29,
     "metadata": {},
     "output_type": "execute_result"
    }
   ],
   "source": [
    "test.Item_Fat_Content.unique()"
   ]
  },
  {
   "cell_type": "code",
   "execution_count": 30,
   "id": "1e0867cf",
   "metadata": {
    "ExecuteTime": {
     "end_time": "2022-01-05T02:35:50.339197Z",
     "start_time": "2022-01-05T02:35:50.324236Z"
    }
   },
   "outputs": [
    {
     "data": {
      "text/plain": [
       "Low Fat    3396\n",
       "Regular    1935\n",
       "LF          206\n",
       "reg          78\n",
       "low fat      66\n",
       "Name: Item_Fat_Content, dtype: int64"
      ]
     },
     "execution_count": 30,
     "metadata": {},
     "output_type": "execute_result"
    }
   ],
   "source": [
    "test.Item_Fat_Content.value_counts()"
   ]
  },
  {
   "cell_type": "markdown",
   "id": "16f19a40",
   "metadata": {},
   "source": [
    "same problem in the testing data"
   ]
  },
  {
   "cell_type": "code",
   "execution_count": 31,
   "id": "0aced581",
   "metadata": {
    "ExecuteTime": {
     "end_time": "2022-01-05T02:35:51.194307Z",
     "start_time": "2022-01-05T02:35:51.182378Z"
    }
   },
   "outputs": [],
   "source": [
    "test.Item_Fat_Content = test.Item_Fat_Content.replace(to_replace=['low fat', 'LF', 'reg'], value=['Low Fat', 'Low Fat', 'Regular'])"
   ]
  },
  {
   "cell_type": "code",
   "execution_count": 32,
   "id": "d5cd0e81",
   "metadata": {
    "ExecuteTime": {
     "end_time": "2022-01-05T02:35:51.638146Z",
     "start_time": "2022-01-05T02:35:51.623160Z"
    }
   },
   "outputs": [
    {
     "data": {
      "text/plain": [
       "Low Fat    3668\n",
       "Regular    2013\n",
       "Name: Item_Fat_Content, dtype: int64"
      ]
     },
     "execution_count": 32,
     "metadata": {},
     "output_type": "execute_result"
    }
   ],
   "source": [
    "test.Item_Fat_Content.value_counts()"
   ]
  },
  {
   "cell_type": "code",
   "execution_count": 33,
   "id": "6b344ad0",
   "metadata": {
    "ExecuteTime": {
     "end_time": "2022-01-05T02:35:52.050051Z",
     "start_time": "2022-01-05T02:35:52.032066Z"
    }
   },
   "outputs": [
    {
     "data": {
      "text/plain": [
       "array(['Low Fat', 'Regular'], dtype=object)"
      ]
     },
     "execution_count": 33,
     "metadata": {},
     "output_type": "execute_result"
    }
   ],
   "source": [
    "test.Item_Fat_Content.unique()"
   ]
  },
  {
   "cell_type": "code",
   "execution_count": 34,
   "id": "e68b104c",
   "metadata": {
    "ExecuteTime": {
     "end_time": "2022-01-05T02:35:52.555666Z",
     "start_time": "2022-01-05T02:35:52.535722Z"
    }
   },
   "outputs": [
    {
     "data": {
      "text/plain": [
       "Low Fat    3668\n",
       "Regular    2013\n",
       "Name: Item_Fat_Content, dtype: int64"
      ]
     },
     "execution_count": 34,
     "metadata": {},
     "output_type": "execute_result"
    }
   ],
   "source": [
    "test.Item_Fat_Content.value_counts()"
   ]
  },
  {
   "cell_type": "code",
   "execution_count": 35,
   "id": "8534aff1",
   "metadata": {
    "ExecuteTime": {
     "end_time": "2022-01-05T02:35:53.237422Z",
     "start_time": "2022-01-05T02:35:52.956594Z"
    }
   },
   "outputs": [
    {
     "data": {
      "image/png": "[encoded data removed]",
      "text/plain": [
       "<Figure size 1296x864 with 2 Axes>"
      ]
     },
     "metadata": {
      "needs_background": "light"
     },
     "output_type": "display_data"
    }
   ],
   "source": [
    "plt.figure(figsize=(18,12))\n",
    "\n",
    "plt.subplot(2,2,1)\n",
    "plt.title(\"Item_Fat_Content Count in the Training Data\")\n",
    "sns.countplot(x='Item_Fat_Content', data=train, palette='ocean')\n",
    "\n",
    "plt.subplot(2,2,2)\n",
    "low_fat = train.Item_Fat_Content[train.Item_Fat_Content == 'Low Fat'].count()\n",
    "reg = train.Item_Fat_Content[train.Item_Fat_Content == 'Regular'].count()\n",
    "plt.title(\"Item Content Fat Distrbution in the Training Data\")\n",
    "plt.pie([low_fat, reg], labels=['Low Fat', 'Regular'], explode=[0.01,0.01], autopct=\"%.2f%%\", colors=['lightgreen', 'yellow'], shadow=True)\n",
    "plt.legend()\n",
    "\n",
    "plt.show()"
   ]
  },
  {
   "cell_type": "markdown",
   "id": "38c60c02",
   "metadata": {},
   "source": [
    "**Low Fat has the majority in the data 64.73% but Regular 35.27%**"
   ]
  },
  {
   "cell_type": "code",
   "execution_count": 36,
   "id": "e57c53f7",
   "metadata": {
    "ExecuteTime": {
     "end_time": "2022-01-05T02:35:54.656263Z",
     "start_time": "2022-01-05T02:35:54.400619Z"
    }
   },
   "outputs": [
    {
     "data": {
      "image/png": "[encoded data removed]",
      "text/plain": [
       "<Figure size 1800x576 with 1 Axes>"
      ]
     },
     "metadata": {
      "needs_background": "light"
     },
     "output_type": "display_data"
    }
   ],
   "source": [
    "plt.figure(figsize=(25,8))\n",
    "plt.title(\"Item Type count in the Training data\", {\"fontsize\" : 25})\n",
    "order = train.groupby('Item_Type').count().sort_values(by='Item_Outlet_Sales', ascending=False).index\n",
    "sns.countplot(x='Item_Type', data=train, order=order);"
   ]
  },
  {
   "cell_type": "markdown",
   "id": "f420a6fa",
   "metadata": {},
   "source": [
    "**Fruits and Vegetables are largely sold as people tend to use them on daily purpose.**<br>\n",
    "**Snack Foods too have good sales.**"
   ]
  },
  {
   "cell_type": "code",
   "execution_count": 37,
   "id": "c0b5ba33",
   "metadata": {
    "ExecuteTime": {
     "end_time": "2022-01-05T02:35:55.496345Z",
     "start_time": "2022-01-05T02:35:55.480694Z"
    }
   },
   "outputs": [
    {
     "data": {
      "text/plain": [
       "Medium    5203\n",
       "Small     2388\n",
       "High       932\n",
       "Name: Outlet_Size, dtype: int64"
      ]
     },
     "execution_count": 37,
     "metadata": {},
     "output_type": "execute_result"
    }
   ],
   "source": [
    "train.Outlet_Size.value_counts()"
   ]
  },
  {
   "cell_type": "code",
   "execution_count": 38,
   "id": "82fc1f09",
   "metadata": {
    "ExecuteTime": {
     "end_time": "2022-01-05T02:35:56.314353Z",
     "start_time": "2022-01-05T02:35:55.947087Z"
    }
   },
   "outputs": [
    {
     "data": {
      "image/png": "[encoded data removed]",
      "text/plain": [
       "<Figure size 1296x864 with 2 Axes>"
      ]
     },
     "metadata": {
      "needs_background": "light"
     },
     "output_type": "display_data"
    }
   ],
   "source": [
    "plt.figure(figsize=(18,12))\n",
    "\n",
    "plt.subplot(2,2,1)\n",
    "plt.title(\"The size of the store in terms of ground area covered count\")\n",
    "sns.countplot(x='Outlet_Size', data=train, palette='spring')\n",
    "\n",
    "plt.subplot(2,2,2)\n",
    "medium = train.Outlet_Size[train.Outlet_Size == 'Medium'].count()\n",
    "small = train.Outlet_Size[train.Outlet_Size == 'Small'].count()\n",
    "high = train.Outlet_Size[train.Outlet_Size == 'High'].count()\n",
    "plt.title(\"The size of the store in terms of ground area covered Distrbution\")\n",
    "plt.pie([medium, small, high], labels=['Medium', 'Small', 'High'], autopct=\"%.2f%%\", shadow=True, explode=[0.01,0.01,0.01])\n",
    "my_circle = plt.Circle( (0,0), 0.4, color='white')\n",
    "plt.gcf().gca().add_artist(my_circle)\n",
    "plt.legend()\n",
    "\n",
    "plt.show()"
   ]
  },
  {
   "cell_type": "markdown",
   "id": "e20dff15",
   "metadata": {},
   "source": [
    "Medium Size has the majoirty in the data 61.05%"
   ]
  },
  {
   "cell_type": "code",
   "execution_count": 39,
   "id": "e2d5d7d9",
   "metadata": {
    "ExecuteTime": {
     "end_time": "2022-01-05T02:35:57.093474Z",
     "start_time": "2022-01-05T02:35:57.085506Z"
    }
   },
   "outputs": [
    {
     "data": {
      "text/plain": [
       "array(['Tier 1', 'Tier 3', 'Tier 2'], dtype=object)"
      ]
     },
     "execution_count": 39,
     "metadata": {},
     "output_type": "execute_result"
    }
   ],
   "source": [
    "train.Outlet_Location_Type.unique()"
   ]
  },
  {
   "cell_type": "code",
   "execution_count": 40,
   "id": "ef4b005c",
   "metadata": {
    "ExecuteTime": {
     "end_time": "2022-01-05T02:35:57.584169Z",
     "start_time": "2022-01-05T02:35:57.567223Z"
    }
   },
   "outputs": [
    {
     "data": {
      "text/plain": [
       "Tier 3    3350\n",
       "Tier 2    2785\n",
       "Tier 1    2388\n",
       "Name: Outlet_Location_Type, dtype: int64"
      ]
     },
     "execution_count": 40,
     "metadata": {},
     "output_type": "execute_result"
    }
   ],
   "source": [
    "train.Outlet_Location_Type.value_counts()"
   ]
  },
  {
   "cell_type": "code",
   "execution_count": 41,
   "id": "5c329dbb",
   "metadata": {
    "ExecuteTime": {
     "end_time": "2022-01-05T02:35:58.333052Z",
     "start_time": "2022-01-05T02:35:58.016010Z"
    }
   },
   "outputs": [
    {
     "data": {
      "image/png": "[encoded data removed]",
      "text/plain": [
       "<Figure size 1296x864 with 2 Axes>"
      ]
     },
     "metadata": {
      "needs_background": "light"
     },
     "output_type": "display_data"
    }
   ],
   "source": [
    "plt.figure(figsize=(18,12))\n",
    "\n",
    "plt.subplot(2,2,1)\n",
    "plt.title(\"The type of city in which the store is located\")\n",
    "sns.countplot(x='Outlet_Location_Type', data=train, palette='twilight')\n",
    "\n",
    "plt.subplot(2,2,2)\n",
    "tier_1 = train.Outlet_Location_Type[train.Outlet_Location_Type == 'Tier 1'].count()\n",
    "tier_2 = train.Outlet_Location_Type[train.Outlet_Location_Type == 'Tier 2'].count()\n",
    "tier_3 = train.Outlet_Location_Type[train.Outlet_Location_Type == 'Tier 3'].count()\n",
    "plt.title(\"The type of city in which the store is located Distrbution\")\n",
    "plt.pie([tier_1, tier_2, tier_3], labels=['tier_1', 'tier_2', 'tier_3'], autopct=\"%.2f%%\", shadow=True, explode=[0.05,0.05,0.05])\n",
    "my_circle = plt.Circle( (0,0), 0.4, color='white')\n",
    "plt.gcf().gca().add_artist(my_circle)\n",
    "plt.legend()\n",
    "\n",
    "plt.show()"
   ]
  },
  {
   "cell_type": "markdown",
   "id": "85f06d3d",
   "metadata": {},
   "source": [
    "**The Outlets are maximum in number in Tier 3 Cities.**"
   ]
  },
  {
   "cell_type": "code",
   "execution_count": 42,
   "id": "57522262",
   "metadata": {
    "ExecuteTime": {
     "end_time": "2022-01-05T02:35:59.000416Z",
     "start_time": "2022-01-05T02:35:58.989487Z"
    }
   },
   "outputs": [
    {
     "data": {
      "text/plain": [
       "array(['Supermarket Type1', 'Supermarket Type2', 'Grocery Store',\n",
       "       'Supermarket Type3'], dtype=object)"
      ]
     },
     "execution_count": 42,
     "metadata": {},
     "output_type": "execute_result"
    }
   ],
   "source": [
    "train.Outlet_Type.unique()"
   ]
  },
  {
   "cell_type": "code",
   "execution_count": 43,
   "id": "338ad0d5",
   "metadata": {
    "ExecuteTime": {
     "end_time": "2022-01-05T02:35:59.414337Z",
     "start_time": "2022-01-05T02:35:59.408362Z"
    }
   },
   "outputs": [
    {
     "data": {
      "text/plain": [
       "Supermarket Type1    5577\n",
       "Grocery Store        1083\n",
       "Supermarket Type3     935\n",
       "Supermarket Type2     928\n",
       "Name: Outlet_Type, dtype: int64"
      ]
     },
     "execution_count": 43,
     "metadata": {},
     "output_type": "execute_result"
    }
   ],
   "source": [
    "train.Outlet_Type.value_counts()"
   ]
  },
  {
   "cell_type": "code",
   "execution_count": 44,
   "id": "7527baf0",
   "metadata": {
    "ExecuteTime": {
     "end_time": "2022-01-05T02:36:00.135907Z",
     "start_time": "2022-01-05T02:35:59.756434Z"
    }
   },
   "outputs": [
    {
     "data": {
      "image/png": "[encoded data removed]",
      "text/plain": [
       "<Figure size 1296x864 with 2 Axes>"
      ]
     },
     "metadata": {
      "needs_background": "light"
     },
     "output_type": "display_data"
    }
   ],
   "source": [
    "plt.figure(figsize=(18,12))\n",
    "\n",
    "plt.subplot(2,2,1)\n",
    "plt.title(\"Whether the outlet is just a grocery store or some sort of supermarket count\")\n",
    "sns.countplot(x='Outlet_Type', data=train, palette='autumn')\n",
    "\n",
    "plt.subplot(2,2,2)\n",
    "sup_1 = train.Outlet_Type[train.Outlet_Type == 'Supermarket Type1'].count()\n",
    "goc = train.Outlet_Type[train.Outlet_Type == 'Grocery Store'].count()\n",
    "sup_3 = train.Outlet_Type[train.Outlet_Type == 'Supermarket Type3'].count()\n",
    "sup_2 = train.Outlet_Type[train.Outlet_Type == 'Supermarket Type2'].count()\n",
    "plt.title(\"Whether the outlet is just a grocery store or some sort of supermarket Distrbution\")\n",
    "plt.pie([sup_1, goc, sup_3, sup_2], labels=['Supermarket Type1', 'Grocery Store', 'Supermarket Type3', 'Supermarket Type2'], autopct=\"%.2f%%\", shadow=True, explode=[0.01,0.01,0.01, 0.01])\n",
    "my_circle = plt.Circle( (0,0), 0.4, color='white')\n",
    "plt.gcf().gca().add_artist(my_circle)\n",
    "plt.legend(bbox_to_anchor=(1, 0))\n",
    "\n",
    "plt.show()"
   ]
  },
  {
   "cell_type": "markdown",
   "id": "a9a6b0ce",
   "metadata": {},
   "source": [
    "**The Outlets are more of Supermarket Type1.**\n"
   ]
  },
  {
   "cell_type": "code",
   "execution_count": 45,
   "id": "12213b54",
   "metadata": {
    "ExecuteTime": {
     "end_time": "2022-01-05T02:36:00.694134Z",
     "start_time": "2022-01-05T02:36:00.682180Z"
    }
   },
   "outputs": [
    {
     "data": {
      "text/plain": [
       "array([1999, 2009, 1998, 1987, 1985, 2002, 2007, 1997, 2004], dtype=int64)"
      ]
     },
     "execution_count": 45,
     "metadata": {},
     "output_type": "execute_result"
    }
   ],
   "source": [
    "train.Outlet_Establishment_Year.unique()"
   ]
  },
  {
   "cell_type": "code",
   "execution_count": 46,
   "id": "c3464467",
   "metadata": {
    "ExecuteTime": {
     "end_time": "2022-01-05T02:36:05.558752Z",
     "start_time": "2022-01-05T02:36:01.130940Z"
    }
   },
   "outputs": [],
   "source": [
    "train['Age'] = 2021 - train.Outlet_Establishment_Year\n",
    "test['Age'] = 2021 - test.Outlet_Establishment_Year"
   ]
  },
  {
   "cell_type": "code",
   "execution_count": 47,
   "id": "9bb3691a",
   "metadata": {
    "ExecuteTime": {
     "end_time": "2022-01-05T02:36:05.733396Z",
     "start_time": "2022-01-05T02:36:05.558752Z"
    }
   },
   "outputs": [
    {
     "data": {
      "image/png": "[encoded data removed]",
      "text/plain": [
       "<Figure size 864x432 with 1 Axes>"
      ]
     },
     "metadata": {
      "needs_background": "light"
     },
     "output_type": "display_data"
    }
   ],
   "source": [
    "plt.figure(figsize=(12,6))\n",
    "\n",
    "sns.countplot(x='Age', data=train, palette='autumn');"
   ]
  },
  {
   "cell_type": "markdown",
   "id": "8941bdde",
   "metadata": {},
   "source": [
    "The Outlets are more of established and running from 35 years.\n"
   ]
  },
  {
   "cell_type": "code",
   "execution_count": 48,
   "id": "8cdc7679",
   "metadata": {
    "ExecuteTime": {
     "end_time": "2022-01-05T02:36:05.765310Z",
     "start_time": "2022-01-05T02:36:05.735370Z"
    }
   },
   "outputs": [
    {
     "data": {
      "text/plain": [
       "Item_Identifier              1559\n",
       "Item_Weight                   416\n",
       "Item_Fat_Content                2\n",
       "Item_Visibility              7880\n",
       "Item_Type                      16\n",
       "Item_MRP                     5938\n",
       "Outlet_Identifier              10\n",
       "Outlet_Establishment_Year       9\n",
       "Outlet_Size                     3\n",
       "Outlet_Location_Type            3\n",
       "Outlet_Type                     4\n",
       "Item_Outlet_Sales            3493\n",
       "Age                             9\n",
       "dtype: int64"
      ]
     },
     "execution_count": 48,
     "metadata": {},
     "output_type": "execute_result"
    }
   ],
   "source": [
    "train.nunique()"
   ]
  },
  {
   "cell_type": "code",
   "execution_count": 49,
   "id": "df870aa9",
   "metadata": {
    "ExecuteTime": {
     "end_time": "2022-01-05T02:36:05.797235Z",
     "start_time": "2022-01-05T02:36:05.767272Z"
    }
   },
   "outputs": [],
   "source": [
    "FEATURES = [col for col in train.columns if col not in ['Item_Outlet_Sales', 'Outlet_Identifier']]\n",
    "cat_features = [col for col in FEATURES if train[col].nunique() < 10]\n",
    "cont_features = [col for col in FEATURES if train[col].nunique() >= 10]"
   ]
  },
  {
   "cell_type": "code",
   "execution_count": 50,
   "id": "60123b10",
   "metadata": {
    "ExecuteTime": {
     "end_time": "2022-01-05T02:36:05.812179Z",
     "start_time": "2022-01-05T02:36:05.799188Z"
    }
   },
   "outputs": [
    {
     "data": {
      "text/plain": [
       "['Item_Fat_Content',\n",
       " 'Outlet_Establishment_Year',\n",
       " 'Outlet_Size',\n",
       " 'Outlet_Location_Type',\n",
       " 'Outlet_Type',\n",
       " 'Age']"
      ]
     },
     "execution_count": 50,
     "metadata": {},
     "output_type": "execute_result"
    }
   ],
   "source": [
    "cat_features"
   ]
  },
  {
   "cell_type": "code",
   "execution_count": 51,
   "id": "67278c6f",
   "metadata": {
    "ExecuteTime": {
     "end_time": "2022-01-05T02:36:05.828110Z",
     "start_time": "2022-01-05T02:36:05.813150Z"
    }
   },
   "outputs": [
    {
     "data": {
      "text/plain": [
       "['Item_Identifier', 'Item_Weight', 'Item_Visibility', 'Item_Type', 'Item_MRP']"
      ]
     },
     "execution_count": 51,
     "metadata": {},
     "output_type": "execute_result"
    }
   ],
   "source": [
    "cont_features"
   ]
  },
  {
   "cell_type": "code",
   "execution_count": 52,
   "id": "da6f7806",
   "metadata": {
    "ExecuteTime": {
     "end_time": "2022-01-05T02:36:07.614353Z",
     "start_time": "2022-01-05T02:36:05.829108Z"
    }
   },
   "outputs": [
    {
     "data": {
      "image/png": "[encoded data removed]",
      "text/plain": [
       "<Figure size 1584x720 with 6 Axes>"
      ]
     },
     "metadata": {},
     "output_type": "display_data"
    }
   ],
   "source": [
    "ncols = 3\n",
    "nrows = int(len(cat_features) / ncols + (len(FEATURES) % ncols > 0))-1\n",
    "\n",
    "fig, axes = plt.subplots(nrows, ncols, figsize=(22, 10), facecolor='#EAEAF2')\n",
    "\n",
    "for r in range(nrows):\n",
    "    for c in range(ncols):\n",
    "        col = cat_features[r*ncols+c]\n",
    "        sns.barplot(y=train['Item_Outlet_Sales'], x=train[col], ax=axes[r, c], palette='autumn', label='Train data')\n",
    "        axes[r, c].set_ylabel('')\n",
    "        axes[r, c].set_xlabel(col, fontsize=12, fontweight='bold')\n",
    "        axes[r, c].tick_params(labelsize=10, width=0.5)\n",
    "        axes[r, c].xaxis.offsetText.set_fontsize(6)\n",
    "        axes[r, c].yaxis.offsetText.set_fontsize(6)\n",
    "plt.show()\n"
   ]
  },
  {
   "cell_type": "markdown",
   "id": "4098ede0",
   "metadata": {},
   "source": [
    "- The Item Outles sales are high for both Low Fat and Regular Item types.\n",
    "- The Outlet Sales is maximum for Medium and High sized Outlets.\n",
    "- The Outlets we have is Medium and may be with High size Outlets can improve the Outlet Sales.\n",
    "- The Outlet Sales tend to be high for Tier3 and Tier 2 location types but we have only Tier3 locations maximum Outlets.\n",
    "- Supermarket Type3 sales tends to be high which in Grocery store is very low\n",
    "- It is quiet evident that Outlets established 36 years before is having good Sales margin.<br>\n",
    "- We also have a outlet which was established before 23 years has the lowest sales margin, so established years wouldn't improve the Sales unless the products are sold according to customer's interest."
   ]
  },
  {
   "cell_type": "code",
   "execution_count": 53,
   "id": "50d889f6",
   "metadata": {
    "ExecuteTime": {
     "end_time": "2022-01-05T02:36:08.339198Z",
     "start_time": "2022-01-05T02:36:07.615359Z"
    }
   },
   "outputs": [
    {
     "data": {
      "image/png": "[encoded data removed]",
      "text/plain": [
       "<Figure size 1800x576 with 1 Axes>"
      ]
     },
     "metadata": {
      "needs_background": "light"
     },
     "output_type": "display_data"
    }
   ],
   "source": [
    "plt.figure(figsize=(25,8))\n",
    "\n",
    "order=train.groupby('Item_Type').mean().sort_values(by='Item_Outlet_Sales', ascending=False).index\n",
    "sns.barplot(x='Item_Type',y='Item_Outlet_Sales',data=train,palette='spring', order=order);"
   ]
  },
  {
   "cell_type": "markdown",
   "id": "e23d026c",
   "metadata": {},
   "source": [
    "**The products available were Fruits-Veggies and Snack Foods but the sales of Seafood and Starchy Foods seems higher and hence the sales can be improved with having stock of products that are most bought by customers**"
   ]
  },
  {
   "cell_type": "code",
   "execution_count": 54,
   "id": "634f93da",
   "metadata": {
    "ExecuteTime": {
     "end_time": "2022-01-05T02:36:08.371107Z",
     "start_time": "2022-01-05T02:36:08.340193Z"
    }
   },
   "outputs": [
    {
     "data": {
      "text/plain": [
       "Item_Identifier              1559\n",
       "Item_Weight                   416\n",
       "Item_Fat_Content                2\n",
       "Item_Visibility              7880\n",
       "Item_Type                      16\n",
       "Item_MRP                     5938\n",
       "Outlet_Identifier              10\n",
       "Outlet_Establishment_Year       9\n",
       "Outlet_Size                     3\n",
       "Outlet_Location_Type            3\n",
       "Outlet_Type                     4\n",
       "Item_Outlet_Sales            3493\n",
       "Age                             9\n",
       "dtype: int64"
      ]
     },
     "execution_count": 54,
     "metadata": {},
     "output_type": "execute_result"
    }
   ],
   "source": [
    "train.nunique()"
   ]
  },
  {
   "cell_type": "markdown",
   "id": "752b2f29",
   "metadata": {},
   "source": [
    "Continous Features:\n",
    "\n",
    "- Item_Weight\n",
    "- Item_Visibility\n",
    "- Item_MRP"
   ]
  },
  {
   "cell_type": "code",
   "execution_count": 55,
   "id": "3d299f0d",
   "metadata": {
    "ExecuteTime": {
     "end_time": "2022-01-05T02:36:11.797744Z",
     "start_time": "2022-01-05T02:36:11.775784Z"
    }
   },
   "outputs": [],
   "source": [
    "FEATURES = [col for col in train.columns if col not in ['Item_Outlet_Sales', 'Outlet_Identifier', 'Item_Identifier']]\n",
    "cat_features = [col for col in FEATURES if train[col].nunique() < 25]\n",
    "cont_features = [col for col in FEATURES if train[col].nunique() >= 25]"
   ]
  },
  {
   "cell_type": "code",
   "execution_count": 56,
   "id": "3fc693a6",
   "metadata": {
    "ExecuteTime": {
     "end_time": "2022-01-05T02:36:12.147792Z",
     "start_time": "2022-01-05T02:36:12.143768Z"
    }
   },
   "outputs": [
    {
     "data": {
      "text/plain": [
       "['Item_Weight', 'Item_Visibility', 'Item_MRP']"
      ]
     },
     "execution_count": 56,
     "metadata": {},
     "output_type": "execute_result"
    }
   ],
   "source": [
    "cont_features"
   ]
  },
  {
   "cell_type": "code",
   "execution_count": 57,
   "id": "ba50105a",
   "metadata": {
    "ExecuteTime": {
     "end_time": "2022-01-05T02:36:13.402285Z",
     "start_time": "2022-01-05T02:36:12.614729Z"
    }
   },
   "outputs": [
    {
     "data": {
      "image/png": "[encoded data removed]",
      "text/plain": [
       "<Figure size 720x1440 with 4 Axes>"
      ]
     },
     "metadata": {
      "needs_background": "light"
     },
     "output_type": "display_data"
    }
   ],
   "source": [
    "# distrbution of the continous features\n",
    "plt.figure(figsize=(10,20))\n",
    "plt.subplot(4,1,1)\n",
    "plt.title(\"Item_Weight Distrbution\")\n",
    "sns.kdeplot(x='Item_Weight', data=train)\n",
    "\n",
    "plt.subplot(4,1,2)\n",
    "plt.title(\"Item_Visibility Distrbution\")\n",
    "sns.kdeplot(x='Item_Visibility', data=train);\n",
    "\n",
    "plt.subplot(4,1,3)\n",
    "plt.title(\"Item_MRP Distrbution\")\n",
    "sns.kdeplot(x='Item_MRP', data=train);\n",
    "\n",
    "plt.subplot(4,1,4)\n",
    "plt.title(\"Item_Outlet_Sales\")\n",
    "sns.kdeplot(x='Item_Visibility', data=train);"
   ]
  },
  {
   "cell_type": "code",
   "execution_count": 58,
   "id": "fcbedf5c",
   "metadata": {
    "ExecuteTime": {
     "end_time": "2022-01-05T02:37:11.987360Z",
     "start_time": "2022-01-05T02:36:13.424233Z"
    }
   },
   "outputs": [
    {
     "data": {
      "image/png": "[encoded data removed]",
      "text/plain": [
       "<Figure size 1296x1080 with 3 Axes>"
      ]
     },
     "metadata": {
      "needs_background": "light"
     },
     "output_type": "display_data"
    }
   ],
   "source": [
    "plt.figure(figsize=(18,15))\n",
    "plt.subplot(3,1,1)\n",
    "sns.lineplot(x='Item_Weight', y='Item_Outlet_Sales', data=train);\n",
    "\n",
    "plt.subplot(3,1,2)\n",
    "sns.lineplot(x='Item_Visibility', y='Item_Outlet_Sales', data=train);\n",
    "\n",
    "plt.subplot(3,1,3)\n",
    "sns.lineplot(x='Item_MRP', y='Item_Outlet_Sales', data=train);"
   ]
  },
  {
   "cell_type": "markdown",
   "id": "e4f925c6",
   "metadata": {},
   "source": [
    "Item_Visibility has a minimum value of zero. This makes no practical sense because when a product is being sold in a store, the visibility cannot be 0.\n",
    "Items MRP ranging from 200-250 dollars is having high Sales.\n"
   ]
  },
  {
   "cell_type": "code",
   "execution_count": 59,
   "id": "173af8c2",
   "metadata": {
    "ExecuteTime": {
     "end_time": "2022-01-05T02:37:13.070104Z",
     "start_time": "2022-01-05T02:37:11.989322Z"
    }
   },
   "outputs": [
    {
     "name": "stderr",
     "output_type": "stream",
     "text": [
      "C:\\Users\\eyada\\Anaconda3\\lib\\site-packages\\seaborn\\_decorators.py:36: FutureWarning: Pass the following variables as keyword args: x, y. From version 0.12, the only valid positional argument will be `data`, and passing other arguments without an explicit keyword will result in an error or misinterpretation.\n",
      "  warnings.warn(\n"
     ]
    },
    {
     "data": {
      "image/png": "[encoded data removed]",
      "text/plain": [
       "<Figure size 1800x360 with 1 Axes>"
      ]
     },
     "metadata": {
      "needs_background": "light"
     },
     "output_type": "display_data"
    }
   ],
   "source": [
    "plt.figure(figsize=(25,5))\n",
    "sns.barplot('Item_Type','Item_Outlet_Sales',hue='Item_Fat_Content',data=train,palette='mako')\n",
    "plt.legend();"
   ]
  },
  {
   "cell_type": "markdown",
   "id": "f12c0a61",
   "metadata": {},
   "source": [
    "**Seafood Regular is highest in price**"
   ]
  },
  {
   "cell_type": "code",
   "execution_count": 60,
   "id": "5aa405a4",
   "metadata": {
    "ExecuteTime": {
     "end_time": "2022-01-05T02:37:13.674815Z",
     "start_time": "2022-01-05T02:37:13.072099Z"
    }
   },
   "outputs": [
    {
     "name": "stderr",
     "output_type": "stream",
     "text": [
      "C:\\Users\\eyada\\Anaconda3\\lib\\site-packages\\seaborn\\_decorators.py:36: FutureWarning: Pass the following variables as keyword args: x, y. From version 0.12, the only valid positional argument will be `data`, and passing other arguments without an explicit keyword will result in an error or misinterpretation.\n",
      "  warnings.warn(\n"
     ]
    },
    {
     "data": {
      "image/png": "[encoded data removed]",
      "text/plain": [
       "<Figure size 720x360 with 1 Axes>"
      ]
     },
     "metadata": {
      "needs_background": "light"
     },
     "output_type": "display_data"
    }
   ],
   "source": [
    "plt.figure(figsize=(10,5))\n",
    "sns.barplot('Outlet_Location_Type','Item_Outlet_Sales',hue='Outlet_Type',data=train,palette='magma')\n",
    "plt.legend()\n",
    "plt.show()"
   ]
  },
  {
   "cell_type": "code",
   "execution_count": 61,
   "id": "a661cb3f",
   "metadata": {
    "ExecuteTime": {
     "end_time": "2022-01-05T02:37:13.707173Z",
     "start_time": "2022-01-05T02:37:13.675812Z"
    }
   },
   "outputs": [
    {
     "data": {
      "text/plain": [
       "Item_Identifier              1559\n",
       "Item_Weight                   416\n",
       "Item_Fat_Content                2\n",
       "Item_Visibility              7880\n",
       "Item_Type                      16\n",
       "Item_MRP                     5938\n",
       "Outlet_Identifier              10\n",
       "Outlet_Establishment_Year       9\n",
       "Outlet_Size                     3\n",
       "Outlet_Location_Type            3\n",
       "Outlet_Type                     4\n",
       "Item_Outlet_Sales            3493\n",
       "Age                             9\n",
       "dtype: int64"
      ]
     },
     "execution_count": 61,
     "metadata": {},
     "output_type": "execute_result"
    }
   ],
   "source": [
    "train.nunique()"
   ]
  },
  {
   "cell_type": "code",
   "execution_count": 62,
   "id": "42266d51",
   "metadata": {
    "ExecuteTime": {
     "end_time": "2022-01-05T02:37:14.279762Z",
     "start_time": "2022-01-05T02:37:13.709168Z"
    }
   },
   "outputs": [
    {
     "name": "stderr",
     "output_type": "stream",
     "text": [
      "C:\\Users\\eyada\\Anaconda3\\lib\\site-packages\\seaborn\\_decorators.py:36: FutureWarning: Pass the following variables as keyword args: x, y. From version 0.12, the only valid positional argument will be `data`, and passing other arguments without an explicit keyword will result in an error or misinterpretation.\n",
      "  warnings.warn(\n"
     ]
    },
    {
     "data": {
      "image/png": "[encoded data removed]",
      "text/plain": [
       "<Figure size 720x360 with 1 Axes>"
      ]
     },
     "metadata": {
      "needs_background": "light"
     },
     "output_type": "display_data"
    }
   ],
   "source": [
    "plt.figure(figsize=(10,5))\n",
    "sns.barplot('Item_Fat_Content','Item_Outlet_Sales',hue='Outlet_Size',data=train,palette='autumn')\n",
    "plt.legend()\n",
    "plt.show()"
   ]
  },
  {
   "cell_type": "code",
   "execution_count": 63,
   "id": "8ba68e6e",
   "metadata": {
    "ExecuteTime": {
     "end_time": "2022-01-05T02:37:14.791977Z",
     "start_time": "2022-01-05T02:37:14.280747Z"
    }
   },
   "outputs": [
    {
     "name": "stderr",
     "output_type": "stream",
     "text": [
      "C:\\Users\\eyada\\Anaconda3\\lib\\site-packages\\seaborn\\_decorators.py:36: FutureWarning: Pass the following variables as keyword args: x, y. From version 0.12, the only valid positional argument will be `data`, and passing other arguments without an explicit keyword will result in an error or misinterpretation.\n",
      "  warnings.warn(\n"
     ]
    },
    {
     "data": {
      "image/png": "[encoded data removed]",
      "text/plain": [
       "<Figure size 720x360 with 1 Axes>"
      ]
     },
     "metadata": {
      "needs_background": "light"
     },
     "output_type": "display_data"
    }
   ],
   "source": [
    "plt.figure(figsize=(10,5))\n",
    "sns.barplot('Item_Fat_Content','Item_Outlet_Sales',hue='Outlet_Type',data=train,palette='summer')\n",
    "plt.legend()\n",
    "plt.show()"
   ]
  },
  {
   "cell_type": "markdown",
   "id": "82bab616",
   "metadata": {},
   "source": [
    "The Tier-3 location type has all types of Outlet type and has high sales margin.\n"
   ]
  },
  {
   "cell_type": "markdown",
   "id": "d9f633f4",
   "metadata": {},
   "source": [
    "<a href=\"#toc\" role=\"button\" aria-pressed=\"true\" >⬆️Back to Table of Contents ⬆️</a>"
   ]
  },
  {
   "cell_type": "markdown",
   "id": "92a04d17",
   "metadata": {},
   "source": [
    "<a id='6'></a>\n",
    "# Date PreProcessing"
   ]
  },
  {
   "cell_type": "code",
   "execution_count": 64,
   "id": "191029a7",
   "metadata": {
    "ExecuteTime": {
     "end_time": "2022-01-05T02:37:14.807974Z",
     "start_time": "2022-01-05T02:37:14.792989Z"
    }
   },
   "outputs": [
    {
     "data": {
      "text/plain": [
       "Item_Identifier              1559\n",
       "Item_Weight                   416\n",
       "Item_Fat_Content                2\n",
       "Item_Visibility              7880\n",
       "Item_Type                      16\n",
       "Item_MRP                     5938\n",
       "Outlet_Identifier              10\n",
       "Outlet_Establishment_Year       9\n",
       "Outlet_Size                     3\n",
       "Outlet_Location_Type            3\n",
       "Outlet_Type                     4\n",
       "Item_Outlet_Sales            3493\n",
       "Age                             9\n",
       "dtype: int64"
      ]
     },
     "execution_count": 64,
     "metadata": {},
     "output_type": "execute_result"
    }
   ],
   "source": [
    "train.nunique()"
   ]
  },
  {
   "cell_type": "code",
   "execution_count": 65,
   "id": "5b46aeab",
   "metadata": {
    "ExecuteTime": {
     "end_time": "2022-01-05T02:37:14.823932Z",
     "start_time": "2022-01-05T02:37:14.810986Z"
    }
   },
   "outputs": [
    {
     "data": {
      "text/plain": [
       "Item_Identifier               object\n",
       "Item_Weight                  float64\n",
       "Item_Fat_Content              object\n",
       "Item_Visibility              float64\n",
       "Item_Type                     object\n",
       "Item_MRP                     float64\n",
       "Outlet_Identifier             object\n",
       "Outlet_Establishment_Year      int64\n",
       "Outlet_Size                   object\n",
       "Outlet_Location_Type          object\n",
       "Outlet_Type                   object\n",
       "Item_Outlet_Sales            float64\n",
       "Age                            int64\n",
       "dtype: object"
      ]
     },
     "execution_count": 65,
     "metadata": {},
     "output_type": "execute_result"
    }
   ],
   "source": [
    "train.dtypes"
   ]
  },
  {
   "cell_type": "code",
   "execution_count": 66,
   "id": "ae6c2a54",
   "metadata": {
    "ExecuteTime": {
     "end_time": "2022-01-05T02:37:14.839863Z",
     "start_time": "2022-01-05T02:37:14.824927Z"
    }
   },
   "outputs": [
    {
     "data": {
      "text/plain": [
       "Item_Identifier               object\n",
       "Item_Weight                  float64\n",
       "Item_Fat_Content              object\n",
       "Item_Visibility              float64\n",
       "Item_Type                     object\n",
       "Item_MRP                     float64\n",
       "Outlet_Identifier             object\n",
       "Outlet_Establishment_Year      int64\n",
       "Outlet_Size                   object\n",
       "Outlet_Location_Type          object\n",
       "Outlet_Type                   object\n",
       "Age                            int64\n",
       "dtype: object"
      ]
     },
     "execution_count": 66,
     "metadata": {},
     "output_type": "execute_result"
    }
   ],
   "source": [
    "test.dtypes"
   ]
  },
  {
   "cell_type": "code",
   "execution_count": 67,
   "id": "577f388b",
   "metadata": {
    "ExecuteTime": {
     "end_time": "2022-01-05T02:37:14.855821Z",
     "start_time": "2022-01-05T02:37:14.840859Z"
    }
   },
   "outputs": [
    {
     "data": {
      "text/plain": [
       "Index([], dtype='object')"
      ]
     },
     "execution_count": 67,
     "metadata": {},
     "output_type": "execute_result"
    }
   ],
   "source": [
    "train.columns[train.isna().any()]"
   ]
  },
  {
   "cell_type": "markdown",
   "id": "c980bd0e",
   "metadata": {},
   "source": [
    "<a id='6.1'></a>\n",
    "***Label Encoder***"
   ]
  },
  {
   "cell_type": "code",
   "execution_count": 68,
   "id": "b97fb241",
   "metadata": {
    "ExecuteTime": {
     "end_time": "2022-01-05T02:37:14.887769Z",
     "start_time": "2022-01-05T02:37:14.856818Z"
    }
   },
   "outputs": [],
   "source": [
    "#apply Label Encoder to convert Categorical ordered features to numeric\n",
    "encode = LabelEncoder()\n",
    "list_transform = ['Item_Fat_Content','Outlet_Location_Type','Outlet_Size','Outlet_Type']\n",
    "\n",
    "for i in list_transform:\n",
    "    train[i] = encode.fit_transform(train[i])\n",
    "    \n",
    "for i in list_transform:\n",
    "    test[i] = encode.fit_transform(test[i])"
   ]
  },
  {
   "cell_type": "code",
   "execution_count": 69,
   "id": "a4c8f697",
   "metadata": {
    "ExecuteTime": {
     "end_time": "2022-01-05T02:37:14.903717Z",
     "start_time": "2022-01-05T02:37:14.888765Z"
    }
   },
   "outputs": [
    {
     "data": {
      "text/plain": [
       "Item_Identifier               object\n",
       "Item_Weight                  float64\n",
       "Item_Fat_Content               int32\n",
       "Item_Visibility              float64\n",
       "Item_Type                     object\n",
       "Item_MRP                     float64\n",
       "Outlet_Identifier             object\n",
       "Outlet_Establishment_Year      int64\n",
       "Outlet_Size                    int32\n",
       "Outlet_Location_Type           int32\n",
       "Outlet_Type                    int32\n",
       "Item_Outlet_Sales            float64\n",
       "Age                            int64\n",
       "dtype: object"
      ]
     },
     "execution_count": 69,
     "metadata": {},
     "output_type": "execute_result"
    }
   ],
   "source": [
    "train.dtypes"
   ]
  },
  {
   "cell_type": "code",
   "execution_count": 70,
   "id": "57de5f92",
   "metadata": {
    "ExecuteTime": {
     "end_time": "2022-01-05T02:37:14.919683Z",
     "start_time": "2022-01-05T02:37:14.904713Z"
    }
   },
   "outputs": [
    {
     "data": {
      "text/plain": [
       "Item_Identifier               object\n",
       "Item_Weight                  float64\n",
       "Item_Fat_Content               int32\n",
       "Item_Visibility              float64\n",
       "Item_Type                     object\n",
       "Item_MRP                     float64\n",
       "Outlet_Identifier             object\n",
       "Outlet_Establishment_Year      int64\n",
       "Outlet_Size                    int32\n",
       "Outlet_Location_Type           int32\n",
       "Outlet_Type                    int32\n",
       "Age                            int64\n",
       "dtype: object"
      ]
     },
     "execution_count": 70,
     "metadata": {},
     "output_type": "execute_result"
    }
   ],
   "source": [
    "test.dtypes"
   ]
  },
  {
   "cell_type": "code",
   "execution_count": 71,
   "id": "654f79bc",
   "metadata": {
    "ExecuteTime": {
     "end_time": "2022-01-05T02:37:14.935607Z",
     "start_time": "2022-01-05T02:37:14.921644Z"
    }
   },
   "outputs": [],
   "source": [
    "#drop non needed features\n",
    "train = train.drop(['Item_Identifier','Outlet_Identifier','Outlet_Establishment_Year'],axis=1)\n",
    "test= test.drop(['Item_Identifier','Outlet_Identifier','Outlet_Establishment_Year'],axis=1)"
   ]
  },
  {
   "cell_type": "code",
   "execution_count": 72,
   "id": "aef526e9",
   "metadata": {
    "ExecuteTime": {
     "end_time": "2022-01-05T02:37:14.967524Z",
     "start_time": "2022-01-05T02:37:14.936604Z"
    }
   },
   "outputs": [
    {
     "data": {
      "text/html": [
       "<div>\n",
       "<style scoped>\n",
       "    .dataframe tbody tr th:only-of-type {\n",
       "        vertical-align: middle;\n",
       "    }\n",
       "\n",
       "    .dataframe tbody tr th {\n",
       "        vertical-align: top;\n",
       "    }\n",
       "\n",
       "    .dataframe thead th {\n",
       "        text-align: right;\n",
       "    }\n",
       "</style>\n",
       "<table border=\"1\" class=\"dataframe\">\n",
       "  <thead>\n",
       "    <tr style=\"text-align: right;\">\n",
       "      <th></th>\n",
       "      <th>Item_Weight</th>\n",
       "      <th>Item_Fat_Content</th>\n",
       "      <th>Item_Visibility</th>\n",
       "      <th>Item_MRP</th>\n",
       "      <th>Outlet_Size</th>\n",
       "      <th>Outlet_Location_Type</th>\n",
       "      <th>Outlet_Type</th>\n",
       "      <th>Item_Outlet_Sales</th>\n",
       "      <th>Age</th>\n",
       "    </tr>\n",
       "  </thead>\n",
       "  <tbody>\n",
       "    <tr>\n",
       "      <th>Item_Weight</th>\n",
       "      <td>1.000000</td>\n",
       "      <td>-0.021157</td>\n",
       "      <td>-0.012049</td>\n",
       "      <td>0.024756</td>\n",
       "      <td>-0.007225</td>\n",
       "      <td>0.004088</td>\n",
       "      <td>-0.000566</td>\n",
       "      <td>0.011550</td>\n",
       "      <td>0.008301</td>\n",
       "    </tr>\n",
       "    <tr>\n",
       "      <th>Item_Fat_Content</th>\n",
       "      <td>-0.021157</td>\n",
       "      <td>1.000000</td>\n",
       "      <td>0.047314</td>\n",
       "      <td>0.006063</td>\n",
       "      <td>-0.000622</td>\n",
       "      <td>-0.001598</td>\n",
       "      <td>0.002199</td>\n",
       "      <td>0.018719</td>\n",
       "      <td>-0.003151</td>\n",
       "    </tr>\n",
       "    <tr>\n",
       "      <th>Item_Visibility</th>\n",
       "      <td>-0.012049</td>\n",
       "      <td>0.047314</td>\n",
       "      <td>1.000000</td>\n",
       "      <td>-0.001315</td>\n",
       "      <td>0.069309</td>\n",
       "      <td>-0.028099</td>\n",
       "      <td>-0.173468</td>\n",
       "      <td>-0.128625</td>\n",
       "      <td>0.074834</td>\n",
       "    </tr>\n",
       "    <tr>\n",
       "      <th>Item_MRP</th>\n",
       "      <td>0.024756</td>\n",
       "      <td>0.006063</td>\n",
       "      <td>-0.001315</td>\n",
       "      <td>1.000000</td>\n",
       "      <td>0.006059</td>\n",
       "      <td>0.000232</td>\n",
       "      <td>-0.001975</td>\n",
       "      <td>0.567574</td>\n",
       "      <td>-0.005020</td>\n",
       "    </tr>\n",
       "    <tr>\n",
       "      <th>Outlet_Size</th>\n",
       "      <td>-0.007225</td>\n",
       "      <td>-0.000622</td>\n",
       "      <td>0.069309</td>\n",
       "      <td>0.006059</td>\n",
       "      <td>1.000000</td>\n",
       "      <td>-0.614311</td>\n",
       "      <td>-0.201483</td>\n",
       "      <td>-0.086182</td>\n",
       "      <td>-0.193389</td>\n",
       "    </tr>\n",
       "    <tr>\n",
       "      <th>Outlet_Location_Type</th>\n",
       "      <td>0.004088</td>\n",
       "      <td>-0.001598</td>\n",
       "      <td>-0.028099</td>\n",
       "      <td>0.000232</td>\n",
       "      <td>-0.614311</td>\n",
       "      <td>1.000000</td>\n",
       "      <td>0.467219</td>\n",
       "      <td>0.089367</td>\n",
       "      <td>0.089216</td>\n",
       "    </tr>\n",
       "    <tr>\n",
       "      <th>Outlet_Type</th>\n",
       "      <td>-0.000566</td>\n",
       "      <td>0.002199</td>\n",
       "      <td>-0.173468</td>\n",
       "      <td>-0.001975</td>\n",
       "      <td>-0.201483</td>\n",
       "      <td>0.467219</td>\n",
       "      <td>1.000000</td>\n",
       "      <td>0.401522</td>\n",
       "      <td>0.122304</td>\n",
       "    </tr>\n",
       "    <tr>\n",
       "      <th>Item_Outlet_Sales</th>\n",
       "      <td>0.011550</td>\n",
       "      <td>0.018719</td>\n",
       "      <td>-0.128625</td>\n",
       "      <td>0.567574</td>\n",
       "      <td>-0.086182</td>\n",
       "      <td>0.089367</td>\n",
       "      <td>0.401522</td>\n",
       "      <td>1.000000</td>\n",
       "      <td>0.049135</td>\n",
       "    </tr>\n",
       "    <tr>\n",
       "      <th>Age</th>\n",
       "      <td>0.008301</td>\n",
       "      <td>-0.003151</td>\n",
       "      <td>0.074834</td>\n",
       "      <td>-0.005020</td>\n",
       "      <td>-0.193389</td>\n",
       "      <td>0.089216</td>\n",
       "      <td>0.122304</td>\n",
       "      <td>0.049135</td>\n",
       "      <td>1.000000</td>\n",
       "    </tr>\n",
       "  </tbody>\n",
       "</table>\n",
       "</div>"
      ],
      "text/plain": [
       "                      Item_Weight  Item_Fat_Content  Item_Visibility  \\\n",
       "Item_Weight              1.000000         -0.021157        -0.012049   \n",
       "Item_Fat_Content        -0.021157          1.000000         0.047314   \n",
       "Item_Visibility         -0.012049          0.047314         1.000000   \n",
       "Item_MRP                 0.024756          0.006063        -0.001315   \n",
       "Outlet_Size             -0.007225         -0.000622         0.069309   \n",
       "Outlet_Location_Type     0.004088         -0.001598        -0.028099   \n",
       "Outlet_Type             -0.000566          0.002199        -0.173468   \n",
       "Item_Outlet_Sales        0.011550          0.018719        -0.128625   \n",
       "Age                      0.008301         -0.003151         0.074834   \n",
       "\n",
       "                      Item_MRP  Outlet_Size  Outlet_Location_Type  \\\n",
       "Item_Weight           0.024756    -0.007225              0.004088   \n",
       "Item_Fat_Content      0.006063    -0.000622             -0.001598   \n",
       "Item_Visibility      -0.001315     0.069309             -0.028099   \n",
       "Item_MRP              1.000000     0.006059              0.000232   \n",
       "Outlet_Size           0.006059     1.000000             -0.614311   \n",
       "Outlet_Location_Type  0.000232    -0.614311              1.000000   \n",
       "Outlet_Type          -0.001975    -0.201483              0.467219   \n",
       "Item_Outlet_Sales     0.567574    -0.086182              0.089367   \n",
       "Age                  -0.005020    -0.193389              0.089216   \n",
       "\n",
       "                      Outlet_Type  Item_Outlet_Sales       Age  \n",
       "Item_Weight             -0.000566           0.011550  0.008301  \n",
       "Item_Fat_Content         0.002199           0.018719 -0.003151  \n",
       "Item_Visibility         -0.173468          -0.128625  0.074834  \n",
       "Item_MRP                -0.001975           0.567574 -0.005020  \n",
       "Outlet_Size             -0.201483          -0.086182 -0.193389  \n",
       "Outlet_Location_Type     0.467219           0.089367  0.089216  \n",
       "Outlet_Type              1.000000           0.401522  0.122304  \n",
       "Item_Outlet_Sales        0.401522           1.000000  0.049135  \n",
       "Age                      0.122304           0.049135  1.000000  "
      ]
     },
     "execution_count": 72,
     "metadata": {},
     "output_type": "execute_result"
    }
   ],
   "source": [
    "train.corr()"
   ]
  },
  {
   "cell_type": "code",
   "execution_count": 73,
   "id": "57405060",
   "metadata": {
    "ExecuteTime": {
     "end_time": "2022-01-05T02:37:16.115759Z",
     "start_time": "2022-01-05T02:37:14.968519Z"
    }
   },
   "outputs": [
    {
     "data": {
      "image/png": "[encoded data removed]",
      "text/plain": [
       "<Figure size 1440x720 with 2 Axes>"
      ]
     },
     "metadata": {
      "needs_background": "light"
     },
     "output_type": "display_data"
    }
   ],
   "source": [
    "plt.figure(figsize=(20,10))\n",
    "sns.heatmap(train.corr(), annot=True);"
   ]
  },
  {
   "cell_type": "markdown",
   "id": "e31b7597",
   "metadata": {},
   "source": [
    "<a id='6.2'></a>\n",
    "***one hot encoder***"
   ]
  },
  {
   "cell_type": "code",
   "execution_count": 74,
   "id": "683ebcde",
   "metadata": {
    "ExecuteTime": {
     "end_time": "2022-01-05T02:37:16.131741Z",
     "start_time": "2022-01-05T02:37:16.117752Z"
    }
   },
   "outputs": [],
   "source": [
    "#apply one hot encoder to convert non-order categorical featuers\n",
    "dummies1 = pd.get_dummies(train.Item_Type)\n",
    "dummies2 = pd.get_dummies(test.Item_Type)"
   ]
  },
  {
   "cell_type": "code",
   "execution_count": 75,
   "id": "2344089e",
   "metadata": {
    "ExecuteTime": {
     "end_time": "2022-01-05T02:37:16.194547Z",
     "start_time": "2022-01-05T02:37:16.132712Z"
    }
   },
   "outputs": [
    {
     "data": {
      "text/html": [
       "<div>\n",
       "<style scoped>\n",
       "    .dataframe tbody tr th:only-of-type {\n",
       "        vertical-align: middle;\n",
       "    }\n",
       "\n",
       "    .dataframe tbody tr th {\n",
       "        vertical-align: top;\n",
       "    }\n",
       "\n",
       "    .dataframe thead th {\n",
       "        text-align: right;\n",
       "    }\n",
       "</style>\n",
       "<table border=\"1\" class=\"dataframe\">\n",
       "  <thead>\n",
       "    <tr style=\"text-align: right;\">\n",
       "      <th></th>\n",
       "      <th>Item_Weight</th>\n",
       "      <th>Item_Fat_Content</th>\n",
       "      <th>Item_Visibility</th>\n",
       "      <th>Item_Type</th>\n",
       "      <th>Item_MRP</th>\n",
       "      <th>Outlet_Size</th>\n",
       "      <th>Outlet_Location_Type</th>\n",
       "      <th>Outlet_Type</th>\n",
       "      <th>Item_Outlet_Sales</th>\n",
       "      <th>Age</th>\n",
       "    </tr>\n",
       "  </thead>\n",
       "  <tbody>\n",
       "    <tr>\n",
       "      <th>0</th>\n",
       "      <td>9.30</td>\n",
       "      <td>0</td>\n",
       "      <td>0.016047</td>\n",
       "      <td>Dairy</td>\n",
       "      <td>249.8092</td>\n",
       "      <td>1</td>\n",
       "      <td>0</td>\n",
       "      <td>1</td>\n",
       "      <td>3735.1380</td>\n",
       "      <td>22</td>\n",
       "    </tr>\n",
       "    <tr>\n",
       "      <th>1</th>\n",
       "      <td>5.92</td>\n",
       "      <td>1</td>\n",
       "      <td>0.019278</td>\n",
       "      <td>Soft Drinks</td>\n",
       "      <td>48.2692</td>\n",
       "      <td>1</td>\n",
       "      <td>2</td>\n",
       "      <td>2</td>\n",
       "      <td>443.4228</td>\n",
       "      <td>12</td>\n",
       "    </tr>\n",
       "    <tr>\n",
       "      <th>2</th>\n",
       "      <td>17.50</td>\n",
       "      <td>0</td>\n",
       "      <td>0.016760</td>\n",
       "      <td>Meat</td>\n",
       "      <td>141.6180</td>\n",
       "      <td>1</td>\n",
       "      <td>0</td>\n",
       "      <td>1</td>\n",
       "      <td>2097.2700</td>\n",
       "      <td>22</td>\n",
       "    </tr>\n",
       "    <tr>\n",
       "      <th>3</th>\n",
       "      <td>19.20</td>\n",
       "      <td>1</td>\n",
       "      <td>0.000000</td>\n",
       "      <td>Fruits and Vegetables</td>\n",
       "      <td>182.0950</td>\n",
       "      <td>1</td>\n",
       "      <td>2</td>\n",
       "      <td>0</td>\n",
       "      <td>732.3800</td>\n",
       "      <td>23</td>\n",
       "    </tr>\n",
       "    <tr>\n",
       "      <th>4</th>\n",
       "      <td>8.93</td>\n",
       "      <td>0</td>\n",
       "      <td>0.000000</td>\n",
       "      <td>Household</td>\n",
       "      <td>53.8614</td>\n",
       "      <td>0</td>\n",
       "      <td>2</td>\n",
       "      <td>1</td>\n",
       "      <td>994.7052</td>\n",
       "      <td>34</td>\n",
       "    </tr>\n",
       "  </tbody>\n",
       "</table>\n",
       "</div>"
      ],
      "text/plain": [
       "   Item_Weight  Item_Fat_Content  Item_Visibility              Item_Type  \\\n",
       "0         9.30                 0         0.016047                  Dairy   \n",
       "1         5.92                 1         0.019278            Soft Drinks   \n",
       "2        17.50                 0         0.016760                   Meat   \n",
       "3        19.20                 1         0.000000  Fruits and Vegetables   \n",
       "4         8.93                 0         0.000000              Household   \n",
       "\n",
       "   Item_MRP  Outlet_Size  Outlet_Location_Type  Outlet_Type  \\\n",
       "0  249.8092            1                     0            1   \n",
       "1   48.2692            1                     2            2   \n",
       "2  141.6180            1                     0            1   \n",
       "3  182.0950            1                     2            0   \n",
       "4   53.8614            0                     2            1   \n",
       "\n",
       "   Item_Outlet_Sales  Age  \n",
       "0          3735.1380   22  \n",
       "1           443.4228   12  \n",
       "2          2097.2700   22  \n",
       "3           732.3800   23  \n",
       "4           994.7052   34  "
      ]
     },
     "execution_count": 75,
     "metadata": {},
     "output_type": "execute_result"
    }
   ],
   "source": [
    "train.head()"
   ]
  },
  {
   "cell_type": "code",
   "execution_count": 76,
   "id": "24bb958a",
   "metadata": {
    "ExecuteTime": {
     "end_time": "2022-01-05T02:37:16.226463Z",
     "start_time": "2022-01-05T02:37:16.196543Z"
    }
   },
   "outputs": [
    {
     "data": {
      "text/html": [
       "<div>\n",
       "<style scoped>\n",
       "    .dataframe tbody tr th:only-of-type {\n",
       "        vertical-align: middle;\n",
       "    }\n",
       "\n",
       "    .dataframe tbody tr th {\n",
       "        vertical-align: top;\n",
       "    }\n",
       "\n",
       "    .dataframe thead th {\n",
       "        text-align: right;\n",
       "    }\n",
       "</style>\n",
       "<table border=\"1\" class=\"dataframe\">\n",
       "  <thead>\n",
       "    <tr style=\"text-align: right;\">\n",
       "      <th></th>\n",
       "      <th>Item_Weight</th>\n",
       "      <th>Item_Fat_Content</th>\n",
       "      <th>Item_Visibility</th>\n",
       "      <th>Item_Type</th>\n",
       "      <th>Item_MRP</th>\n",
       "      <th>Outlet_Size</th>\n",
       "      <th>Outlet_Location_Type</th>\n",
       "      <th>Outlet_Type</th>\n",
       "      <th>Age</th>\n",
       "    </tr>\n",
       "  </thead>\n",
       "  <tbody>\n",
       "    <tr>\n",
       "      <th>0</th>\n",
       "      <td>20.750000</td>\n",
       "      <td>0</td>\n",
       "      <td>0.007565</td>\n",
       "      <td>Snack Foods</td>\n",
       "      <td>107.8622</td>\n",
       "      <td>1</td>\n",
       "      <td>0</td>\n",
       "      <td>1</td>\n",
       "      <td>22</td>\n",
       "    </tr>\n",
       "    <tr>\n",
       "      <th>1</th>\n",
       "      <td>8.300000</td>\n",
       "      <td>1</td>\n",
       "      <td>0.038428</td>\n",
       "      <td>Dairy</td>\n",
       "      <td>87.3198</td>\n",
       "      <td>1</td>\n",
       "      <td>1</td>\n",
       "      <td>1</td>\n",
       "      <td>14</td>\n",
       "    </tr>\n",
       "    <tr>\n",
       "      <th>2</th>\n",
       "      <td>14.600000</td>\n",
       "      <td>0</td>\n",
       "      <td>0.099575</td>\n",
       "      <td>Others</td>\n",
       "      <td>241.7538</td>\n",
       "      <td>1</td>\n",
       "      <td>2</td>\n",
       "      <td>0</td>\n",
       "      <td>23</td>\n",
       "    </tr>\n",
       "    <tr>\n",
       "      <th>3</th>\n",
       "      <td>7.315000</td>\n",
       "      <td>0</td>\n",
       "      <td>0.015388</td>\n",
       "      <td>Snack Foods</td>\n",
       "      <td>155.0340</td>\n",
       "      <td>1</td>\n",
       "      <td>1</td>\n",
       "      <td>1</td>\n",
       "      <td>14</td>\n",
       "    </tr>\n",
       "    <tr>\n",
       "      <th>4</th>\n",
       "      <td>12.695633</td>\n",
       "      <td>1</td>\n",
       "      <td>0.118599</td>\n",
       "      <td>Dairy</td>\n",
       "      <td>234.2300</td>\n",
       "      <td>1</td>\n",
       "      <td>2</td>\n",
       "      <td>3</td>\n",
       "      <td>36</td>\n",
       "    </tr>\n",
       "  </tbody>\n",
       "</table>\n",
       "</div>"
      ],
      "text/plain": [
       "   Item_Weight  Item_Fat_Content  Item_Visibility    Item_Type  Item_MRP  \\\n",
       "0    20.750000                 0         0.007565  Snack Foods  107.8622   \n",
       "1     8.300000                 1         0.038428        Dairy   87.3198   \n",
       "2    14.600000                 0         0.099575       Others  241.7538   \n",
       "3     7.315000                 0         0.015388  Snack Foods  155.0340   \n",
       "4    12.695633                 1         0.118599        Dairy  234.2300   \n",
       "\n",
       "   Outlet_Size  Outlet_Location_Type  Outlet_Type  Age  \n",
       "0            1                     0            1   22  \n",
       "1            1                     1            1   14  \n",
       "2            1                     2            0   23  \n",
       "3            1                     1            1   14  \n",
       "4            1                     2            3   36  "
      ]
     },
     "execution_count": 76,
     "metadata": {},
     "output_type": "execute_result"
    }
   ],
   "source": [
    "test.head()"
   ]
  },
  {
   "cell_type": "code",
   "execution_count": 77,
   "id": "8567e4ad",
   "metadata": {
    "ExecuteTime": {
     "end_time": "2022-01-05T02:37:16.242420Z",
     "start_time": "2022-01-05T02:37:16.228456Z"
    }
   },
   "outputs": [],
   "source": [
    "train = pd.concat([train, dummies1], axis=1)\n",
    "test = pd.concat([test, dummies2], axis=1)"
   ]
  },
  {
   "cell_type": "code",
   "execution_count": 78,
   "id": "72ca732e",
   "metadata": {
    "ExecuteTime": {
     "end_time": "2022-01-05T02:37:16.274333Z",
     "start_time": "2022-01-05T02:37:16.244414Z"
    }
   },
   "outputs": [
    {
     "data": {
      "text/html": [
       "<div>\n",
       "<style scoped>\n",
       "    .dataframe tbody tr th:only-of-type {\n",
       "        vertical-align: middle;\n",
       "    }\n",
       "\n",
       "    .dataframe tbody tr th {\n",
       "        vertical-align: top;\n",
       "    }\n",
       "\n",
       "    .dataframe thead th {\n",
       "        text-align: right;\n",
       "    }\n",
       "</style>\n",
       "<table border=\"1\" class=\"dataframe\">\n",
       "  <thead>\n",
       "    <tr style=\"text-align: right;\">\n",
       "      <th></th>\n",
       "      <th>Item_Weight</th>\n",
       "      <th>Item_Fat_Content</th>\n",
       "      <th>Item_Visibility</th>\n",
       "      <th>Item_Type</th>\n",
       "      <th>Item_MRP</th>\n",
       "      <th>Outlet_Size</th>\n",
       "      <th>Outlet_Location_Type</th>\n",
       "      <th>Outlet_Type</th>\n",
       "      <th>Item_Outlet_Sales</th>\n",
       "      <th>Age</th>\n",
       "      <th>...</th>\n",
       "      <th>Fruits and Vegetables</th>\n",
       "      <th>Hard Drinks</th>\n",
       "      <th>Health and Hygiene</th>\n",
       "      <th>Household</th>\n",
       "      <th>Meat</th>\n",
       "      <th>Others</th>\n",
       "      <th>Seafood</th>\n",
       "      <th>Snack Foods</th>\n",
       "      <th>Soft Drinks</th>\n",
       "      <th>Starchy Foods</th>\n",
       "    </tr>\n",
       "  </thead>\n",
       "  <tbody>\n",
       "    <tr>\n",
       "      <th>0</th>\n",
       "      <td>9.30</td>\n",
       "      <td>0</td>\n",
       "      <td>0.016047</td>\n",
       "      <td>Dairy</td>\n",
       "      <td>249.8092</td>\n",
       "      <td>1</td>\n",
       "      <td>0</td>\n",
       "      <td>1</td>\n",
       "      <td>3735.1380</td>\n",
       "      <td>22</td>\n",
       "      <td>...</td>\n",
       "      <td>0</td>\n",
       "      <td>0</td>\n",
       "      <td>0</td>\n",
       "      <td>0</td>\n",
       "      <td>0</td>\n",
       "      <td>0</td>\n",
       "      <td>0</td>\n",
       "      <td>0</td>\n",
       "      <td>0</td>\n",
       "      <td>0</td>\n",
       "    </tr>\n",
       "    <tr>\n",
       "      <th>1</th>\n",
       "      <td>5.92</td>\n",
       "      <td>1</td>\n",
       "      <td>0.019278</td>\n",
       "      <td>Soft Drinks</td>\n",
       "      <td>48.2692</td>\n",
       "      <td>1</td>\n",
       "      <td>2</td>\n",
       "      <td>2</td>\n",
       "      <td>443.4228</td>\n",
       "      <td>12</td>\n",
       "      <td>...</td>\n",
       "      <td>0</td>\n",
       "      <td>0</td>\n",
       "      <td>0</td>\n",
       "      <td>0</td>\n",
       "      <td>0</td>\n",
       "      <td>0</td>\n",
       "      <td>0</td>\n",
       "      <td>0</td>\n",
       "      <td>1</td>\n",
       "      <td>0</td>\n",
       "    </tr>\n",
       "    <tr>\n",
       "      <th>2</th>\n",
       "      <td>17.50</td>\n",
       "      <td>0</td>\n",
       "      <td>0.016760</td>\n",
       "      <td>Meat</td>\n",
       "      <td>141.6180</td>\n",
       "      <td>1</td>\n",
       "      <td>0</td>\n",
       "      <td>1</td>\n",
       "      <td>2097.2700</td>\n",
       "      <td>22</td>\n",
       "      <td>...</td>\n",
       "      <td>0</td>\n",
       "      <td>0</td>\n",
       "      <td>0</td>\n",
       "      <td>0</td>\n",
       "      <td>1</td>\n",
       "      <td>0</td>\n",
       "      <td>0</td>\n",
       "      <td>0</td>\n",
       "      <td>0</td>\n",
       "      <td>0</td>\n",
       "    </tr>\n",
       "    <tr>\n",
       "      <th>3</th>\n",
       "      <td>19.20</td>\n",
       "      <td>1</td>\n",
       "      <td>0.000000</td>\n",
       "      <td>Fruits and Vegetables</td>\n",
       "      <td>182.0950</td>\n",
       "      <td>1</td>\n",
       "      <td>2</td>\n",
       "      <td>0</td>\n",
       "      <td>732.3800</td>\n",
       "      <td>23</td>\n",
       "      <td>...</td>\n",
       "      <td>1</td>\n",
       "      <td>0</td>\n",
       "      <td>0</td>\n",
       "      <td>0</td>\n",
       "      <td>0</td>\n",
       "      <td>0</td>\n",
       "      <td>0</td>\n",
       "      <td>0</td>\n",
       "      <td>0</td>\n",
       "      <td>0</td>\n",
       "    </tr>\n",
       "    <tr>\n",
       "      <th>4</th>\n",
       "      <td>8.93</td>\n",
       "      <td>0</td>\n",
       "      <td>0.000000</td>\n",
       "      <td>Household</td>\n",
       "      <td>53.8614</td>\n",
       "      <td>0</td>\n",
       "      <td>2</td>\n",
       "      <td>1</td>\n",
       "      <td>994.7052</td>\n",
       "      <td>34</td>\n",
       "      <td>...</td>\n",
       "      <td>0</td>\n",
       "      <td>0</td>\n",
       "      <td>0</td>\n",
       "      <td>1</td>\n",
       "      <td>0</td>\n",
       "      <td>0</td>\n",
       "      <td>0</td>\n",
       "      <td>0</td>\n",
       "      <td>0</td>\n",
       "      <td>0</td>\n",
       "    </tr>\n",
       "  </tbody>\n",
       "</table>\n",
       "<p>5 rows × 26 columns</p>\n",
       "</div>"
      ],
      "text/plain": [
       "   Item_Weight  Item_Fat_Content  Item_Visibility              Item_Type  \\\n",
       "0         9.30                 0         0.016047                  Dairy   \n",
       "1         5.92                 1         0.019278            Soft Drinks   \n",
       "2        17.50                 0         0.016760                   Meat   \n",
       "3        19.20                 1         0.000000  Fruits and Vegetables   \n",
       "4         8.93                 0         0.000000              Household   \n",
       "\n",
       "   Item_MRP  Outlet_Size  Outlet_Location_Type  Outlet_Type  \\\n",
       "0  249.8092            1                     0            1   \n",
       "1   48.2692            1                     2            2   \n",
       "2  141.6180            1                     0            1   \n",
       "3  182.0950            1                     2            0   \n",
       "4   53.8614            0                     2            1   \n",
       "\n",
       "   Item_Outlet_Sales  Age  ...  Fruits and Vegetables  Hard Drinks  \\\n",
       "0          3735.1380   22  ...                      0            0   \n",
       "1           443.4228   12  ...                      0            0   \n",
       "2          2097.2700   22  ...                      0            0   \n",
       "3           732.3800   23  ...                      1            0   \n",
       "4           994.7052   34  ...                      0            0   \n",
       "\n",
       "   Health and Hygiene  Household  Meat  Others  Seafood  Snack Foods  \\\n",
       "0                   0          0     0       0        0            0   \n",
       "1                   0          0     0       0        0            0   \n",
       "2                   0          0     1       0        0            0   \n",
       "3                   0          0     0       0        0            0   \n",
       "4                   0          1     0       0        0            0   \n",
       "\n",
       "   Soft Drinks  Starchy Foods  \n",
       "0            0              0  \n",
       "1            1              0  \n",
       "2            0              0  \n",
       "3            0              0  \n",
       "4            0              0  \n",
       "\n",
       "[5 rows x 26 columns]"
      ]
     },
     "execution_count": 78,
     "metadata": {},
     "output_type": "execute_result"
    }
   ],
   "source": [
    "train.head()"
   ]
  },
  {
   "cell_type": "code",
   "execution_count": 79,
   "id": "88d7ec00",
   "metadata": {
    "ExecuteTime": {
     "end_time": "2022-01-05T02:37:16.306248Z",
     "start_time": "2022-01-05T02:37:16.275331Z"
    }
   },
   "outputs": [
    {
     "data": {
      "text/html": [
       "<div>\n",
       "<style scoped>\n",
       "    .dataframe tbody tr th:only-of-type {\n",
       "        vertical-align: middle;\n",
       "    }\n",
       "\n",
       "    .dataframe tbody tr th {\n",
       "        vertical-align: top;\n",
       "    }\n",
       "\n",
       "    .dataframe thead th {\n",
       "        text-align: right;\n",
       "    }\n",
       "</style>\n",
       "<table border=\"1\" class=\"dataframe\">\n",
       "  <thead>\n",
       "    <tr style=\"text-align: right;\">\n",
       "      <th></th>\n",
       "      <th>Item_Weight</th>\n",
       "      <th>Item_Fat_Content</th>\n",
       "      <th>Item_Visibility</th>\n",
       "      <th>Item_Type</th>\n",
       "      <th>Item_MRP</th>\n",
       "      <th>Outlet_Size</th>\n",
       "      <th>Outlet_Location_Type</th>\n",
       "      <th>Outlet_Type</th>\n",
       "      <th>Age</th>\n",
       "      <th>Baking Goods</th>\n",
       "      <th>...</th>\n",
       "      <th>Fruits and Vegetables</th>\n",
       "      <th>Hard Drinks</th>\n",
       "      <th>Health and Hygiene</th>\n",
       "      <th>Household</th>\n",
       "      <th>Meat</th>\n",
       "      <th>Others</th>\n",
       "      <th>Seafood</th>\n",
       "      <th>Snack Foods</th>\n",
       "      <th>Soft Drinks</th>\n",
       "      <th>Starchy Foods</th>\n",
       "    </tr>\n",
       "  </thead>\n",
       "  <tbody>\n",
       "    <tr>\n",
       "      <th>0</th>\n",
       "      <td>20.750000</td>\n",
       "      <td>0</td>\n",
       "      <td>0.007565</td>\n",
       "      <td>Snack Foods</td>\n",
       "      <td>107.8622</td>\n",
       "      <td>1</td>\n",
       "      <td>0</td>\n",
       "      <td>1</td>\n",
       "      <td>22</td>\n",
       "      <td>0</td>\n",
       "      <td>...</td>\n",
       "      <td>0</td>\n",
       "      <td>0</td>\n",
       "      <td>0</td>\n",
       "      <td>0</td>\n",
       "      <td>0</td>\n",
       "      <td>0</td>\n",
       "      <td>0</td>\n",
       "      <td>1</td>\n",
       "      <td>0</td>\n",
       "      <td>0</td>\n",
       "    </tr>\n",
       "    <tr>\n",
       "      <th>1</th>\n",
       "      <td>8.300000</td>\n",
       "      <td>1</td>\n",
       "      <td>0.038428</td>\n",
       "      <td>Dairy</td>\n",
       "      <td>87.3198</td>\n",
       "      <td>1</td>\n",
       "      <td>1</td>\n",
       "      <td>1</td>\n",
       "      <td>14</td>\n",
       "      <td>0</td>\n",
       "      <td>...</td>\n",
       "      <td>0</td>\n",
       "      <td>0</td>\n",
       "      <td>0</td>\n",
       "      <td>0</td>\n",
       "      <td>0</td>\n",
       "      <td>0</td>\n",
       "      <td>0</td>\n",
       "      <td>0</td>\n",
       "      <td>0</td>\n",
       "      <td>0</td>\n",
       "    </tr>\n",
       "    <tr>\n",
       "      <th>2</th>\n",
       "      <td>14.600000</td>\n",
       "      <td>0</td>\n",
       "      <td>0.099575</td>\n",
       "      <td>Others</td>\n",
       "      <td>241.7538</td>\n",
       "      <td>1</td>\n",
       "      <td>2</td>\n",
       "      <td>0</td>\n",
       "      <td>23</td>\n",
       "      <td>0</td>\n",
       "      <td>...</td>\n",
       "      <td>0</td>\n",
       "      <td>0</td>\n",
       "      <td>0</td>\n",
       "      <td>0</td>\n",
       "      <td>0</td>\n",
       "      <td>1</td>\n",
       "      <td>0</td>\n",
       "      <td>0</td>\n",
       "      <td>0</td>\n",
       "      <td>0</td>\n",
       "    </tr>\n",
       "    <tr>\n",
       "      <th>3</th>\n",
       "      <td>7.315000</td>\n",
       "      <td>0</td>\n",
       "      <td>0.015388</td>\n",
       "      <td>Snack Foods</td>\n",
       "      <td>155.0340</td>\n",
       "      <td>1</td>\n",
       "      <td>1</td>\n",
       "      <td>1</td>\n",
       "      <td>14</td>\n",
       "      <td>0</td>\n",
       "      <td>...</td>\n",
       "      <td>0</td>\n",
       "      <td>0</td>\n",
       "      <td>0</td>\n",
       "      <td>0</td>\n",
       "      <td>0</td>\n",
       "      <td>0</td>\n",
       "      <td>0</td>\n",
       "      <td>1</td>\n",
       "      <td>0</td>\n",
       "      <td>0</td>\n",
       "    </tr>\n",
       "    <tr>\n",
       "      <th>4</th>\n",
       "      <td>12.695633</td>\n",
       "      <td>1</td>\n",
       "      <td>0.118599</td>\n",
       "      <td>Dairy</td>\n",
       "      <td>234.2300</td>\n",
       "      <td>1</td>\n",
       "      <td>2</td>\n",
       "      <td>3</td>\n",
       "      <td>36</td>\n",
       "      <td>0</td>\n",
       "      <td>...</td>\n",
       "      <td>0</td>\n",
       "      <td>0</td>\n",
       "      <td>0</td>\n",
       "      <td>0</td>\n",
       "      <td>0</td>\n",
       "      <td>0</td>\n",
       "      <td>0</td>\n",
       "      <td>0</td>\n",
       "      <td>0</td>\n",
       "      <td>0</td>\n",
       "    </tr>\n",
       "  </tbody>\n",
       "</table>\n",
       "<p>5 rows × 25 columns</p>\n",
       "</div>"
      ],
      "text/plain": [
       "   Item_Weight  Item_Fat_Content  Item_Visibility    Item_Type  Item_MRP  \\\n",
       "0    20.750000                 0         0.007565  Snack Foods  107.8622   \n",
       "1     8.300000                 1         0.038428        Dairy   87.3198   \n",
       "2    14.600000                 0         0.099575       Others  241.7538   \n",
       "3     7.315000                 0         0.015388  Snack Foods  155.0340   \n",
       "4    12.695633                 1         0.118599        Dairy  234.2300   \n",
       "\n",
       "   Outlet_Size  Outlet_Location_Type  Outlet_Type  Age  Baking Goods  ...  \\\n",
       "0            1                     0            1   22             0  ...   \n",
       "1            1                     1            1   14             0  ...   \n",
       "2            1                     2            0   23             0  ...   \n",
       "3            1                     1            1   14             0  ...   \n",
       "4            1                     2            3   36             0  ...   \n",
       "\n",
       "   Fruits and Vegetables  Hard Drinks  Health and Hygiene  Household  Meat  \\\n",
       "0                      0            0                   0          0     0   \n",
       "1                      0            0                   0          0     0   \n",
       "2                      0            0                   0          0     0   \n",
       "3                      0            0                   0          0     0   \n",
       "4                      0            0                   0          0     0   \n",
       "\n",
       "   Others  Seafood  Snack Foods  Soft Drinks  Starchy Foods  \n",
       "0       0        0            1            0              0  \n",
       "1       0        0            0            0              0  \n",
       "2       1        0            0            0              0  \n",
       "3       0        0            1            0              0  \n",
       "4       0        0            0            0              0  \n",
       "\n",
       "[5 rows x 25 columns]"
      ]
     },
     "execution_count": 79,
     "metadata": {},
     "output_type": "execute_result"
    }
   ],
   "source": [
    "test.head()"
   ]
  },
  {
   "cell_type": "code",
   "execution_count": 80,
   "id": "debb6ab4",
   "metadata": {
    "ExecuteTime": {
     "end_time": "2022-01-05T02:37:16.322205Z",
     "start_time": "2022-01-05T02:37:16.310238Z"
    }
   },
   "outputs": [],
   "source": [
    "#drop the main feature and one dummy feature\n",
    "train.drop(['Item_Type', 'Starchy Foods'], axis=1, inplace=True)\n",
    "test.drop(['Item_Type', 'Starchy Foods'], axis=1, inplace=True)"
   ]
  },
  {
   "cell_type": "code",
   "execution_count": 81,
   "id": "b713b0cc",
   "metadata": {
    "ExecuteTime": {
     "end_time": "2022-01-05T02:37:16.338195Z",
     "start_time": "2022-01-05T02:37:16.324201Z"
    }
   },
   "outputs": [
    {
     "data": {
      "text/plain": [
       "['Item_Weight', 'Item_Visibility', 'Item_MRP']"
      ]
     },
     "execution_count": 81,
     "metadata": {},
     "output_type": "execute_result"
    }
   ],
   "source": [
    "cont_features"
   ]
  },
  {
   "cell_type": "code",
   "execution_count": 82,
   "id": "d75e316e",
   "metadata": {
    "ExecuteTime": {
     "end_time": "2022-01-05T02:37:16.369110Z",
     "start_time": "2022-01-05T02:37:16.339195Z"
    }
   },
   "outputs": [
    {
     "data": {
      "text/html": [
       "<div>\n",
       "<style scoped>\n",
       "    .dataframe tbody tr th:only-of-type {\n",
       "        vertical-align: middle;\n",
       "    }\n",
       "\n",
       "    .dataframe tbody tr th {\n",
       "        vertical-align: top;\n",
       "    }\n",
       "\n",
       "    .dataframe thead th {\n",
       "        text-align: right;\n",
       "    }\n",
       "</style>\n",
       "<table border=\"1\" class=\"dataframe\">\n",
       "  <thead>\n",
       "    <tr style=\"text-align: right;\">\n",
       "      <th></th>\n",
       "      <th>Item_Weight</th>\n",
       "      <th>Item_Fat_Content</th>\n",
       "      <th>Item_Visibility</th>\n",
       "      <th>Item_MRP</th>\n",
       "      <th>Outlet_Size</th>\n",
       "      <th>Outlet_Location_Type</th>\n",
       "      <th>Outlet_Type</th>\n",
       "      <th>Item_Outlet_Sales</th>\n",
       "      <th>Age</th>\n",
       "      <th>Baking Goods</th>\n",
       "      <th>...</th>\n",
       "      <th>Frozen Foods</th>\n",
       "      <th>Fruits and Vegetables</th>\n",
       "      <th>Hard Drinks</th>\n",
       "      <th>Health and Hygiene</th>\n",
       "      <th>Household</th>\n",
       "      <th>Meat</th>\n",
       "      <th>Others</th>\n",
       "      <th>Seafood</th>\n",
       "      <th>Snack Foods</th>\n",
       "      <th>Soft Drinks</th>\n",
       "    </tr>\n",
       "  </thead>\n",
       "  <tbody>\n",
       "    <tr>\n",
       "      <th>0</th>\n",
       "      <td>9.30</td>\n",
       "      <td>0</td>\n",
       "      <td>0.016047</td>\n",
       "      <td>249.8092</td>\n",
       "      <td>1</td>\n",
       "      <td>0</td>\n",
       "      <td>1</td>\n",
       "      <td>3735.1380</td>\n",
       "      <td>22</td>\n",
       "      <td>0</td>\n",
       "      <td>...</td>\n",
       "      <td>0</td>\n",
       "      <td>0</td>\n",
       "      <td>0</td>\n",
       "      <td>0</td>\n",
       "      <td>0</td>\n",
       "      <td>0</td>\n",
       "      <td>0</td>\n",
       "      <td>0</td>\n",
       "      <td>0</td>\n",
       "      <td>0</td>\n",
       "    </tr>\n",
       "    <tr>\n",
       "      <th>1</th>\n",
       "      <td>5.92</td>\n",
       "      <td>1</td>\n",
       "      <td>0.019278</td>\n",
       "      <td>48.2692</td>\n",
       "      <td>1</td>\n",
       "      <td>2</td>\n",
       "      <td>2</td>\n",
       "      <td>443.4228</td>\n",
       "      <td>12</td>\n",
       "      <td>0</td>\n",
       "      <td>...</td>\n",
       "      <td>0</td>\n",
       "      <td>0</td>\n",
       "      <td>0</td>\n",
       "      <td>0</td>\n",
       "      <td>0</td>\n",
       "      <td>0</td>\n",
       "      <td>0</td>\n",
       "      <td>0</td>\n",
       "      <td>0</td>\n",
       "      <td>1</td>\n",
       "    </tr>\n",
       "    <tr>\n",
       "      <th>2</th>\n",
       "      <td>17.50</td>\n",
       "      <td>0</td>\n",
       "      <td>0.016760</td>\n",
       "      <td>141.6180</td>\n",
       "      <td>1</td>\n",
       "      <td>0</td>\n",
       "      <td>1</td>\n",
       "      <td>2097.2700</td>\n",
       "      <td>22</td>\n",
       "      <td>0</td>\n",
       "      <td>...</td>\n",
       "      <td>0</td>\n",
       "      <td>0</td>\n",
       "      <td>0</td>\n",
       "      <td>0</td>\n",
       "      <td>0</td>\n",
       "      <td>1</td>\n",
       "      <td>0</td>\n",
       "      <td>0</td>\n",
       "      <td>0</td>\n",
       "      <td>0</td>\n",
       "    </tr>\n",
       "    <tr>\n",
       "      <th>3</th>\n",
       "      <td>19.20</td>\n",
       "      <td>1</td>\n",
       "      <td>0.000000</td>\n",
       "      <td>182.0950</td>\n",
       "      <td>1</td>\n",
       "      <td>2</td>\n",
       "      <td>0</td>\n",
       "      <td>732.3800</td>\n",
       "      <td>23</td>\n",
       "      <td>0</td>\n",
       "      <td>...</td>\n",
       "      <td>0</td>\n",
       "      <td>1</td>\n",
       "      <td>0</td>\n",
       "      <td>0</td>\n",
       "      <td>0</td>\n",
       "      <td>0</td>\n",
       "      <td>0</td>\n",
       "      <td>0</td>\n",
       "      <td>0</td>\n",
       "      <td>0</td>\n",
       "    </tr>\n",
       "    <tr>\n",
       "      <th>4</th>\n",
       "      <td>8.93</td>\n",
       "      <td>0</td>\n",
       "      <td>0.000000</td>\n",
       "      <td>53.8614</td>\n",
       "      <td>0</td>\n",
       "      <td>2</td>\n",
       "      <td>1</td>\n",
       "      <td>994.7052</td>\n",
       "      <td>34</td>\n",
       "      <td>0</td>\n",
       "      <td>...</td>\n",
       "      <td>0</td>\n",
       "      <td>0</td>\n",
       "      <td>0</td>\n",
       "      <td>0</td>\n",
       "      <td>1</td>\n",
       "      <td>0</td>\n",
       "      <td>0</td>\n",
       "      <td>0</td>\n",
       "      <td>0</td>\n",
       "      <td>0</td>\n",
       "    </tr>\n",
       "  </tbody>\n",
       "</table>\n",
       "<p>5 rows × 24 columns</p>\n",
       "</div>"
      ],
      "text/plain": [
       "   Item_Weight  Item_Fat_Content  Item_Visibility  Item_MRP  Outlet_Size  \\\n",
       "0         9.30                 0         0.016047  249.8092            1   \n",
       "1         5.92                 1         0.019278   48.2692            1   \n",
       "2        17.50                 0         0.016760  141.6180            1   \n",
       "3        19.20                 1         0.000000  182.0950            1   \n",
       "4         8.93                 0         0.000000   53.8614            0   \n",
       "\n",
       "   Outlet_Location_Type  Outlet_Type  Item_Outlet_Sales  Age  Baking Goods  \\\n",
       "0                     0            1          3735.1380   22             0   \n",
       "1                     2            2           443.4228   12             0   \n",
       "2                     0            1          2097.2700   22             0   \n",
       "3                     2            0           732.3800   23             0   \n",
       "4                     2            1           994.7052   34             0   \n",
       "\n",
       "   ...  Frozen Foods  Fruits and Vegetables  Hard Drinks  Health and Hygiene  \\\n",
       "0  ...             0                      0            0                   0   \n",
       "1  ...             0                      0            0                   0   \n",
       "2  ...             0                      0            0                   0   \n",
       "3  ...             0                      1            0                   0   \n",
       "4  ...             0                      0            0                   0   \n",
       "\n",
       "   Household  Meat  Others  Seafood  Snack Foods  Soft Drinks  \n",
       "0          0     0       0        0            0            0  \n",
       "1          0     0       0        0            0            1  \n",
       "2          0     1       0        0            0            0  \n",
       "3          0     0       0        0            0            0  \n",
       "4          1     0       0        0            0            0  \n",
       "\n",
       "[5 rows x 24 columns]"
      ]
     },
     "execution_count": 82,
     "metadata": {},
     "output_type": "execute_result"
    }
   ],
   "source": [
    "train.head()"
   ]
  },
  {
   "cell_type": "code",
   "execution_count": 83,
   "id": "3e066956",
   "metadata": {
    "ExecuteTime": {
     "end_time": "2022-01-05T02:37:16.387032Z",
     "start_time": "2022-01-05T02:37:16.370102Z"
    }
   },
   "outputs": [
    {
     "data": {
      "text/html": [
       "<div>\n",
       "<style scoped>\n",
       "    .dataframe tbody tr th:only-of-type {\n",
       "        vertical-align: middle;\n",
       "    }\n",
       "\n",
       "    .dataframe tbody tr th {\n",
       "        vertical-align: top;\n",
       "    }\n",
       "\n",
       "    .dataframe thead th {\n",
       "        text-align: right;\n",
       "    }\n",
       "</style>\n",
       "<table border=\"1\" class=\"dataframe\">\n",
       "  <thead>\n",
       "    <tr style=\"text-align: right;\">\n",
       "      <th></th>\n",
       "      <th>Item_Weight</th>\n",
       "      <th>Item_Fat_Content</th>\n",
       "      <th>Item_Visibility</th>\n",
       "      <th>Item_MRP</th>\n",
       "      <th>Outlet_Size</th>\n",
       "      <th>Outlet_Location_Type</th>\n",
       "      <th>Outlet_Type</th>\n",
       "      <th>Age</th>\n",
       "      <th>Baking Goods</th>\n",
       "      <th>Breads</th>\n",
       "      <th>...</th>\n",
       "      <th>Frozen Foods</th>\n",
       "      <th>Fruits and Vegetables</th>\n",
       "      <th>Hard Drinks</th>\n",
       "      <th>Health and Hygiene</th>\n",
       "      <th>Household</th>\n",
       "      <th>Meat</th>\n",
       "      <th>Others</th>\n",
       "      <th>Seafood</th>\n",
       "      <th>Snack Foods</th>\n",
       "      <th>Soft Drinks</th>\n",
       "    </tr>\n",
       "  </thead>\n",
       "  <tbody>\n",
       "    <tr>\n",
       "      <th>0</th>\n",
       "      <td>20.750000</td>\n",
       "      <td>0</td>\n",
       "      <td>0.007565</td>\n",
       "      <td>107.8622</td>\n",
       "      <td>1</td>\n",
       "      <td>0</td>\n",
       "      <td>1</td>\n",
       "      <td>22</td>\n",
       "      <td>0</td>\n",
       "      <td>0</td>\n",
       "      <td>...</td>\n",
       "      <td>0</td>\n",
       "      <td>0</td>\n",
       "      <td>0</td>\n",
       "      <td>0</td>\n",
       "      <td>0</td>\n",
       "      <td>0</td>\n",
       "      <td>0</td>\n",
       "      <td>0</td>\n",
       "      <td>1</td>\n",
       "      <td>0</td>\n",
       "    </tr>\n",
       "    <tr>\n",
       "      <th>1</th>\n",
       "      <td>8.300000</td>\n",
       "      <td>1</td>\n",
       "      <td>0.038428</td>\n",
       "      <td>87.3198</td>\n",
       "      <td>1</td>\n",
       "      <td>1</td>\n",
       "      <td>1</td>\n",
       "      <td>14</td>\n",
       "      <td>0</td>\n",
       "      <td>0</td>\n",
       "      <td>...</td>\n",
       "      <td>0</td>\n",
       "      <td>0</td>\n",
       "      <td>0</td>\n",
       "      <td>0</td>\n",
       "      <td>0</td>\n",
       "      <td>0</td>\n",
       "      <td>0</td>\n",
       "      <td>0</td>\n",
       "      <td>0</td>\n",
       "      <td>0</td>\n",
       "    </tr>\n",
       "    <tr>\n",
       "      <th>2</th>\n",
       "      <td>14.600000</td>\n",
       "      <td>0</td>\n",
       "      <td>0.099575</td>\n",
       "      <td>241.7538</td>\n",
       "      <td>1</td>\n",
       "      <td>2</td>\n",
       "      <td>0</td>\n",
       "      <td>23</td>\n",
       "      <td>0</td>\n",
       "      <td>0</td>\n",
       "      <td>...</td>\n",
       "      <td>0</td>\n",
       "      <td>0</td>\n",
       "      <td>0</td>\n",
       "      <td>0</td>\n",
       "      <td>0</td>\n",
       "      <td>0</td>\n",
       "      <td>1</td>\n",
       "      <td>0</td>\n",
       "      <td>0</td>\n",
       "      <td>0</td>\n",
       "    </tr>\n",
       "    <tr>\n",
       "      <th>3</th>\n",
       "      <td>7.315000</td>\n",
       "      <td>0</td>\n",
       "      <td>0.015388</td>\n",
       "      <td>155.0340</td>\n",
       "      <td>1</td>\n",
       "      <td>1</td>\n",
       "      <td>1</td>\n",
       "      <td>14</td>\n",
       "      <td>0</td>\n",
       "      <td>0</td>\n",
       "      <td>...</td>\n",
       "      <td>0</td>\n",
       "      <td>0</td>\n",
       "      <td>0</td>\n",
       "      <td>0</td>\n",
       "      <td>0</td>\n",
       "      <td>0</td>\n",
       "      <td>0</td>\n",
       "      <td>0</td>\n",
       "      <td>1</td>\n",
       "      <td>0</td>\n",
       "    </tr>\n",
       "    <tr>\n",
       "      <th>4</th>\n",
       "      <td>12.695633</td>\n",
       "      <td>1</td>\n",
       "      <td>0.118599</td>\n",
       "      <td>234.2300</td>\n",
       "      <td>1</td>\n",
       "      <td>2</td>\n",
       "      <td>3</td>\n",
       "      <td>36</td>\n",
       "      <td>0</td>\n",
       "      <td>0</td>\n",
       "      <td>...</td>\n",
       "      <td>0</td>\n",
       "      <td>0</td>\n",
       "      <td>0</td>\n",
       "      <td>0</td>\n",
       "      <td>0</td>\n",
       "      <td>0</td>\n",
       "      <td>0</td>\n",
       "      <td>0</td>\n",
       "      <td>0</td>\n",
       "      <td>0</td>\n",
       "    </tr>\n",
       "  </tbody>\n",
       "</table>\n",
       "<p>5 rows × 23 columns</p>\n",
       "</div>"
      ],
      "text/plain": [
       "   Item_Weight  Item_Fat_Content  Item_Visibility  Item_MRP  Outlet_Size  \\\n",
       "0    20.750000                 0         0.007565  107.8622            1   \n",
       "1     8.300000                 1         0.038428   87.3198            1   \n",
       "2    14.600000                 0         0.099575  241.7538            1   \n",
       "3     7.315000                 0         0.015388  155.0340            1   \n",
       "4    12.695633                 1         0.118599  234.2300            1   \n",
       "\n",
       "   Outlet_Location_Type  Outlet_Type  Age  Baking Goods  Breads  ...  \\\n",
       "0                     0            1   22             0       0  ...   \n",
       "1                     1            1   14             0       0  ...   \n",
       "2                     2            0   23             0       0  ...   \n",
       "3                     1            1   14             0       0  ...   \n",
       "4                     2            3   36             0       0  ...   \n",
       "\n",
       "   Frozen Foods  Fruits and Vegetables  Hard Drinks  Health and Hygiene  \\\n",
       "0             0                      0            0                   0   \n",
       "1             0                      0            0                   0   \n",
       "2             0                      0            0                   0   \n",
       "3             0                      0            0                   0   \n",
       "4             0                      0            0                   0   \n",
       "\n",
       "   Household  Meat  Others  Seafood  Snack Foods  Soft Drinks  \n",
       "0          0     0       0        0            1            0  \n",
       "1          0     0       0        0            0            0  \n",
       "2          0     0       1        0            0            0  \n",
       "3          0     0       0        0            1            0  \n",
       "4          0     0       0        0            0            0  \n",
       "\n",
       "[5 rows x 23 columns]"
      ]
     },
     "execution_count": 83,
     "metadata": {},
     "output_type": "execute_result"
    }
   ],
   "source": [
    "test.head()"
   ]
  },
  {
   "cell_type": "code",
   "execution_count": 84,
   "id": "f1337610",
   "metadata": {
    "ExecuteTime": {
     "end_time": "2022-01-05T02:37:16.401028Z",
     "start_time": "2022-01-05T02:37:16.388029Z"
    }
   },
   "outputs": [
    {
     "data": {
      "text/html": [
       "<div>\n",
       "<style scoped>\n",
       "    .dataframe tbody tr th:only-of-type {\n",
       "        vertical-align: middle;\n",
       "    }\n",
       "\n",
       "    .dataframe tbody tr th {\n",
       "        vertical-align: top;\n",
       "    }\n",
       "\n",
       "    .dataframe thead th {\n",
       "        text-align: right;\n",
       "    }\n",
       "</style>\n",
       "<table border=\"1\" class=\"dataframe\">\n",
       "  <thead>\n",
       "    <tr style=\"text-align: right;\">\n",
       "      <th></th>\n",
       "      <th>Item_Weight</th>\n",
       "      <th>Item_Visibility</th>\n",
       "      <th>Item_MRP</th>\n",
       "    </tr>\n",
       "  </thead>\n",
       "  <tbody>\n",
       "    <tr>\n",
       "      <th>0</th>\n",
       "      <td>9.30</td>\n",
       "      <td>0.016047</td>\n",
       "      <td>249.8092</td>\n",
       "    </tr>\n",
       "    <tr>\n",
       "      <th>1</th>\n",
       "      <td>5.92</td>\n",
       "      <td>0.019278</td>\n",
       "      <td>48.2692</td>\n",
       "    </tr>\n",
       "    <tr>\n",
       "      <th>2</th>\n",
       "      <td>17.50</td>\n",
       "      <td>0.016760</td>\n",
       "      <td>141.6180</td>\n",
       "    </tr>\n",
       "    <tr>\n",
       "      <th>3</th>\n",
       "      <td>19.20</td>\n",
       "      <td>0.000000</td>\n",
       "      <td>182.0950</td>\n",
       "    </tr>\n",
       "    <tr>\n",
       "      <th>4</th>\n",
       "      <td>8.93</td>\n",
       "      <td>0.000000</td>\n",
       "      <td>53.8614</td>\n",
       "    </tr>\n",
       "  </tbody>\n",
       "</table>\n",
       "</div>"
      ],
      "text/plain": [
       "   Item_Weight  Item_Visibility  Item_MRP\n",
       "0         9.30         0.016047  249.8092\n",
       "1         5.92         0.019278   48.2692\n",
       "2        17.50         0.016760  141.6180\n",
       "3        19.20         0.000000  182.0950\n",
       "4         8.93         0.000000   53.8614"
      ]
     },
     "execution_count": 84,
     "metadata": {},
     "output_type": "execute_result"
    }
   ],
   "source": [
    "X = train[cont_features]\n",
    "X.head()"
   ]
  },
  {
   "cell_type": "code",
   "execution_count": 85,
   "id": "378fbe34",
   "metadata": {
    "ExecuteTime": {
     "end_time": "2022-01-05T02:37:16.416952Z",
     "start_time": "2022-01-05T02:37:16.402025Z"
    }
   },
   "outputs": [
    {
     "data": {
      "text/html": [
       "<div>\n",
       "<style scoped>\n",
       "    .dataframe tbody tr th:only-of-type {\n",
       "        vertical-align: middle;\n",
       "    }\n",
       "\n",
       "    .dataframe tbody tr th {\n",
       "        vertical-align: top;\n",
       "    }\n",
       "\n",
       "    .dataframe thead th {\n",
       "        text-align: right;\n",
       "    }\n",
       "</style>\n",
       "<table border=\"1\" class=\"dataframe\">\n",
       "  <thead>\n",
       "    <tr style=\"text-align: right;\">\n",
       "      <th></th>\n",
       "      <th>Item_Weight</th>\n",
       "      <th>Item_Visibility</th>\n",
       "      <th>Item_MRP</th>\n",
       "    </tr>\n",
       "  </thead>\n",
       "  <tbody>\n",
       "    <tr>\n",
       "      <th>0</th>\n",
       "      <td>20.750000</td>\n",
       "      <td>0.007565</td>\n",
       "      <td>107.8622</td>\n",
       "    </tr>\n",
       "    <tr>\n",
       "      <th>1</th>\n",
       "      <td>8.300000</td>\n",
       "      <td>0.038428</td>\n",
       "      <td>87.3198</td>\n",
       "    </tr>\n",
       "    <tr>\n",
       "      <th>2</th>\n",
       "      <td>14.600000</td>\n",
       "      <td>0.099575</td>\n",
       "      <td>241.7538</td>\n",
       "    </tr>\n",
       "    <tr>\n",
       "      <th>3</th>\n",
       "      <td>7.315000</td>\n",
       "      <td>0.015388</td>\n",
       "      <td>155.0340</td>\n",
       "    </tr>\n",
       "    <tr>\n",
       "      <th>4</th>\n",
       "      <td>12.695633</td>\n",
       "      <td>0.118599</td>\n",
       "      <td>234.2300</td>\n",
       "    </tr>\n",
       "  </tbody>\n",
       "</table>\n",
       "</div>"
      ],
      "text/plain": [
       "   Item_Weight  Item_Visibility  Item_MRP\n",
       "0    20.750000         0.007565  107.8622\n",
       "1     8.300000         0.038428   87.3198\n",
       "2    14.600000         0.099575  241.7538\n",
       "3     7.315000         0.015388  155.0340\n",
       "4    12.695633         0.118599  234.2300"
      ]
     },
     "execution_count": 85,
     "metadata": {},
     "output_type": "execute_result"
    }
   ],
   "source": [
    "test2 = test[cont_features]\n",
    "test2.head()"
   ]
  },
  {
   "cell_type": "markdown",
   "id": "cb83529f",
   "metadata": {},
   "source": [
    "<a href=\"#toc\" role=\"button\" aria-pressed=\"true\" >⬆️Back to Table of Contents ⬆️</a>"
   ]
  },
  {
   "cell_type": "markdown",
   "id": "70c28b95",
   "metadata": {},
   "source": [
    "<a id='7'></a>\n",
    "# Feature Scaling"
   ]
  },
  {
   "cell_type": "code",
   "execution_count": 86,
   "id": "e996df41",
   "metadata": {
    "ExecuteTime": {
     "end_time": "2022-01-05T02:37:16.431947Z",
     "start_time": "2022-01-05T02:37:16.417950Z"
    }
   },
   "outputs": [],
   "source": [
    "scaler = StandardScaler()\n",
    "X = scaler.fit_transform(X)\n",
    "test2 = scaler.fit_transform(test2)"
   ]
  },
  {
   "cell_type": "code",
   "execution_count": 87,
   "id": "881a9f03",
   "metadata": {
    "ExecuteTime": {
     "end_time": "2022-01-05T02:37:16.447906Z",
     "start_time": "2022-01-05T02:37:16.432908Z"
    }
   },
   "outputs": [],
   "source": [
    "X = pd.DataFrame(X, columns=cont_features)\n",
    "test2 = pd.DataFrame(test2, columns=cont_features)"
   ]
  },
  {
   "cell_type": "code",
   "execution_count": 88,
   "id": "9c3f6539",
   "metadata": {
    "ExecuteTime": {
     "end_time": "2022-01-05T02:37:16.463845Z",
     "start_time": "2022-01-05T02:37:16.448899Z"
    },
    "scrolled": true
   },
   "outputs": [
    {
     "data": {
      "text/html": [
       "<div>\n",
       "<style scoped>\n",
       "    .dataframe tbody tr th:only-of-type {\n",
       "        vertical-align: middle;\n",
       "    }\n",
       "\n",
       "    .dataframe tbody tr th {\n",
       "        vertical-align: top;\n",
       "    }\n",
       "\n",
       "    .dataframe thead th {\n",
       "        text-align: right;\n",
       "    }\n",
       "</style>\n",
       "<table border=\"1\" class=\"dataframe\">\n",
       "  <thead>\n",
       "    <tr style=\"text-align: right;\">\n",
       "      <th></th>\n",
       "      <th>Item_Weight</th>\n",
       "      <th>Item_Visibility</th>\n",
       "      <th>Item_MRP</th>\n",
       "    </tr>\n",
       "  </thead>\n",
       "  <tbody>\n",
       "    <tr>\n",
       "      <th>0</th>\n",
       "      <td>-0.841872</td>\n",
       "      <td>-0.970732</td>\n",
       "      <td>1.747454</td>\n",
       "    </tr>\n",
       "    <tr>\n",
       "      <th>1</th>\n",
       "      <td>-1.641706</td>\n",
       "      <td>-0.908111</td>\n",
       "      <td>-1.489023</td>\n",
       "    </tr>\n",
       "    <tr>\n",
       "      <th>2</th>\n",
       "      <td>1.098554</td>\n",
       "      <td>-0.956917</td>\n",
       "      <td>0.010040</td>\n",
       "    </tr>\n",
       "    <tr>\n",
       "      <th>3</th>\n",
       "      <td>1.500838</td>\n",
       "      <td>-1.281758</td>\n",
       "      <td>0.660050</td>\n",
       "    </tr>\n",
       "    <tr>\n",
       "      <th>4</th>\n",
       "      <td>-0.929428</td>\n",
       "      <td>-1.281758</td>\n",
       "      <td>-1.399220</td>\n",
       "    </tr>\n",
       "  </tbody>\n",
       "</table>\n",
       "</div>"
      ],
      "text/plain": [
       "   Item_Weight  Item_Visibility  Item_MRP\n",
       "0    -0.841872        -0.970732  1.747454\n",
       "1    -1.641706        -0.908111 -1.489023\n",
       "2     1.098554        -0.956917  0.010040\n",
       "3     1.500838        -1.281758  0.660050\n",
       "4    -0.929428        -1.281758 -1.399220"
      ]
     },
     "execution_count": 88,
     "metadata": {},
     "output_type": "execute_result"
    }
   ],
   "source": [
    "X.head()"
   ]
  },
  {
   "cell_type": "code",
   "execution_count": 89,
   "id": "d0e00ea4",
   "metadata": {
    "ExecuteTime": {
     "end_time": "2022-01-05T02:37:16.479784Z",
     "start_time": "2022-01-05T02:37:16.464825Z"
    }
   },
   "outputs": [
    {
     "data": {
      "text/html": [
       "<div>\n",
       "<style scoped>\n",
       "    .dataframe tbody tr th:only-of-type {\n",
       "        vertical-align: middle;\n",
       "    }\n",
       "\n",
       "    .dataframe tbody tr th {\n",
       "        vertical-align: top;\n",
       "    }\n",
       "\n",
       "    .dataframe thead th {\n",
       "        text-align: right;\n",
       "    }\n",
       "</style>\n",
       "<table border=\"1\" class=\"dataframe\">\n",
       "  <thead>\n",
       "    <tr style=\"text-align: right;\">\n",
       "      <th></th>\n",
       "      <th>Item_Weight</th>\n",
       "      <th>Item_Visibility</th>\n",
       "      <th>Item_MRP</th>\n",
       "    </tr>\n",
       "  </thead>\n",
       "  <tbody>\n",
       "    <tr>\n",
       "      <th>0</th>\n",
       "      <td>1.897460e+00</td>\n",
       "      <td>-1.134077</td>\n",
       "      <td>-0.536555</td>\n",
       "    </tr>\n",
       "    <tr>\n",
       "      <th>1</th>\n",
       "      <td>-1.035530e+00</td>\n",
       "      <td>-0.531850</td>\n",
       "      <td>-0.868937</td>\n",
       "    </tr>\n",
       "    <tr>\n",
       "      <th>2</th>\n",
       "      <td>4.486336e-01</td>\n",
       "      <td>0.661316</td>\n",
       "      <td>1.629848</td>\n",
       "    </tr>\n",
       "    <tr>\n",
       "      <th>3</th>\n",
       "      <td>-1.267578e+00</td>\n",
       "      <td>-0.981416</td>\n",
       "      <td>0.226697</td>\n",
       "    </tr>\n",
       "    <tr>\n",
       "      <th>4</th>\n",
       "      <td>-5.230960e-14</td>\n",
       "      <td>1.032540</td>\n",
       "      <td>1.508110</td>\n",
       "    </tr>\n",
       "  </tbody>\n",
       "</table>\n",
       "</div>"
      ],
      "text/plain": [
       "    Item_Weight  Item_Visibility  Item_MRP\n",
       "0  1.897460e+00        -1.134077 -0.536555\n",
       "1 -1.035530e+00        -0.531850 -0.868937\n",
       "2  4.486336e-01         0.661316  1.629848\n",
       "3 -1.267578e+00        -0.981416  0.226697\n",
       "4 -5.230960e-14         1.032540  1.508110"
      ]
     },
     "execution_count": 89,
     "metadata": {},
     "output_type": "execute_result"
    }
   ],
   "source": [
    "test2.head()"
   ]
  },
  {
   "cell_type": "code",
   "execution_count": 90,
   "id": "1575898a",
   "metadata": {
    "ExecuteTime": {
     "end_time": "2022-01-05T02:37:16.495776Z",
     "start_time": "2022-01-05T02:37:16.480807Z"
    }
   },
   "outputs": [
    {
     "data": {
      "text/plain": [
       "['Item_Weight',\n",
       " 'Item_Fat_Content',\n",
       " 'Item_Visibility',\n",
       " 'Item_MRP',\n",
       " 'Outlet_Size',\n",
       " 'Outlet_Location_Type',\n",
       " 'Outlet_Type',\n",
       " 'Age',\n",
       " 'Baking Goods',\n",
       " 'Breads',\n",
       " 'Breakfast',\n",
       " 'Canned',\n",
       " 'Dairy',\n",
       " 'Frozen Foods',\n",
       " 'Fruits and Vegetables',\n",
       " 'Hard Drinks',\n",
       " 'Health and Hygiene',\n",
       " 'Household',\n",
       " 'Meat',\n",
       " 'Others',\n",
       " 'Seafood',\n",
       " 'Snack Foods',\n",
       " 'Soft Drinks']"
      ]
     },
     "execution_count": 90,
     "metadata": {},
     "output_type": "execute_result"
    }
   ],
   "source": [
    "FEATURES = [col for col in train.columns if col not in ['Item_Outlet_Sales']]\n",
    "FEATURES"
   ]
  },
  {
   "cell_type": "code",
   "execution_count": 91,
   "id": "06ba8671",
   "metadata": {
    "ExecuteTime": {
     "end_time": "2022-01-05T02:37:16.511725Z",
     "start_time": "2022-01-05T02:37:16.496770Z"
    }
   },
   "outputs": [
    {
     "data": {
      "text/plain": [
       "['Item_Fat_Content',\n",
       " 'Outlet_Size',\n",
       " 'Outlet_Location_Type',\n",
       " 'Outlet_Type',\n",
       " 'Age',\n",
       " 'Baking Goods',\n",
       " 'Breads',\n",
       " 'Breakfast',\n",
       " 'Canned',\n",
       " 'Dairy',\n",
       " 'Frozen Foods',\n",
       " 'Fruits and Vegetables',\n",
       " 'Hard Drinks',\n",
       " 'Health and Hygiene',\n",
       " 'Household',\n",
       " 'Meat',\n",
       " 'Others',\n",
       " 'Seafood',\n",
       " 'Snack Foods',\n",
       " 'Soft Drinks']"
      ]
     },
     "execution_count": 91,
     "metadata": {},
     "output_type": "execute_result"
    }
   ],
   "source": [
    "cat_features = [col for col in FEATURES if train[col].nunique() < 25]\n",
    "cat_features"
   ]
  },
  {
   "cell_type": "markdown",
   "id": "c2f43a29",
   "metadata": {},
   "source": [
    "<a href=\"#toc\" role=\"button\" aria-pressed=\"true\" >⬆️Back to Table of Contents ⬆️</a>"
   ]
  },
  {
   "cell_type": "markdown",
   "id": "cb0f9805",
   "metadata": {},
   "source": [
    "<a id= '8'></a>\n",
    "# Assigning Feature and Target Variables"
   ]
  },
  {
   "cell_type": "code",
   "execution_count": 92,
   "id": "ada246d2",
   "metadata": {
    "ExecuteTime": {
     "end_time": "2022-01-05T02:37:16.543613Z",
     "start_time": "2022-01-05T02:37:16.512696Z"
    }
   },
   "outputs": [
    {
     "data": {
      "text/html": [
       "<div>\n",
       "<style scoped>\n",
       "    .dataframe tbody tr th:only-of-type {\n",
       "        vertical-align: middle;\n",
       "    }\n",
       "\n",
       "    .dataframe tbody tr th {\n",
       "        vertical-align: top;\n",
       "    }\n",
       "\n",
       "    .dataframe thead th {\n",
       "        text-align: right;\n",
       "    }\n",
       "</style>\n",
       "<table border=\"1\" class=\"dataframe\">\n",
       "  <thead>\n",
       "    <tr style=\"text-align: right;\">\n",
       "      <th></th>\n",
       "      <th>Item_Weight</th>\n",
       "      <th>Item_Visibility</th>\n",
       "      <th>Item_MRP</th>\n",
       "      <th>Item_Fat_Content</th>\n",
       "      <th>Outlet_Size</th>\n",
       "      <th>Outlet_Location_Type</th>\n",
       "      <th>Outlet_Type</th>\n",
       "      <th>Age</th>\n",
       "      <th>Baking Goods</th>\n",
       "      <th>Breads</th>\n",
       "      <th>...</th>\n",
       "      <th>Frozen Foods</th>\n",
       "      <th>Fruits and Vegetables</th>\n",
       "      <th>Hard Drinks</th>\n",
       "      <th>Health and Hygiene</th>\n",
       "      <th>Household</th>\n",
       "      <th>Meat</th>\n",
       "      <th>Others</th>\n",
       "      <th>Seafood</th>\n",
       "      <th>Snack Foods</th>\n",
       "      <th>Soft Drinks</th>\n",
       "    </tr>\n",
       "  </thead>\n",
       "  <tbody>\n",
       "    <tr>\n",
       "      <th>0</th>\n",
       "      <td>-0.841872</td>\n",
       "      <td>-0.970732</td>\n",
       "      <td>1.747454</td>\n",
       "      <td>0</td>\n",
       "      <td>1</td>\n",
       "      <td>0</td>\n",
       "      <td>1</td>\n",
       "      <td>22</td>\n",
       "      <td>0</td>\n",
       "      <td>0</td>\n",
       "      <td>...</td>\n",
       "      <td>0</td>\n",
       "      <td>0</td>\n",
       "      <td>0</td>\n",
       "      <td>0</td>\n",
       "      <td>0</td>\n",
       "      <td>0</td>\n",
       "      <td>0</td>\n",
       "      <td>0</td>\n",
       "      <td>0</td>\n",
       "      <td>0</td>\n",
       "    </tr>\n",
       "    <tr>\n",
       "      <th>1</th>\n",
       "      <td>-1.641706</td>\n",
       "      <td>-0.908111</td>\n",
       "      <td>-1.489023</td>\n",
       "      <td>1</td>\n",
       "      <td>1</td>\n",
       "      <td>2</td>\n",
       "      <td>2</td>\n",
       "      <td>12</td>\n",
       "      <td>0</td>\n",
       "      <td>0</td>\n",
       "      <td>...</td>\n",
       "      <td>0</td>\n",
       "      <td>0</td>\n",
       "      <td>0</td>\n",
       "      <td>0</td>\n",
       "      <td>0</td>\n",
       "      <td>0</td>\n",
       "      <td>0</td>\n",
       "      <td>0</td>\n",
       "      <td>0</td>\n",
       "      <td>1</td>\n",
       "    </tr>\n",
       "    <tr>\n",
       "      <th>2</th>\n",
       "      <td>1.098554</td>\n",
       "      <td>-0.956917</td>\n",
       "      <td>0.010040</td>\n",
       "      <td>0</td>\n",
       "      <td>1</td>\n",
       "      <td>0</td>\n",
       "      <td>1</td>\n",
       "      <td>22</td>\n",
       "      <td>0</td>\n",
       "      <td>0</td>\n",
       "      <td>...</td>\n",
       "      <td>0</td>\n",
       "      <td>0</td>\n",
       "      <td>0</td>\n",
       "      <td>0</td>\n",
       "      <td>0</td>\n",
       "      <td>1</td>\n",
       "      <td>0</td>\n",
       "      <td>0</td>\n",
       "      <td>0</td>\n",
       "      <td>0</td>\n",
       "    </tr>\n",
       "    <tr>\n",
       "      <th>3</th>\n",
       "      <td>1.500838</td>\n",
       "      <td>-1.281758</td>\n",
       "      <td>0.660050</td>\n",
       "      <td>1</td>\n",
       "      <td>1</td>\n",
       "      <td>2</td>\n",
       "      <td>0</td>\n",
       "      <td>23</td>\n",
       "      <td>0</td>\n",
       "      <td>0</td>\n",
       "      <td>...</td>\n",
       "      <td>0</td>\n",
       "      <td>1</td>\n",
       "      <td>0</td>\n",
       "      <td>0</td>\n",
       "      <td>0</td>\n",
       "      <td>0</td>\n",
       "      <td>0</td>\n",
       "      <td>0</td>\n",
       "      <td>0</td>\n",
       "      <td>0</td>\n",
       "    </tr>\n",
       "    <tr>\n",
       "      <th>4</th>\n",
       "      <td>-0.929428</td>\n",
       "      <td>-1.281758</td>\n",
       "      <td>-1.399220</td>\n",
       "      <td>0</td>\n",
       "      <td>0</td>\n",
       "      <td>2</td>\n",
       "      <td>1</td>\n",
       "      <td>34</td>\n",
       "      <td>0</td>\n",
       "      <td>0</td>\n",
       "      <td>...</td>\n",
       "      <td>0</td>\n",
       "      <td>0</td>\n",
       "      <td>0</td>\n",
       "      <td>0</td>\n",
       "      <td>1</td>\n",
       "      <td>0</td>\n",
       "      <td>0</td>\n",
       "      <td>0</td>\n",
       "      <td>0</td>\n",
       "      <td>0</td>\n",
       "    </tr>\n",
       "  </tbody>\n",
       "</table>\n",
       "<p>5 rows × 23 columns</p>\n",
       "</div>"
      ],
      "text/plain": [
       "   Item_Weight  Item_Visibility  Item_MRP  Item_Fat_Content  Outlet_Size  \\\n",
       "0    -0.841872        -0.970732  1.747454                 0            1   \n",
       "1    -1.641706        -0.908111 -1.489023                 1            1   \n",
       "2     1.098554        -0.956917  0.010040                 0            1   \n",
       "3     1.500838        -1.281758  0.660050                 1            1   \n",
       "4    -0.929428        -1.281758 -1.399220                 0            0   \n",
       "\n",
       "   Outlet_Location_Type  Outlet_Type  Age  Baking Goods  Breads  ...  \\\n",
       "0                     0            1   22             0       0  ...   \n",
       "1                     2            2   12             0       0  ...   \n",
       "2                     0            1   22             0       0  ...   \n",
       "3                     2            0   23             0       0  ...   \n",
       "4                     2            1   34             0       0  ...   \n",
       "\n",
       "   Frozen Foods  Fruits and Vegetables  Hard Drinks  Health and Hygiene  \\\n",
       "0             0                      0            0                   0   \n",
       "1             0                      0            0                   0   \n",
       "2             0                      0            0                   0   \n",
       "3             0                      1            0                   0   \n",
       "4             0                      0            0                   0   \n",
       "\n",
       "   Household  Meat  Others  Seafood  Snack Foods  Soft Drinks  \n",
       "0          0     0       0        0            0            0  \n",
       "1          0     0       0        0            0            1  \n",
       "2          0     1       0        0            0            0  \n",
       "3          0     0       0        0            0            0  \n",
       "4          1     0       0        0            0            0  \n",
       "\n",
       "[5 rows x 23 columns]"
      ]
     },
     "execution_count": 92,
     "metadata": {},
     "output_type": "execute_result"
    }
   ],
   "source": [
    "X = pd.concat([X, train[cat_features]], axis=1)\n",
    "X.head()"
   ]
  },
  {
   "cell_type": "code",
   "execution_count": 93,
   "id": "ca8ea7f6",
   "metadata": {
    "ExecuteTime": {
     "end_time": "2022-01-05T02:37:16.559570Z",
     "start_time": "2022-01-05T02:37:16.544612Z"
    }
   },
   "outputs": [
    {
     "data": {
      "text/plain": [
       "0    3735.1380\n",
       "1     443.4228\n",
       "2    2097.2700\n",
       "3     732.3800\n",
       "4     994.7052\n",
       "Name: Item_Outlet_Sales, dtype: float64"
      ]
     },
     "execution_count": 93,
     "metadata": {},
     "output_type": "execute_result"
    }
   ],
   "source": [
    "y = train.Item_Outlet_Sales\n",
    "y.head()"
   ]
  },
  {
   "cell_type": "code",
   "execution_count": 94,
   "id": "503df841",
   "metadata": {
    "ExecuteTime": {
     "end_time": "2022-01-05T02:37:16.591485Z",
     "start_time": "2022-01-05T02:37:16.560572Z"
    }
   },
   "outputs": [
    {
     "data": {
      "text/html": [
       "<div>\n",
       "<style scoped>\n",
       "    .dataframe tbody tr th:only-of-type {\n",
       "        vertical-align: middle;\n",
       "    }\n",
       "\n",
       "    .dataframe tbody tr th {\n",
       "        vertical-align: top;\n",
       "    }\n",
       "\n",
       "    .dataframe thead th {\n",
       "        text-align: right;\n",
       "    }\n",
       "</style>\n",
       "<table border=\"1\" class=\"dataframe\">\n",
       "  <thead>\n",
       "    <tr style=\"text-align: right;\">\n",
       "      <th></th>\n",
       "      <th>Item_Weight</th>\n",
       "      <th>Item_Visibility</th>\n",
       "      <th>Item_MRP</th>\n",
       "      <th>Item_Fat_Content</th>\n",
       "      <th>Outlet_Size</th>\n",
       "      <th>Outlet_Location_Type</th>\n",
       "      <th>Outlet_Type</th>\n",
       "      <th>Age</th>\n",
       "      <th>Baking Goods</th>\n",
       "      <th>Breads</th>\n",
       "      <th>...</th>\n",
       "      <th>Frozen Foods</th>\n",
       "      <th>Fruits and Vegetables</th>\n",
       "      <th>Hard Drinks</th>\n",
       "      <th>Health and Hygiene</th>\n",
       "      <th>Household</th>\n",
       "      <th>Meat</th>\n",
       "      <th>Others</th>\n",
       "      <th>Seafood</th>\n",
       "      <th>Snack Foods</th>\n",
       "      <th>Soft Drinks</th>\n",
       "    </tr>\n",
       "  </thead>\n",
       "  <tbody>\n",
       "    <tr>\n",
       "      <th>0</th>\n",
       "      <td>1.897460e+00</td>\n",
       "      <td>-1.134077</td>\n",
       "      <td>-0.536555</td>\n",
       "      <td>0</td>\n",
       "      <td>1</td>\n",
       "      <td>0</td>\n",
       "      <td>1</td>\n",
       "      <td>22</td>\n",
       "      <td>0</td>\n",
       "      <td>0</td>\n",
       "      <td>...</td>\n",
       "      <td>0</td>\n",
       "      <td>0</td>\n",
       "      <td>0</td>\n",
       "      <td>0</td>\n",
       "      <td>0</td>\n",
       "      <td>0</td>\n",
       "      <td>0</td>\n",
       "      <td>0</td>\n",
       "      <td>1</td>\n",
       "      <td>0</td>\n",
       "    </tr>\n",
       "    <tr>\n",
       "      <th>1</th>\n",
       "      <td>-1.035530e+00</td>\n",
       "      <td>-0.531850</td>\n",
       "      <td>-0.868937</td>\n",
       "      <td>1</td>\n",
       "      <td>1</td>\n",
       "      <td>1</td>\n",
       "      <td>1</td>\n",
       "      <td>14</td>\n",
       "      <td>0</td>\n",
       "      <td>0</td>\n",
       "      <td>...</td>\n",
       "      <td>0</td>\n",
       "      <td>0</td>\n",
       "      <td>0</td>\n",
       "      <td>0</td>\n",
       "      <td>0</td>\n",
       "      <td>0</td>\n",
       "      <td>0</td>\n",
       "      <td>0</td>\n",
       "      <td>0</td>\n",
       "      <td>0</td>\n",
       "    </tr>\n",
       "    <tr>\n",
       "      <th>2</th>\n",
       "      <td>4.486336e-01</td>\n",
       "      <td>0.661316</td>\n",
       "      <td>1.629848</td>\n",
       "      <td>0</td>\n",
       "      <td>1</td>\n",
       "      <td>2</td>\n",
       "      <td>0</td>\n",
       "      <td>23</td>\n",
       "      <td>0</td>\n",
       "      <td>0</td>\n",
       "      <td>...</td>\n",
       "      <td>0</td>\n",
       "      <td>0</td>\n",
       "      <td>0</td>\n",
       "      <td>0</td>\n",
       "      <td>0</td>\n",
       "      <td>0</td>\n",
       "      <td>1</td>\n",
       "      <td>0</td>\n",
       "      <td>0</td>\n",
       "      <td>0</td>\n",
       "    </tr>\n",
       "    <tr>\n",
       "      <th>3</th>\n",
       "      <td>-1.267578e+00</td>\n",
       "      <td>-0.981416</td>\n",
       "      <td>0.226697</td>\n",
       "      <td>0</td>\n",
       "      <td>1</td>\n",
       "      <td>1</td>\n",
       "      <td>1</td>\n",
       "      <td>14</td>\n",
       "      <td>0</td>\n",
       "      <td>0</td>\n",
       "      <td>...</td>\n",
       "      <td>0</td>\n",
       "      <td>0</td>\n",
       "      <td>0</td>\n",
       "      <td>0</td>\n",
       "      <td>0</td>\n",
       "      <td>0</td>\n",
       "      <td>0</td>\n",
       "      <td>0</td>\n",
       "      <td>1</td>\n",
       "      <td>0</td>\n",
       "    </tr>\n",
       "    <tr>\n",
       "      <th>4</th>\n",
       "      <td>-5.230960e-14</td>\n",
       "      <td>1.032540</td>\n",
       "      <td>1.508110</td>\n",
       "      <td>1</td>\n",
       "      <td>1</td>\n",
       "      <td>2</td>\n",
       "      <td>3</td>\n",
       "      <td>36</td>\n",
       "      <td>0</td>\n",
       "      <td>0</td>\n",
       "      <td>...</td>\n",
       "      <td>0</td>\n",
       "      <td>0</td>\n",
       "      <td>0</td>\n",
       "      <td>0</td>\n",
       "      <td>0</td>\n",
       "      <td>0</td>\n",
       "      <td>0</td>\n",
       "      <td>0</td>\n",
       "      <td>0</td>\n",
       "      <td>0</td>\n",
       "    </tr>\n",
       "  </tbody>\n",
       "</table>\n",
       "<p>5 rows × 23 columns</p>\n",
       "</div>"
      ],
      "text/plain": [
       "    Item_Weight  Item_Visibility  Item_MRP  Item_Fat_Content  Outlet_Size  \\\n",
       "0  1.897460e+00        -1.134077 -0.536555                 0            1   \n",
       "1 -1.035530e+00        -0.531850 -0.868937                 1            1   \n",
       "2  4.486336e-01         0.661316  1.629848                 0            1   \n",
       "3 -1.267578e+00        -0.981416  0.226697                 0            1   \n",
       "4 -5.230960e-14         1.032540  1.508110                 1            1   \n",
       "\n",
       "   Outlet_Location_Type  Outlet_Type  Age  Baking Goods  Breads  ...  \\\n",
       "0                     0            1   22             0       0  ...   \n",
       "1                     1            1   14             0       0  ...   \n",
       "2                     2            0   23             0       0  ...   \n",
       "3                     1            1   14             0       0  ...   \n",
       "4                     2            3   36             0       0  ...   \n",
       "\n",
       "   Frozen Foods  Fruits and Vegetables  Hard Drinks  Health and Hygiene  \\\n",
       "0             0                      0            0                   0   \n",
       "1             0                      0            0                   0   \n",
       "2             0                      0            0                   0   \n",
       "3             0                      0            0                   0   \n",
       "4             0                      0            0                   0   \n",
       "\n",
       "   Household  Meat  Others  Seafood  Snack Foods  Soft Drinks  \n",
       "0          0     0       0        0            1            0  \n",
       "1          0     0       0        0            0            0  \n",
       "2          0     0       1        0            0            0  \n",
       "3          0     0       0        0            1            0  \n",
       "4          0     0       0        0            0            0  \n",
       "\n",
       "[5 rows x 23 columns]"
      ]
     },
     "execution_count": 94,
     "metadata": {},
     "output_type": "execute_result"
    }
   ],
   "source": [
    "test2 = pd.concat([test2, test[cat_features]], axis=1)\n",
    "test2.head()"
   ]
  },
  {
   "cell_type": "code",
   "execution_count": 95,
   "id": "84999639",
   "metadata": {
    "ExecuteTime": {
     "end_time": "2022-01-05T02:37:16.607475Z",
     "start_time": "2022-01-05T02:37:16.593481Z"
    }
   },
   "outputs": [
    {
     "data": {
      "text/plain": [
       "(8523, 24)"
      ]
     },
     "execution_count": 95,
     "metadata": {},
     "output_type": "execute_result"
    }
   ],
   "source": [
    "train.shape"
   ]
  },
  {
   "cell_type": "code",
   "execution_count": 96,
   "id": "4e87d0ac",
   "metadata": {
    "ExecuteTime": {
     "end_time": "2022-01-05T02:37:16.623399Z",
     "start_time": "2022-01-05T02:37:16.609438Z"
    }
   },
   "outputs": [
    {
     "data": {
      "text/plain": [
       "(8523, 23)"
      ]
     },
     "execution_count": 96,
     "metadata": {},
     "output_type": "execute_result"
    }
   ],
   "source": [
    "X.shape"
   ]
  },
  {
   "cell_type": "code",
   "execution_count": 97,
   "id": "062c57b4",
   "metadata": {
    "ExecuteTime": {
     "end_time": "2022-01-05T02:37:16.639356Z",
     "start_time": "2022-01-05T02:37:16.625395Z"
    }
   },
   "outputs": [
    {
     "data": {
      "text/plain": [
       "(5681, 23)"
      ]
     },
     "execution_count": 97,
     "metadata": {},
     "output_type": "execute_result"
    }
   ],
   "source": [
    "test2.shape"
   ]
  },
  {
   "cell_type": "markdown",
   "id": "0eb04f39",
   "metadata": {},
   "source": [
    "<a href=\"#toc\" role=\"button\" aria-pressed=\"true\" >⬆️Back to Table of Contents ⬆️</a>"
   ]
  },
  {
   "cell_type": "markdown",
   "id": "eeae02c1",
   "metadata": {},
   "source": [
    "<a id='9'></a>\n",
    "# Spliting the data into Training and Testing data"
   ]
  },
  {
   "cell_type": "code",
   "execution_count": 98,
   "id": "1fe54de0",
   "metadata": {
    "ExecuteTime": {
     "end_time": "2022-01-05T02:37:16.655314Z",
     "start_time": "2022-01-05T02:37:16.641354Z"
    }
   },
   "outputs": [],
   "source": [
    "X_train, X_test, y_train, y_test = train_test_split(X,y, test_size=0.25, random_state = 0)"
   ]
  },
  {
   "cell_type": "markdown",
   "id": "cbae026a",
   "metadata": {},
   "source": [
    "<a href=\"#toc\" role=\"button\" aria-pressed=\"true\" >⬆️Back to Table of Contents ⬆️</a>"
   ]
  },
  {
   "cell_type": "markdown",
   "id": "03df5486",
   "metadata": {},
   "source": [
    "<a id='10'></a>\n",
    "# Modeling"
   ]
  },
  {
   "cell_type": "code",
   "execution_count": 132,
   "id": "f9760445",
   "metadata": {
    "ExecuteTime": {
     "end_time": "2022-01-05T03:55:12.364407Z",
     "start_time": "2022-01-05T03:55:12.344435Z"
    }
   },
   "outputs": [],
   "source": [
    "def kfolds(model, model_name):\n",
    "    model = cross_val_score(model, X,y, cv=10)\n",
    "    model_score = np.average(model)\n",
    "    print(f\"{model_name} score on cross validation: {model_score * 100}%\")\n",
    "\n",
    "def train(model, model_name):\n",
    "    model.fit(X_train, y_train)\n",
    "    model_train_score = model.score(X_train, y_train)\n",
    "    model_test_score = model.score(X_test, y_test)\n",
    "    print(f\"{model_name} model score on Training data: {model_train_score * 100}%\\n{model_name} model score on Testing data: {model_test_score * 100}%\")\n",
    "\n",
    "def r2(model, model_name):\n",
    "    score = r2_score(y_test, model.predict(X_test))\n",
    "    print(f\"R2 Score for {model_name} is {score * 100}%\")"
   ]
  },
  {
   "cell_type": "markdown",
   "id": "8312ab10",
   "metadata": {},
   "source": [
    "<a id='10.1'></a>\n",
    "## Random Forest Regressor Model"
   ]
  },
  {
   "cell_type": "code",
   "execution_count": 101,
   "id": "67f19d57",
   "metadata": {
    "ExecuteTime": {
     "end_time": "2022-01-05T02:39:13.515674Z",
     "start_time": "2022-01-05T02:38:31.269084Z"
    }
   },
   "outputs": [
    {
     "name": "stdout",
     "output_type": "stream",
     "text": [
      "Random Forest score on cross validation: 55.055420600746295%\n",
      "Random Forest model score on Training data: 93.78663717948383%\n",
      "Random Forest model score on Testing data: 55.68268880743004%\n"
     ]
    }
   ],
   "source": [
    "rf_model = RandomForestRegressor()\n",
    "kfolds(rf_model, \"Random Forest\")\n",
    "train(rf_model, \"Random Forest\")"
   ]
  },
  {
   "cell_type": "code",
   "execution_count": 133,
   "id": "57320fb9",
   "metadata": {
    "ExecuteTime": {
     "end_time": "2022-01-05T03:55:20.189626Z",
     "start_time": "2022-01-05T03:55:20.127740Z"
    }
   },
   "outputs": [
    {
     "name": "stdout",
     "output_type": "stream",
     "text": [
      "R2 Score for Random Forest is 55.68268880743004%\n"
     ]
    }
   ],
   "source": [
    "r2(rf_model, \"Random Forest\")"
   ]
  },
  {
   "cell_type": "markdown",
   "id": "76de9fc9",
   "metadata": {},
   "source": [
    "<a id='10.2'></a>\n",
    "## Gradient Boosting Regressor Model"
   ]
  },
  {
   "cell_type": "code",
   "execution_count": 105,
   "id": "c80a6cb8",
   "metadata": {
    "ExecuteTime": {
     "end_time": "2022-01-05T02:40:28.608865Z",
     "start_time": "2022-01-05T02:40:18.113523Z"
    }
   },
   "outputs": [
    {
     "name": "stdout",
     "output_type": "stream",
     "text": [
      "Gradient Boosting score on cross validation: 59.55005927422745%\n",
      "Gradient Boosting model score on Training data: 63.97546179843361%\n",
      "Gradient Boosting model score on Testing data: 59.3335912421697%\n"
     ]
    }
   ],
   "source": [
    "gbr = GradientBoostingRegressor()\n",
    "kfolds(gbr, \"Gradient Boosting\")\n",
    "train(gbr, \"Gradient Boosting\")"
   ]
  },
  {
   "cell_type": "code",
   "execution_count": 134,
   "id": "f340bae7",
   "metadata": {
    "ExecuteTime": {
     "end_time": "2022-01-05T03:55:43.124169Z",
     "start_time": "2022-01-05T03:55:43.101231Z"
    }
   },
   "outputs": [
    {
     "name": "stdout",
     "output_type": "stream",
     "text": [
      "R2 Score for Gradient Boosting is 59.3335912421697%\n"
     ]
    }
   ],
   "source": [
    "r2(gbr, \"Gradient Boosting\")"
   ]
  },
  {
   "cell_type": "markdown",
   "id": "79f28055",
   "metadata": {},
   "source": [
    "<a id='10.3'></a>\n",
    "## Bagging Regressor Model"
   ]
  },
  {
   "cell_type": "code",
   "execution_count": 106,
   "id": "c3f4703f",
   "metadata": {
    "ExecuteTime": {
     "end_time": "2022-01-05T02:40:44.231176Z",
     "start_time": "2022-01-05T02:40:39.693006Z"
    }
   },
   "outputs": [
    {
     "name": "stdout",
     "output_type": "stream",
     "text": [
      "Bagging score on cross validation: 51.102167068879766%\n",
      "Bagging model score on Training data: 91.550873640584%\n",
      "Bagging model score on Testing data: 52.094904499460256%\n"
     ]
    }
   ],
   "source": [
    "br = BaggingRegressor()\n",
    "kfolds(br, \"Bagging\")\n",
    "train(br, \"Bagging\")"
   ]
  },
  {
   "cell_type": "code",
   "execution_count": 135,
   "id": "de06f044",
   "metadata": {
    "ExecuteTime": {
     "end_time": "2022-01-05T03:56:07.050050Z",
     "start_time": "2022-01-05T03:56:07.033055Z"
    }
   },
   "outputs": [
    {
     "name": "stdout",
     "output_type": "stream",
     "text": [
      "R2 Score for Bagging is 52.094904499460256%\n"
     ]
    }
   ],
   "source": [
    "r2(br, \"Bagging\")"
   ]
  },
  {
   "cell_type": "markdown",
   "id": "f5c47c04",
   "metadata": {},
   "source": [
    "<a id='10.4'></a>\n",
    "## Linear Regression model"
   ]
  },
  {
   "cell_type": "code",
   "execution_count": 107,
   "id": "5fe649ce",
   "metadata": {
    "ExecuteTime": {
     "end_time": "2022-01-05T02:41:16.602927Z",
     "start_time": "2022-01-05T02:41:16.411598Z"
    }
   },
   "outputs": [
    {
     "name": "stdout",
     "output_type": "stream",
     "text": [
      "Linear Regression score on cross validation: 50.31900826878359%\n",
      "Linear Regression model score on Training data: 50.89311130059562%\n",
      "Linear Regression model score on Testing data: 50.466335860479795%\n"
     ]
    }
   ],
   "source": [
    "lr = LinearRegression()\n",
    "kfolds(lr, \"Linear Regression\")\n",
    "train(lr, \"Linear Regression\")"
   ]
  },
  {
   "cell_type": "code",
   "execution_count": 136,
   "id": "0099a964",
   "metadata": {
    "ExecuteTime": {
     "end_time": "2022-01-05T03:56:23.681821Z",
     "start_time": "2022-01-05T03:56:23.675841Z"
    }
   },
   "outputs": [
    {
     "name": "stdout",
     "output_type": "stream",
     "text": [
      "R2 Score for Linear Regression is 50.466335860479795%\n"
     ]
    }
   ],
   "source": [
    "r2(lr, \"Linear Regression\")"
   ]
  },
  {
   "cell_type": "markdown",
   "id": "88a7164f",
   "metadata": {},
   "source": [
    "<a id='10.5'></a>\n",
    "## SVR Model"
   ]
  },
  {
   "cell_type": "code",
   "execution_count": 122,
   "id": "e7fd01f7",
   "metadata": {
    "ExecuteTime": {
     "end_time": "2022-01-05T03:47:45.256050Z",
     "start_time": "2022-01-05T03:45:46.475202Z"
    }
   },
   "outputs": [
    {
     "name": "stdout",
     "output_type": "stream",
     "text": [
      "SVR score on cross validation: 51.941077899425046%\n",
      "SVR model score on Training data: 52.588872102068066%\n",
      "SVR model score on Testing data: 53.77641680432737%\n"
     ]
    }
   ],
   "source": [
    "svr = SVR(gamma='auto', kernel='poly', C=15)\n",
    "kfolds(svr, \"SVR\")\n",
    "train(svr, \"SVR\")"
   ]
  },
  {
   "cell_type": "code",
   "execution_count": 138,
   "id": "3d190d46",
   "metadata": {
    "ExecuteTime": {
     "end_time": "2022-01-05T03:56:59.409684Z",
     "start_time": "2022-01-05T03:56:59.032200Z"
    }
   },
   "outputs": [
    {
     "name": "stdout",
     "output_type": "stream",
     "text": [
      "R2 Score for SVM is 53.77641680432737%\n"
     ]
    }
   ],
   "source": [
    "r2(svr, \"SVM\")"
   ]
  },
  {
   "cell_type": "markdown",
   "id": "e1ddcb83",
   "metadata": {},
   "source": [
    "<a id='10.6'></a>\n",
    "## Decision Tree Regressor Model"
   ]
  },
  {
   "cell_type": "code",
   "execution_count": 123,
   "id": "33a18c46",
   "metadata": {
    "ExecuteTime": {
     "end_time": "2022-01-05T03:51:31.751497Z",
     "start_time": "2022-01-05T03:51:31.182729Z"
    },
    "scrolled": true
   },
   "outputs": [
    {
     "name": "stdout",
     "output_type": "stream",
     "text": [
      "Decision Tree score on cross validation: 19.16021033144426%\n",
      "Decision Tree model score on Training data: 100.0%\n",
      "Decision Tree model score on Testing data: 20.390226508489604%\n"
     ]
    }
   ],
   "source": [
    "dtr = DecisionTreeRegressor()\n",
    "kfolds(dtr, \"Decision Tree\")\n",
    "train(dtr, \"Decision Tree\")"
   ]
  },
  {
   "cell_type": "code",
   "execution_count": 137,
   "id": "beb289ad",
   "metadata": {
    "ExecuteTime": {
     "end_time": "2022-01-05T03:56:40.141524Z",
     "start_time": "2022-01-05T03:56:40.126553Z"
    }
   },
   "outputs": [
    {
     "name": "stdout",
     "output_type": "stream",
     "text": [
      "R2 Score for Decision Tree is 20.390226508489604%\n"
     ]
    }
   ],
   "source": [
    "r2(dtr, \"Decision Tree\")"
   ]
  },
  {
   "cell_type": "markdown",
   "id": "dd655acb",
   "metadata": {},
   "source": [
    "<a id=\"10.7\"></a>\n",
    "## XGBoost Regressor"
   ]
  },
  {
   "cell_type": "code",
   "execution_count": 143,
   "id": "eec8b92a",
   "metadata": {
    "ExecuteTime": {
     "end_time": "2022-01-05T04:02:59.809502Z",
     "start_time": "2022-01-05T04:02:52.052839Z"
    }
   },
   "outputs": [
    {
     "name": "stdout",
     "output_type": "stream",
     "text": [
      "XGBoost score on cross validation: 52.658340894397895%\n",
      "XGBoost model score on Training data: 86.5294934368668%\n",
      "XGBoost model score on Testing data: 52.755246079230346%\n"
     ]
    }
   ],
   "source": [
    "xgboost = XGBRegressor()\n",
    "kfolds(xgboost, \"XGBoost\")\n",
    "train(xgboost, \"XGBoost\")"
   ]
  },
  {
   "cell_type": "markdown",
   "id": "37f1d9e1",
   "metadata": {},
   "source": [
    "<a href=\"#toc\" role=\"button\" aria-pressed=\"true\" >⬆️Back to Table of Contents ⬆️</a>"
   ]
  },
  {
   "cell_type": "markdown",
   "id": "05df7058",
   "metadata": {},
   "source": [
    "<a id='10'></a>\n",
    "# Sumbission File"
   ]
  },
  {
   "cell_type": "markdown",
   "id": "93c1b4f3",
   "metadata": {},
   "source": [
    "**Gradient Boosting is the best**"
   ]
  },
  {
   "cell_type": "code",
   "execution_count": 146,
   "id": "262a2ec7",
   "metadata": {
    "ExecuteTime": {
     "end_time": "2022-01-05T04:04:09.907689Z",
     "start_time": "2022-01-05T04:04:09.040325Z"
    }
   },
   "outputs": [
    {
     "data": {
      "text/plain": [
       "GradientBoostingRegressor()"
      ]
     },
     "execution_count": 146,
     "metadata": {},
     "output_type": "execute_result"
    }
   ],
   "source": [
    "gbr.fit(X,y)"
   ]
  },
  {
   "cell_type": "code",
   "execution_count": 147,
   "id": "0026c40a",
   "metadata": {
    "ExecuteTime": {
     "end_time": "2022-01-05T04:04:19.648161Z",
     "start_time": "2022-01-05T04:04:19.627184Z"
    }
   },
   "outputs": [
    {
     "data": {
      "text/plain": [
       "0.6285119393468706"
      ]
     },
     "execution_count": 147,
     "metadata": {},
     "output_type": "execute_result"
    }
   ],
   "source": [
    "gbr.score(X,y)"
   ]
  },
  {
   "cell_type": "code",
   "execution_count": 148,
   "id": "e94e52fe",
   "metadata": {
    "ExecuteTime": {
     "end_time": "2022-01-05T04:04:21.368187Z",
     "start_time": "2022-01-05T04:04:21.345266Z"
    }
   },
   "outputs": [],
   "source": [
    "y_pred = gbr.predict(test2)"
   ]
  },
  {
   "cell_type": "code",
   "execution_count": 149,
   "id": "25837cf4",
   "metadata": {
    "ExecuteTime": {
     "end_time": "2022-01-05T04:04:25.162645Z",
     "start_time": "2022-01-05T04:04:25.146656Z"
    }
   },
   "outputs": [],
   "source": [
    "sumbission = pd.read_csv('Test.csv')"
   ]
  },
  {
   "cell_type": "code",
   "execution_count": 150,
   "id": "9269f4fe",
   "metadata": {
    "ExecuteTime": {
     "end_time": "2022-01-05T04:04:26.113522Z",
     "start_time": "2022-01-05T04:04:26.090533Z"
    }
   },
   "outputs": [
    {
     "data": {
      "text/html": [
       "<div>\n",
       "<style scoped>\n",
       "    .dataframe tbody tr th:only-of-type {\n",
       "        vertical-align: middle;\n",
       "    }\n",
       "\n",
       "    .dataframe tbody tr th {\n",
       "        vertical-align: top;\n",
       "    }\n",
       "\n",
       "    .dataframe thead th {\n",
       "        text-align: right;\n",
       "    }\n",
       "</style>\n",
       "<table border=\"1\" class=\"dataframe\">\n",
       "  <thead>\n",
       "    <tr style=\"text-align: right;\">\n",
       "      <th></th>\n",
       "      <th>Item_Identifier</th>\n",
       "      <th>Item_Weight</th>\n",
       "      <th>Item_Fat_Content</th>\n",
       "      <th>Item_Visibility</th>\n",
       "      <th>Item_Type</th>\n",
       "      <th>Item_MRP</th>\n",
       "      <th>Outlet_Identifier</th>\n",
       "      <th>Outlet_Establishment_Year</th>\n",
       "      <th>Outlet_Size</th>\n",
       "      <th>Outlet_Location_Type</th>\n",
       "      <th>Outlet_Type</th>\n",
       "    </tr>\n",
       "  </thead>\n",
       "  <tbody>\n",
       "    <tr>\n",
       "      <th>0</th>\n",
       "      <td>FDW58</td>\n",
       "      <td>20.750</td>\n",
       "      <td>Low Fat</td>\n",
       "      <td>0.007565</td>\n",
       "      <td>Snack Foods</td>\n",
       "      <td>107.8622</td>\n",
       "      <td>OUT049</td>\n",
       "      <td>1999</td>\n",
       "      <td>Medium</td>\n",
       "      <td>Tier 1</td>\n",
       "      <td>Supermarket Type1</td>\n",
       "    </tr>\n",
       "    <tr>\n",
       "      <th>1</th>\n",
       "      <td>FDW14</td>\n",
       "      <td>8.300</td>\n",
       "      <td>reg</td>\n",
       "      <td>0.038428</td>\n",
       "      <td>Dairy</td>\n",
       "      <td>87.3198</td>\n",
       "      <td>OUT017</td>\n",
       "      <td>2007</td>\n",
       "      <td>NaN</td>\n",
       "      <td>Tier 2</td>\n",
       "      <td>Supermarket Type1</td>\n",
       "    </tr>\n",
       "    <tr>\n",
       "      <th>2</th>\n",
       "      <td>NCN55</td>\n",
       "      <td>14.600</td>\n",
       "      <td>Low Fat</td>\n",
       "      <td>0.099575</td>\n",
       "      <td>Others</td>\n",
       "      <td>241.7538</td>\n",
       "      <td>OUT010</td>\n",
       "      <td>1998</td>\n",
       "      <td>NaN</td>\n",
       "      <td>Tier 3</td>\n",
       "      <td>Grocery Store</td>\n",
       "    </tr>\n",
       "    <tr>\n",
       "      <th>3</th>\n",
       "      <td>FDQ58</td>\n",
       "      <td>7.315</td>\n",
       "      <td>Low Fat</td>\n",
       "      <td>0.015388</td>\n",
       "      <td>Snack Foods</td>\n",
       "      <td>155.0340</td>\n",
       "      <td>OUT017</td>\n",
       "      <td>2007</td>\n",
       "      <td>NaN</td>\n",
       "      <td>Tier 2</td>\n",
       "      <td>Supermarket Type1</td>\n",
       "    </tr>\n",
       "    <tr>\n",
       "      <th>4</th>\n",
       "      <td>FDY38</td>\n",
       "      <td>NaN</td>\n",
       "      <td>Regular</td>\n",
       "      <td>0.118599</td>\n",
       "      <td>Dairy</td>\n",
       "      <td>234.2300</td>\n",
       "      <td>OUT027</td>\n",
       "      <td>1985</td>\n",
       "      <td>Medium</td>\n",
       "      <td>Tier 3</td>\n",
       "      <td>Supermarket Type3</td>\n",
       "    </tr>\n",
       "  </tbody>\n",
       "</table>\n",
       "</div>"
      ],
      "text/plain": [
       "  Item_Identifier  Item_Weight Item_Fat_Content  Item_Visibility    Item_Type  \\\n",
       "0           FDW58       20.750          Low Fat         0.007565  Snack Foods   \n",
       "1           FDW14        8.300              reg         0.038428        Dairy   \n",
       "2           NCN55       14.600          Low Fat         0.099575       Others   \n",
       "3           FDQ58        7.315          Low Fat         0.015388  Snack Foods   \n",
       "4           FDY38          NaN          Regular         0.118599        Dairy   \n",
       "\n",
       "   Item_MRP Outlet_Identifier  Outlet_Establishment_Year Outlet_Size  \\\n",
       "0  107.8622            OUT049                       1999      Medium   \n",
       "1   87.3198            OUT017                       2007         NaN   \n",
       "2  241.7538            OUT010                       1998         NaN   \n",
       "3  155.0340            OUT017                       2007         NaN   \n",
       "4  234.2300            OUT027                       1985      Medium   \n",
       "\n",
       "  Outlet_Location_Type        Outlet_Type  \n",
       "0               Tier 1  Supermarket Type1  \n",
       "1               Tier 2  Supermarket Type1  \n",
       "2               Tier 3      Grocery Store  \n",
       "3               Tier 2  Supermarket Type1  \n",
       "4               Tier 3  Supermarket Type3  "
      ]
     },
     "execution_count": 150,
     "metadata": {},
     "output_type": "execute_result"
    }
   ],
   "source": [
    "sumbission.head()"
   ]
  },
  {
   "cell_type": "code",
   "execution_count": 151,
   "id": "851bd084",
   "metadata": {
    "ExecuteTime": {
     "end_time": "2022-01-05T04:04:26.634270Z",
     "start_time": "2022-01-05T04:04:26.619311Z"
    }
   },
   "outputs": [],
   "source": [
    "sumbission['Item_Sales_Outlet'] = y_pred"
   ]
  },
  {
   "cell_type": "code",
   "execution_count": 152,
   "id": "a486da47",
   "metadata": {
    "ExecuteTime": {
     "end_time": "2022-01-05T04:04:27.729595Z",
     "start_time": "2022-01-05T04:04:27.712599Z"
    }
   },
   "outputs": [
    {
     "data": {
      "text/html": [
       "<div>\n",
       "<style scoped>\n",
       "    .dataframe tbody tr th:only-of-type {\n",
       "        vertical-align: middle;\n",
       "    }\n",
       "\n",
       "    .dataframe tbody tr th {\n",
       "        vertical-align: top;\n",
       "    }\n",
       "\n",
       "    .dataframe thead th {\n",
       "        text-align: right;\n",
       "    }\n",
       "</style>\n",
       "<table border=\"1\" class=\"dataframe\">\n",
       "  <thead>\n",
       "    <tr style=\"text-align: right;\">\n",
       "      <th></th>\n",
       "      <th>Item_Identifier</th>\n",
       "      <th>Item_Weight</th>\n",
       "      <th>Item_Fat_Content</th>\n",
       "      <th>Item_Visibility</th>\n",
       "      <th>Item_Type</th>\n",
       "      <th>Item_MRP</th>\n",
       "      <th>Outlet_Identifier</th>\n",
       "      <th>Outlet_Establishment_Year</th>\n",
       "      <th>Outlet_Size</th>\n",
       "      <th>Outlet_Location_Type</th>\n",
       "      <th>Outlet_Type</th>\n",
       "      <th>Item_Sales_Outlet</th>\n",
       "    </tr>\n",
       "  </thead>\n",
       "  <tbody>\n",
       "    <tr>\n",
       "      <th>0</th>\n",
       "      <td>FDW58</td>\n",
       "      <td>20.750</td>\n",
       "      <td>Low Fat</td>\n",
       "      <td>0.007565</td>\n",
       "      <td>Snack Foods</td>\n",
       "      <td>107.8622</td>\n",
       "      <td>OUT049</td>\n",
       "      <td>1999</td>\n",
       "      <td>Medium</td>\n",
       "      <td>Tier 1</td>\n",
       "      <td>Supermarket Type1</td>\n",
       "      <td>1499.512582</td>\n",
       "    </tr>\n",
       "    <tr>\n",
       "      <th>1</th>\n",
       "      <td>FDW14</td>\n",
       "      <td>8.300</td>\n",
       "      <td>reg</td>\n",
       "      <td>0.038428</td>\n",
       "      <td>Dairy</td>\n",
       "      <td>87.3198</td>\n",
       "      <td>OUT017</td>\n",
       "      <td>2007</td>\n",
       "      <td>NaN</td>\n",
       "      <td>Tier 2</td>\n",
       "      <td>Supermarket Type1</td>\n",
       "      <td>1411.725920</td>\n",
       "    </tr>\n",
       "    <tr>\n",
       "      <th>2</th>\n",
       "      <td>NCN55</td>\n",
       "      <td>14.600</td>\n",
       "      <td>Low Fat</td>\n",
       "      <td>0.099575</td>\n",
       "      <td>Others</td>\n",
       "      <td>241.7538</td>\n",
       "      <td>OUT010</td>\n",
       "      <td>1998</td>\n",
       "      <td>NaN</td>\n",
       "      <td>Tier 3</td>\n",
       "      <td>Grocery Store</td>\n",
       "      <td>545.043098</td>\n",
       "    </tr>\n",
       "    <tr>\n",
       "      <th>3</th>\n",
       "      <td>FDQ58</td>\n",
       "      <td>7.315</td>\n",
       "      <td>Low Fat</td>\n",
       "      <td>0.015388</td>\n",
       "      <td>Snack Foods</td>\n",
       "      <td>155.0340</td>\n",
       "      <td>OUT017</td>\n",
       "      <td>2007</td>\n",
       "      <td>NaN</td>\n",
       "      <td>Tier 2</td>\n",
       "      <td>Supermarket Type1</td>\n",
       "      <td>2553.440915</td>\n",
       "    </tr>\n",
       "    <tr>\n",
       "      <th>4</th>\n",
       "      <td>FDY38</td>\n",
       "      <td>NaN</td>\n",
       "      <td>Regular</td>\n",
       "      <td>0.118599</td>\n",
       "      <td>Dairy</td>\n",
       "      <td>234.2300</td>\n",
       "      <td>OUT027</td>\n",
       "      <td>1985</td>\n",
       "      <td>Medium</td>\n",
       "      <td>Tier 3</td>\n",
       "      <td>Supermarket Type3</td>\n",
       "      <td>6017.494760</td>\n",
       "    </tr>\n",
       "  </tbody>\n",
       "</table>\n",
       "</div>"
      ],
      "text/plain": [
       "  Item_Identifier  Item_Weight Item_Fat_Content  Item_Visibility    Item_Type  \\\n",
       "0           FDW58       20.750          Low Fat         0.007565  Snack Foods   \n",
       "1           FDW14        8.300              reg         0.038428        Dairy   \n",
       "2           NCN55       14.600          Low Fat         0.099575       Others   \n",
       "3           FDQ58        7.315          Low Fat         0.015388  Snack Foods   \n",
       "4           FDY38          NaN          Regular         0.118599        Dairy   \n",
       "\n",
       "   Item_MRP Outlet_Identifier  Outlet_Establishment_Year Outlet_Size  \\\n",
       "0  107.8622            OUT049                       1999      Medium   \n",
       "1   87.3198            OUT017                       2007         NaN   \n",
       "2  241.7538            OUT010                       1998         NaN   \n",
       "3  155.0340            OUT017                       2007         NaN   \n",
       "4  234.2300            OUT027                       1985      Medium   \n",
       "\n",
       "  Outlet_Location_Type        Outlet_Type  Item_Sales_Outlet  \n",
       "0               Tier 1  Supermarket Type1        1499.512582  \n",
       "1               Tier 2  Supermarket Type1        1411.725920  \n",
       "2               Tier 3      Grocery Store         545.043098  \n",
       "3               Tier 2  Supermarket Type1        2553.440915  \n",
       "4               Tier 3  Supermarket Type3        6017.494760  "
      ]
     },
     "execution_count": 152,
     "metadata": {},
     "output_type": "execute_result"
    }
   ],
   "source": [
    "sumbission.head()"
   ]
  },
  {
   "cell_type": "code",
   "execution_count": 153,
   "id": "aa378f6b",
   "metadata": {
    "ExecuteTime": {
     "end_time": "2022-01-05T04:04:28.496452Z",
     "start_time": "2022-01-05T04:04:28.488475Z"
    }
   },
   "outputs": [
    {
     "data": {
      "text/plain": [
       "(5681, 12)"
      ]
     },
     "execution_count": 153,
     "metadata": {},
     "output_type": "execute_result"
    }
   ],
   "source": [
    "sumbission.shape"
   ]
  },
  {
   "cell_type": "code",
   "execution_count": 154,
   "id": "5b9d98ee",
   "metadata": {
    "ExecuteTime": {
     "end_time": "2022-01-05T04:04:29.236449Z",
     "start_time": "2022-01-05T04:04:29.071052Z"
    }
   },
   "outputs": [],
   "source": [
    "sumbission.to_csv(\"sumbission.csv\")"
   ]
  }
 ],
 "metadata": {
  "kernelspec": {
   "display_name": "Python 3",
   "language": "python",
   "name": "python3"
  },
  "language_info": {
   "codemirror_mode": {
    "name": "ipython",
    "version": 3
   },
   "file_extension": ".py",
   "mimetype": "text/x-python",
   "name": "python",
   "nbconvert_exporter": "python",
   "pygments_lexer": "ipython3",
   "version": "3.8.8"
  },
  "toc": {
   "base_numbering": 1,
   "nav_menu": {},
   "number_sections": true,
   "sideBar": true,
   "skip_h1_title": false,
   "title_cell": "Table of Contents",
   "title_sidebar": "Contents",
   "toc_cell": false,
   "toc_position": {},
   "toc_section_display": true,
   "toc_window_display": false
  }
 },
 "nbformat": 4,
 "nbformat_minor": 5
}
