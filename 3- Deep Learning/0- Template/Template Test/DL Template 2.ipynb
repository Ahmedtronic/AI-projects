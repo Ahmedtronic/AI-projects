{
 "cells": [
  {
   "cell_type": "markdown",
   "id": "6c225a89",
   "metadata": {},
   "source": [
    "# Steps of the Notebook\n",
    "<a id=\"toc\"></a>\n",
    "- [1. Import Libraries](#1)\n",
    "- [2. Provide the data path and class names](#2)\n",
    "- [3. Adjust Diminsions of the Images](#3)\n",
    "- [4. Initiliaze Training dataset](#4)\n",
    "- [5. Initiliaze Testing dataset](#5)\n",
    "- [6. Adjust Early Stop](#6)\n",
    "- [7. Adjust ANN and it's Parameters](#7)\n",
    "    - [7.1 Plot Loss Curve ANN](#7.1)\n",
    "    - [7.2 Plot Accuarcy Curve ANN](#7.2)\n",
    "- [8. Adjust CNN and it's Parameters](#8)\n",
    "    - [8.1 Plot Loss Curve CNN](#8.1)\n",
    "    - [8.2 Plot Accuarcy Curve CNN](#8.2)"
   ]
  },
  {
   "cell_type": "markdown",
   "id": "7faeaa62",
   "metadata": {},
   "source": [
    "<a id='1'></a>\n",
    "# Import Libraries"
   ]
  },
  {
   "cell_type": "code",
   "execution_count": 23,
   "id": "4cf5a7b5",
   "metadata": {
    "ExecuteTime": {
     "end_time": "2022-02-08T12:43:08.831001Z",
     "start_time": "2022-02-08T12:43:08.643511Z"
    }
   },
   "outputs": [],
   "source": [
    "from matplotlib import pyplot as plt\n",
    "\n",
    "import tensorflow as tf\n",
    "from tensorflow import keras\n",
    "from keras.models import Sequential\n",
    "from keras.layers import Conv2D, MaxPooling2D, Activation, Flatten, Dropout, Dense, BatchNormalization\n",
    "from tensorflow.keras.optimizers import Adam\n",
    "from tensorflow.keras import callbacks"
   ]
  },
  {
   "cell_type": "markdown",
   "id": "1fa78f3c",
   "metadata": {},
   "source": [
    "<a id='2'></a>\n",
    "# Provide the data path and class names"
   ]
  },
  {
   "cell_type": "code",
   "execution_count": 13,
   "id": "e6c84d07",
   "metadata": {
    "ExecuteTime": {
     "end_time": "2022-02-08T12:32:16.791249Z",
     "start_time": "2022-02-08T12:32:16.776315Z"
    }
   },
   "outputs": [],
   "source": [
    "data_path = 'Data'\n",
    "CLASS_NAMES = ['AMERICAN GOLDFINCH', 'BARN OWL', 'CARMINE BEE-EATER', 'DOWNY WOODPECKER', 'EMPEROR PENGUIN', 'FLAMINGO']"
   ]
  },
  {
   "cell_type": "markdown",
   "id": "f5c9316a",
   "metadata": {},
   "source": [
    "<a id='3'></a>\n",
    "# Adjust the diminsions of the images"
   ]
  },
  {
   "cell_type": "code",
   "execution_count": 30,
   "id": "a46767ac",
   "metadata": {
    "ExecuteTime": {
     "end_time": "2022-02-08T12:44:40.882234Z",
     "start_time": "2022-02-08T12:44:40.864267Z"
    }
   },
   "outputs": [],
   "source": [
    "IMAGE_WIDTH=128\n",
    "IMAGE_HEIGHT=128\n",
    "IMAGE_SIZE=(IMAGE_WIDTH, IMAGE_HEIGHT)\n",
    "IMAGE_CHANNEL=3"
   ]
  },
  {
   "cell_type": "markdown",
   "id": "afbffda4",
   "metadata": {},
   "source": [
    "<a id='4'></a>\n",
    "# Initiliaze Training dataset"
   ]
  },
  {
   "cell_type": "code",
   "execution_count": 15,
   "id": "dc331f23",
   "metadata": {
    "ExecuteTime": {
     "end_time": "2022-02-08T12:32:16.883937Z",
     "start_time": "2022-02-08T12:32:16.809234Z"
    }
   },
   "outputs": [
    {
     "name": "stdout",
     "output_type": "stream",
     "text": [
      "Found 811 files belonging to 6 classes.\n",
      "Using 568 files for training.\n"
     ]
    }
   ],
   "source": [
    "ds_train = tf.keras.preprocessing.image_dataset_from_directory(\n",
    "    data_path,\n",
    "    labels = 'inferred',\n",
    "    label_mode = 'categorical', # int, # binary\n",
    "    class_names = CLASS_NAMES,\n",
    "    color_mode = 'rgb', #grayscale\n",
    "    image_size = IMAGE_SIZE,\n",
    "    shuffle=True,\n",
    "    seed = 123,\n",
    "    validation_split = 0.3,\n",
    "    subset='training'\n",
    ")"
   ]
  },
  {
   "cell_type": "markdown",
   "id": "ebeec018",
   "metadata": {},
   "source": [
    "<a id='5'></a>\n",
    "# Initilaize Validation Data"
   ]
  },
  {
   "cell_type": "code",
   "execution_count": 16,
   "id": "5bd0caa2",
   "metadata": {
    "ExecuteTime": {
     "end_time": "2022-02-08T12:32:16.945833Z",
     "start_time": "2022-02-08T12:32:16.884937Z"
    }
   },
   "outputs": [
    {
     "name": "stdout",
     "output_type": "stream",
     "text": [
      "Found 811 files belonging to 6 classes.\n",
      "Using 243 files for validation.\n"
     ]
    }
   ],
   "source": [
    "ds_validation = tf.keras.preprocessing.image_dataset_from_directory(\n",
    "    data_path,\n",
    "    labels = 'inferred',\n",
    "    label_mode = 'categorical',\n",
    "    class_names = CLASS_NAMES,\n",
    "    color_mode = 'rgb', \n",
    "    image_size = IMAGE_SIZE,\n",
    "    shuffle=True,\n",
    "    seed = 123,\n",
    "    validation_split = 0.3,\n",
    "    subset='validation'\n",
    ")"
   ]
  },
  {
   "cell_type": "markdown",
   "id": "cb0adaa3",
   "metadata": {},
   "source": [
    "<a id='6'></a>\n",
    "# Adjust Early Stop"
   ]
  },
  {
   "cell_type": "code",
   "execution_count": 17,
   "id": "b1929de1",
   "metadata": {
    "ExecuteTime": {
     "end_time": "2022-02-08T12:32:16.961642Z",
     "start_time": "2022-02-08T12:32:16.946699Z"
    }
   },
   "outputs": [],
   "source": [
    "early_stopping = callbacks.EarlyStopping(\n",
    "        patience=10,\n",
    "        min_delta=0,\n",
    "        monitor='val_loss',\n",
    "        restore_best_weights=True,\n",
    "        verbose=0,\n",
    "        mode='min', \n",
    "        baseline=None,\n",
    "    )\n",
    "plateau = callbacks.ReduceLROnPlateau(\n",
    "            monitor='val_loss', \n",
    "            factor=0.2, \n",
    "            patience=4, \n",
    "            verbose=0,\n",
    "            mode='min')"
   ]
  },
  {
   "cell_type": "markdown",
   "id": "abfe2937",
   "metadata": {},
   "source": [
    "<a id='7'></a>\n",
    "# Adjust ANN and it's Parameters"
   ]
  },
  {
   "cell_type": "code",
   "execution_count": 18,
   "id": "f36bab35",
   "metadata": {
    "ExecuteTime": {
     "end_time": "2022-02-08T12:32:16.977573Z",
     "start_time": "2022-02-08T12:32:16.962640Z"
    }
   },
   "outputs": [],
   "source": [
    "hidden_layer1 = 512\n",
    "hidden_layer2 = 256\n",
    "hidden_layer3 = 128\n",
    "hidden_layers_activation = 'relu'\n",
    "output_layer_activation = 'softmax'\n",
    "\n",
    "LEARNING_RATE = 0.0005\n",
    "loss_function = 'categorical_crossentropy'\n",
    "ANN_epochs = 1000\n",
    "batch_size = 10\n",
    "\n",
    "ANN_model_checkpoint = callbacks.ModelCheckpoint('ANN_best_model.h5', monitor='val_loss', mode='min', patience = 10 ,save_best_only=True)\n"
   ]
  },
  {
   "cell_type": "code",
   "execution_count": 19,
   "id": "b3b58280",
   "metadata": {
    "ExecuteTime": {
     "end_time": "2022-02-08T12:34:03.894091Z",
     "start_time": "2022-02-08T12:32:16.979571Z"
    }
   },
   "outputs": [
    {
     "name": "stdout",
     "output_type": "stream",
     "text": [
      "Epoch 1/1000\n",
      "18/18 [==============================] - 5s 261ms/step - loss: 2424.0188 - acc: 0.1831 - val_loss: 1297.2738 - val_acc: 0.2099 - lr: 5.0000e-04\n",
      "Epoch 2/1000\n",
      "18/18 [==============================] - 4s 238ms/step - loss: 759.7687 - acc: 0.2817 - val_loss: 536.9564 - val_acc: 0.1893 - lr: 5.0000e-04\n",
      "Epoch 3/1000\n",
      "18/18 [==============================] - 4s 240ms/step - loss: 198.4000 - acc: 0.4982 - val_loss: 138.8608 - val_acc: 0.4938 - lr: 5.0000e-04\n",
      "Epoch 4/1000\n",
      "18/18 [==============================] - 2s 89ms/step - loss: 144.3565 - acc: 0.5651 - val_loss: 153.4778 - val_acc: 0.5391 - lr: 5.0000e-04\n",
      "Epoch 5/1000\n",
      "18/18 [==============================] - 2s 90ms/step - loss: 179.5122 - acc: 0.5246 - val_loss: 144.7404 - val_acc: 0.4774 - lr: 5.0000e-04\n",
      "Epoch 6/1000\n",
      "18/18 [==============================] - 2s 89ms/step - loss: 174.4824 - acc: 0.5194 - val_loss: 181.6382 - val_acc: 0.4362 - lr: 5.0000e-04\n",
      "Epoch 7/1000\n",
      "18/18 [==============================] - 2s 89ms/step - loss: 186.6445 - acc: 0.5757 - val_loss: 374.6683 - val_acc: 0.3621 - lr: 5.0000e-04\n",
      "Epoch 8/1000\n",
      "18/18 [==============================] - 4s 223ms/step - loss: 114.4768 - acc: 0.6408 - val_loss: 84.1946 - val_acc: 0.6091 - lr: 1.0000e-04\n",
      "Epoch 9/1000\n",
      "18/18 [==============================] - 4s 230ms/step - loss: 49.6820 - acc: 0.7447 - val_loss: 75.0293 - val_acc: 0.6461 - lr: 1.0000e-04\n",
      "Epoch 10/1000\n",
      "18/18 [==============================] - 4s 249ms/step - loss: 26.6287 - acc: 0.8363 - val_loss: 59.3775 - val_acc: 0.7078 - lr: 1.0000e-04\n",
      "Epoch 11/1000\n",
      "18/18 [==============================] - 2s 89ms/step - loss: 20.9683 - acc: 0.8433 - val_loss: 64.1910 - val_acc: 0.6420 - lr: 1.0000e-04\n",
      "Epoch 12/1000\n",
      "18/18 [==============================] - 2s 91ms/step - loss: 20.3402 - acc: 0.8433 - val_loss: 61.5548 - val_acc: 0.7078 - lr: 1.0000e-04\n",
      "Epoch 13/1000\n",
      "18/18 [==============================] - 2s 92ms/step - loss: 19.5087 - acc: 0.8415 - val_loss: 62.0407 - val_acc: 0.6831 - lr: 1.0000e-04\n",
      "Epoch 14/1000\n",
      "18/18 [==============================] - 4s 248ms/step - loss: 17.1437 - acc: 0.8574 - val_loss: 52.2774 - val_acc: 0.7202 - lr: 1.0000e-04\n",
      "Epoch 15/1000\n",
      "18/18 [==============================] - 2s 92ms/step - loss: 17.3682 - acc: 0.8292 - val_loss: 59.7257 - val_acc: 0.6955 - lr: 1.0000e-04\n",
      "Epoch 16/1000\n",
      "18/18 [==============================] - 4s 240ms/step - loss: 14.0340 - acc: 0.8820 - val_loss: 52.1830 - val_acc: 0.6831 - lr: 1.0000e-04\n",
      "Epoch 17/1000\n",
      "18/18 [==============================] - 2s 90ms/step - loss: 19.0370 - acc: 0.8433 - val_loss: 94.9862 - val_acc: 0.5967 - lr: 1.0000e-04\n",
      "Epoch 18/1000\n",
      "18/18 [==============================] - 2s 90ms/step - loss: 28.2452 - acc: 0.8151 - val_loss: 54.5105 - val_acc: 0.6831 - lr: 1.0000e-04\n",
      "Epoch 19/1000\n",
      "18/18 [==============================] - 5s 257ms/step - loss: 12.2722 - acc: 0.8785 - val_loss: 44.2612 - val_acc: 0.7284 - lr: 1.0000e-04\n",
      "Epoch 20/1000\n",
      "18/18 [==============================] - 2s 90ms/step - loss: 6.8992 - acc: 0.9102 - val_loss: 52.3032 - val_acc: 0.6955 - lr: 1.0000e-04\n",
      "Epoch 21/1000\n",
      "18/18 [==============================] - 4s 253ms/step - loss: 5.6663 - acc: 0.9225 - val_loss: 41.3704 - val_acc: 0.7243 - lr: 1.0000e-04\n",
      "Epoch 22/1000\n",
      "18/18 [==============================] - 2s 90ms/step - loss: 5.3495 - acc: 0.9243 - val_loss: 46.8412 - val_acc: 0.6996 - lr: 1.0000e-04\n",
      "Epoch 23/1000\n",
      "18/18 [==============================] - 4s 246ms/step - loss: 8.1682 - acc: 0.9014 - val_loss: 39.2457 - val_acc: 0.7160 - lr: 1.0000e-04\n",
      "Epoch 24/1000\n",
      "18/18 [==============================] - 2s 91ms/step - loss: 8.1755 - acc: 0.8856 - val_loss: 55.2217 - val_acc: 0.6626 - lr: 1.0000e-04\n",
      "Epoch 25/1000\n",
      "18/18 [==============================] - 2s 90ms/step - loss: 7.9147 - acc: 0.9032 - val_loss: 44.1802 - val_acc: 0.6790 - lr: 1.0000e-04\n",
      "Epoch 26/1000\n",
      "18/18 [==============================] - 2s 89ms/step - loss: 10.1608 - acc: 0.8908 - val_loss: 50.2535 - val_acc: 0.6790 - lr: 1.0000e-04\n",
      "Epoch 27/1000\n",
      "18/18 [==============================] - 2s 91ms/step - loss: 8.8695 - acc: 0.9014 - val_loss: 40.4582 - val_acc: 0.7284 - lr: 1.0000e-04\n",
      "Epoch 28/1000\n",
      "18/18 [==============================] - 4s 245ms/step - loss: 2.7257 - acc: 0.9507 - val_loss: 38.3130 - val_acc: 0.7243 - lr: 2.0000e-05\n",
      "Epoch 29/1000\n",
      "18/18 [==============================] - 2s 92ms/step - loss: 1.7616 - acc: 0.9630 - val_loss: 41.6110 - val_acc: 0.7037 - lr: 2.0000e-05\n",
      "Epoch 30/1000\n",
      "18/18 [==============================] - 2s 91ms/step - loss: 1.6241 - acc: 0.9683 - val_loss: 39.0373 - val_acc: 0.7202 - lr: 2.0000e-05\n",
      "Epoch 31/1000\n",
      "18/18 [==============================] - 2s 93ms/step - loss: 1.8774 - acc: 0.9736 - val_loss: 39.8476 - val_acc: 0.6996 - lr: 2.0000e-05\n",
      "Epoch 32/1000\n",
      "18/18 [==============================] - 5s 260ms/step - loss: 1.1031 - acc: 0.9754 - val_loss: 37.6835 - val_acc: 0.7243 - lr: 2.0000e-05\n",
      "Epoch 33/1000\n",
      "18/18 [==============================] - 2s 100ms/step - loss: 0.9545 - acc: 0.9806 - val_loss: 41.3463 - val_acc: 0.7037 - lr: 2.0000e-05\n",
      "Epoch 34/1000\n",
      "18/18 [==============================] - 2s 95ms/step - loss: 1.1824 - acc: 0.9718 - val_loss: 37.8634 - val_acc: 0.7243 - lr: 2.0000e-05\n",
      "Epoch 35/1000\n",
      "18/18 [==============================] - 2s 94ms/step - loss: 1.0517 - acc: 0.9824 - val_loss: 38.2571 - val_acc: 0.7160 - lr: 2.0000e-05\n",
      "Epoch 36/1000\n",
      "18/18 [==============================] - 2s 95ms/step - loss: 1.0120 - acc: 0.9806 - val_loss: 39.0813 - val_acc: 0.6996 - lr: 2.0000e-05\n",
      "Epoch 37/1000\n",
      "18/18 [==============================] - 2s 94ms/step - loss: 0.5687 - acc: 0.9859 - val_loss: 40.1491 - val_acc: 0.6831 - lr: 4.0000e-06\n",
      "Epoch 38/1000\n",
      "18/18 [==============================] - 2s 91ms/step - loss: 0.5021 - acc: 0.9842 - val_loss: 39.5684 - val_acc: 0.6955 - lr: 4.0000e-06\n",
      "Epoch 39/1000\n",
      "18/18 [==============================] - 2s 89ms/step - loss: 0.5155 - acc: 0.9859 - val_loss: 39.4139 - val_acc: 0.6914 - lr: 4.0000e-06\n",
      "Epoch 40/1000\n",
      "18/18 [==============================] - 2s 94ms/step - loss: 0.5349 - acc: 0.9824 - val_loss: 39.5939 - val_acc: 0.6831 - lr: 4.0000e-06\n",
      "Epoch 41/1000\n",
      "18/18 [==============================] - 2s 103ms/step - loss: 0.4328 - acc: 0.9842 - val_loss: 39.2245 - val_acc: 0.6955 - lr: 8.0000e-07\n",
      "Epoch 42/1000\n",
      "18/18 [==============================] - 2s 96ms/step - loss: 0.4332 - acc: 0.9842 - val_loss: 39.2419 - val_acc: 0.6955 - lr: 8.0000e-07\n"
     ]
    }
   ],
   "source": [
    "def load_model(): \n",
    "    ann_model = Sequential([\n",
    "        Flatten(input_shape=(IMAGE_WIDTH,IMAGE_HEIGHT,IMAGE_CHANNELS)),\n",
    "        Dense(hidden_layer1, activation =hidden_layers_activation),\n",
    "        Dense(hidden_layer2, activation =hidden_layers_activation),\n",
    "        Dense(hidden_layer3, activation =hidden_layers_activation),\n",
    "        Dense(len(CLASS_NAMES), activation=output_layer_activation),\n",
    "    ])\n",
    "    ann_model.compile(\n",
    "        optimizer= Adam(learning_rate=LEARNING_RATE),\n",
    "        loss=loss_function,\n",
    "        metrics=['acc'],\n",
    "    )\n",
    "    return ann_model\n",
    "\n",
    "ann_model = load_model()\n",
    "history_ann = ann_model.fit(  ds_train,\n",
    "                validation_data = (ds_validation),\n",
    "                epochs = ANN_epochs,\n",
    "                callbacks = [early_stopping , plateau, ANN_model_checkpoint],\n",
    "              )"
   ]
  },
  {
   "cell_type": "code",
   "execution_count": 20,
   "id": "ec293558",
   "metadata": {
    "ExecuteTime": {
     "end_time": "2022-02-08T12:34:04.133600Z",
     "start_time": "2022-02-08T12:34:03.895802Z"
    }
   },
   "outputs": [
    {
     "name": "stdout",
     "output_type": "stream",
     "text": [
      "8/8 [==============================] - 0s 16ms/step - loss: 37.6835 - acc: 0.7243\n"
     ]
    },
    {
     "data": {
      "text/plain": [
       "[37.68349838256836, 0.7242798209190369]"
      ]
     },
     "execution_count": 20,
     "metadata": {},
     "output_type": "execute_result"
    }
   ],
   "source": [
    "ann_model.evaluate(ds_validation)"
   ]
  },
  {
   "cell_type": "markdown",
   "id": "0132b5ac",
   "metadata": {},
   "source": [
    "<a id='7.1'></a>\n",
    "## ANN Loss Curve"
   ]
  },
  {
   "cell_type": "code",
   "execution_count": 24,
   "id": "b8458515",
   "metadata": {
    "ExecuteTime": {
     "end_time": "2022-02-08T12:43:14.861244Z",
     "start_time": "2022-02-08T12:43:14.616037Z"
    }
   },
   "outputs": [
    {
     "data": {
      "image/png": "[encoded data removed]",
      "text/plain": [
       "<Figure size 792x576 with 1 Axes>"
      ]
     },
     "metadata": {
      "needs_background": "light"
     },
     "output_type": "display_data"
    }
   ],
   "source": [
    "plt.figure(figsize=(11,8))\n",
    "loss_train = history_ann.history['loss']\n",
    "loss_val = history_ann.history['val_loss']\n",
    "epochs = range(1,len(loss_train) + 1)\n",
    "plt.plot(epochs, loss_train, 'g', label='Training loss')\n",
    "plt.plot(epochs, loss_val, 'b', label='validation loss')\n",
    "plt.title('Training and Validation loss')\n",
    "plt.xlabel('Epochs')\n",
    "plt.ylabel('Loss')\n",
    "plt.legend()\n",
    "plt.show()"
   ]
  },
  {
   "cell_type": "markdown",
   "id": "cb8cf6b7",
   "metadata": {},
   "source": [
    "## ANN Accuary Curve"
   ]
  },
  {
   "cell_type": "code",
   "execution_count": 25,
   "id": "4b223173",
   "metadata": {
    "ExecuteTime": {
     "end_time": "2022-02-08T12:43:17.746431Z",
     "start_time": "2022-02-08T12:43:17.575994Z"
    }
   },
   "outputs": [
    {
     "data": {
      "image/png": "[encoded data removed]",
      "text/plain": [
       "<Figure size 792x576 with 1 Axes>"
      ]
     },
     "metadata": {
      "needs_background": "light"
     },
     "output_type": "display_data"
    }
   ],
   "source": [
    "plt.figure(figsize=(11,8))\n",
    "val_train = history_ann.history['acc']\n",
    "val_acc = history_ann.history['val_acc']\n",
    "epochs = range(1,len(val_acc)+1)\n",
    "plt.plot(epochs, val_train, 'g', label='Training acc')\n",
    "plt.plot(epochs, val_acc, 'b', label='validation acc')\n",
    "plt.title('Training and Validation acc')\n",
    "plt.xlabel('Epochs')\n",
    "plt.ylabel('Loss')\n",
    "plt.legend()\n",
    "plt.show()"
   ]
  },
  {
   "cell_type": "markdown",
   "id": "b90feff0",
   "metadata": {},
   "source": [
    "<a id='8'></a>\n",
    "# Adjust CNN and it's Parameters"
   ]
  },
  {
   "cell_type": "code",
   "execution_count": 26,
   "id": "1d4f0b40",
   "metadata": {
    "ExecuteTime": {
     "end_time": "2022-02-08T12:43:19.494258Z",
     "start_time": "2022-02-08T12:43:19.489283Z"
    }
   },
   "outputs": [],
   "source": [
    "filters1 = 8\n",
    "filters2 = 16\n",
    "filters3 = 32\n",
    "\n",
    "kernel_size = (3,3)\n",
    "conv_activation = 'relu'\n",
    "\n",
    "pool_size1 = (5,5)\n",
    "pool_size2 = (3,3)\n",
    "pool_size3 = (2,2)\n",
    "\n",
    "hidden_layer1 = 128\n",
    "hidden_layer2 = 64\n",
    "hidden_layer3 = 32\n",
    "\n",
    "hidden_layer_activation = 'relu'\n",
    "output_layer_activation = 'softmax'\n",
    "\n",
    "LEARNING_RATE = 0.0005\n",
    "loss_function = 'categorical_crossentropy'\n",
    "CNN_epochs = 1000\n",
    "batch_size = 15\n",
    "\n",
    "CNN_model_checkpoint = callbacks.ModelCheckpoint('CNN_best_model.h5', monitor='val_loss', mode='min', patience = 10 ,save_best_only=True)"
   ]
  },
  {
   "cell_type": "code",
   "execution_count": 34,
   "id": "3a7a6d37",
   "metadata": {
    "ExecuteTime": {
     "end_time": "2022-02-08T12:51:04.489749Z",
     "start_time": "2022-02-08T12:50:41.536539Z"
    }
   },
   "outputs": [
    {
     "name": "stdout",
     "output_type": "stream",
     "text": [
      "Epoch 1/1000\n",
      "18/18 [==============================] - 2s 77ms/step - loss: 5.5340 - acc: 0.3310 - val_loss: 1.4915 - val_acc: 0.5062 - lr: 5.0000e-04\n",
      "Epoch 2/1000\n",
      "18/18 [==============================] - 1s 69ms/step - loss: 0.9831 - acc: 0.6408 - val_loss: 1.1308 - val_acc: 0.5679 - lr: 5.0000e-04\n",
      "Epoch 3/1000\n",
      "18/18 [==============================] - 1s 74ms/step - loss: 0.5662 - acc: 0.7958 - val_loss: 0.8929 - val_acc: 0.6996 - lr: 5.0000e-04\n",
      "Epoch 4/1000\n",
      "18/18 [==============================] - 1s 74ms/step - loss: 0.3034 - acc: 0.9067 - val_loss: 0.7711 - val_acc: 0.7449 - lr: 5.0000e-04\n",
      "Epoch 5/1000\n",
      "18/18 [==============================] - 1s 74ms/step - loss: 0.1648 - acc: 0.9507 - val_loss: 0.7760 - val_acc: 0.7449 - lr: 5.0000e-04\n",
      "Epoch 6/1000\n",
      "18/18 [==============================] - 1s 74ms/step - loss: 0.0889 - acc: 0.9754 - val_loss: 0.6673 - val_acc: 0.7860 - lr: 5.0000e-04\n",
      "Epoch 7/1000\n",
      "18/18 [==============================] - 1s 73ms/step - loss: 0.0418 - acc: 1.0000 - val_loss: 0.6779 - val_acc: 0.7942 - lr: 5.0000e-04\n",
      "Epoch 8/1000\n",
      "18/18 [==============================] - 1s 73ms/step - loss: 0.0275 - acc: 1.0000 - val_loss: 0.7621 - val_acc: 0.7695 - lr: 5.0000e-04\n",
      "Epoch 9/1000\n",
      "18/18 [==============================] - 1s 72ms/step - loss: 0.0179 - acc: 1.0000 - val_loss: 0.6932 - val_acc: 0.8107 - lr: 5.0000e-04\n",
      "Epoch 10/1000\n",
      "18/18 [==============================] - 1s 74ms/step - loss: 0.0106 - acc: 1.0000 - val_loss: 0.7406 - val_acc: 0.7942 - lr: 5.0000e-04\n",
      "Epoch 11/1000\n",
      "18/18 [==============================] - 1s 75ms/step - loss: 0.0080 - acc: 1.0000 - val_loss: 0.7295 - val_acc: 0.7901 - lr: 1.0000e-04\n",
      "Epoch 12/1000\n",
      "18/18 [==============================] - 1s 76ms/step - loss: 0.0073 - acc: 1.0000 - val_loss: 0.7271 - val_acc: 0.7901 - lr: 1.0000e-04\n",
      "Epoch 13/1000\n",
      "18/18 [==============================] - 1s 75ms/step - loss: 0.0069 - acc: 1.0000 - val_loss: 0.7258 - val_acc: 0.7942 - lr: 1.0000e-04\n",
      "Epoch 14/1000\n",
      "18/18 [==============================] - 1s 80ms/step - loss: 0.0065 - acc: 1.0000 - val_loss: 0.7302 - val_acc: 0.7901 - lr: 1.0000e-04\n",
      "Epoch 15/1000\n",
      "18/18 [==============================] - 1s 76ms/step - loss: 0.0063 - acc: 1.0000 - val_loss: 0.7311 - val_acc: 0.7901 - lr: 2.0000e-05\n",
      "Epoch 16/1000\n",
      "18/18 [==============================] - 1s 75ms/step - loss: 0.0062 - acc: 1.0000 - val_loss: 0.7308 - val_acc: 0.7942 - lr: 2.0000e-05\n"
     ]
    }
   ],
   "source": [
    "def load_model():\n",
    "    cnn_model = Sequential([\n",
    "        Conv2D(filters1, kernel_size = kernel_size,input_shape=(IMAGE_WIDTH,IMAGE_HEIGHT,IMAGE_CHANNEL), activation=conv_activation),\n",
    "        MaxPooling2D(pool_size=pool_size2),\n",
    "        Conv2D(filters2, kernel_size = kernel_size, activation=conv_activation),\n",
    "        MaxPooling2D(pool_size=pool_size3),\n",
    "        Conv2D(filters3, kernel_size = kernel_size, activation= conv_activation),\n",
    "        MaxPooling2D(pool_size=pool_size3),\n",
    "        \n",
    "        Flatten(),\n",
    "        \n",
    "        Dense(hidden_layer1, activation =hidden_layer_activation),\n",
    "        Dense(hidden_layer2, activation =hidden_layer_activation),\n",
    "        Dense(len(CLASS_NAMES), activation=output_layer_activation)    \n",
    "    ])\n",
    "    cnn_model.compile(\n",
    "        Adam(learning_rate=LEARNING_RATE),\n",
    "        loss = loss_function,\n",
    "        metrics = ['acc']\n",
    "    )\n",
    "    return cnn_model\n",
    "\n",
    "\n",
    "\n",
    "cnn_model = load_model()\n",
    "history_cnn = cnn_model.fit(  ds_train,\n",
    "                validation_data = (ds_validation),\n",
    "                epochs = CNN_epochs,\n",
    "                callbacks = [early_stopping , plateau, CNN_model_checkpoint],\n",
    "              )\n"
   ]
  },
  {
   "cell_type": "code",
   "execution_count": 37,
   "id": "a806f774",
   "metadata": {
    "ExecuteTime": {
     "end_time": "2022-02-08T12:51:39.357959Z",
     "start_time": "2022-02-08T12:51:39.080003Z"
    }
   },
   "outputs": [
    {
     "name": "stdout",
     "output_type": "stream",
     "text": [
      "8/8 [==============================] - 0s 18ms/step - loss: 0.6673 - acc: 0.7860\n"
     ]
    },
    {
     "data": {
      "text/plain": [
       "[0.6672576069831848, 0.7860082387924194]"
      ]
     },
     "execution_count": 37,
     "metadata": {},
     "output_type": "execute_result"
    }
   ],
   "source": [
    "cnn_model.evaluate(ds_validation)"
   ]
  },
  {
   "cell_type": "markdown",
   "id": "5f31e0fc",
   "metadata": {},
   "source": [
    "<a id='8.1'></a>\n",
    "## CNN Lose Curve"
   ]
  },
  {
   "cell_type": "code",
   "execution_count": 35,
   "id": "45e954ca",
   "metadata": {
    "ExecuteTime": {
     "end_time": "2022-02-08T12:51:04.662308Z",
     "start_time": "2022-02-08T12:51:04.490757Z"
    }
   },
   "outputs": [
    {
     "data": {
      "image/png": "[encoded data removed]",
      "text/plain": [
       "<Figure size 792x576 with 1 Axes>"
      ]
     },
     "metadata": {
      "needs_background": "light"
     },
     "output_type": "display_data"
    }
   ],
   "source": [
    "plt.figure(figsize=(11,8))\n",
    "loss_train = history_cnn.history['loss']\n",
    "loss_val = history_cnn.history['val_loss']\n",
    "epochs = range(1,len(loss_train) + 1)\n",
    "plt.plot(epochs, loss_train, 'g', label='Training loss')\n",
    "plt.plot(epochs, loss_val, 'b', label='validation loss')\n",
    "plt.title('Training and Validation loss')\n",
    "plt.xlabel('Epochs')\n",
    "plt.ylabel('Loss')\n",
    "plt.legend()\n",
    "plt.show()"
   ]
  },
  {
   "cell_type": "markdown",
   "id": "18099d36",
   "metadata": {},
   "source": [
    "<a id='8.2'></a>\n",
    "## CNN Accuarcy Curve"
   ]
  },
  {
   "cell_type": "code",
   "execution_count": 36,
   "id": "d9cee97b",
   "metadata": {
    "ExecuteTime": {
     "end_time": "2022-02-08T12:51:04.849160Z",
     "start_time": "2022-02-08T12:51:04.666297Z"
    }
   },
   "outputs": [
    {
     "data": {
      "image/png": "[encoded data removed]",
      "text/plain": [
       "<Figure size 792x576 with 1 Axes>"
      ]
     },
     "metadata": {
      "needs_background": "light"
     },
     "output_type": "display_data"
    }
   ],
   "source": [
    "plt.figure(figsize=(11,8))\n",
    "acc_train = history_cnn.history['acc']\n",
    "acc_val = history_cnn.history['val_acc']\n",
    "epochs = range(1,len(acc_train) + 1)\n",
    "plt.plot(epochs, acc_train, 'g', label='Training Accuarcy')\n",
    "plt.plot(epochs, acc_val, 'b', label='validation Accuarcy')\n",
    "plt.title('Training and Validation Accuarcy')\n",
    "plt.xlabel('Epochs')\n",
    "plt.ylabel('Loss')\n",
    "plt.legend()\n",
    "plt.show()"
   ]
  },
  {
   "cell_type": "code",
   "execution_count": null,
   "id": "31519dda",
   "metadata": {},
   "outputs": [],
   "source": []
  },
  {
   "cell_type": "code",
   "execution_count": null,
   "id": "c479725f",
   "metadata": {},
   "outputs": [],
   "source": []
  }
 ],
 "metadata": {
  "kernelspec": {
   "display_name": "Python 3",
   "language": "python",
   "name": "python3"
  },
  "language_info": {
   "codemirror_mode": {
    "name": "ipython",
    "version": 3
   },
   "file_extension": ".py",
   "mimetype": "text/x-python",
   "name": "python",
   "nbconvert_exporter": "python",
   "pygments_lexer": "ipython3",
   "version": "3.8.8"
  },
  "toc": {
   "base_numbering": 1,
   "nav_menu": {},
   "number_sections": true,
   "sideBar": true,
   "skip_h1_title": false,
   "title_cell": "Table of Contents",
   "title_sidebar": "Contents",
   "toc_cell": false,
   "toc_position": {},
   "toc_section_display": true,
   "toc_window_display": false
  }
 },
 "nbformat": 4,
 "nbformat_minor": 5
}
